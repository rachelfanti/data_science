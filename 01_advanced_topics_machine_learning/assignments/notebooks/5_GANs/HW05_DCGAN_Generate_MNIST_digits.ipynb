{
 "cells": [
  {
   "cell_type": "markdown",
   "metadata": {},
   "source": [
    "# Homework05: MNIST Deep Convolutional GAN to Generate MNIST digits"
   ]
  },
  {
   "cell_type": "code",
   "execution_count": 1,
   "metadata": {},
   "outputs": [],
   "source": [
    "import numpy\n",
    "import tensorflow\n",
    "from tensorflow.keras.datasets import imdb\n",
    "from tensorflow.keras.models import Sequential, Model\n",
    "from tensorflow.keras.layers import Dense, Dropout\n",
    "from tensorflow.keras.layers import LSTM, SimpleRNN, Input\n",
    "from tensorflow.keras.layers import Embedding, BatchNormalization\n",
    "from tensorflow.keras.layers import Flatten, Reshape\n",
    "from tensorflow.keras.preprocessing import sequence\n",
    "from tensorflow.keras.layers import Conv1D, Conv2D\n",
    "from tensorflow.keras.layers import MaxPooling1D, Conv2DTranspose\n",
    "from tensorflow.keras.layers import Embedding\n",
    "import numpy as np\n",
    "import matplotlib.pyplot as plt\n",
    "from tensorflow.keras.layers import LeakyReLU\n",
    "from tensorflow.keras.optimizers import Adam\n",
    "\n",
    "from tqdm.notebook import tqdm\n",
    "\n",
    "from scipy import stats\n",
    "# fix random seed for reproducibility\n",
    "numpy.random.seed(1)"
   ]
  },
  {
   "cell_type": "markdown",
   "metadata": {},
   "source": [
    "#### Homework 05\n",
    "\n",
    "1. Adapt the MNIST GAN implementation (see Lab09) to build CNN models instead of feedforwards.\n",
    "2. Try different noise dimensions\n",
    "3. Try implementing some training tricks suggested in https://github.com/soumith/ganhacks and study incremental improvements."
   ]
  },
  {
   "cell_type": "markdown",
   "metadata": {},
   "source": [
    "#### Load Data\n"
   ]
  },
  {
   "cell_type": "code",
   "execution_count": 3,
   "metadata": {},
   "outputs": [],
   "source": [
    "import tensorflow\n",
    "from tensorflow.keras.datasets.mnist import load_data\n",
    "(X_train, Y_train), (X_test ,Y_test) = load_data()\n",
    "\n",
    "\n",
    "def preprocess(data):\n",
    "    result = (data - np.min(data)) / (np.max(data) - np.min(data))\n",
    "    return np.expand_dims(result, axis=-1)\n",
    "\n",
    "\n",
    "X_train = preprocess(X_train)\n",
    "X_test = preprocess(X_test)\n",
    "\n",
    "z_dim = 100"
   ]
  },
  {
   "cell_type": "markdown",
   "metadata": {},
   "source": [
    "#### Summarize the data"
   ]
  },
  {
   "cell_type": "code",
   "execution_count": 4,
   "metadata": {},
   "outputs": [
    {
     "name": "stdout",
     "output_type": "stream",
     "text": [
      "Train (60000, 28, 28, 1) (60000,)\n",
      "Test (10000, 28, 28, 1) (10000,)\n"
     ]
    }
   ],
   "source": [
    "print('Train', X_train.shape, Y_train.shape) #Train (60000, 28, 28) (60000,)\n",
    "print('Test', X_test.shape, Y_test.shape) #Test (10000, 28, 28) (10000,)"
   ]
  },
  {
   "cell_type": "markdown",
   "metadata": {},
   "source": [
    "#### Build model"
   ]
  },
  {
   "cell_type": "code",
   "execution_count": 7,
   "metadata": {},
   "outputs": [],
   "source": [
    "#GENERATOR\n",
    "g = Sequential([\n",
    "Dense(7 * 7 * 128, input_shape=(z_dim,)),\n",
    "Reshape([7, 7, 128]),\n",
    "BatchNormalization(),\n",
    "Conv2DTranspose(64, kernel_size=5, strides=2, padding=\"same\",activation=\"selu\"),\n",
    "BatchNormalization(),\n",
    "Conv2DTranspose(1, kernel_size=5, strides=2, padding=\"same\",activation=\"tanh\")\n",
    "])\n",
    "\n",
    "g.compile(loss='binary_crossentropy', optimizer=\"rmsprop\", metrics=['accuracy'])\n",
    "\n",
    "\n",
    "#DISCRIMINATOR\n",
    "d = Sequential([\n",
    "Conv2D(64, kernel_size=5, strides=2, padding=\"same\", activation=LeakyReLU(0.2), input_shape=[28, 28, 1]), Dropout(0.4),\n",
    "Conv2D(128, kernel_size=5, strides=2, padding=\"same\",activation=LeakyReLU(0.2)), Dropout(0.4),Flatten(),\n",
    "Dense(1, activation=\"sigmoid\")\n",
    "])\n",
    "\n",
    "\n",
    "opt = Adam(learning_rate=0.01)\n",
    "d.compile(loss=\"binary_crossentropy\", optimizer=opt)\n",
    "\n",
    "\n",
    "\n",
    "#GAN\n",
    "d.trainable = False\n",
    "inputs = Input(shape=(z_dim, ))\n",
    "hidden = g(inputs)\n",
    "output = d(hidden)\n",
    "gan = Model(inputs, output)\n",
    "gan.compile(loss='binary_crossentropy', optimizer='SGD')"
   ]
  },
  {
   "cell_type": "markdown",
   "metadata": {},
   "source": [
    "#### Visualization"
   ]
  },
  {
   "cell_type": "code",
   "execution_count": 8,
   "metadata": {},
   "outputs": [],
   "source": [
    "def plot_loss(losses):\n",
    "    \"\"\"\n",
    "    @losses.keys():\n",
    "        0: loss\n",
    "        1: accuracy\n",
    "    \"\"\"\n",
    "    d_loss = [v[0] for v in losses[\"D\"]]\n",
    "    g_loss = [v[0] for v in losses[\"G\"]]\n",
    "    \n",
    "    plt.figure(figsize=(10,8))\n",
    "    plt.plot(d_loss, label=\"Discriminator loss\")\n",
    "    plt.plot(g_loss, label=\"Generator loss\")\n",
    "    plt.xlabel('Epochs')\n",
    "    plt.ylabel('Loss')\n",
    "    plt.legend()\n",
    "    plt.show()\n",
    "    \n",
    "def plot_generated(n_ex=10, dim=(1, 10), figsize=(12, 2)):\n",
    "    noise = np.random.normal(0, 1, size=(n_ex, z_dim))\n",
    "    generated_images = g.predict(noise)\n",
    "    generated_images = generated_images.reshape(n_ex, 28, 28)\n",
    "\n",
    "    plt.figure(figsize=figsize)\n",
    "    for i in range(generated_images.shape[0]):\n",
    "        plt.subplot(dim[0], dim[1], i+1)\n",
    "        plt.imshow(generated_images[i], interpolation='nearest', cmap='gray_r')\n",
    "        plt.axis('off')\n",
    "    plt.tight_layout()\n",
    "    plt.show()"
   ]
  },
  {
   "cell_type": "markdown",
   "metadata": {},
   "source": [
    "#### Train the model"
   ]
  },
  {
   "cell_type": "code",
   "execution_count": 13,
   "metadata": {},
   "outputs": [],
   "source": [
    "losses = {\"D\":[], \"G\":[]}\n",
    "\n",
    "def train(epochs=1, plt_frq=1, BATCH_SIZE=128):\n",
    "    batchCount = int(X_train.shape[0] / BATCH_SIZE)\n",
    "    print('Epochs:', epochs)\n",
    "    print('Batch size:', BATCH_SIZE)\n",
    "    print('Batches per epoch:', batchCount)\n",
    "    \n",
    "    for e in tqdm(range(1, epochs+1)):\n",
    "        if e == 1 or e%plt_frq == 0:\n",
    "            print('-'*15, 'Epoch %d' % e, '-'*15)\n",
    "        for _ in range(batchCount):  # tqdm_notebook(range(batchCount), leave=False):\n",
    "            \n",
    "            # Create a batch by drawing random index numbers from the training set\n",
    "            image_batch = X_train[np.random.randint(0, X_train.shape[0], size=BATCH_SIZE)]\n",
    "            \n",
    "            # Create noise vectors for the generator\n",
    "            noise = np.random.normal(0, 1, size=(BATCH_SIZE, z_dim))\n",
    "            # Generate the images from the noise\n",
    "            \n",
    "            generated_images = g.predict(noise)\n",
    "            X = np.concatenate((image_batch, generated_images))\n",
    "\n",
    "            # Create Y labels similar to last exercise.\n",
    "            y1 = np.zeros(2*BATCH_SIZE)\n",
    "            y1[:BATCH_SIZE] =1 \n",
    "\n",
    "            # Train gan and disrciminator similar to last exercise.\n",
    "            ##YOUR CODE HERE###\n",
    "            d.trainable = True\n",
    "            d_loss = d.train_on_batch(X, y1)\n",
    "            \n",
    "            noise = np.random.normal(0, 1, size=(BATCH_SIZE, z_dim))\n",
    "            y2 = np.ones(BATCH_SIZE)\n",
    "            d.trainable = False\n",
    "            g_loss = gan.train_on_batch(noise, y2)\n",
    "            \n",
    "        \n",
    "        print('test')\n",
    "        # Only store losses from final\n",
    "        losses[\"D\"].append(d_loss)\n",
    "        losses[\"G\"].append(g_loss)\n",
    "\n",
    "        # Update the plots\n",
    "        if e == 1 or e%plt_frq == 0:\n",
    "            plot_generated()\n",
    "    plot_loss(losses)"
   ]
  },
  {
   "cell_type": "code",
   "execution_count": null,
   "metadata": {},
   "outputs": [
    {
     "data": {
      "application/vnd.jupyter.widget-view+json": {
       "model_id": "e278f70089184a4a8736c7ce9e7dc783",
       "version_major": 2,
       "version_minor": 0
      },
      "text/plain": [
       "HBox(children=(FloatProgress(value=0.0), HTML(value='')))"
      ]
     },
     "metadata": {},
     "output_type": "display_data"
    },
    {
     "name": "stdout",
     "output_type": "stream",
     "text": [
      "--------------- Epoch 1 ---------------\n"
     ]
    },
    {
     "data": {
      "image/png": "[encoded data removed]",
      "text/plain": [
       "<Figure size 864x144 with 10 Axes>"
      ]
     },
     "metadata": {
      "needs_background": "light"
     },
     "output_type": "display_data"
    },
    {
     "name": "stdout",
     "output_type": "stream",
     "text": [
      "--------------- Epoch 40 ---------------\n"
     ]
    }
   ],
   "source": [
    "train(epochs=100, plt_frq=40, BATCH_SIZE=128)"
   ]
  }
 ],
 "metadata": {
  "kernelspec": {
   "display_name": "Python 3 (ipykernel)",
   "language": "python",
   "name": "python3"
  },
  "language_info": {
   "codemirror_mode": {
    "name": "ipython",
    "version": 3
   },
   "file_extension": ".py",
   "mimetype": "text/x-python",
   "name": "python",
   "nbconvert_exporter": "python",
   "pygments_lexer": "ipython3",
   "version": "3.8.12"
  }
 },
 "nbformat": 4,
 "nbformat_minor": 2
}
