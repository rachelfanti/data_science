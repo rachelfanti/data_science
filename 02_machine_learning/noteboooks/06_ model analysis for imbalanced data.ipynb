{
 "cells": [
  {
   "cell_type": "markdown",
   "metadata": {},
   "source": [
    "# Machine Learning Project\n",
    "\n",
    "### Company Bankruptcy Prediction\n",
    "\n",
    "Names:    \n",
    "    - Denis Mugisha   \n",
    "    - Liu Guangqiang   \n",
    "    - Rachel Fanti   \n",
    "    \n",
    "Dataset: https://www.kaggle.com/fedesoriano/company-bankruptcy-prediction\n",
    "\n",
    "Data: May/2021\n",
    "\n",
    "## Libraries"
   ]
  },
  {
   "cell_type": "code",
   "execution_count": 88,
   "metadata": {
    "cell_id": "00000-eac440dc-0b4f-4515-8b69-9cb45fed7fac",
    "deepnote_cell_type": "code",
    "deepnote_to_be_reexecuted": false,
    "execution_millis": 137185,
    "execution_start": 1620935318028,
    "source_hash": "60a8932f",
    "tags": []
   },
   "outputs": [],
   "source": [
    "#!pip install imblearn\n",
    "#!pip install pydotplus==2.0.2"
   ]
  },
  {
   "cell_type": "code",
   "execution_count": 89,
   "metadata": {
    "cell_id": "00000-5773c5ac-67c1-4e32-bc15-eb541c05e95f",
    "deepnote_cell_type": "code",
    "deepnote_to_be_reexecuted": false,
    "execution_millis": 1131,
    "execution_start": 1620935318033,
    "source_hash": "85730931"
   },
   "outputs": [],
   "source": [
    "# Basics\n",
    "import pandas as pd\n",
    "import numpy as np\n",
    "import matplotlib.pyplot as plt\n",
    "import seaborn as sns\n",
    "\n",
    "# Statistic funtions\n",
    "from collections import Counter\n",
    "\n",
    "# Preprocessing\n",
    "from sklearn.model_selection import train_test_split \n",
    "from sklearn.preprocessing import StandardScaler\n",
    "from sklearn.model_selection import cross_validate\n",
    "from sklearn.pipeline import make_pipeline\n",
    "\n",
    "# Models\n",
    "from sklearn.linear_model import LogisticRegression\n",
    "from sklearn.tree import DecisionTreeClassifier\n",
    "from sklearn.ensemble import RandomForestClassifier\n",
    "\n",
    "# Evaluation of the model\n",
    "from sklearn import metrics\n",
    "from sklearn.metrics import balanced_accuracy_score\n",
    "\n",
    "# To handle imbalanced data\n",
    "from imblearn.pipeline import make_pipeline as make_pipeline_with_sampler\n",
    "from imblearn.over_sampling import RandomOverSampler\n",
    "\n",
    "from ipynb.fs.full.evaluation_functions import evaluation_scenario, plot_roc_curve, print_confusion_matrix"
   ]
  },
  {
   "cell_type": "markdown",
   "metadata": {},
   "source": [
    "## Reading data"
   ]
  },
  {
   "cell_type": "code",
   "execution_count": 90,
   "metadata": {
    "cell_id": "00003-fb2eec6a-1fce-4f3a-8605-da6eb32290b2",
    "deepnote_cell_type": "code",
    "deepnote_to_be_reexecuted": false,
    "execution_millis": 192,
    "execution_start": 1620935319168,
    "id": "e81fcw-3xB-O",
    "source_hash": "48047e01"
   },
   "outputs": [
    {
     "data": {
      "text/html": [
       "<div>\n",
       "<style scoped>\n",
       "    .dataframe tbody tr th:only-of-type {\n",
       "        vertical-align: middle;\n",
       "    }\n",
       "\n",
       "    .dataframe tbody tr th {\n",
       "        vertical-align: top;\n",
       "    }\n",
       "\n",
       "    .dataframe thead th {\n",
       "        text-align: right;\n",
       "    }\n",
       "</style>\n",
       "<table border=\"1\" class=\"dataframe\">\n",
       "  <thead>\n",
       "    <tr style=\"text-align: right;\">\n",
       "      <th></th>\n",
       "      <th>Unnamed: 0</th>\n",
       "      <th>features</th>\n",
       "      <th>importance</th>\n",
       "      <th>select_tree</th>\n",
       "      <th>rank_rfecv</th>\n",
       "      <th>selected_rfecv</th>\n",
       "      <th>corr</th>\n",
       "    </tr>\n",
       "  </thead>\n",
       "  <tbody>\n",
       "    <tr>\n",
       "      <th>0</th>\n",
       "      <td>47</td>\n",
       "      <td>Inventory Turnover Rate (times)</td>\n",
       "      <td>0.001875</td>\n",
       "      <td>True</td>\n",
       "      <td>1</td>\n",
       "      <td>True</td>\n",
       "      <td>0.012556</td>\n",
       "    </tr>\n",
       "    <tr>\n",
       "      <th>1</th>\n",
       "      <td>71</td>\n",
       "      <td>Quick Asset Turnover Rate</td>\n",
       "      <td>0.000000</td>\n",
       "      <td>True</td>\n",
       "      <td>1</td>\n",
       "      <td>True</td>\n",
       "      <td>0.036946</td>\n",
       "    </tr>\n",
       "    <tr>\n",
       "      <th>2</th>\n",
       "      <td>61</td>\n",
       "      <td>Inventory/Working Capital</td>\n",
       "      <td>0.025644</td>\n",
       "      <td>True</td>\n",
       "      <td>1</td>\n",
       "      <td>True</td>\n",
       "      <td>0.055539</td>\n",
       "    </tr>\n",
       "    <tr>\n",
       "      <th>3</th>\n",
       "      <td>56</td>\n",
       "      <td>Cash/Total Assets</td>\n",
       "      <td>0.023681</td>\n",
       "      <td>True</td>\n",
       "      <td>1</td>\n",
       "      <td>True</td>\n",
       "      <td>0.150828</td>\n",
       "    </tr>\n",
       "    <tr>\n",
       "      <th>4</th>\n",
       "      <td>55</td>\n",
       "      <td>Current Assets/Total Assets</td>\n",
       "      <td>0.003832</td>\n",
       "      <td>True</td>\n",
       "      <td>1</td>\n",
       "      <td>True</td>\n",
       "      <td>0.044232</td>\n",
       "    </tr>\n",
       "    <tr>\n",
       "      <th>...</th>\n",
       "      <td>...</td>\n",
       "      <td>...</td>\n",
       "      <td>...</td>\n",
       "      <td>...</td>\n",
       "      <td>...</td>\n",
       "      <td>...</td>\n",
       "      <td>...</td>\n",
       "    </tr>\n",
       "    <tr>\n",
       "      <th>90</th>\n",
       "      <td>2</td>\n",
       "      <td>ROA(B) before interest and depreciation after...</td>\n",
       "      <td>0.000000</td>\n",
       "      <td>False</td>\n",
       "      <td>71</td>\n",
       "      <td>False</td>\n",
       "      <td>0.224163</td>\n",
       "    </tr>\n",
       "    <tr>\n",
       "      <th>91</th>\n",
       "      <td>48</td>\n",
       "      <td>Fixed Assets Turnover Frequency</td>\n",
       "      <td>0.000000</td>\n",
       "      <td>True</td>\n",
       "      <td>72</td>\n",
       "      <td>False</td>\n",
       "      <td>0.047546</td>\n",
       "    </tr>\n",
       "    <tr>\n",
       "      <th>92</th>\n",
       "      <td>32</td>\n",
       "      <td>Current Ratio</td>\n",
       "      <td>0.000000</td>\n",
       "      <td>False</td>\n",
       "      <td>73</td>\n",
       "      <td>False</td>\n",
       "      <td>0.189644</td>\n",
       "    </tr>\n",
       "    <tr>\n",
       "      <th>93</th>\n",
       "      <td>1</td>\n",
       "      <td>ROA(A) before interest and % after tax</td>\n",
       "      <td>0.000000</td>\n",
       "      <td>False</td>\n",
       "      <td>74</td>\n",
       "      <td>False</td>\n",
       "      <td>0.222410</td>\n",
       "    </tr>\n",
       "    <tr>\n",
       "      <th>94</th>\n",
       "      <td>0</td>\n",
       "      <td>ROA(C) before interest and depreciation befor...</td>\n",
       "      <td>0.008929</td>\n",
       "      <td>False</td>\n",
       "      <td>75</td>\n",
       "      <td>False</td>\n",
       "      <td>0.223589</td>\n",
       "    </tr>\n",
       "  </tbody>\n",
       "</table>\n",
       "<p>95 rows × 7 columns</p>\n",
       "</div>"
      ],
      "text/plain": [
       "    Unnamed: 0                                           features  importance  \\\n",
       "0           47                    Inventory Turnover Rate (times)    0.001875   \n",
       "1           71                          Quick Asset Turnover Rate    0.000000   \n",
       "2           61                          Inventory/Working Capital    0.025644   \n",
       "3           56                                  Cash/Total Assets    0.023681   \n",
       "4           55                        Current Assets/Total Assets    0.003832   \n",
       "..         ...                                                ...         ...   \n",
       "90           2   ROA(B) before interest and depreciation after...    0.000000   \n",
       "91          48                    Fixed Assets Turnover Frequency    0.000000   \n",
       "92          32                                      Current Ratio    0.000000   \n",
       "93           1             ROA(A) before interest and % after tax    0.000000   \n",
       "94           0   ROA(C) before interest and depreciation befor...    0.008929   \n",
       "\n",
       "    select_tree  rank_rfecv  selected_rfecv      corr  \n",
       "0          True           1            True  0.012556  \n",
       "1          True           1            True  0.036946  \n",
       "2          True           1            True  0.055539  \n",
       "3          True           1            True  0.150828  \n",
       "4          True           1            True  0.044232  \n",
       "..          ...         ...             ...       ...  \n",
       "90        False          71           False  0.224163  \n",
       "91         True          72           False  0.047546  \n",
       "92        False          73           False  0.189644  \n",
       "93        False          74           False  0.222410  \n",
       "94        False          75           False  0.223589  \n",
       "\n",
       "[95 rows x 7 columns]"
      ]
     },
     "execution_count": 90,
     "metadata": {},
     "output_type": "execute_result"
    }
   ],
   "source": [
    "# load dataset\n",
    "bankrupt = pd.read_csv('./data/data.csv', header=0)\n",
    "df_feat = pd.read_csv('./data/bankruptcy.csv')\n",
    "df_feat"
   ]
  },
  {
   "cell_type": "code",
   "execution_count": 91,
   "metadata": {
    "cell_id": "00004-5818fa64-c7db-41ba-b315-bdfa8a9c2124",
    "colab": {
     "base_uri": "https://localhost:8080/",
     "height": 430
    },
    "deepnote_cell_type": "code",
    "deepnote_to_be_reexecuted": false,
    "execution_millis": 11,
    "execution_start": 1620935319357,
    "id": "GOozX683xB-P",
    "outputId": "503dddb0-b3f3-4ae9-d7d2-c2e8101a2640",
    "source_hash": "99e05c2f"
   },
   "outputs": [
    {
     "data": {
      "text/plain": [
       "array(['Bankrupt?', ' Inventory Turnover Rate (times)',\n",
       "       ' Quick Asset Turnover Rate', ' Inventory/Working Capital',\n",
       "       ' Cash/Total Assets', ' Current Assets/Total Assets',\n",
       "       ' Allocation rate per person',\n",
       "       ' Net profit before tax/Paid-in capital', ' Borrowing dependency',\n",
       "       ' Net worth/Assets', ' Interest Expense Ratio',\n",
       "       ' Cash Reinvestment %', ' Net Value Growth Rate',\n",
       "       ' Net Value Per Share (B)', ' Current Liability to Current Assets',\n",
       "       ' Interest-bearing debt interest rate',\n",
       "       \" Net Income to Stockholder's Equity\",\n",
       "       ' Degree of Financial Leverage (DFL)',\n",
       "       ' Total assets to GNP price',\n",
       "       ' Non-industry income and expenditure/revenue',\n",
       "       ' Operating Expense Rate',\n",
       "       ' Research and development expense rate'], dtype=object)"
      ]
     },
     "execution_count": 91,
     "metadata": {},
     "output_type": "execute_result"
    }
   ],
   "source": [
    "# Select the features to train the model.\n",
    "col = df_feat[df_feat['selected_rfecv']==True]['features'].values\n",
    "col = np.insert(col, 0, 'Bankrupt?')\n",
    "col"
   ]
  },
  {
   "cell_type": "code",
   "execution_count": 92,
   "metadata": {
    "cell_id": "00004-49d2500b-0f87-4016-a263-778b604b8be3",
    "deepnote_cell_type": "code",
    "deepnote_to_be_reexecuted": false,
    "execution_millis": 119,
    "execution_start": 1620935319375,
    "source_hash": "1677862f"
   },
   "outputs": [
    {
     "data": {
      "text/html": [
       "<div>\n",
       "<style scoped>\n",
       "    .dataframe tbody tr th:only-of-type {\n",
       "        vertical-align: middle;\n",
       "    }\n",
       "\n",
       "    .dataframe tbody tr th {\n",
       "        vertical-align: top;\n",
       "    }\n",
       "\n",
       "    .dataframe thead th {\n",
       "        text-align: right;\n",
       "    }\n",
       "</style>\n",
       "<table border=\"1\" class=\"dataframe\">\n",
       "  <thead>\n",
       "    <tr style=\"text-align: right;\">\n",
       "      <th></th>\n",
       "      <th>Bankrupt?</th>\n",
       "      <th>Inventory Turnover Rate (times)</th>\n",
       "      <th>Quick Asset Turnover Rate</th>\n",
       "      <th>Inventory/Working Capital</th>\n",
       "      <th>Cash/Total Assets</th>\n",
       "      <th>Current Assets/Total Assets</th>\n",
       "      <th>Allocation rate per person</th>\n",
       "      <th>Net profit before tax/Paid-in capital</th>\n",
       "      <th>Borrowing dependency</th>\n",
       "      <th>Net worth/Assets</th>\n",
       "      <th>...</th>\n",
       "      <th>Net Value Growth Rate</th>\n",
       "      <th>Net Value Per Share (B)</th>\n",
       "      <th>Current Liability to Current Assets</th>\n",
       "      <th>Interest-bearing debt interest rate</th>\n",
       "      <th>Net Income to Stockholder's Equity</th>\n",
       "      <th>Degree of Financial Leverage (DFL)</th>\n",
       "      <th>Total assets to GNP price</th>\n",
       "      <th>Non-industry income and expenditure/revenue</th>\n",
       "      <th>Operating Expense Rate</th>\n",
       "      <th>Research and development expense rate</th>\n",
       "    </tr>\n",
       "  </thead>\n",
       "  <tbody>\n",
       "    <tr>\n",
       "      <th>0</th>\n",
       "      <td>1</td>\n",
       "      <td>1.820926e-04</td>\n",
       "      <td>6.550000e+09</td>\n",
       "      <td>0.276920</td>\n",
       "      <td>0.004094</td>\n",
       "      <td>0.190643</td>\n",
       "      <td>0.037135</td>\n",
       "      <td>0.137757</td>\n",
       "      <td>0.390284</td>\n",
       "      <td>0.792424</td>\n",
       "      <td>...</td>\n",
       "      <td>0.000327</td>\n",
       "      <td>0.147950</td>\n",
       "      <td>0.118250</td>\n",
       "      <td>7.250725e-04</td>\n",
       "      <td>0.827890</td>\n",
       "      <td>0.026601</td>\n",
       "      <td>0.009219</td>\n",
       "      <td>0.302646</td>\n",
       "      <td>1.256969e-04</td>\n",
       "      <td>0.000000e+00</td>\n",
       "    </tr>\n",
       "    <tr>\n",
       "      <th>1</th>\n",
       "      <td>1</td>\n",
       "      <td>9.360000e+09</td>\n",
       "      <td>7.700000e+09</td>\n",
       "      <td>0.289642</td>\n",
       "      <td>0.014948</td>\n",
       "      <td>0.182419</td>\n",
       "      <td>0.012335</td>\n",
       "      <td>0.168962</td>\n",
       "      <td>0.376760</td>\n",
       "      <td>0.828824</td>\n",
       "      <td>...</td>\n",
       "      <td>0.000443</td>\n",
       "      <td>0.182251</td>\n",
       "      <td>0.047775</td>\n",
       "      <td>6.470647e-04</td>\n",
       "      <td>0.839969</td>\n",
       "      <td>0.264577</td>\n",
       "      <td>0.008323</td>\n",
       "      <td>0.303556</td>\n",
       "      <td>2.897851e-04</td>\n",
       "      <td>0.000000e+00</td>\n",
       "    </tr>\n",
       "    <tr>\n",
       "      <th>2</th>\n",
       "      <td>1</td>\n",
       "      <td>6.500000e+07</td>\n",
       "      <td>1.022676e-03</td>\n",
       "      <td>0.277456</td>\n",
       "      <td>0.000991</td>\n",
       "      <td>0.602806</td>\n",
       "      <td>0.141016</td>\n",
       "      <td>0.148036</td>\n",
       "      <td>0.379093</td>\n",
       "      <td>0.792484</td>\n",
       "      <td>...</td>\n",
       "      <td>0.000396</td>\n",
       "      <td>0.177911</td>\n",
       "      <td>0.025346</td>\n",
       "      <td>7.900790e-04</td>\n",
       "      <td>0.836774</td>\n",
       "      <td>0.026555</td>\n",
       "      <td>0.040003</td>\n",
       "      <td>0.302035</td>\n",
       "      <td>2.361297e-04</td>\n",
       "      <td>2.550000e+07</td>\n",
       "    </tr>\n",
       "    <tr>\n",
       "      <th>3</th>\n",
       "      <td>1</td>\n",
       "      <td>7.130000e+09</td>\n",
       "      <td>6.050000e+09</td>\n",
       "      <td>0.276580</td>\n",
       "      <td>0.018851</td>\n",
       "      <td>0.225815</td>\n",
       "      <td>0.021320</td>\n",
       "      <td>0.147561</td>\n",
       "      <td>0.379743</td>\n",
       "      <td>0.848535</td>\n",
       "      <td>...</td>\n",
       "      <td>0.000382</td>\n",
       "      <td>0.154187</td>\n",
       "      <td>0.067250</td>\n",
       "      <td>4.490449e-04</td>\n",
       "      <td>0.834697</td>\n",
       "      <td>0.026697</td>\n",
       "      <td>0.003252</td>\n",
       "      <td>0.303350</td>\n",
       "      <td>1.078888e-04</td>\n",
       "      <td>0.000000e+00</td>\n",
       "    </tr>\n",
       "    <tr>\n",
       "      <th>4</th>\n",
       "      <td>1</td>\n",
       "      <td>1.633674e-04</td>\n",
       "      <td>5.050000e+09</td>\n",
       "      <td>0.287913</td>\n",
       "      <td>0.014161</td>\n",
       "      <td>0.358380</td>\n",
       "      <td>0.023988</td>\n",
       "      <td>0.167461</td>\n",
       "      <td>0.375025</td>\n",
       "      <td>0.893491</td>\n",
       "      <td>...</td>\n",
       "      <td>0.000439</td>\n",
       "      <td>0.167502</td>\n",
       "      <td>0.047725</td>\n",
       "      <td>6.860686e-04</td>\n",
       "      <td>0.839973</td>\n",
       "      <td>0.024752</td>\n",
       "      <td>0.003878</td>\n",
       "      <td>0.303475</td>\n",
       "      <td>7.890000e+09</td>\n",
       "      <td>0.000000e+00</td>\n",
       "    </tr>\n",
       "    <tr>\n",
       "      <th>...</th>\n",
       "      <td>...</td>\n",
       "      <td>...</td>\n",
       "      <td>...</td>\n",
       "      <td>...</td>\n",
       "      <td>...</td>\n",
       "      <td>...</td>\n",
       "      <td>...</td>\n",
       "      <td>...</td>\n",
       "      <td>...</td>\n",
       "      <td>...</td>\n",
       "      <td>...</td>\n",
       "      <td>...</td>\n",
       "      <td>...</td>\n",
       "      <td>...</td>\n",
       "      <td>...</td>\n",
       "      <td>...</td>\n",
       "      <td>...</td>\n",
       "      <td>...</td>\n",
       "      <td>...</td>\n",
       "      <td>...</td>\n",
       "      <td>...</td>\n",
       "    </tr>\n",
       "    <tr>\n",
       "      <th>6814</th>\n",
       "      <td>0</td>\n",
       "      <td>4.030000e+07</td>\n",
       "      <td>1.244230e-04</td>\n",
       "      <td>0.277543</td>\n",
       "      <td>0.099481</td>\n",
       "      <td>0.578455</td>\n",
       "      <td>0.006312</td>\n",
       "      <td>0.171111</td>\n",
       "      <td>0.373823</td>\n",
       "      <td>0.875382</td>\n",
       "      <td>...</td>\n",
       "      <td>0.000450</td>\n",
       "      <td>0.175045</td>\n",
       "      <td>0.027951</td>\n",
       "      <td>1.790179e-04</td>\n",
       "      <td>0.840359</td>\n",
       "      <td>0.027064</td>\n",
       "      <td>0.000466</td>\n",
       "      <td>0.303510</td>\n",
       "      <td>1.510213e-04</td>\n",
       "      <td>4.500000e+09</td>\n",
       "    </tr>\n",
       "    <tr>\n",
       "      <th>6815</th>\n",
       "      <td>0</td>\n",
       "      <td>9.940000e+09</td>\n",
       "      <td>1.173396e-04</td>\n",
       "      <td>0.277368</td>\n",
       "      <td>0.080337</td>\n",
       "      <td>0.444043</td>\n",
       "      <td>0.003401</td>\n",
       "      <td>0.171805</td>\n",
       "      <td>0.372505</td>\n",
       "      <td>0.900747</td>\n",
       "      <td>...</td>\n",
       "      <td>0.000445</td>\n",
       "      <td>0.181324</td>\n",
       "      <td>0.031470</td>\n",
       "      <td>2.370237e-04</td>\n",
       "      <td>0.840306</td>\n",
       "      <td>0.027009</td>\n",
       "      <td>0.001959</td>\n",
       "      <td>0.303520</td>\n",
       "      <td>5.220000e+09</td>\n",
       "      <td>1.440000e+09</td>\n",
       "    </tr>\n",
       "    <tr>\n",
       "      <th>6816</th>\n",
       "      <td>0</td>\n",
       "      <td>2.797309e-04</td>\n",
       "      <td>1.749713e-04</td>\n",
       "      <td>0.277022</td>\n",
       "      <td>0.412885</td>\n",
       "      <td>0.496053</td>\n",
       "      <td>0.002774</td>\n",
       "      <td>0.172287</td>\n",
       "      <td>0.369637</td>\n",
       "      <td>0.961061</td>\n",
       "      <td>...</td>\n",
       "      <td>0.000435</td>\n",
       "      <td>0.269521</td>\n",
       "      <td>0.007542</td>\n",
       "      <td>0.000000e+00</td>\n",
       "      <td>0.840138</td>\n",
       "      <td>0.026791</td>\n",
       "      <td>0.002840</td>\n",
       "      <td>0.303512</td>\n",
       "      <td>2.509312e-04</td>\n",
       "      <td>1.039086e-04</td>\n",
       "    </tr>\n",
       "    <tr>\n",
       "      <th>6817</th>\n",
       "      <td>0</td>\n",
       "      <td>4.550000e+09</td>\n",
       "      <td>1.351937e-04</td>\n",
       "      <td>0.277353</td>\n",
       "      <td>0.112238</td>\n",
       "      <td>0.564439</td>\n",
       "      <td>0.007489</td>\n",
       "      <td>0.182498</td>\n",
       "      <td>0.369649</td>\n",
       "      <td>0.913021</td>\n",
       "      <td>...</td>\n",
       "      <td>0.000529</td>\n",
       "      <td>0.213392</td>\n",
       "      <td>0.022916</td>\n",
       "      <td>2.110211e-04</td>\n",
       "      <td>0.841084</td>\n",
       "      <td>0.026822</td>\n",
       "      <td>0.002837</td>\n",
       "      <td>0.303498</td>\n",
       "      <td>1.236154e-04</td>\n",
       "      <td>2.510000e+09</td>\n",
       "    </tr>\n",
       "    <tr>\n",
       "      <th>6818</th>\n",
       "      <td>0</td>\n",
       "      <td>1.910000e+07</td>\n",
       "      <td>8.238471e-03</td>\n",
       "      <td>0.276975</td>\n",
       "      <td>0.238147</td>\n",
       "      <td>0.505010</td>\n",
       "      <td>0.000963</td>\n",
       "      <td>0.179911</td>\n",
       "      <td>0.370049</td>\n",
       "      <td>0.985851</td>\n",
       "      <td>...</td>\n",
       "      <td>0.000519</td>\n",
       "      <td>0.220766</td>\n",
       "      <td>0.005579</td>\n",
       "      <td>5.900000e+08</td>\n",
       "      <td>0.841019</td>\n",
       "      <td>0.026793</td>\n",
       "      <td>0.000707</td>\n",
       "      <td>0.313415</td>\n",
       "      <td>1.431695e-03</td>\n",
       "      <td>0.000000e+00</td>\n",
       "    </tr>\n",
       "  </tbody>\n",
       "</table>\n",
       "<p>6819 rows × 22 columns</p>\n",
       "</div>"
      ],
      "text/plain": [
       "      Bankrupt?   Inventory Turnover Rate (times)   Quick Asset Turnover Rate  \\\n",
       "0             1                      1.820926e-04                6.550000e+09   \n",
       "1             1                      9.360000e+09                7.700000e+09   \n",
       "2             1                      6.500000e+07                1.022676e-03   \n",
       "3             1                      7.130000e+09                6.050000e+09   \n",
       "4             1                      1.633674e-04                5.050000e+09   \n",
       "...         ...                               ...                         ...   \n",
       "6814          0                      4.030000e+07                1.244230e-04   \n",
       "6815          0                      9.940000e+09                1.173396e-04   \n",
       "6816          0                      2.797309e-04                1.749713e-04   \n",
       "6817          0                      4.550000e+09                1.351937e-04   \n",
       "6818          0                      1.910000e+07                8.238471e-03   \n",
       "\n",
       "       Inventory/Working Capital   Cash/Total Assets  \\\n",
       "0                       0.276920            0.004094   \n",
       "1                       0.289642            0.014948   \n",
       "2                       0.277456            0.000991   \n",
       "3                       0.276580            0.018851   \n",
       "4                       0.287913            0.014161   \n",
       "...                          ...                 ...   \n",
       "6814                    0.277543            0.099481   \n",
       "6815                    0.277368            0.080337   \n",
       "6816                    0.277022            0.412885   \n",
       "6817                    0.277353            0.112238   \n",
       "6818                    0.276975            0.238147   \n",
       "\n",
       "       Current Assets/Total Assets   Allocation rate per person  \\\n",
       "0                         0.190643                     0.037135   \n",
       "1                         0.182419                     0.012335   \n",
       "2                         0.602806                     0.141016   \n",
       "3                         0.225815                     0.021320   \n",
       "4                         0.358380                     0.023988   \n",
       "...                            ...                          ...   \n",
       "6814                      0.578455                     0.006312   \n",
       "6815                      0.444043                     0.003401   \n",
       "6816                      0.496053                     0.002774   \n",
       "6817                      0.564439                     0.007489   \n",
       "6818                      0.505010                     0.000963   \n",
       "\n",
       "       Net profit before tax/Paid-in capital   Borrowing dependency  \\\n",
       "0                                   0.137757               0.390284   \n",
       "1                                   0.168962               0.376760   \n",
       "2                                   0.148036               0.379093   \n",
       "3                                   0.147561               0.379743   \n",
       "4                                   0.167461               0.375025   \n",
       "...                                      ...                    ...   \n",
       "6814                                0.171111               0.373823   \n",
       "6815                                0.171805               0.372505   \n",
       "6816                                0.172287               0.369637   \n",
       "6817                                0.182498               0.369649   \n",
       "6818                                0.179911               0.370049   \n",
       "\n",
       "       Net worth/Assets  ...   Net Value Growth Rate  \\\n",
       "0              0.792424  ...                0.000327   \n",
       "1              0.828824  ...                0.000443   \n",
       "2              0.792484  ...                0.000396   \n",
       "3              0.848535  ...                0.000382   \n",
       "4              0.893491  ...                0.000439   \n",
       "...                 ...  ...                     ...   \n",
       "6814           0.875382  ...                0.000450   \n",
       "6815           0.900747  ...                0.000445   \n",
       "6816           0.961061  ...                0.000435   \n",
       "6817           0.913021  ...                0.000529   \n",
       "6818           0.985851  ...                0.000519   \n",
       "\n",
       "       Net Value Per Share (B)   Current Liability to Current Assets  \\\n",
       "0                     0.147950                              0.118250   \n",
       "1                     0.182251                              0.047775   \n",
       "2                     0.177911                              0.025346   \n",
       "3                     0.154187                              0.067250   \n",
       "4                     0.167502                              0.047725   \n",
       "...                        ...                                   ...   \n",
       "6814                  0.175045                              0.027951   \n",
       "6815                  0.181324                              0.031470   \n",
       "6816                  0.269521                              0.007542   \n",
       "6817                  0.213392                              0.022916   \n",
       "6818                  0.220766                              0.005579   \n",
       "\n",
       "       Interest-bearing debt interest rate  \\\n",
       "0                             7.250725e-04   \n",
       "1                             6.470647e-04   \n",
       "2                             7.900790e-04   \n",
       "3                             4.490449e-04   \n",
       "4                             6.860686e-04   \n",
       "...                                    ...   \n",
       "6814                          1.790179e-04   \n",
       "6815                          2.370237e-04   \n",
       "6816                          0.000000e+00   \n",
       "6817                          2.110211e-04   \n",
       "6818                          5.900000e+08   \n",
       "\n",
       "       Net Income to Stockholder's Equity  \\\n",
       "0                                0.827890   \n",
       "1                                0.839969   \n",
       "2                                0.836774   \n",
       "3                                0.834697   \n",
       "4                                0.839973   \n",
       "...                                   ...   \n",
       "6814                             0.840359   \n",
       "6815                             0.840306   \n",
       "6816                             0.840138   \n",
       "6817                             0.841084   \n",
       "6818                             0.841019   \n",
       "\n",
       "       Degree of Financial Leverage (DFL)   Total assets to GNP price  \\\n",
       "0                                0.026601                    0.009219   \n",
       "1                                0.264577                    0.008323   \n",
       "2                                0.026555                    0.040003   \n",
       "3                                0.026697                    0.003252   \n",
       "4                                0.024752                    0.003878   \n",
       "...                                   ...                         ...   \n",
       "6814                             0.027064                    0.000466   \n",
       "6815                             0.027009                    0.001959   \n",
       "6816                             0.026791                    0.002840   \n",
       "6817                             0.026822                    0.002837   \n",
       "6818                             0.026793                    0.000707   \n",
       "\n",
       "       Non-industry income and expenditure/revenue   Operating Expense Rate  \\\n",
       "0                                         0.302646             1.256969e-04   \n",
       "1                                         0.303556             2.897851e-04   \n",
       "2                                         0.302035             2.361297e-04   \n",
       "3                                         0.303350             1.078888e-04   \n",
       "4                                         0.303475             7.890000e+09   \n",
       "...                                            ...                      ...   \n",
       "6814                                      0.303510             1.510213e-04   \n",
       "6815                                      0.303520             5.220000e+09   \n",
       "6816                                      0.303512             2.509312e-04   \n",
       "6817                                      0.303498             1.236154e-04   \n",
       "6818                                      0.313415             1.431695e-03   \n",
       "\n",
       "       Research and development expense rate  \n",
       "0                               0.000000e+00  \n",
       "1                               0.000000e+00  \n",
       "2                               2.550000e+07  \n",
       "3                               0.000000e+00  \n",
       "4                               0.000000e+00  \n",
       "...                                      ...  \n",
       "6814                            4.500000e+09  \n",
       "6815                            1.440000e+09  \n",
       "6816                            1.039086e-04  \n",
       "6817                            2.510000e+09  \n",
       "6818                            0.000000e+00  \n",
       "\n",
       "[6819 rows x 22 columns]"
      ]
     },
     "execution_count": 92,
     "metadata": {},
     "output_type": "execute_result"
    }
   ],
   "source": [
    "df = bankrupt.loc[:, col]\n",
    "df"
   ]
  },
  {
   "cell_type": "markdown",
   "metadata": {
    "cell_id": "00005-1b1a7243-0877-41d0-a838-c7ef858e77d5",
    "deepnote_cell_type": "markdown"
   },
   "source": [
    "### Splitting data into train/ test sets"
   ]
  },
  {
   "cell_type": "code",
   "execution_count": 93,
   "metadata": {
    "cell_id": "00005-ffd98fe5-4dda-4850-bcde-b8544047466d",
    "colab": {
     "base_uri": "https://localhost:8080/",
     "height": 224
    },
    "deepnote_cell_type": "code",
    "deepnote_to_be_reexecuted": false,
    "execution_millis": 107,
    "execution_start": 1620935322942,
    "id": "xB0GT87axB-Q",
    "outputId": "bbb325c4-140b-433b-87da-cbe263b6d0a3",
    "source_hash": "d6557955"
   },
   "outputs": [],
   "source": [
    "#split dataset in features and target variable\n",
    "X = df.iloc[:, 1:]\n",
    "y = df.iloc[:, 0]"
   ]
  },
  {
   "cell_type": "code",
   "execution_count": 94,
   "metadata": {
    "cell_id": "00009-8e255458-3af9-4937-8a1e-a155be7c7c9d",
    "deepnote_cell_type": "code",
    "deepnote_to_be_reexecuted": false,
    "execution_millis": 9,
    "execution_start": 1620935323086,
    "source_hash": "19c8c058"
   },
   "outputs": [],
   "source": [
    "# Split into train and test sets\n",
    "X_train, X_test, y_train, y_test = train_test_split(X, y, test_size=0.30, random_state=42, stratify=y)"
   ]
  },
  {
   "cell_type": "code",
   "execution_count": 95,
   "metadata": {
    "cell_id": "00010-a45a606b-59fd-4820-8e0d-b21f4d29646e",
    "deepnote_cell_type": "code",
    "deepnote_to_be_reexecuted": false,
    "execution_millis": 8,
    "execution_start": 1620935323087,
    "source_hash": "59f8f0c1"
   },
   "outputs": [
    {
     "name": "stdout",
     "output_type": "stream",
     "text": [
      "y_train = Counter({0: 4619, 1: 154})\n",
      "                   0: 97%,  1: 3%\n",
      "\n",
      "y_test = Counter({0: 1980, 1: 66})\n",
      "                  0: 97%,  1: 3%\n"
     ]
    }
   ],
   "source": [
    "print(f\"y_train = {Counter (y_train)}\")\n",
    "print(f\"                   0: {Counter(y_train)[0]/len(y_train):.0%},  1: {Counter(y_train)[1]/len(y_train):.0%}\")\n",
    "print()\n",
    "print(f\"y_test = {Counter (y_test)}\")\n",
    "print(f\"                  0: {Counter(y_test)[0]/len(y_test):.0%},  1: {Counter(y_test)[1]/len(y_test):.0%}\")"
   ]
  },
  {
   "cell_type": "markdown",
   "metadata": {},
   "source": [
    "## Models to be analysed: Logistic Regression, Decision Forest and Decision Tree"
   ]
  },
  {
   "cell_type": "code",
   "execution_count": 96,
   "metadata": {},
   "outputs": [
    {
     "name": "stdout",
     "output_type": "stream",
     "text": [
      "Empty DataFrame\n",
      "Columns: [Scenarios, #Features, Train/Test, Acc, Bal_Acc, M_P, M_R, M_F1, P0, P1, R0, R1, MSE, Auc]\n",
      "Index: []\n"
     ]
    }
   ],
   "source": [
    "df_results = pd.DataFrame(columns = ['Scenarios','#Features', 'Train/Test', 'Acc', 'Bal_Acc','M_P','M_R', 'M_F1', \"P0\", \"P1\", \"R0\", \"R1\", 'MSE', 'Auc'])\n",
    "print (df_results)"
   ]
  },
  {
   "cell_type": "markdown",
   "metadata": {},
   "source": [
    "We will use a dictionary and a list to continuously store the results of our experiments and show them as a pandas dataframe."
   ]
  },
  {
   "cell_type": "code",
   "execution_count": 97,
   "metadata": {},
   "outputs": [],
   "source": [
    "# List and dictionary to store the results of our analysis\n",
    "index = []\n",
    "scores = {\"Accuracy\": [], \"Balanced accuracy\": []}"
   ]
  },
  {
   "cell_type": "markdown",
   "metadata": {},
   "source": [
    "We will define 2 scores: accuracy and balanced accuracy"
   ]
  },
  {
   "cell_type": "code",
   "execution_count": 98,
   "metadata": {},
   "outputs": [],
   "source": [
    "scoring = [\"accuracy\", \"balanced_accuracy\"]"
   ]
  },
  {
   "cell_type": "markdown",
   "metadata": {},
   "source": [
    "**Logistic regression classifier**"
   ]
  },
  {
   "cell_type": "code",
   "execution_count": 99,
   "metadata": {},
   "outputs": [],
   "source": [
    "lr_clf = make_pipeline(StandardScaler(), LogisticRegression(max_iter=1000))\n",
    "\n",
    "index += [\"Logistic regression\"]\n",
    "cv_result = cross_validate(lr_clf, X_train, y_train, scoring=scoring) \n",
    "# Cross_validate: for int/None inputs, if the estimator is a classifier and y is either binary or multiclass, \n",
    "                # StratifiedKFold is used.\n",
    "scores[\"Accuracy\"].append(round(cv_result[\"test_accuracy\"].mean(),2))\n",
    "scores[\"Balanced accuracy\"].append(round(cv_result[\"test_balanced_accuracy\"].mean(),2))"
   ]
  },
  {
   "cell_type": "code",
   "execution_count": 100,
   "metadata": {},
   "outputs": [
    {
     "data": {
      "text/html": [
       "<div>\n",
       "<style scoped>\n",
       "    .dataframe tbody tr th:only-of-type {\n",
       "        vertical-align: middle;\n",
       "    }\n",
       "\n",
       "    .dataframe tbody tr th {\n",
       "        vertical-align: top;\n",
       "    }\n",
       "\n",
       "    .dataframe thead th {\n",
       "        text-align: right;\n",
       "    }\n",
       "</style>\n",
       "<table border=\"1\" class=\"dataframe\">\n",
       "  <thead>\n",
       "    <tr style=\"text-align: right;\">\n",
       "      <th></th>\n",
       "      <th>Accuracy</th>\n",
       "      <th>Balanced accuracy</th>\n",
       "    </tr>\n",
       "  </thead>\n",
       "  <tbody>\n",
       "    <tr>\n",
       "      <th>Logistic regression</th>\n",
       "      <td>0.97</td>\n",
       "      <td>0.56</td>\n",
       "    </tr>\n",
       "  </tbody>\n",
       "</table>\n",
       "</div>"
      ],
      "text/plain": [
       "                     Accuracy  Balanced accuracy\n",
       "Logistic regression      0.97               0.56"
      ]
     },
     "execution_count": 100,
     "metadata": {},
     "output_type": "execute_result"
    }
   ],
   "source": [
    "df_scores = pd.DataFrame(scores, index=index)\n",
    "df_scores"
   ]
  },
  {
   "cell_type": "markdown",
   "metadata": {},
   "source": [
    "**RandomForestClassifier**"
   ]
  },
  {
   "cell_type": "code",
   "execution_count": 101,
   "metadata": {},
   "outputs": [
    {
     "data": {
      "text/html": [
       "<div>\n",
       "<style scoped>\n",
       "    .dataframe tbody tr th:only-of-type {\n",
       "        vertical-align: middle;\n",
       "    }\n",
       "\n",
       "    .dataframe tbody tr th {\n",
       "        vertical-align: top;\n",
       "    }\n",
       "\n",
       "    .dataframe thead th {\n",
       "        text-align: right;\n",
       "    }\n",
       "</style>\n",
       "<table border=\"1\" class=\"dataframe\">\n",
       "  <thead>\n",
       "    <tr style=\"text-align: right;\">\n",
       "      <th></th>\n",
       "      <th>Accuracy</th>\n",
       "      <th>Balanced accuracy</th>\n",
       "    </tr>\n",
       "  </thead>\n",
       "  <tbody>\n",
       "    <tr>\n",
       "      <th>Logistic regression</th>\n",
       "      <td>0.97</td>\n",
       "      <td>0.56</td>\n",
       "    </tr>\n",
       "    <tr>\n",
       "      <th>Random forest</th>\n",
       "      <td>0.97</td>\n",
       "      <td>0.60</td>\n",
       "    </tr>\n",
       "  </tbody>\n",
       "</table>\n",
       "</div>"
      ],
      "text/plain": [
       "                     Accuracy  Balanced accuracy\n",
       "Logistic regression      0.97               0.56\n",
       "Random forest            0.97               0.60"
      ]
     },
     "execution_count": 101,
     "metadata": {},
     "output_type": "execute_result"
    }
   ],
   "source": [
    "rf_clf = make_pipeline(RandomForestClassifier(random_state=42))\n",
    "\n",
    "index += [\"Random forest\"]\n",
    "cv_result = cross_validate(rf_clf, X_train, y_train, scoring=scoring)\n",
    "scores[\"Accuracy\"].append(round(cv_result[\"test_accuracy\"].mean(),2))\n",
    "scores[\"Balanced accuracy\"].append(round(cv_result[\"test_balanced_accuracy\"].mean(),2))\n",
    "\n",
    "df_scores = pd.DataFrame(scores, index=index)\n",
    "df_scores"
   ]
  },
  {
   "cell_type": "markdown",
   "metadata": {},
   "source": [
    "**DT Classifier**"
   ]
  },
  {
   "cell_type": "code",
   "execution_count": 102,
   "metadata": {},
   "outputs": [
    {
     "data": {
      "text/html": [
       "<div>\n",
       "<style scoped>\n",
       "    .dataframe tbody tr th:only-of-type {\n",
       "        vertical-align: middle;\n",
       "    }\n",
       "\n",
       "    .dataframe tbody tr th {\n",
       "        vertical-align: top;\n",
       "    }\n",
       "\n",
       "    .dataframe thead th {\n",
       "        text-align: right;\n",
       "    }\n",
       "</style>\n",
       "<table border=\"1\" class=\"dataframe\">\n",
       "  <thead>\n",
       "    <tr style=\"text-align: right;\">\n",
       "      <th></th>\n",
       "      <th>Accuracy</th>\n",
       "      <th>Balanced accuracy</th>\n",
       "    </tr>\n",
       "  </thead>\n",
       "  <tbody>\n",
       "    <tr>\n",
       "      <th>Logistic regression</th>\n",
       "      <td>0.97</td>\n",
       "      <td>0.56</td>\n",
       "    </tr>\n",
       "    <tr>\n",
       "      <th>Random forest</th>\n",
       "      <td>0.97</td>\n",
       "      <td>0.60</td>\n",
       "    </tr>\n",
       "    <tr>\n",
       "      <th>Decision Tree</th>\n",
       "      <td>0.96</td>\n",
       "      <td>0.69</td>\n",
       "    </tr>\n",
       "  </tbody>\n",
       "</table>\n",
       "</div>"
      ],
      "text/plain": [
       "                     Accuracy  Balanced accuracy\n",
       "Logistic regression      0.97               0.56\n",
       "Random forest            0.97               0.60\n",
       "Decision Tree            0.96               0.69"
      ]
     },
     "execution_count": 102,
     "metadata": {},
     "output_type": "execute_result"
    }
   ],
   "source": [
    "dt_clf = make_pipeline(DecisionTreeClassifier(random_state=42))\n",
    "\n",
    "index += [\"Decision Tree\"]\n",
    "cv_result = cross_validate(dt_clf, X_train, y_train, scoring=scoring)\n",
    "scores[\"Accuracy\"].append(round(cv_result[\"test_accuracy\"].mean(),2))\n",
    "scores[\"Balanced accuracy\"].append(round(cv_result[\"test_balanced_accuracy\"].mean(),2))\n",
    "\n",
    "df_scores = pd.DataFrame(scores, index=index)\n",
    "df_scores"
   ]
  },
  {
   "cell_type": "markdown",
   "metadata": {},
   "source": [
    "## Use class_weight"
   ]
  },
  {
   "cell_type": "markdown",
   "metadata": {},
   "source": [
    "Most of the models in scikit-learn have a parameter class_weight. This parameter will affect the computation of the loss in linear model or the criterion in the tree-based model to penalize differently a false classification from the minority and majority class. We can set class_weight=\"balanced\" such that the weight applied is inversely proportional to the class frequency. We test this parametrization in both linear model and tree-based model."
   ]
  },
  {
   "cell_type": "code",
   "execution_count": 103,
   "metadata": {},
   "outputs": [
    {
     "data": {
      "text/html": [
       "<div>\n",
       "<style scoped>\n",
       "    .dataframe tbody tr th:only-of-type {\n",
       "        vertical-align: middle;\n",
       "    }\n",
       "\n",
       "    .dataframe tbody tr th {\n",
       "        vertical-align: top;\n",
       "    }\n",
       "\n",
       "    .dataframe thead th {\n",
       "        text-align: right;\n",
       "    }\n",
       "</style>\n",
       "<table border=\"1\" class=\"dataframe\">\n",
       "  <thead>\n",
       "    <tr style=\"text-align: right;\">\n",
       "      <th></th>\n",
       "      <th>Accuracy</th>\n",
       "      <th>Balanced accuracy</th>\n",
       "    </tr>\n",
       "  </thead>\n",
       "  <tbody>\n",
       "    <tr>\n",
       "      <th>Logistic regression</th>\n",
       "      <td>0.97</td>\n",
       "      <td>0.56</td>\n",
       "    </tr>\n",
       "    <tr>\n",
       "      <th>Random forest</th>\n",
       "      <td>0.97</td>\n",
       "      <td>0.60</td>\n",
       "    </tr>\n",
       "    <tr>\n",
       "      <th>Decision Tree</th>\n",
       "      <td>0.96</td>\n",
       "      <td>0.69</td>\n",
       "    </tr>\n",
       "    <tr>\n",
       "      <th>Logistic regression with balanced class weights</th>\n",
       "      <td>0.86</td>\n",
       "      <td>0.85</td>\n",
       "    </tr>\n",
       "  </tbody>\n",
       "</table>\n",
       "</div>"
      ],
      "text/plain": [
       "                                                 Accuracy  Balanced accuracy\n",
       "Logistic regression                                  0.97               0.56\n",
       "Random forest                                        0.97               0.60\n",
       "Decision Tree                                        0.96               0.69\n",
       "Logistic regression with balanced class weights      0.86               0.85"
      ]
     },
     "execution_count": 103,
     "metadata": {},
     "output_type": "execute_result"
    }
   ],
   "source": [
    "lr_clf.set_params(logisticregression__class_weight=\"balanced\")\n",
    "# classification??\n",
    "\n",
    "index += [\"Logistic regression with balanced class weights\"]\n",
    "cv_result = cross_validate(lr_clf, X_train, y_train, scoring=scoring)\n",
    "scores[\"Accuracy\"].append(round(cv_result[\"test_accuracy\"].mean(),2))\n",
    "scores[\"Balanced accuracy\"].append(round(cv_result[\"test_balanced_accuracy\"].mean(),2))\n",
    "\n",
    "df_scores = pd.DataFrame(scores, index=index)\n",
    "df_scores"
   ]
  },
  {
   "cell_type": "code",
   "execution_count": 104,
   "metadata": {},
   "outputs": [
    {
     "data": {
      "text/plain": [
       "0.8469696969696969"
      ]
     },
     "execution_count": 104,
     "metadata": {},
     "output_type": "execute_result"
    }
   ],
   "source": [
    "lr_clf.fit(X_train, y_train)\n",
    "predict_test = lr_clf.predict(X_test)\n",
    "balanced_accuracy_score(y_test, predict_test)"
   ]
  },
  {
   "cell_type": "code",
   "execution_count": 105,
   "metadata": {},
   "outputs": [],
   "source": [
    "evaluation_scenario(lr_clf, y_train, y_test, lr_clf.predict(X_train), predict_test, df_results, 'LR-SW', 22)"
   ]
  },
  {
   "cell_type": "code",
   "execution_count": 106,
   "metadata": {
    "scrolled": true
   },
   "outputs": [
    {
     "name": "stdout",
     "output_type": "stream",
     "text": [
      "Confusion matrix - Test:\n"
     ]
    },
    {
     "data": {
      "image/png": "[encoded data removed]",
      "text/plain": [
       "<Figure size 432x288 with 2 Axes>"
      ]
     },
     "metadata": {
      "needs_background": "light"
     },
     "output_type": "display_data"
    }
   ],
   "source": [
    "print_confusion_matrix(lr_clf, X_test, y_test,'Test')"
   ]
  },
  {
   "cell_type": "code",
   "execution_count": 107,
   "metadata": {
    "scrolled": true
   },
   "outputs": [
    {
     "data": {
      "image/png": "[encoded data removed]",
      "text/plain": [
       "<Figure size 432x288 with 1 Axes>"
      ]
     },
     "metadata": {
      "needs_background": "light"
     },
     "output_type": "display_data"
    }
   ],
   "source": [
    "plot_roc_curve(y_test, predict_test, 'Test')"
   ]
  },
  {
   "cell_type": "code",
   "execution_count": 108,
   "metadata": {},
   "outputs": [
    {
     "data": {
      "text/html": [
       "<div>\n",
       "<style scoped>\n",
       "    .dataframe tbody tr th:only-of-type {\n",
       "        vertical-align: middle;\n",
       "    }\n",
       "\n",
       "    .dataframe tbody tr th {\n",
       "        vertical-align: top;\n",
       "    }\n",
       "\n",
       "    .dataframe thead th {\n",
       "        text-align: right;\n",
       "    }\n",
       "</style>\n",
       "<table border=\"1\" class=\"dataframe\">\n",
       "  <thead>\n",
       "    <tr style=\"text-align: right;\">\n",
       "      <th></th>\n",
       "      <th>Accuracy</th>\n",
       "      <th>Balanced accuracy</th>\n",
       "    </tr>\n",
       "  </thead>\n",
       "  <tbody>\n",
       "    <tr>\n",
       "      <th>Logistic regression</th>\n",
       "      <td>0.97</td>\n",
       "      <td>0.56</td>\n",
       "    </tr>\n",
       "    <tr>\n",
       "      <th>Random forest</th>\n",
       "      <td>0.97</td>\n",
       "      <td>0.60</td>\n",
       "    </tr>\n",
       "    <tr>\n",
       "      <th>Decision Tree</th>\n",
       "      <td>0.96</td>\n",
       "      <td>0.69</td>\n",
       "    </tr>\n",
       "    <tr>\n",
       "      <th>Logistic regression with balanced class weights</th>\n",
       "      <td>0.86</td>\n",
       "      <td>0.85</td>\n",
       "    </tr>\n",
       "    <tr>\n",
       "      <th>Random forest with balanced class weights</th>\n",
       "      <td>0.97</td>\n",
       "      <td>0.56</td>\n",
       "    </tr>\n",
       "  </tbody>\n",
       "</table>\n",
       "</div>"
      ],
      "text/plain": [
       "                                                 Accuracy  Balanced accuracy\n",
       "Logistic regression                                  0.97               0.56\n",
       "Random forest                                        0.97               0.60\n",
       "Decision Tree                                        0.96               0.69\n",
       "Logistic regression with balanced class weights      0.86               0.85\n",
       "Random forest with balanced class weights            0.97               0.56"
      ]
     },
     "execution_count": 108,
     "metadata": {},
     "output_type": "execute_result"
    }
   ],
   "source": [
    "rf_clf.set_params(randomforestclassifier__class_weight=\"balanced\")\n",
    "\n",
    "index += [\"Random forest with balanced class weights\"]\n",
    "cv_result = cross_validate(rf_clf, X_train, y_train, scoring=scoring)\n",
    "scores[\"Accuracy\"].append(round(cv_result[\"test_accuracy\"].mean(),2))\n",
    "scores[\"Balanced accuracy\"].append(round(cv_result[\"test_balanced_accuracy\"].mean(),2))\n",
    "\n",
    "df_scores = pd.DataFrame(scores, index=index)\n",
    "df_scores"
   ]
  },
  {
   "cell_type": "code",
   "execution_count": 109,
   "metadata": {},
   "outputs": [
    {
     "data": {
      "text/html": [
       "<div>\n",
       "<style scoped>\n",
       "    .dataframe tbody tr th:only-of-type {\n",
       "        vertical-align: middle;\n",
       "    }\n",
       "\n",
       "    .dataframe tbody tr th {\n",
       "        vertical-align: top;\n",
       "    }\n",
       "\n",
       "    .dataframe thead th {\n",
       "        text-align: right;\n",
       "    }\n",
       "</style>\n",
       "<table border=\"1\" class=\"dataframe\">\n",
       "  <thead>\n",
       "    <tr style=\"text-align: right;\">\n",
       "      <th></th>\n",
       "      <th>Accuracy</th>\n",
       "      <th>Balanced accuracy</th>\n",
       "    </tr>\n",
       "  </thead>\n",
       "  <tbody>\n",
       "    <tr>\n",
       "      <th>Logistic regression</th>\n",
       "      <td>0.97</td>\n",
       "      <td>0.56</td>\n",
       "    </tr>\n",
       "    <tr>\n",
       "      <th>Random forest</th>\n",
       "      <td>0.97</td>\n",
       "      <td>0.60</td>\n",
       "    </tr>\n",
       "    <tr>\n",
       "      <th>Decision Tree</th>\n",
       "      <td>0.96</td>\n",
       "      <td>0.69</td>\n",
       "    </tr>\n",
       "    <tr>\n",
       "      <th>Logistic regression with balanced class weights</th>\n",
       "      <td>0.86</td>\n",
       "      <td>0.85</td>\n",
       "    </tr>\n",
       "    <tr>\n",
       "      <th>Random forest with balanced class weights</th>\n",
       "      <td>0.97</td>\n",
       "      <td>0.56</td>\n",
       "    </tr>\n",
       "    <tr>\n",
       "      <th>Decisin tree with balanced class weights</th>\n",
       "      <td>0.95</td>\n",
       "      <td>0.66</td>\n",
       "    </tr>\n",
       "  </tbody>\n",
       "</table>\n",
       "</div>"
      ],
      "text/plain": [
       "                                                 Accuracy  Balanced accuracy\n",
       "Logistic regression                                  0.97               0.56\n",
       "Random forest                                        0.97               0.60\n",
       "Decision Tree                                        0.96               0.69\n",
       "Logistic regression with balanced class weights      0.86               0.85\n",
       "Random forest with balanced class weights            0.97               0.56\n",
       "Decisin tree with balanced class weights             0.95               0.66"
      ]
     },
     "execution_count": 109,
     "metadata": {},
     "output_type": "execute_result"
    }
   ],
   "source": [
    "dt_clf.set_params(decisiontreeclassifier__class_weight=\"balanced\")\n",
    "\n",
    "index += [\"Decisin tree with balanced class weights\"]\n",
    "cv_result = cross_validate(dt_clf, X_train, y_train, scoring=scoring)\n",
    "scores[\"Accuracy\"].append(round(cv_result[\"test_accuracy\"].mean(),2))\n",
    "scores[\"Balanced accuracy\"].append(round(cv_result[\"test_balanced_accuracy\"].mean(),2))\n",
    "\n",
    "df_scores = pd.DataFrame(scores, index=index)\n",
    "df_scores"
   ]
  },
  {
   "cell_type": "markdown",
   "metadata": {},
   "source": [
    "## Resample the training set during learning"
   ]
  },
  {
   "cell_type": "code",
   "execution_count": 110,
   "metadata": {},
   "outputs": [],
   "source": [
    "lr_clf = make_pipeline_with_sampler(\n",
    "    RandomOverSampler(random_state=42),\n",
    "    LogisticRegression(max_iter=1000),\n",
    ")"
   ]
  },
  {
   "cell_type": "code",
   "execution_count": 111,
   "metadata": {},
   "outputs": [
    {
     "data": {
      "text/html": [
       "<div>\n",
       "<style scoped>\n",
       "    .dataframe tbody tr th:only-of-type {\n",
       "        vertical-align: middle;\n",
       "    }\n",
       "\n",
       "    .dataframe tbody tr th {\n",
       "        vertical-align: top;\n",
       "    }\n",
       "\n",
       "    .dataframe thead th {\n",
       "        text-align: right;\n",
       "    }\n",
       "</style>\n",
       "<table border=\"1\" class=\"dataframe\">\n",
       "  <thead>\n",
       "    <tr style=\"text-align: right;\">\n",
       "      <th></th>\n",
       "      <th>Accuracy</th>\n",
       "      <th>Balanced accuracy</th>\n",
       "    </tr>\n",
       "  </thead>\n",
       "  <tbody>\n",
       "    <tr>\n",
       "      <th>Logistic regression</th>\n",
       "      <td>0.97</td>\n",
       "      <td>0.56</td>\n",
       "    </tr>\n",
       "    <tr>\n",
       "      <th>Random forest</th>\n",
       "      <td>0.97</td>\n",
       "      <td>0.60</td>\n",
       "    </tr>\n",
       "    <tr>\n",
       "      <th>Decision Tree</th>\n",
       "      <td>0.96</td>\n",
       "      <td>0.69</td>\n",
       "    </tr>\n",
       "    <tr>\n",
       "      <th>Logistic regression with balanced class weights</th>\n",
       "      <td>0.86</td>\n",
       "      <td>0.85</td>\n",
       "    </tr>\n",
       "    <tr>\n",
       "      <th>Random forest with balanced class weights</th>\n",
       "      <td>0.97</td>\n",
       "      <td>0.56</td>\n",
       "    </tr>\n",
       "    <tr>\n",
       "      <th>Decisin tree with balanced class weights</th>\n",
       "      <td>0.95</td>\n",
       "      <td>0.66</td>\n",
       "    </tr>\n",
       "    <tr>\n",
       "      <th>Over-sampling + Logistic regression</th>\n",
       "      <td>0.62</td>\n",
       "      <td>0.51</td>\n",
       "    </tr>\n",
       "  </tbody>\n",
       "</table>\n",
       "</div>"
      ],
      "text/plain": [
       "                                                 Accuracy  Balanced accuracy\n",
       "Logistic regression                                  0.97               0.56\n",
       "Random forest                                        0.97               0.60\n",
       "Decision Tree                                        0.96               0.69\n",
       "Logistic regression with balanced class weights      0.86               0.85\n",
       "Random forest with balanced class weights            0.97               0.56\n",
       "Decisin tree with balanced class weights             0.95               0.66\n",
       "Over-sampling + Logistic regression                  0.62               0.51"
      ]
     },
     "execution_count": 111,
     "metadata": {},
     "output_type": "execute_result"
    }
   ],
   "source": [
    "index += [\"Over-sampling + Logistic regression\"]\n",
    "cv_result = cross_validate(lr_clf, X_train, y_train, scoring=scoring)\n",
    "scores[\"Accuracy\"].append(round(cv_result[\"test_accuracy\"].mean(),2))\n",
    "scores[\"Balanced accuracy\"].append(round(cv_result[\"test_balanced_accuracy\"].mean(),2))\n",
    "\n",
    "df_scores = pd.DataFrame(scores, index=index)\n",
    "df_scores"
   ]
  },
  {
   "cell_type": "code",
   "execution_count": 112,
   "metadata": {},
   "outputs": [],
   "source": [
    "rf_clf = make_pipeline_with_sampler(\n",
    "    RandomOverSampler(random_state=42),\n",
    "    RandomForestClassifier(random_state=42, n_jobs=2),\n",
    ")"
   ]
  },
  {
   "cell_type": "code",
   "execution_count": 113,
   "metadata": {},
   "outputs": [
    {
     "data": {
      "text/html": [
       "<div>\n",
       "<style scoped>\n",
       "    .dataframe tbody tr th:only-of-type {\n",
       "        vertical-align: middle;\n",
       "    }\n",
       "\n",
       "    .dataframe tbody tr th {\n",
       "        vertical-align: top;\n",
       "    }\n",
       "\n",
       "    .dataframe thead th {\n",
       "        text-align: right;\n",
       "    }\n",
       "</style>\n",
       "<table border=\"1\" class=\"dataframe\">\n",
       "  <thead>\n",
       "    <tr style=\"text-align: right;\">\n",
       "      <th></th>\n",
       "      <th>Accuracy</th>\n",
       "      <th>Balanced accuracy</th>\n",
       "    </tr>\n",
       "  </thead>\n",
       "  <tbody>\n",
       "    <tr>\n",
       "      <th>Logistic regression</th>\n",
       "      <td>0.97</td>\n",
       "      <td>0.56</td>\n",
       "    </tr>\n",
       "    <tr>\n",
       "      <th>Random forest</th>\n",
       "      <td>0.97</td>\n",
       "      <td>0.60</td>\n",
       "    </tr>\n",
       "    <tr>\n",
       "      <th>Decision Tree</th>\n",
       "      <td>0.96</td>\n",
       "      <td>0.69</td>\n",
       "    </tr>\n",
       "    <tr>\n",
       "      <th>Logistic regression with balanced class weights</th>\n",
       "      <td>0.86</td>\n",
       "      <td>0.85</td>\n",
       "    </tr>\n",
       "    <tr>\n",
       "      <th>Random forest with balanced class weights</th>\n",
       "      <td>0.97</td>\n",
       "      <td>0.56</td>\n",
       "    </tr>\n",
       "    <tr>\n",
       "      <th>Decisin tree with balanced class weights</th>\n",
       "      <td>0.95</td>\n",
       "      <td>0.66</td>\n",
       "    </tr>\n",
       "    <tr>\n",
       "      <th>Over-sampling + Logistic regression</th>\n",
       "      <td>0.62</td>\n",
       "      <td>0.51</td>\n",
       "    </tr>\n",
       "    <tr>\n",
       "      <th>Over-sampling + Random forest</th>\n",
       "      <td>0.97</td>\n",
       "      <td>0.61</td>\n",
       "    </tr>\n",
       "  </tbody>\n",
       "</table>\n",
       "</div>"
      ],
      "text/plain": [
       "                                                 Accuracy  Balanced accuracy\n",
       "Logistic regression                                  0.97               0.56\n",
       "Random forest                                        0.97               0.60\n",
       "Decision Tree                                        0.96               0.69\n",
       "Logistic regression with balanced class weights      0.86               0.85\n",
       "Random forest with balanced class weights            0.97               0.56\n",
       "Decisin tree with balanced class weights             0.95               0.66\n",
       "Over-sampling + Logistic regression                  0.62               0.51\n",
       "Over-sampling + Random forest                        0.97               0.61"
      ]
     },
     "execution_count": 113,
     "metadata": {},
     "output_type": "execute_result"
    }
   ],
   "source": [
    "index += [\"Over-sampling + Random forest\"]\n",
    "cv_result = cross_validate(rf_clf, X_train, y_train, scoring=scoring)\n",
    "scores[\"Accuracy\"].append(round(cv_result[\"test_accuracy\"].mean(),2))\n",
    "scores[\"Balanced accuracy\"].append(round(cv_result[\"test_balanced_accuracy\"].mean(),2))\n",
    "\n",
    "df_scores = pd.DataFrame(scores, index=index)\n",
    "df_scores"
   ]
  },
  {
   "cell_type": "code",
   "execution_count": 114,
   "metadata": {},
   "outputs": [],
   "source": [
    "dt_clf = make_pipeline_with_sampler(\n",
    "    RandomOverSampler(random_state=42),\n",
    "    DecisionTreeClassifier(random_state=42))"
   ]
  },
  {
   "cell_type": "code",
   "execution_count": 115,
   "metadata": {},
   "outputs": [
    {
     "data": {
      "text/html": [
       "<div>\n",
       "<style scoped>\n",
       "    .dataframe tbody tr th:only-of-type {\n",
       "        vertical-align: middle;\n",
       "    }\n",
       "\n",
       "    .dataframe tbody tr th {\n",
       "        vertical-align: top;\n",
       "    }\n",
       "\n",
       "    .dataframe thead th {\n",
       "        text-align: right;\n",
       "    }\n",
       "</style>\n",
       "<table border=\"1\" class=\"dataframe\">\n",
       "  <thead>\n",
       "    <tr style=\"text-align: right;\">\n",
       "      <th></th>\n",
       "      <th>Accuracy</th>\n",
       "      <th>Balanced accuracy</th>\n",
       "    </tr>\n",
       "  </thead>\n",
       "  <tbody>\n",
       "    <tr>\n",
       "      <th>Logistic regression</th>\n",
       "      <td>0.97</td>\n",
       "      <td>0.56</td>\n",
       "    </tr>\n",
       "    <tr>\n",
       "      <th>Random forest</th>\n",
       "      <td>0.97</td>\n",
       "      <td>0.60</td>\n",
       "    </tr>\n",
       "    <tr>\n",
       "      <th>Decision Tree</th>\n",
       "      <td>0.96</td>\n",
       "      <td>0.69</td>\n",
       "    </tr>\n",
       "    <tr>\n",
       "      <th>Logistic regression with balanced class weights</th>\n",
       "      <td>0.86</td>\n",
       "      <td>0.85</td>\n",
       "    </tr>\n",
       "    <tr>\n",
       "      <th>Random forest with balanced class weights</th>\n",
       "      <td>0.97</td>\n",
       "      <td>0.56</td>\n",
       "    </tr>\n",
       "    <tr>\n",
       "      <th>Decisin tree with balanced class weights</th>\n",
       "      <td>0.95</td>\n",
       "      <td>0.66</td>\n",
       "    </tr>\n",
       "    <tr>\n",
       "      <th>Over-sampling + Logistic regression</th>\n",
       "      <td>0.62</td>\n",
       "      <td>0.51</td>\n",
       "    </tr>\n",
       "    <tr>\n",
       "      <th>Over-sampling + Random forest</th>\n",
       "      <td>0.97</td>\n",
       "      <td>0.61</td>\n",
       "    </tr>\n",
       "    <tr>\n",
       "      <th>Over-sampling + Decision Tree</th>\n",
       "      <td>0.95</td>\n",
       "      <td>0.63</td>\n",
       "    </tr>\n",
       "  </tbody>\n",
       "</table>\n",
       "</div>"
      ],
      "text/plain": [
       "                                                 Accuracy  Balanced accuracy\n",
       "Logistic regression                                  0.97               0.56\n",
       "Random forest                                        0.97               0.60\n",
       "Decision Tree                                        0.96               0.69\n",
       "Logistic regression with balanced class weights      0.86               0.85\n",
       "Random forest with balanced class weights            0.97               0.56\n",
       "Decisin tree with balanced class weights             0.95               0.66\n",
       "Over-sampling + Logistic regression                  0.62               0.51\n",
       "Over-sampling + Random forest                        0.97               0.61\n",
       "Over-sampling + Decision Tree                        0.95               0.63"
      ]
     },
     "execution_count": 115,
     "metadata": {},
     "output_type": "execute_result"
    }
   ],
   "source": [
    "index += [\"Over-sampling + Decision Tree\"]\n",
    "cv_result = cross_validate(dt_clf, X_train, y_train, scoring=scoring)\n",
    "scores[\"Accuracy\"].append(round(cv_result[\"test_accuracy\"].mean(),2))\n",
    "scores[\"Balanced accuracy\"].append(round(cv_result[\"test_balanced_accuracy\"].mean(),2))\n",
    "\n",
    "df_scores = pd.DataFrame(scores, index=index)\n",
    "df_scores"
   ]
  },
  {
   "cell_type": "markdown",
   "metadata": {},
   "source": [
    "## Use of specific balanced algorithms from imbalanced-learn, bagging and boosting"
   ]
  },
  {
   "cell_type": "markdown",
   "metadata": {},
   "source": [
    "A balanced random forest classifier.\n",
    "\n",
    "A balanced random forest randomly under-samples each boostrap sample to balance it."
   ]
  },
  {
   "cell_type": "code",
   "execution_count": 116,
   "metadata": {},
   "outputs": [],
   "source": [
    "from imblearn.ensemble import BalancedRandomForestClassifier\n",
    "\n",
    "rf_clf = make_pipeline(\n",
    "    BalancedRandomForestClassifier(random_state=42, n_jobs=2),\n",
    ")"
   ]
  },
  {
   "cell_type": "code",
   "execution_count": 117,
   "metadata": {},
   "outputs": [
    {
     "data": {
      "text/html": [
       "<div>\n",
       "<style scoped>\n",
       "    .dataframe tbody tr th:only-of-type {\n",
       "        vertical-align: middle;\n",
       "    }\n",
       "\n",
       "    .dataframe tbody tr th {\n",
       "        vertical-align: top;\n",
       "    }\n",
       "\n",
       "    .dataframe thead th {\n",
       "        text-align: right;\n",
       "    }\n",
       "</style>\n",
       "<table border=\"1\" class=\"dataframe\">\n",
       "  <thead>\n",
       "    <tr style=\"text-align: right;\">\n",
       "      <th></th>\n",
       "      <th>Accuracy</th>\n",
       "      <th>Balanced accuracy</th>\n",
       "    </tr>\n",
       "  </thead>\n",
       "  <tbody>\n",
       "    <tr>\n",
       "      <th>Logistic regression</th>\n",
       "      <td>0.97</td>\n",
       "      <td>0.56</td>\n",
       "    </tr>\n",
       "    <tr>\n",
       "      <th>Random forest</th>\n",
       "      <td>0.97</td>\n",
       "      <td>0.60</td>\n",
       "    </tr>\n",
       "    <tr>\n",
       "      <th>Decision Tree</th>\n",
       "      <td>0.96</td>\n",
       "      <td>0.69</td>\n",
       "    </tr>\n",
       "    <tr>\n",
       "      <th>Logistic regression with balanced class weights</th>\n",
       "      <td>0.86</td>\n",
       "      <td>0.85</td>\n",
       "    </tr>\n",
       "    <tr>\n",
       "      <th>Random forest with balanced class weights</th>\n",
       "      <td>0.97</td>\n",
       "      <td>0.56</td>\n",
       "    </tr>\n",
       "    <tr>\n",
       "      <th>Decisin tree with balanced class weights</th>\n",
       "      <td>0.95</td>\n",
       "      <td>0.66</td>\n",
       "    </tr>\n",
       "    <tr>\n",
       "      <th>Over-sampling + Logistic regression</th>\n",
       "      <td>0.62</td>\n",
       "      <td>0.51</td>\n",
       "    </tr>\n",
       "    <tr>\n",
       "      <th>Over-sampling + Random forest</th>\n",
       "      <td>0.97</td>\n",
       "      <td>0.61</td>\n",
       "    </tr>\n",
       "    <tr>\n",
       "      <th>Over-sampling + Decision Tree</th>\n",
       "      <td>0.95</td>\n",
       "      <td>0.63</td>\n",
       "    </tr>\n",
       "    <tr>\n",
       "      <th>Balanced random forest</th>\n",
       "      <td>0.85</td>\n",
       "      <td>0.86</td>\n",
       "    </tr>\n",
       "  </tbody>\n",
       "</table>\n",
       "</div>"
      ],
      "text/plain": [
       "                                                 Accuracy  Balanced accuracy\n",
       "Logistic regression                                  0.97               0.56\n",
       "Random forest                                        0.97               0.60\n",
       "Decision Tree                                        0.96               0.69\n",
       "Logistic regression with balanced class weights      0.86               0.85\n",
       "Random forest with balanced class weights            0.97               0.56\n",
       "Decisin tree with balanced class weights             0.95               0.66\n",
       "Over-sampling + Logistic regression                  0.62               0.51\n",
       "Over-sampling + Random forest                        0.97               0.61\n",
       "Over-sampling + Decision Tree                        0.95               0.63\n",
       "Balanced random forest                               0.85               0.86"
      ]
     },
     "execution_count": 117,
     "metadata": {},
     "output_type": "execute_result"
    }
   ],
   "source": [
    "index += [\"Balanced random forest\"]\n",
    "cv_result = cross_validate(rf_clf, X_train, y_train, scoring=scoring)\n",
    "scores[\"Accuracy\"].append(round(cv_result[\"test_accuracy\"].mean(),2))\n",
    "scores[\"Balanced accuracy\"].append(round(cv_result[\"test_balanced_accuracy\"].mean(),2))\n",
    "\n",
    "df_scores = pd.DataFrame(scores, index=index)\n",
    "df_scores"
   ]
  },
  {
   "cell_type": "code",
   "execution_count": 118,
   "metadata": {},
   "outputs": [
    {
     "data": {
      "text/plain": [
       "0.8888888888888888"
      ]
     },
     "execution_count": 118,
     "metadata": {},
     "output_type": "execute_result"
    }
   ],
   "source": [
    "rf_clf.fit(X_train, y_train)\n",
    "predict_test = rf_clf.predict(X_test)\n",
    "balanced_accuracy_score(y_test, predict_test)"
   ]
  },
  {
   "cell_type": "code",
   "execution_count": 119,
   "metadata": {},
   "outputs": [],
   "source": [
    "evaluation_scenario(rf_clf, y_train, y_test, rf_clf.predict(X_train), predict_test, df_results, 'RF-Bal', 22)"
   ]
  },
  {
   "cell_type": "code",
   "execution_count": 121,
   "metadata": {
    "scrolled": true
   },
   "outputs": [
    {
     "name": "stdout",
     "output_type": "stream",
     "text": [
      "Confusion matrix - Test:\n"
     ]
    },
    {
     "data": {
      "image/png": "[encoded data removed]",
      "text/plain": [
       "<Figure size 432x288 with 2 Axes>"
      ]
     },
     "metadata": {
      "needs_background": "light"
     },
     "output_type": "display_data"
    }
   ],
   "source": [
    "print_confusion_matrix(rf_clf, X_test, y_test,'Test')"
   ]
  },
  {
   "cell_type": "code",
   "execution_count": 122,
   "metadata": {
    "scrolled": true
   },
   "outputs": [
    {
     "data": {
      "image/png": "[encoded data removed]",
      "text/plain": [
       "<Figure size 432x288 with 1 Axes>"
      ]
     },
     "metadata": {
      "needs_background": "light"
     },
     "output_type": "display_data"
    }
   ],
   "source": [
    "plot_roc_curve(y_test, predict_test, 'Test')"
   ]
  },
  {
   "cell_type": "markdown",
   "metadata": {},
   "source": [
    "The performance with the BalancedRandomForestClassifier is better than applying a single random under-sampling. \n",
    "\n",
    "We will use a gradient-boosting classifier within a BalancedBaggingClassifier."
   ]
  },
  {
   "cell_type": "code",
   "execution_count": 123,
   "metadata": {},
   "outputs": [
    {
     "data": {
      "text/html": [
       "<div>\n",
       "<style scoped>\n",
       "    .dataframe tbody tr th:only-of-type {\n",
       "        vertical-align: middle;\n",
       "    }\n",
       "\n",
       "    .dataframe tbody tr th {\n",
       "        vertical-align: top;\n",
       "    }\n",
       "\n",
       "    .dataframe thead th {\n",
       "        text-align: right;\n",
       "    }\n",
       "</style>\n",
       "<table border=\"1\" class=\"dataframe\">\n",
       "  <thead>\n",
       "    <tr style=\"text-align: right;\">\n",
       "      <th></th>\n",
       "      <th>Accuracy</th>\n",
       "      <th>Balanced accuracy</th>\n",
       "    </tr>\n",
       "  </thead>\n",
       "  <tbody>\n",
       "    <tr>\n",
       "      <th>Logistic regression</th>\n",
       "      <td>0.97</td>\n",
       "      <td>0.56</td>\n",
       "    </tr>\n",
       "    <tr>\n",
       "      <th>Random forest</th>\n",
       "      <td>0.97</td>\n",
       "      <td>0.60</td>\n",
       "    </tr>\n",
       "    <tr>\n",
       "      <th>Decision Tree</th>\n",
       "      <td>0.96</td>\n",
       "      <td>0.69</td>\n",
       "    </tr>\n",
       "    <tr>\n",
       "      <th>Logistic regression with balanced class weights</th>\n",
       "      <td>0.86</td>\n",
       "      <td>0.85</td>\n",
       "    </tr>\n",
       "    <tr>\n",
       "      <th>Random forest with balanced class weights</th>\n",
       "      <td>0.97</td>\n",
       "      <td>0.56</td>\n",
       "    </tr>\n",
       "    <tr>\n",
       "      <th>Decisin tree with balanced class weights</th>\n",
       "      <td>0.95</td>\n",
       "      <td>0.66</td>\n",
       "    </tr>\n",
       "    <tr>\n",
       "      <th>Over-sampling + Logistic regression</th>\n",
       "      <td>0.62</td>\n",
       "      <td>0.51</td>\n",
       "    </tr>\n",
       "    <tr>\n",
       "      <th>Over-sampling + Random forest</th>\n",
       "      <td>0.97</td>\n",
       "      <td>0.61</td>\n",
       "    </tr>\n",
       "    <tr>\n",
       "      <th>Over-sampling + Decision Tree</th>\n",
       "      <td>0.95</td>\n",
       "      <td>0.63</td>\n",
       "    </tr>\n",
       "    <tr>\n",
       "      <th>Balanced random forest</th>\n",
       "      <td>0.85</td>\n",
       "      <td>0.86</td>\n",
       "    </tr>\n",
       "    <tr>\n",
       "      <th>Balanced bag of histogram gradient boosting</th>\n",
       "      <td>0.89</td>\n",
       "      <td>0.86</td>\n",
       "    </tr>\n",
       "  </tbody>\n",
       "</table>\n",
       "</div>"
      ],
      "text/plain": [
       "                                                 Accuracy  Balanced accuracy\n",
       "Logistic regression                                  0.97               0.56\n",
       "Random forest                                        0.97               0.60\n",
       "Decision Tree                                        0.96               0.69\n",
       "Logistic regression with balanced class weights      0.86               0.85\n",
       "Random forest with balanced class weights            0.97               0.56\n",
       "Decisin tree with balanced class weights             0.95               0.66\n",
       "Over-sampling + Logistic regression                  0.62               0.51\n",
       "Over-sampling + Random forest                        0.97               0.61\n",
       "Over-sampling + Decision Tree                        0.95               0.63\n",
       "Balanced random forest                               0.85               0.86\n",
       "Balanced bag of histogram gradient boosting          0.89               0.86"
      ]
     },
     "execution_count": 123,
     "metadata": {},
     "output_type": "execute_result"
    }
   ],
   "source": [
    "from sklearn.experimental import enable_hist_gradient_boosting  # noqa\n",
    "from sklearn.ensemble import HistGradientBoostingClassifier\n",
    "from imblearn.ensemble import BalancedBaggingClassifier\n",
    "\n",
    "bag_clf = make_pipeline(\n",
    "    BalancedBaggingClassifier(\n",
    "        base_estimator=HistGradientBoostingClassifier(random_state=42),\n",
    "        n_estimators=10,\n",
    "        random_state=42,\n",
    "        n_jobs=2,\n",
    "    ),\n",
    ")\n",
    "\n",
    "index += [\"Balanced bag of histogram gradient boosting\"]\n",
    "cv_result = cross_validate(bag_clf, X_train, y_train, scoring=scoring)\n",
    "scores[\"Accuracy\"].append(round(cv_result[\"test_accuracy\"].mean(),2))\n",
    "scores[\"Balanced accuracy\"].append(round(cv_result[\"test_balanced_accuracy\"].mean(),2))\n",
    "\n",
    "df_scores = pd.DataFrame(scores, index=index)\n",
    "df_scores"
   ]
  },
  {
   "cell_type": "code",
   "execution_count": 124,
   "metadata": {},
   "outputs": [
    {
     "data": {
      "text/plain": [
       "0.8585858585858586"
      ]
     },
     "execution_count": 124,
     "metadata": {},
     "output_type": "execute_result"
    }
   ],
   "source": [
    "bag_clf.fit(X_train, y_train)\n",
    "predict_test = bag_clf.predict(X_test)\n",
    "balanced_accuracy_score(y_test, predict_test)"
   ]
  },
  {
   "cell_type": "code",
   "execution_count": 125,
   "metadata": {},
   "outputs": [],
   "source": [
    "evaluation_scenario(bag_clf, y_train, y_test, bag_clf.predict(X_train), predict_test, df_results, 'BBC-Boo', 22)"
   ]
  },
  {
   "cell_type": "code",
   "execution_count": 126,
   "metadata": {
    "scrolled": true
   },
   "outputs": [
    {
     "name": "stdout",
     "output_type": "stream",
     "text": [
      "Confusion matrix - Test:\n"
     ]
    },
    {
     "data": {
      "image/png": "[encoded data removed]",
      "text/plain": [
       "<Figure size 432x288 with 2 Axes>"
      ]
     },
     "metadata": {
      "needs_background": "light"
     },
     "output_type": "display_data"
    }
   ],
   "source": [
    "print_confusion_matrix(bag_clf, X_test, y_test,'Test')"
   ]
  },
  {
   "cell_type": "code",
   "execution_count": 127,
   "metadata": {
    "scrolled": true
   },
   "outputs": [
    {
     "data": {
      "image/png": "[encoded data removed]",
      "text/plain": [
       "<Figure size 432x288 with 1 Axes>"
      ]
     },
     "metadata": {
      "needs_background": "light"
     },
     "output_type": "display_data"
    }
   ],
   "source": [
    "plot_roc_curve(y_test, predict_test, 'Test')"
   ]
  },
  {
   "cell_type": "code",
   "execution_count": 128,
   "metadata": {},
   "outputs": [
    {
     "data": {
      "text/html": [
       "<div>\n",
       "<style scoped>\n",
       "    .dataframe tbody tr th:only-of-type {\n",
       "        vertical-align: middle;\n",
       "    }\n",
       "\n",
       "    .dataframe tbody tr th {\n",
       "        vertical-align: top;\n",
       "    }\n",
       "\n",
       "    .dataframe thead th {\n",
       "        text-align: right;\n",
       "    }\n",
       "</style>\n",
       "<table border=\"1\" class=\"dataframe\">\n",
       "  <thead>\n",
       "    <tr style=\"text-align: right;\">\n",
       "      <th></th>\n",
       "      <th>Scenarios</th>\n",
       "      <th>#Features</th>\n",
       "      <th>Train/Test</th>\n",
       "      <th>Acc</th>\n",
       "      <th>Bal_Acc</th>\n",
       "      <th>M_P</th>\n",
       "      <th>M_R</th>\n",
       "      <th>M_F1</th>\n",
       "      <th>P0</th>\n",
       "      <th>P1</th>\n",
       "      <th>R0</th>\n",
       "      <th>R1</th>\n",
       "      <th>MSE</th>\n",
       "      <th>Auc</th>\n",
       "    </tr>\n",
       "  </thead>\n",
       "  <tbody>\n",
       "    <tr>\n",
       "      <th>1</th>\n",
       "      <td>LR-SW</td>\n",
       "      <td>22 features</td>\n",
       "      <td>Train</td>\n",
       "      <td>0.86</td>\n",
       "      <td>0.87</td>\n",
       "      <td>0.58</td>\n",
       "      <td>0.87</td>\n",
       "      <td>0.60</td>\n",
       "      <td>1.00</td>\n",
       "      <td>0.17</td>\n",
       "      <td>0.86</td>\n",
       "      <td>0.88</td>\n",
       "      <td>0.144</td>\n",
       "      <td>0.87</td>\n",
       "    </tr>\n",
       "    <tr>\n",
       "      <th>2</th>\n",
       "      <td>LR-SW</td>\n",
       "      <td>22 features</td>\n",
       "      <td>Val/Test</td>\n",
       "      <td>0.86</td>\n",
       "      <td>0.85</td>\n",
       "      <td>0.58</td>\n",
       "      <td>0.85</td>\n",
       "      <td>0.60</td>\n",
       "      <td>0.99</td>\n",
       "      <td>0.17</td>\n",
       "      <td>0.86</td>\n",
       "      <td>0.83</td>\n",
       "      <td>0.140</td>\n",
       "      <td>0.85</td>\n",
       "    </tr>\n",
       "    <tr>\n",
       "      <th>3</th>\n",
       "      <td>RF-Bal</td>\n",
       "      <td>22 features</td>\n",
       "      <td>Train</td>\n",
       "      <td>0.86</td>\n",
       "      <td>0.93</td>\n",
       "      <td>0.59</td>\n",
       "      <td>0.93</td>\n",
       "      <td>0.62</td>\n",
       "      <td>1.00</td>\n",
       "      <td>0.19</td>\n",
       "      <td>0.86</td>\n",
       "      <td>1.00</td>\n",
       "      <td>0.138</td>\n",
       "      <td>0.93</td>\n",
       "    </tr>\n",
       "    <tr>\n",
       "      <th>4</th>\n",
       "      <td>RF-Bal</td>\n",
       "      <td>22 features</td>\n",
       "      <td>Val/Test</td>\n",
       "      <td>0.86</td>\n",
       "      <td>0.89</td>\n",
       "      <td>0.59</td>\n",
       "      <td>0.89</td>\n",
       "      <td>0.61</td>\n",
       "      <td>1.00</td>\n",
       "      <td>0.17</td>\n",
       "      <td>0.85</td>\n",
       "      <td>0.92</td>\n",
       "      <td>0.144</td>\n",
       "      <td>0.89</td>\n",
       "    </tr>\n",
       "    <tr>\n",
       "      <th>5</th>\n",
       "      <td>BBC-Boo</td>\n",
       "      <td>22 features</td>\n",
       "      <td>Train</td>\n",
       "      <td>0.90</td>\n",
       "      <td>0.93</td>\n",
       "      <td>0.62</td>\n",
       "      <td>0.93</td>\n",
       "      <td>0.67</td>\n",
       "      <td>1.00</td>\n",
       "      <td>0.25</td>\n",
       "      <td>0.90</td>\n",
       "      <td>0.97</td>\n",
       "      <td>0.096</td>\n",
       "      <td>0.93</td>\n",
       "    </tr>\n",
       "    <tr>\n",
       "      <th>6</th>\n",
       "      <td>BBC-Boo</td>\n",
       "      <td>22 features</td>\n",
       "      <td>Val/Test</td>\n",
       "      <td>0.90</td>\n",
       "      <td>0.86</td>\n",
       "      <td>0.60</td>\n",
       "      <td>0.86</td>\n",
       "      <td>0.64</td>\n",
       "      <td>0.99</td>\n",
       "      <td>0.21</td>\n",
       "      <td>0.90</td>\n",
       "      <td>0.82</td>\n",
       "      <td>0.104</td>\n",
       "      <td>0.86</td>\n",
       "    </tr>\n",
       "  </tbody>\n",
       "</table>\n",
       "</div>"
      ],
      "text/plain": [
       "  Scenarios    #Features Train/Test   Acc  Bal_Acc   M_P   M_R  M_F1    P0  \\\n",
       "1     LR-SW  22 features      Train  0.86     0.87  0.58  0.87  0.60  1.00   \n",
       "2     LR-SW  22 features   Val/Test  0.86     0.85  0.58  0.85  0.60  0.99   \n",
       "3    RF-Bal  22 features      Train  0.86     0.93  0.59  0.93  0.62  1.00   \n",
       "4    RF-Bal  22 features   Val/Test  0.86     0.89  0.59  0.89  0.61  1.00   \n",
       "5   BBC-Boo  22 features      Train  0.90     0.93  0.62  0.93  0.67  1.00   \n",
       "6   BBC-Boo  22 features   Val/Test  0.90     0.86  0.60  0.86  0.64  0.99   \n",
       "\n",
       "     P1    R0    R1    MSE   Auc  \n",
       "1  0.17  0.86  0.88  0.144  0.87  \n",
       "2  0.17  0.86  0.83  0.140  0.85  \n",
       "3  0.19  0.86  1.00  0.138  0.93  \n",
       "4  0.17  0.85  0.92  0.144  0.89  \n",
       "5  0.25  0.90  0.97  0.096  0.93  \n",
       "6  0.21  0.90  0.82  0.104  0.86  "
      ]
     },
     "execution_count": 128,
     "metadata": {},
     "output_type": "execute_result"
    }
   ],
   "source": [
    "df_results"
   ]
  },
  {
   "cell_type": "code",
   "execution_count": null,
   "metadata": {},
   "outputs": [],
   "source": []
  }
 ],
 "metadata": {
  "colab": {
   "collapsed_sections": [],
   "name": "DT_bankrupt.ipynb",
   "provenance": []
  },
  "deepnote": {},
  "deepnote_execution_queue": [],
  "deepnote_notebook_id": "d4af78b2-fd58-4e38-ae27-0aee868ff7ec",
  "kernelspec": {
   "display_name": "Python 3",
   "language": "python",
   "name": "python3"
  },
  "language_info": {
   "codemirror_mode": {
    "name": "ipython",
    "version": 3
   },
   "file_extension": ".py",
   "mimetype": "text/x-python",
   "name": "python",
   "nbconvert_exporter": "python",
   "pygments_lexer": "ipython3",
   "version": "3.8.8"
  }
 },
 "nbformat": 4,
 "nbformat_minor": 4
}
