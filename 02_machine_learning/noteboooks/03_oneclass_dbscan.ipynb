{
 "cells": [
  {
   "cell_type": "markdown",
   "metadata": {},
   "source": [
    "# Machine Learning Project\n",
    "\n",
    "### Company Bankruptcy Prediction\n",
    "\n",
    "Names:    \n",
    "    - Denis Mugisha   \n",
    "    - Liu Guangqiang   \n",
    "    - Rachel Fanti   \n",
    "    \n",
    "Dataset: https://www.kaggle.com/fedesoriano/company-bankruptcy-prediction\n",
    "\n",
    "Data: May/2021\n",
    "\n",
    "## Libraries"
   ]
  },
  {
   "cell_type": "code",
   "execution_count": 1,
   "metadata": {},
   "outputs": [],
   "source": [
    "# Basics\n",
    "%matplotlib inline\n",
    "import matplotlib.pyplot as plt \n",
    "import numpy as np \n",
    "import pandas as pd\n",
    "import seaborn as sns\n",
    "\n",
    "# Statistic funtions\n",
    "from numpy.random import seed\n",
    "from numpy import unique\n",
    "from numpy import where\n",
    "from collections import Counter\n",
    "\n",
    "# Preprocessing\n",
    "import sklearn\n",
    "from sklearn.preprocessing import StandardScaler\n",
    "from sklearn.model_selection import train_test_split\n",
    "from sklearn.model_selection import StratifiedKFold\n",
    "\n",
    "# One class SVM\n",
    "from sklearn.svm import OneClassSVM\n",
    "\n",
    "# Dbscan clustering\n",
    "from sklearn.datasets import make_classification\n",
    "from sklearn.cluster import DBSCAN\n",
    "\n",
    "# Graphics\n",
    "from sklearn.decomposition import PCA\n",
    "\n",
    "# Evaluation of the model\n",
    "from sklearn.model_selection import GridSearchCV\n",
    "from sklearn.metrics import classification_report, confusion_matrix, plot_confusion_matrix, ConfusionMatrixDisplay\n",
    "from sklearn.metrics import f1_score, mean_squared_error\n",
    "from sklearn.metrics import make_scorer\n",
    "from sklearn.model_selection import learning_curve, validation_curve\n",
    "\n",
    "# To handle imbalanced data\n",
    "import imblearn\n",
    "from imblearn.over_sampling import SMOTE, RandomOverSampler\n",
    "# print(imblearn.__version__)\n",
    "\n",
    "# import notebook with the functions that evaluate the model\n",
    "# 'pip install ipynb'\n",
    "from ipynb.fs.full.evaluation_functions import evaluation_scenario, plot_roc_curve, evaluation_set"
   ]
  },
  {
   "cell_type": "markdown",
   "metadata": {},
   "source": [
    "## Reading data "
   ]
  },
  {
   "cell_type": "code",
   "execution_count": 2,
   "metadata": {},
   "outputs": [
    {
     "data": {
      "text/html": [
       "<div>\n",
       "<style scoped>\n",
       "    .dataframe tbody tr th:only-of-type {\n",
       "        vertical-align: middle;\n",
       "    }\n",
       "\n",
       "    .dataframe tbody tr th {\n",
       "        vertical-align: top;\n",
       "    }\n",
       "\n",
       "    .dataframe thead th {\n",
       "        text-align: right;\n",
       "    }\n",
       "</style>\n",
       "<table border=\"1\" class=\"dataframe\">\n",
       "  <thead>\n",
       "    <tr style=\"text-align: right;\">\n",
       "      <th></th>\n",
       "      <th>Unnamed: 0</th>\n",
       "      <th>features</th>\n",
       "      <th>importance</th>\n",
       "      <th>select_tree</th>\n",
       "      <th>rank_rfecv</th>\n",
       "      <th>selected_rfecv</th>\n",
       "      <th>corr</th>\n",
       "    </tr>\n",
       "  </thead>\n",
       "  <tbody>\n",
       "    <tr>\n",
       "      <th>0</th>\n",
       "      <td>47</td>\n",
       "      <td>Inventory Turnover Rate (times)</td>\n",
       "      <td>0.001875</td>\n",
       "      <td>True</td>\n",
       "      <td>1</td>\n",
       "      <td>True</td>\n",
       "      <td>0.012556</td>\n",
       "    </tr>\n",
       "    <tr>\n",
       "      <th>1</th>\n",
       "      <td>71</td>\n",
       "      <td>Quick Asset Turnover Rate</td>\n",
       "      <td>0.000000</td>\n",
       "      <td>True</td>\n",
       "      <td>1</td>\n",
       "      <td>True</td>\n",
       "      <td>0.036946</td>\n",
       "    </tr>\n",
       "    <tr>\n",
       "      <th>2</th>\n",
       "      <td>61</td>\n",
       "      <td>Inventory/Working Capital</td>\n",
       "      <td>0.025644</td>\n",
       "      <td>True</td>\n",
       "      <td>1</td>\n",
       "      <td>True</td>\n",
       "      <td>0.055539</td>\n",
       "    </tr>\n",
       "    <tr>\n",
       "      <th>3</th>\n",
       "      <td>56</td>\n",
       "      <td>Cash/Total Assets</td>\n",
       "      <td>0.023681</td>\n",
       "      <td>True</td>\n",
       "      <td>1</td>\n",
       "      <td>True</td>\n",
       "      <td>0.150828</td>\n",
       "    </tr>\n",
       "    <tr>\n",
       "      <th>4</th>\n",
       "      <td>55</td>\n",
       "      <td>Current Assets/Total Assets</td>\n",
       "      <td>0.003832</td>\n",
       "      <td>True</td>\n",
       "      <td>1</td>\n",
       "      <td>True</td>\n",
       "      <td>0.044232</td>\n",
       "    </tr>\n",
       "    <tr>\n",
       "      <th>...</th>\n",
       "      <td>...</td>\n",
       "      <td>...</td>\n",
       "      <td>...</td>\n",
       "      <td>...</td>\n",
       "      <td>...</td>\n",
       "      <td>...</td>\n",
       "      <td>...</td>\n",
       "    </tr>\n",
       "    <tr>\n",
       "      <th>90</th>\n",
       "      <td>2</td>\n",
       "      <td>ROA(B) before interest and depreciation after...</td>\n",
       "      <td>0.000000</td>\n",
       "      <td>False</td>\n",
       "      <td>71</td>\n",
       "      <td>False</td>\n",
       "      <td>0.224163</td>\n",
       "    </tr>\n",
       "    <tr>\n",
       "      <th>91</th>\n",
       "      <td>48</td>\n",
       "      <td>Fixed Assets Turnover Frequency</td>\n",
       "      <td>0.000000</td>\n",
       "      <td>True</td>\n",
       "      <td>72</td>\n",
       "      <td>False</td>\n",
       "      <td>0.047546</td>\n",
       "    </tr>\n",
       "    <tr>\n",
       "      <th>92</th>\n",
       "      <td>32</td>\n",
       "      <td>Current Ratio</td>\n",
       "      <td>0.000000</td>\n",
       "      <td>False</td>\n",
       "      <td>73</td>\n",
       "      <td>False</td>\n",
       "      <td>0.189644</td>\n",
       "    </tr>\n",
       "    <tr>\n",
       "      <th>93</th>\n",
       "      <td>1</td>\n",
       "      <td>ROA(A) before interest and % after tax</td>\n",
       "      <td>0.000000</td>\n",
       "      <td>False</td>\n",
       "      <td>74</td>\n",
       "      <td>False</td>\n",
       "      <td>0.222410</td>\n",
       "    </tr>\n",
       "    <tr>\n",
       "      <th>94</th>\n",
       "      <td>0</td>\n",
       "      <td>ROA(C) before interest and depreciation befor...</td>\n",
       "      <td>0.008929</td>\n",
       "      <td>False</td>\n",
       "      <td>75</td>\n",
       "      <td>False</td>\n",
       "      <td>0.223589</td>\n",
       "    </tr>\n",
       "  </tbody>\n",
       "</table>\n",
       "<p>95 rows × 7 columns</p>\n",
       "</div>"
      ],
      "text/plain": [
       "    Unnamed: 0                                           features  importance  \\\n",
       "0           47                    Inventory Turnover Rate (times)    0.001875   \n",
       "1           71                          Quick Asset Turnover Rate    0.000000   \n",
       "2           61                          Inventory/Working Capital    0.025644   \n",
       "3           56                                  Cash/Total Assets    0.023681   \n",
       "4           55                        Current Assets/Total Assets    0.003832   \n",
       "..         ...                                                ...         ...   \n",
       "90           2   ROA(B) before interest and depreciation after...    0.000000   \n",
       "91          48                    Fixed Assets Turnover Frequency    0.000000   \n",
       "92          32                                      Current Ratio    0.000000   \n",
       "93           1             ROA(A) before interest and % after tax    0.000000   \n",
       "94           0   ROA(C) before interest and depreciation befor...    0.008929   \n",
       "\n",
       "    select_tree  rank_rfecv  selected_rfecv      corr  \n",
       "0          True           1            True  0.012556  \n",
       "1          True           1            True  0.036946  \n",
       "2          True           1            True  0.055539  \n",
       "3          True           1            True  0.150828  \n",
       "4          True           1            True  0.044232  \n",
       "..          ...         ...             ...       ...  \n",
       "90        False          71           False  0.224163  \n",
       "91         True          72           False  0.047546  \n",
       "92        False          73           False  0.189644  \n",
       "93        False          74           False  0.222410  \n",
       "94        False          75           False  0.223589  \n",
       "\n",
       "[95 rows x 7 columns]"
      ]
     },
     "execution_count": 2,
     "metadata": {},
     "output_type": "execute_result"
    }
   ],
   "source": [
    "df_complete = pd.read_csv('./data/data.csv', sep = \",\") \n",
    "df_feat = pd.read_csv('./data/bankruptcy.csv')\n",
    "df_feat"
   ]
  },
  {
   "cell_type": "code",
   "execution_count": 3,
   "metadata": {},
   "outputs": [
    {
     "name": "stdout",
     "output_type": "stream",
     "text": [
      "['Bankrupt?' ' Inventory Turnover Rate (times)'\n",
      " ' Quick Asset Turnover Rate' ' Inventory/Working Capital'\n",
      " ' Cash/Total Assets' ' Current Assets/Total Assets'\n",
      " ' Allocation rate per person' ' Net profit before tax/Paid-in capital'\n",
      " ' Borrowing dependency' ' Net worth/Assets' ' Interest Expense Ratio'\n",
      " ' Cash Reinvestment %' ' Net Value Growth Rate'\n",
      " ' Net Value Per Share (B)' ' Current Liability to Current Assets'\n",
      " ' Interest-bearing debt interest rate'\n",
      " \" Net Income to Stockholder's Equity\"\n",
      " ' Degree of Financial Leverage (DFL)' ' Total assets to GNP price'\n",
      " ' Non-industry income and expenditure/revenue' ' Operating Expense Rate'\n",
      " ' Research and development expense rate']\n"
     ]
    }
   ],
   "source": [
    "col = df_feat[df_feat['selected_rfecv']==True]['features'].values\n",
    "col = np.insert(col, 0, 'Bankrupt?')\n",
    "print(col)"
   ]
  },
  {
   "cell_type": "code",
   "execution_count": 4,
   "metadata": {},
   "outputs": [],
   "source": [
    "df = df_complete.loc[:, col]"
   ]
  },
  {
   "cell_type": "code",
   "execution_count": 5,
   "metadata": {},
   "outputs": [
    {
     "data": {
      "text/html": [
       "<div>\n",
       "<style scoped>\n",
       "    .dataframe tbody tr th:only-of-type {\n",
       "        vertical-align: middle;\n",
       "    }\n",
       "\n",
       "    .dataframe tbody tr th {\n",
       "        vertical-align: top;\n",
       "    }\n",
       "\n",
       "    .dataframe thead th {\n",
       "        text-align: right;\n",
       "    }\n",
       "</style>\n",
       "<table border=\"1\" class=\"dataframe\">\n",
       "  <thead>\n",
       "    <tr style=\"text-align: right;\">\n",
       "      <th></th>\n",
       "      <th>Bankrupt?</th>\n",
       "      <th>Inventory Turnover Rate (times)</th>\n",
       "      <th>Quick Asset Turnover Rate</th>\n",
       "      <th>Inventory/Working Capital</th>\n",
       "      <th>Cash/Total Assets</th>\n",
       "      <th>Current Assets/Total Assets</th>\n",
       "      <th>Allocation rate per person</th>\n",
       "      <th>Net profit before tax/Paid-in capital</th>\n",
       "      <th>Borrowing dependency</th>\n",
       "      <th>Net worth/Assets</th>\n",
       "      <th>...</th>\n",
       "      <th>Net Value Growth Rate</th>\n",
       "      <th>Net Value Per Share (B)</th>\n",
       "      <th>Current Liability to Current Assets</th>\n",
       "      <th>Interest-bearing debt interest rate</th>\n",
       "      <th>Net Income to Stockholder's Equity</th>\n",
       "      <th>Degree of Financial Leverage (DFL)</th>\n",
       "      <th>Total assets to GNP price</th>\n",
       "      <th>Non-industry income and expenditure/revenue</th>\n",
       "      <th>Operating Expense Rate</th>\n",
       "      <th>Research and development expense rate</th>\n",
       "    </tr>\n",
       "  </thead>\n",
       "  <tbody>\n",
       "    <tr>\n",
       "      <th>0</th>\n",
       "      <td>1</td>\n",
       "      <td>1.820926e-04</td>\n",
       "      <td>6.550000e+09</td>\n",
       "      <td>0.276920</td>\n",
       "      <td>0.004094</td>\n",
       "      <td>0.190643</td>\n",
       "      <td>0.037135</td>\n",
       "      <td>0.137757</td>\n",
       "      <td>0.390284</td>\n",
       "      <td>0.792424</td>\n",
       "      <td>...</td>\n",
       "      <td>0.000327</td>\n",
       "      <td>0.147950</td>\n",
       "      <td>0.118250</td>\n",
       "      <td>7.250725e-04</td>\n",
       "      <td>0.827890</td>\n",
       "      <td>0.026601</td>\n",
       "      <td>0.009219</td>\n",
       "      <td>0.302646</td>\n",
       "      <td>1.256969e-04</td>\n",
       "      <td>0.000000e+00</td>\n",
       "    </tr>\n",
       "    <tr>\n",
       "      <th>1</th>\n",
       "      <td>1</td>\n",
       "      <td>9.360000e+09</td>\n",
       "      <td>7.700000e+09</td>\n",
       "      <td>0.289642</td>\n",
       "      <td>0.014948</td>\n",
       "      <td>0.182419</td>\n",
       "      <td>0.012335</td>\n",
       "      <td>0.168962</td>\n",
       "      <td>0.376760</td>\n",
       "      <td>0.828824</td>\n",
       "      <td>...</td>\n",
       "      <td>0.000443</td>\n",
       "      <td>0.182251</td>\n",
       "      <td>0.047775</td>\n",
       "      <td>6.470647e-04</td>\n",
       "      <td>0.839969</td>\n",
       "      <td>0.264577</td>\n",
       "      <td>0.008323</td>\n",
       "      <td>0.303556</td>\n",
       "      <td>2.897851e-04</td>\n",
       "      <td>0.000000e+00</td>\n",
       "    </tr>\n",
       "    <tr>\n",
       "      <th>2</th>\n",
       "      <td>1</td>\n",
       "      <td>6.500000e+07</td>\n",
       "      <td>1.022676e-03</td>\n",
       "      <td>0.277456</td>\n",
       "      <td>0.000991</td>\n",
       "      <td>0.602806</td>\n",
       "      <td>0.141016</td>\n",
       "      <td>0.148036</td>\n",
       "      <td>0.379093</td>\n",
       "      <td>0.792484</td>\n",
       "      <td>...</td>\n",
       "      <td>0.000396</td>\n",
       "      <td>0.177911</td>\n",
       "      <td>0.025346</td>\n",
       "      <td>7.900790e-04</td>\n",
       "      <td>0.836774</td>\n",
       "      <td>0.026555</td>\n",
       "      <td>0.040003</td>\n",
       "      <td>0.302035</td>\n",
       "      <td>2.361297e-04</td>\n",
       "      <td>2.550000e+07</td>\n",
       "    </tr>\n",
       "    <tr>\n",
       "      <th>3</th>\n",
       "      <td>1</td>\n",
       "      <td>7.130000e+09</td>\n",
       "      <td>6.050000e+09</td>\n",
       "      <td>0.276580</td>\n",
       "      <td>0.018851</td>\n",
       "      <td>0.225815</td>\n",
       "      <td>0.021320</td>\n",
       "      <td>0.147561</td>\n",
       "      <td>0.379743</td>\n",
       "      <td>0.848535</td>\n",
       "      <td>...</td>\n",
       "      <td>0.000382</td>\n",
       "      <td>0.154187</td>\n",
       "      <td>0.067250</td>\n",
       "      <td>4.490449e-04</td>\n",
       "      <td>0.834697</td>\n",
       "      <td>0.026697</td>\n",
       "      <td>0.003252</td>\n",
       "      <td>0.303350</td>\n",
       "      <td>1.078888e-04</td>\n",
       "      <td>0.000000e+00</td>\n",
       "    </tr>\n",
       "    <tr>\n",
       "      <th>4</th>\n",
       "      <td>1</td>\n",
       "      <td>1.633674e-04</td>\n",
       "      <td>5.050000e+09</td>\n",
       "      <td>0.287913</td>\n",
       "      <td>0.014161</td>\n",
       "      <td>0.358380</td>\n",
       "      <td>0.023988</td>\n",
       "      <td>0.167461</td>\n",
       "      <td>0.375025</td>\n",
       "      <td>0.893491</td>\n",
       "      <td>...</td>\n",
       "      <td>0.000439</td>\n",
       "      <td>0.167502</td>\n",
       "      <td>0.047725</td>\n",
       "      <td>6.860686e-04</td>\n",
       "      <td>0.839973</td>\n",
       "      <td>0.024752</td>\n",
       "      <td>0.003878</td>\n",
       "      <td>0.303475</td>\n",
       "      <td>7.890000e+09</td>\n",
       "      <td>0.000000e+00</td>\n",
       "    </tr>\n",
       "    <tr>\n",
       "      <th>...</th>\n",
       "      <td>...</td>\n",
       "      <td>...</td>\n",
       "      <td>...</td>\n",
       "      <td>...</td>\n",
       "      <td>...</td>\n",
       "      <td>...</td>\n",
       "      <td>...</td>\n",
       "      <td>...</td>\n",
       "      <td>...</td>\n",
       "      <td>...</td>\n",
       "      <td>...</td>\n",
       "      <td>...</td>\n",
       "      <td>...</td>\n",
       "      <td>...</td>\n",
       "      <td>...</td>\n",
       "      <td>...</td>\n",
       "      <td>...</td>\n",
       "      <td>...</td>\n",
       "      <td>...</td>\n",
       "      <td>...</td>\n",
       "      <td>...</td>\n",
       "    </tr>\n",
       "    <tr>\n",
       "      <th>6814</th>\n",
       "      <td>0</td>\n",
       "      <td>4.030000e+07</td>\n",
       "      <td>1.244230e-04</td>\n",
       "      <td>0.277543</td>\n",
       "      <td>0.099481</td>\n",
       "      <td>0.578455</td>\n",
       "      <td>0.006312</td>\n",
       "      <td>0.171111</td>\n",
       "      <td>0.373823</td>\n",
       "      <td>0.875382</td>\n",
       "      <td>...</td>\n",
       "      <td>0.000450</td>\n",
       "      <td>0.175045</td>\n",
       "      <td>0.027951</td>\n",
       "      <td>1.790179e-04</td>\n",
       "      <td>0.840359</td>\n",
       "      <td>0.027064</td>\n",
       "      <td>0.000466</td>\n",
       "      <td>0.303510</td>\n",
       "      <td>1.510213e-04</td>\n",
       "      <td>4.500000e+09</td>\n",
       "    </tr>\n",
       "    <tr>\n",
       "      <th>6815</th>\n",
       "      <td>0</td>\n",
       "      <td>9.940000e+09</td>\n",
       "      <td>1.173396e-04</td>\n",
       "      <td>0.277368</td>\n",
       "      <td>0.080337</td>\n",
       "      <td>0.444043</td>\n",
       "      <td>0.003401</td>\n",
       "      <td>0.171805</td>\n",
       "      <td>0.372505</td>\n",
       "      <td>0.900747</td>\n",
       "      <td>...</td>\n",
       "      <td>0.000445</td>\n",
       "      <td>0.181324</td>\n",
       "      <td>0.031470</td>\n",
       "      <td>2.370237e-04</td>\n",
       "      <td>0.840306</td>\n",
       "      <td>0.027009</td>\n",
       "      <td>0.001959</td>\n",
       "      <td>0.303520</td>\n",
       "      <td>5.220000e+09</td>\n",
       "      <td>1.440000e+09</td>\n",
       "    </tr>\n",
       "    <tr>\n",
       "      <th>6816</th>\n",
       "      <td>0</td>\n",
       "      <td>2.797309e-04</td>\n",
       "      <td>1.749713e-04</td>\n",
       "      <td>0.277022</td>\n",
       "      <td>0.412885</td>\n",
       "      <td>0.496053</td>\n",
       "      <td>0.002774</td>\n",
       "      <td>0.172287</td>\n",
       "      <td>0.369637</td>\n",
       "      <td>0.961061</td>\n",
       "      <td>...</td>\n",
       "      <td>0.000435</td>\n",
       "      <td>0.269521</td>\n",
       "      <td>0.007542</td>\n",
       "      <td>0.000000e+00</td>\n",
       "      <td>0.840138</td>\n",
       "      <td>0.026791</td>\n",
       "      <td>0.002840</td>\n",
       "      <td>0.303512</td>\n",
       "      <td>2.509312e-04</td>\n",
       "      <td>1.039086e-04</td>\n",
       "    </tr>\n",
       "    <tr>\n",
       "      <th>6817</th>\n",
       "      <td>0</td>\n",
       "      <td>4.550000e+09</td>\n",
       "      <td>1.351937e-04</td>\n",
       "      <td>0.277353</td>\n",
       "      <td>0.112238</td>\n",
       "      <td>0.564439</td>\n",
       "      <td>0.007489</td>\n",
       "      <td>0.182498</td>\n",
       "      <td>0.369649</td>\n",
       "      <td>0.913021</td>\n",
       "      <td>...</td>\n",
       "      <td>0.000529</td>\n",
       "      <td>0.213392</td>\n",
       "      <td>0.022916</td>\n",
       "      <td>2.110211e-04</td>\n",
       "      <td>0.841084</td>\n",
       "      <td>0.026822</td>\n",
       "      <td>0.002837</td>\n",
       "      <td>0.303498</td>\n",
       "      <td>1.236154e-04</td>\n",
       "      <td>2.510000e+09</td>\n",
       "    </tr>\n",
       "    <tr>\n",
       "      <th>6818</th>\n",
       "      <td>0</td>\n",
       "      <td>1.910000e+07</td>\n",
       "      <td>8.238471e-03</td>\n",
       "      <td>0.276975</td>\n",
       "      <td>0.238147</td>\n",
       "      <td>0.505010</td>\n",
       "      <td>0.000963</td>\n",
       "      <td>0.179911</td>\n",
       "      <td>0.370049</td>\n",
       "      <td>0.985851</td>\n",
       "      <td>...</td>\n",
       "      <td>0.000519</td>\n",
       "      <td>0.220766</td>\n",
       "      <td>0.005579</td>\n",
       "      <td>5.900000e+08</td>\n",
       "      <td>0.841019</td>\n",
       "      <td>0.026793</td>\n",
       "      <td>0.000707</td>\n",
       "      <td>0.313415</td>\n",
       "      <td>1.431695e-03</td>\n",
       "      <td>0.000000e+00</td>\n",
       "    </tr>\n",
       "  </tbody>\n",
       "</table>\n",
       "<p>6819 rows × 22 columns</p>\n",
       "</div>"
      ],
      "text/plain": [
       "      Bankrupt?   Inventory Turnover Rate (times)   Quick Asset Turnover Rate  \\\n",
       "0             1                      1.820926e-04                6.550000e+09   \n",
       "1             1                      9.360000e+09                7.700000e+09   \n",
       "2             1                      6.500000e+07                1.022676e-03   \n",
       "3             1                      7.130000e+09                6.050000e+09   \n",
       "4             1                      1.633674e-04                5.050000e+09   \n",
       "...         ...                               ...                         ...   \n",
       "6814          0                      4.030000e+07                1.244230e-04   \n",
       "6815          0                      9.940000e+09                1.173396e-04   \n",
       "6816          0                      2.797309e-04                1.749713e-04   \n",
       "6817          0                      4.550000e+09                1.351937e-04   \n",
       "6818          0                      1.910000e+07                8.238471e-03   \n",
       "\n",
       "       Inventory/Working Capital   Cash/Total Assets  \\\n",
       "0                       0.276920            0.004094   \n",
       "1                       0.289642            0.014948   \n",
       "2                       0.277456            0.000991   \n",
       "3                       0.276580            0.018851   \n",
       "4                       0.287913            0.014161   \n",
       "...                          ...                 ...   \n",
       "6814                    0.277543            0.099481   \n",
       "6815                    0.277368            0.080337   \n",
       "6816                    0.277022            0.412885   \n",
       "6817                    0.277353            0.112238   \n",
       "6818                    0.276975            0.238147   \n",
       "\n",
       "       Current Assets/Total Assets   Allocation rate per person  \\\n",
       "0                         0.190643                     0.037135   \n",
       "1                         0.182419                     0.012335   \n",
       "2                         0.602806                     0.141016   \n",
       "3                         0.225815                     0.021320   \n",
       "4                         0.358380                     0.023988   \n",
       "...                            ...                          ...   \n",
       "6814                      0.578455                     0.006312   \n",
       "6815                      0.444043                     0.003401   \n",
       "6816                      0.496053                     0.002774   \n",
       "6817                      0.564439                     0.007489   \n",
       "6818                      0.505010                     0.000963   \n",
       "\n",
       "       Net profit before tax/Paid-in capital   Borrowing dependency  \\\n",
       "0                                   0.137757               0.390284   \n",
       "1                                   0.168962               0.376760   \n",
       "2                                   0.148036               0.379093   \n",
       "3                                   0.147561               0.379743   \n",
       "4                                   0.167461               0.375025   \n",
       "...                                      ...                    ...   \n",
       "6814                                0.171111               0.373823   \n",
       "6815                                0.171805               0.372505   \n",
       "6816                                0.172287               0.369637   \n",
       "6817                                0.182498               0.369649   \n",
       "6818                                0.179911               0.370049   \n",
       "\n",
       "       Net worth/Assets  ...   Net Value Growth Rate  \\\n",
       "0              0.792424  ...                0.000327   \n",
       "1              0.828824  ...                0.000443   \n",
       "2              0.792484  ...                0.000396   \n",
       "3              0.848535  ...                0.000382   \n",
       "4              0.893491  ...                0.000439   \n",
       "...                 ...  ...                     ...   \n",
       "6814           0.875382  ...                0.000450   \n",
       "6815           0.900747  ...                0.000445   \n",
       "6816           0.961061  ...                0.000435   \n",
       "6817           0.913021  ...                0.000529   \n",
       "6818           0.985851  ...                0.000519   \n",
       "\n",
       "       Net Value Per Share (B)   Current Liability to Current Assets  \\\n",
       "0                     0.147950                              0.118250   \n",
       "1                     0.182251                              0.047775   \n",
       "2                     0.177911                              0.025346   \n",
       "3                     0.154187                              0.067250   \n",
       "4                     0.167502                              0.047725   \n",
       "...                        ...                                   ...   \n",
       "6814                  0.175045                              0.027951   \n",
       "6815                  0.181324                              0.031470   \n",
       "6816                  0.269521                              0.007542   \n",
       "6817                  0.213392                              0.022916   \n",
       "6818                  0.220766                              0.005579   \n",
       "\n",
       "       Interest-bearing debt interest rate  \\\n",
       "0                             7.250725e-04   \n",
       "1                             6.470647e-04   \n",
       "2                             7.900790e-04   \n",
       "3                             4.490449e-04   \n",
       "4                             6.860686e-04   \n",
       "...                                    ...   \n",
       "6814                          1.790179e-04   \n",
       "6815                          2.370237e-04   \n",
       "6816                          0.000000e+00   \n",
       "6817                          2.110211e-04   \n",
       "6818                          5.900000e+08   \n",
       "\n",
       "       Net Income to Stockholder's Equity  \\\n",
       "0                                0.827890   \n",
       "1                                0.839969   \n",
       "2                                0.836774   \n",
       "3                                0.834697   \n",
       "4                                0.839973   \n",
       "...                                   ...   \n",
       "6814                             0.840359   \n",
       "6815                             0.840306   \n",
       "6816                             0.840138   \n",
       "6817                             0.841084   \n",
       "6818                             0.841019   \n",
       "\n",
       "       Degree of Financial Leverage (DFL)   Total assets to GNP price  \\\n",
       "0                                0.026601                    0.009219   \n",
       "1                                0.264577                    0.008323   \n",
       "2                                0.026555                    0.040003   \n",
       "3                                0.026697                    0.003252   \n",
       "4                                0.024752                    0.003878   \n",
       "...                                   ...                         ...   \n",
       "6814                             0.027064                    0.000466   \n",
       "6815                             0.027009                    0.001959   \n",
       "6816                             0.026791                    0.002840   \n",
       "6817                             0.026822                    0.002837   \n",
       "6818                             0.026793                    0.000707   \n",
       "\n",
       "       Non-industry income and expenditure/revenue   Operating Expense Rate  \\\n",
       "0                                         0.302646             1.256969e-04   \n",
       "1                                         0.303556             2.897851e-04   \n",
       "2                                         0.302035             2.361297e-04   \n",
       "3                                         0.303350             1.078888e-04   \n",
       "4                                         0.303475             7.890000e+09   \n",
       "...                                            ...                      ...   \n",
       "6814                                      0.303510             1.510213e-04   \n",
       "6815                                      0.303520             5.220000e+09   \n",
       "6816                                      0.303512             2.509312e-04   \n",
       "6817                                      0.303498             1.236154e-04   \n",
       "6818                                      0.313415             1.431695e-03   \n",
       "\n",
       "       Research and development expense rate  \n",
       "0                               0.000000e+00  \n",
       "1                               0.000000e+00  \n",
       "2                               2.550000e+07  \n",
       "3                               0.000000e+00  \n",
       "4                               0.000000e+00  \n",
       "...                                      ...  \n",
       "6814                            4.500000e+09  \n",
       "6815                            1.440000e+09  \n",
       "6816                            1.039086e-04  \n",
       "6817                            2.510000e+09  \n",
       "6818                            0.000000e+00  \n",
       "\n",
       "[6819 rows x 22 columns]"
      ]
     },
     "execution_count": 5,
     "metadata": {},
     "output_type": "execute_result"
    }
   ],
   "source": [
    "df"
   ]
  },
  {
   "cell_type": "code",
   "execution_count": 6,
   "metadata": {},
   "outputs": [],
   "source": [
    "df.to_csv('./data/bankruptcy_22.csv')"
   ]
  },
  {
   "cell_type": "markdown",
   "metadata": {},
   "source": [
    "### Splitting data into train/ validate/ test sets"
   ]
  },
  {
   "cell_type": "code",
   "execution_count": 7,
   "metadata": {},
   "outputs": [],
   "source": [
    "X = df.iloc[:,1:]\n",
    "y = df.iloc[:,0]"
   ]
  },
  {
   "cell_type": "code",
   "execution_count": 8,
   "metadata": {},
   "outputs": [],
   "source": [
    "# Split into train and test sets\n",
    "X_train_all, X_test_all, y_train, y_test = train_test_split (X, y, test_size=0.30, random_state=1, stratify=y) "
   ]
  },
  {
   "cell_type": "code",
   "execution_count": 9,
   "metadata": {},
   "outputs": [
    {
     "name": "stdout",
     "output_type": "stream",
     "text": [
      "y_train = Counter({0: 4619, 1: 154})\n",
      "                   0: 97%,  1: 3%\n",
      "\n",
      "y_test = Counter({0: 1980, 1: 66})\n",
      "                  0: 97%,  1: 3%\n"
     ]
    }
   ],
   "source": [
    "print(f\"y_train = {Counter (y_train)}\")\n",
    "print(f\"                   0: {Counter(y_train)[0]/len(y_train):.0%},  1: {Counter(y_train)[1]/len(y_train):.0%}\")\n",
    "print()\n",
    "print(f\"y_test = {Counter (y_test)}\")\n",
    "print(f\"                  0: {Counter(y_test)[0]/len(y_test):.0%},  1: {Counter(y_test)[1]/len(y_test):.0%}\")"
   ]
  },
  {
   "cell_type": "code",
   "execution_count": 10,
   "metadata": {},
   "outputs": [],
   "source": [
    "n_feat = X_train_all.shape[1]\n",
    "X_train = X_train_all.iloc[:,0:n_feat] # selecting the number of features\n",
    "X_test = X_test_all.iloc[:,0:n_feat] # selecting the number of features"
   ]
  },
  {
   "cell_type": "code",
   "execution_count": 11,
   "metadata": {},
   "outputs": [
    {
     "name": "stdout",
     "output_type": "stream",
     "text": [
      "(4773, 21)\n"
     ]
    }
   ],
   "source": [
    "print(X_train.shape)"
   ]
  },
  {
   "cell_type": "markdown",
   "metadata": {},
   "source": [
    "## Standardization"
   ]
  },
  {
   "cell_type": "markdown",
   "metadata": {},
   "source": [
    "To avoid the effect of one feature dominating the other, it will be performed feature scaling, standardizing our data to have mean 0 and variance 1. Note that we must apply the same scaling to the test set for meaningful results. "
   ]
  },
  {
   "cell_type": "code",
   "execution_count": 12,
   "metadata": {},
   "outputs": [],
   "source": [
    "def feature_scaling(X_train, X_test):\n",
    "    scaler = StandardScaler()  \n",
    "    scaler.fit(X_train)  \n",
    "    X_train = scaler.transform(X_train)  # to include in pipeline?\n",
    "    X_test = scaler.transform(X_test) \n",
    "    return (X_train, X_test)"
   ]
  },
  {
   "cell_type": "code",
   "execution_count": 13,
   "metadata": {},
   "outputs": [
    {
     "name": "stdout",
     "output_type": "stream",
     "text": [
      "(4773, 21)\n"
     ]
    }
   ],
   "source": [
    "X_train, X_test = feature_scaling(X_train, X_test)\n",
    "print(X_train.shape)\n",
    "# print(X_train)\n",
    "# print (X_train.mean(axis=0).round(2))\n",
    "# print (X_train.std(axis=0))"
   ]
  },
  {
   "cell_type": "code",
   "execution_count": 14,
   "metadata": {},
   "outputs": [
    {
     "name": "stdout",
     "output_type": "stream",
     "text": [
      "(6819, 21)\n",
      "(6819,)\n"
     ]
    }
   ],
   "source": [
    "X_stand = StandardScaler().fit(X).transform(X)\n",
    "print(X.shape)\n",
    "print(y.shape)"
   ]
  },
  {
   "cell_type": "markdown",
   "metadata": {},
   "source": [
    "## One class SVM"
   ]
  },
  {
   "cell_type": "markdown",
   "metadata": {},
   "source": [
    "One-class classification is a field of machine learning that provides techniques for outlier and anomaly detection. \n",
    "\n",
    "Although not designed for these types of problems, one-class classification algorithms can be effective for imbalanced classification datasets where there are none or very few examples of the minority class, or datasets where there is no coherent structure to separate the classes that could be learned by a supervised algorithm.\n",
    "\n",
    "It requires the choice of a kernel and a scalar parameter to define a frontier. The RBF kernel is usually chosen although there exists no exact formula or algorithm to set its bandwidth parameter. This is the default in the scikit-learn implementation. The nu parameter, also known as the margin of the One-Class SVM, corresponds to the probability of finding a new, but regular, observation outside the frontier (scikitlearn).\n",
    "\n",
    "When calling the predict() function on the model, it will output a +1 for normal examples, so-called inliers, and a -1 for outliers.\n",
    "\n",
    "The model can be fit on all examples in the training dataset or just those examples in the majority class. We will tried both methods.\n",
    "\n",
    "In this case, we will use F-measure score, which is the harmonic mean of precision and recall. We can calculate the F-measure using the f1 macro score."
   ]
  },
  {
   "cell_type": "code",
   "execution_count": 15,
   "metadata": {},
   "outputs": [
    {
     "name": "stdout",
     "output_type": "stream",
     "text": [
      "Empty DataFrame\n",
      "Columns: [Scenarios, #Features, Train/Test, Acc, Bal_Acc, M_P, M_R, M_F1, P0, P1, R0, R1, MSE, Auc]\n",
      "Index: []\n"
     ]
    }
   ],
   "source": [
    "df_results = pd.DataFrame(columns = ['Scenarios','#Features', 'Train/Test', 'Acc', 'Bal_Acc','M_P','M_R', 'M_F1', \"P0\", \"P1\", \"R0\", \"R1\", 'MSE', 'Auc'])\n",
    "print (df_results)"
   ]
  },
  {
   "cell_type": "markdown",
   "metadata": {},
   "source": [
    "**Considering the majority class**"
   ]
  },
  {
   "cell_type": "code",
   "execution_count": 16,
   "metadata": {},
   "outputs": [
    {
     "name": "stdout",
     "output_type": "stream",
     "text": [
      "fraction =  0.033340549902576316\n",
      "Train_c0: Counter({1: 4459, -1: 160})\n",
      "Train_c1: Counter({1: 129, -1: 25})\n",
      "Train: Counter({1: 4588, -1: 185})\n",
      "Test: Counter({1: 1936, -1: 110})\n",
      "Y: Counter({0: 1980, 1: 66})\n",
      "Test to compare: Counter({0: 1936, 1: 110})\n",
      "F1 Score: 0.590\n"
     ]
    }
   ],
   "source": [
    "# select class 0 and 1\n",
    "X_train_c0 = X_train[y_train==0]\n",
    "X_train_c1 = X_train[y_train==1]\n",
    "y_train_c0 = y_train[y_train==0]\n",
    "\n",
    "# define one class svm model (outlier detection/imbalanced data)\n",
    "fraction_c1_c0 = len(X_train_c1) / len(X_train_c0) \n",
    "print ('fraction = ', fraction_c1_c0)\n",
    "svm = OneClassSVM(kernel='rbf', gamma= 'scale' , nu=fraction_c1_c0) # auto or scale\n",
    "\n",
    "svm.fit(X_train_c0)\n",
    "predict_train_c0 = svm.predict(X_train_c0) \n",
    "predict_train_c1 = svm.predict(X_train_c1) \n",
    "predict_train = svm.predict(X_train) \n",
    "predict_test = svm.predict(X_test)\n",
    "\n",
    "print ('Train_c0:', Counter(predict_train_c0))\n",
    "print ('Train_c1:', Counter(predict_train_c1))\n",
    "print ('Train:', Counter(predict_train))\n",
    "print ('Test:', Counter(predict_test))\n",
    "\n",
    "predict_test[predict_test == 1] = 0\n",
    "predict_test[predict_test == -1] = 1\n",
    "\n",
    "print ('Y:', Counter(y_test))\n",
    "print ('Test to compare:', Counter(predict_test))\n",
    "\n",
    "score = f1_score(y_test, predict_test, average='macro')\n",
    "print('F1 Score: %.3f' % score)\n"
   ]
  },
  {
   "cell_type": "code",
   "execution_count": 17,
   "metadata": {},
   "outputs": [
    {
     "data": {
      "text/plain": [
       "<sklearn.metrics._plot.confusion_matrix.ConfusionMatrixDisplay at 0x1bd91f9f4c0>"
      ]
     },
     "execution_count": 17,
     "metadata": {},
     "output_type": "execute_result"
    },
    {
     "data": {
      "image/png": "[encoded data removed]",
      "text/plain": [
       "<Figure size 432x288 with 2 Axes>"
      ]
     },
     "metadata": {
      "needs_background": "light"
     },
     "output_type": "display_data"
    }
   ],
   "source": [
    "cm = confusion_matrix(y_test, predict_test)\n",
    "disp = ConfusionMatrixDisplay(confusion_matrix=cm, display_labels=[0,1])\n",
    "\n",
    "disp.plot()"
   ]
  },
  {
   "cell_type": "markdown",
   "metadata": {},
   "source": [
    "**Using Grid Search CV to define the parameters**"
   ]
  },
  {
   "cell_type": "code",
   "execution_count": 18,
   "metadata": {},
   "outputs": [],
   "source": [
    "def print_results_grid(clf):\n",
    "    \n",
    "    '''Print the results of the best parameters found by the classifier'''\n",
    "    \n",
    "    #Best parametes set\n",
    "    print('Best parameters found:\\n', clf.best_params_)\n",
    "    print ('Score', svm.score(X_test, y_test))\n",
    "    # print (clf.cv_results_)\n",
    "    \n",
    "    #All results\n",
    "    means = clf.cv_results_['mean_test_score']\n",
    "    stds = clf.cv_results_['std_test_score']\n",
    "    for mean, std, params in zip(means, stds, clf.cv_results_['params']):\n",
    "        print(\"%0.3f (+/-%0.03f) for %r\" % (mean, std * 2, params))"
   ]
  },
  {
   "cell_type": "code",
   "execution_count": 19,
   "metadata": {},
   "outputs": [],
   "source": [
    "def my_custom_score(y_true, y_predict, **kwargs):\n",
    "    \n",
    "    '''Define a customized score. \n",
    "    As the labels of the classes originated from One Class SVM are different from the y, \n",
    "    it is necessary modify the labels to use F1 score - macro'''\n",
    "    \n",
    "    y_predict[y_predict == 1] = 0\n",
    "    y_predict[y_predict == -1] = 1\n",
    " \n",
    "    my_f1_score = f1_score(y_true, y_predict, average='macro')\n",
    "    \n",
    "    return my_f1_score"
   ]
  },
  {
   "cell_type": "code",
   "execution_count": 20,
   "metadata": {},
   "outputs": [
    {
     "name": "stdout",
     "output_type": "stream",
     "text": [
      "Results grid:\n",
      "Best parameters found:\n",
      " {'gamma': 0.01, 'kernel': 'rbf', 'nu': 0.01}\n",
      "Score 0.5899799599198398\n",
      "0.491 (+/-0.004) for {'gamma': 'scale', 'kernel': 'rbf', 'nu': 0.01}\n",
      "0.490 (+/-0.004) for {'gamma': 'scale', 'kernel': 'rbf', 'nu': 0.03334}\n",
      "0.473 (+/-0.007) for {'gamma': 'scale', 'kernel': 'rbf', 'nu': 0.1}\n",
      "0.444 (+/-0.011) for {'gamma': 'scale', 'kernel': 'rbf', 'nu': 0.2}\n",
      "0.333 (+/-0.010) for {'gamma': 'scale', 'kernel': 'rbf', 'nu': 0.5}\n",
      "0.492 (+/-0.004) for {'gamma': 'auto', 'kernel': 'rbf', 'nu': 0.01}\n",
      "0.490 (+/-0.004) for {'gamma': 'auto', 'kernel': 'rbf', 'nu': 0.03334}\n",
      "0.473 (+/-0.008) for {'gamma': 'auto', 'kernel': 'rbf', 'nu': 0.1}\n",
      "0.443 (+/-0.011) for {'gamma': 'auto', 'kernel': 'rbf', 'nu': 0.2}\n",
      "0.333 (+/-0.011) for {'gamma': 'auto', 'kernel': 'rbf', 'nu': 0.5}\n",
      "0.496 (+/-0.002) for {'gamma': 0.01, 'kernel': 'rbf', 'nu': 0.01}\n",
      "0.491 (+/-0.005) for {'gamma': 0.01, 'kernel': 'rbf', 'nu': 0.03334}\n",
      "0.474 (+/-0.008) for {'gamma': 0.01, 'kernel': 'rbf', 'nu': 0.1}\n",
      "0.444 (+/-0.012) for {'gamma': 0.01, 'kernel': 'rbf', 'nu': 0.2}\n",
      "0.332 (+/-0.013) for {'gamma': 0.01, 'kernel': 'rbf', 'nu': 0.5}\n",
      "0.484 (+/-0.005) for {'gamma': 0.1, 'kernel': 'rbf', 'nu': 0.01}\n",
      "0.484 (+/-0.005) for {'gamma': 0.1, 'kernel': 'rbf', 'nu': 0.03334}\n",
      "0.471 (+/-0.007) for {'gamma': 0.1, 'kernel': 'rbf', 'nu': 0.1}\n",
      "0.443 (+/-0.010) for {'gamma': 0.1, 'kernel': 'rbf', 'nu': 0.2}\n",
      "0.331 (+/-0.012) for {'gamma': 0.1, 'kernel': 'rbf', 'nu': 0.5}\n",
      "0.391 (+/-0.013) for {'gamma': 0.5, 'kernel': 'rbf', 'nu': 0.01}\n",
      "0.391 (+/-0.013) for {'gamma': 0.5, 'kernel': 'rbf', 'nu': 0.03334}\n",
      "0.391 (+/-0.013) for {'gamma': 0.5, 'kernel': 'rbf', 'nu': 0.1}\n",
      "0.391 (+/-0.013) for {'gamma': 0.5, 'kernel': 'rbf', 'nu': 0.2}\n",
      "0.318 (+/-0.014) for {'gamma': 0.5, 'kernel': 'rbf', 'nu': 0.5}\n",
      "0.254 (+/-0.008) for {'gamma': 1, 'kernel': 'rbf', 'nu': 0.01}\n",
      "0.254 (+/-0.010) for {'gamma': 1, 'kernel': 'rbf', 'nu': 0.03334}\n",
      "0.254 (+/-0.010) for {'gamma': 1, 'kernel': 'rbf', 'nu': 0.1}\n",
      "0.254 (+/-0.010) for {'gamma': 1, 'kernel': 'rbf', 'nu': 0.2}\n",
      "0.249 (+/-0.008) for {'gamma': 1, 'kernel': 'rbf', 'nu': 0.5}\n",
      "0.002 (+/-0.000) for {'gamma': 5, 'kernel': 'rbf', 'nu': 0.01}\n",
      "0.002 (+/-0.001) for {'gamma': 5, 'kernel': 'rbf', 'nu': 0.03334}\n",
      "0.002 (+/-0.001) for {'gamma': 5, 'kernel': 'rbf', 'nu': 0.1}\n",
      "0.002 (+/-0.001) for {'gamma': 5, 'kernel': 'rbf', 'nu': 0.2}\n",
      "0.002 (+/-0.001) for {'gamma': 5, 'kernel': 'rbf', 'nu': 0.5}\n",
      "0.000 (+/-0.000) for {'gamma': 10, 'kernel': 'rbf', 'nu': 0.01}\n",
      "0.000 (+/-0.000) for {'gamma': 10, 'kernel': 'rbf', 'nu': 0.03334}\n",
      "0.000 (+/-0.000) for {'gamma': 10, 'kernel': 'rbf', 'nu': 0.1}\n",
      "0.000 (+/-0.000) for {'gamma': 10, 'kernel': 'rbf', 'nu': 0.2}\n",
      "0.000 (+/-0.000) for {'gamma': 10, 'kernel': 'rbf', 'nu': 0.5}\n"
     ]
    }
   ],
   "source": [
    "score = make_scorer(my_custom_score, greater_is_better=True)\n",
    "\n",
    "svm = GridSearchCV(OneClassSVM(),\n",
    "                   scoring= score, \n",
    "                   param_grid={'kernel': ['rbf'], 'gamma': ['scale', 'auto', 1e-2, 1e-1, 0.5, 1, 5, 10], 'nu': [0.01, 0.03334, 0.1, 0.2, 0.5]})\n",
    "\n",
    "svm.fit(X_train_c0, y_train_c0)\n",
    "\n",
    "# Validating:\n",
    "# print ('Score in SVM', score(svm, X_test, y_test))\n",
    "# print ('Score customized', my_custom_score(y_test, svm.predict(X_test)))\n",
    "\n",
    "print ('Results grid:')\n",
    "print_results_grid(svm)"
   ]
  },
  {
   "cell_type": "code",
   "execution_count": 21,
   "metadata": {},
   "outputs": [
    {
     "name": "stdout",
     "output_type": "stream",
     "text": [
      "Train_c0: Counter({1: 140, -1: 14})\n",
      "Train_c1: Counter({1: 129, -1: 25})\n",
      "Train: Counter({1: 4712, -1: 61})\n",
      "Test: Counter({1: 2012, -1: 34})\n",
      "Y: Counter({0: 1980, 1: 66})\n",
      "Test to compare: Counter({0: 2012, 1: 34})\n",
      "F1 Score: 0.590\n"
     ]
    }
   ],
   "source": [
    "predict_train_c0 = svm.predict(X_train_c0) \n",
    "predict_train_c0 = svm.predict(X_train_c1) \n",
    "predict_train = svm.predict(X_train) \n",
    "predict_test = svm.predict(X_test)\n",
    "\n",
    "print ('Train_c0:', Counter(predict_train_c0))\n",
    "print ('Train_c1:', Counter(predict_train_c1))\n",
    "print ('Train:', Counter(predict_train))\n",
    "print ('Test:', Counter(predict_test))\n",
    "\n",
    "predict_train[predict_train == 1] = 0\n",
    "predict_train[predict_train == -1] = 1\n",
    "predict_test[predict_test == 1] = 0\n",
    "predict_test[predict_test == -1] = 1\n",
    "\n",
    "print ('Y:', Counter(y_test))\n",
    "print ('Test to compare:', Counter(predict_test))\n",
    "\n",
    "score = f1_score(y_test, predict_test, average='macro')\n",
    "print('F1 Score: %.3f' % score)\n"
   ]
  },
  {
   "cell_type": "code",
   "execution_count": 22,
   "metadata": {},
   "outputs": [
    {
     "data": {
      "text/plain": [
       "<sklearn.metrics._plot.confusion_matrix.ConfusionMatrixDisplay at 0x1bd92af9700>"
      ]
     },
     "execution_count": 22,
     "metadata": {},
     "output_type": "execute_result"
    },
    {
     "data": {
      "image/png": "[encoded data removed]",
      "text/plain": [
       "<Figure size 432x288 with 2 Axes>"
      ]
     },
     "metadata": {
      "needs_background": "light"
     },
     "output_type": "display_data"
    }
   ],
   "source": [
    "cm = confusion_matrix(y_train, predict_train)\n",
    "disp = ConfusionMatrixDisplay(confusion_matrix=cm, display_labels=[0,1])\n",
    "\n",
    "disp.plot()"
   ]
  },
  {
   "cell_type": "code",
   "execution_count": 23,
   "metadata": {
    "scrolled": true
   },
   "outputs": [
    {
     "data": {
      "text/plain": [
       "<sklearn.metrics._plot.confusion_matrix.ConfusionMatrixDisplay at 0x1bd8c0daee0>"
      ]
     },
     "execution_count": 23,
     "metadata": {},
     "output_type": "execute_result"
    },
    {
     "data": {
      "image/png": "[encoded data removed]",
      "text/plain": [
       "<Figure size 432x288 with 2 Axes>"
      ]
     },
     "metadata": {
      "needs_background": "light"
     },
     "output_type": "display_data"
    }
   ],
   "source": [
    "cm = confusion_matrix(y_test, predict_test)\n",
    "disp = ConfusionMatrixDisplay(confusion_matrix=cm, display_labels=[0,1])\n",
    "\n",
    "disp.plot()"
   ]
  },
  {
   "cell_type": "markdown",
   "metadata": {},
   "source": [
    "The resutls using Grid Search CV to selet the best parameters were very similar to our first analyse.\n",
    "'gamma': 'scale', 'kernel': 'rbf', 'nu': 0.032"
   ]
  },
  {
   "cell_type": "code",
   "execution_count": 24,
   "metadata": {},
   "outputs": [],
   "source": [
    "evaluation_scenario(svm, y_train, y_test, predict_train, predict_test, df_results, 'SVM-MC', 21)"
   ]
  },
  {
   "cell_type": "code",
   "execution_count": 25,
   "metadata": {},
   "outputs": [
    {
     "data": {
      "text/html": [
       "<div>\n",
       "<style scoped>\n",
       "    .dataframe tbody tr th:only-of-type {\n",
       "        vertical-align: middle;\n",
       "    }\n",
       "\n",
       "    .dataframe tbody tr th {\n",
       "        vertical-align: top;\n",
       "    }\n",
       "\n",
       "    .dataframe thead th {\n",
       "        text-align: right;\n",
       "    }\n",
       "</style>\n",
       "<table border=\"1\" class=\"dataframe\">\n",
       "  <thead>\n",
       "    <tr style=\"text-align: right;\">\n",
       "      <th></th>\n",
       "      <th>Scenarios</th>\n",
       "      <th>#Features</th>\n",
       "      <th>Train/Test</th>\n",
       "      <th>Acc</th>\n",
       "      <th>Bal_Acc</th>\n",
       "      <th>M_P</th>\n",
       "      <th>M_R</th>\n",
       "      <th>M_F1</th>\n",
       "      <th>P0</th>\n",
       "      <th>P1</th>\n",
       "      <th>R0</th>\n",
       "      <th>R1</th>\n",
       "      <th>MSE</th>\n",
       "      <th>Auc</th>\n",
       "    </tr>\n",
       "  </thead>\n",
       "  <tbody>\n",
       "    <tr>\n",
       "      <th>1</th>\n",
       "      <td>SVM-MC</td>\n",
       "      <td>21 features</td>\n",
       "      <td>Train</td>\n",
       "      <td>0.96</td>\n",
       "      <td>0.54</td>\n",
       "      <td>0.60</td>\n",
       "      <td>0.54</td>\n",
       "      <td>0.56</td>\n",
       "      <td>0.97</td>\n",
       "      <td>0.23</td>\n",
       "      <td>0.99</td>\n",
       "      <td>0.09</td>\n",
       "      <td>0.039</td>\n",
       "      <td>0.54</td>\n",
       "    </tr>\n",
       "    <tr>\n",
       "      <th>2</th>\n",
       "      <td>SVM-MC</td>\n",
       "      <td>21 features</td>\n",
       "      <td>Val/Test</td>\n",
       "      <td>0.96</td>\n",
       "      <td>0.57</td>\n",
       "      <td>0.63</td>\n",
       "      <td>0.57</td>\n",
       "      <td>0.59</td>\n",
       "      <td>0.97</td>\n",
       "      <td>0.29</td>\n",
       "      <td>0.99</td>\n",
       "      <td>0.15</td>\n",
       "      <td>0.039</td>\n",
       "      <td>0.57</td>\n",
       "    </tr>\n",
       "  </tbody>\n",
       "</table>\n",
       "</div>"
      ],
      "text/plain": [
       "  Scenarios    #Features Train/Test   Acc  Bal_Acc   M_P   M_R  M_F1    P0  \\\n",
       "1    SVM-MC  21 features      Train  0.96     0.54  0.60  0.54  0.56  0.97   \n",
       "2    SVM-MC  21 features   Val/Test  0.96     0.57  0.63  0.57  0.59  0.97   \n",
       "\n",
       "     P1    R0    R1    MSE   Auc  \n",
       "1  0.23  0.99  0.09  0.039  0.54  \n",
       "2  0.29  0.99  0.15  0.039  0.57  "
      ]
     },
     "execution_count": 25,
     "metadata": {},
     "output_type": "execute_result"
    }
   ],
   "source": [
    "df_results"
   ]
  },
  {
   "cell_type": "code",
   "execution_count": 26,
   "metadata": {},
   "outputs": [
    {
     "data": {
      "image/png": "[encoded data removed]",
      "text/plain": [
       "<Figure size 432x288 with 1 Axes>"
      ]
     },
     "metadata": {
      "needs_background": "light"
     },
     "output_type": "display_data"
    }
   ],
   "source": [
    "plot_roc_curve(y_test, predict_test, 'Test')"
   ]
  },
  {
   "cell_type": "markdown",
   "metadata": {},
   "source": [
    "**Considering all dataset**"
   ]
  },
  {
   "cell_type": "code",
   "execution_count": 27,
   "metadata": {},
   "outputs": [
    {
     "name": "stdout",
     "output_type": "stream",
     "text": [
      "Train: Counter({1: 4618, -1: 155})\n",
      "Test: Counter({1: 1956, -1: 90})\n",
      "Y: Counter({0: 1980, 1: 66})\n",
      "Test to compare: Counter({0: 1956, 1: 90})\n",
      "F1 Score: 0.573\n"
     ]
    }
   ],
   "source": [
    "# select class 0 and 1\n",
    "X_train_c0 = X_train[y_train==0]\n",
    "X_train_c1 = X_train[y_train==1]\n",
    "\n",
    "# define one class svm model (outlier detection/imbalanced data)\n",
    "fraction_c1 = len(X_train_c1) / len(X_train)  # X_train or X_train_c0\n",
    "svm = OneClassSVM(kernel='rbf', gamma= 'scale' , nu=fraction_c1) # auto or scale\n",
    "\n",
    "svm.fit(X_train) # X_train or X_train_c0\n",
    "predict_train = svm.predict(X_train) \n",
    "predict_test = svm.predict(X_test)\n",
    "\n",
    "print ('Train:', Counter(predict_train))\n",
    "print ('Test:', Counter(predict_test))\n",
    "\n",
    "predict_test[predict_test == 1] = 0\n",
    "predict_test[predict_test == -1] = 1\n",
    "\n",
    "print ('Y:', Counter(y_test))\n",
    "print ('Test to compare:', Counter(predict_test))\n",
    "\n",
    "score = f1_score(y_test, predict_test, average='macro')\n",
    "print('F1 Score: %.3f' % score)\n"
   ]
  },
  {
   "cell_type": "code",
   "execution_count": 28,
   "metadata": {},
   "outputs": [
    {
     "data": {
      "text/plain": [
       "<sklearn.metrics._plot.confusion_matrix.ConfusionMatrixDisplay at 0x1bd97b8fd30>"
      ]
     },
     "execution_count": 28,
     "metadata": {},
     "output_type": "execute_result"
    },
    {
     "data": {
      "image/png": "[encoded data removed]",
      "text/plain": [
       "<Figure size 432x288 with 2 Axes>"
      ]
     },
     "metadata": {
      "needs_background": "light"
     },
     "output_type": "display_data"
    }
   ],
   "source": [
    "cm = confusion_matrix(y_test, predict_test)\n",
    "disp = ConfusionMatrixDisplay(confusion_matrix=cm, display_labels=[0,1])\n",
    "\n",
    "disp.plot()"
   ]
  },
  {
   "cell_type": "markdown",
   "metadata": {},
   "source": [
    "**Using Grid Search CV to define the parameters**"
   ]
  },
  {
   "cell_type": "code",
   "execution_count": 29,
   "metadata": {},
   "outputs": [],
   "source": [
    "def print_results_grid(clf):\n",
    "    \n",
    "    '''Print the results of the best parameters found by the classifier'''\n",
    "    \n",
    "    #Best parametes set\n",
    "    print('Best parameters found:\\n', clf.best_params_)\n",
    "    print ('Score', svm.score(X_test, y_test))\n",
    "    # print (clf.cv_results_)\n",
    "    \n",
    "    #All results\n",
    "    means = clf.cv_results_['mean_test_score']\n",
    "    stds = clf.cv_results_['std_test_score']\n",
    "    for mean, std, params in zip(means, stds, clf.cv_results_['params']):\n",
    "        print(\"%0.3f (+/-%0.03f) for %r\" % (mean, std * 2, params))"
   ]
  },
  {
   "cell_type": "code",
   "execution_count": 30,
   "metadata": {},
   "outputs": [],
   "source": [
    "def my_custom_score(y_true, y_predict, **kwargs):\n",
    "    \n",
    "    '''Define a customized score. \n",
    "    As the labels of the classes originated from One Class SVM are different from the y, \n",
    "    it is necessary modify the labels to use F1 score - macro'''\n",
    "    \n",
    "    y_predict[y_predict == 1] = 0\n",
    "    y_predict[y_predict == -1] = 1\n",
    " \n",
    "    my_f1_score = f1_score(y_true, y_predict, average='macro')\n",
    "    \n",
    "    return my_f1_score"
   ]
  },
  {
   "cell_type": "code",
   "execution_count": 31,
   "metadata": {},
   "outputs": [
    {
     "name": "stdout",
     "output_type": "stream",
     "text": [
      "Results grid:\n",
      "Best parameters found:\n",
      " {'gamma': 'scale', 'kernel': 'rbf', 'nu': 0.01}\n",
      "Score 0.5800400255107652\n",
      "0.552 (+/-0.066) for {'gamma': 'scale', 'kernel': 'rbf', 'nu': 0.01}\n",
      "0.549 (+/-0.052) for {'gamma': 'scale', 'kernel': 'rbf', 'nu': 0.032}\n",
      "0.530 (+/-0.034) for {'gamma': 'scale', 'kernel': 'rbf', 'nu': 0.1}\n",
      "0.504 (+/-0.029) for {'gamma': 'scale', 'kernel': 'rbf', 'nu': 0.2}\n",
      "0.387 (+/-0.020) for {'gamma': 'scale', 'kernel': 'rbf', 'nu': 0.5}\n",
      "0.552 (+/-0.066) for {'gamma': 'auto', 'kernel': 'rbf', 'nu': 0.01}\n",
      "0.549 (+/-0.053) for {'gamma': 'auto', 'kernel': 'rbf', 'nu': 0.032}\n",
      "0.530 (+/-0.033) for {'gamma': 'auto', 'kernel': 'rbf', 'nu': 0.1}\n",
      "0.504 (+/-0.030) for {'gamma': 'auto', 'kernel': 'rbf', 'nu': 0.2}\n",
      "0.387 (+/-0.020) for {'gamma': 'auto', 'kernel': 'rbf', 'nu': 0.5}\n",
      "0.542 (+/-0.039) for {'gamma': 0.01, 'kernel': 'rbf', 'nu': 0.01}\n",
      "0.549 (+/-0.060) for {'gamma': 0.01, 'kernel': 'rbf', 'nu': 0.032}\n",
      "0.539 (+/-0.033) for {'gamma': 0.01, 'kernel': 'rbf', 'nu': 0.1}\n",
      "0.513 (+/-0.039) for {'gamma': 0.01, 'kernel': 'rbf', 'nu': 0.2}\n",
      "0.386 (+/-0.019) for {'gamma': 0.01, 'kernel': 'rbf', 'nu': 0.5}\n",
      "0.547 (+/-0.048) for {'gamma': 0.1, 'kernel': 'rbf', 'nu': 0.01}\n",
      "0.547 (+/-0.048) for {'gamma': 0.1, 'kernel': 'rbf', 'nu': 0.032}\n",
      "0.527 (+/-0.036) for {'gamma': 0.1, 'kernel': 'rbf', 'nu': 0.1}\n",
      "0.497 (+/-0.030) for {'gamma': 0.1, 'kernel': 'rbf', 'nu': 0.2}\n",
      "0.386 (+/-0.020) for {'gamma': 0.1, 'kernel': 'rbf', 'nu': 0.5}\n",
      "0.443 (+/-0.017) for {'gamma': 0.5, 'kernel': 'rbf', 'nu': 0.01}\n",
      "0.442 (+/-0.018) for {'gamma': 0.5, 'kernel': 'rbf', 'nu': 0.032}\n",
      "0.442 (+/-0.017) for {'gamma': 0.5, 'kernel': 'rbf', 'nu': 0.1}\n",
      "0.442 (+/-0.017) for {'gamma': 0.5, 'kernel': 'rbf', 'nu': 0.2}\n",
      "0.373 (+/-0.020) for {'gamma': 0.5, 'kernel': 'rbf', 'nu': 0.5}\n",
      "0.298 (+/-0.008) for {'gamma': 1, 'kernel': 'rbf', 'nu': 0.01}\n",
      "0.300 (+/-0.009) for {'gamma': 1, 'kernel': 'rbf', 'nu': 0.032}\n",
      "0.299 (+/-0.011) for {'gamma': 1, 'kernel': 'rbf', 'nu': 0.1}\n",
      "0.299 (+/-0.010) for {'gamma': 1, 'kernel': 'rbf', 'nu': 0.2}\n",
      "0.294 (+/-0.011) for {'gamma': 1, 'kernel': 'rbf', 'nu': 0.5}\n",
      "0.033 (+/-0.006) for {'gamma': 5, 'kernel': 'rbf', 'nu': 0.01}\n",
      "0.033 (+/-0.007) for {'gamma': 5, 'kernel': 'rbf', 'nu': 0.032}\n",
      "0.033 (+/-0.007) for {'gamma': 5, 'kernel': 'rbf', 'nu': 0.1}\n",
      "0.033 (+/-0.007) for {'gamma': 5, 'kernel': 'rbf', 'nu': 0.2}\n",
      "0.033 (+/-0.007) for {'gamma': 5, 'kernel': 'rbf', 'nu': 0.5}\n",
      "0.031 (+/-0.006) for {'gamma': 10, 'kernel': 'rbf', 'nu': 0.01}\n",
      "0.031 (+/-0.006) for {'gamma': 10, 'kernel': 'rbf', 'nu': 0.032}\n",
      "0.031 (+/-0.006) for {'gamma': 10, 'kernel': 'rbf', 'nu': 0.1}\n",
      "0.031 (+/-0.006) for {'gamma': 10, 'kernel': 'rbf', 'nu': 0.2}\n",
      "0.031 (+/-0.006) for {'gamma': 10, 'kernel': 'rbf', 'nu': 0.5}\n"
     ]
    }
   ],
   "source": [
    "score = make_scorer(my_custom_score, greater_is_better=True)\n",
    "\n",
    "svm = GridSearchCV(OneClassSVM(),\n",
    "                   scoring= score, \n",
    "                   param_grid={'kernel': ['rbf'], 'gamma': ['scale', 'auto', 1e-2, 1e-1, 0.5, 1, 5, 10], 'nu': [0.01, 0.032, 0.1, 0.2, 0.5]})\n",
    "\n",
    "svm.fit(X_train, y_train)\n",
    "\n",
    "# Validating:\n",
    "# print ('Score in SVM', score(svm, X_test, y_test))\n",
    "# print ('Score customized', my_custom_score(y_test, svm.predict(X_test)))\n",
    "\n",
    "print ('Results grid:')\n",
    "print_results_grid(svm)"
   ]
  },
  {
   "cell_type": "code",
   "execution_count": 32,
   "metadata": {},
   "outputs": [
    {
     "name": "stdout",
     "output_type": "stream",
     "text": [
      "Train: Counter({1: 4705, -1: 68})\n",
      "Test: Counter({1: 1974, -1: 72})\n",
      "Y: Counter({0: 1980, 1: 66})\n",
      "Test to compare: Counter({0: 1974, 1: 72})\n",
      "F1 Score: 0.580\n"
     ]
    }
   ],
   "source": [
    "predict_train = svm.predict(X_train) \n",
    "predict_test = svm.predict(X_test)\n",
    "\n",
    "print ('Train:', Counter(predict_train))\n",
    "print ('Test:', Counter(predict_test))\n",
    "\n",
    "predict_train[predict_train == 1] = 0\n",
    "predict_train[predict_train == -1] = 1\n",
    "predict_test[predict_test == 1] = 0\n",
    "predict_test[predict_test == -1] = 1\n",
    "\n",
    "print ('Y:', Counter(y_test))\n",
    "print ('Test to compare:', Counter(predict_test))\n",
    "\n",
    "score = f1_score(y_test, predict_test, average='macro')\n",
    "print('F1 Score: %.3f' % score)\n"
   ]
  },
  {
   "cell_type": "code",
   "execution_count": 33,
   "metadata": {},
   "outputs": [
    {
     "data": {
      "text/plain": [
       "<sklearn.metrics._plot.confusion_matrix.ConfusionMatrixDisplay at 0x1bd921e4a60>"
      ]
     },
     "execution_count": 33,
     "metadata": {},
     "output_type": "execute_result"
    },
    {
     "data": {
      "image/png": "[encoded data removed]",
      "text/plain": [
       "<Figure size 432x288 with 2 Axes>"
      ]
     },
     "metadata": {
      "needs_background": "light"
     },
     "output_type": "display_data"
    }
   ],
   "source": [
    "cm = confusion_matrix(y_train, predict_train)\n",
    "disp = ConfusionMatrixDisplay(confusion_matrix=cm, display_labels=[0,1])\n",
    "\n",
    "disp.plot()"
   ]
  },
  {
   "cell_type": "code",
   "execution_count": 34,
   "metadata": {
    "scrolled": true
   },
   "outputs": [
    {
     "data": {
      "text/plain": [
       "<sklearn.metrics._plot.confusion_matrix.ConfusionMatrixDisplay at 0x1bd97b4d580>"
      ]
     },
     "execution_count": 34,
     "metadata": {},
     "output_type": "execute_result"
    },
    {
     "data": {
      "image/png": "[encoded data removed]",
      "text/plain": [
       "<Figure size 432x288 with 2 Axes>"
      ]
     },
     "metadata": {
      "needs_background": "light"
     },
     "output_type": "display_data"
    }
   ],
   "source": [
    "cm = confusion_matrix(y_test, predict_test)\n",
    "disp = ConfusionMatrixDisplay(confusion_matrix=cm, display_labels=[0,1])\n",
    "\n",
    "disp.plot()"
   ]
  },
  {
   "cell_type": "markdown",
   "metadata": {},
   "source": [
    "The resutls using Grid Search CV to selet the best parameters were very similar to our first analyse.\n",
    "'gamma': 'scale', 'kernel': 'rbf', 'nu': 0.032"
   ]
  },
  {
   "cell_type": "code",
   "execution_count": 35,
   "metadata": {},
   "outputs": [],
   "source": [
    "evaluation_scenario(svm, y_train, y_test, predict_train, predict_test, df_results, 'SVM-DS', 21)"
   ]
  },
  {
   "cell_type": "code",
   "execution_count": 36,
   "metadata": {},
   "outputs": [
    {
     "data": {
      "text/html": [
       "<div>\n",
       "<style scoped>\n",
       "    .dataframe tbody tr th:only-of-type {\n",
       "        vertical-align: middle;\n",
       "    }\n",
       "\n",
       "    .dataframe tbody tr th {\n",
       "        vertical-align: top;\n",
       "    }\n",
       "\n",
       "    .dataframe thead th {\n",
       "        text-align: right;\n",
       "    }\n",
       "</style>\n",
       "<table border=\"1\" class=\"dataframe\">\n",
       "  <thead>\n",
       "    <tr style=\"text-align: right;\">\n",
       "      <th></th>\n",
       "      <th>Scenarios</th>\n",
       "      <th>#Features</th>\n",
       "      <th>Train/Test</th>\n",
       "      <th>Acc</th>\n",
       "      <th>Bal_Acc</th>\n",
       "      <th>M_P</th>\n",
       "      <th>M_R</th>\n",
       "      <th>M_F1</th>\n",
       "      <th>P0</th>\n",
       "      <th>P1</th>\n",
       "      <th>R0</th>\n",
       "      <th>R1</th>\n",
       "      <th>MSE</th>\n",
       "      <th>Auc</th>\n",
       "    </tr>\n",
       "  </thead>\n",
       "  <tbody>\n",
       "    <tr>\n",
       "      <th>1</th>\n",
       "      <td>SVM-MC</td>\n",
       "      <td>21 features</td>\n",
       "      <td>Train</td>\n",
       "      <td>0.96</td>\n",
       "      <td>0.54</td>\n",
       "      <td>0.60</td>\n",
       "      <td>0.54</td>\n",
       "      <td>0.56</td>\n",
       "      <td>0.97</td>\n",
       "      <td>0.23</td>\n",
       "      <td>0.99</td>\n",
       "      <td>0.09</td>\n",
       "      <td>0.039</td>\n",
       "      <td>0.54</td>\n",
       "    </tr>\n",
       "    <tr>\n",
       "      <th>2</th>\n",
       "      <td>SVM-MC</td>\n",
       "      <td>21 features</td>\n",
       "      <td>Val/Test</td>\n",
       "      <td>0.96</td>\n",
       "      <td>0.57</td>\n",
       "      <td>0.63</td>\n",
       "      <td>0.57</td>\n",
       "      <td>0.59</td>\n",
       "      <td>0.97</td>\n",
       "      <td>0.29</td>\n",
       "      <td>0.99</td>\n",
       "      <td>0.15</td>\n",
       "      <td>0.039</td>\n",
       "      <td>0.57</td>\n",
       "    </tr>\n",
       "    <tr>\n",
       "      <th>3</th>\n",
       "      <td>SVM-DS</td>\n",
       "      <td>21 features</td>\n",
       "      <td>Train</td>\n",
       "      <td>0.96</td>\n",
       "      <td>0.51</td>\n",
       "      <td>0.53</td>\n",
       "      <td>0.51</td>\n",
       "      <td>0.52</td>\n",
       "      <td>0.97</td>\n",
       "      <td>0.09</td>\n",
       "      <td>0.99</td>\n",
       "      <td>0.04</td>\n",
       "      <td>0.044</td>\n",
       "      <td>0.51</td>\n",
       "    </tr>\n",
       "    <tr>\n",
       "      <th>4</th>\n",
       "      <td>SVM-DS</td>\n",
       "      <td>21 features</td>\n",
       "      <td>Val/Test</td>\n",
       "      <td>0.95</td>\n",
       "      <td>0.58</td>\n",
       "      <td>0.58</td>\n",
       "      <td>0.58</td>\n",
       "      <td>0.58</td>\n",
       "      <td>0.97</td>\n",
       "      <td>0.18</td>\n",
       "      <td>0.97</td>\n",
       "      <td>0.20</td>\n",
       "      <td>0.055</td>\n",
       "      <td>0.58</td>\n",
       "    </tr>\n",
       "  </tbody>\n",
       "</table>\n",
       "</div>"
      ],
      "text/plain": [
       "  Scenarios    #Features Train/Test   Acc  Bal_Acc   M_P   M_R  M_F1    P0  \\\n",
       "1    SVM-MC  21 features      Train  0.96     0.54  0.60  0.54  0.56  0.97   \n",
       "2    SVM-MC  21 features   Val/Test  0.96     0.57  0.63  0.57  0.59  0.97   \n",
       "3    SVM-DS  21 features      Train  0.96     0.51  0.53  0.51  0.52  0.97   \n",
       "4    SVM-DS  21 features   Val/Test  0.95     0.58  0.58  0.58  0.58  0.97   \n",
       "\n",
       "     P1    R0    R1    MSE   Auc  \n",
       "1  0.23  0.99  0.09  0.039  0.54  \n",
       "2  0.29  0.99  0.15  0.039  0.57  \n",
       "3  0.09  0.99  0.04  0.044  0.51  \n",
       "4  0.18  0.97  0.20  0.055  0.58  "
      ]
     },
     "execution_count": 36,
     "metadata": {},
     "output_type": "execute_result"
    }
   ],
   "source": [
    "df_results"
   ]
  },
  {
   "cell_type": "code",
   "execution_count": 37,
   "metadata": {},
   "outputs": [
    {
     "data": {
      "image/png": "[encoded data removed]",
      "text/plain": [
       "<Figure size 432x288 with 1 Axes>"
      ]
     },
     "metadata": {
      "needs_background": "light"
     },
     "output_type": "display_data"
    }
   ],
   "source": [
    "plot_roc_curve(y_test, predict_test, 'Test')"
   ]
  },
  {
   "cell_type": "markdown",
   "metadata": {},
   "source": [
    " From the results we could observe that the model was no able to distinguish the data structure between the classes."
   ]
  },
  {
   "cell_type": "markdown",
   "metadata": {},
   "source": [
    "## DBSCAN"
   ]
  },
  {
   "cell_type": "markdown",
   "metadata": {},
   "source": [
    "**DBSCAN - Density-Based Spatial Clustering of Applications with Noise.**   \n",
    "\n",
    "\n",
    "Based on a set of points, DBSCAN groups together points that are close to each other based on a distance measurement (usually Euclidean distance) and a minimum number of points. It also marks as outliers the points that are in low-density regions.\n",
    "\n",
    "The DBSCAN algorithm basically requires 2 parameters:\n",
    "\n",
    "- eps: specifies how close points should be to each other to be considered a part of a cluster. It means that if the distance between two points is lower or equal to this value (eps), these points are considered neighbors.\n",
    "\n",
    "- minPoints: the minimum number of points to form a dense region. For example, if we set the minPoints parameter as 5, then we need at least 5 points to form a dense region\n",
    "\n",
    "The DBSCAN algorithm should be used to find associations and structures in data that are hard to find manually but that can be relevant and useful to find patterns and predict trends.\n",
    "\n",
    "Finds core samples of high density and expands clusters from them. Good for data which contains clusters of similar density.\n",
    "\n",
    "In our case we will try to identify if our class 1 is in low density regions (that can be identify as outliers, for example). "
   ]
  },
  {
   "cell_type": "code",
   "execution_count": 38,
   "metadata": {},
   "outputs": [
    {
     "name": "stdout",
     "output_type": "stream",
     "text": [
      "  Scenarios    #Features Train/Test   Acc  Bal_Acc   M_P   M_R  M_F1    P0  \\\n",
      "1    SVM-MC  21 features      Train  0.96     0.54  0.60  0.54  0.56  0.97   \n",
      "2    SVM-MC  21 features   Val/Test  0.96     0.57  0.63  0.57  0.59  0.97   \n",
      "3    SVM-DS  21 features      Train  0.96     0.51  0.53  0.51  0.52  0.97   \n",
      "4    SVM-DS  21 features   Val/Test  0.95     0.58  0.58  0.58  0.58  0.97   \n",
      "\n",
      "     P1    R0    R1    MSE   Auc  \n",
      "1  0.23  0.99  0.09  0.039  0.54  \n",
      "2  0.29  0.99  0.15  0.039  0.57  \n",
      "3  0.09  0.99  0.04  0.044  0.51  \n",
      "4  0.18  0.97  0.20  0.055  0.58  \n"
     ]
    }
   ],
   "source": [
    "df_results_dbscan = pd.DataFrame(columns = ['Scenarios','#Features', 'Train/Test', 'Acc', 'Bal_Acc','M_P','M_R', 'M_F1', \"P0\", \"P1\", \"R0\", \"R1\", 'MSE', 'Auc'])\n",
    "print (df_results)"
   ]
  },
  {
   "cell_type": "code",
   "execution_count": 39,
   "metadata": {},
   "outputs": [],
   "source": [
    "def print_graph(X, y):\n",
    "    pca = PCA(n_components=2)\n",
    "    X_r = pca.fit(X).transform(X)\n",
    "\n",
    "    plt.figure()\n",
    "    colors = ['blue', 'darkorange']\n",
    "    lw = 2\n",
    "    target_names = [0,1]\n",
    "\n",
    "    for color, i, target_name in zip(colors, [0, 1], target_names):\n",
    "        plt.scatter(X_r[y == i, 0], X_r[y == i, 1], color=color, alpha=.8, lw=lw,\n",
    "                label=target_name)\n",
    "    plt.legend(loc='best', shadow=False, scatterpoints=1)\n",
    "    plt.title('PCA of Bankrupt dataset')\n",
    "\n",
    "    plt.show()"
   ]
  },
  {
   "cell_type": "code",
   "execution_count": 40,
   "metadata": {},
   "outputs": [
    {
     "data": {
      "image/png": "[encoded data removed]",
      "text/plain": [
       "<Figure size 432x288 with 1 Axes>"
      ]
     },
     "metadata": {
      "needs_background": "light"
     },
     "output_type": "display_data"
    }
   ],
   "source": [
    "# Before standardize\n",
    "print_graph(X_train_all, y_train)"
   ]
  },
  {
   "cell_type": "code",
   "execution_count": 41,
   "metadata": {},
   "outputs": [
    {
     "data": {
      "image/png": "[encoded data removed]",
      "text/plain": [
       "<Figure size 432x288 with 1 Axes>"
      ]
     },
     "metadata": {
      "needs_background": "light"
     },
     "output_type": "display_data"
    }
   ],
   "source": [
    "# after standardize\n",
    "print_graph(X_train, y_train)"
   ]
  },
  {
   "cell_type": "code",
   "execution_count": 42,
   "metadata": {},
   "outputs": [],
   "source": [
    "def dbscan(X, y):\n",
    "    \n",
    "    # define the model\n",
    "    # eps = The maximum distance between two samples for one to be considered as in the neighborhood of the other.\n",
    "    model = DBSCAN(eps=3, min_samples=5)\n",
    "        \n",
    "    # fit model and predict clusters\n",
    "    cluster_predicted = model.fit_predict(X)\n",
    "    \n",
    "    # retrieve unique clusters\n",
    "    clusters, counts = np.unique(cluster_predicted, return_counts=True)\n",
    "\n",
    "    # np.set_printoptions(threshold=np.inf)\n",
    "    print ('Train')\n",
    "    # print (cluster_predicted)\n",
    "    print ('Clusters', clusters)\n",
    "    print ('Counts', counts)\n",
    "    print ('Percentage', counts/len(X))\n",
    "    \n",
    "    cluster_predicted[cluster_predicted >= 0] = 0\n",
    "    cluster_predicted[cluster_predicted == -1] = 1\n",
    "    print (cluster_predicted[cluster_predicted == 1].shape)\n",
    "    \n",
    "    print_graph(X, cluster_predicted)\n",
    "    \n",
    "    cm = confusion_matrix(y, cluster_predicted)\n",
    "    disp = ConfusionMatrixDisplay(confusion_matrix=cm, display_labels=[0,1])\n",
    "    disp.plot()\n",
    "    "
   ]
  },
  {
   "cell_type": "code",
   "execution_count": 43,
   "metadata": {},
   "outputs": [
    {
     "name": "stdout",
     "output_type": "stream",
     "text": [
      "Train\n",
      "Clusters [-1  0]\n",
      "Counts [ 158 6661]\n",
      "Percentage [0.02317055 0.97682945]\n",
      "(158,)\n"
     ]
    },
    {
     "data": {
      "image/png": "[encoded data removed]",
      "text/plain": [
       "<Figure size 432x288 with 1 Axes>"
      ]
     },
     "metadata": {
      "needs_background": "light"
     },
     "output_type": "display_data"
    },
    {
     "data": {
      "image/png": "[encoded data removed]",
      "text/plain": [
       "<Figure size 432x288 with 2 Axes>"
      ]
     },
     "metadata": {
      "needs_background": "light"
     },
     "output_type": "display_data"
    }
   ],
   "source": [
    "dbscan(X_stand, y)"
   ]
  },
  {
   "cell_type": "code",
   "execution_count": 44,
   "metadata": {},
   "outputs": [],
   "source": [
    "def dbscan(X, y):\n",
    "    \n",
    "    # define the model\n",
    "    # eps = The maximum distance between two samples for one to be considered as in the neighborhood of the other.\n",
    "    \n",
    "    options_eps = [1, 2, 3, 4, 5]\n",
    "    option_min_samples = [5, 7, 8, 9, 10, 15]\n",
    "    better_f1=0\n",
    "    \n",
    "    for eps in options_eps:\n",
    "        for min_samples in option_min_samples:\n",
    "                                 \n",
    "            model = DBSCAN(eps=eps, min_samples=min_samples)\n",
    "       \n",
    "            # fit model and predict clusters\n",
    "            cluster_predicted = model.fit_predict(X)\n",
    "    \n",
    "            # retrieve unique clusters\n",
    "            clusters, counts = np.unique(cluster_predicted, return_counts=True)\n",
    "  \n",
    "            cluster_predicted[cluster_predicted >= 0] = 0\n",
    "            cluster_predicted[cluster_predicted == -1] = 1\n",
    "            f1 = f1_score(y, cluster_predicted, average='macro')\n",
    "            \n",
    "            '''\n",
    "            len_class1 = len(cluster_predicted[cluster_predicted == 1])\n",
    "            print ('eps = ', eps, '/ min. samples = ', min_samples)\n",
    "            # np.set_printoptions(threshold=np.inf)\n",
    "            # print (cluster_predicted)\n",
    "            print ('Clusters', len(clusters))\n",
    "            print ('detect outliers/class 1: %.2i' % len_class1) \n",
    "            print ('Counts (min-max)', min(counts), '-', max (counts))\n",
    "            print ('Percentage of class', clusters[0], '/ class >=0:', counts[0]/len(X), sum(counts[1:])/len(X))\n",
    "            print_graph(X, cluster_predicted)\n",
    "            cm = confusion_matrix(y, cluster_predicted)\n",
    "            disp = ConfusionMatrixDisplay(confusion_matrix=cm, display_labels=[0,1])\n",
    "            disp.plot()\n",
    "            print ('f1 score = ', f1)\n",
    "            print ()\n",
    "            print ()\n",
    "            '''\n",
    "            \n",
    "            if f1>better_f1:\n",
    "                better_f1 = f1\n",
    "                better_eps = eps\n",
    "                better_min_samples = min_samples\n",
    "                better_cluster_predicted = cluster_predicted\n",
    "            \n",
    "    print ('Best choice:')\n",
    "    print (better_f1)\n",
    "    print ('eps = ', better_eps, '/ min. samples = ', better_min_samples)\n",
    "            \n",
    "    \n",
    "    plot_roc_curve(y, better_cluster_predicted, 'All dataset')\n",
    "    evaluation_set(0, y, better_cluster_predicted, df_results_dbscan, 'All dataset', 'DBScan-00', 21)\n",
    "    \n",
    "    best_cm = confusion_matrix(y, better_cluster_predicted)\n",
    "    best_disp = ConfusionMatrixDisplay(confusion_matrix=best_cm, display_labels=[0,1])\n",
    "    best_disp.plot()"
   ]
  },
  {
   "cell_type": "code",
   "execution_count": 45,
   "metadata": {},
   "outputs": [
    {
     "name": "stdout",
     "output_type": "stream",
     "text": [
      "Best choice:\n",
      "0.569640339733879\n",
      "eps =  3 / min. samples =  8\n"
     ]
    },
    {
     "data": {
      "image/png": "[encoded data removed]",
      "text/plain": [
       "<Figure size 432x288 with 1 Axes>"
      ]
     },
     "metadata": {
      "needs_background": "light"
     },
     "output_type": "display_data"
    },
    {
     "data": {
      "image/png": "[encoded data removed]",
      "text/plain": [
       "<Figure size 432x288 with 2 Axes>"
      ]
     },
     "metadata": {
      "needs_background": "light"
     },
     "output_type": "display_data"
    }
   ],
   "source": [
    "dbscan(X_stand, y)"
   ]
  },
  {
   "cell_type": "code",
   "execution_count": 46,
   "metadata": {},
   "outputs": [
    {
     "data": {
      "text/html": [
       "<div>\n",
       "<style scoped>\n",
       "    .dataframe tbody tr th:only-of-type {\n",
       "        vertical-align: middle;\n",
       "    }\n",
       "\n",
       "    .dataframe tbody tr th {\n",
       "        vertical-align: top;\n",
       "    }\n",
       "\n",
       "    .dataframe thead th {\n",
       "        text-align: right;\n",
       "    }\n",
       "</style>\n",
       "<table border=\"1\" class=\"dataframe\">\n",
       "  <thead>\n",
       "    <tr style=\"text-align: right;\">\n",
       "      <th></th>\n",
       "      <th>Scenarios</th>\n",
       "      <th>#Features</th>\n",
       "      <th>Train/Test</th>\n",
       "      <th>Acc</th>\n",
       "      <th>Bal_Acc</th>\n",
       "      <th>M_P</th>\n",
       "      <th>M_R</th>\n",
       "      <th>M_F1</th>\n",
       "      <th>P0</th>\n",
       "      <th>P1</th>\n",
       "      <th>R0</th>\n",
       "      <th>R1</th>\n",
       "      <th>MSE</th>\n",
       "      <th>Auc</th>\n",
       "    </tr>\n",
       "  </thead>\n",
       "  <tbody>\n",
       "    <tr>\n",
       "      <th>1</th>\n",
       "      <td>DBScan-00</td>\n",
       "      <td>21 features</td>\n",
       "      <td>All dataset</td>\n",
       "      <td>0.95</td>\n",
       "      <td>0.56</td>\n",
       "      <td>0.58</td>\n",
       "      <td>0.56</td>\n",
       "      <td>0.57</td>\n",
       "      <td>0.97</td>\n",
       "      <td>0.18</td>\n",
       "      <td>0.98</td>\n",
       "      <td>0.15</td>\n",
       "      <td>0.049</td>\n",
       "      <td>0.56</td>\n",
       "    </tr>\n",
       "  </tbody>\n",
       "</table>\n",
       "</div>"
      ],
      "text/plain": [
       "   Scenarios    #Features   Train/Test   Acc  Bal_Acc   M_P   M_R  M_F1    P0  \\\n",
       "1  DBScan-00  21 features  All dataset  0.95     0.56  0.58  0.56  0.57  0.97   \n",
       "\n",
       "     P1    R0    R1    MSE   Auc  \n",
       "1  0.18  0.98  0.15  0.049  0.56  "
      ]
     },
     "execution_count": 46,
     "metadata": {},
     "output_type": "execute_result"
    }
   ],
   "source": [
    "df_results_dbscan"
   ]
  },
  {
   "cell_type": "markdown",
   "metadata": {},
   "source": [
    "We could not identify our class 1 as outliers. Probably they are not so sparse to be considered as outliers."
   ]
  }
 ],
 "metadata": {
  "kernelspec": {
   "display_name": "Python 3",
   "language": "python",
   "name": "python3"
  },
  "language_info": {
   "codemirror_mode": {
    "name": "ipython",
    "version": 3
   },
   "file_extension": ".py",
   "mimetype": "text/x-python",
   "name": "python",
   "nbconvert_exporter": "python",
   "pygments_lexer": "ipython3",
   "version": "3.8.8"
  }
 },
 "nbformat": 4,
 "nbformat_minor": 4
}
