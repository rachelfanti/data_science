{
 "cells": [
  {
   "cell_type": "markdown",
   "source": "# Machine Learning Project\n\n### Company Bankruptcy Prediction\n\nNames:    \n    - Denis Mugisha   \n    - Liu Guangqiang   \n    - Rachel Fanti   \n    \nDataset: https://www.kaggle.com/fedesoriano/company-bankruptcy-prediction\n\nData: May/2021\n\n## Libraries",
   "metadata": {
    "cell_id": "00000-a7a806ae-d31a-449d-8ee3-a6cc16b27112",
    "deepnote_cell_type": "markdown"
   }
  },
  {
   "cell_type": "code",
   "metadata": {
    "deepnote_to_be_reexecuted": false,
    "source_hash": "aa0f37b1",
    "execution_start": 1621784234983,
    "execution_millis": 301,
    "cell_id": "00001-b90fe45d-d257-4970-a655-a55973bd6dca",
    "deepnote_cell_type": "code"
   },
   "source": "# Basics\n%matplotlib inline\nimport matplotlib.pyplot as plt \nimport numpy as np \nimport pandas as pd\nfrom collections import Counter",
   "outputs": [],
   "execution_count": null
  },
  {
   "cell_type": "code",
   "metadata": {
    "deepnote_to_be_reexecuted": false,
    "source_hash": "407e1302",
    "execution_start": 1621784235288,
    "execution_millis": 3,
    "cell_id": "00002-7e875afb-6bde-48e5-ae91-6b931a31ed7d",
    "deepnote_cell_type": "code"
   },
   "source": "# Statistic funtions\nfrom numpy.random import seed\n",
   "outputs": [],
   "execution_count": null
  },
  {
   "cell_type": "code",
   "metadata": {
    "deepnote_to_be_reexecuted": false,
    "source_hash": "1d2bd4f2",
    "execution_start": 1621784235294,
    "execution_millis": 926,
    "cell_id": "00003-5d43709e-f10d-423f-9b76-eb2922c59a70",
    "deepnote_cell_type": "code"
   },
   "source": "# Preprocessing\nfrom sklearn.model_selection import train_test_split\nfrom sklearn.model_selection import StratifiedKFold, StratifiedShuffleSplit",
   "outputs": [],
   "execution_count": null
  },
  {
   "cell_type": "code",
   "metadata": {
    "deepnote_to_be_reexecuted": false,
    "source_hash": "50ab7a3d",
    "execution_start": 1621784236225,
    "execution_millis": 7,
    "cell_id": "00004-a450b48c-1288-405d-8f5a-aca745f33a90",
    "deepnote_cell_type": "code"
   },
   "source": "# Evaluation of the model\nfrom sklearn import metrics\nfrom sklearn.metrics import confusion_matrix\nfrom sklearn.metrics import mean_squared_error\nfrom sklearn.metrics import mean_absolute_error\n\n",
   "outputs": [],
   "execution_count": null
  },
  {
   "cell_type": "code",
   "metadata": {
    "deepnote_to_be_reexecuted": false,
    "source_hash": "8dc83868",
    "execution_start": 1621784236233,
    "execution_millis": 8,
    "cell_id": "00005-819e1f29-ace6-43f6-9b8c-47384071680a",
    "deepnote_cell_type": "code"
   },
   "source": "# naive bayes\nfrom sklearn.naive_bayes import GaussianNB",
   "outputs": [],
   "execution_count": null
  },
  {
   "cell_type": "markdown",
   "source": "## Reading data ",
   "metadata": {
    "cell_id": "00006-b1214dfa-e7d2-48f9-8e23-43a2148e911e",
    "deepnote_cell_type": "markdown"
   }
  },
  {
   "cell_type": "code",
   "metadata": {
    "deepnote_to_be_reexecuted": false,
    "source_hash": "fc4fa757",
    "execution_start": 1621784236242,
    "execution_millis": 181,
    "cell_id": "00007-8f7c7990-c95a-41ac-8427-785a7a6f229a",
    "deepnote_cell_type": "code"
   },
   "source": "df_complete = pd.read_csv('data.csv', header=0) \ndf_feat = pd.read_csv('bankruptcy (1).csv')\ndf_feat",
   "outputs": [
    {
     "output_type": "execute_result",
     "execution_count": 6,
     "data": {
      "application/vnd.deepnote.dataframe.v2+json": {
       "row_count": 95,
       "column_count": 7,
       "columns": [
        {
         "name": "Unnamed: 0",
         "dtype": "int64",
         "stats": {
          "unique_count": 95,
          "nan_count": 0,
          "min": "0",
          "max": "94",
          "histogram": [
           {
            "bin_start": 0,
            "bin_end": 9.4,
            "count": 10
           },
           {
            "bin_start": 9.4,
            "bin_end": 18.8,
            "count": 9
           },
           {
            "bin_start": 18.8,
            "bin_end": 28.200000000000003,
            "count": 10
           },
           {
            "bin_start": 28.200000000000003,
            "bin_end": 37.6,
            "count": 9
           },
           {
            "bin_start": 37.6,
            "bin_end": 47,
            "count": 9
           },
           {
            "bin_start": 47,
            "bin_end": 56.400000000000006,
            "count": 10
           },
           {
            "bin_start": 56.400000000000006,
            "bin_end": 65.8,
            "count": 9
           },
           {
            "bin_start": 65.8,
            "bin_end": 75.2,
            "count": 10
           },
           {
            "bin_start": 75.2,
            "bin_end": 84.60000000000001,
            "count": 9
           },
           {
            "bin_start": 84.60000000000001,
            "bin_end": 94,
            "count": 10
           }
          ]
         }
        },
        {
         "name": "features",
         "dtype": "object",
         "stats": {
          "unique_count": 95,
          "nan_count": 0,
          "categories": [
           {
            "name": " Inventory Turnover Rate (times)",
            "count": 1
           },
           {
            "name": " Quick Asset Turnover Rate",
            "count": 1
           },
           {
            "name": "93 others",
            "count": 93
           }
          ]
         }
        },
        {
         "name": "importance",
         "dtype": "float64",
         "stats": {
          "unique_count": 55,
          "nan_count": 0,
          "min": "0.0",
          "max": "0.1232880558086223",
          "histogram": [
           {
            "bin_start": 0,
            "bin_end": 0.01232880558086223,
            "count": 65
           },
           {
            "bin_start": 0.01232880558086223,
            "bin_end": 0.02465761116172446,
            "count": 22
           },
           {
            "bin_start": 0.02465761116172446,
            "bin_end": 0.03698641674258669,
            "count": 2
           },
           {
            "bin_start": 0.03698641674258669,
            "bin_end": 0.04931522232344892,
            "count": 3
           },
           {
            "bin_start": 0.04931522232344892,
            "bin_end": 0.06164402790431115,
            "count": 2
           },
           {
            "bin_start": 0.06164402790431115,
            "bin_end": 0.07397283348517338,
            "count": 0
           },
           {
            "bin_start": 0.07397283348517338,
            "bin_end": 0.08630163906603561,
            "count": 0
           },
           {
            "bin_start": 0.08630163906603561,
            "bin_end": 0.09863044464689784,
            "count": 0
           },
           {
            "bin_start": 0.09863044464689784,
            "bin_end": 0.11095925022776007,
            "count": 0
           },
           {
            "bin_start": 0.11095925022776007,
            "bin_end": 0.1232880558086223,
            "count": 1
           }
          ]
         }
        },
        {
         "name": "select_tree",
         "dtype": "bool",
         "stats": {
          "unique_count": 2,
          "nan_count": 0,
          "categories": [
           {
            "name": "True",
            "count": 48
           },
           {
            "name": "False",
            "count": 47
           }
          ]
         }
        },
        {
         "name": "rank_rfecv",
         "dtype": "int64",
         "stats": {
          "unique_count": 75,
          "nan_count": 0,
          "min": "1",
          "max": "75",
          "histogram": [
           {
            "bin_start": 1,
            "bin_end": 8.4,
            "count": 28
           },
           {
            "bin_start": 8.4,
            "bin_end": 15.8,
            "count": 7
           },
           {
            "bin_start": 15.8,
            "bin_end": 23.200000000000003,
            "count": 8
           },
           {
            "bin_start": 23.200000000000003,
            "bin_end": 30.6,
            "count": 7
           },
           {
            "bin_start": 30.6,
            "bin_end": 38,
            "count": 7
           },
           {
            "bin_start": 38,
            "bin_end": 45.400000000000006,
            "count": 8
           },
           {
            "bin_start": 45.400000000000006,
            "bin_end": 52.800000000000004,
            "count": 7
           },
           {
            "bin_start": 52.800000000000004,
            "bin_end": 60.2,
            "count": 8
           },
           {
            "bin_start": 60.2,
            "bin_end": 67.60000000000001,
            "count": 7
           },
           {
            "bin_start": 67.60000000000001,
            "bin_end": 75,
            "count": 8
           }
          ]
         }
        },
        {
         "name": "selected_rfecv",
         "dtype": "bool",
         "stats": {
          "unique_count": 2,
          "nan_count": 0,
          "categories": [
           {
            "name": "False",
            "count": 74
           },
           {
            "name": "True",
            "count": 21
           }
          ]
         }
        },
        {
         "name": "corr",
         "dtype": "float64",
         "stats": {
          "unique_count": 91,
          "nan_count": 1,
          "min": "0.0097957465179334",
          "max": "0.2382086501093132",
          "histogram": [
           {
            "bin_start": 0.0097957465179334,
            "bin_end": 0.032637036877071375,
            "count": 10
           },
           {
            "bin_start": 0.032637036877071375,
            "bin_end": 0.05547832723620935,
            "count": 6
           },
           {
            "bin_start": 0.05547832723620935,
            "bin_end": 0.07831961759534732,
            "count": 4
           },
           {
            "bin_start": 0.07831961759534732,
            "bin_end": 0.1011609079544853,
            "count": 14
           },
           {
            "bin_start": 0.1011609079544853,
            "bin_end": 0.12400219831362329,
            "count": 7
           },
           {
            "bin_start": 0.12400219831362329,
            "bin_end": 0.14684348867276126,
            "count": 12
           },
           {
            "bin_start": 0.14684348867276126,
            "bin_end": 0.16968477903189924,
            "count": 6
           },
           {
            "bin_start": 0.16968477903189924,
            "bin_end": 0.19252606939103722,
            "count": 10
           },
           {
            "bin_start": 0.19252606939103722,
            "bin_end": 0.2153673597501752,
            "count": 8
           },
           {
            "bin_start": 0.2153673597501752,
            "bin_end": 0.2382086501093132,
            "count": 17
           }
          ]
         }
        },
        {
         "name": "_deepnote_index_column",
         "dtype": "int64"
        }
       ],
       "rows_top": [
        {
         "Unnamed: 0": 47,
         "features": " Inventory Turnover Rate (times)",
         "importance": 0.0018750740066775,
         "select_tree": true,
         "rank_rfecv": 1,
         "selected_rfecv": true,
         "corr": "0.0125562019702677",
         "_deepnote_index_column": 0
        },
        {
         "Unnamed: 0": 71,
         "features": " Quick Asset Turnover Rate",
         "importance": 0,
         "select_tree": true,
         "rank_rfecv": 1,
         "selected_rfecv": true,
         "corr": "0.0369462098352106",
         "_deepnote_index_column": 1
        },
        {
         "Unnamed: 0": 61,
         "features": " Inventory/Working Capital",
         "importance": 0.025643628833605,
         "select_tree": true,
         "rank_rfecv": 1,
         "selected_rfecv": true,
         "corr": "0.0555391268212753",
         "_deepnote_index_column": 2
        },
        {
         "Unnamed: 0": 56,
         "features": " Cash/Total Assets",
         "importance": 0.0236807485055148,
         "select_tree": true,
         "rank_rfecv": 1,
         "selected_rfecv": true,
         "corr": "0.1508284935165538",
         "_deepnote_index_column": 3
        },
        {
         "Unnamed: 0": 55,
         "features": " Current Assets/Total Assets",
         "importance": 0.0038322500384362,
         "select_tree": true,
         "rank_rfecv": 1,
         "selected_rfecv": true,
         "corr": "0.0442324056033208",
         "_deepnote_index_column": 4
        },
        {
         "Unnamed: 0": 52,
         "features": " Allocation rate per person",
         "importance": 0.0222511433025451,
         "select_tree": true,
         "rank_rfecv": 1,
         "selected_rfecv": true,
         "corr": "0.0923675217888841",
         "_deepnote_index_column": 5
        },
        {
         "Unnamed: 0": 42,
         "features": " Net profit before tax/Paid-in capital",
         "importance": 0.044163621136622,
         "select_tree": true,
         "rank_rfecv": 1,
         "selected_rfecv": true,
         "corr": "0.2331062752864571",
         "_deepnote_index_column": 6
        },
        {
         "Unnamed: 0": 39,
         "features": " Borrowing dependency",
         "importance": 0.0516792255435122,
         "select_tree": true,
         "rank_rfecv": 1,
         "selected_rfecv": true,
         "corr": "0.215093937936097",
         "_deepnote_index_column": 7
        },
        {
         "Unnamed: 0": 37,
         "features": " Net worth/Assets",
         "importance": 0.0071759843956105,
         "select_tree": false,
         "rank_rfecv": 1,
         "selected_rfecv": true,
         "corr": "0.2172369824602463",
         "_deepnote_index_column": 8
        },
        {
         "Unnamed: 0": 34,
         "features": " Interest Expense Ratio",
         "importance": 0.0450042138100488,
         "select_tree": true,
         "rank_rfecv": 1,
         "selected_rfecv": true,
         "corr": "0.1332173219819235",
         "_deepnote_index_column": 9
        },
        {
         "Unnamed: 0": 31,
         "features": " Cash Reinvestment %",
         "importance": 0.0085331802267713,
         "select_tree": true,
         "rank_rfecv": 1,
         "selected_rfecv": true,
         "corr": "0.0913973874077319",
         "_deepnote_index_column": 10
        },
        {
         "Unnamed: 0": 29,
         "features": " Net Value Growth Rate",
         "importance": 0.0173802683379473,
         "select_tree": true,
         "rank_rfecv": 1,
         "selected_rfecv": true,
         "corr": "0.2034380455610532",
         "_deepnote_index_column": 11
        },
        {
         "Unnamed: 0": 15,
         "features": " Net Value Per Share (B)",
         "importance": 0.1232880558086223,
         "select_tree": true,
         "rank_rfecv": 1,
         "selected_rfecv": true,
         "corr": "0.2056328422772015",
         "_deepnote_index_column": 12
        },
        {
         "Unnamed: 0": 83,
         "features": " Current Liability to Current Assets",
         "importance": 0.0125253545814293,
         "select_tree": true,
         "rank_rfecv": 1,
         "selected_rfecv": true,
         "corr": "0.1895524550176605",
         "_deepnote_index_column": 13
        },
        {
         "Unnamed: 0": 13,
         "features": " Interest-bearing debt interest rate",
         "importance": 0.0423304609265127,
         "select_tree": true,
         "rank_rfecv": 1,
         "selected_rfecv": true,
         "corr": "0.1160110058390942",
         "_deepnote_index_column": 14
        },
        {
         "Unnamed: 0": 89,
         "features": " Net Income to Stockholder's Equity",
         "importance": 0.0102179215452856,
         "select_tree": true,
         "rank_rfecv": 1,
         "selected_rfecv": true,
         "corr": "0.2190568874576791",
         "_deepnote_index_column": 15
        },
        {
         "Unnamed: 0": 91,
         "features": " Degree of Financial Leverage (DFL)",
         "importance": 0.0348161976457097,
         "select_tree": true,
         "rank_rfecv": 1,
         "selected_rfecv": true,
         "corr": "0.1471363343827",
         "_deepnote_index_column": 16
        },
        {
         "Unnamed: 0": 86,
         "features": " Total assets to GNP price",
         "importance": 0.0198815152086179,
         "select_tree": true,
         "rank_rfecv": 1,
         "selected_rfecv": true,
         "corr": "0.0551143759274662",
         "_deepnote_index_column": 17
        },
        {
         "Unnamed: 0": 8,
         "features": " Non-industry income and expenditure/revenue",
         "importance": 0.0560840030651337,
         "select_tree": true,
         "rank_rfecv": 1,
         "selected_rfecv": true,
         "corr": "0.2048457101361163",
         "_deepnote_index_column": 18
        },
        {
         "Unnamed: 0": 10,
         "features": " Operating Expense Rate",
         "importance": 0.0114375493704976,
         "select_tree": true,
         "rank_rfecv": 1,
         "selected_rfecv": true,
         "corr": "0.0099670601221673",
         "_deepnote_index_column": 19
        },
        {
         "Unnamed: 0": 11,
         "features": " Research and development expense rate",
         "importance": 0,
         "select_tree": false,
         "rank_rfecv": 1,
         "selected_rfecv": true,
         "corr": "0.0384665409267472",
         "_deepnote_index_column": 20
        },
        {
         "Unnamed: 0": 17,
         "features": " Net Value Per Share (C)",
         "importance": 0.0121941553016319,
         "select_tree": false,
         "rank_rfecv": 2,
         "selected_rfecv": false,
         "corr": "0.203777931025626",
         "_deepnote_index_column": 21
        },
        {
         "Unnamed: 0": 53,
         "features": " Working Capital to Total Assets",
         "importance": 0.0029852370073795,
         "select_tree": true,
         "rank_rfecv": 3,
         "selected_rfecv": false,
         "corr": "0.1731544514610272",
         "_deepnote_index_column": 22
        },
        {
         "Unnamed: 0": 65,
         "features": " Current Liabilities/Equity",
         "importance": 0,
         "select_tree": false,
         "rank_rfecv": 4,
         "selected_rfecv": false,
         "corr": "0.1826442379021015",
         "_deepnote_index_column": 23
        },
        {
         "Unnamed: 0": 92,
         "features": " Interest Coverage Ratio (Interest expense to EBIT)",
         "importance": 0.0219805321599824,
         "select_tree": true,
         "rank_rfecv": 5,
         "selected_rfecv": false,
         "corr": "0.1274702177576714",
         "_deepnote_index_column": 24
        },
        {
         "Unnamed: 0": 50,
         "features": " Revenue per person",
         "importance": 0.004300009788258,
         "select_tree": true,
         "rank_rfecv": 6,
         "selected_rfecv": false,
         "corr": "0.0205979553637277",
         "_deepnote_index_column": 25
        },
        {
         "Unnamed: 0": 78,
         "features": " Equity to Long-term Liability",
         "importance": 0.0173963258075407,
         "select_tree": true,
         "rank_rfecv": 7,
         "selected_rfecv": false,
         "corr": "0.1173016876140623",
         "_deepnote_index_column": 26
        },
        {
         "Unnamed: 0": 30,
         "features": " Total Asset Return Growth Rate Ratio",
         "importance": 0.0097854332667416,
         "select_tree": false,
         "rank_rfecv": 8,
         "selected_rfecv": false,
         "corr": "0.1051626075941796",
         "_deepnote_index_column": 27
        },
        {
         "Unnamed: 0": 45,
         "features": " Accounts Receivable Turnover",
         "importance": 0.0123395636028999,
         "select_tree": true,
         "rank_rfecv": 9,
         "selected_rfecv": false,
         "corr": "0.0236937181742478",
         "_deepnote_index_column": 28
        },
        {
         "Unnamed: 0": 58,
         "features": " Cash/Current Liability",
         "importance": 0.0163381167082189,
         "select_tree": true,
         "rank_rfecv": 10,
         "selected_rfecv": false,
         "corr": "0.1467527086652961",
         "_deepnote_index_column": 29
        },
        {
         "Unnamed: 0": 88,
         "features": " Gross Profit to Sales",
         "importance": 0,
         "select_tree": false,
         "rank_rfecv": 11,
         "selected_rfecv": false,
         "corr": "0.147641691024087",
         "_deepnote_index_column": 30
        },
        {
         "Unnamed: 0": 62,
         "features": " Inventory/Current Liability",
         "importance": 0,
         "select_tree": true,
         "rank_rfecv": 12,
         "selected_rfecv": false,
         "corr": "0.0563914440940997",
         "_deepnote_index_column": 31
        },
        {
         "Unnamed: 0": 73,
         "features": " Cash Turnover Rate",
         "importance": 0.0114940871769423,
         "select_tree": true,
         "rank_rfecv": 13,
         "selected_rfecv": false,
         "corr": "0.0206590930556742",
         "_deepnote_index_column": 32
        },
        {
         "Unnamed: 0": 90,
         "features": " Liability to Equity",
         "importance": 0,
         "select_tree": false,
         "rank_rfecv": 14,
         "selected_rfecv": false,
         "corr": "0.2007270284952788",
         "_deepnote_index_column": 33
        },
        {
         "Unnamed: 0": 24,
         "features": " Operating Profit Growth Rate",
         "importance": 0.0194043416142042,
         "select_tree": false,
         "rank_rfecv": 15,
         "selected_rfecv": false,
         "corr": "0.0942624861240805",
         "_deepnote_index_column": 34
        },
        {
         "Unnamed: 0": 64,
         "features": " Working Capital/Equity",
         "importance": 0.0134176270937112,
         "select_tree": false,
         "rank_rfecv": 16,
         "selected_rfecv": false,
         "corr": "0.1216019075873166",
         "_deepnote_index_column": 35
        },
        {
         "Unnamed: 0": 67,
         "features": " Retained Earnings to Total Assets",
         "importance": 0.0037435961947638,
         "select_tree": true,
         "rank_rfecv": 17,
         "selected_rfecv": false,
         "corr": "0.229533260902135",
         "_deepnote_index_column": 36
        },
        {
         "Unnamed: 0": 63,
         "features": " Current Liabilities/Liability",
         "importance": 0.01174251992009,
         "select_tree": false,
         "rank_rfecv": 18,
         "selected_rfecv": false,
         "corr": "0.0259863216679597",
         "_deepnote_index_column": 37
        },
        {
         "Unnamed: 0": 14,
         "features": " Tax rate (A)",
         "importance": 0,
         "select_tree": false,
         "rank_rfecv": 19,
         "selected_rfecv": false,
         "corr": "0.1580444062135735",
         "_deepnote_index_column": 38
        },
        {
         "Unnamed: 0": 69,
         "features": " Total expense/Assets",
         "importance": 0,
         "select_tree": true,
         "rank_rfecv": 20,
         "selected_rfecv": false,
         "corr": "0.0819238236978969",
         "_deepnote_index_column": 39
        },
        {
         "Unnamed: 0": 16,
         "features": " Net Value Per Share (A)",
         "importance": 0.0026254825433399,
         "select_tree": true,
         "rank_rfecv": 21,
         "selected_rfecv": false,
         "corr": "0.2054062222195559",
         "_deepnote_index_column": 40
        },
        {
         "Unnamed: 0": 87,
         "features": " No-credit Interval",
         "importance": 0,
         "select_tree": true,
         "rank_rfecv": 22,
         "selected_rfecv": false,
         "corr": "0.1117457347761831",
         "_deepnote_index_column": 41
        },
        {
         "Unnamed: 0": 12,
         "features": " Cash flow rate",
         "importance": 0.0113519596182957,
         "select_tree": false,
         "rank_rfecv": 23,
         "selected_rfecv": false,
         "corr": "0.1446600083736965",
         "_deepnote_index_column": 42
        },
        {
         "Unnamed: 0": 35,
         "features": " Total debt/Total net worth",
         "importance": 0,
         "select_tree": true,
         "rank_rfecv": 24,
         "selected_rfecv": false,
         "corr": "0.2193231433165806",
         "_deepnote_index_column": 43
        },
        {
         "Unnamed: 0": 9,
         "features": " Continuous interest rate (after tax)",
         "importance": 0,
         "select_tree": false,
         "rank_rfecv": 25,
         "selected_rfecv": false,
         "corr": "0.22762082684058",
         "_deepnote_index_column": 44
        },
        {
         "Unnamed: 0": 77,
         "features": " Current Liability to Equity",
         "importance": 0.0222686005106865,
         "select_tree": false,
         "rank_rfecv": 26,
         "selected_rfecv": false,
         "corr": "0.1826442379021015",
         "_deepnote_index_column": 45
        },
        {
         "Unnamed: 0": 79,
         "features": " Cash Flow to Total Assets",
         "importance": 0.0190720706752634,
         "select_tree": false,
         "rank_rfecv": 27,
         "selected_rfecv": false,
         "corr": "0.0885040217157504",
         "_deepnote_index_column": 46
        },
        {
         "Unnamed: 0": 19,
         "features": " Cash Flow Per Share",
         "importance": 0,
         "select_tree": false,
         "rank_rfecv": 28,
         "selected_rfecv": false,
         "corr": "0.1302616668168403",
         "_deepnote_index_column": 47
        },
        {
         "Unnamed: 0": 60,
         "features": " Operating Funds to Liability",
         "importance": 0.005871259960045,
         "select_tree": false,
         "rank_rfecv": 29,
         "selected_rfecv": false,
         "corr": "0.1450046788679596",
         "_deepnote_index_column": 48
        },
        {
         "Unnamed: 0": 66,
         "features": " Long-term Liability to Current Assets",
         "importance": 0.0132103349101012,
         "select_tree": false,
         "rank_rfecv": 30,
         "selected_rfecv": false,
         "corr": "0.0921466365430544",
         "_deepnote_index_column": 49
        },
        {
         "Unnamed: 0": 80,
         "features": " Cash Flow to Liability",
         "importance": 0,
         "select_tree": false,
         "rank_rfecv": 31,
         "selected_rfecv": false,
         "corr": "0.079199747360782",
         "_deepnote_index_column": 50
        },
        {
         "Unnamed: 0": 54,
         "features": " Quick Assets/Total Assets",
         "importance": 0,
         "select_tree": true,
         "rank_rfecv": 32,
         "selected_rfecv": false,
         "corr": "0.0861737369432331",
         "_deepnote_index_column": 51
        },
        {
         "Unnamed: 0": 23,
         "features": " Realized Sales Gross Profit Growth Rate",
         "importance": 0.0163525462590883,
         "select_tree": true,
         "rank_rfecv": 33,
         "selected_rfecv": false,
         "corr": "0.0914239460259142",
         "_deepnote_index_column": 52
        },
        {
         "Unnamed: 0": 41,
         "features": " Operating profit/Paid-in capital",
         "importance": 0.0188998653951924,
         "select_tree": false,
         "rank_rfecv": 34,
         "selected_rfecv": false,
         "corr": "0.191864198082951",
         "_deepnote_index_column": 53
        },
        {
         "Unnamed: 0": 81,
         "features": " CFO to Assets",
         "importance": 0.0165373822207934,
         "select_tree": false,
         "rank_rfecv": 35,
         "selected_rfecv": false,
         "corr": "0.1292041085522629",
         "_deepnote_index_column": 54
        },
        {
         "Unnamed: 0": 44,
         "features": " Total Asset Turnover",
         "importance": 0,
         "select_tree": false,
         "rank_rfecv": 36,
         "selected_rfecv": false,
         "corr": "0.090005397923528",
         "_deepnote_index_column": 55
        },
        {
         "Unnamed: 0": 25,
         "features": " After-tax Net Profit Growth Rate",
         "importance": 0,
         "select_tree": true,
         "rank_rfecv": 37,
         "selected_rfecv": false,
         "corr": "0.1241153863340036",
         "_deepnote_index_column": 56
        },
        {
         "Unnamed: 0": 84,
         "features": " Liability-Assets Flag",
         "importance": 0,
         "select_tree": false,
         "rank_rfecv": 38,
         "selected_rfecv": false,
         "corr": "0.1392115593820331",
         "_deepnote_index_column": 57
        },
        {
         "Unnamed: 0": 21,
         "features": " Operating Profit Per Share (Yuan ¥)",
         "importance": 0.0140082507140456,
         "select_tree": false,
         "rank_rfecv": 39,
         "selected_rfecv": false,
         "corr": "0.1919809172510772",
         "_deepnote_index_column": 58
        },
        {
         "Unnamed: 0": 59,
         "features": " Current Liability to Assets",
         "importance": 0.0052188977422622,
         "select_tree": false,
         "rank_rfecv": 40,
         "selected_rfecv": false,
         "corr": "0.1683888989399919",
         "_deepnote_index_column": 59
        },
        {
         "Unnamed: 0": 40,
         "features": " Contingent liabilities/Net worth",
         "importance": 0,
         "select_tree": false,
         "rank_rfecv": 41,
         "selected_rfecv": false,
         "corr": "0.0312130135912237",
         "_deepnote_index_column": 60
        },
        {
         "Unnamed: 0": 18,
         "features": " Persistent EPS in the Last Four Seasons",
         "importance": 0,
         "select_tree": false,
         "rank_rfecv": 42,
         "selected_rfecv": false,
         "corr": "0.2382086501093132",
         "_deepnote_index_column": 61
        },
        {
         "Unnamed: 0": 20,
         "features": " Revenue Per Share (Yuan ¥)",
         "importance": 0,
         "select_tree": false,
         "rank_rfecv": 43,
         "selected_rfecv": false,
         "corr": "0.074937613111331",
         "_deepnote_index_column": 62
        },
        {
         "Unnamed: 0": 36,
         "features": " Debt ratio %",
         "importance": 0,
         "select_tree": true,
         "rank_rfecv": 44,
         "selected_rfecv": false,
         "corr": "0.2172369824602463",
         "_deepnote_index_column": 63
        },
        {
         "Unnamed: 0": 43,
         "features": " Inventory and accounts receivable/Net value",
         "importance": 0.014091023904108,
         "select_tree": true,
         "rank_rfecv": 45,
         "selected_rfecv": false,
         "corr": "0.087281541250088",
         "_deepnote_index_column": 64
        },
        {
         "Unnamed: 0": 74,
         "features": " Cash Flow to Sales",
         "importance": 0,
         "select_tree": false,
         "rank_rfecv": 46,
         "selected_rfecv": false,
         "corr": "0.0933644383717262",
         "_deepnote_index_column": 65
        },
        {
         "Unnamed: 0": 51,
         "features": " Operating profit per person",
         "importance": 0,
         "select_tree": true,
         "rank_rfecv": 47,
         "selected_rfecv": false,
         "corr": "0.1741958874498982",
         "_deepnote_index_column": 66
        },
        {
         "Unnamed: 0": 38,
         "features": " Long-term fund suitability ratio (A)",
         "importance": 0,
         "select_tree": false,
         "rank_rfecv": 48,
         "selected_rfecv": false,
         "corr": "0.1209186754069805",
         "_deepnote_index_column": 67
        },
        {
         "Unnamed: 0": 33,
         "features": " Quick Ratio",
         "importance": 0,
         "select_tree": false,
         "rank_rfecv": 49,
         "selected_rfecv": false,
         "corr": "0.2019372857445674",
         "_deepnote_index_column": 68
        },
        {
         "Unnamed: 0": 26,
         "features": " Regular Net Profit Growth Rate",
         "importance": 0,
         "select_tree": false,
         "rank_rfecv": 50,
         "selected_rfecv": false,
         "corr": "0.1221854281859479",
         "_deepnote_index_column": 69
        },
        {
         "Unnamed: 0": 27,
         "features": " Continuous Net Profit Growth Rate",
         "importance": 0,
         "select_tree": true,
         "rank_rfecv": 51,
         "selected_rfecv": false,
         "corr": "0.1250842653196166",
         "_deepnote_index_column": 70
        },
        {
         "Unnamed: 0": 85,
         "features": " Net Income to Total Assets",
         "importance": 0.0067100113829085,
         "select_tree": true,
         "rank_rfecv": 52,
         "selected_rfecv": false,
         "corr": "0.2343160997766484",
         "_deepnote_index_column": 71
        },
        {
         "Unnamed: 0": 68,
         "features": " Total income/Total expense",
         "importance": 0.0062626772907146,
         "select_tree": false,
         "rank_rfecv": 53,
         "selected_rfecv": false,
         "corr": "0.2245636450863831",
         "_deepnote_index_column": 72
        },
        {
         "Unnamed: 0": 28,
         "features": " Total Asset Growth Rate",
         "importance": 0,
         "select_tree": true,
         "rank_rfecv": 54,
         "selected_rfecv": false,
         "corr": "0.0857872786798579",
         "_deepnote_index_column": 73
        },
        {
         "Unnamed: 0": 46,
         "features": " Average Collection Days",
         "importance": 0.009394015936072,
         "select_tree": false,
         "rank_rfecv": 55,
         "selected_rfecv": false,
         "corr": "0.0263734948544426",
         "_deepnote_index_column": 74
        },
        {
         "Unnamed: 0": 72,
         "features": " Working capitcal Turnover Rate",
         "importance": 0,
         "select_tree": true,
         "rank_rfecv": 56,
         "selected_rfecv": false,
         "corr": "0.1349638372074751",
         "_deepnote_index_column": 75
        },
        {
         "Unnamed: 0": 22,
         "features": " Per Share Net profit before tax (Yuan ¥)",
         "importance": 0.0121339372507596,
         "select_tree": true,
         "rank_rfecv": 57,
         "selected_rfecv": false,
         "corr": "0.2324416654919353",
         "_deepnote_index_column": 76
        },
        {
         "Unnamed: 0": 70,
         "features": " Current Asset Turnover Rate",
         "importance": 0.0071443963303284,
         "select_tree": false,
         "rank_rfecv": 58,
         "selected_rfecv": false,
         "corr": "0.0482936453708856",
         "_deepnote_index_column": 77
        },
        {
         "Unnamed: 0": 75,
         "features": " Fixed Assets to Assets",
         "importance": 0.0129398336273039,
         "select_tree": false,
         "rank_rfecv": 59,
         "selected_rfecv": false,
         "corr": "0.0585667980306087",
         "_deepnote_index_column": 78
        },
        {
         "Unnamed: 0": 49,
         "features": " Net Worth Turnover Rate (times)",
         "importance": 0,
         "select_tree": false,
         "rank_rfecv": 60,
         "selected_rfecv": false,
         "corr": "0.0097957465179334",
         "_deepnote_index_column": 79
        },
        {
         "Unnamed: 0": 57,
         "features": " Quick Assets/Current Liability",
         "importance": 0,
         "select_tree": false,
         "rank_rfecv": 61,
         "selected_rfecv": false,
         "corr": "0.1891890199762439",
         "_deepnote_index_column": 80
        },
        {
         "Unnamed: 0": 76,
         "features": " Current Liability to Liability",
         "importance": 0.0112637117226069,
         "select_tree": false,
         "rank_rfecv": 62,
         "selected_rfecv": false,
         "corr": "0.0259863216679597",
         "_deepnote_index_column": 81
        },
        {
         "Unnamed: 0": 93,
         "features": " Net Income Flag",
         "importance": 0,
         "select_tree": false,
         "rank_rfecv": 63,
         "selected_rfecv": false,
         "corr": "nan",
         "_deepnote_index_column": 82
        },
        {
         "Unnamed: 0": 94,
         "features": " Equity to Liability",
         "importance": 0.0233792513724314,
         "select_tree": true,
         "rank_rfecv": 64,
         "selected_rfecv": false,
         "corr": "0.2172350744484432",
         "_deepnote_index_column": 83
        },
        {
         "Unnamed: 0": 7,
         "features": " After-tax net Interest Rate",
         "importance": 0,
         "select_tree": false,
         "rank_rfecv": 65,
         "selected_rfecv": false,
         "corr": "0.2203076460955017",
         "_deepnote_index_column": 84
        },
        {
         "Unnamed: 0": 6,
         "features": " Pre-tax net Interest Rate",
         "importance": 0,
         "select_tree": true,
         "rank_rfecv": 66,
         "selected_rfecv": false,
         "corr": "0.2196937642374554",
         "_deepnote_index_column": 85
        },
        {
         "Unnamed: 0": 5,
         "features": " Operating Profit Rate",
         "importance": 0,
         "select_tree": true,
         "rank_rfecv": 67,
         "selected_rfecv": false,
         "corr": "0.1833924255999163",
         "_deepnote_index_column": 86
        },
        {
         "Unnamed: 0": 82,
         "features": " Cash Flow to Equity",
         "importance": 0,
         "select_tree": false,
         "rank_rfecv": 68,
         "selected_rfecv": false,
         "corr": "0.0904493689095977",
         "_deepnote_index_column": 87
        },
        {
         "Unnamed: 0": 4,
         "features": " Realized Sales Gross Margin",
         "importance": 0.0234138730527855,
         "select_tree": true,
         "rank_rfecv": 69,
         "selected_rfecv": false,
         "corr": "0.1465634129327199",
         "_deepnote_index_column": 88
        },
        {
         "Unnamed: 0": 3,
         "features": " Operating Gross Margin",
         "importance": 0,
         "select_tree": false,
         "rank_rfecv": 70,
         "selected_rfecv": false,
         "corr": "0.1476484477935647",
         "_deepnote_index_column": 89
        },
        {
         "Unnamed: 0": 2,
         "features": " ROA(B) before interest and depreciation after tax",
         "importance": 0,
         "select_tree": false,
         "rank_rfecv": 71,
         "selected_rfecv": false,
         "corr": "0.2241629287764855",
         "_deepnote_index_column": 90
        },
        {
         "Unnamed: 0": 48,
         "features": " Fixed Assets Turnover Frequency",
         "importance": 0,
         "select_tree": true,
         "rank_rfecv": 72,
         "selected_rfecv": false,
         "corr": "0.0475461498889424",
         "_deepnote_index_column": 91
        },
        {
         "Unnamed: 0": 32,
         "features": " Current Ratio",
         "importance": 0,
         "select_tree": false,
         "rank_rfecv": 73,
         "selected_rfecv": false,
         "corr": "0.1896443693222131",
         "_deepnote_index_column": 92
        },
        {
         "Unnamed: 0": 1,
         "features": " ROA(A) before interest and % after tax",
         "importance": 0,
         "select_tree": false,
         "rank_rfecv": 74,
         "selected_rfecv": false,
         "corr": "0.2224104756145884",
         "_deepnote_index_column": 93
        },
        {
         "Unnamed: 0": 0,
         "features": " ROA(C) before interest and depreciation before interest",
         "importance": 0.0089286756494011,
         "select_tree": false,
         "rank_rfecv": 75,
         "selected_rfecv": false,
         "corr": "0.2235888901838114",
         "_deepnote_index_column": 94
        }
       ],
       "rows_bottom": null
      },
      "text/plain": "    Unnamed: 0                                           features  importance  \\\n0           47                    Inventory Turnover Rate (times)    0.001875   \n1           71                          Quick Asset Turnover Rate    0.000000   \n2           61                          Inventory/Working Capital    0.025644   \n3           56                                  Cash/Total Assets    0.023681   \n4           55                        Current Assets/Total Assets    0.003832   \n..         ...                                                ...         ...   \n90           2   ROA(B) before interest and depreciation after...    0.000000   \n91          48                    Fixed Assets Turnover Frequency    0.000000   \n92          32                                      Current Ratio    0.000000   \n93           1             ROA(A) before interest and % after tax    0.000000   \n94           0   ROA(C) before interest and depreciation befor...    0.008929   \n\n    select_tree  rank_rfecv  selected_rfecv      corr  \n0          True           1            True  0.012556  \n1          True           1            True  0.036946  \n2          True           1            True  0.055539  \n3          True           1            True  0.150828  \n4          True           1            True  0.044232  \n..          ...         ...             ...       ...  \n90        False          71           False  0.224163  \n91         True          72           False  0.047546  \n92        False          73           False  0.189644  \n93        False          74           False  0.222410  \n94        False          75           False  0.223589  \n\n[95 rows x 7 columns]",
      "text/html": "<div>\n<style scoped>\n    .dataframe tbody tr th:only-of-type {\n        vertical-align: middle;\n    }\n\n    .dataframe tbody tr th {\n        vertical-align: top;\n    }\n\n    .dataframe thead th {\n        text-align: right;\n    }\n</style>\n<table border=\"1\" class=\"dataframe\">\n  <thead>\n    <tr style=\"text-align: right;\">\n      <th></th>\n      <th>Unnamed: 0</th>\n      <th>features</th>\n      <th>importance</th>\n      <th>select_tree</th>\n      <th>rank_rfecv</th>\n      <th>selected_rfecv</th>\n      <th>corr</th>\n    </tr>\n  </thead>\n  <tbody>\n    <tr>\n      <th>0</th>\n      <td>47</td>\n      <td>Inventory Turnover Rate (times)</td>\n      <td>0.001875</td>\n      <td>True</td>\n      <td>1</td>\n      <td>True</td>\n      <td>0.012556</td>\n    </tr>\n    <tr>\n      <th>1</th>\n      <td>71</td>\n      <td>Quick Asset Turnover Rate</td>\n      <td>0.000000</td>\n      <td>True</td>\n      <td>1</td>\n      <td>True</td>\n      <td>0.036946</td>\n    </tr>\n    <tr>\n      <th>2</th>\n      <td>61</td>\n      <td>Inventory/Working Capital</td>\n      <td>0.025644</td>\n      <td>True</td>\n      <td>1</td>\n      <td>True</td>\n      <td>0.055539</td>\n    </tr>\n    <tr>\n      <th>3</th>\n      <td>56</td>\n      <td>Cash/Total Assets</td>\n      <td>0.023681</td>\n      <td>True</td>\n      <td>1</td>\n      <td>True</td>\n      <td>0.150828</td>\n    </tr>\n    <tr>\n      <th>4</th>\n      <td>55</td>\n      <td>Current Assets/Total Assets</td>\n      <td>0.003832</td>\n      <td>True</td>\n      <td>1</td>\n      <td>True</td>\n      <td>0.044232</td>\n    </tr>\n    <tr>\n      <th>...</th>\n      <td>...</td>\n      <td>...</td>\n      <td>...</td>\n      <td>...</td>\n      <td>...</td>\n      <td>...</td>\n      <td>...</td>\n    </tr>\n    <tr>\n      <th>90</th>\n      <td>2</td>\n      <td>ROA(B) before interest and depreciation after...</td>\n      <td>0.000000</td>\n      <td>False</td>\n      <td>71</td>\n      <td>False</td>\n      <td>0.224163</td>\n    </tr>\n    <tr>\n      <th>91</th>\n      <td>48</td>\n      <td>Fixed Assets Turnover Frequency</td>\n      <td>0.000000</td>\n      <td>True</td>\n      <td>72</td>\n      <td>False</td>\n      <td>0.047546</td>\n    </tr>\n    <tr>\n      <th>92</th>\n      <td>32</td>\n      <td>Current Ratio</td>\n      <td>0.000000</td>\n      <td>False</td>\n      <td>73</td>\n      <td>False</td>\n      <td>0.189644</td>\n    </tr>\n    <tr>\n      <th>93</th>\n      <td>1</td>\n      <td>ROA(A) before interest and % after tax</td>\n      <td>0.000000</td>\n      <td>False</td>\n      <td>74</td>\n      <td>False</td>\n      <td>0.222410</td>\n    </tr>\n    <tr>\n      <th>94</th>\n      <td>0</td>\n      <td>ROA(C) before interest and depreciation befor...</td>\n      <td>0.008929</td>\n      <td>False</td>\n      <td>75</td>\n      <td>False</td>\n      <td>0.223589</td>\n    </tr>\n  </tbody>\n</table>\n<p>95 rows × 7 columns</p>\n</div>"
     },
     "metadata": {}
    }
   ],
   "execution_count": null
  },
  {
   "cell_type": "code",
   "metadata": {
    "deepnote_to_be_reexecuted": false,
    "source_hash": "e7523456",
    "execution_start": 1621784236425,
    "execution_millis": 10,
    "cell_id": "00008-5ce8d439-e27a-4d70-adeb-d4c203f55f1e",
    "deepnote_cell_type": "code"
   },
   "source": "col = df_feat[df_feat['selected_rfecv']==True]['features'].values\ncol = np.insert(col, 0, 'Bankrupt?')\nprint(col)",
   "outputs": [
    {
     "name": "stdout",
     "text": "['Bankrupt?' ' Inventory Turnover Rate (times)'\n ' Quick Asset Turnover Rate' ' Inventory/Working Capital'\n ' Cash/Total Assets' ' Current Assets/Total Assets'\n ' Allocation rate per person' ' Net profit before tax/Paid-in capital'\n ' Borrowing dependency' ' Net worth/Assets' ' Interest Expense Ratio'\n ' Cash Reinvestment %' ' Net Value Growth Rate'\n ' Net Value Per Share (B)' ' Current Liability to Current Assets'\n ' Interest-bearing debt interest rate'\n \" Net Income to Stockholder's Equity\"\n ' Degree of Financial Leverage (DFL)' ' Total assets to GNP price'\n ' Non-industry income and expenditure/revenue' ' Operating Expense Rate'\n ' Research and development expense rate']\n",
     "output_type": "stream"
    }
   ],
   "execution_count": null
  },
  {
   "cell_type": "code",
   "metadata": {
    "deepnote_to_be_reexecuted": false,
    "source_hash": "c00dd05c",
    "execution_start": 1621784236437,
    "execution_millis": 4,
    "cell_id": "00009-b11f7c5a-7a81-4112-879e-4c982fb8ee51",
    "deepnote_cell_type": "code"
   },
   "source": "df = df_complete.loc[:, col]",
   "outputs": [],
   "execution_count": null
  },
  {
   "cell_type": "code",
   "metadata": {
    "deepnote_to_be_reexecuted": false,
    "source_hash": "f804c160",
    "execution_start": 1621784236450,
    "execution_millis": 163,
    "cell_id": "00010-c5b56a72-5400-4249-b0f3-185ed66e750c",
    "deepnote_cell_type": "code"
   },
   "source": "df",
   "outputs": [
    {
     "output_type": "execute_result",
     "execution_count": 9,
     "data": {
      "application/vnd.deepnote.dataframe.v2+json": {
       "row_count": 6819,
       "column_count": 22,
       "columns": [
        {
         "name": "Bankrupt?",
         "dtype": "int64",
         "stats": {
          "unique_count": 2,
          "nan_count": 0,
          "min": "0",
          "max": "1",
          "histogram": [
           {
            "bin_start": 0,
            "bin_end": 0.1,
            "count": 6599
           },
           {
            "bin_start": 0.1,
            "bin_end": 0.2,
            "count": 0
           },
           {
            "bin_start": 0.2,
            "bin_end": 0.30000000000000004,
            "count": 0
           },
           {
            "bin_start": 0.30000000000000004,
            "bin_end": 0.4,
            "count": 0
           },
           {
            "bin_start": 0.4,
            "bin_end": 0.5,
            "count": 0
           },
           {
            "bin_start": 0.5,
            "bin_end": 0.6000000000000001,
            "count": 0
           },
           {
            "bin_start": 0.6000000000000001,
            "bin_end": 0.7000000000000001,
            "count": 0
           },
           {
            "bin_start": 0.7000000000000001,
            "bin_end": 0.8,
            "count": 0
           },
           {
            "bin_start": 0.8,
            "bin_end": 0.9,
            "count": 0
           },
           {
            "bin_start": 0.9,
            "bin_end": 1,
            "count": 220
           }
          ]
         }
        },
        {
         "name": " Inventory Turnover Rate (times)",
         "dtype": "float64",
         "stats": {
          "unique_count": 2397,
          "nan_count": 0,
          "min": "0.0",
          "max": "9990000000.0",
          "histogram": [
           {
            "bin_start": 0,
            "bin_end": 999000000,
            "count": 4544
           },
           {
            "bin_start": 999000000,
            "bin_end": 1998000000,
            "count": 101
           },
           {
            "bin_start": 1998000000,
            "bin_end": 2997000000,
            "count": 116
           },
           {
            "bin_start": 2997000000,
            "bin_end": 3996000000,
            "count": 209
           },
           {
            "bin_start": 3996000000,
            "bin_end": 4995000000,
            "count": 235
           },
           {
            "bin_start": 4995000000,
            "bin_end": 5994000000,
            "count": 329
           },
           {
            "bin_start": 5994000000,
            "bin_end": 6993000000,
            "count": 279
           },
           {
            "bin_start": 6993000000,
            "bin_end": 7992000000,
            "count": 325
           },
           {
            "bin_start": 7992000000,
            "bin_end": 8991000000,
            "count": 374
           },
           {
            "bin_start": 8991000000,
            "bin_end": 9990000000,
            "count": 307
           }
          ]
         }
        },
        {
         "name": " Quick Asset Turnover Rate",
         "dtype": "float64",
         "stats": {
          "unique_count": 5377,
          "nan_count": 0,
          "min": "0.0",
          "max": "10000000000.0",
          "histogram": [
           {
            "bin_start": 0,
            "bin_end": 1000000000,
            "count": 4663
           },
           {
            "bin_start": 1000000000,
            "bin_end": 2000000000,
            "count": 49
           },
           {
            "bin_start": 2000000000,
            "bin_end": 3000000000,
            "count": 104
           },
           {
            "bin_start": 3000000000,
            "bin_end": 4000000000,
            "count": 140
           },
           {
            "bin_start": 4000000000,
            "bin_end": 5000000000,
            "count": 173
           },
           {
            "bin_start": 5000000000,
            "bin_end": 6000000000,
            "count": 266
           },
           {
            "bin_start": 6000000000,
            "bin_end": 7000000000,
            "count": 330
           },
           {
            "bin_start": 7000000000,
            "bin_end": 8000000000,
            "count": 325
           },
           {
            "bin_start": 8000000000,
            "bin_end": 9000000000,
            "count": 359
           },
           {
            "bin_start": 9000000000,
            "bin_end": 10000000000,
            "count": 410
           }
          ]
         }
        },
        {
         "name": " Inventory/Working Capital",
         "dtype": "float64",
         "stats": {
          "unique_count": 6593,
          "nan_count": 0,
          "min": "0.0",
          "max": "1.0",
          "histogram": [
           {
            "bin_start": 0,
            "bin_end": 0.1,
            "count": 2
           },
           {
            "bin_start": 0.1,
            "bin_end": 0.2,
            "count": 1
           },
           {
            "bin_start": 0.2,
            "bin_end": 0.30000000000000004,
            "count": 6805
           },
           {
            "bin_start": 0.30000000000000004,
            "bin_end": 0.4,
            "count": 9
           },
           {
            "bin_start": 0.4,
            "bin_end": 0.5,
            "count": 1
           },
           {
            "bin_start": 0.5,
            "bin_end": 0.6000000000000001,
            "count": 0
           },
           {
            "bin_start": 0.6000000000000001,
            "bin_end": 0.7000000000000001,
            "count": 0
           },
           {
            "bin_start": 0.7000000000000001,
            "bin_end": 0.8,
            "count": 0
           },
           {
            "bin_start": 0.8,
            "bin_end": 0.9,
            "count": 0
           },
           {
            "bin_start": 0.9,
            "bin_end": 1,
            "count": 1
           }
          ]
         }
        },
        {
         "name": " Cash/Total Assets",
         "dtype": "float64",
         "stats": {
          "unique_count": 6819,
          "nan_count": 0,
          "min": "0.0",
          "max": "1.0",
          "histogram": [
           {
            "bin_start": 0,
            "bin_end": 0.1,
            "count": 4092
           },
           {
            "bin_start": 0.1,
            "bin_end": 0.2,
            "count": 1440
           },
           {
            "bin_start": 0.2,
            "bin_end": 0.30000000000000004,
            "count": 607
           },
           {
            "bin_start": 0.30000000000000004,
            "bin_end": 0.4,
            "count": 303
           },
           {
            "bin_start": 0.4,
            "bin_end": 0.5,
            "count": 170
           },
           {
            "bin_start": 0.5,
            "bin_end": 0.6000000000000001,
            "count": 88
           },
           {
            "bin_start": 0.6000000000000001,
            "bin_end": 0.7000000000000001,
            "count": 60
           },
           {
            "bin_start": 0.7000000000000001,
            "bin_end": 0.8,
            "count": 37
           },
           {
            "bin_start": 0.8,
            "bin_end": 0.9,
            "count": 18
           },
           {
            "bin_start": 0.9,
            "bin_end": 1,
            "count": 4
           }
          ]
         }
        },
        {
         "name": " Current Assets/Total Assets",
         "dtype": "float64",
         "stats": {
          "unique_count": 6819,
          "nan_count": 0,
          "min": "0.0",
          "max": "1.0",
          "histogram": [
           {
            "bin_start": 0,
            "bin_end": 0.1,
            "count": 94
           },
           {
            "bin_start": 0.1,
            "bin_end": 0.2,
            "count": 352
           },
           {
            "bin_start": 0.2,
            "bin_end": 0.30000000000000004,
            "count": 729
           },
           {
            "bin_start": 0.30000000000000004,
            "bin_end": 0.4,
            "count": 1019
           },
           {
            "bin_start": 0.4,
            "bin_end": 0.5,
            "count": 1047
           },
           {
            "bin_start": 0.5,
            "bin_end": 0.6000000000000001,
            "count": 1066
           },
           {
            "bin_start": 0.6000000000000001,
            "bin_end": 0.7000000000000001,
            "count": 898
           },
           {
            "bin_start": 0.7000000000000001,
            "bin_end": 0.8,
            "count": 729
           },
           {
            "bin_start": 0.8,
            "bin_end": 0.9,
            "count": 590
           },
           {
            "bin_start": 0.9,
            "bin_end": 1,
            "count": 295
           }
          ]
         }
        },
        {
         "name": " Allocation rate per person",
         "dtype": "float64",
         "stats": {
          "unique_count": 6768,
          "nan_count": 0,
          "min": "0.0",
          "max": "9570000000.0",
          "histogram": [
           {
            "bin_start": 0,
            "bin_end": 957000000,
            "count": 6808
           },
           {
            "bin_start": 957000000,
            "bin_end": 1914000000,
            "count": 0
           },
           {
            "bin_start": 1914000000,
            "bin_end": 2871000000,
            "count": 1
           },
           {
            "bin_start": 2871000000,
            "bin_end": 3828000000,
            "count": 1
           },
           {
            "bin_start": 3828000000,
            "bin_end": 4785000000,
            "count": 0
           },
           {
            "bin_start": 4785000000,
            "bin_end": 5742000000,
            "count": 1
           },
           {
            "bin_start": 5742000000,
            "bin_end": 6699000000,
            "count": 1
           },
           {
            "bin_start": 6699000000,
            "bin_end": 7656000000,
            "count": 0
           },
           {
            "bin_start": 7656000000,
            "bin_end": 8613000000,
            "count": 5
           },
           {
            "bin_start": 8613000000,
            "bin_end": 9570000000,
            "count": 2
           }
          ]
         }
        },
        {
         "name": " Net profit before tax/Paid-in capital",
         "dtype": "float64",
         "stats": {
          "unique_count": 4785,
          "nan_count": 0,
          "min": "0.0",
          "max": "1.0",
          "histogram": [
           {
            "bin_start": 0,
            "bin_end": 0.1,
            "count": 23
           },
           {
            "bin_start": 0.1,
            "bin_end": 0.2,
            "count": 5644
           },
           {
            "bin_start": 0.2,
            "bin_end": 0.30000000000000004,
            "count": 1117
           },
           {
            "bin_start": 0.30000000000000004,
            "bin_end": 0.4,
            "count": 23
           },
           {
            "bin_start": 0.4,
            "bin_end": 0.5,
            "count": 7
           },
           {
            "bin_start": 0.5,
            "bin_end": 0.6000000000000001,
            "count": 1
           },
           {
            "bin_start": 0.6000000000000001,
            "bin_end": 0.7000000000000001,
            "count": 2
           },
           {
            "bin_start": 0.7000000000000001,
            "bin_end": 0.8,
            "count": 1
           },
           {
            "bin_start": 0.8,
            "bin_end": 0.9,
            "count": 0
           },
           {
            "bin_start": 0.9,
            "bin_end": 1,
            "count": 1
           }
          ]
         }
        },
        {
         "name": " Borrowing dependency",
         "dtype": "float64",
         "stats": {
          "unique_count": 4338,
          "nan_count": 0,
          "min": "0.0",
          "max": "1.0",
          "histogram": [
           {
            "bin_start": 0,
            "bin_end": 0.1,
            "count": 1
           },
           {
            "bin_start": 0.1,
            "bin_end": 0.2,
            "count": 1
           },
           {
            "bin_start": 0.2,
            "bin_end": 0.30000000000000004,
            "count": 4
           },
           {
            "bin_start": 0.30000000000000004,
            "bin_end": 0.4,
            "count": 6743
           },
           {
            "bin_start": 0.4,
            "bin_end": 0.5,
            "count": 61
           },
           {
            "bin_start": 0.5,
            "bin_end": 0.6000000000000001,
            "count": 3
           },
           {
            "bin_start": 0.6000000000000001,
            "bin_end": 0.7000000000000001,
            "count": 2
           },
           {
            "bin_start": 0.7000000000000001,
            "bin_end": 0.8,
            "count": 1
           },
           {
            "bin_start": 0.8,
            "bin_end": 0.9,
            "count": 1
           },
           {
            "bin_start": 0.9,
            "bin_end": 1,
            "count": 2
           }
          ]
         }
        },
        {
         "name": " Net worth/Assets",
         "dtype": "float64",
         "stats": {
          "unique_count": 4208,
          "nan_count": 0,
          "min": "0.0",
          "max": "1.0",
          "histogram": [
           {
            "bin_start": 0,
            "bin_end": 0.1,
            "count": 1
           },
           {
            "bin_start": 0.1,
            "bin_end": 0.2,
            "count": 0
           },
           {
            "bin_start": 0.2,
            "bin_end": 0.30000000000000004,
            "count": 0
           },
           {
            "bin_start": 0.30000000000000004,
            "bin_end": 0.4,
            "count": 0
           },
           {
            "bin_start": 0.4,
            "bin_end": 0.5,
            "count": 1
           },
           {
            "bin_start": 0.5,
            "bin_end": 0.6000000000000001,
            "count": 0
           },
           {
            "bin_start": 0.6000000000000001,
            "bin_end": 0.7000000000000001,
            "count": 6
           },
           {
            "bin_start": 0.7000000000000001,
            "bin_end": 0.8,
            "count": 373
           },
           {
            "bin_start": 0.8,
            "bin_end": 0.9,
            "count": 3603
           },
           {
            "bin_start": 0.9,
            "bin_end": 1,
            "count": 2835
           }
          ]
         }
        },
        {
         "name": " Interest Expense Ratio",
         "dtype": "float64",
         "stats": {
          "unique_count": 3794,
          "nan_count": 0,
          "min": "0.0",
          "max": "1.0",
          "histogram": [
           {
            "bin_start": 0,
            "bin_end": 0.1,
            "count": 1
           },
           {
            "bin_start": 0.1,
            "bin_end": 0.2,
            "count": 0
           },
           {
            "bin_start": 0.2,
            "bin_end": 0.30000000000000004,
            "count": 0
           },
           {
            "bin_start": 0.30000000000000004,
            "bin_end": 0.4,
            "count": 0
           },
           {
            "bin_start": 0.4,
            "bin_end": 0.5,
            "count": 1
           },
           {
            "bin_start": 0.5,
            "bin_end": 0.6000000000000001,
            "count": 11
           },
           {
            "bin_start": 0.6000000000000001,
            "bin_end": 0.7000000000000001,
            "count": 6798
           },
           {
            "bin_start": 0.7000000000000001,
            "bin_end": 0.8,
            "count": 4
           },
           {
            "bin_start": 0.8,
            "bin_end": 0.9,
            "count": 3
           },
           {
            "bin_start": 0.9,
            "bin_end": 1,
            "count": 1
           }
          ]
         }
        },
        {
         "name": " Cash Reinvestment %",
         "dtype": "float64",
         "stats": {
          "unique_count": 3599,
          "nan_count": 0,
          "min": "0.0",
          "max": "1.0",
          "histogram": [
           {
            "bin_start": 0,
            "bin_end": 0.1,
            "count": 2
           },
           {
            "bin_start": 0.1,
            "bin_end": 0.2,
            "count": 3
           },
           {
            "bin_start": 0.2,
            "bin_end": 0.30000000000000004,
            "count": 30
           },
           {
            "bin_start": 0.30000000000000004,
            "bin_end": 0.4,
            "count": 6426
           },
           {
            "bin_start": 0.4,
            "bin_end": 0.5,
            "count": 353
           },
           {
            "bin_start": 0.5,
            "bin_end": 0.6000000000000001,
            "count": 2
           },
           {
            "bin_start": 0.6000000000000001,
            "bin_end": 0.7000000000000001,
            "count": 1
           },
           {
            "bin_start": 0.7000000000000001,
            "bin_end": 0.8,
            "count": 1
           },
           {
            "bin_start": 0.8,
            "bin_end": 0.9,
            "count": 0
           },
           {
            "bin_start": 0.9,
            "bin_end": 1,
            "count": 1
           }
          ]
         }
        },
        {
         "name": " Net Value Growth Rate",
         "dtype": "float64",
         "stats": {
          "unique_count": 4502,
          "nan_count": 0,
          "min": "0.0",
          "max": "9330000000.0",
          "histogram": [
           {
            "bin_start": 0,
            "bin_end": 933000000,
            "count": 6817
           },
           {
            "bin_start": 933000000,
            "bin_end": 1866000000,
            "count": 1
           },
           {
            "bin_start": 1866000000,
            "bin_end": 2799000000,
            "count": 0
           },
           {
            "bin_start": 2799000000,
            "bin_end": 3732000000,
            "count": 0
           },
           {
            "bin_start": 3732000000,
            "bin_end": 4665000000,
            "count": 0
           },
           {
            "bin_start": 4665000000,
            "bin_end": 5598000000,
            "count": 0
           },
           {
            "bin_start": 5598000000,
            "bin_end": 6531000000,
            "count": 0
           },
           {
            "bin_start": 6531000000,
            "bin_end": 7464000000,
            "count": 0
           },
           {
            "bin_start": 7464000000,
            "bin_end": 8397000000,
            "count": 0
           },
           {
            "bin_start": 8397000000,
            "bin_end": 9330000000,
            "count": 1
           }
          ]
         }
        },
        {
         "name": " Net Value Per Share (B)",
         "dtype": "float64",
         "stats": {
          "unique_count": 2278,
          "nan_count": 0,
          "min": "0.0",
          "max": "1.0",
          "histogram": [
           {
            "bin_start": 0,
            "bin_end": 0.1,
            "count": 2
           },
           {
            "bin_start": 0.1,
            "bin_end": 0.2,
            "count": 5135
           },
           {
            "bin_start": 0.2,
            "bin_end": 0.30000000000000004,
            "count": 1594
           },
           {
            "bin_start": 0.30000000000000004,
            "bin_end": 0.4,
            "count": 74
           },
           {
            "bin_start": 0.4,
            "bin_end": 0.5,
            "count": 9
           },
           {
            "bin_start": 0.5,
            "bin_end": 0.6000000000000001,
            "count": 4
           },
           {
            "bin_start": 0.6000000000000001,
            "bin_end": 0.7000000000000001,
            "count": 0
           },
           {
            "bin_start": 0.7000000000000001,
            "bin_end": 0.8,
            "count": 0
           },
           {
            "bin_start": 0.8,
            "bin_end": 0.9,
            "count": 0
           },
           {
            "bin_start": 0.9,
            "bin_end": 1,
            "count": 1
           }
          ]
         }
        },
        {
         "name": " Current Liability to Current Assets",
         "dtype": "float64"
        },
        {
         "name": " Interest-bearing debt interest rate",
         "dtype": "float64"
        },
        {
         "name": " Net Income to Stockholder's Equity",
         "dtype": "float64"
        },
        {
         "name": " Degree of Financial Leverage (DFL)",
         "dtype": "float64"
        },
        {
         "name": " Total assets to GNP price",
         "dtype": "float64"
        },
        {
         "name": " Non-industry income and expenditure/revenue",
         "dtype": "float64"
        },
        {
         "name": " Operating Expense Rate",
         "dtype": "float64"
        },
        {
         "name": " Research and development expense rate",
         "dtype": "float64"
        },
        {
         "name": "_deepnote_index_column",
         "dtype": "int64"
        }
       ],
       "rows_top": [
        {
         "Bankrupt?": 1,
         " Inventory Turnover Rate (times)": 0.0001820925974295,
         " Quick Asset Turnover Rate": 6550000000,
         " Inventory/Working Capital": 0.276920158240506,
         " Cash/Total Assets": 0.004094405952288,
         " Current Assets/Total Assets": 0.190642959052727,
         " Allocation rate per person": 0.0371353015800987,
         " Net profit before tax/Paid-in capital": 0.137757333534424,
         " Borrowing dependency": 0.390284354359258,
         " Net worth/Assets": 0.792423738549445,
         " Interest Expense Ratio": 0.629951302036958,
         " Cash Reinvestment %": 0.363725271040572,
         " Net Value Growth Rate": 0.000326977269203,
         " Net Value Per Share (B)": 0.147949938898487,
         " Current Liability to Current Assets": 0.11825047660899,
         " Interest-bearing debt interest rate": 0.0007250725072507,
         " Net Income to Stockholder's Equity": 0.82789021403512,
         " Degree of Financial Leverage (DFL)": 0.0266006307607414,
         " Total assets to GNP price": 0.0092194400211029,
         " Non-industry income and expenditure/revenue": 0.302646433889668,
         " Operating Expense Rate": 0.0001256968688759,
         " Research and development expense rate": 0,
         "_deepnote_index_column": 0
        },
        {
         "Bankrupt?": 1,
         " Inventory Turnover Rate (times)": 9360000000,
         " Quick Asset Turnover Rate": 7700000000,
         " Inventory/Working Capital": 0.28964157642601,
         " Cash/Total Assets": 0.0149477269714099,
         " Current Assets/Total Assets": 0.182419054120616,
         " Allocation rate per person": 0.0123349721287826,
         " Net profit before tax/Paid-in capital": 0.168961616770983,
         " Borrowing dependency": 0.376760019951553,
         " Net worth/Assets": 0.828823653898479,
         " Interest Expense Ratio": 0.635172463390912,
         " Cash Reinvestment %": 0.376709139003763,
         " Net Value Growth Rate": 0.0004430401005442,
         " Net Value Per Share (B)": 0.182251064009102,
         " Current Liability to Current Assets": 0.0477752815903248,
         " Interest-bearing debt interest rate": 0.0006470647064706,
         " Net Income to Stockholder's Equity": 0.839969268005573,
         " Degree of Financial Leverage (DFL)": 0.264576819837375,
         " Total assets to GNP price": 0.0083233017948103,
         " Non-industry income and expenditure/revenue": 0.303556430290771,
         " Operating Expense Rate": 0.0002897850537287,
         " Research and development expense rate": 0,
         "_deepnote_index_column": 1
        },
        {
         "Bankrupt?": 1,
         " Inventory Turnover Rate (times)": 65000000,
         " Quick Asset Turnover Rate": 0.001022676471902,
         " Inventory/Working Capital": 0.277455528130626,
         " Cash/Total Assets": 0.0009909444511248,
         " Current Assets/Total Assets": 0.602805701668708,
         " Allocation rate per person": 0.141016311871331,
         " Net profit before tax/Paid-in capital": 0.148035593092527,
         " Borrowing dependency": 0.379092920106557,
         " Net worth/Assets": 0.792484203525108,
         " Interest Expense Ratio": 0.629631443404885,
         " Cash Reinvestment %": 0.368913229760441,
         " Net Value Growth Rate": 0.0003964253147034,
         " Net Value Per Share (B)": 0.177910749652353,
         " Current Liability to Current Assets": 0.0253464891288078,
         " Interest-bearing debt interest rate": 0.0007900790079007,
         " Net Income to Stockholder's Equity": 0.836774308550174,
         " Degree of Financial Leverage (DFL)": 0.0265547199199004,
         " Total assets to GNP price": 0.0400028528527523,
         " Non-industry income and expenditure/revenue": 0.302035177342951,
         " Operating Expense Rate": 0.0002361297205563,
         " Research and development expense rate": 25500000,
         "_deepnote_index_column": 2
        },
        {
         "Bankrupt?": 1,
         " Inventory Turnover Rate (times)": 7130000000,
         " Quick Asset Turnover Rate": 6050000000,
         " Inventory/Working Capital": 0.276580304232685,
         " Cash/Total Assets": 0.0188506248270314,
         " Current Assets/Total Assets": 0.225814868882578,
         " Allocation rate per person": 0.0213199897441037,
         " Net profit before tax/Paid-in capital": 0.147560515798205,
         " Borrowing dependency": 0.379742687599394,
         " Net worth/Assets": 0.848535235964567,
         " Interest Expense Ratio": 0.63022835303626,
         " Cash Reinvestment %": 0.384076599232517,
         " Net Value Growth Rate": 0.0003824259063219,
         " Net Value Per Share (B)": 0.154186507100417,
         " Current Liability to Current Assets": 0.0672496172630687,
         " Interest-bearing debt interest rate": 0.0004490449044904,
         " Net Income to Stockholder's Equity": 0.834697106753341,
         " Degree of Financial Leverage (DFL)": 0.0266966344214761,
         " Total assets to GNP price": 0.0032524752911273,
         " Non-industry income and expenditure/revenue": 0.303349536022685,
         " Operating Expense Rate": 0.0001078888488144,
         " Research and development expense rate": 0,
         "_deepnote_index_column": 3
        },
        {
         "Bankrupt?": 1,
         " Inventory Turnover Rate (times)": 0.000163367440506,
         " Quick Asset Turnover Rate": 5050000000,
         " Inventory/Working Capital": 0.287912652687691,
         " Cash/Total Assets": 0.0141609737513009,
         " Current Assets/Total Assets": 0.358380159768393,
         " Allocation rate per person": 0.0239882116504549,
         " Net profit before tax/Paid-in capital": 0.167460975793681,
         " Borrowing dependency": 0.375025442703033,
         " Net worth/Assets": 0.893490945369894,
         " Interest Expense Ratio": 0.636054985548143,
         " Cash Reinvestment %": 0.379689653887709,
         " Net Value Growth Rate": 0.0004389475818729,
         " Net Value Per Share (B)": 0.167502422991024,
         " Current Liability to Current Assets": 0.0477253717624306,
         " Interest-bearing debt interest rate": 0.0006860686068606,
         " Net Income to Stockholder's Equity": 0.839972745788203,
         " Degree of Financial Leverage (DFL)": 0.0247518480523254,
         " Total assets to GNP price": 0.0038775630938002,
         " Non-industry income and expenditure/revenue": 0.303474977757658,
         " Operating Expense Rate": 7890000000,
         " Research and development expense rate": 0,
         "_deepnote_index_column": 4
        },
        {
         "Bankrupt?": 1,
         " Inventory Turnover Rate (times)": 650000000,
         " Quick Asset Turnover Rate": 2810000000,
         " Inventory/Working Capital": 0.276678474304155,
         " Cash/Total Assets": 0.0026452256427289,
         " Current Assets/Total Assets": 0.214535988082286,
         " Allocation rate per person": 0.0328287701112501,
         " Net profit before tax/Paid-in capital": 0.137825201719327,
         " Borrowing dependency": 0.38144818747302,
         " Net worth/Assets": 0.819572512622064,
         " Interest Expense Ratio": 0.630183833098177,
         " Cash Reinvestment %": 0.388025781453746,
         " Net Value Growth Rate": 0.0003517819250519,
         " Net Value Per Share (B)": 0.15557709325355,
         " Current Liability to Current Assets": 0.099521933114496,
         " Interest-bearing debt interest rate": 0.0007160716071607,
         " Net Income to Stockholder's Equity": 0.829938957445841,
         " Degree of Financial Leverage (DFL)": 0.026675365750547,
         " Total assets to GNP price": 0.0052778749010734,
         " Non-industry income and expenditure/revenue": 0.303115813175443,
         " Operating Expense Rate": 0.0001571499952184,
         " Research and development expense rate": 0,
         "_deepnote_index_column": 5
        },
        {
         "Bankrupt?": 0,
         " Inventory Turnover Rate (times)": 0.0001620299292972,
         " Quick Asset Turnover Rate": 9560000000,
         " Inventory/Working Capital": 0.276643291966357,
         " Cash/Total Assets": 0.0229885979786101,
         " Current Assets/Total Assets": 0.295221006636909,
         " Allocation rate per person": 0.0097031414638638,
         " Net profit before tax/Paid-in capital": 0.127939069451776,
         " Borrowing dependency": 0.384998982291879,
         " Net worth/Assets": 0.783898176980984,
         " Interest Expense Ratio": 0.629987945370611,
         " Cash Reinvestment %": 0.375302708542901,
         " Net Value Growth Rate": 0.0003517569706697,
         " Net Value Per Share (B)": 0.158821794277527,
         " Current Liability to Current Assets": 0.060765124792415,
         " Interest-bearing debt interest rate": 0.0008050805080508,
         " Net Income to Stockholder's Equity": 0.829979763773696,
         " Degree of Financial Leverage (DFL)": 0.0266222980418273,
         " Total assets to GNP price": 0.0183718717412392,
         " Non-industry income and expenditure/revenue": 0.302814414633032,
         " Operating Expense Rate": 0.0003984833580005,
         " Research and development expense rate": 730000000,
         "_deepnote_index_column": 6
        },
        {
         "Bankrupt?": 0,
         " Inventory Turnover Rate (times)": 0.0001990980970845,
         " Quick Asset Turnover Rate": 6180000000,
         " Inventory/Working Capital": 0.277275204970332,
         " Cash/Total Assets": 0.0146159133960059,
         " Current Assets/Total Assets": 0.447942034514932,
         " Allocation rate per person": 0.0070580410645001,
         " Net profit before tax/Paid-in capital": 0.179518889978131,
         " Borrowing dependency": 0.374219104729994,
         " Net worth/Assets": 0.891797926051335,
         " Interest Expense Ratio": 0.631379022205175,
         " Cash Reinvestment %": 0.384234939085727,
         " Net Value Growth Rate": 0.0004510504572116,
         " Net Value Per Share (B)": 0.176983692216931,
         " Current Liability to Current Assets": 0.0302011045942807,
         " Interest-bearing debt interest rate": 0.0006300630063006,
         " Net Income to Stockholder's Equity": 0.841459439726482,
         " Degree of Financial Leverage (DFL)": 0.0270305165537491,
         " Total assets to GNP price": 0.0100045037641927,
         " Non-industry income and expenditure/revenue": 0.303544587044117,
         " Operating Expense Rate": 9000000000,
         " Research and development expense rate": 50900000,
         "_deepnote_index_column": 7
        },
        {
         "Bankrupt?": 0,
         " Inventory Turnover Rate (times)": 0.000304188263492,
         " Quick Asset Turnover Rate": 9840000000,
         " Inventory/Working Capital": 0.277087430376265,
         " Cash/Total Assets": 0.145189217702725,
         " Current Assets/Total Assets": 0.414645601298328,
         " Allocation rate per person": 0.0088146221616528,
         " Net profit before tax/Paid-in capital": 0.172158962370862,
         " Borrowing dependency": 0.370253398138601,
         " Net worth/Assets": 0.941409438582701,
         " Interest Expense Ratio": 0.630914987465925,
         " Cash Reinvestment %": 0.377994486047465,
         " Net Value Growth Rate": 0.0004527224008151,
         " Net Value Per Share (B)": 0.184189456828621,
         " Current Liability to Current Assets": 0.021710461445184,
         " Interest-bearing debt interest rate": 0.0007370737073707,
         " Net Income to Stockholder's Equity": 0.840486633095349,
         " Degree of Financial Leverage (DFL)": 0.0268906304546816,
         " Total assets to GNP price": 0.0008240712069684,
         " Non-industry income and expenditure/revenue": 0.303583500568838,
         " Operating Expense Rate": 0.000168713644609,
         " Research and development expense rate": 0,
         "_deepnote_index_column": 8
        },
        {
         "Bankrupt?": 0,
         " Inventory Turnover Rate (times)": 0.0002059767261585,
         " Quick Asset Turnover Rate": 3600000000,
         " Inventory/Working Capital": 0.277337460862513,
         " Cash/Total Assets": 0.0087727909152724,
         " Current Assets/Total Assets": 0.57718930416151,
         " Allocation rate per person": 0.0057206126777132,
         " Net profit before tax/Paid-in capital": 0.175657944348088,
         " Borrowing dependency": 0.374508760118367,
         " Net worth/Assets": 0.878707258820328,
         " Interest Expense Ratio": 0.6321882576951,
         " Cash Reinvestment %": 0.390084199545471,
         " Net Value Growth Rate": 0.0004449116792048,
         " Net Value Per Share (B)": 0.177447220934642,
         " Current Liability to Current Assets": 0.0254943019553504,
         " Interest-bearing debt interest rate": 0.0006720672067206,
         " Net Income to Stockholder's Equity": 0.840688177069564,
         " Degree of Financial Leverage (DFL)": 0.0272430149466587,
         " Total assets to GNP price": 0.005797642207721,
         " Non-industry income and expenditure/revenue": 0.303482953821731,
         " Operating Expense Rate": 5820000000,
         " Research and development expense rate": 0,
         "_deepnote_index_column": 9
        },
        {
         "Bankrupt?": 0,
         " Inventory Turnover Rate (times)": 0.0001562977384022,
         " Quick Asset Turnover Rate": 2920000000,
         " Inventory/Working Capital": 0.285100705629767,
         " Cash/Total Assets": 0.0020568362370428,
         " Current Assets/Total Assets": 0.101745230207494,
         " Allocation rate per person": 0.010748685957007,
         " Net profit before tax/Paid-in capital": 0.177611039891411,
         " Borrowing dependency": 0.374179962109944,
         " Net worth/Assets": 0.896423496689543,
         " Interest Expense Ratio": 0.631236900864372,
         " Cash Reinvestment %": 0.374278156551544,
         " Net Value Growth Rate": 0.0004485550189975,
         " Net Value Per Share (B)": 0.1829252875985,
         " Current Liability to Current Assets": 0.0471663480130232,
         " Interest-bearing debt interest rate": 0.0005490549054905,
         " Net Income to Stockholder's Equity": 0.841337129150271,
         " Degree of Financial Leverage (DFL)": 0.0269710912232694,
         " Total assets to GNP price": 0.0769722571664823,
         " Non-industry income and expenditure/revenue": 0.303758973978453,
         " Operating Expense Rate": 0.0003181159947357,
         " Research and development expense rate": 1900000000,
         "_deepnote_index_column": 10
        },
        {
         "Bankrupt?": 0,
         " Inventory Turnover Rate (times)": 655000000,
         " Quick Asset Turnover Rate": 8360000000,
         " Inventory/Working Capital": 0.277598529321833,
         " Cash/Total Assets": 0.0205422288308614,
         " Current Assets/Total Assets": 0.218942636086665,
         " Allocation rate per person": 0.0128583726771745,
         " Net profit before tax/Paid-in capital": 0.171525525978433,
         " Borrowing dependency": 0.373113046123427,
         " Net worth/Assets": 0.905614172990295,
         " Interest Expense Ratio": 0.632095793208312,
         " Cash Reinvestment %": 0.379941134831042,
         " Net Value Growth Rate": 0.0004550681127365,
         " Net Value Per Share (B)": 0.173865408115966,
         " Current Liability to Current Assets": 0.0337116016801524,
         " Interest-bearing debt interest rate": 0.0007030703070307,
         " Net Income to Stockholder's Equity": 0.840649731622796,
         " Degree of Financial Leverage (DFL)": 0.0273908578413325,
         " Total assets to GNP price": 0.0073178811657058,
         " Non-industry income and expenditure/revenue": 0.303604528374123,
         " Operating Expense Rate": 0.000476653627881,
         " Research and development expense rate": 1210000000,
         "_deepnote_index_column": 11
        },
        {
         "Bankrupt?": 0,
         " Inventory Turnover Rate (times)": 0.0001005044136914,
         " Quick Asset Turnover Rate": 6910000000,
         " Inventory/Working Capital": 0.278908415161181,
         " Cash/Total Assets": 0.0582180014761003,
         " Current Assets/Total Assets": 0.340940212589294,
         " Allocation rate per person": 0.0210172990591507,
         " Net profit before tax/Paid-in capital": 0.173290098785914,
         " Borrowing dependency": 0.377306898271686,
         " Net worth/Assets": 0.855337545726638,
         " Interest Expense Ratio": 0.632377638662484,
         " Cash Reinvestment %": 0.3815711039082,
         " Net Value Growth Rate": 0.0004429652373977,
         " Net Value Per Share (B)": 0.169398676836206,
         " Current Liability to Current Assets": 0.0435139896178212,
         " Interest-bearing debt interest rate": 0.0005760576057605,
         " Net Income to Stockholder's Equity": 0.840702415877267,
         " Degree of Financial Leverage (DFL)": 0.0274797246787734,
         " Total assets to GNP price": 0.008232490111815,
         " Non-industry income and expenditure/revenue": 0.303434855738379,
         " Operating Expense Rate": 0.0001571499952184,
         " Research and development expense rate": 0,
         "_deepnote_index_column": 12
        },
        {
         "Bankrupt?": 0,
         " Inventory Turnover Rate (times)": 0.000106618750646,
         " Quick Asset Turnover Rate": 6330000000,
         " Inventory/Working Capital": 0.277413791453685,
         " Cash/Total Assets": 0.0741698566235507,
         " Current Assets/Total Assets": 0.371121251102901,
         " Allocation rate per person": 0.0181918509052849,
         " Net profit before tax/Paid-in capital": 0.167860643993666,
         " Borrowing dependency": 0.373151070382904,
         " Net worth/Assets": 0.893430480394232,
         " Interest Expense Ratio": 0.640422733935152,
         " Cash Reinvestment %": 0.382670168771655,
         " Net Value Growth Rate": 0.0004420918340228,
         " Net Value Per Share (B)": 0.171547764527411,
         " Current Liability to Current Assets": 0.0289016723593667,
         " Interest-bearing debt interest rate": 0.0007090709070907,
         " Net Income to Stockholder's Equity": 0.839910496767797,
         " Degree of Financial Leverage (DFL)": 0.0249997401762429,
         " Total assets to GNP price": 0.0052622229684534,
         " Non-industry income and expenditure/revenue": 0.303491654982538,
         " Operating Expense Rate": 0.0001137863100036,
         " Research and development expense rate": 917000000,
         "_deepnote_index_column": 13
        },
        {
         "Bankrupt?": 0,
         " Inventory Turnover Rate (times)": 0.000123624250301,
         " Quick Asset Turnover Rate": 8160000000,
         " Inventory/Working Capital": 0.277183957759265,
         " Cash/Total Assets": 0.021194016958275,
         " Current Assets/Total Assets": 0.274142529035476,
         " Allocation rate per person": 0.0384491560825874,
         " Net profit before tax/Paid-in capital": 0.177920217178192,
         " Borrowing dependency": 0.373692356900173,
         " Net worth/Assets": 0.910360673579829,
         " Interest Expense Ratio": 0.63167079903015,
         " Cash Reinvestment %": 0.383024104914124,
         " Net Value Growth Rate": 0.0004737339905785,
         " Net Value Per Share (B)": 0.180565505035607,
         " Current Liability to Current Assets": 0.0155531326728028,
         " Interest-bearing debt interest rate": 0.0009100910091009,
         " Net Income to Stockholder's Equity": 0.841623679912454,
         " Degree of Financial Leverage (DFL)": 0.0268962866110795,
         " Total assets to GNP price": 0.0039539229308491,
         " Non-industry income and expenditure/revenue": 0.303566339946135,
         " Operating Expense Rate": 9370000000,
         " Research and development expense rate": 0,
         "_deepnote_index_column": 14
        },
        {
         "Bankrupt?": 0,
         " Inventory Turnover Rate (times)": 8940000000,
         " Quick Asset Turnover Rate": 6060000000,
         " Inventory/Working Capital": 0.277345380371646,
         " Cash/Total Assets": 0.0037668242316719,
         " Current Assets/Total Assets": 0.320023003291211,
         " Allocation rate per person": 0.0134610397832168,
         " Net profit before tax/Paid-in capital": 0.179828067264912,
         " Borrowing dependency": 0.373544733304554,
         " Net worth/Assets": 0.900928137376425,
         " Interest Expense Ratio": 0.631097176751003,
         " Cash Reinvestment %": 0.387662531202265,
         " Net Value Growth Rate": 0.000469242201793,
         " Net Value Per Share (B)": 0.174328936833677,
         " Current Liability to Current Assets": 0.0258128487067077,
         " Interest-bearing debt interest rate": 0.0004790479047904,
         " Net Income to Stockholder's Equity": 0.841399049949549,
         " Degree of Financial Leverage (DFL)": 0.0268972408952144,
         " Total assets to GNP price": 0.0065903461441656,
         " Non-industry income and expenditure/revenue": 0.303461926016447,
         " Operating Expense Rate": 0.0003237821829371,
         " Research and development expense rate": 79800000,
         "_deepnote_index_column": 15
        },
        {
         "Bankrupt?": 0,
         " Inventory Turnover Rate (times)": 6520000000,
         " Quick Asset Turnover Rate": 0.0002135963267975,
         " Inventory/Working Capital": 0.279968047464102,
         " Cash/Total Assets": 0.0528667007517992,
         " Current Assets/Total Assets": 0.126506170778473,
         " Allocation rate per person": 0.0339904750449324,
         " Net profit before tax/Paid-in capital": 0.175167785234899,
         " Borrowing dependency": 0.372267565530338,
         " Net worth/Assets": 0.938718747165704,
         " Interest Expense Ratio": 0.631239298091807,
         " Cash Reinvestment %": 0.375759099884505,
         " Net Value Growth Rate": 0.0004585617262363,
         " Net Value Per Share (B)": 0.183852345033922,
         " Current Liability to Current Assets": 0.0462912301964762,
         " Interest-bearing debt interest rate": 0.0005230523052305,
         " Net Income to Stockholder's Equity": 0.840888957443775,
         " Degree of Financial Leverage (DFL)": 0.0270027988958809,
         " Total assets to GNP price": 0.0136106545588463,
         " Non-industry income and expenditure/revenue": 0.304319473753794,
         " Operating Expense Rate": 0.000179814748024,
         " Research and development expense rate": 849000000,
         "_deepnote_index_column": 16
        },
        {
         "Bankrupt?": 0,
         " Inventory Turnover Rate (times)": 6900000000,
         " Quick Asset Turnover Rate": 7550000000,
         " Inventory/Working Capital": 0.277289061138294,
         " Cash/Total Assets": 0.013907170944156,
         " Current Assets/Total Assets": 0.380520031394388,
         " Allocation rate per person": 0.0071214744162787,
         " Net profit before tax/Paid-in capital": 0.188288967649499,
         " Borrowing dependency": 0.372724975004641,
         " Net worth/Assets": 0.921274601686973,
         " Interest Expense Ratio": 0.631059506034164,
         " Cash Reinvestment %": 0.381198539547707,
         " Net Value Growth Rate": 0.0004717625943893,
         " Net Value Per Share (B)": 0.189541106569466,
         " Current Liability to Current Assets": 0.0181566375652698,
         " Interest-bearing debt interest rate": 0.0006370637063706,
         " Net Income to Stockholder's Equity": 0.841983321753659,
         " Degree of Financial Leverage (DFL)": 0.0269078077255092,
         " Total assets to GNP price": 0.0027463052778231,
         " Non-industry income and expenditure/revenue": 0.303558605580973,
         " Operating Expense Rate": 0.000248734098392,
         " Research and development expense rate": 0,
         "_deepnote_index_column": 17
        },
        {
         "Bankrupt?": 0,
         " Inventory Turnover Rate (times)": 0.0002770558932559,
         " Quick Asset Turnover Rate": 319000000,
         " Inventory/Working Capital": 0.278048745688201,
         " Cash/Total Assets": 0.0128012850229898,
         " Current Assets/Total Assets": 0.338067680673366,
         " Allocation rate per person": 0.066652217400271,
         " Net profit before tax/Paid-in capital": 0.175062212502828,
         " Borrowing dependency": 0.378709322430063,
         " Net worth/Assets": 0.858663119388094,
         " Interest Expense Ratio": 0.632451952712977,
         " Cash Reinvestment %": 0.386908088372266,
         " Net Value Growth Rate": 0.0004610322100683,
         " Net Value Per Share (B)": 0.175129577346087,
         " Current Liability to Current Assets": 0.0400836626660674,
         " Interest-bearing debt interest rate": 0.0006190619061906,
         " Net Income to Stockholder's Equity": 0.840954675675957,
         " Degree of Financial Leverage (DFL)": 0.0276370493098807,
         " Total assets to GNP price": 0.0042383947829724,
         " Non-industry income and expenditure/revenue": 0.303522834142098,
         " Operating Expense Rate": 5630000000,
         " Research and development expense rate": 119000000,
         "_deepnote_index_column": 18
        },
        {
         "Bankrupt?": 0,
         " Inventory Turnover Rate (times)": 40300000,
         " Quick Asset Turnover Rate": 8050000000,
         " Inventory/Working Capital": 0.277320828369948,
         " Cash/Total Assets": 0.0935031388966463,
         " Current Assets/Total Assets": 0.386907211402535,
         " Allocation rate per person": 0.0045963545325215,
         " Net profit before tax/Paid-in capital": 0.173531407887791,
         " Borrowing dependency": 0.371230845279288,
         " Net worth/Assets": 0.922514133688061,
         " Interest Expense Ratio": 0.631267722359968,
         " Cash Reinvestment %": 0.378497447934131,
         " Net Value Growth Rate": 0.0004455604931405,
         " Net Value Per Share (B)": 0.176478024524883,
         " Current Liability to Current Assets": 0.0219368610613265,
         " Interest-bearing debt interest rate": 0.0005500550055005,
         " Net Income to Stockholder's Equity": 0.840455976086351,
         " Degree of Financial Leverage (DFL)": 0.02692426375692,
         " Total assets to GNP price": 0.0015213773636788,
         " Non-industry income and expenditure/revenue": 0.303467001693584,
         " Operating Expense Rate": 0.0006113701432817,
         " Research and development expense rate": 0,
         "_deepnote_index_column": 19
        },
        {
         "Bankrupt?": 0,
         " Inventory Turnover Rate (times)": 0.0001419672611649,
         " Quick Asset Turnover Rate": 0.0001189628412977,
         " Inventory/Working Capital": 0.277067799257434,
         " Cash/Total Assets": 0.0319240864779537,
         " Current Assets/Total Assets": 0.176667365155895,
         " Allocation rate per person": 0.0265124770437364,
         " Net profit before tax/Paid-in capital": 0.175205489782068,
         " Borrowing dependency": 0.36963718146295,
         " Net worth/Assets": 0.903649061281253,
         " Interest Expense Ratio": 0.630623553102012,
         " Cash Reinvestment %": 0.379382288290302,
         " Net Value Growth Rate": 0.0004456104019047,
         " Net Value Per Share (B)": 0.189119716826092,
         " Current Liability to Current Assets": 0.0109407284049022,
         " Interest-bearing debt interest rate": 0,
         " Net Income to Stockholder's Equity": 0.840638613018106,
         " Degree of Financial Leverage (DFL)": 0.0267937782838859,
         " Total assets to GNP price": 0.0140393835372133,
         " Non-industry income and expenditure/revenue": 0.303553771602747,
         " Operating Expense Rate": 0.0003630985908652,
         " Research and development expense rate": 1040000000,
         "_deepnote_index_column": 20
        },
        {
         "Bankrupt?": 0,
         " Inventory Turnover Rate (times)": 0.0001561066653724,
         " Quick Asset Turnover Rate": 0.0001112446722149,
         " Inventory/Working Capital": 0.277122025311063,
         " Cash/Total Assets": 0.139413215037929,
         " Current Assets/Total Assets": 0.571438389706849,
         " Allocation rate per person": 0.010574621220708,
         " Net profit before tax/Paid-in capital": 0.18066510821205,
         " Borrowing dependency": 0.371209596428404,
         " Net worth/Assets": 0.899265350545696,
         " Interest Expense Ratio": 0.630982794756236,
         " Cash Reinvestment %": 0.386777690846094,
         " Net Value Growth Rate": 0.0004663974022288,
         " Net Value Per Share (B)": 0.185453626058742,
         " Current Liability to Current Assets": 0.0186129431781689,
         " Interest-bearing debt interest rate": 0.0007750775077507,
         " Net Income to Stockholder's Equity": 0.841311469523341,
         " Degree of Financial Leverage (DFL)": 0.0268899303694454,
         " Total assets to GNP price": 0.0009354776039944,
         " Non-industry income and expenditure/revenue": 0.30353056850726,
         " Operating Expense Rate": 0.0001609659995173,
         " Research and development expense rate": 1190000000,
         "_deepnote_index_column": 21
        }
       ],
       "rows_bottom": [
        {
         "Bankrupt?": 0,
         " Inventory Turnover Rate (times)": 0.0001339421939119,
         " Quick Asset Turnover Rate": 0.0002564823380148,
         " Inventory/Working Capital": 0.277096965880314,
         " Cash/Total Assets": 0.321955987781346,
         " Current Assets/Total Assets": 0.524851651914335,
         " Allocation rate per person": 0.0069672640175015,
         " Net profit before tax/Paid-in capital": 0.19883115903778,
         " Borrowing dependency": 0.369813882433463,
         " Net worth/Assets": 0.918493212806482,
         " Interest Expense Ratio": 0.630617046341831,
         " Cash Reinvestment %": 0.384635445773257,
         " Net Value Growth Rate": 0.0004565903300471,
         " Net Value Per Share (B)": 0.266613290632506,
         " Current Liability to Current Assets": 0.0253291302366572,
         " Interest-bearing debt interest rate": 680000000,
         " Net Income to Stockholder's Equity": 0.841466956925346,
         " Degree of Financial Leverage (DFL)": 0.0267923590653515,
         " Total assets to GNP price": 0.0074337615538961,
         " Non-industry income and expenditure/revenue": 0.303658668930258,
         " Operating Expense Rate": 5820000000,
         " Research and development expense rate": 238000000,
         "_deepnote_index_column": 6796
        },
        {
         "Bankrupt?": 0,
         " Inventory Turnover Rate (times)": 5030000000,
         " Quick Asset Turnover Rate": 0.0001893943339987,
         " Inventory/Working Capital": 0.277794265634007,
         " Cash/Total Assets": 0.0873533272889339,
         " Current Assets/Total Assets": 0.68182019871233,
         " Allocation rate per person": 0.0010727373959262,
         " Net profit before tax/Paid-in capital": 0.164142975642863,
         " Borrowing dependency": 0.383785561070316,
         " Net worth/Assets": 0.811016718565771,
         " Interest Expense Ratio": 0.62705579375625,
         " Cash Reinvestment %": 0.368801460452293,
         " Net Value Growth Rate": 0.0005941388844123,
         " Net Value Per Share (B)": 0.153090893767646,
         " Current Liability to Current Assets": 0.0399620951529592,
         " Interest-bearing debt interest rate": 0.0004650465046504,
         " Net Income to Stockholder's Equity": 0.838556690796916,
         " Degree of Financial Leverage (DFL)": 0.0261756069504511,
         " Total assets to GNP price": 0.0007252794082929,
         " Non-industry income and expenditure/revenue": 0.303436305931847,
         " Operating Expense Rate": 0.0003441342058646,
         " Research and development expense rate": 0,
         "_deepnote_index_column": 6797
        },
        {
         "Bankrupt?": 0,
         " Inventory Turnover Rate (times)": 0.0005353866295883,
         " Quick Asset Turnover Rate": 0.0001482200008163,
         " Inventory/Working Capital": 0.277016722394467,
         " Cash/Total Assets": 0.141787606494244,
         " Current Assets/Total Assets": 0.440914335694544,
         " Allocation rate per person": 0.0130466119025396,
         " Net profit before tax/Paid-in capital": 0.220978810044491,
         " Borrowing dependency": 0.36963718146295,
         " Net worth/Assets": 0.938779212141367,
         " Interest Expense Ratio": 0.63061225188696,
         " Cash Reinvestment %": 0.38464475988227,
         " Net Value Growth Rate": 0.0004698411069644,
         " Net Value Per Share (B)": 0.221398171168514,
         " Current Liability to Current Assets": 0.0226461542657341,
         " Interest-bearing debt interest rate": 0,
         " Net Income to Stockholder's Equity": 0.843919415147748,
         " Degree of Financial Leverage (DFL)": 0.0267911566924924,
         " Total assets to GNP price": 0.0019059635334886,
         " Non-industry income and expenditure/revenue": 0.303542170055003,
         " Operating Expense Rate": 0.0001697543730541,
         " Research and development expense rate": 238000000,
         "_deepnote_index_column": 6798
        },
        {
         "Bankrupt?": 0,
         " Inventory Turnover Rate (times)": 9310000000,
         " Quick Asset Turnover Rate": 0.0001104192136588,
         " Inventory/Working Capital": 0.277425222448633,
         " Cash/Total Assets": 0.166765969484015,
         " Current Assets/Total Assets": 0.537402268161069,
         " Allocation rate per person": 0.014892210801594,
         " Net profit before tax/Paid-in capital": 0.190294849558857,
         " Borrowing dependency": 0.373323297911126,
         " Net worth/Assets": 0.890195604196269,
         " Interest Expense Ratio": 0.630716360049862,
         " Cash Reinvestment %": 0.370757423344883,
         " Net Value Growth Rate": 0.000535096816265,
         " Net Value Per Share (B)": 0.196241203489107,
         " Current Liability to Current Assets": 0.0312026507857627,
         " Interest-bearing debt interest rate": 0.0001490149014901,
         " Net Income to Stockholder's Equity": 0.842172110824861,
         " Degree of Financial Leverage (DFL)": 0.026817891568634,
         " Total assets to GNP price": 0.0010663760495175,
         " Non-industry income and expenditure/revenue": 0.303619997104447,
         " Operating Expense Rate": 0.0001187586792415,
         " Research and development expense rate": 3140000000,
         "_deepnote_index_column": 6799
        },
        {
         "Bankrupt?": 0,
         " Inventory Turnover Rate (times)": 3630000000,
         " Quick Asset Turnover Rate": 0.0001266649268661,
         " Inventory/Working Capital": 0.277315104064137,
         " Cash/Total Assets": 0.161966970444571,
         " Current Assets/Total Assets": 0.495401985566621,
         " Allocation rate per person": 0.0010018649505951,
         " Net profit before tax/Paid-in capital": 0.162710202850464,
         " Borrowing dependency": 0.370603444997909,
         " Net worth/Assets": 0.942679203071621,
         " Interest Expense Ratio": 0.630559170422323,
         " Cash Reinvestment %": 0.377370440743638,
         " Net Value Growth Rate": 0.0004177114026703,
         " Net Value Per Share (B)": 0.164594833761746,
         " Current Liability to Current Assets": 0.0181816681014963,
         " Interest-bearing debt interest rate": 0.0001960196019601,
         " Net Income to Stockholder's Equity": 0.838683525079445,
         " Degree of Financial Leverage (DFL)": 0.0267743024260738,
         " Total assets to GNP price": 0.0005259351934049,
         " Non-industry income and expenditure/revenue": 0.303323432540263,
         " Operating Expense Rate": 0.0004628928851062,
         " Research and development expense rate": 0.0003686040365792,
         "_deepnote_index_column": 6800
        },
        {
         "Bankrupt?": 0,
         " Inventory Turnover Rate (times)": 0.0001289742951363,
         " Quick Asset Turnover Rate": 0.0002136153695165,
         " Inventory/Working Capital": 0.277070275125607,
         " Cash/Total Assets": 0.118057573996797,
         " Current Assets/Total Assets": 0.599635731703543,
         " Allocation rate per person": 0.0035841351679277,
         " Net profit before tax/Paid-in capital": 0.19874820903401,
         " Borrowing dependency": 0.370454703041717,
         " Net worth/Assets": 0.933881549112677,
         " Interest Expense Ratio": 0.63061841618608,
         " Cash Reinvestment %": 0.375470362505123,
         " Net Value Growth Rate": 0.0004864357710886,
         " Net Value Per Share (B)": 0.210947705532847,
         " Current Liability to Current Assets": 0.0138817784786408,
         " Interest-bearing debt interest rate": 0.0001440144014401,
         " Net Income to Stockholder's Equity": 0.842456564020866,
         " Degree of Financial Leverage (DFL)": 0.0267927995125557,
         " Total assets to GNP price": 0.0013984443587462,
         " Non-industry income and expenditure/revenue": 0.303599936094808,
         " Operating Expense Rate": 0.0002213282493363,
         " Research and development expense rate": 0.0001767465693592,
         "_deepnote_index_column": 6801
        },
        {
         "Bankrupt?": 0,
         " Inventory Turnover Rate (times)": 9250000000,
         " Quick Asset Turnover Rate": 9070000000,
         " Inventory/Working Capital": 0.277315619885684,
         " Cash/Total Assets": 0.125912027563091,
         " Current Assets/Total Assets": 0.516249582625694,
         " Allocation rate per person": 0.0122491209680553,
         " Net profit before tax/Paid-in capital": 0.217321468969158,
         " Borrowing dependency": 0.371050789227056,
         " Net worth/Assets": 0.891404903709526,
         " Interest Expense Ratio": 0.630633484472815,
         " Cash Reinvestment %": 0.376206177117097,
         " Net Value Growth Rate": 0.0004632281956968,
         " Net Value Per Share (B)": 0.234798365007796,
         " Current Liability to Current Assets": 0.0246403880318713,
         " Interest-bearing debt interest rate": 0.0001100110011001,
         " Net Income to Stockholder's Equity": 0.843094383060211,
         " Degree of Financial Leverage (DFL)": 0.026796711355743,
         " Total assets to GNP price": 0.0035797680402097,
         " Non-industry income and expenditure/revenue": 0.303634982436949,
         " Operating Expense Rate": 0.0001320568760408,
         " Research and development expense rate": 2190000000,
         "_deepnote_index_column": 6802
        },
        {
         "Bankrupt?": 0,
         " Inventory Turnover Rate (times)": 8790000000,
         " Quick Asset Turnover Rate": 0.0001427778207288,
         " Inventory/Working Capital": 0.27745847371448,
         " Cash/Total Assets": 0.126191452019223,
         " Current Assets/Total Assets": 0.713044195091015,
         " Allocation rate per person": 0.0067027740832234,
         " Net profit before tax/Paid-in capital": 0.17707563532162,
         " Borrowing dependency": 0.370548645329838,
         " Net worth/Assets": 0.844272455180337,
         " Interest Expense Ratio": 0.630785537184422,
         " Cash Reinvestment %": 0.393623560970158,
         " Net Value Growth Rate": 0.0004727108609107,
         " Net Value Per Share (B)": 0.230837301420083,
         " Current Liability to Current Assets": 0.0329830612665483,
         " Interest-bearing debt interest rate": 0.0001740174017401,
         " Net Income to Stockholder's Equity": 0.840558921042583,
         " Degree of Financial Leverage (DFL)": 0.0268368643842979,
         " Total assets to GNP price": 0.0072583851485766,
         " Non-industry income and expenditure/revenue": 0.303529360012704,
         " Operating Expense Rate": 0.0001113579436316,
         " Research and development expense rate": 3750000000,
         "_deepnote_index_column": 6803
        },
        {
         "Bankrupt?": 0,
         " Inventory Turnover Rate (times)": 0.0009009093356562,
         " Quick Asset Turnover Rate": 4640000000,
         " Inventory/Working Capital": 0.277296588980796,
         " Cash/Total Assets": 0.0459296149933885,
         " Current Assets/Total Assets": 0.179085356354617,
         " Allocation rate per person": 0.0065243363662551,
         " Net profit before tax/Paid-in capital": 0.17365206243873,
         " Borrowing dependency": 0.36963718146295,
         " Net worth/Assets": 0.952474529129002,
         " Interest Expense Ratio": 0.63061225188696,
         " Cash Reinvestment %": 0.380686263552029,
         " Net Value Growth Rate": 0.000439671258955,
         " Net Value Per Share (B)": 0.203994774767182,
         " Current Liability to Current Assets": 0.0425202524370925,
         " Interest-bearing debt interest rate": 0,
         " Net Income to Stockholder's Equity": 0.840497198578487,
         " Degree of Financial Leverage (DFL)": 0.0267911983773666,
         " Total assets to GNP price": 0.0030660102624206,
         " Non-industry income and expenditure/revenue": 0.303506156917217,
         " Operating Expense Rate": 7770000000,
         " Research and development expense rate": 3280000000,
         "_deepnote_index_column": 6804
        },
        {
         "Bankrupt?": 0,
         " Inventory Turnover Rate (times)": 0.0003846300090511,
         " Quick Asset Turnover Rate": 0.0001090198724053,
         " Inventory/Working Capital": 0.277033758002347,
         " Cash/Total Assets": 0.358498368014299,
         " Current Assets/Total Assets": 0.575507814621184,
         " Allocation rate per person": 0.0048494847698884,
         " Net profit before tax/Paid-in capital": 0.189382399517382,
         " Borrowing dependency": 0.36963718146295,
         " Net worth/Assets": 0.943374550291743,
         " Interest Expense Ratio": 0.63061225188696,
         " Cash Reinvestment %": 0.375684587012406,
         " Net Value Growth Rate": 0.0004412433850299,
         " Net Value Per Share (B)": 0.237832371160086,
         " Current Liability to Current Assets": 0.0146702495730021,
         " Interest-bearing debt interest rate": 0,
         " Net Income to Stockholder's Equity": 0.841291730020008,
         " Degree of Financial Leverage (DFL)": 0.0267911566924924,
         " Total assets to GNP price": 0.0024965323621067,
         " Non-industry income and expenditure/revenue": 0.303466034897939,
         " Operating Expense Rate": 6880000000,
         " Research and development expense rate": 4720000000,
         "_deepnote_index_column": 6805
        },
        {
         "Bankrupt?": 0,
         " Inventory Turnover Rate (times)": 7410000000,
         " Quick Asset Turnover Rate": 0.0001427473680057,
         " Inventory/Working Capital": 0.277395299008687,
         " Cash/Total Assets": 0.0438283188560451,
         " Current Assets/Total Assets": 0.506521118883056,
         " Allocation rate per person": 0.0142718004521461,
         " Net profit before tax/Paid-in capital": 0.183153608325164,
         " Borrowing dependency": 0.379507831879092,
         " Net worth/Assets": 0.842125948544306,
         " Interest Expense Ratio": 0.630885535814578,
         " Cash Reinvestment %": 0.362495808650944,
         " Net Value Growth Rate": 0.0004719622294464,
         " Net Value Per Share (B)": 0.184273734777296,
         " Current Liability to Current Assets": 0.0276505186926178,
         " Interest-bearing debt interest rate": 0.0001330133013301,
         " Net Income to Stockholder's Equity": 0.841653920815977,
         " Degree of Financial Leverage (DFL)": 0.0268647279772692,
         " Total assets to GNP price": 0.0017046038090342,
         " Non-industry income and expenditure/revenue": 0.303607428761059,
         " Operating Expense Rate": 0.000202016954854,
         " Research and development expense rate": 6210000000,
         "_deepnote_index_column": 6806
        },
        {
         "Bankrupt?": 0,
         " Inventory Turnover Rate (times)": 0.0006076122348646,
         " Quick Asset Turnover Rate": 7270000000,
         " Inventory/Working Capital": 0.277057563542447,
         " Cash/Total Assets": 0.140746357776207,
         " Current Assets/Total Assets": 0.394696385550294,
         " Allocation rate per person": 0.0130178105470966,
         " Net profit before tax/Paid-in capital": 0.178787421763065,
         " Borrowing dependency": 0.371066446275076,
         " Net worth/Assets": 0.946669891465369,
         " Interest Expense Ratio": 0.630759167682635,
         " Cash Reinvestment %": 0.383387355165605,
         " Net Value Growth Rate": 0.0004437637776263,
         " Net Value Per Share (B)": 0.190931692722599,
         " Current Liability to Current Assets": 0.0220672422950981,
         " Interest-bearing debt interest rate": 0.0001940194019401,
         " Net Income to Stockholder's Equity": 0.841069008638124,
         " Degree of Financial Leverage (DFL)": 0.0268304086214268,
         " Total assets to GNP price": 0.0009540583544639,
         " Non-industry income and expenditure/revenue": 0.303511957691089,
         " Operating Expense Rate": 0.000105923028418,
         " Research and development expense rate": 3770000000,
         "_deepnote_index_column": 6807
        },
        {
         "Bankrupt?": 0,
         " Inventory Turnover Rate (times)": 0.0001201849357641,
         " Quick Asset Turnover Rate": 914000000,
         " Inventory/Working Capital": 0.277267261470117,
         " Cash/Total Assets": 0.112661614491971,
         " Current Assets/Total Assets": 0.615506491286649,
         " Allocation rate per person": 0.0059297617876584,
         " Net profit before tax/Paid-in capital": 0.176163185280145,
         " Borrowing dependency": 0.377510439895948,
         " Net worth/Assets": 0.834053874293316,
         " Interest Expense Ratio": 0.631071149710278,
         " Cash Reinvestment %": 0.375321336760925,
         " Net Value Growth Rate": 0.0005485472282394,
         " Net Value Per Share (B)": 0.176351607601871,
         " Current Liability to Current Assets": 0.0231850991556491,
         " Interest-bearing debt interest rate": 0.0001950195019501,
         " Net Income to Stockholder's Equity": 0.841046968132082,
         " Degree of Financial Leverage (DFL)": 0.0269273141426477,
         " Total assets to GNP price": 0.001068404251205,
         " Non-industry income and expenditure/revenue": 0.303510990895444,
         " Operating Expense Rate": 0.000180971112963,
         " Research and development expense rate": 8030000000,
         "_deepnote_index_column": 6808
        },
        {
         "Bankrupt?": 0,
         " Inventory Turnover Rate (times)": 0.0003374349706827,
         " Quick Asset Turnover Rate": 9620000000,
         " Inventory/Working Capital": 0.276904215334866,
         " Cash/Total Assets": 0.0164283518265444,
         " Current Assets/Total Assets": 0.146275624655255,
         " Allocation rate per person": 0.0118337380686113,
         " Net profit before tax/Paid-in capital": 0.163011839227811,
         " Borrowing dependency": 0.371641283609531,
         " Net worth/Assets": 0.880037488284911,
         " Interest Expense Ratio": 0.630399241106286,
         " Cash Reinvestment %": 0.377333184307589,
         " Net Value Growth Rate": 0.000416962771206,
         " Net Value Per Share (B)": 0.152922337870296,
         " Current Liability to Current Assets": 0.087863752820519,
         " Interest-bearing debt interest rate": 0.0003760376037603,
         " Net Income to Stockholder's Equity": 0.838526687686853,
         " Degree of Financial Leverage (DFL)": 0.0267375253323289,
         " Total assets to GNP price": 0.0003858445894042,
         " Non-industry income and expenditure/revenue": 0.30331376458381,
         " Operating Expense Rate": 0.0003245916383945,
         " Research and development expense rate": 6010000000,
         "_deepnote_index_column": 6809
        },
        {
         "Bankrupt?": 0,
         " Inventory Turnover Rate (times)": 0.0703284411631685,
         " Quick Asset Turnover Rate": 0.0001024198437726,
         " Inventory/Working Capital": 0.276975967134912,
         " Cash/Total Assets": 0.34478168929566,
         " Current Assets/Total Assets": 0.833149641503365,
         " Allocation rate per person": 0.0030431421685671,
         " Net profit before tax/Paid-in capital": 0.218520473569112,
         " Borrowing dependency": 0.36963718146295,
         " Net worth/Assets": 0.857846842216646,
         " Interest Expense Ratio": 0.630686565937453,
         " Cash Reinvestment %": 0.397544800864349,
         " Net Value Growth Rate": 0.0007343076489024,
         " Net Value Per Share (B)": 0.207787282457545,
         " Current Liability to Current Assets": 0.0279949489099155,
         " Interest-bearing debt interest rate": 0.0088278827882788,
         " Net Income to Stockholder's Equity": 0.844587929169537,
         " Degree of Financial Leverage (DFL)": 0.0268126354712081,
         " Total assets to GNP price": 0.0009948110771236,
         " Non-industry income and expenditure/revenue": 0.303579875085169,
         " Operating Expense Rate": 9100000000,
         " Research and development expense rate": 1320000000,
         "_deepnote_index_column": 6810
        },
        {
         "Bankrupt?": 0,
         " Inventory Turnover Rate (times)": 8670000000,
         " Quick Asset Turnover Rate": 0.0001655292716322,
         " Inventory/Working Capital": 0.277134817543038,
         " Cash/Total Assets": 0.0661455356150746,
         " Current Assets/Total Assets": 0.192168696533652,
         " Allocation rate per person": 0.0260793006367412,
         " Net profit before tax/Paid-in capital": 0.18693914486087,
         " Borrowing dependency": 0.373569337237157,
         " Net worth/Assets": 0.912114157874051,
         " Interest Expense Ratio": 0.630868755222531,
         " Cash Reinvestment %": 0.38308930367721,
         " Net Value Growth Rate": 0.0004601338523112,
         " Net Value Per Share (B)": 0.222240950655261,
         " Current Liability to Current Assets": 0.0215574042403482,
         " Interest-bearing debt interest rate": 0.0001980198019801,
         " Net Income to Stockholder's Equity": 0.841354782216306,
         " Degree of Financial Leverage (DFL)": 0.0268638462638733,
         " Total assets to GNP price": 0.0037245699606566,
         " Non-industry income and expenditure/revenue": 0.303789186342368,
         " Operating Expense Rate": 0.0001327506950042,
         " Research and development expense rate": 4620000000,
         "_deepnote_index_column": 6811
        },
        {
         "Bankrupt?": 0,
         " Inventory Turnover Rate (times)": 7910000000,
         " Quick Asset Turnover Rate": 4440000000,
         " Inventory/Working Capital": 0.277461212033621,
         " Cash/Total Assets": 0.0882965992461235,
         " Current Assets/Total Assets": 0.442296644789789,
         " Allocation rate per person": 0.0019548731516428,
         " Net profit before tax/Paid-in capital": 0.173780257899103,
         " Borrowing dependency": 0.369639418184096,
         " Net worth/Assets": 0.937539680140279,
         " Interest Expense Ratio": 0.630702661607375,
         " Cash Reinvestment %": 0.377249357326478,
         " Net Value Growth Rate": 0.000449004197876,
         " Net Value Per Share (B)": 0.169398676836206,
         " Current Liability to Current Assets": 0.0227214916833423,
         " Interest-bearing debt interest rate": 0.0007980798079807,
         " Net Income to Stockholder's Equity": 0.840676409505575,
         " Degree of Financial Leverage (DFL)": 0.0268112702519483,
         " Total assets to GNP price": 0.0005479780307861,
         " Non-industry income and expenditure/revenue": 0.30354337854956,
         " Operating Expense Rate": 0.0002842345020212,
         " Research and development expense rate": 0.0001305649489311,
         "_deepnote_index_column": 6812
        },
        {
         "Bankrupt?": 0,
         " Inventory Turnover Rate (times)": 0.0002159125237097,
         " Quick Asset Turnover Rate": 0.0001080433061272,
         " Inventory/Working Capital": 0.291841986381486,
         " Cash/Total Assets": 0.0535914813117942,
         " Current Assets/Total Assets": 0.302223615964321,
         " Allocation rate per person": 0.0076177825901787,
         " Net profit before tax/Paid-in capital": 0.168554407661564,
         " Borrowing dependency": 0.374587045358468,
         " Net worth/Assets": 0.852918946700124,
         " Interest Expense Ratio": 0.663191600115067,
         " Cash Reinvestment %": 0.380555866025856,
         " Net Value Growth Rate": 0.0004299390499197,
         " Net Value Per Share (B)": 0.180649782984282,
         " Current Liability to Current Assets": 0.0480545562749945,
         " Interest-bearing debt interest rate": 0.0003560356035603,
         " Net Income to Stockholder's Equity": 0.839863807245999,
         " Degree of Financial Leverage (DFL)": 0.0223094575068704,
         " Total assets to GNP price": 0.0034746484725526,
         " Non-industry income and expenditure/revenue": 0.303634257340215,
         " Operating Expense Rate": 0.0001002568402166,
         " Research and development expense rate": 7030000000,
         "_deepnote_index_column": 6813
        },
        {
         "Bankrupt?": 0,
         " Inventory Turnover Rate (times)": 40300000,
         " Quick Asset Turnover Rate": 0.000124423038047,
         " Inventory/Working Capital": 0.277543100760607,
         " Cash/Total Assets": 0.0994807767295664,
         " Current Assets/Total Assets": 0.578454824391336,
         " Allocation rate per person": 0.0063124729924462,
         " Net profit before tax/Paid-in capital": 0.171110775959581,
         " Borrowing dependency": 0.373823205087199,
         " Net worth/Assets": 0.875381685158872,
         " Interest Expense Ratio": 0.631414980616704,
         " Cash Reinvestment %": 0.380155359338326,
         " Net Value Growth Rate": 0.0004501770538367,
         " Net Value Per Share (B)": 0.175045299397413,
         " Current Liability to Current Assets": 0.0279506685836936,
         " Interest-bearing debt interest rate": 0.0001790179017901,
         " Net Income to Stockholder's Equity": 0.840358959633455,
         " Degree of Financial Leverage (DFL)": 0.0270642688796926,
         " Total assets to GNP price": 0.0004655105226931,
         " Non-industry income and expenditure/revenue": 0.30351026579871,
         " Operating Expense Rate": 0.0001510212610414,
         " Research and development expense rate": 4500000000,
         "_deepnote_index_column": 6814
        },
        {
         "Bankrupt?": 0,
         " Inventory Turnover Rate (times)": 9940000000,
         " Quick Asset Turnover Rate": 0.000117339616277,
         " Inventory/Working Capital": 0.277368082245805,
         " Cash/Total Assets": 0.0803372465311506,
         " Current Assets/Total Assets": 0.444042893039895,
         " Allocation rate per person": 0.0034012239419987,
         " Net profit before tax/Paid-in capital": 0.171804539627479,
         " Borrowing dependency": 0.372504657971786,
         " Net worth/Assets": 0.900746742449436,
         " Interest Expense Ratio": 0.631488952206134,
         " Cash Reinvestment %": 0.377389068961663,
         " Net Value Growth Rate": 0.0004454606756119,
         " Net Value Per Share (B)": 0.18132400657368,
         " Current Liability to Current Assets": 0.0314699780754821,
         " Interest-bearing debt interest rate": 0.0002370237023702,
         " Net Income to Stockholder's Equity": 0.840305739487351,
         " Degree of Financial Leverage (DFL)": 0.027008576481165,
         " Total assets to GNP price": 0.0019592374609717,
         " Non-industry income and expenditure/revenue": 0.303519692056251,
         " Operating Expense Rate": 5220000000,
         " Research and development expense rate": 1440000000,
         "_deepnote_index_column": 6815
        },
        {
         "Bankrupt?": 0,
         " Inventory Turnover Rate (times)": 0.0002797309156735,
         " Quick Asset Turnover Rate": 0.0001749712598896,
         " Inventory/Working Capital": 0.277021536117834,
         " Cash/Total Assets": 0.412884903535593,
         " Current Assets/Total Assets": 0.496053327376394,
         " Allocation rate per person": 0.0027739776687459,
         " Net profit before tax/Paid-in capital": 0.172287157831234,
         " Borrowing dependency": 0.36963718146295,
         " Net worth/Assets": 0.961060555673126,
         " Interest Expense Ratio": 0.63061225188696,
         " Cash Reinvestment %": 0.379391602399314,
         " Net Value Growth Rate": 0.0004354789227552,
         " Net Value Per Share (B)": 0.269520879861784,
         " Current Liability to Current Assets": 0.0075424581902355,
         " Interest-bearing debt interest rate": 0,
         " Net Income to Stockholder's Equity": 0.840138262899323,
         " Degree of Financial Leverage (DFL)": 0.0267911566924924,
         " Total assets to GNP price": 0.0028398848169313,
         " Non-industry income and expenditure/revenue": 0.30351219939,
         " Operating Expense Rate": 0.0002509311917763,
         " Research and development expense rate": 0.0001039086459633,
         "_deepnote_index_column": 6816
        },
        {
         "Bankrupt?": 0,
         " Inventory Turnover Rate (times)": 4550000000,
         " Quick Asset Turnover Rate": 0.0001351937349827,
         " Inventory/Working Capital": 0.277353020845729,
         " Cash/Total Assets": 0.11223822448296,
         " Current Assets/Total Assets": 0.564439228913174,
         " Allocation rate per person": 0.0074886037359228,
         " Net profit before tax/Paid-in capital": 0.182497549204434,
         " Borrowing dependency": 0.369649483429251,
         " Net worth/Assets": 0.913021132508994,
         " Interest Expense Ratio": 0.630730743414474,
         " Cash Reinvestment %": 0.401028277634961,
         " Net Value Growth Rate": 0.0005286835400546,
         " Net Value Per Share (B)": 0.213391766044414,
         " Current Liability to Current Assets": 0.0229164265879435,
         " Interest-bearing debt interest rate": 0.0002110211021102,
         " Net Income to Stockholder's Equity": 0.841083611494015,
         " Degree of Financial Leverage (DFL)": 0.0268220476697979,
         " Total assets to GNP price": 0.0028371957786844,
         " Non-industry income and expenditure/revenue": 0.303498180853144,
         " Operating Expense Rate": 0.0001236154119856,
         " Research and development expense rate": 2510000000,
         "_deepnote_index_column": 6817
        },
        {
         "Bankrupt?": 0,
         " Inventory Turnover Rate (times)": 19100000,
         " Quick Asset Turnover Rate": 0.0082384712962619,
         " Inventory/Working Capital": 0.276974860487935,
         " Cash/Total Assets": 0.238147049622428,
         " Current Assets/Total Assets": 0.505010145437197,
         " Allocation rate per person": 0.0009634631433377,
         " Net profit before tax/Paid-in capital": 0.179911017268683,
         " Borrowing dependency": 0.370048738153766,
         " Net worth/Assets": 0.985851195694894,
         " Interest Expense Ratio": 0.630617731263955,
         " Cash Reinvestment %": 0.360102082634775,
         " Net Value Growth Rate": 0.0005186269240514,
         " Net Value Per Share (B)": 0.220766086553453,
         " Current Liability to Current Assets": 0.0055791065080975,
         " Interest-bearing debt interest rate": 590000000,
         " Net Income to Stockholder's Equity": 0.841018547704715,
         " Degree of Financial Leverage (DFL)": 0.0267929525617534,
         " Total assets to GNP price": 0.0007068724417609,
         " Non-industry income and expenditure/revenue": 0.313415328883334,
         " Operating Expense Rate": 0.0014316954310518,
         " Research and development expense rate": 0,
         "_deepnote_index_column": 6818
        }
       ]
      },
      "text/plain": "      Bankrupt?   Inventory Turnover Rate (times)   Quick Asset Turnover Rate  \\\n0             1                      1.820926e-04                6.550000e+09   \n1             1                      9.360000e+09                7.700000e+09   \n2             1                      6.500000e+07                1.022676e-03   \n3             1                      7.130000e+09                6.050000e+09   \n4             1                      1.633674e-04                5.050000e+09   \n...         ...                               ...                         ...   \n6814          0                      4.030000e+07                1.244230e-04   \n6815          0                      9.940000e+09                1.173396e-04   \n6816          0                      2.797309e-04                1.749713e-04   \n6817          0                      4.550000e+09                1.351937e-04   \n6818          0                      1.910000e+07                8.238471e-03   \n\n       Inventory/Working Capital   Cash/Total Assets  \\\n0                       0.276920            0.004094   \n1                       0.289642            0.014948   \n2                       0.277456            0.000991   \n3                       0.276580            0.018851   \n4                       0.287913            0.014161   \n...                          ...                 ...   \n6814                    0.277543            0.099481   \n6815                    0.277368            0.080337   \n6816                    0.277022            0.412885   \n6817                    0.277353            0.112238   \n6818                    0.276975            0.238147   \n\n       Current Assets/Total Assets   Allocation rate per person  \\\n0                         0.190643                     0.037135   \n1                         0.182419                     0.012335   \n2                         0.602806                     0.141016   \n3                         0.225815                     0.021320   \n4                         0.358380                     0.023988   \n...                            ...                          ...   \n6814                      0.578455                     0.006312   \n6815                      0.444043                     0.003401   \n6816                      0.496053                     0.002774   \n6817                      0.564439                     0.007489   \n6818                      0.505010                     0.000963   \n\n       Net profit before tax/Paid-in capital   Borrowing dependency  \\\n0                                   0.137757               0.390284   \n1                                   0.168962               0.376760   \n2                                   0.148036               0.379093   \n3                                   0.147561               0.379743   \n4                                   0.167461               0.375025   \n...                                      ...                    ...   \n6814                                0.171111               0.373823   \n6815                                0.171805               0.372505   \n6816                                0.172287               0.369637   \n6817                                0.182498               0.369649   \n6818                                0.179911               0.370049   \n\n       Net worth/Assets  ...   Net Value Growth Rate  \\\n0              0.792424  ...                0.000327   \n1              0.828824  ...                0.000443   \n2              0.792484  ...                0.000396   \n3              0.848535  ...                0.000382   \n4              0.893491  ...                0.000439   \n...                 ...  ...                     ...   \n6814           0.875382  ...                0.000450   \n6815           0.900747  ...                0.000445   \n6816           0.961061  ...                0.000435   \n6817           0.913021  ...                0.000529   \n6818           0.985851  ...                0.000519   \n\n       Net Value Per Share (B)   Current Liability to Current Assets  \\\n0                     0.147950                              0.118250   \n1                     0.182251                              0.047775   \n2                     0.177911                              0.025346   \n3                     0.154187                              0.067250   \n4                     0.167502                              0.047725   \n...                        ...                                   ...   \n6814                  0.175045                              0.027951   \n6815                  0.181324                              0.031470   \n6816                  0.269521                              0.007542   \n6817                  0.213392                              0.022916   \n6818                  0.220766                              0.005579   \n\n       Interest-bearing debt interest rate  \\\n0                             7.250725e-04   \n1                             6.470647e-04   \n2                             7.900790e-04   \n3                             4.490449e-04   \n4                             6.860686e-04   \n...                                    ...   \n6814                          1.790179e-04   \n6815                          2.370237e-04   \n6816                          0.000000e+00   \n6817                          2.110211e-04   \n6818                          5.900000e+08   \n\n       Net Income to Stockholder's Equity  \\\n0                                0.827890   \n1                                0.839969   \n2                                0.836774   \n3                                0.834697   \n4                                0.839973   \n...                                   ...   \n6814                             0.840359   \n6815                             0.840306   \n6816                             0.840138   \n6817                             0.841084   \n6818                             0.841019   \n\n       Degree of Financial Leverage (DFL)   Total assets to GNP price  \\\n0                                0.026601                    0.009219   \n1                                0.264577                    0.008323   \n2                                0.026555                    0.040003   \n3                                0.026697                    0.003252   \n4                                0.024752                    0.003878   \n...                                   ...                         ...   \n6814                             0.027064                    0.000466   \n6815                             0.027009                    0.001959   \n6816                             0.026791                    0.002840   \n6817                             0.026822                    0.002837   \n6818                             0.026793                    0.000707   \n\n       Non-industry income and expenditure/revenue   Operating Expense Rate  \\\n0                                         0.302646             1.256969e-04   \n1                                         0.303556             2.897851e-04   \n2                                         0.302035             2.361297e-04   \n3                                         0.303350             1.078888e-04   \n4                                         0.303475             7.890000e+09   \n...                                            ...                      ...   \n6814                                      0.303510             1.510213e-04   \n6815                                      0.303520             5.220000e+09   \n6816                                      0.303512             2.509312e-04   \n6817                                      0.303498             1.236154e-04   \n6818                                      0.313415             1.431695e-03   \n\n       Research and development expense rate  \n0                               0.000000e+00  \n1                               0.000000e+00  \n2                               2.550000e+07  \n3                               0.000000e+00  \n4                               0.000000e+00  \n...                                      ...  \n6814                            4.500000e+09  \n6815                            1.440000e+09  \n6816                            1.039086e-04  \n6817                            2.510000e+09  \n6818                            0.000000e+00  \n\n[6819 rows x 22 columns]",
      "text/html": "<div>\n<style scoped>\n    .dataframe tbody tr th:only-of-type {\n        vertical-align: middle;\n    }\n\n    .dataframe tbody tr th {\n        vertical-align: top;\n    }\n\n    .dataframe thead th {\n        text-align: right;\n    }\n</style>\n<table border=\"1\" class=\"dataframe\">\n  <thead>\n    <tr style=\"text-align: right;\">\n      <th></th>\n      <th>Bankrupt?</th>\n      <th>Inventory Turnover Rate (times)</th>\n      <th>Quick Asset Turnover Rate</th>\n      <th>Inventory/Working Capital</th>\n      <th>Cash/Total Assets</th>\n      <th>Current Assets/Total Assets</th>\n      <th>Allocation rate per person</th>\n      <th>Net profit before tax/Paid-in capital</th>\n      <th>Borrowing dependency</th>\n      <th>Net worth/Assets</th>\n      <th>...</th>\n      <th>Net Value Growth Rate</th>\n      <th>Net Value Per Share (B)</th>\n      <th>Current Liability to Current Assets</th>\n      <th>Interest-bearing debt interest rate</th>\n      <th>Net Income to Stockholder's Equity</th>\n      <th>Degree of Financial Leverage (DFL)</th>\n      <th>Total assets to GNP price</th>\n      <th>Non-industry income and expenditure/revenue</th>\n      <th>Operating Expense Rate</th>\n      <th>Research and development expense rate</th>\n    </tr>\n  </thead>\n  <tbody>\n    <tr>\n      <th>0</th>\n      <td>1</td>\n      <td>1.820926e-04</td>\n      <td>6.550000e+09</td>\n      <td>0.276920</td>\n      <td>0.004094</td>\n      <td>0.190643</td>\n      <td>0.037135</td>\n      <td>0.137757</td>\n      <td>0.390284</td>\n      <td>0.792424</td>\n      <td>...</td>\n      <td>0.000327</td>\n      <td>0.147950</td>\n      <td>0.118250</td>\n      <td>7.250725e-04</td>\n      <td>0.827890</td>\n      <td>0.026601</td>\n      <td>0.009219</td>\n      <td>0.302646</td>\n      <td>1.256969e-04</td>\n      <td>0.000000e+00</td>\n    </tr>\n    <tr>\n      <th>1</th>\n      <td>1</td>\n      <td>9.360000e+09</td>\n      <td>7.700000e+09</td>\n      <td>0.289642</td>\n      <td>0.014948</td>\n      <td>0.182419</td>\n      <td>0.012335</td>\n      <td>0.168962</td>\n      <td>0.376760</td>\n      <td>0.828824</td>\n      <td>...</td>\n      <td>0.000443</td>\n      <td>0.182251</td>\n      <td>0.047775</td>\n      <td>6.470647e-04</td>\n      <td>0.839969</td>\n      <td>0.264577</td>\n      <td>0.008323</td>\n      <td>0.303556</td>\n      <td>2.897851e-04</td>\n      <td>0.000000e+00</td>\n    </tr>\n    <tr>\n      <th>2</th>\n      <td>1</td>\n      <td>6.500000e+07</td>\n      <td>1.022676e-03</td>\n      <td>0.277456</td>\n      <td>0.000991</td>\n      <td>0.602806</td>\n      <td>0.141016</td>\n      <td>0.148036</td>\n      <td>0.379093</td>\n      <td>0.792484</td>\n      <td>...</td>\n      <td>0.000396</td>\n      <td>0.177911</td>\n      <td>0.025346</td>\n      <td>7.900790e-04</td>\n      <td>0.836774</td>\n      <td>0.026555</td>\n      <td>0.040003</td>\n      <td>0.302035</td>\n      <td>2.361297e-04</td>\n      <td>2.550000e+07</td>\n    </tr>\n    <tr>\n      <th>3</th>\n      <td>1</td>\n      <td>7.130000e+09</td>\n      <td>6.050000e+09</td>\n      <td>0.276580</td>\n      <td>0.018851</td>\n      <td>0.225815</td>\n      <td>0.021320</td>\n      <td>0.147561</td>\n      <td>0.379743</td>\n      <td>0.848535</td>\n      <td>...</td>\n      <td>0.000382</td>\n      <td>0.154187</td>\n      <td>0.067250</td>\n      <td>4.490449e-04</td>\n      <td>0.834697</td>\n      <td>0.026697</td>\n      <td>0.003252</td>\n      <td>0.303350</td>\n      <td>1.078888e-04</td>\n      <td>0.000000e+00</td>\n    </tr>\n    <tr>\n      <th>4</th>\n      <td>1</td>\n      <td>1.633674e-04</td>\n      <td>5.050000e+09</td>\n      <td>0.287913</td>\n      <td>0.014161</td>\n      <td>0.358380</td>\n      <td>0.023988</td>\n      <td>0.167461</td>\n      <td>0.375025</td>\n      <td>0.893491</td>\n      <td>...</td>\n      <td>0.000439</td>\n      <td>0.167502</td>\n      <td>0.047725</td>\n      <td>6.860686e-04</td>\n      <td>0.839973</td>\n      <td>0.024752</td>\n      <td>0.003878</td>\n      <td>0.303475</td>\n      <td>7.890000e+09</td>\n      <td>0.000000e+00</td>\n    </tr>\n    <tr>\n      <th>...</th>\n      <td>...</td>\n      <td>...</td>\n      <td>...</td>\n      <td>...</td>\n      <td>...</td>\n      <td>...</td>\n      <td>...</td>\n      <td>...</td>\n      <td>...</td>\n      <td>...</td>\n      <td>...</td>\n      <td>...</td>\n      <td>...</td>\n      <td>...</td>\n      <td>...</td>\n      <td>...</td>\n      <td>...</td>\n      <td>...</td>\n      <td>...</td>\n      <td>...</td>\n      <td>...</td>\n    </tr>\n    <tr>\n      <th>6814</th>\n      <td>0</td>\n      <td>4.030000e+07</td>\n      <td>1.244230e-04</td>\n      <td>0.277543</td>\n      <td>0.099481</td>\n      <td>0.578455</td>\n      <td>0.006312</td>\n      <td>0.171111</td>\n      <td>0.373823</td>\n      <td>0.875382</td>\n      <td>...</td>\n      <td>0.000450</td>\n      <td>0.175045</td>\n      <td>0.027951</td>\n      <td>1.790179e-04</td>\n      <td>0.840359</td>\n      <td>0.027064</td>\n      <td>0.000466</td>\n      <td>0.303510</td>\n      <td>1.510213e-04</td>\n      <td>4.500000e+09</td>\n    </tr>\n    <tr>\n      <th>6815</th>\n      <td>0</td>\n      <td>9.940000e+09</td>\n      <td>1.173396e-04</td>\n      <td>0.277368</td>\n      <td>0.080337</td>\n      <td>0.444043</td>\n      <td>0.003401</td>\n      <td>0.171805</td>\n      <td>0.372505</td>\n      <td>0.900747</td>\n      <td>...</td>\n      <td>0.000445</td>\n      <td>0.181324</td>\n      <td>0.031470</td>\n      <td>2.370237e-04</td>\n      <td>0.840306</td>\n      <td>0.027009</td>\n      <td>0.001959</td>\n      <td>0.303520</td>\n      <td>5.220000e+09</td>\n      <td>1.440000e+09</td>\n    </tr>\n    <tr>\n      <th>6816</th>\n      <td>0</td>\n      <td>2.797309e-04</td>\n      <td>1.749713e-04</td>\n      <td>0.277022</td>\n      <td>0.412885</td>\n      <td>0.496053</td>\n      <td>0.002774</td>\n      <td>0.172287</td>\n      <td>0.369637</td>\n      <td>0.961061</td>\n      <td>...</td>\n      <td>0.000435</td>\n      <td>0.269521</td>\n      <td>0.007542</td>\n      <td>0.000000e+00</td>\n      <td>0.840138</td>\n      <td>0.026791</td>\n      <td>0.002840</td>\n      <td>0.303512</td>\n      <td>2.509312e-04</td>\n      <td>1.039086e-04</td>\n    </tr>\n    <tr>\n      <th>6817</th>\n      <td>0</td>\n      <td>4.550000e+09</td>\n      <td>1.351937e-04</td>\n      <td>0.277353</td>\n      <td>0.112238</td>\n      <td>0.564439</td>\n      <td>0.007489</td>\n      <td>0.182498</td>\n      <td>0.369649</td>\n      <td>0.913021</td>\n      <td>...</td>\n      <td>0.000529</td>\n      <td>0.213392</td>\n      <td>0.022916</td>\n      <td>2.110211e-04</td>\n      <td>0.841084</td>\n      <td>0.026822</td>\n      <td>0.002837</td>\n      <td>0.303498</td>\n      <td>1.236154e-04</td>\n      <td>2.510000e+09</td>\n    </tr>\n    <tr>\n      <th>6818</th>\n      <td>0</td>\n      <td>1.910000e+07</td>\n      <td>8.238471e-03</td>\n      <td>0.276975</td>\n      <td>0.238147</td>\n      <td>0.505010</td>\n      <td>0.000963</td>\n      <td>0.179911</td>\n      <td>0.370049</td>\n      <td>0.985851</td>\n      <td>...</td>\n      <td>0.000519</td>\n      <td>0.220766</td>\n      <td>0.005579</td>\n      <td>5.900000e+08</td>\n      <td>0.841019</td>\n      <td>0.026793</td>\n      <td>0.000707</td>\n      <td>0.313415</td>\n      <td>1.431695e-03</td>\n      <td>0.000000e+00</td>\n    </tr>\n  </tbody>\n</table>\n<p>6819 rows × 22 columns</p>\n</div>"
     },
     "metadata": {}
    }
   ],
   "execution_count": null
  },
  {
   "cell_type": "code",
   "metadata": {
    "deepnote_to_be_reexecuted": false,
    "source_hash": "d150ebfb",
    "execution_start": 1621784236559,
    "execution_millis": 136519,
    "cell_id": "00011-598bb4d9-3592-4717-9592-d250cf205790",
    "deepnote_cell_type": "code"
   },
   "source": "# df.to_csv('./data/bankruptcy_22.csv')",
   "outputs": [],
   "execution_count": null
  },
  {
   "cell_type": "markdown",
   "source": "### Splitting data into train/ test sets",
   "metadata": {
    "cell_id": "00012-227d50f4-8a6b-4be6-8eaa-5288ce56f6d4",
    "deepnote_cell_type": "markdown"
   }
  },
  {
   "cell_type": "code",
   "metadata": {
    "deepnote_to_be_reexecuted": false,
    "source_hash": "f79e9d7c",
    "execution_start": 1621784236566,
    "execution_millis": 136526,
    "cell_id": "00013-56f1c104-6dff-4ab1-b8ed-a306178d4530",
    "deepnote_cell_type": "code"
   },
   "source": "X = df.iloc[:,1:]\ny = df.iloc[:,0]",
   "outputs": [],
   "execution_count": null
  },
  {
   "cell_type": "code",
   "metadata": {
    "deepnote_to_be_reexecuted": false,
    "source_hash": "75e65def",
    "execution_start": 1621784236566,
    "execution_millis": 136529,
    "cell_id": "00014-7bd34c79-4fe2-4a83-a061-1d761345c7d3",
    "deepnote_cell_type": "code"
   },
   "source": "# Split into train and val/test sets\nxTrain, xTest, yTrain, yTest = train_test_split(X,  y, test_size=0.4)\n",
   "outputs": [],
   "execution_count": null
  },
  {
   "cell_type": "markdown",
   "source": "## Data imbalance",
   "metadata": {
    "tags": [],
    "cell_id": "00015-6d546cc6-3c13-468a-a5bd-f6833ee2719b",
    "deepnote_cell_type": "markdown"
   }
  },
  {
   "cell_type": "code",
   "metadata": {
    "deepnote_to_be_reexecuted": false,
    "source_hash": "9cc83c61",
    "execution_start": 1621784236571,
    "execution_millis": 42,
    "cell_id": "00015-78ccbb8e-12b5-4359-9848-862104e8a954",
    "deepnote_cell_type": "code"
   },
   "source": "print(f\"yTrain = {Counter (yTrain)}\")\nprint(f\"                   0: {Counter(yTrain)[0]/len(yTrain):.0%},  1: {Counter(yTrain)[1]/len(yTrain):.0%}\")\nprint()\nprint(f\"yTest = {Counter (yTest)}\")\nprint(f\"                  0: {Counter(yTest)[0]/len(yTest):.0%},  1: {Counter(yTest)[1]/len(yTest):.0%}\")",
   "outputs": [
    {
     "name": "stdout",
     "text": "yTrain = Counter({0: 3962, 1: 129})\n                   0: 97%,  1: 3%\n\nyTest = Counter({0: 2637, 1: 91})\n                  0: 97%,  1: 3%\n",
     "output_type": "stream"
    }
   ],
   "execution_count": null
  },
  {
   "cell_type": "markdown",
   "source": "## Gaussian Naive Bayes",
   "metadata": {
    "cell_id": "00017-8d223b3c-77fa-4960-a50d-55cf7ceb875e",
    "deepnote_cell_type": "markdown"
   }
  },
  {
   "cell_type": "markdown",
   "source": "Naive Bayes classifiers are a family of simple \"probabilistic classifiers\" based on applying Bayes' theorem with strong (naïve) independence assumptions between the features. They are among the simplest Bayesian network models, but coupled with kernel density estimation, they can achieve higher accuracy levels.\n\nNaïve Bayes classifiers are highly scalable, requiring a number of parameters linear in the number of variables in a learning problem. Maximum-likelihood training can be done by evaluating a closed-form expression, which takes linear time, rather than by expensive iterative approximation as used for many other types of classifiers (Wikipedia).",
   "metadata": {
    "cell_id": "00018-75adacc3-4a46-45d7-914e-73bd865cc511",
    "deepnote_cell_type": "markdown"
   }
  },
  {
   "cell_type": "markdown",
   "source": "There are 3 models of naive bayes:\n- Gaussian Naive Bayes - When dealing with continuous data, a typical assumption is that the continuous values associated with each class are distributed according to a normal (or Gaussian) distribution. \n- Multinomial Naive Bayes - With a multinomial event model, samples represent the frequencies with which certain events have been generated by a multinomial.\n- Bernoulli Naive Bayes - In the multivariate Bernoulli event model, features are independent Booleans (binary variables) describing inputs. Like the multinomial model, this model is popular for document classification tasks,[10] where binary term occurrence features are used rather than term frequencies.",
   "metadata": {
    "cell_id": "00019-d79b829f-cbea-4eba-bcb5-f3d5115eb8ba",
    "deepnote_cell_type": "markdown"
   }
  },
  {
   "cell_type": "markdown",
   "source": "The model that fits better in this case, binary classification in bankrupt or not, is Bernoulli Naive Bayes.",
   "metadata": {
    "cell_id": "00020-2a4eb203-2fe1-468f-bea3-b0c83ea7f5da",
    "deepnote_cell_type": "markdown"
   }
  },
  {
   "cell_type": "code",
   "metadata": {
    "deepnote_to_be_reexecuted": false,
    "source_hash": "2f05430c",
    "execution_start": 1621784236593,
    "execution_millis": 2,
    "cell_id": "00021-f11e1e2e-bc57-423b-898f-894869848dcb",
    "deepnote_cell_type": "code"
   },
   "source": "gnb = GaussianNB()\ny_pred_g = gnb.fit(xTrain, yTrain).predict(xTest)\n",
   "outputs": [],
   "execution_count": null
  },
  {
   "cell_type": "markdown",
   "source": "### Evaluation the Algorithm",
   "metadata": {
    "cell_id": "00023-7f23c63f-b938-4f4b-87dc-65f35eb07b06",
    "deepnote_cell_type": "markdown"
   }
  },
  {
   "cell_type": "markdown",
   "source": "**Confusion matrix:**  \n- True positives: positive tuples correctly labeled   \n- True negatives: negative tuples correctly labeled   \n- False positives: negative tuples incorrectly labeled   \n- False negatives: positive tuples incorrectly labeled   \n\n**Classification report:**   \n- Accuracy = (TP+TN)/(TP+TN+FP+FN)   \n- Precision = TP/(TP+FP)   \n- Recall = TP/(TP+FN)   \n- F1 - measure = 2rp/(r+p)   \n- WeightedAccuracy = (Wtp*TP+Wtn*TN)/(Wtp*TP+Wtn*TN+Wfp*FP+Wfn*FN)  \n\n**Error:**\n- Mean Squared Error (MSE)\n- Mean Absolute Error (MAE)",
   "metadata": {
    "cell_id": "00024-112cd043-ea4c-42f2-8028-d228a534c162",
    "deepnote_cell_type": "markdown"
   }
  },
  {
   "cell_type": "markdown",
   "source": "#### Classification Report",
   "metadata": {
    "tags": [],
    "cell_id": "00023-8d6cb715-bb62-40fa-842e-8cd418e2f90d",
    "deepnote_cell_type": "markdown"
   }
  },
  {
   "cell_type": "code",
   "metadata": {
    "deepnote_to_be_reexecuted": false,
    "source_hash": "1a62babe",
    "execution_start": 1621784236596,
    "execution_millis": 17,
    "cell_id": "00026-ca3fbf10-bd51-45bd-8d96-13db74d5d774",
    "deepnote_cell_type": "code"
   },
   "source": "print(\"Report:\",metrics.classification_report(yTest, y_pred_g))\n    ",
   "outputs": [
    {
     "name": "stdout",
     "text": "Report:               precision    recall  f1-score   support\n\n           0       0.97      1.00      0.98      2637\n           1       0.00      0.00      0.00        91\n\n    accuracy                           0.96      2728\n   macro avg       0.48      0.50      0.49      2728\nweighted avg       0.93      0.96      0.95      2728\n\n",
     "output_type": "stream"
    }
   ],
   "execution_count": null
  },
  {
   "cell_type": "markdown",
   "source": "#### Confusion Matrix",
   "metadata": {
    "tags": [],
    "cell_id": "00025-70490019-6a0a-4ce0-b2d1-8ecb2c04a7c7",
    "deepnote_cell_type": "markdown"
   }
  },
  {
   "cell_type": "code",
   "metadata": {
    "tags": [],
    "cell_id": "00026-17b55b29-0db1-4306-bb43-c20036cfc468",
    "deepnote_to_be_reexecuted": false,
    "source_hash": "59ef8749",
    "execution_start": 1621784236608,
    "execution_millis": 18,
    "deepnote_cell_type": "code"
   },
   "source": "pd.DataFrame(metrics.confusion_matrix(yTest, y_pred_g),\n    columns=['Predict No', 'Predict Yes'],\n    index=['Actual No', 'Actual Yes'])",
   "outputs": [
    {
     "output_type": "execute_result",
     "execution_count": 16,
     "data": {
      "application/vnd.deepnote.dataframe.v2+json": {
       "row_count": 2,
       "column_count": 2,
       "columns": [
        {
         "name": "Predict No",
         "dtype": "int64",
         "stats": {
          "unique_count": 2,
          "nan_count": 0,
          "min": "91",
          "max": "2627",
          "histogram": [
           {
            "bin_start": 91,
            "bin_end": 344.6,
            "count": 1
           },
           {
            "bin_start": 344.6,
            "bin_end": 598.2,
            "count": 0
           },
           {
            "bin_start": 598.2,
            "bin_end": 851.8,
            "count": 0
           },
           {
            "bin_start": 851.8,
            "bin_end": 1105.4,
            "count": 0
           },
           {
            "bin_start": 1105.4,
            "bin_end": 1359,
            "count": 0
           },
           {
            "bin_start": 1359,
            "bin_end": 1612.6,
            "count": 0
           },
           {
            "bin_start": 1612.6,
            "bin_end": 1866.2,
            "count": 0
           },
           {
            "bin_start": 1866.2,
            "bin_end": 2119.8,
            "count": 0
           },
           {
            "bin_start": 2119.8,
            "bin_end": 2373.4,
            "count": 0
           },
           {
            "bin_start": 2373.4,
            "bin_end": 2627,
            "count": 1
           }
          ]
         }
        },
        {
         "name": "Predict Yes",
         "dtype": "int64",
         "stats": {
          "unique_count": 2,
          "nan_count": 0,
          "min": "0",
          "max": "10",
          "histogram": [
           {
            "bin_start": 0,
            "bin_end": 1,
            "count": 1
           },
           {
            "bin_start": 1,
            "bin_end": 2,
            "count": 0
           },
           {
            "bin_start": 2,
            "bin_end": 3,
            "count": 0
           },
           {
            "bin_start": 3,
            "bin_end": 4,
            "count": 0
           },
           {
            "bin_start": 4,
            "bin_end": 5,
            "count": 0
           },
           {
            "bin_start": 5,
            "bin_end": 6,
            "count": 0
           },
           {
            "bin_start": 6,
            "bin_end": 7,
            "count": 0
           },
           {
            "bin_start": 7,
            "bin_end": 8,
            "count": 0
           },
           {
            "bin_start": 8,
            "bin_end": 9,
            "count": 0
           },
           {
            "bin_start": 9,
            "bin_end": 10,
            "count": 1
           }
          ]
         }
        },
        {
         "name": "_deepnote_index_column",
         "dtype": "object"
        }
       ],
       "rows_top": [
        {
         "Predict No": 2627,
         "Predict Yes": 10,
         "_deepnote_index_column": "Actual No"
        },
        {
         "Predict No": 91,
         "Predict Yes": 0,
         "_deepnote_index_column": "Actual Yes"
        }
       ],
       "rows_bottom": null
      },
      "text/plain": "            Predict No  Predict Yes\nActual No         2627           10\nActual Yes          91            0",
      "text/html": "<div>\n<style scoped>\n    .dataframe tbody tr th:only-of-type {\n        vertical-align: middle;\n    }\n\n    .dataframe tbody tr th {\n        vertical-align: top;\n    }\n\n    .dataframe thead th {\n        text-align: right;\n    }\n</style>\n<table border=\"1\" class=\"dataframe\">\n  <thead>\n    <tr style=\"text-align: right;\">\n      <th></th>\n      <th>Predict No</th>\n      <th>Predict Yes</th>\n    </tr>\n  </thead>\n  <tbody>\n    <tr>\n      <th>Actual No</th>\n      <td>2627</td>\n      <td>10</td>\n    </tr>\n    <tr>\n      <th>Actual Yes</th>\n      <td>91</td>\n      <td>0</td>\n    </tr>\n  </tbody>\n</table>\n</div>"
     },
     "metadata": {}
    }
   ],
   "execution_count": null
  },
  {
   "cell_type": "markdown",
   "source": "#### Mean Squared Error",
   "metadata": {
    "tags": [],
    "cell_id": "00027-a6894093-29e4-4967-9dd2-49963d7e1a25",
    "deepnote_cell_type": "markdown"
   }
  },
  {
   "cell_type": "code",
   "metadata": {
    "tags": [],
    "cell_id": "00026-5dba8509-4e51-407a-b8e5-b6c56c73495d",
    "deepnote_to_be_reexecuted": false,
    "source_hash": "fa00edec",
    "execution_start": 1621784236623,
    "execution_millis": 9,
    "deepnote_cell_type": "code"
   },
   "source": "mean_squared_error(yTest, y_pred_g)",
   "outputs": [
    {
     "output_type": "execute_result",
     "execution_count": 17,
     "data": {
      "text/plain": "0.03702346041055719"
     },
     "metadata": {}
    }
   ],
   "execution_count": null
  },
  {
   "cell_type": "markdown",
   "source": "#### Mean Absolute Error",
   "metadata": {
    "tags": [],
    "cell_id": "00029-ed629e27-9837-4e98-be17-308fac037872",
    "deepnote_cell_type": "markdown"
   }
  },
  {
   "cell_type": "code",
   "metadata": {
    "tags": [],
    "cell_id": "00027-e69752a3-acf8-4dd3-8db7-39e87bc6d698",
    "deepnote_to_be_reexecuted": false,
    "source_hash": "7befdccb",
    "execution_start": 1621784236634,
    "execution_millis": 13,
    "deepnote_cell_type": "code"
   },
   "source": "mean_absolute_error(yTest, y_pred_g)",
   "outputs": [
    {
     "output_type": "execute_result",
     "execution_count": 18,
     "data": {
      "text/plain": "0.03702346041055719"
     },
     "metadata": {}
    }
   ],
   "execution_count": null
  },
  {
   "cell_type": "markdown",
   "source": "#### ROC Curve",
   "metadata": {
    "cell_id": "00031-c5c4eb03-0205-4b9a-84bc-2d5930d4b1ea",
    "deepnote_cell_type": "markdown"
   }
  },
  {
   "cell_type": "code",
   "metadata": {
    "tags": [],
    "cell_id": "00027-dcd1d22c-8f8c-4da8-9fc2-ed7eb814f403",
    "deepnote_to_be_reexecuted": false,
    "source_hash": "180aedf8",
    "execution_start": 1621784236682,
    "execution_millis": 5,
    "deepnote_cell_type": "code"
   },
   "source": "fpr, tpr, thresh = metrics.roc_curve(yTest, y_pred_g)\nauc = metrics.auc(fpr, tpr)\nprint(\"Area Under ROC curve is :\", auc)",
   "outputs": [
    {
     "name": "stdout",
     "text": "Area Under ROC curve is : 0.4981039059537353\n",
     "output_type": "stream"
    }
   ],
   "execution_count": null
  },
  {
   "cell_type": "code",
   "metadata": {
    "tags": [],
    "cell_id": "00033-e55a7a70-b6b6-4cd9-bc21-d4c15b1b6ec6",
    "deepnote_to_be_reexecuted": false,
    "source_hash": "9913864e",
    "execution_start": 1621784236683,
    "execution_millis": 258,
    "deepnote_cell_type": "code"
   },
   "source": "plt.plot(fpr, tpr, label='ROC curve (area = %.2f)' %auc)\nplt.plot([0, 1], [0, 1], linestyle='--', lw=2, color='r', label='Random guess')\nplt.title('AUC & ROC curve')\nplt.xlabel('False Positive Rate')\nplt.ylabel('True Positive Rate')\nplt.grid()\nplt.legend()\nplt.show()",
   "outputs": [
    {
     "data": {
      "text/plain": "<Figure size 640x480 with 1 Axes>",
      "image/png": "[encoded data removed]"
     },
     "metadata": {
      "image/png": {
       "width": 567,
       "height": 455
      }
     },
     "output_type": "display_data"
    }
   ],
   "execution_count": null
  },
  {
   "cell_type": "code",
   "metadata": {
    "tags": [],
    "cell_id": "00035-9311fa2e-8126-498a-aac3-2406bdd08c6c",
    "deepnote_to_be_reexecuted": false,
    "source_hash": "bcf418a8",
    "execution_start": 1621784236934,
    "execution_millis": 19,
    "deepnote_cell_type": "code"
   },
   "source": "from sklearn.metrics import balanced_accuracy_score\nbalanced_accuracy_score(yTest, y_pred_g)",
   "outputs": [
    {
     "output_type": "execute_result",
     "execution_count": 21,
     "data": {
      "text/plain": "0.4981039059537353"
     },
     "metadata": {}
    }
   ],
   "execution_count": null
  },
  {
   "cell_type": "markdown",
   "source": "## Handle Imbalanced Data",
   "metadata": {
    "tags": [],
    "cell_id": "00030-70b363b2-b125-4d22-8b64-c161cd888246",
    "deepnote_cell_type": "markdown"
   }
  },
  {
   "cell_type": "code",
   "metadata": {
    "tags": [],
    "cell_id": "00030-108c05e0-23a0-4185-b57b-ed3c94f10a83",
    "deepnote_to_be_reexecuted": false,
    "source_hash": "f50f5c94",
    "execution_start": 1621784236950,
    "execution_millis": 212,
    "deepnote_cell_type": "code"
   },
   "source": "from imblearn.over_sampling import SMOTE\nsmote = SMOTE(sampling_strategy='auto', k_neighbors=5, random_state=42)\n\nX_smote, y_smote = smote.fit_resample(X,y)",
   "outputs": [],
   "execution_count": null
  },
  {
   "cell_type": "code",
   "metadata": {
    "tags": [],
    "cell_id": "00032-3983347f-431b-4cbe-b62d-970a016f53a1",
    "deepnote_to_be_reexecuted": false,
    "source_hash": "7bef2add",
    "execution_start": 1621784237166,
    "execution_millis": 7,
    "deepnote_cell_type": "code"
   },
   "source": "# Split into train and val/test sets\nxTrain_smote, xTest_smote, yTrain_smote, yTest_smote = train_test_split(X_smote,  y_smote, test_size=0.4)",
   "outputs": [],
   "execution_count": null
  },
  {
   "cell_type": "code",
   "metadata": {
    "tags": [],
    "cell_id": "00040-a0c4e78c-650b-4aaf-a68f-207848cd80be",
    "deepnote_to_be_reexecuted": false,
    "source_hash": "e36a7cdf",
    "execution_start": 1621784237177,
    "execution_millis": 25,
    "deepnote_cell_type": "code"
   },
   "source": "print(f\"yTrain_smote = {Counter(yTrain_smote)}\")\nprint(f\"                   0: {Counter(yTrain_smote)[0]/len(yTrain_smote):.0%},  1: {Counter(yTrain_smote)[1]/len(yTrain_smote):.0%}\")\nprint()\nprint(f\"yTest_smote = {Counter (yTest_smote)}\")\nprint(f\"                  0: {Counter(yTest_smote)[0]/len(yTest_smote):.0%},  1: {Counter(yTest_smote)[1]/len(yTest_smote):.0%}\")",
   "outputs": [
    {
     "name": "stdout",
     "text": "yTrain_smote = Counter({0: 3981, 1: 3937})\n                   0: 50%,  1: 50%\n\nyTest_smote = Counter({1: 2662, 0: 2618})\n                  0: 50%,  1: 50%\n",
     "output_type": "stream"
    }
   ],
   "execution_count": null
  },
  {
   "cell_type": "markdown",
   "source": "## Gaussian Naive Bayes with balanced data ",
   "metadata": {
    "tags": [],
    "cell_id": "00032-c090202c-8d68-4c6d-b27a-be9b1806bdb8",
    "deepnote_cell_type": "markdown"
   }
  },
  {
   "cell_type": "code",
   "metadata": {
    "tags": [],
    "cell_id": "00032-b3d4cefd-9edb-4638-8919-23dc42c5086f",
    "deepnote_to_be_reexecuted": false,
    "source_hash": "e4f46d49",
    "execution_start": 1621784237198,
    "execution_millis": 16,
    "deepnote_cell_type": "code"
   },
   "source": "gnb = GaussianNB()\ny_pred_g_smote = gnb.fit(xTrain_smote, yTrain_smote).predict(xTest_smote)",
   "outputs": [],
   "execution_count": null
  },
  {
   "cell_type": "markdown",
   "source": "### Evaluation the Algorithm",
   "metadata": {
    "tags": [],
    "cell_id": "00035-ef556616-b1b2-4265-b3c2-cf45cd54330b",
    "deepnote_cell_type": "markdown"
   }
  },
  {
   "cell_type": "markdown",
   "source": "#### Classification Report",
   "metadata": {
    "tags": [],
    "cell_id": "00040-467acbdb-cc22-4c2a-8047-fcf1179c27b8",
    "deepnote_cell_type": "markdown"
   }
  },
  {
   "cell_type": "code",
   "metadata": {
    "tags": [],
    "cell_id": "00035-8a58311a-6c15-4adb-87f4-96bfa7da9cf9",
    "deepnote_to_be_reexecuted": false,
    "source_hash": "ed6813e",
    "execution_start": 1621784237222,
    "execution_millis": 22,
    "deepnote_cell_type": "code"
   },
   "source": "print(\"Report:\",metrics.classification_report(yTest_smote, y_pred_g_smote))\n    ",
   "outputs": [
    {
     "name": "stdout",
     "text": "Report:               precision    recall  f1-score   support\n\n           0       0.51      0.97      0.66      2618\n           1       0.69      0.08      0.14      2662\n\n    accuracy                           0.52      5280\n   macro avg       0.60      0.52      0.40      5280\nweighted avg       0.60      0.52      0.40      5280\n\n",
     "output_type": "stream"
    }
   ],
   "execution_count": null
  },
  {
   "cell_type": "markdown",
   "source": "\n",
   "metadata": {
    "cell_id": "00047-187302b5-19a9-4ce6-8ce2-9d2e9909ad53",
    "deepnote_cell_type": "markdown"
   }
  },
  {
   "cell_type": "markdown",
   "source": "#### Confusion Matrix",
   "metadata": {
    "tags": [],
    "cell_id": "00043-cc9201ed-250b-4f14-9e7f-a2ede81c6f75",
    "deepnote_cell_type": "markdown"
   }
  },
  {
   "cell_type": "code",
   "metadata": {
    "tags": [],
    "cell_id": "00038-0ed2cb81-ddba-4f7d-a4d2-1052910a04b8",
    "deepnote_to_be_reexecuted": false,
    "source_hash": "9a8b098e",
    "execution_start": 1621784237242,
    "execution_millis": 52,
    "deepnote_cell_type": "code"
   },
   "source": "pd.DataFrame(metrics.confusion_matrix(yTest_smote, y_pred_g_smote),\n    columns=['Predict No', 'Predict Yes'],\n    index=['Actual No', 'Actual Yes'])",
   "outputs": [
    {
     "output_type": "execute_result",
     "execution_count": 27,
     "data": {
      "application/vnd.deepnote.dataframe.v2+json": {
       "row_count": 2,
       "column_count": 2,
       "columns": [
        {
         "name": "Predict No",
         "dtype": "int64",
         "stats": {
          "unique_count": 2,
          "nan_count": 0,
          "min": "2458",
          "max": "2528",
          "histogram": [
           {
            "bin_start": 2458,
            "bin_end": 2465,
            "count": 1
           },
           {
            "bin_start": 2465,
            "bin_end": 2472,
            "count": 0
           },
           {
            "bin_start": 2472,
            "bin_end": 2479,
            "count": 0
           },
           {
            "bin_start": 2479,
            "bin_end": 2486,
            "count": 0
           },
           {
            "bin_start": 2486,
            "bin_end": 2493,
            "count": 0
           },
           {
            "bin_start": 2493,
            "bin_end": 2500,
            "count": 0
           },
           {
            "bin_start": 2500,
            "bin_end": 2507,
            "count": 0
           },
           {
            "bin_start": 2507,
            "bin_end": 2514,
            "count": 0
           },
           {
            "bin_start": 2514,
            "bin_end": 2521,
            "count": 0
           },
           {
            "bin_start": 2521,
            "bin_end": 2528,
            "count": 1
           }
          ]
         }
        },
        {
         "name": "Predict Yes",
         "dtype": "int64",
         "stats": {
          "unique_count": 2,
          "nan_count": 0,
          "min": "90",
          "max": "204",
          "histogram": [
           {
            "bin_start": 90,
            "bin_end": 101.4,
            "count": 1
           },
           {
            "bin_start": 101.4,
            "bin_end": 112.8,
            "count": 0
           },
           {
            "bin_start": 112.8,
            "bin_end": 124.2,
            "count": 0
           },
           {
            "bin_start": 124.2,
            "bin_end": 135.6,
            "count": 0
           },
           {
            "bin_start": 135.6,
            "bin_end": 147,
            "count": 0
           },
           {
            "bin_start": 147,
            "bin_end": 158.4,
            "count": 0
           },
           {
            "bin_start": 158.4,
            "bin_end": 169.8,
            "count": 0
           },
           {
            "bin_start": 169.8,
            "bin_end": 181.2,
            "count": 0
           },
           {
            "bin_start": 181.2,
            "bin_end": 192.60000000000002,
            "count": 0
           },
           {
            "bin_start": 192.60000000000002,
            "bin_end": 204,
            "count": 1
           }
          ]
         }
        },
        {
         "name": "_deepnote_index_column",
         "dtype": "object"
        }
       ],
       "rows_top": [
        {
         "Predict No": 2528,
         "Predict Yes": 90,
         "_deepnote_index_column": "Actual No"
        },
        {
         "Predict No": 2458,
         "Predict Yes": 204,
         "_deepnote_index_column": "Actual Yes"
        }
       ],
       "rows_bottom": null
      },
      "text/plain": "            Predict No  Predict Yes\nActual No         2528           90\nActual Yes        2458          204",
      "text/html": "<div>\n<style scoped>\n    .dataframe tbody tr th:only-of-type {\n        vertical-align: middle;\n    }\n\n    .dataframe tbody tr th {\n        vertical-align: top;\n    }\n\n    .dataframe thead th {\n        text-align: right;\n    }\n</style>\n<table border=\"1\" class=\"dataframe\">\n  <thead>\n    <tr style=\"text-align: right;\">\n      <th></th>\n      <th>Predict No</th>\n      <th>Predict Yes</th>\n    </tr>\n  </thead>\n  <tbody>\n    <tr>\n      <th>Actual No</th>\n      <td>2528</td>\n      <td>90</td>\n    </tr>\n    <tr>\n      <th>Actual Yes</th>\n      <td>2458</td>\n      <td>204</td>\n    </tr>\n  </tbody>\n</table>\n</div>"
     },
     "metadata": {}
    }
   ],
   "execution_count": null
  },
  {
   "cell_type": "markdown",
   "source": "#### Mean Squared Error",
   "metadata": {
    "tags": [],
    "cell_id": "00045-5ff95de8-c0e1-48fa-8044-8e417a7413c8",
    "deepnote_cell_type": "markdown"
   }
  },
  {
   "cell_type": "code",
   "metadata": {
    "tags": [],
    "cell_id": "00039-7d101388-57ad-4f09-aa40-431ed3273c8e",
    "deepnote_to_be_reexecuted": false,
    "source_hash": "2eeb0609",
    "execution_start": 1621784237283,
    "execution_millis": 11,
    "deepnote_cell_type": "code"
   },
   "source": "mean_squared_error(yTest_smote, y_pred_g_smote)",
   "outputs": [
    {
     "output_type": "execute_result",
     "execution_count": 28,
     "data": {
      "text/plain": "0.4825757575757576"
     },
     "metadata": {}
    }
   ],
   "execution_count": null
  },
  {
   "cell_type": "markdown",
   "source": "#### Mean Absolute Error",
   "metadata": {
    "tags": [],
    "cell_id": "00047-a372d25b-f86b-4fb0-a08c-bd648edabf78",
    "deepnote_cell_type": "markdown"
   }
  },
  {
   "cell_type": "code",
   "metadata": {
    "tags": [],
    "cell_id": "00040-9d1264dc-13f5-4116-83eb-b9501985d21e",
    "deepnote_to_be_reexecuted": false,
    "source_hash": "16ddb696",
    "execution_start": 1621784237284,
    "execution_millis": 10,
    "deepnote_cell_type": "code"
   },
   "source": "mean_absolute_error(yTest_smote, y_pred_g_smote)",
   "outputs": [
    {
     "output_type": "execute_result",
     "execution_count": 29,
     "data": {
      "text/plain": "0.4825757575757576"
     },
     "metadata": {}
    }
   ],
   "execution_count": null
  },
  {
   "cell_type": "markdown",
   "source": "#### ROC Curve",
   "metadata": {
    "tags": [],
    "cell_id": "00049-6abb2888-5757-40ba-bb5f-78eef321eef3",
    "deepnote_cell_type": "markdown"
   }
  },
  {
   "cell_type": "code",
   "metadata": {
    "tags": [],
    "cell_id": "00041-364c5ddc-54ac-4d8a-8523-091b26d24bea",
    "deepnote_to_be_reexecuted": false,
    "source_hash": "fb8174d8",
    "execution_start": 1621784237285,
    "execution_millis": 12,
    "deepnote_cell_type": "code"
   },
   "source": "fpr, tpr, thresh = metrics.roc_curve(yTest_smote, y_pred_g_smote)\nauc = metrics.auc(fpr, tpr)\nprint(\"Area Under ROC curve is :\", auc)",
   "outputs": [
    {
     "name": "stdout",
     "text": "Area Under ROC curve is : 0.5211283611866986\n",
     "output_type": "stream"
    }
   ],
   "execution_count": null
  },
  {
   "cell_type": "code",
   "metadata": {
    "tags": [],
    "cell_id": "00042-6ad452c0-0eaf-413e-ac03-a6c46dc807c6",
    "deepnote_to_be_reexecuted": false,
    "source_hash": "9913864e",
    "execution_start": 1621784237292,
    "execution_millis": 191,
    "deepnote_cell_type": "code"
   },
   "source": "plt.plot(fpr, tpr, label='ROC curve (area = %.2f)' %auc)\nplt.plot([0, 1], [0, 1], linestyle='--', lw=2, color='r', label='Random guess')\nplt.title('AUC & ROC curve')\nplt.xlabel('False Positive Rate')\nplt.ylabel('True Positive Rate')\nplt.grid()\nplt.legend()\nplt.show()",
   "outputs": [
    {
     "data": {
      "text/plain": "<Figure size 640x480 with 1 Axes>",
      "image/png": "[encoded data removed]"
     },
     "metadata": {
      "image/png": {
       "width": 567,
       "height": 455
      }
     },
     "output_type": "display_data"
    }
   ],
   "execution_count": null
  },
  {
   "cell_type": "code",
   "metadata": {
    "tags": [],
    "cell_id": "00055-41016907-64af-4874-af34-26494078c7e7",
    "deepnote_to_be_reexecuted": false,
    "source_hash": "b9965515",
    "execution_start": 1621784237481,
    "execution_millis": 13,
    "deepnote_cell_type": "code"
   },
   "source": "from sklearn.metrics import balanced_accuracy_score\nbalanced_accuracy_score(yTest_smote, y_pred_g_smote)",
   "outputs": [
    {
     "output_type": "execute_result",
     "execution_count": 32,
     "data": {
      "text/plain": "0.5211283611866986"
     },
     "metadata": {}
    }
   ],
   "execution_count": null
  },
  {
   "cell_type": "markdown",
   "source": "<a style='text-decoration:none;line-height:16px;display:flex;color:#5B5B62;padding:10px;justify-content:end;' href='https://deepnote.com?utm_source=created-in-deepnote-cell&projectId=41a30818-97d0-4136-9b87-e05a91508403' target=\"_blank\">\n<img alt='Created in deepnote.com' style='display:inline;max-height:16px;margin:0px;margin-right:7.5px;' src='data:image/svg+xml;base64,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' > </img>\nCreated in <span style='font-weight:600;margin-left:4px;'>Deepnote</span></a>",
   "metadata": {
    "tags": [],
    "created_in_deepnote_cell": true,
    "deepnote_cell_type": "markdown"
   }
  }
 ],
 "nbformat": 4,
 "nbformat_minor": 4,
 "metadata": {
  "kernelspec": {
   "display_name": "Python 3",
   "language": "python",
   "name": "python3"
  },
  "language_info": {
   "codemirror_mode": {
    "name": "ipython",
    "version": 3
   },
   "file_extension": ".py",
   "mimetype": "text/x-python",
   "name": "python",
   "nbconvert_exporter": "python",
   "pygments_lexer": "ipython3",
   "version": "3.8.3"
  },
  "deepnote_notebook_id": "74f113da-4c58-4bb0-990a-06e1ae1df552",
  "deepnote": {},
  "deepnote_execution_queue": []
 }
}