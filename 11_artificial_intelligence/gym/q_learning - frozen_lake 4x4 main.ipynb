{
 "cells": [
  {
   "cell_type": "markdown",
   "metadata": {},
   "source": [
    "# Frozen Lake\n",
    "\n",
    "Applying the technique demonstrated in q_learning.ipynb to the Frozen Lake environment.  \n",
    "(https://www.gymlibrary.ml/environments/toy_text/frozen_lake/)"
   ]
  },
  {
   "cell_type": "code",
   "execution_count": 35,
   "metadata": {},
   "outputs": [],
   "source": [
    "import gym\n",
    "import numpy as np\n",
    "import pandas as pd\n",
    "\n",
    "from qlearn import DiscreteQTable, DeepQTableSeq, plot_rewards, basic_training, run_episode"
   ]
  },
  {
   "cell_type": "markdown",
   "metadata": {},
   "source": [
    "Create a new enviroment, reset and show the state:"
   ]
  },
  {
   "cell_type": "code",
   "execution_count": 36,
   "metadata": {},
   "outputs": [
    {
     "name": "stdout",
     "output_type": "stream",
     "text": [
      "\n",
      "\u001b[41mS\u001b[0mFFF\n",
      "FHFH\n",
      "FFFH\n",
      "HFFG\n",
      "\n",
      "Action Space: Discrete(4)\n",
      "Observation Space: Discrete(16)\n"
     ]
    }
   ],
   "source": [
    "lake_env = gym.make('FrozenLake-v1', is_slippery=False) #Standard: 'FrozenLake-v1', desc=None,map_name=\"4x4\", is_slippery=True\n",
    "lake_env.reset() \n",
    "lake_env.render()\n",
    "\n",
    "print('\\nAction Space: {}'.format(lake_env.action_space))\n",
    "print('Observation Space: {}'.format(lake_env.observation_space))\n"
   ]
  },
  {
   "cell_type": "markdown",
   "metadata": {},
   "source": [
    "Move the agent and print new state"
   ]
  },
  {
   "cell_type": "code",
   "execution_count": 37,
   "metadata": {},
   "outputs": [
    {
     "name": "stdout",
     "output_type": "stream",
     "text": [
      "  (Down)\n",
      "SFFF\n",
      "\u001b[41mF\u001b[0mHFH\n",
      "FFFH\n",
      "HFFG\n",
      "new_state: 4   reward: 0.0   done: False   prob: {'prob': 1.0}\n"
     ]
    }
   ],
   "source": [
    "new_state, reward, done, info = lake_env.step(1) # 0:LEFT, 1:DOWN, 2: RIGHT, 3: UP\n",
    "lake_env.render()\n",
    "print ('new_state:', new_state, '  reward:', reward, '  done:', done, '  prob:', info) # done:true:hole"
   ]
  },
  {
   "cell_type": "code",
   "execution_count": 38,
   "metadata": {},
   "outputs": [
    {
     "name": "stdout",
     "output_type": "stream",
     "text": [
      "  (Right)\n",
      "SFFF\n",
      "F\u001b[41mH\u001b[0mFH\n",
      "FFFH\n",
      "HFFG\n",
      "new_state: 5   reward: 0.0   done: True   prob: {'prob': 1.0}\n"
     ]
    }
   ],
   "source": [
    "new_state, reward, done, info = lake_env.step(2)\n",
    "lake_env.render()\n",
    "print ('new_state:', new_state, '  reward:', reward, '  done:', done, '  prob:', info)"
   ]
  },
  {
   "cell_type": "code",
   "execution_count": 39,
   "metadata": {},
   "outputs": [
    {
     "name": "stdout",
     "output_type": "stream",
     "text": [
      "  (Right)\n",
      "SFFF\n",
      "F\u001b[41mH\u001b[0mFH\n",
      "FFFH\n",
      "HFFG\n",
      "new_state: 5   reward: 0   done: True   prob: {'prob': 1.0}\n"
     ]
    }
   ],
   "source": [
    "new_state, reward, done, info = lake_env.step(2)\n",
    "lake_env.render()\n",
    "print ('new_state:', new_state, '  reward:', reward, '  done:', done, '  prob:', info)"
   ]
  },
  {
   "cell_type": "markdown",
   "metadata": {},
   "source": [
    "if agent in a hole, done = True,  reset again and reiniciate"
   ]
  },
  {
   "cell_type": "code",
   "execution_count": 40,
   "metadata": {},
   "outputs": [
    {
     "name": "stdout",
     "output_type": "stream",
     "text": [
      "\n",
      "\u001b[41mS\u001b[0mFFF\n",
      "FHFH\n",
      "FFFH\n",
      "HFFG\n"
     ]
    }
   ],
   "source": [
    "lake_env = gym.make('FrozenLake-v1', is_slippery=True) #This time we will consider is_slippery=True\n",
    "lake_env.reset() \n",
    "lake_env.render()"
   ]
  },
  {
   "cell_type": "markdown",
   "metadata": {},
   "source": [
    "Randomly run episodes and learning:"
   ]
  },
  {
   "cell_type": "code",
   "execution_count": 41,
   "metadata": {},
   "outputs": [
    {
     "name": "stdout",
     "output_type": "stream",
     "text": [
      "Random agent reward 0.0 in 18 steps\n"
     ]
    }
   ],
   "source": [
    "result = run_episode(lake_env, frames='ansi')\n",
    "print('Random agent reward {} in {} steps'.format(result.reward, len(result.frames)))"
   ]
  },
  {
   "cell_type": "code",
   "execution_count": 42,
   "metadata": {},
   "outputs": [
    {
     "name": "stdout",
     "output_type": "stream",
     "text": [
      "  (Right)\n",
      "SFFF\n",
      "F\u001b[41mH\u001b[0mFH\n",
      "FFFH\n",
      "HFFG\n",
      "\n"
     ]
    }
   ],
   "source": [
    "import time\n",
    "from IPython import display\n",
    "\n",
    "for frame in result.frames:\n",
    "    display.clear_output(wait=True)\n",
    "    print(frame)\n",
    "    time.sleep(0.1)"
   ]
  },
  {
   "cell_type": "code",
   "execution_count": 43,
   "metadata": {},
   "outputs": [
    {
     "name": "stdout",
     "output_type": "stream",
     "text": [
      "  (Down)\n",
      "\u001b[41mS\u001b[0mFFF\n",
      "FHFH\n",
      "FFFH\n",
      "HFFG\n",
      "\n",
      "  (Up)\n",
      "\u001b[41mS\u001b[0mFFF\n",
      "FHFH\n",
      "FFFH\n",
      "HFFG\n",
      "\n",
      "  (Right)\n",
      "S\u001b[41mF\u001b[0mFF\n",
      "FHFH\n",
      "FFFH\n",
      "HFFG\n",
      "\n"
     ]
    }
   ],
   "source": [
    "print (result.frames[1])\n",
    "print (result.frames[2])\n",
    "print (result.frames[3])"
   ]
  },
  {
   "cell_type": "markdown",
   "metadata": {},
   "source": [
    "Since the agent get the reward only in the end, the model will have difficulty with learning.   \n",
    "In this case, exploration (random moves) is crucial, but we need to change the reward in order to influence the behaviour of the learning (e.g. assigning scores for not falling into the holes).   \n",
    "We also will change some parameters in the model for balancing exploration vs. exploitation.   "
   ]
  },
  {
   "cell_type": "markdown",
   "metadata": {},
   "source": [
    "The FrozenLake environment is highly stochastic, with a very sparse reward: only when the agent reaches the goal, a reward of +1 is obtained. This means that if we do not set a discount rate, the agent can keep on wandering around without receiving a learning “signal” that can be propagated back through the preceding state-actions (since falling into the holes does not result in a negative reward) and thus learns very slowly. Some parameter will be configurated to help converging and improve learning: gamma, alpha and epsilon."
   ]
  },
  {
   "cell_type": "code",
   "execution_count": 125,
   "metadata": {},
   "outputs": [],
   "source": [
    "# Table to include the results\n",
    "df_results = pd.DataFrame(columns = ['variable', 'value', 'Average reward'])"
   ]
  },
  {
   "cell_type": "code",
   "execution_count": 295,
   "metadata": {},
   "outputs": [
    {
     "name": "stdout",
     "output_type": "stream",
     "text": [
      "\n",
      "\u001b[41mS\u001b[0mFFF\n",
      "FHFH\n",
      "FFFH\n",
      "HFFG\n"
     ]
    }
   ],
   "source": [
    "# Restart\n",
    "lake_env = gym.make('FrozenLake-v1', is_slippery=True) #This time we will consider is_slippery=True\n",
    "lake_env.reset() \n",
    "lake_env.render()\n",
    "\n",
    "qtable = DiscreteQTable(lake_env)"
   ]
  },
  {
   "cell_type": "code",
   "execution_count": 296,
   "metadata": {},
   "outputs": [],
   "source": [
    "# --HYPERPARAMETERS--\n",
    "total_episodes = 1000\t    # Total episodes 1000\n",
    "alpha = 0.3 \t\t        # Learning rate, not too high, not too low 0.6\n",
    "gamma = 0.85 \t\t\t\t# Discounting rate 0.99\n",
    "\n",
    "# Exploration parameters\n",
    "epsilon = 1.0 \t\t\t\t# Exploration rate 1\n",
    "epsilon_min = 0.00001\t\t# Min exploration probability 0.00001\n",
    "epsilon_decay = 0.2\t\t    # Exponential decay rate for exploration probability 0.2"
   ]
  },
  {
   "cell_type": "code",
   "execution_count": 297,
   "metadata": {},
   "outputs": [
    {
     "data": {
      "text/plain": [
       "<AxesSubplot:xlabel='Episode', ylabel='Total Reward'>"
      ]
     },
     "execution_count": 297,
     "metadata": {},
     "output_type": "execute_result"
    },
    {
     "data": {
      "image/png": "[encoded data removed]",
      "text/plain": [
       "<Figure size 432x288 with 1 Axes>"
      ]
     },
     "metadata": {
      "needs_background": "light"
     },
     "output_type": "display_data"
    }
   ],
   "source": [
    "plot_rewards(basic_training(lake_env, qtable, episodes=total_episodes, alpha=alpha, gamma=gamma, epsilon=epsilon, epsilon_decay=epsilon_decay, epsilon_min=epsilon_min))\n",
    "#standard: alpha=0.1, gamma=0.6, epsilon=0.1, epsilon_decay=0, epsilon_min=0.01, verbose: bool=False"
   ]
  },
  {
   "cell_type": "markdown",
   "metadata": {},
   "source": [
    "Now we train our agent to learn the Q-table and have a look at rewards:"
   ]
  },
  {
   "cell_type": "code",
   "execution_count": 298,
   "metadata": {},
   "outputs": [
    {
     "name": "stdout",
     "output_type": "stream",
     "text": [
      "Average reward: 0.758\n"
     ]
    },
    {
     "data": {
      "text/plain": [
       "<AxesSubplot:xlabel='Episode', ylabel='Total Reward'>"
      ]
     },
     "execution_count": 298,
     "metadata": {},
     "output_type": "execute_result"
    },
    {
     "data": {
      "image/png": "[encoded data removed]",
      "text/plain": [
       "<Figure size 432x288 with 1 Axes>"
      ]
     },
     "metadata": {
      "needs_background": "light"
     },
     "output_type": "display_data"
    }
   ],
   "source": [
    "rewards = [run_episode(lake_env, qtable=qtable).reward for _ in range(1000)]\n",
    "print('Average reward: {}'.format(np.mean((rewards))))\n",
    "\n",
    "plot_rewards(rewards)\n"
   ]
  },
  {
   "cell_type": "code",
   "execution_count": 299,
   "metadata": {},
   "outputs": [],
   "source": [
    "df_results.loc[len(df_results)+1] = ['alpha=0.3/gamma=0.85/epsilon_decay=0.2/epsilon_min=0.00001', epsilon_min, np.mean(rewards)]#"
   ]
  },
  {
   "cell_type": "code",
   "execution_count": 301,
   "metadata": {},
   "outputs": [
    {
     "data": {
      "text/html": [
       "<div>\n",
       "<style scoped>\n",
       "    .dataframe tbody tr th:only-of-type {\n",
       "        vertical-align: middle;\n",
       "    }\n",
       "\n",
       "    .dataframe tbody tr th {\n",
       "        vertical-align: top;\n",
       "    }\n",
       "\n",
       "    .dataframe thead th {\n",
       "        text-align: right;\n",
       "    }\n",
       "</style>\n",
       "<table border=\"1\" class=\"dataframe\">\n",
       "  <thead>\n",
       "    <tr style=\"text-align: right;\">\n",
       "      <th></th>\n",
       "      <th>variable</th>\n",
       "      <th>value</th>\n",
       "      <th>Average reward</th>\n",
       "    </tr>\n",
       "  </thead>\n",
       "  <tbody>\n",
       "    <tr>\n",
       "      <th>1</th>\n",
       "      <td>alpha</td>\n",
       "      <td>0.600000</td>\n",
       "      <td>0.408</td>\n",
       "    </tr>\n",
       "    <tr>\n",
       "      <th>2</th>\n",
       "      <td>alpha</td>\n",
       "      <td>0.500000</td>\n",
       "      <td>0.520</td>\n",
       "    </tr>\n",
       "    <tr>\n",
       "      <th>3</th>\n",
       "      <td>alpha</td>\n",
       "      <td>0.400000</td>\n",
       "      <td>0.738</td>\n",
       "    </tr>\n",
       "    <tr>\n",
       "      <th>4</th>\n",
       "      <td>alpha</td>\n",
       "      <td>0.300000</td>\n",
       "      <td>0.756</td>\n",
       "    </tr>\n",
       "    <tr>\n",
       "      <th>5</th>\n",
       "      <td>alpha</td>\n",
       "      <td>0.200000</td>\n",
       "      <td>0.507</td>\n",
       "    </tr>\n",
       "    <tr>\n",
       "      <th>6</th>\n",
       "      <td>gamma /alpha=0.3</td>\n",
       "      <td>0.900000</td>\n",
       "      <td>0.738</td>\n",
       "    </tr>\n",
       "    <tr>\n",
       "      <th>7</th>\n",
       "      <td>gamma /alpha=0.3</td>\n",
       "      <td>0.950000</td>\n",
       "      <td>0.527</td>\n",
       "    </tr>\n",
       "    <tr>\n",
       "      <th>8</th>\n",
       "      <td>gamma /alpha=0.3</td>\n",
       "      <td>0.850000</td>\n",
       "      <td>0.747</td>\n",
       "    </tr>\n",
       "    <tr>\n",
       "      <th>9</th>\n",
       "      <td>gamma /alpha=0.3</td>\n",
       "      <td>0.800000</td>\n",
       "      <td>0.744</td>\n",
       "    </tr>\n",
       "    <tr>\n",
       "      <th>10</th>\n",
       "      <td>epsilon_decay /alpha=0.3/ gamma=0.85</td>\n",
       "      <td>0.200000</td>\n",
       "      <td>0.759</td>\n",
       "    </tr>\n",
       "    <tr>\n",
       "      <th>11</th>\n",
       "      <td>epsilon_decay /alpha=0.3/ gamma=0.85</td>\n",
       "      <td>0.100000</td>\n",
       "      <td>0.729</td>\n",
       "    </tr>\n",
       "    <tr>\n",
       "      <th>12</th>\n",
       "      <td>epsilon_decay /alpha=0.3/ gamma=0.85</td>\n",
       "      <td>0.300000</td>\n",
       "      <td>0.733</td>\n",
       "    </tr>\n",
       "    <tr>\n",
       "      <th>13</th>\n",
       "      <td>epsilon_min /alpha=0.3/gamma=0.85/epsilon_deca...</td>\n",
       "      <td>0.000010</td>\n",
       "      <td>0.776</td>\n",
       "    </tr>\n",
       "    <tr>\n",
       "      <th>14</th>\n",
       "      <td>epsilon_min /alpha=0.3/gamma=0.85/epsilon_deca...</td>\n",
       "      <td>0.000100</td>\n",
       "      <td>0.659</td>\n",
       "    </tr>\n",
       "    <tr>\n",
       "      <th>15</th>\n",
       "      <td>epsilon_min /alpha=0.3/gamma=0.85/epsilon_deca...</td>\n",
       "      <td>0.000001</td>\n",
       "      <td>0.731</td>\n",
       "    </tr>\n",
       "    <tr>\n",
       "      <th>16</th>\n",
       "      <td>alpha=0.3/gamma=0.85/epsilon_decay=0.2/epsilon...</td>\n",
       "      <td>0.000010</td>\n",
       "      <td>0.758</td>\n",
       "    </tr>\n",
       "  </tbody>\n",
       "</table>\n",
       "</div>"
      ],
      "text/plain": [
       "                                             variable     value  \\\n",
       "1                                               alpha  0.600000   \n",
       "2                                               alpha  0.500000   \n",
       "3                                               alpha  0.400000   \n",
       "4                                               alpha  0.300000   \n",
       "5                                               alpha  0.200000   \n",
       "6                                    gamma /alpha=0.3  0.900000   \n",
       "7                                    gamma /alpha=0.3  0.950000   \n",
       "8                                    gamma /alpha=0.3  0.850000   \n",
       "9                                    gamma /alpha=0.3  0.800000   \n",
       "10               epsilon_decay /alpha=0.3/ gamma=0.85  0.200000   \n",
       "11               epsilon_decay /alpha=0.3/ gamma=0.85  0.100000   \n",
       "12               epsilon_decay /alpha=0.3/ gamma=0.85  0.300000   \n",
       "13  epsilon_min /alpha=0.3/gamma=0.85/epsilon_deca...  0.000010   \n",
       "14  epsilon_min /alpha=0.3/gamma=0.85/epsilon_deca...  0.000100   \n",
       "15  epsilon_min /alpha=0.3/gamma=0.85/epsilon_deca...  0.000001   \n",
       "16  alpha=0.3/gamma=0.85/epsilon_decay=0.2/epsilon...  0.000010   \n",
       "\n",
       "    Average reward  \n",
       "1            0.408  \n",
       "2            0.520  \n",
       "3            0.738  \n",
       "4            0.756  \n",
       "5            0.507  \n",
       "6            0.738  \n",
       "7            0.527  \n",
       "8            0.747  \n",
       "9            0.744  \n",
       "10           0.759  \n",
       "11           0.729  \n",
       "12           0.733  \n",
       "13           0.776  \n",
       "14           0.659  \n",
       "15           0.731  \n",
       "16           0.758  "
      ]
     },
     "execution_count": 301,
     "metadata": {},
     "output_type": "execute_result"
    }
   ],
   "source": [
    "df_results"
   ]
  }
 ],
 "metadata": {
  "interpreter": {
   "hash": "f78d7e7361514bf5fc2f1790832692eb3775ade82ec96c5e470dd51518d94d05"
  },
  "kernelspec": {
   "display_name": "Python 3.7.12 ('aima2021')",
   "language": "python",
   "name": "python3"
  },
  "language_info": {
   "codemirror_mode": {
    "name": "ipython",
    "version": 3
   },
   "file_extension": ".py",
   "mimetype": "text/x-python",
   "name": "python",
   "nbconvert_exporter": "python",
   "pygments_lexer": "ipython3",
   "version": "3.7.12"
  }
 },
 "nbformat": 4,
 "nbformat_minor": 4
}
