{
 "cells": [
  {
   "cell_type": "markdown",
   "metadata": {},
   "source": [
    "## Eno-gastronomic Heritage Collection\n",
    "Data integration and Data Profile Project - 02/2022   \n",
    "Rachel Fanti Coelho Lima"
   ]
  },
  {
   "cell_type": "markdown",
   "metadata": {},
   "source": [
    "## Summary\n",
    "* 1. [Libraries](#libraries)\n",
    "* 2. [Setup](#setup)\n",
    "* 3. [Visualization](#visualization)   \n",
    "     * 3.1 [Producers - location map](#producers_map)\n",
    "     * 3.2 [Producers by grape variety - location map](#producers_by_grape_map)\n",
    "     * 3.3 [Number of producers by Location](#producers_by_loc)\n",
    "     * 3.4 [Percentage of wines by colour](#wines_by_colour)\n",
    "     * 3.5 [Number of wines by certification](#wines_by_certification)\n",
    "     * 3.6 [Number of wines by producer and locality](#wine_by_producer_locality)"
   ]
  },
  {
   "cell_type": "markdown",
   "metadata": {},
   "source": [
    "## 1. Libraries <a class=\"anchor\" id=\"libraries\"></a>"
   ]
  },
  {
   "cell_type": "code",
   "execution_count": 49,
   "metadata": {},
   "outputs": [],
   "source": [
    "import numpy as np\n",
    "import pandas as pd\n",
    "import plotly.express as px\n",
    "from jupyter_dash import JupyterDash\n",
    "import dash\n",
    "from dash import dcc\n",
    "from dash import html\n",
    "from dash.dependencies import Input, Output\n",
    "from SPARQLWrapper import SPARQLWrapper, JSON\n",
    "import sparql_dataframe\n",
    "import warnings\n",
    "warnings.filterwarnings(\"ignore\")"
   ]
  },
  {
   "cell_type": "code",
   "execution_count": 50,
   "metadata": {},
   "outputs": [],
   "source": [
    "#pip install sparqlwrapper\n",
    "#pip install plotly\n",
    "#pip install \"jupyterlab>=3\" \"ipywidgets>=7.6\"\n",
    "#pip install jupyter-dash"
   ]
  },
  {
   "cell_type": "markdown",
   "metadata": {},
   "source": [
    "## 2. Setup <a class=\"anchor\" id=\"setup\"></a>"
   ]
  },
  {
   "cell_type": "code",
   "execution_count": 51,
   "metadata": {},
   "outputs": [
    {
     "data": {
      "text/html": [
       "<div>\n",
       "<style scoped>\n",
       "    .dataframe tbody tr th:only-of-type {\n",
       "        vertical-align: middle;\n",
       "    }\n",
       "\n",
       "    .dataframe tbody tr th {\n",
       "        vertical-align: top;\n",
       "    }\n",
       "\n",
       "    .dataframe thead th {\n",
       "        text-align: right;\n",
       "    }\n",
       "</style>\n",
       "<table border=\"1\" class=\"dataframe\">\n",
       "  <thead>\n",
       "    <tr style=\"text-align: right;\">\n",
       "      <th></th>\n",
       "      <th>cod</th>\n",
       "      <th>wn</th>\n",
       "      <th>sour</th>\n",
       "      <th>col</th>\n",
       "      <th>alc</th>\n",
       "      <th>org_desc</th>\n",
       "      <th>p</th>\n",
       "      <th>lat</th>\n",
       "      <th>long</th>\n",
       "      <th>lau</th>\n",
       "      <th>reg</th>\n",
       "      <th>prov</th>\n",
       "    </tr>\n",
       "  </thead>\n",
       "  <tbody>\n",
       "    <tr>\n",
       "      <th>0</th>\n",
       "      <td>A' Scippata</td>\n",
       "      <td>Costa d'Amalfi</td>\n",
       "      <td>089 856209</td>\n",
       "      <td>Rosso</td>\n",
       "      <td>0.14</td>\n",
       "      <td>Colore rosso intenso, dai rilessi violacei. Pr...</td>\n",
       "      <td>Giuseppe Apicella</td>\n",
       "      <td>40.706354</td>\n",
       "      <td>14.622361</td>\n",
       "      <td>Tramonti</td>\n",
       "      <td>Campania</td>\n",
       "      <td>Salerno</td>\n",
       "    </tr>\n",
       "    <tr>\n",
       "      <th>1</th>\n",
       "      <td>Colle Santa Marina</td>\n",
       "      <td>Costa d'Amalfi</td>\n",
       "      <td>089 856209</td>\n",
       "      <td>Bianco</td>\n",
       "      <td>13,5%</td>\n",
       "      <td>Vino dal colore giallo paglierino. Delicato e ...</td>\n",
       "      <td>Giuseppe Apicella</td>\n",
       "      <td>40.706354</td>\n",
       "      <td>14.622361</td>\n",
       "      <td>Tramonti</td>\n",
       "      <td>Campania</td>\n",
       "      <td>Salerno</td>\n",
       "    </tr>\n",
       "    <tr>\n",
       "      <th>2</th>\n",
       "      <td>Passion</td>\n",
       "      <td>Colli di Salerno</td>\n",
       "      <td>089 856209</td>\n",
       "      <td>Bianco</td>\n",
       "      <td>14,5%</td>\n",
       "      <td>Vino passito dal colore paglierino carico con ...</td>\n",
       "      <td>Giuseppe Apicella</td>\n",
       "      <td>40.706354</td>\n",
       "      <td>14.622361</td>\n",
       "      <td>Tramonti</td>\n",
       "      <td>Campania</td>\n",
       "      <td>Salerno</td>\n",
       "    </tr>\n",
       "    <tr>\n",
       "      <th>3</th>\n",
       "      <td>Piedirosso</td>\n",
       "      <td>Colli di Salerno</td>\n",
       "      <td>089 856209</td>\n",
       "      <td>Rosso</td>\n",
       "      <td>11,5%</td>\n",
       "      <td>Vino dal colore rosso rubino con netti rifless...</td>\n",
       "      <td>Giuseppe Apicella</td>\n",
       "      <td>40.706354</td>\n",
       "      <td>14.622361</td>\n",
       "      <td>Tramonti</td>\n",
       "      <td>Campania</td>\n",
       "      <td>Salerno</td>\n",
       "    </tr>\n",
       "    <tr>\n",
       "      <th>4</th>\n",
       "      <td>Rosato</td>\n",
       "      <td>Costa d'Amalfi</td>\n",
       "      <td>089 856209</td>\n",
       "      <td>Rosato</td>\n",
       "      <td>12,5%</td>\n",
       "      <td>Si presenta di colore rosato con tonalitÃ  lil...</td>\n",
       "      <td>Giuseppe Apicella</td>\n",
       "      <td>40.706354</td>\n",
       "      <td>14.622361</td>\n",
       "      <td>Tramonti</td>\n",
       "      <td>Campania</td>\n",
       "      <td>Salerno</td>\n",
       "    </tr>\n",
       "  </tbody>\n",
       "</table>\n",
       "</div>"
      ],
      "text/plain": [
       "                  cod                wn        sour     col    alc  \\\n",
       "0         A' Scippata    Costa d'Amalfi  089 856209   Rosso   0.14   \n",
       "1  Colle Santa Marina    Costa d'Amalfi  089 856209  Bianco  13,5%   \n",
       "2             Passion  Colli di Salerno  089 856209  Bianco  14,5%   \n",
       "3          Piedirosso  Colli di Salerno  089 856209   Rosso  11,5%   \n",
       "4              Rosato    Costa d'Amalfi  089 856209  Rosato  12,5%   \n",
       "\n",
       "                                            org_desc                  p  \\\n",
       "0  Colore rosso intenso, dai rilessi violacei. Pr...  Giuseppe Apicella   \n",
       "1  Vino dal colore giallo paglierino. Delicato e ...  Giuseppe Apicella   \n",
       "2  Vino passito dal colore paglierino carico con ...  Giuseppe Apicella   \n",
       "3  Vino dal colore rosso rubino con netti rifless...  Giuseppe Apicella   \n",
       "4  Si presenta di colore rosato con tonalitÃ  lil...  Giuseppe Apicella   \n",
       "\n",
       "         lat       long       lau       reg     prov  \n",
       "0  40.706354  14.622361  Tramonti  Campania  Salerno  \n",
       "1  40.706354  14.622361  Tramonti  Campania  Salerno  \n",
       "2  40.706354  14.622361  Tramonti  Campania  Salerno  \n",
       "3  40.706354  14.622361  Tramonti  Campania  Salerno  \n",
       "4  40.706354  14.622361  Tramonti  Campania  Salerno  "
      ]
     },
     "execution_count": 51,
     "metadata": {},
     "output_type": "execute_result"
    }
   ],
   "source": [
    "# Set up the endpoint and the URL (http://localhost:8080/sparql).\n",
    "\n",
    "# SPARQLWrapper library https://rdflib.github.io/sparqlwrapper/ is used to send SPARQL queries and get results.    \n",
    "# The following code gets the result as JSON documents and convert it to a Python dict object.\n",
    "\n",
    "sparql = SPARQLWrapper(\"http://localhost:8080/sparql\")\n",
    "\n",
    "q1 = \"\"\"\n",
    "\n",
    "PREFIX : <http://www.semanticweb.org/rachel/ontologies/2022/0/untitled-ontology-30#>\n",
    "\n",
    "SELECT ?cod ?wn ?sour ?col ?alc ?org_desc ?p ?lat ?long ?lau ?reg ?prov\n",
    "WHERE {?w :isProducedBy ?ac;\n",
    ":wWineCode ?cod;\n",
    ":wName ?wn;\n",
    ":hasDescription ?d.\n",
    "?d :wdColour ?col.\n",
    "?d:hasOrganolepticDescription ?od.\n",
    "?ac a :Actor;\n",
    ":hasMainAddress ?ad;\n",
    ":acName ?p.\n",
    "?ad :hasGeolocalization ?g.\n",
    "?g :gLatitude ?lat;\n",
    ":gLongitude ?long.\n",
    "?ad :hasMunicipality ?m.\n",
    "?m :mLauNameNational ?lau;\n",
    ":mNUTSLevel2 ?reg;\n",
    ":mNUTSLevel3 ?prov.\n",
    "OPTIONAL {?w:wSource ?sour.}\n",
    "OPTIONAL {?d :wdAlcoholContent ?alc.}\n",
    "OPTIONAL {?od :wodOrganolepticDescription ?org_desc.}\n",
    "}\n",
    "\n",
    "\"\"\"\n",
    "\n",
    "#sparql.setQuery(q1)\n",
    "#sparql.setReturnFormat(JSON)\n",
    "#results = sparql.query().convert()\n",
    "#print(results)\n",
    "\n",
    "# The SPARQL results are converted to a pandas DataFrame for data analysis.    \n",
    "# The library sparql-dataframe https://github.com/lawlesst/sparql-dataframe is handy for this.\n",
    "\n",
    "endpoint = \"http://localhost:8080/sparql\"\n",
    "\n",
    "#dataset of wine\n",
    "df_w = sparql_dataframe.get(endpoint, q1)\n",
    "df_w.head()"
   ]
  },
  {
   "cell_type": "code",
   "execution_count": 52,
   "metadata": {},
   "outputs": [
    {
     "data": {
      "text/html": [
       "<div>\n",
       "<style scoped>\n",
       "    .dataframe tbody tr th:only-of-type {\n",
       "        vertical-align: middle;\n",
       "    }\n",
       "\n",
       "    .dataframe tbody tr th {\n",
       "        vertical-align: top;\n",
       "    }\n",
       "\n",
       "    .dataframe thead th {\n",
       "        text-align: right;\n",
       "    }\n",
       "</style>\n",
       "<table border=\"1\" class=\"dataframe\">\n",
       "  <thead>\n",
       "    <tr style=\"text-align: right;\">\n",
       "      <th></th>\n",
       "      <th>cod</th>\n",
       "      <th>wn</th>\n",
       "      <th>sour</th>\n",
       "      <th>col</th>\n",
       "      <th>alc</th>\n",
       "      <th>org_desc</th>\n",
       "      <th>perc</th>\n",
       "      <th>grap</th>\n",
       "      <th>p</th>\n",
       "      <th>lat</th>\n",
       "      <th>long</th>\n",
       "      <th>lau</th>\n",
       "      <th>reg</th>\n",
       "      <th>prov</th>\n",
       "    </tr>\n",
       "  </thead>\n",
       "  <tbody>\n",
       "    <tr>\n",
       "      <th>0</th>\n",
       "      <td>Piedirosso</td>\n",
       "      <td>Colli di Salerno</td>\n",
       "      <td>089 856209</td>\n",
       "      <td>Rosso</td>\n",
       "      <td>11,5%</td>\n",
       "      <td>Vino dal colore rosso rubino con netti rifless...</td>\n",
       "      <td>15%</td>\n",
       "      <td>Altri</td>\n",
       "      <td>Giuseppe Apicella</td>\n",
       "      <td>40.706354</td>\n",
       "      <td>14.622361</td>\n",
       "      <td>Tramonti</td>\n",
       "      <td>Campania</td>\n",
       "      <td>Salerno</td>\n",
       "    </tr>\n",
       "    <tr>\n",
       "      <th>1</th>\n",
       "      <td>Passion</td>\n",
       "      <td>Colli di Salerno</td>\n",
       "      <td>089 856209</td>\n",
       "      <td>Bianco</td>\n",
       "      <td>14,5%</td>\n",
       "      <td>Vino passito dal colore paglierino carico con ...</td>\n",
       "      <td>20%</td>\n",
       "      <td>Biancatenera</td>\n",
       "      <td>Giuseppe Apicella</td>\n",
       "      <td>40.706354</td>\n",
       "      <td>14.622361</td>\n",
       "      <td>Tramonti</td>\n",
       "      <td>Campania</td>\n",
       "      <td>Salerno</td>\n",
       "    </tr>\n",
       "    <tr>\n",
       "      <th>2</th>\n",
       "      <td>Passion</td>\n",
       "      <td>Colli di Salerno</td>\n",
       "      <td>089 856209</td>\n",
       "      <td>Bianco</td>\n",
       "      <td>14,5%</td>\n",
       "      <td>Vino passito dal colore paglierino carico con ...</td>\n",
       "      <td>40%</td>\n",
       "      <td>Biancazita</td>\n",
       "      <td>Giuseppe Apicella</td>\n",
       "      <td>40.706354</td>\n",
       "      <td>14.622361</td>\n",
       "      <td>Tramonti</td>\n",
       "      <td>Campania</td>\n",
       "      <td>Salerno</td>\n",
       "    </tr>\n",
       "    <tr>\n",
       "      <th>3</th>\n",
       "      <td>Colle Santa Marina</td>\n",
       "      <td>Costa d'Amalfi</td>\n",
       "      <td>089 856209</td>\n",
       "      <td>Bianco</td>\n",
       "      <td>13,5%</td>\n",
       "      <td>Vino dal colore giallo paglierino. Delicato e ...</td>\n",
       "      <td>20%</td>\n",
       "      <td>Biancolella</td>\n",
       "      <td>Giuseppe Apicella</td>\n",
       "      <td>40.706354</td>\n",
       "      <td>14.622361</td>\n",
       "      <td>Tramonti</td>\n",
       "      <td>Campania</td>\n",
       "      <td>Salerno</td>\n",
       "    </tr>\n",
       "    <tr>\n",
       "      <th>4</th>\n",
       "      <td>Colle Santa Marina</td>\n",
       "      <td>Costa d'Amalfi</td>\n",
       "      <td>089 856209</td>\n",
       "      <td>Bianco</td>\n",
       "      <td>13,5%</td>\n",
       "      <td>Vino dal colore giallo paglierino. Delicato e ...</td>\n",
       "      <td>40%</td>\n",
       "      <td>Falanghina</td>\n",
       "      <td>Giuseppe Apicella</td>\n",
       "      <td>40.706354</td>\n",
       "      <td>14.622361</td>\n",
       "      <td>Tramonti</td>\n",
       "      <td>Campania</td>\n",
       "      <td>Salerno</td>\n",
       "    </tr>\n",
       "  </tbody>\n",
       "</table>\n",
       "</div>"
      ],
      "text/plain": [
       "                  cod                wn        sour     col    alc  \\\n",
       "0          Piedirosso  Colli di Salerno  089 856209   Rosso  11,5%   \n",
       "1             Passion  Colli di Salerno  089 856209  Bianco  14,5%   \n",
       "2             Passion  Colli di Salerno  089 856209  Bianco  14,5%   \n",
       "3  Colle Santa Marina    Costa d'Amalfi  089 856209  Bianco  13,5%   \n",
       "4  Colle Santa Marina    Costa d'Amalfi  089 856209  Bianco  13,5%   \n",
       "\n",
       "                                            org_desc perc          grap  \\\n",
       "0  Vino dal colore rosso rubino con netti rifless...  15%         Altri   \n",
       "1  Vino passito dal colore paglierino carico con ...  20%  Biancatenera   \n",
       "2  Vino passito dal colore paglierino carico con ...  40%    Biancazita   \n",
       "3  Vino dal colore giallo paglierino. Delicato e ...  20%   Biancolella   \n",
       "4  Vino dal colore giallo paglierino. Delicato e ...  40%    Falanghina   \n",
       "\n",
       "                   p        lat       long       lau       reg     prov  \n",
       "0  Giuseppe Apicella  40.706354  14.622361  Tramonti  Campania  Salerno  \n",
       "1  Giuseppe Apicella  40.706354  14.622361  Tramonti  Campania  Salerno  \n",
       "2  Giuseppe Apicella  40.706354  14.622361  Tramonti  Campania  Salerno  \n",
       "3  Giuseppe Apicella  40.706354  14.622361  Tramonti  Campania  Salerno  \n",
       "4  Giuseppe Apicella  40.706354  14.622361  Tramonti  Campania  Salerno  "
      ]
     },
     "execution_count": 52,
     "metadata": {},
     "output_type": "execute_result"
    }
   ],
   "source": [
    "q2 = \"\"\"\n",
    "\n",
    "PREFIX : <http://www.semanticweb.org/rachel/ontologies/2022/0/untitled-ontology-30#>\n",
    "\n",
    "SELECT ?cod ?wn ?sour ?col ?alc ?org_desc ?perc ?grap ?p ?lat ?long ?lau ?reg ?prov\n",
    "WHERE {?w :isProducedBy ?ac;\n",
    ":wWineCode ?cod;\n",
    ":wName ?wn;\n",
    ":hasDescription ?d.\n",
    "?d :wdColour ?col.\n",
    "?d:hasOrganolepticDescription ?od.\n",
    "?ac a :Actor;\n",
    ":hasMainAddress ?ad;\n",
    ":acName ?p.\n",
    "?ad :hasGeolocalization ?g.\n",
    "?g :gLatitude ?lat;\n",
    ":gLongitude ?long.\n",
    "?ad :hasMunicipality ?m.\n",
    "?m :mLauNameNational ?lau;\n",
    ":mNUTSLevel2 ?reg;\n",
    ":mNUTSLevel3 ?prov.\n",
    "OPTIONAL {?w:wSource ?sour.}\n",
    "OPTIONAL {?d :wdAlcoholContent ?alc.}\n",
    "OPTIONAL {?od :wodOrganolepticDescription ?org_desc.}\n",
    "?w :hasGrapeComposition ?gc.\n",
    "?gc :hasGrape ?gv.\n",
    "?gv :gvName ?grap. optional {?gc :wgcPercentageOfGrape ?perc.}\n",
    "}\n",
    "\n",
    "\"\"\"\n",
    "#dataset of grape_composition \n",
    "#(only data for the wines that has grape_composition, more than one line per wine, since they can have more than one grape) )\n",
    "df_g = sparql_dataframe.get(endpoint, q2)\n",
    "df_g.head()"
   ]
  },
  {
   "cell_type": "code",
   "execution_count": 53,
   "metadata": {},
   "outputs": [
    {
     "data": {
      "text/html": [
       "<div>\n",
       "<style scoped>\n",
       "    .dataframe tbody tr th:only-of-type {\n",
       "        vertical-align: middle;\n",
       "    }\n",
       "\n",
       "    .dataframe tbody tr th {\n",
       "        vertical-align: top;\n",
       "    }\n",
       "\n",
       "    .dataframe thead th {\n",
       "        text-align: right;\n",
       "    }\n",
       "</style>\n",
       "<table border=\"1\" class=\"dataframe\">\n",
       "  <thead>\n",
       "    <tr style=\"text-align: right;\">\n",
       "      <th></th>\n",
       "      <th>w</th>\n",
       "      <th>c</th>\n",
       "      <th>cert</th>\n",
       "      <th>ext_cert</th>\n",
       "    </tr>\n",
       "  </thead>\n",
       "  <tbody>\n",
       "    <tr>\n",
       "      <th>0</th>\n",
       "      <td>http://www.semanticweb.org/rachel/ontologies/2...</td>\n",
       "      <td>http://www.semanticweb.org/rachel/ontologies/2...</td>\n",
       "      <td>D.O.C.G.</td>\n",
       "      <td>Denominazione di Origine Controllata e Garantita</td>\n",
       "    </tr>\n",
       "    <tr>\n",
       "      <th>1</th>\n",
       "      <td>http://www.semanticweb.org/rachel/ontologies/2...</td>\n",
       "      <td>http://www.semanticweb.org/rachel/ontologies/2...</td>\n",
       "      <td>I.G.T.</td>\n",
       "      <td>Indicazione Geografica Tipica (IGT)</td>\n",
       "    </tr>\n",
       "    <tr>\n",
       "      <th>2</th>\n",
       "      <td>http://www.semanticweb.org/rachel/ontologies/2...</td>\n",
       "      <td>http://www.semanticweb.org/rachel/ontologies/2...</td>\n",
       "      <td>D.O.C.G.</td>\n",
       "      <td>Denominazione di Origine Controllata e Garantita</td>\n",
       "    </tr>\n",
       "    <tr>\n",
       "      <th>3</th>\n",
       "      <td>http://www.semanticweb.org/rachel/ontologies/2...</td>\n",
       "      <td>http://www.semanticweb.org/rachel/ontologies/2...</td>\n",
       "      <td>D.O.C.</td>\n",
       "      <td>Denominazione di Origine Controllata</td>\n",
       "    </tr>\n",
       "    <tr>\n",
       "      <th>4</th>\n",
       "      <td>http://www.semanticweb.org/rachel/ontologies/2...</td>\n",
       "      <td>http://www.semanticweb.org/rachel/ontologies/2...</td>\n",
       "      <td>D.O.C.G.</td>\n",
       "      <td>Denominazione di Origine Controllata e Garantita</td>\n",
       "    </tr>\n",
       "  </tbody>\n",
       "</table>\n",
       "</div>"
      ],
      "text/plain": [
       "                                                   w  \\\n",
       "0  http://www.semanticweb.org/rachel/ontologies/2...   \n",
       "1  http://www.semanticweb.org/rachel/ontologies/2...   \n",
       "2  http://www.semanticweb.org/rachel/ontologies/2...   \n",
       "3  http://www.semanticweb.org/rachel/ontologies/2...   \n",
       "4  http://www.semanticweb.org/rachel/ontologies/2...   \n",
       "\n",
       "                                                   c      cert  \\\n",
       "0  http://www.semanticweb.org/rachel/ontologies/2...  D.O.C.G.   \n",
       "1  http://www.semanticweb.org/rachel/ontologies/2...    I.G.T.   \n",
       "2  http://www.semanticweb.org/rachel/ontologies/2...  D.O.C.G.   \n",
       "3  http://www.semanticweb.org/rachel/ontologies/2...    D.O.C.   \n",
       "4  http://www.semanticweb.org/rachel/ontologies/2...  D.O.C.G.   \n",
       "\n",
       "                                           ext_cert  \n",
       "0  Denominazione di Origine Controllata e Garantita  \n",
       "1               Indicazione Geografica Tipica (IGT)  \n",
       "2  Denominazione di Origine Controllata e Garantita  \n",
       "3              Denominazione di Origine Controllata  \n",
       "4  Denominazione di Origine Controllata e Garantita  "
      ]
     },
     "execution_count": 53,
     "metadata": {},
     "output_type": "execute_result"
    }
   ],
   "source": [
    "q3 = \"\"\"\n",
    "\n",
    "PREFIX : <http://www.semanticweb.org/rachel/ontologies/2022/0/untitled-ontology-30#>\n",
    "\n",
    "SELECT ?w ?c ?cert ?ext_cert\n",
    "WHERE {?w a :Wine;\n",
    ":hasCertification ?c. \n",
    "?c :cName ?cert;\n",
    ":cExtendedCode ?ext_cert.\n",
    "}\n",
    "\n",
    "\"\"\"\n",
    "# dataset of certificates\n",
    "#(only data for the wines that has certfication, it can have more than one line per wine) \n",
    "df_c = sparql_dataframe.get(endpoint, q3)\n",
    "df_c.head()"
   ]
  },
  {
   "cell_type": "code",
   "execution_count": 54,
   "metadata": {},
   "outputs": [
    {
     "data": {
      "text/html": [
       "<div>\n",
       "<style scoped>\n",
       "    .dataframe tbody tr th:only-of-type {\n",
       "        vertical-align: middle;\n",
       "    }\n",
       "\n",
       "    .dataframe tbody tr th {\n",
       "        vertical-align: top;\n",
       "    }\n",
       "\n",
       "    .dataframe thead th {\n",
       "        text-align: right;\n",
       "    }\n",
       "</style>\n",
       "<table border=\"1\" class=\"dataframe\">\n",
       "  <thead>\n",
       "    <tr style=\"text-align: right;\">\n",
       "      <th></th>\n",
       "      <th>p</th>\n",
       "      <th>r</th>\n",
       "      <th>lat</th>\n",
       "      <th>long</th>\n",
       "      <th>lau</th>\n",
       "      <th>reg</th>\n",
       "      <th>prov</th>\n",
       "    </tr>\n",
       "  </thead>\n",
       "  <tbody>\n",
       "    <tr>\n",
       "      <th>0</th>\n",
       "      <td>A Casa</td>\n",
       "      <td>NaN</td>\n",
       "      <td>40.930863</td>\n",
       "      <td>14.824782</td>\n",
       "      <td>Avellino</td>\n",
       "      <td>Campania</td>\n",
       "      <td>Avellino</td>\n",
       "    </tr>\n",
       "    <tr>\n",
       "      <th>1</th>\n",
       "      <td>Agnanum</td>\n",
       "      <td>NaN</td>\n",
       "      <td>40.839236</td>\n",
       "      <td>14.161481</td>\n",
       "      <td>Napoli</td>\n",
       "      <td>Campania</td>\n",
       "      <td>Napoli</td>\n",
       "    </tr>\n",
       "    <tr>\n",
       "      <th>2</th>\n",
       "      <td>Agricola Boccella</td>\n",
       "      <td>NaN</td>\n",
       "      <td>40.927652</td>\n",
       "      <td>15.052481</td>\n",
       "      <td>Castelfranci</td>\n",
       "      <td>Campania</td>\n",
       "      <td>Avellino</td>\n",
       "    </tr>\n",
       "    <tr>\n",
       "      <th>3</th>\n",
       "      <td>Agricola San Domenico</td>\n",
       "      <td>NaN</td>\n",
       "      <td>40.731223</td>\n",
       "      <td>13.860394</td>\n",
       "      <td>Forio</td>\n",
       "      <td>Campania</td>\n",
       "      <td>Napoli</td>\n",
       "    </tr>\n",
       "    <tr>\n",
       "      <th>4</th>\n",
       "      <td>Agricola San Teodoro</td>\n",
       "      <td>NaN</td>\n",
       "      <td>41.337258</td>\n",
       "      <td>13.919779</td>\n",
       "      <td>Galluccio</td>\n",
       "      <td>Campania</td>\n",
       "      <td>Caserta</td>\n",
       "    </tr>\n",
       "  </tbody>\n",
       "</table>\n",
       "</div>"
      ],
      "text/plain": [
       "                       p   r        lat       long           lau       reg  \\\n",
       "0                 A Casa NaN  40.930863  14.824782      Avellino  Campania   \n",
       "1                Agnanum NaN  40.839236  14.161481        Napoli  Campania   \n",
       "2      Agricola Boccella NaN  40.927652  15.052481  Castelfranci  Campania   \n",
       "3  Agricola San Domenico NaN  40.731223  13.860394         Forio  Campania   \n",
       "4   Agricola San Teodoro NaN  41.337258  13.919779     Galluccio  Campania   \n",
       "\n",
       "       prov  \n",
       "0  Avellino  \n",
       "1    Napoli  \n",
       "2  Avellino  \n",
       "3    Napoli  \n",
       "4   Caserta  "
      ]
     },
     "execution_count": 54,
     "metadata": {},
     "output_type": "execute_result"
    }
   ],
   "source": [
    "q4 = \"\"\"\n",
    "\n",
    "PREFIX : <http://www.semanticweb.org/rachel/ontologies/2022/0/untitled-ontology-30#>\n",
    "\n",
    "SELECT ?p ?r ?lat ?long ?lau ?reg ?prov\n",
    "WHERE {?ac :hasMainAddress ?d;\n",
    ":acName ?p.\n",
    "?d :hasGeolocalization ?g.\n",
    "?g :gLatitude ?lat;\n",
    ":gLongitude ?long.\n",
    "?d :hasMunicipality ?m.\n",
    "?m :mLauNameNational ?lau;\n",
    ":mNUTSLevel2 ?reg;\n",
    ":mNUTSLevel3 ?prov.\n",
    "\n",
    "}\n",
    "\n",
    "\"\"\"\n",
    "# dataset for producer\n",
    "df_p = sparql_dataframe.get(endpoint, q4)\n",
    "df_p.head()"
   ]
  },
  {
   "cell_type": "markdown",
   "metadata": {},
   "source": [
    "## 3. Visualization <a class=\"anchor\" id=\"visualization\"></a>"
   ]
  },
  {
   "cell_type": "markdown",
   "metadata": {},
   "source": [
    "### 3.1 Producers - location map  <a class=\"anchor\" id=\"producers_map\"></a>"
   ]
  },
  {
   "cell_type": "code",
   "execution_count": 55,
   "metadata": {},
   "outputs": [
    {
     "data": {
      "application/vnd.plotly.v1+json": {
       "config": {
        "plotlyServerURL": "https://plot.ly"
       },
       "data": [
        {
         "customdata": [
          [
           "Tramonti",
           "Salerno"
          ],
          [
           "Tramonti",
           "Salerno"
          ],
          [
           "Tramonti",
           "Salerno"
          ],
          [
           "Tramonti",
           "Salerno"
          ],
          [
           "Tramonti",
           "Salerno"
          ],
          [
           "Tramonti",
           "Salerno"
          ],
          [
           "Prignano Cilento",
           "Salerno"
          ],
          [
           "Prignano Cilento",
           "Salerno"
          ],
          [
           "Camerota",
           "Salerno"
          ],
          [
           "Tramonti",
           "Salerno"
          ],
          [
           "Tramonti",
           "Salerno"
          ],
          [
           "Tramonti",
           "Salerno"
          ],
          [
           "Camerota",
           "Salerno"
          ],
          [
           "Camerota",
           "Salerno"
          ],
          [
           "Camerota",
           "Salerno"
          ],
          [
           "Camerota",
           "Salerno"
          ],
          [
           "Camerota",
           "Salerno"
          ],
          [
           "Furore",
           "Salerno"
          ],
          [
           "San Cipriano Picentino",
           "Salerno"
          ],
          [
           "Sant'Arsenio",
           "Salerno"
          ],
          [
           "Furore",
           "Salerno"
          ],
          [
           "Furore",
           "Salerno"
          ],
          [
           "Furore",
           "Salerno"
          ],
          [
           "Agropoli",
           "Salerno"
          ],
          [
           "Agropoli",
           "Salerno"
          ],
          [
           "Agropoli",
           "Salerno"
          ],
          [
           "Agropoli",
           "Salerno"
          ],
          [
           "Agropoli",
           "Salerno"
          ],
          [
           "Agropoli",
           "Salerno"
          ],
          [
           "Agropoli",
           "Salerno"
          ],
          [
           "Ravello",
           "Salerno"
          ],
          [
           "Ravello",
           "Salerno"
          ],
          [
           "Ravello",
           "Salerno"
          ],
          [
           "Ravello",
           "Salerno"
          ],
          [
           "Ravello",
           "Salerno"
          ],
          [
           "Ravello",
           "Salerno"
          ],
          [
           "Ravello",
           "Salerno"
          ],
          [
           "Rutino",
           "Salerno"
          ],
          [
           "Rutino",
           "Salerno"
          ],
          [
           "Rutino",
           "Salerno"
          ],
          [
           "Rutino",
           "Salerno"
          ],
          [
           "Rutino",
           "Salerno"
          ],
          [
           "Rutino",
           "Salerno"
          ],
          [
           "Furore",
           "Salerno"
          ],
          [
           "San Cipriano Picentino",
           "Salerno"
          ],
          [
           "San Cipriano Picentino",
           "Salerno"
          ],
          [
           "Furore",
           "Salerno"
          ],
          [
           "Furore",
           "Salerno"
          ],
          [
           "Montecorvino Rovella",
           "Salerno"
          ],
          [
           "Agropoli",
           "Salerno"
          ],
          [
           "Montecorvino Rovella",
           "Salerno"
          ],
          [
           "Giffoni Valle Piana",
           "Salerno"
          ],
          [
           "Campagna",
           "Salerno"
          ],
          [
           "Giffoni Valle Piana",
           "Salerno"
          ],
          [
           "Giffoni Valle Piana",
           "Salerno"
          ],
          [
           "Campagna",
           "Salerno"
          ],
          [
           "Castellabate",
           "Salerno"
          ],
          [
           "Campagna",
           "Salerno"
          ],
          [
           "Aquara",
           "Salerno"
          ],
          [
           "Furore",
           "Salerno"
          ],
          [
           "Giffoni Valle Piana",
           "Salerno"
          ],
          [
           "Giffoni Valle Piana",
           "Salerno"
          ],
          [
           "Giffoni Valle Piana",
           "Salerno"
          ],
          [
           "Vallo della Lucania",
           "Salerno"
          ],
          [
           "Castellabate",
           "Salerno"
          ],
          [
           "Capaccio Paestum",
           "Salerno"
          ],
          [
           "Agropoli",
           "Salerno"
          ],
          [
           "Aquara",
           "Salerno"
          ],
          [
           "Montecorvino Pugliano",
           "Salerno"
          ],
          [
           "Montecorvino Rovella",
           "Salerno"
          ],
          [
           "Furore",
           "Salerno"
          ],
          [
           "Aquara",
           "Salerno"
          ],
          [
           "Furore",
           "Salerno"
          ],
          [
           "Furore",
           "Salerno"
          ],
          [
           "Furore",
           "Salerno"
          ],
          [
           "Campagna",
           "Salerno"
          ],
          [
           "Capaccio Paestum",
           "Salerno"
          ],
          [
           "Capaccio Paestum",
           "Salerno"
          ],
          [
           "Agropoli",
           "Salerno"
          ],
          [
           "Castellabate",
           "Salerno"
          ],
          [
           "Castellabate",
           "Salerno"
          ],
          [
           "Capaccio Paestum",
           "Salerno"
          ],
          [
           "Campagna",
           "Salerno"
          ],
          [
           "Capaccio Paestum",
           "Salerno"
          ],
          [
           "Capaccio Paestum",
           "Salerno"
          ],
          [
           "Montecorvino Rovella",
           "Salerno"
          ],
          [
           "Capaccio Paestum",
           "Salerno"
          ],
          [
           "Castellabate",
           "Salerno"
          ],
          [
           "Montecorvino Pugliano",
           "Salerno"
          ],
          [
           "Agropoli",
           "Salerno"
          ],
          [
           "Castellabate",
           "Salerno"
          ],
          [
           "Vallo della Lucania",
           "Salerno"
          ],
          [
           "Vallo della Lucania",
           "Salerno"
          ],
          [
           "Capaccio Paestum",
           "Salerno"
          ],
          [
           "Campagna",
           "Salerno"
          ],
          [
           "Agropoli",
           "Salerno"
          ],
          [
           "Giffoni Valle Piana",
           "Salerno"
          ],
          [
           "Vietri sul Mare",
           "Salerno"
          ],
          [
           "Furore",
           "Salerno"
          ],
          [
           "Agropoli",
           "Salerno"
          ],
          [
           "Aquara",
           "Salerno"
          ],
          [
           "Montecorvino Rovella",
           "Salerno"
          ],
          [
           "Giffoni Valle Piana",
           "Salerno"
          ],
          [
           "Ravello",
           "Salerno"
          ],
          [
           "Ravello",
           "Salerno"
          ],
          [
           "Aquara",
           "Salerno"
          ],
          [
           "Montecorvino Pugliano",
           "Salerno"
          ],
          [
           "Ravello",
           "Salerno"
          ],
          [
           "Tramonti",
           "Salerno"
          ],
          [
           "Vallo della Lucania",
           "Salerno"
          ],
          [
           "Agropoli",
           "Salerno"
          ],
          [
           "Agropoli",
           "Salerno"
          ],
          [
           "Agropoli",
           "Salerno"
          ],
          [
           "Ravello",
           "Salerno"
          ],
          [
           "Ravello",
           "Salerno"
          ],
          [
           "Sant'Angelo a Fasanella",
           "Salerno"
          ],
          [
           "Tramonti",
           "Salerno"
          ],
          [
           "Sant'Angelo a Fasanella",
           "Salerno"
          ],
          [
           "Prignano Cilento",
           "Salerno"
          ],
          [
           "Tramonti",
           "Salerno"
          ],
          [
           "Tramonti",
           "Salerno"
          ],
          [
           "Castellabate",
           "Salerno"
          ],
          [
           "Prignano Cilento",
           "Salerno"
          ],
          [
           "Castellabate",
           "Salerno"
          ],
          [
           "Tramonti",
           "Salerno"
          ],
          [
           "Sant'Angelo a Fasanella",
           "Salerno"
          ],
          [
           "Castellabate",
           "Salerno"
          ],
          [
           "Prignano Cilento",
           "Salerno"
          ],
          [
           "Castellabate",
           "Salerno"
          ],
          [
           "Prignano Cilento",
           "Salerno"
          ],
          [
           "Sant'Angelo a Fasanella",
           "Salerno"
          ],
          [
           "Castellabate",
           "Salerno"
          ],
          [
           "Rutino",
           "Salerno"
          ]
         ],
         "hovertemplate": "<b>%{hovertext}</b><br><br>prov=%{customdata[1]}<br>lat=%{lat}<br>long=%{lon}<br>lau=%{customdata[0]}<extra></extra>",
         "hovertext": [
          "Giuseppe Apicella",
          "Giuseppe Apicella",
          "Giuseppe Apicella",
          "Giuseppe Apicella",
          "Giuseppe Apicella",
          "Giuseppe Apicella",
          "De Conciliis",
          "De Conciliis",
          "Donna Clara",
          "Monte di Grazia",
          "Monte di Grazia",
          "Monte di Grazia",
          "Donna Clara",
          "Donna Clara",
          "Donna Clara",
          "Donna Clara",
          "Donna Clara",
          "Gran Furor Divina Costiera - Cantine Marisa Cuomo",
          "Montevetrano",
          "Tempere",
          "Gran Furor Divina Costiera - Cantine Marisa Cuomo",
          "Gran Furor Divina Costiera - Cantine Marisa Cuomo",
          "Gran Furor Divina Costiera - Cantine Marisa Cuomo",
          "Azienda Agricola Raffaele Marino",
          "Azienda Agricola Raffaele Marino",
          "Azienda Agricola Raffaele Marino",
          "Azienda Agricola Raffaele Marino",
          "Azienda Agricola Raffaele Marino",
          "Azienda Agricola Raffaele Marino",
          "Azienda Agricola Raffaele Marino",
          "Ettore Sammarco",
          "Ettore Sammarco",
          "Ettore Sammarco",
          "Ettore Sammarco",
          "Ettore Sammarco",
          "Ettore Sammarco",
          "Ettore Sammarco",
          "Alfonso Rotolo",
          "Alfonso Rotolo",
          "Alfonso Rotolo",
          "Alfonso Rotolo",
          "Alfonso Rotolo",
          "Alfonso Rotolo",
          "Gran Furor Divina Costiera - Cantine Marisa Cuomo",
          "Montevetrano",
          "Montevetrano",
          "Gran Furor Divina Costiera - Cantine Marisa Cuomo",
          "Gran Furor Divina Costiera - Cantine Marisa Cuomo",
          "Casa di Baal",
          "Carmine Botti",
          "Casa di Baal",
          "Lunarossa Vini",
          "Casula Vinaria",
          "Lunarossa Vini",
          "Lunarossa Vini",
          "Casula Vinaria",
          "Luigi Maffini",
          "Casula Vinaria",
          "Tenuta Mainardi",
          "Gran Furor Divina Costiera - Cantine Marisa Cuomo",
          "Lunarossa Vini",
          "Lunarossa Vini",
          "Lunarossa Vini",
          "Cobellis",
          "Luigi Maffini",
          "I Vini del Cavaliere (Casa Vinicola Cuomo)",
          "Carmine Botti",
          "Tenuta Mainardi",
          "Terra di Vento",
          "Casa di Baal",
          "Gran Furor Divina Costiera - Cantine Marisa Cuomo",
          "Tenuta Mainardi",
          "Gran Furor Divina Costiera - Cantine Marisa Cuomo",
          "Gran Furor Divina Costiera - Cantine Marisa Cuomo",
          "Gran Furor Divina Costiera - Cantine Marisa Cuomo",
          "Casula Vinaria",
          "I Vini del Cavaliere (Casa Vinicola Cuomo)",
          "I Vini del Cavaliere (Casa Vinicola Cuomo)",
          "Carmine Botti",
          "Luigi Maffini",
          "Luigi Maffini",
          "I Vini del Cavaliere (Casa Vinicola Cuomo)",
          "Casula Vinaria",
          "I Vini del Cavaliere (Casa Vinicola Cuomo)",
          "I Vini del Cavaliere (Casa Vinicola Cuomo)",
          "Casa di Baal",
          "I Vini del Cavaliere (Casa Vinicola Cuomo)",
          "Luigi Maffini",
          "Terra di Vento",
          "Azienda Agricola Raffaele Marino",
          "Luigi Maffini",
          "Cobellis",
          "Cobellis",
          "I Vini del Cavaliere (Casa Vinicola Cuomo)",
          "Casula Vinaria",
          "Verrone Viticoltori",
          "Lunarossa Vini",
          "Le Vigne di Raito",
          "Gran Furor Divina Costiera - Cantine Marisa Cuomo",
          "Carmine Botti",
          "Tenuta Mainardi",
          "Casa di Baal",
          "Lunarossa Vini",
          "Ettore Sammarco",
          "Ettore Sammarco",
          "Tenuta Mainardi",
          "Terra di Vento",
          "Ettore Sammarco",
          "Giuseppe Apicella",
          "Cobellis",
          "Verrone Viticoltori",
          "Verrone Viticoltori",
          "Verrone Viticoltori",
          "Ettore Sammarco",
          "Ettore Sammarco",
          "Tenute del Fasanella",
          "Reale",
          "Tenute del Fasanella",
          "De Conciliis",
          "Reale",
          "Reale",
          "San Giovanni",
          "De Conciliis",
          "San Giovanni",
          "Reale",
          "Tenute del Fasanella",
          "San Giovanni",
          "De Conciliis",
          "San Giovanni",
          "De Conciliis",
          "Tenute del Fasanella",
          "San Giovanni",
          "Alfonso Rotolo"
         ],
         "lat": [
          40.706354,
          40.706354,
          40.706354,
          40.706354,
          40.706354,
          40.706354,
          40.33029,
          40.33029,
          40.058018,
          40.69442,
          40.69442,
          40.69442,
          40.058018,
          40.058018,
          40.058018,
          40.058018,
          40.058018,
          40.620562,
          40.679463,
          40.472177,
          40.620562,
          40.620562,
          40.620562,
          40.324933,
          40.324933,
          40.324933,
          40.324933,
          40.324933,
          40.324933,
          40.324933,
          40.63809,
          40.63809,
          40.63809,
          40.63809,
          40.63809,
          40.63809,
          40.63809,
          40.30038,
          40.30038,
          40.30038,
          40.30038,
          40.30038,
          40.30038,
          40.620562,
          40.679463,
          40.679463,
          40.620562,
          40.620562,
          40.647271,
          40.345408,
          40.647271,
          40.706347,
          40.617617,
          40.706347,
          40.706347,
          40.617617,
          40.270355,
          40.617617,
          40.458958,
          40.620562,
          40.706347,
          40.706347,
          40.706347,
          40.231985,
          40.270355,
          40.475429,
          40.345408,
          40.458958,
          40.651136,
          40.647271,
          40.620562,
          40.458958,
          40.620562,
          40.620562,
          40.620562,
          40.617617,
          40.475429,
          40.475429,
          40.345408,
          40.270355,
          40.270355,
          40.475429,
          40.617617,
          40.475429,
          40.475429,
          40.647271,
          40.475429,
          40.270355,
          40.651136,
          40.324933,
          40.270355,
          40.231985,
          40.231985,
          40.475429,
          40.617617,
          40.334588,
          40.706347,
          40.671743,
          40.620562,
          40.345408,
          40.458958,
          40.647271,
          40.706347,
          40.63809,
          40.63809,
          40.458958,
          40.651136,
          40.63809,
          40.706354,
          40.231985,
          40.334588,
          40.334588,
          40.334588,
          40.63809,
          40.63809,
          40.45647,
          40.691577,
          40.45647,
          40.33029,
          40.691577,
          40.691577,
          40.322397,
          40.33029,
          40.322397,
          40.691577,
          40.45647,
          40.322397,
          40.33029,
          40.322397,
          40.33029,
          40.45647,
          40.322397,
          40.30038
         ],
         "legendgroup": "Salerno",
         "lon": [
          14.622361,
          14.622361,
          14.622361,
          14.622361,
          14.622361,
          14.622361,
          15.064727,
          15.064727,
          15.360631,
          14.639818,
          14.639818,
          14.639818,
          15.360631,
          15.360631,
          15.360631,
          15.360631,
          15.360631,
          14.548876,
          14.864114,
          15.48298,
          14.548876,
          14.548876,
          14.548876,
          14.983715,
          14.983715,
          14.983715,
          14.983715,
          14.983715,
          14.983715,
          14.983715,
          14.610039,
          14.610039,
          14.610039,
          14.610039,
          14.610039,
          14.610039,
          14.610039,
          15.071797,
          15.071797,
          15.071797,
          15.071797,
          15.071797,
          15.071797,
          14.548876,
          14.864114,
          14.864114,
          14.548876,
          14.548876,
          14.966125,
          14.994008,
          14.966125,
          14.921091,
          15.098111,
          14.921091,
          14.921091,
          15.098111,
          14.94394,
          15.098111,
          15.21934,
          14.548876,
          14.921091,
          14.921091,
          14.921091,
          15.269339,
          14.94394,
          15.036664,
          14.994008,
          15.21934,
          14.923625,
          14.966125,
          14.548876,
          15.21934,
          14.548876,
          14.548876,
          14.548876,
          15.098111,
          15.036664,
          15.036664,
          14.994008,
          14.94394,
          14.94394,
          15.036664,
          15.098111,
          15.036664,
          15.036664,
          14.966125,
          15.036664,
          14.94394,
          14.923625,
          14.983715,
          14.94394,
          15.269339,
          15.269339,
          15.036664,
          15.098111,
          15.01668,
          14.921091,
          14.717926,
          14.548876,
          14.994008,
          15.21934,
          14.966125,
          14.921091,
          14.610039,
          14.610039,
          15.21934,
          14.923625,
          14.610039,
          14.622361,
          15.269339,
          15.01668,
          15.01668,
          15.01668,
          14.610039,
          14.610039,
          15.344385,
          14.649581,
          15.344385,
          15.064727,
          14.649581,
          14.649581,
          14.947323,
          15.064727,
          14.947323,
          14.649581,
          15.344385,
          14.947323,
          15.064727,
          14.947323,
          15.064727,
          15.344385,
          14.947323,
          15.071797
         ],
         "marker": {
          "color": "#636efa"
         },
         "mode": "markers",
         "name": "Salerno",
         "showlegend": true,
         "subplot": "mapbox",
         "type": "scattermapbox"
        },
        {
         "customdata": [
          [
           "Cesinali",
           "Avellino"
          ],
          [
           "Chiusano di San Domenico",
           "Avellino"
          ],
          [
           "Chiusano di San Domenico",
           "Avellino"
          ],
          [
           "Chiusano di San Domenico",
           "Avellino"
          ],
          [
           "Chiusano di San Domenico",
           "Avellino"
          ],
          [
           "Taurasi",
           "Avellino"
          ],
          [
           "Taurasi",
           "Avellino"
          ],
          [
           "Taurasi",
           "Avellino"
          ],
          [
           "Taurasi",
           "Avellino"
          ],
          [
           "Taurasi",
           "Avellino"
          ],
          [
           "Taurasi",
           "Avellino"
          ],
          [
           "Venticano",
           "Avellino"
          ],
          [
           "Venticano",
           "Avellino"
          ],
          [
           "Cesinali",
           "Avellino"
          ],
          [
           "Montefalcione",
           "Avellino"
          ],
          [
           "Montefalcione",
           "Avellino"
          ],
          [
           "Montefalcione",
           "Avellino"
          ],
          [
           "Chianche",
           "Avellino"
          ],
          [
           "San Michele di Serino",
           "Avellino"
          ],
          [
           "Castelfranci",
           "Avellino"
          ],
          [
           "Sant'Angelo all'Esca",
           "Avellino"
          ],
          [
           "Forino",
           "Avellino"
          ],
          [
           "Summonte",
           "Avellino"
          ],
          [
           "Chianche",
           "Avellino"
          ],
          [
           "Taurasi",
           "Avellino"
          ],
          [
           "Altavilla Irpina",
           "Avellino"
          ],
          [
           "Altavilla Irpina",
           "Avellino"
          ],
          [
           "Altavilla Irpina",
           "Avellino"
          ],
          [
           "Altavilla Irpina",
           "Avellino"
          ],
          [
           "Cesinali",
           "Avellino"
          ],
          [
           "Torrioni",
           "Avellino"
          ],
          [
           "Chianche",
           "Avellino"
          ],
          [
           "Chianche",
           "Avellino"
          ],
          [
           "Chianche",
           "Avellino"
          ],
          [
           "Santa Paolina",
           "Avellino"
          ],
          [
           "Santa Paolina",
           "Avellino"
          ],
          [
           "Santa Paolina",
           "Avellino"
          ],
          [
           "Santa Paolina",
           "Avellino"
          ],
          [
           "Santa Paolina",
           "Avellino"
          ],
          [
           "Santa Paolina",
           "Avellino"
          ],
          [
           "Santa Paolina",
           "Avellino"
          ],
          [
           "Santa Paolina",
           "Avellino"
          ],
          [
           "Santa Paolina",
           "Avellino"
          ],
          [
           "Santa Paolina",
           "Avellino"
          ],
          [
           "Santa Paolina",
           "Avellino"
          ],
          [
           "Santa Paolina",
           "Avellino"
          ],
          [
           "Forino",
           "Avellino"
          ],
          [
           "Forino",
           "Avellino"
          ],
          [
           "Forino",
           "Avellino"
          ],
          [
           "Forino",
           "Avellino"
          ],
          [
           "Summonte",
           "Avellino"
          ],
          [
           "Summonte",
           "Avellino"
          ],
          [
           "Summonte",
           "Avellino"
          ],
          [
           "Summonte",
           "Avellino"
          ],
          [
           "Paternopoli",
           "Avellino"
          ],
          [
           "Paternopoli",
           "Avellino"
          ],
          [
           "Paternopoli",
           "Avellino"
          ],
          [
           "Paternopoli",
           "Avellino"
          ],
          [
           "Paternopoli",
           "Avellino"
          ],
          [
           "Lapio",
           "Avellino"
          ],
          [
           "Mirabella Eclano",
           "Avellino"
          ],
          [
           "Mirabella Eclano",
           "Avellino"
          ],
          [
           "Mirabella Eclano",
           "Avellino"
          ],
          [
           "Mirabella Eclano",
           "Avellino"
          ],
          [
           "Pratola Serra",
           "Avellino"
          ],
          [
           "Pratola Serra",
           "Avellino"
          ],
          [
           "Montefredane",
           "Avellino"
          ],
          [
           "Montefredane",
           "Avellino"
          ],
          [
           "Taurasi",
           "Avellino"
          ],
          [
           "Torre Le Nocelle",
           "Avellino"
          ],
          [
           "Torre Le Nocelle",
           "Avellino"
          ],
          [
           "Avellino",
           "Avellino"
          ],
          [
           "Castelfranci",
           "Avellino"
          ],
          [
           "Castelfranci",
           "Avellino"
          ],
          [
           "Castelfranci",
           "Avellino"
          ],
          [
           "Castelfranci",
           "Avellino"
          ],
          [
           "Castelfranci",
           "Avellino"
          ],
          [
           "Castelfranci",
           "Avellino"
          ],
          [
           "Castelfranci",
           "Avellino"
          ],
          [
           "Castelvetere sul Calore",
           "Avellino"
          ],
          [
           "Castelvetere sul Calore",
           "Avellino"
          ],
          [
           "Manocalzati",
           "Avellino"
          ],
          [
           "Manocalzati",
           "Avellino"
          ],
          [
           "Manocalzati",
           "Avellino"
          ],
          [
           "Manocalzati",
           "Avellino"
          ],
          [
           "Manocalzati",
           "Avellino"
          ],
          [
           "Manocalzati",
           "Avellino"
          ],
          [
           "Manocalzati",
           "Avellino"
          ],
          [
           "Manocalzati",
           "Avellino"
          ],
          [
           "Manocalzati",
           "Avellino"
          ],
          [
           "Manocalzati",
           "Avellino"
          ],
          [
           "Manocalzati",
           "Avellino"
          ],
          [
           "Pratola Serra",
           "Avellino"
          ],
          [
           "Pratola Serra",
           "Avellino"
          ],
          [
           "Pratola Serra",
           "Avellino"
          ],
          [
           "Pratola Serra",
           "Avellino"
          ],
          [
           "Pratola Serra",
           "Avellino"
          ],
          [
           "Pratola Serra",
           "Avellino"
          ],
          [
           "Pratola Serra",
           "Avellino"
          ],
          [
           "Pratola Serra",
           "Avellino"
          ],
          [
           "Pratola Serra",
           "Avellino"
          ],
          [
           "Pratola Serra",
           "Avellino"
          ],
          [
           "Pratola Serra",
           "Avellino"
          ],
          [
           "Pratola Serra",
           "Avellino"
          ],
          [
           "Pratola Serra",
           "Avellino"
          ],
          [
           "Pratola Serra",
           "Avellino"
          ],
          [
           "Santa Paolina",
           "Avellino"
          ],
          [
           "Santa Paolina",
           "Avellino"
          ],
          [
           "Santa Paolina",
           "Avellino"
          ],
          [
           "Chianche",
           "Avellino"
          ],
          [
           "Cesinali",
           "Avellino"
          ],
          [
           "Torrioni",
           "Avellino"
          ],
          [
           "Torrioni",
           "Avellino"
          ],
          [
           "Torrioni",
           "Avellino"
          ],
          [
           "Torrioni",
           "Avellino"
          ],
          [
           "Torrioni",
           "Avellino"
          ],
          [
           "Torrioni",
           "Avellino"
          ],
          [
           "Torrioni",
           "Avellino"
          ],
          [
           "Montefalcione",
           "Avellino"
          ],
          [
           "Montefalcione",
           "Avellino"
          ],
          [
           "Montefalcione",
           "Avellino"
          ],
          [
           "Montefalcione",
           "Avellino"
          ],
          [
           "Montefalcione",
           "Avellino"
          ],
          [
           "Montefalcione",
           "Avellino"
          ],
          [
           "Sant'Angelo all'Esca",
           "Avellino"
          ],
          [
           "Sant'Angelo all'Esca",
           "Avellino"
          ],
          [
           "Sant'Angelo all'Esca",
           "Avellino"
          ],
          [
           "Sant'Angelo all'Esca",
           "Avellino"
          ],
          [
           "Sant'Angelo all'Esca",
           "Avellino"
          ],
          [
           "Sant'Angelo all'Esca",
           "Avellino"
          ],
          [
           "Castelfranci",
           "Avellino"
          ],
          [
           "Castelfranci",
           "Avellino"
          ],
          [
           "Castelfranci",
           "Avellino"
          ],
          [
           "Taurasi",
           "Avellino"
          ],
          [
           "Taurasi",
           "Avellino"
          ],
          [
           "Taurasi",
           "Avellino"
          ],
          [
           "Taurasi",
           "Avellino"
          ],
          [
           "Taurasi",
           "Avellino"
          ],
          [
           "Taurasi",
           "Avellino"
          ],
          [
           "Taurasi",
           "Avellino"
          ],
          [
           "Taurasi",
           "Avellino"
          ],
          [
           "Paternopoli",
           "Avellino"
          ],
          [
           "Paternopoli",
           "Avellino"
          ],
          [
           "Avellino",
           "Avellino"
          ],
          [
           "Avellino",
           "Avellino"
          ],
          [
           "Avellino",
           "Avellino"
          ],
          [
           "Avellino",
           "Avellino"
          ],
          [
           "Cesinali",
           "Avellino"
          ],
          [
           "Mirabella Eclano",
           "Avellino"
          ],
          [
           "Taurasi",
           "Avellino"
          ],
          [
           "San Mango sul Calore",
           "Avellino"
          ],
          [
           "San Mango sul Calore",
           "Avellino"
          ],
          [
           "Castelfranci",
           "Avellino"
          ],
          [
           "Castelfranci",
           "Avellino"
          ],
          [
           "Paternopoli",
           "Avellino"
          ],
          [
           "Frigento",
           "Avellino"
          ],
          [
           "Taurasi",
           "Avellino"
          ],
          [
           "Santa Paolina",
           "Avellino"
          ],
          [
           "Tufo",
           "Avellino"
          ],
          [
           "Taurasi",
           "Avellino"
          ],
          [
           "Tufo",
           "Avellino"
          ],
          [
           "Paternopoli",
           "Avellino"
          ],
          [
           "Salza Irpina",
           "Avellino"
          ],
          [
           "Torrioni",
           "Avellino"
          ],
          [
           "Atripalda",
           "Avellino"
          ],
          [
           "Venticano",
           "Avellino"
          ],
          [
           "Montefusco",
           "Avellino"
          ],
          [
           "Sorbo Serpico",
           "Avellino"
          ],
          [
           "Sturno",
           "Avellino"
          ],
          [
           "Luogosano",
           "Avellino"
          ],
          [
           "Salza Irpina",
           "Avellino"
          ],
          [
           "Tufo",
           "Avellino"
          ],
          [
           "Candida",
           "Avellino"
          ],
          [
           "Salza Irpina",
           "Avellino"
          ],
          [
           "San Michele di Serino",
           "Avellino"
          ],
          [
           "Castelfranci",
           "Avellino"
          ],
          [
           "Castelfranci",
           "Avellino"
          ],
          [
           "Lapio",
           "Avellino"
          ],
          [
           "Santa Paolina",
           "Avellino"
          ],
          [
           "Atripalda",
           "Avellino"
          ],
          [
           "Taurasi",
           "Avellino"
          ],
          [
           "Forino",
           "Avellino"
          ],
          [
           "Forino",
           "Avellino"
          ],
          [
           "Prata di Principato Ultra",
           "Avellino"
          ],
          [
           "Paternopoli",
           "Avellino"
          ],
          [
           "Avellino",
           "Avellino"
          ],
          [
           "Altavilla Irpina",
           "Avellino"
          ],
          [
           "Taurasi",
           "Avellino"
          ],
          [
           "Altavilla Irpina",
           "Avellino"
          ],
          [
           "Fontanarosa",
           "Avellino"
          ],
          [
           "Lapio",
           "Avellino"
          ],
          [
           "Sant'Angelo all'Esca",
           "Avellino"
          ],
          [
           "Sorbo Serpico",
           "Avellino"
          ],
          [
           "Sant'Angelo all'Esca",
           "Avellino"
          ],
          [
           "Montefusco",
           "Avellino"
          ],
          [
           "Avellino",
           "Avellino"
          ],
          [
           "Paternopoli",
           "Avellino"
          ],
          [
           "Sorbo Serpico",
           "Avellino"
          ],
          [
           "Chiusano di San Domenico",
           "Avellino"
          ],
          [
           "Grottolella",
           "Avellino"
          ],
          [
           "Grottolella",
           "Avellino"
          ],
          [
           "Montefalcione",
           "Avellino"
          ],
          [
           "Montefalcione",
           "Avellino"
          ],
          [
           "Candida",
           "Avellino"
          ],
          [
           "Montefusco",
           "Avellino"
          ],
          [
           "Lapio",
           "Avellino"
          ],
          [
           "Grottolella",
           "Avellino"
          ],
          [
           "Montefusco",
           "Avellino"
          ],
          [
           "Chiusano di San Domenico",
           "Avellino"
          ],
          [
           "Grottolella",
           "Avellino"
          ],
          [
           "Candida",
           "Avellino"
          ],
          [
           "Montefusco",
           "Avellino"
          ],
          [
           "Grottolella",
           "Avellino"
          ],
          [
           "Montefalcione",
           "Avellino"
          ],
          [
           "Montefusco",
           "Avellino"
          ],
          [
           "Chiusano di San Domenico",
           "Avellino"
          ],
          [
           "Grottolella",
           "Avellino"
          ],
          [
           "Montefusco",
           "Avellino"
          ],
          [
           "Montefalcione",
           "Avellino"
          ],
          [
           "Grottolella",
           "Avellino"
          ],
          [
           "Grottolella",
           "Avellino"
          ],
          [
           "Prata di Principato Ultra",
           "Avellino"
          ],
          [
           "Fontanarosa",
           "Avellino"
          ],
          [
           "Paternopoli",
           "Avellino"
          ],
          [
           "Montefalcione",
           "Avellino"
          ],
          [
           "Chiusano di San Domenico",
           "Avellino"
          ],
          [
           "Montefusco",
           "Avellino"
          ],
          [
           "Montefusco",
           "Avellino"
          ],
          [
           "Castelfranci",
           "Avellino"
          ],
          [
           "Montemarano",
           "Avellino"
          ],
          [
           "Mirabella Eclano",
           "Avellino"
          ],
          [
           "Mirabella Eclano",
           "Avellino"
          ],
          [
           "Tufo",
           "Avellino"
          ],
          [
           "Torre Le Nocelle",
           "Avellino"
          ],
          [
           "Torrioni",
           "Avellino"
          ],
          [
           "Taurasi",
           "Avellino"
          ],
          [
           "Salza Irpina",
           "Avellino"
          ],
          [
           "Taurasi",
           "Avellino"
          ],
          [
           "Montefalcione",
           "Avellino"
          ],
          [
           "Fontanarosa",
           "Avellino"
          ],
          [
           "Venticano",
           "Avellino"
          ],
          [
           "Montefusco",
           "Avellino"
          ],
          [
           "Salza Irpina",
           "Avellino"
          ],
          [
           "Frigento",
           "Avellino"
          ],
          [
           "San Michele di Serino",
           "Avellino"
          ],
          [
           "Montefusco",
           "Avellino"
          ],
          [
           "Avellino",
           "Avellino"
          ],
          [
           "Taurasi",
           "Avellino"
          ],
          [
           "Grottolella",
           "Avellino"
          ],
          [
           "Sorbo Serpico",
           "Avellino"
          ],
          [
           "Santa Paolina",
           "Avellino"
          ],
          [
           "Salza Irpina",
           "Avellino"
          ],
          [
           "Mirabella Eclano",
           "Avellino"
          ],
          [
           "Salza Irpina",
           "Avellino"
          ],
          [
           "Tufo",
           "Avellino"
          ],
          [
           "Lapio",
           "Avellino"
          ],
          [
           "Taurasi",
           "Avellino"
          ],
          [
           "Sorbo Serpico",
           "Avellino"
          ],
          [
           "Sorbo Serpico",
           "Avellino"
          ],
          [
           "Tufo",
           "Avellino"
          ],
          [
           "Montemarano",
           "Avellino"
          ],
          [
           "Montefalcione",
           "Avellino"
          ],
          [
           "Montefusco",
           "Avellino"
          ],
          [
           "Grottolella",
           "Avellino"
          ],
          [
           "Paternopoli",
           "Avellino"
          ],
          [
           "Santa Paolina",
           "Avellino"
          ],
          [
           "Luogosano",
           "Avellino"
          ],
          [
           "Paternopoli",
           "Avellino"
          ],
          [
           "Salza Irpina",
           "Avellino"
          ],
          [
           "Santa Paolina",
           "Avellino"
          ],
          [
           "Luogosano",
           "Avellino"
          ],
          [
           "Tufo",
           "Avellino"
          ],
          [
           "Sorbo Serpico",
           "Avellino"
          ],
          [
           "Sturno",
           "Avellino"
          ],
          [
           "Torrioni",
           "Avellino"
          ],
          [
           "Montefalcione",
           "Avellino"
          ],
          [
           "Forino",
           "Avellino"
          ],
          [
           "Luogosano",
           "Avellino"
          ],
          [
           "San Michele di Serino",
           "Avellino"
          ],
          [
           "Montefusco",
           "Avellino"
          ],
          [
           "Grottolella",
           "Avellino"
          ],
          [
           "Torrioni",
           "Avellino"
          ],
          [
           "Chiusano di San Domenico",
           "Avellino"
          ],
          [
           "Atripalda",
           "Avellino"
          ],
          [
           "Montefusco",
           "Avellino"
          ],
          [
           "Venticano",
           "Avellino"
          ],
          [
           "Candida",
           "Avellino"
          ],
          [
           "Torrioni",
           "Avellino"
          ],
          [
           "Paternopoli",
           "Avellino"
          ],
          [
           "Forino",
           "Avellino"
          ],
          [
           "Forino",
           "Avellino"
          ],
          [
           "Montefusco",
           "Avellino"
          ],
          [
           "Montefusco",
           "Avellino"
          ],
          [
           "Santa Paolina",
           "Avellino"
          ],
          [
           "Cesinali",
           "Avellino"
          ],
          [
           "Taurasi",
           "Avellino"
          ],
          [
           "Salza Irpina",
           "Avellino"
          ],
          [
           "Santa Paolina",
           "Avellino"
          ],
          [
           "Chiusano di San Domenico",
           "Avellino"
          ],
          [
           "Torrioni",
           "Avellino"
          ],
          [
           "Grottolella",
           "Avellino"
          ],
          [
           "Lapio",
           "Avellino"
          ],
          [
           "Torrioni",
           "Avellino"
          ],
          [
           "Altavilla Irpina",
           "Avellino"
          ],
          [
           "Grottolella",
           "Avellino"
          ],
          [
           "Montefalcione",
           "Avellino"
          ],
          [
           "Sorbo Serpico",
           "Avellino"
          ],
          [
           "Lapio",
           "Avellino"
          ],
          [
           "Taurasi",
           "Avellino"
          ],
          [
           "Luogosano",
           "Avellino"
          ],
          [
           "Paternopoli",
           "Avellino"
          ],
          [
           "Montefalcione",
           "Avellino"
          ],
          [
           "Atripalda",
           "Avellino"
          ],
          [
           "Candida",
           "Avellino"
          ],
          [
           "Montefusco",
           "Avellino"
          ],
          [
           "Lapio",
           "Avellino"
          ],
          [
           "Luogosano",
           "Avellino"
          ],
          [
           "Candida",
           "Avellino"
          ],
          [
           "Lapio",
           "Avellino"
          ],
          [
           "Luogosano",
           "Avellino"
          ],
          [
           "Sturno",
           "Avellino"
          ],
          [
           "Tufo",
           "Avellino"
          ],
          [
           "Taurasi",
           "Avellino"
          ],
          [
           "San Michele di Serino",
           "Avellino"
          ],
          [
           "Avellino",
           "Avellino"
          ],
          [
           "Grottolella",
           "Avellino"
          ],
          [
           "Montemarano",
           "Avellino"
          ],
          [
           "Tufo",
           "Avellino"
          ],
          [
           "Tufo",
           "Avellino"
          ],
          [
           "Atripalda",
           "Avellino"
          ],
          [
           "Avellino",
           "Avellino"
          ],
          [
           "Venticano",
           "Avellino"
          ],
          [
           "Tufo",
           "Avellino"
          ],
          [
           "Candida",
           "Avellino"
          ],
          [
           "Torre Le Nocelle",
           "Avellino"
          ],
          [
           "Taurasi",
           "Avellino"
          ],
          [
           "Mirabella Eclano",
           "Avellino"
          ],
          [
           "Candida",
           "Avellino"
          ],
          [
           "Castelfranci",
           "Avellino"
          ],
          [
           "Candida",
           "Avellino"
          ],
          [
           "Sant'Angelo all'Esca",
           "Avellino"
          ],
          [
           "Taurasi",
           "Avellino"
          ],
          [
           "Santa Paolina",
           "Avellino"
          ],
          [
           "Torrioni",
           "Avellino"
          ],
          [
           "Taurasi",
           "Avellino"
          ],
          [
           "Salza Irpina",
           "Avellino"
          ],
          [
           "Santa Paolina",
           "Avellino"
          ],
          [
           "Prata di Principato Ultra",
           "Avellino"
          ],
          [
           "Chiusano di San Domenico",
           "Avellino"
          ],
          [
           "Torrioni",
           "Avellino"
          ],
          [
           "Grottolella",
           "Avellino"
          ],
          [
           "Torrioni",
           "Avellino"
          ],
          [
           "Altavilla Irpina",
           "Avellino"
          ],
          [
           "Grottolella",
           "Avellino"
          ],
          [
           "Tufo",
           "Avellino"
          ],
          [
           "Fontanarosa",
           "Avellino"
          ],
          [
           "Montefalcione",
           "Avellino"
          ],
          [
           "Sorbo Serpico",
           "Avellino"
          ],
          [
           "Taurasi",
           "Avellino"
          ],
          [
           "Luogosano",
           "Avellino"
          ],
          [
           "Paternopoli",
           "Avellino"
          ],
          [
           "Atripalda",
           "Avellino"
          ],
          [
           "Candida",
           "Avellino"
          ],
          [
           "Montefusco",
           "Avellino"
          ],
          [
           "Venticano",
           "Avellino"
          ],
          [
           "Montemarano",
           "Avellino"
          ],
          [
           "Paternopoli",
           "Avellino"
          ],
          [
           "Luogosano",
           "Avellino"
          ],
          [
           "Lapio",
           "Avellino"
          ],
          [
           "Luogosano",
           "Avellino"
          ],
          [
           "Sturno",
           "Avellino"
          ],
          [
           "Tufo",
           "Avellino"
          ],
          [
           "Taurasi",
           "Avellino"
          ],
          [
           "San Michele di Serino",
           "Avellino"
          ],
          [
           "Grottolella",
           "Avellino"
          ],
          [
           "Tufo",
           "Avellino"
          ],
          [
           "Tufo",
           "Avellino"
          ],
          [
           "Atripalda",
           "Avellino"
          ],
          [
           "Torrioni",
           "Avellino"
          ],
          [
           "Taurasi",
           "Avellino"
          ],
          [
           "Taurasi",
           "Avellino"
          ],
          [
           "Montefusco",
           "Avellino"
          ],
          [
           "Castelfranci",
           "Avellino"
          ],
          [
           "Torre Le Nocelle",
           "Avellino"
          ],
          [
           "Atripalda",
           "Avellino"
          ],
          [
           "Montefusco",
           "Avellino"
          ],
          [
           "Prata di Principato Ultra",
           "Avellino"
          ],
          [
           "Candida",
           "Avellino"
          ],
          [
           "Chiusano di San Domenico",
           "Avellino"
          ],
          [
           "Montefusco",
           "Avellino"
          ],
          [
           "Montefusco",
           "Avellino"
          ],
          [
           "Montefusco",
           "Avellino"
          ],
          [
           "Montefusco",
           "Avellino"
          ],
          [
           "Luogosano",
           "Avellino"
          ],
          [
           "Taurasi",
           "Avellino"
          ],
          [
           "Chiusano di San Domenico",
           "Avellino"
          ],
          [
           "Montefalcione",
           "Avellino"
          ],
          [
           "Torrioni",
           "Avellino"
          ],
          [
           "Torrioni",
           "Avellino"
          ],
          [
           "Montefalcione",
           "Avellino"
          ],
          [
           "Lapio",
           "Avellino"
          ],
          [
           "Candida",
           "Avellino"
          ],
          [
           "Venticano",
           "Avellino"
          ],
          [
           "Paternopoli",
           "Avellino"
          ],
          [
           "San Michele di Serino",
           "Avellino"
          ],
          [
           "Grottolella",
           "Avellino"
          ],
          [
           "Montemarano",
           "Avellino"
          ],
          [
           "Montemarano",
           "Avellino"
          ],
          [
           "Tufo",
           "Avellino"
          ],
          [
           "Tufo",
           "Avellino"
          ],
          [
           "Taurasi",
           "Avellino"
          ],
          [
           "Grottolella",
           "Avellino"
          ],
          [
           "Grottolella",
           "Avellino"
          ],
          [
           "Montemarano",
           "Avellino"
          ],
          [
           "Altavilla Irpina",
           "Avellino"
          ],
          [
           "Candida",
           "Avellino"
          ],
          [
           "San Mango sul Calore",
           "Avellino"
          ],
          [
           "Montefalcione",
           "Avellino"
          ],
          [
           "San Mango sul Calore",
           "Avellino"
          ],
          [
           "San Mango sul Calore",
           "Avellino"
          ],
          [
           "Montemarano",
           "Avellino"
          ],
          [
           "Salza Irpina",
           "Avellino"
          ],
          [
           "Torrioni",
           "Avellino"
          ],
          [
           "Torre Le Nocelle",
           "Avellino"
          ],
          [
           "Montefusco",
           "Avellino"
          ],
          [
           "Sant'Angelo all'Esca",
           "Avellino"
          ],
          [
           "Atripalda",
           "Avellino"
          ],
          [
           "Sorbo Serpico",
           "Avellino"
          ],
          [
           "Montefusco",
           "Avellino"
          ],
          [
           "Atripalda",
           "Avellino"
          ],
          [
           "Venticano",
           "Avellino"
          ],
          [
           "Montefusco",
           "Avellino"
          ],
          [
           "Venticano",
           "Avellino"
          ],
          [
           "Atripalda",
           "Avellino"
          ],
          [
           "Venticano",
           "Avellino"
          ],
          [
           "Montefusco",
           "Avellino"
          ],
          [
           "Sorbo Serpico",
           "Avellino"
          ],
          [
           "Montefusco",
           "Avellino"
          ],
          [
           "Paternopoli",
           "Avellino"
          ],
          [
           "Paternopoli",
           "Avellino"
          ],
          [
           "Paternopoli",
           "Avellino"
          ],
          [
           "Paternopoli",
           "Avellino"
          ],
          [
           "Sant'Angelo all'Esca",
           "Avellino"
          ],
          [
           "Montefusco",
           "Avellino"
          ],
          [
           "Montemarano",
           "Avellino"
          ],
          [
           "Taurasi",
           "Avellino"
          ],
          [
           "Montemarano",
           "Avellino"
          ],
          [
           "Sorbo Serpico",
           "Avellino"
          ],
          [
           "Paternopoli",
           "Avellino"
          ],
          [
           "Atripalda",
           "Avellino"
          ],
          [
           "Atripalda",
           "Avellino"
          ],
          [
           "Atripalda",
           "Avellino"
          ],
          [
           "Atripalda",
           "Avellino"
          ],
          [
           "Santa Paolina",
           "Avellino"
          ],
          [
           "Atripalda",
           "Avellino"
          ],
          [
           "Frigento",
           "Avellino"
          ],
          [
           "Luogosano",
           "Avellino"
          ],
          [
           "Santa Paolina",
           "Avellino"
          ],
          [
           "Montefusco",
           "Avellino"
          ],
          [
           "Montefusco",
           "Avellino"
          ],
          [
           "Montefusco",
           "Avellino"
          ],
          [
           "Montefusco",
           "Avellino"
          ],
          [
           "Atripalda",
           "Avellino"
          ],
          [
           "Atripalda",
           "Avellino"
          ],
          [
           "Luogosano",
           "Avellino"
          ],
          [
           "Atripalda",
           "Avellino"
          ],
          [
           "Paternopoli",
           "Avellino"
          ],
          [
           "Atripalda",
           "Avellino"
          ],
          [
           "Paternopoli",
           "Avellino"
          ],
          [
           "Atripalda",
           "Avellino"
          ],
          [
           "Lapio",
           "Avellino"
          ],
          [
           "Sant'Angelo all'Esca",
           "Avellino"
          ],
          [
           "San Michele di Serino",
           "Avellino"
          ],
          [
           "Avellino",
           "Avellino"
          ],
          [
           "Montefalcione",
           "Avellino"
          ],
          [
           "Sorbo Serpico",
           "Avellino"
          ],
          [
           "Montefusco",
           "Avellino"
          ],
          [
           "Taurasi",
           "Avellino"
          ],
          [
           "Candida",
           "Avellino"
          ],
          [
           "Candida",
           "Avellino"
          ],
          [
           "Candida",
           "Avellino"
          ],
          [
           "Montefusco",
           "Avellino"
          ],
          [
           "Montefusco",
           "Avellino"
          ],
          [
           "Tufo",
           "Avellino"
          ],
          [
           "Forino",
           "Avellino"
          ],
          [
           "Castelfranci",
           "Avellino"
          ],
          [
           "Taurasi",
           "Avellino"
          ],
          [
           "Taurasi",
           "Avellino"
          ],
          [
           "Sorbo Serpico",
           "Avellino"
          ],
          [
           "Santa Paolina",
           "Avellino"
          ],
          [
           "Paternopoli",
           "Avellino"
          ],
          [
           "Sorbo Serpico",
           "Avellino"
          ],
          [
           "Paternopoli",
           "Avellino"
          ],
          [
           "Fontanarosa",
           "Avellino"
          ],
          [
           "Sorbo Serpico",
           "Avellino"
          ],
          [
           "Cesinali",
           "Avellino"
          ],
          [
           "Paternopoli",
           "Avellino"
          ],
          [
           "Candida",
           "Avellino"
          ],
          [
           "Sturno",
           "Avellino"
          ],
          [
           "Chiusano di San Domenico",
           "Avellino"
          ],
          [
           "Montemarano",
           "Avellino"
          ],
          [
           "Sorbo Serpico",
           "Avellino"
          ],
          [
           "Santa Paolina",
           "Avellino"
          ],
          [
           "Paternopoli",
           "Avellino"
          ],
          [
           "Atripalda",
           "Avellino"
          ],
          [
           "Atripalda",
           "Avellino"
          ],
          [
           "Atripalda",
           "Avellino"
          ],
          [
           "Atripalda",
           "Avellino"
          ],
          [
           "Atripalda",
           "Avellino"
          ],
          [
           "Paternopoli",
           "Avellino"
          ],
          [
           "Tufo",
           "Avellino"
          ],
          [
           "Atripalda",
           "Avellino"
          ],
          [
           "Sant'Angelo all'Esca",
           "Avellino"
          ],
          [
           "Montefusco",
           "Avellino"
          ],
          [
           "Paternopoli",
           "Avellino"
          ],
          [
           "Paternopoli",
           "Avellino"
          ],
          [
           "Luogosano",
           "Avellino"
          ],
          [
           "Montefusco",
           "Avellino"
          ],
          [
           "Paternopoli",
           "Avellino"
          ],
          [
           "Sant'Angelo all'Esca",
           "Avellino"
          ],
          [
           "Sorbo Serpico",
           "Avellino"
          ],
          [
           "Sorbo Serpico",
           "Avellino"
          ],
          [
           "Castelfranci",
           "Avellino"
          ],
          [
           "Paternopoli",
           "Avellino"
          ],
          [
           "Montemarano",
           "Avellino"
          ],
          [
           "Fontanarosa",
           "Avellino"
          ],
          [
           "Candida",
           "Avellino"
          ],
          [
           "Sorbo Serpico",
           "Avellino"
          ],
          [
           "Altavilla Irpina",
           "Avellino"
          ],
          [
           "Montefusco",
           "Avellino"
          ],
          [
           "Frigento",
           "Avellino"
          ],
          [
           "Sant'Angelo all'Esca",
           "Avellino"
          ],
          [
           "Montefusco",
           "Avellino"
          ],
          [
           "Santa Paolina",
           "Avellino"
          ],
          [
           "Luogosano",
           "Avellino"
          ],
          [
           "Luogosano",
           "Avellino"
          ],
          [
           "Paternopoli",
           "Avellino"
          ],
          [
           "Mirabella Eclano",
           "Avellino"
          ],
          [
           "Mirabella Eclano",
           "Avellino"
          ],
          [
           "Sant'Angelo all'Esca",
           "Avellino"
          ],
          [
           "Salza Irpina",
           "Avellino"
          ],
          [
           "Candida",
           "Avellino"
          ],
          [
           "Candida",
           "Avellino"
          ],
          [
           "Tufo",
           "Avellino"
          ],
          [
           "Montefusco",
           "Avellino"
          ],
          [
           "Sorbo Serpico",
           "Avellino"
          ],
          [
           "Tufo",
           "Avellino"
          ],
          [
           "Sorbo Serpico",
           "Avellino"
          ],
          [
           "Torre Le Nocelle",
           "Avellino"
          ],
          [
           "Paternopoli",
           "Avellino"
          ],
          [
           "Cesinali",
           "Avellino"
          ],
          [
           "Montefusco",
           "Avellino"
          ],
          [
           "Castelfranci",
           "Avellino"
          ],
          [
           "Paternopoli",
           "Avellino"
          ],
          [
           "Sorbo Serpico",
           "Avellino"
          ],
          [
           "Montefusco",
           "Avellino"
          ],
          [
           "Tufo",
           "Avellino"
          ],
          [
           "Taurasi",
           "Avellino"
          ],
          [
           "Montefusco",
           "Avellino"
          ],
          [
           "Torrioni",
           "Avellino"
          ],
          [
           "Candida",
           "Avellino"
          ],
          [
           "Candida",
           "Avellino"
          ],
          [
           "Taurasi",
           "Avellino"
          ],
          [
           "Santa Paolina",
           "Avellino"
          ],
          [
           "Prata di Principato Ultra",
           "Avellino"
          ],
          [
           "Taurasi",
           "Avellino"
          ],
          [
           "Frigento",
           "Avellino"
          ],
          [
           "Grottolella",
           "Avellino"
          ],
          [
           "Torrioni",
           "Avellino"
          ],
          [
           "Grottolella",
           "Avellino"
          ],
          [
           "Fontanarosa",
           "Avellino"
          ],
          [
           "Taurasi",
           "Avellino"
          ],
          [
           "Montefalcione",
           "Avellino"
          ],
          [
           "Sorbo Serpico",
           "Avellino"
          ],
          [
           "Lapio",
           "Avellino"
          ],
          [
           "Paternopoli",
           "Avellino"
          ],
          [
           "Candida",
           "Avellino"
          ],
          [
           "Montefusco",
           "Avellino"
          ],
          [
           "Lapio",
           "Avellino"
          ],
          [
           "Lapio",
           "Avellino"
          ],
          [
           "Luogosano",
           "Avellino"
          ],
          [
           "Lapio",
           "Avellino"
          ],
          [
           "Sturno",
           "Avellino"
          ],
          [
           "Taurasi",
           "Avellino"
          ],
          [
           "San Michele di Serino",
           "Avellino"
          ],
          [
           "Grottolella",
           "Avellino"
          ],
          [
           "Torre Le Nocelle",
           "Avellino"
          ],
          [
           "Luogosano",
           "Avellino"
          ],
          [
           "Taurasi",
           "Avellino"
          ],
          [
           "Montefalcione",
           "Avellino"
          ],
          [
           "Taurasi",
           "Avellino"
          ],
          [
           "Montemarano",
           "Avellino"
          ],
          [
           "Salza Irpina",
           "Avellino"
          ],
          [
           "Prata di Principato Ultra",
           "Avellino"
          ],
          [
           "Chiusano di San Domenico",
           "Avellino"
          ],
          [
           "Montefalcione",
           "Avellino"
          ],
          [
           "Taurasi",
           "Avellino"
          ],
          [
           "Torrioni",
           "Avellino"
          ],
          [
           "Grottaminarda",
           "Avellino"
          ],
          [
           "Montefalcione",
           "Avellino"
          ],
          [
           "Venticano",
           "Avellino"
          ],
          [
           "Sturno",
           "Avellino"
          ],
          [
           "Salza Irpina",
           "Avellino"
          ],
          [
           "Montemarano",
           "Avellino"
          ],
          [
           "Montemarano",
           "Avellino"
          ],
          [
           "Taurasi",
           "Avellino"
          ],
          [
           "Taurasi",
           "Avellino"
          ],
          [
           "Venticano",
           "Avellino"
          ],
          [
           "Sant'Angelo all'Esca",
           "Avellino"
          ],
          [
           "Tufo",
           "Avellino"
          ],
          [
           "Montefusco",
           "Avellino"
          ],
          [
           "Cesinali",
           "Avellino"
          ],
          [
           "Avellino",
           "Avellino"
          ],
          [
           "Frigento",
           "Avellino"
          ],
          [
           "Castelfranci",
           "Avellino"
          ],
          [
           "Mirabella Eclano",
           "Avellino"
          ],
          [
           "Avellino",
           "Avellino"
          ],
          [
           "Sant'Angelo all'Esca",
           "Avellino"
          ],
          [
           "San Michele di Serino",
           "Avellino"
          ],
          [
           "Forino",
           "Avellino"
          ],
          [
           "Forino",
           "Avellino"
          ],
          [
           "Forino",
           "Avellino"
          ],
          [
           "Forino",
           "Avellino"
          ],
          [
           "Forino",
           "Avellino"
          ],
          [
           "Montefusco",
           "Avellino"
          ],
          [
           "Montefusco",
           "Avellino"
          ],
          [
           "Tufo",
           "Avellino"
          ],
          [
           "Luogosano",
           "Avellino"
          ],
          [
           "Avellino",
           "Avellino"
          ],
          [
           "Avellino",
           "Avellino"
          ],
          [
           "Tufo",
           "Avellino"
          ],
          [
           "Tufo",
           "Avellino"
          ],
          [
           "Avellino",
           "Avellino"
          ],
          [
           "Montefusco",
           "Avellino"
          ],
          [
           "Montefusco",
           "Avellino"
          ],
          [
           "Atripalda",
           "Avellino"
          ],
          [
           "Venticano",
           "Avellino"
          ],
          [
           "Taurasi",
           "Avellino"
          ],
          [
           "Atripalda",
           "Avellino"
          ],
          [
           "Venticano",
           "Avellino"
          ],
          [
           "Summonte",
           "Avellino"
          ],
          [
           "Paternopoli",
           "Avellino"
          ],
          [
           "Ariano Irpino",
           "Avellino"
          ],
          [
           "Montefredane",
           "Avellino"
          ],
          [
           "Montefalcione",
           "Avellino"
          ],
          [
           "Montefredane",
           "Avellino"
          ],
          [
           "Montefalcione",
           "Avellino"
          ],
          [
           "Lapio",
           "Avellino"
          ],
          [
           "Montefalcione",
           "Avellino"
          ],
          [
           "Manocalzati",
           "Avellino"
          ],
          [
           "Manocalzati",
           "Avellino"
          ],
          [
           "Manocalzati",
           "Avellino"
          ],
          [
           "Manocalzati",
           "Avellino"
          ],
          [
           "Montefalcione",
           "Avellino"
          ],
          [
           "Manocalzati",
           "Avellino"
          ],
          [
           "Montefalcione",
           "Avellino"
          ],
          [
           "Manocalzati",
           "Avellino"
          ],
          [
           "Montefredane",
           "Avellino"
          ],
          [
           "Ariano Irpino",
           "Avellino"
          ],
          [
           "Montefredane",
           "Avellino"
          ],
          [
           "Manocalzati",
           "Avellino"
          ],
          [
           "Ariano Irpino",
           "Avellino"
          ],
          [
           "Sorbo Serpico",
           "Avellino"
          ],
          [
           "Montefalcione",
           "Avellino"
          ],
          [
           "Montefredane",
           "Avellino"
          ],
          [
           "Taurasi",
           "Avellino"
          ],
          [
           "Montefalcione",
           "Avellino"
          ],
          [
           "Montefalcione",
           "Avellino"
          ],
          [
           "Taurasi",
           "Avellino"
          ],
          [
           "Manocalzati",
           "Avellino"
          ],
          [
           "Montefalcione",
           "Avellino"
          ],
          [
           "Venticano",
           "Avellino"
          ],
          [
           "Montefredane",
           "Avellino"
          ],
          [
           "Ariano Irpino",
           "Avellino"
          ],
          [
           "Montemarano",
           "Avellino"
          ],
          [
           "Manocalzati",
           "Avellino"
          ],
          [
           "Montefalcione",
           "Avellino"
          ],
          [
           "Montefredane",
           "Avellino"
          ],
          [
           "Manocalzati",
           "Avellino"
          ],
          [
           "Manocalzati",
           "Avellino"
          ],
          [
           "Montefalcione",
           "Avellino"
          ],
          [
           "Manocalzati",
           "Avellino"
          ],
          [
           "Manocalzati",
           "Avellino"
          ],
          [
           "Ariano Irpino",
           "Avellino"
          ],
          [
           "Montemarano",
           "Avellino"
          ],
          [
           "Montemarano",
           "Avellino"
          ],
          [
           "Ariano Irpino",
           "Avellino"
          ],
          [
           "Castelfranci",
           "Avellino"
          ],
          [
           "Cesinali",
           "Avellino"
          ],
          [
           "Cesinali",
           "Avellino"
          ],
          [
           "Ariano Irpino",
           "Avellino"
          ],
          [
           "Montefredane",
           "Avellino"
          ],
          [
           "Montefredane",
           "Avellino"
          ],
          [
           "Ariano Irpino",
           "Avellino"
          ],
          [
           "Ariano Irpino",
           "Avellino"
          ],
          [
           "Sant'Angelo all'Esca",
           "Avellino"
          ],
          [
           "Manocalzati",
           "Avellino"
          ],
          [
           "Montefalcione",
           "Avellino"
          ],
          [
           "Venticano",
           "Avellino"
          ],
          [
           "Taurasi",
           "Avellino"
          ],
          [
           "Castelfranci",
           "Avellino"
          ],
          [
           "Montefredane",
           "Avellino"
          ],
          [
           "Montefalcione",
           "Avellino"
          ],
          [
           "Ariano Irpino",
           "Avellino"
          ]
         ],
         "hovertemplate": "<b>%{hovertext}</b><br><br>prov=%{customdata[1]}<br>lat=%{lat}<br>long=%{lon}<br>lau=%{customdata[0]}<extra></extra>",
         "hovertext": [
          "I Favati",
          "Cantina Riccio",
          "Cantina Riccio",
          "Cantina Riccio",
          "Cantina Riccio",
          "Antica Hirpinia",
          "Antica Hirpinia",
          "Antica Hirpinia",
          "Antica Hirpinia",
          "Antica Hirpinia",
          "Antica Hirpinia",
          "Rocca dell'Angelo",
          "Rocca dell'Angelo",
          "I Favati",
          "Cantine Crogliano",
          "Cantine Crogliano",
          "Cantine Crogliano",
          "Macchialupa",
          "Villa Raiano",
          "Agricola Boccella",
          "Tenuta Cavalier Pepe",
          "Fratelli Urciuolo",
          "Guido Marsella",
          "Macchialupa",
          "Guastaferro",
          "Petilia",
          "Petilia",
          "Petilia",
          "Petilia",
          "I Favati",
          "Esterina Centrella Viticoltore",
          "Macchialupa",
          "Macchialupa",
          "Macchialupa",
          "Vigne Irpine",
          "Vigne Irpine",
          "Vigne Irpine",
          "Vigne Irpine",
          "Vigne Irpine",
          "Vigne Irpine",
          "Vigne Irpine",
          "Vigne Irpine",
          "Vigne Irpine",
          "Vigne Irpine",
          "Vigne Irpine",
          "Vigne Irpine",
          "Fratelli Urciuolo",
          "Fratelli Urciuolo",
          "Fratelli Urciuolo",
          "Fratelli Urciuolo",
          "Ciro Picariello",
          "Ciro Picariello",
          "Ciro Picariello",
          "Ciro Picariello",
          "Tenuta Fonzone Caccese",
          "Tenuta Fonzone Caccese",
          "Tenuta Fonzone Caccese",
          "Tenuta Fonzone Caccese",
          "Tenuta Fonzone Caccese",
          "Rocca del Principe",
          "Quintodecimo",
          "Quintodecimo",
          "Quintodecimo",
          "Quintodecimo",
          "Cocciacavallo",
          "Cocciacavallo",
          "Cantine Vistabella",
          "Cantine Vistabella",
          "Antica Hirpinia",
          "Tenuta Nucilla",
          "Tenuta Nucilla",
          "Montevergine",
          "Castel dei Franci",
          "Castel dei Franci",
          "Castel dei Franci",
          "Castel dei Franci",
          "Castel dei Franci",
          "Castel dei Franci",
          "Castel dei Franci",
          "Azienda Vinicola Aminea",
          "Azienda Vinicola Aminea",
          "D'Antiche Terre",
          "D'Antiche Terre",
          "D'Antiche Terre",
          "D'Antiche Terre",
          "D'Antiche Terre",
          "D'Antiche Terre",
          "D'Antiche Terre",
          "D'Antiche Terre",
          "D'Antiche Terre",
          "D'Antiche Terre",
          "D'Antiche Terre",
          "La Casa dell'Orco",
          "La Casa dell'Orco",
          "La Casa dell'Orco",
          "La Casa dell'Orco",
          "La Casa dell'Orco",
          "La Casa dell'Orco",
          "La Casa dell'Orco",
          "La Casa dell'Orco",
          "La Casa dell'Orco",
          "La Casa dell'Orco",
          "La Casa dell'Orco",
          "La Casa dell'Orco",
          "La Casa dell'Orco",
          "La Casa dell'Orco",
          "Fattoria De Lillo",
          "Fattoria De Lillo",
          "Fattoria De Lillo",
          "Macchialupa",
          "I Favati",
          "Cantina San Paolo",
          "Cantina San Paolo",
          "Cantina San Paolo",
          "Cantina San Paolo",
          "Cantina San Paolo",
          "Cantina San Paolo",
          "Cantina San Paolo",
          "Joaquin",
          "Joaquin",
          "Joaquin",
          "Joaquin",
          "Joaquin",
          "Joaquin",
          "Borgodangelo",
          "Borgodangelo",
          "Borgodangelo",
          "Borgodangelo",
          "Borgodangelo",
          "Borgodangelo",
          "Cantina Perillo",
          "Cantina Perillo",
          "Cantina Perillo",
          "Mier Vini",
          "Mier Vini",
          "Mier Vini",
          "Mier Vini",
          "Mier Vini",
          "Mier Vini",
          "Mier Vini",
          "Mier Vini",
          "Luigi Tecce",
          "Luigi Tecce",
          "Vigne Guadagno",
          "Vigne Guadagno",
          "Vigne Guadagno",
          "Vigne Guadagno",
          "I Favati",
          "Quintodecimo",
          "Guastaferro",
          "Antico Castello",
          "Antico Castello",
          "Agricola Boccella",
          "Agricola Boccella",
          "Manimurci",
          "Cantine Tabernae",
          "Antico Borgo",
          "Cantina Bambinuto",
          "Cantine di Marzo",
          "Cantine Lonardo - Contrade di Taurasi",
          "Torricino",
          "Vinosia",
          "Azienda Agricola Di Meo",
          "Colline del Sole",
          "Mastroberardino",
          "Struzziero",
          "Terredora di Paolo",
          "Feudi di San Gregorio",
          "Terre Irpine",
          "Terre Colte",
          "Azienda Agricola Di Meo",
          "Cantine di Marzo",
          "Michele Contrada",
          "Azienda Agricola Di Meo",
          "Villa Raiano",
          "Colli di Castelfranci",
          "Colli di Castelfranci",
          "Colli di Lapio",
          "Cantina Bambinuto",
          "Mastroberardino",
          "Guerriero",
          "Fratelli Urciuolo",
          "Fratelli Urciuolo",
          "Cantina CalafÃ©",
          "Le Masciare",
          "A Casa",
          "Contea dÃ© Altavilla",
          "Antico Borgo",
          "Contea dÃ© Altavilla",
          "Di Prisco",
          "Tenuta Scuotto",
          "Tenuta Cavalier Pepe",
          "Feudi di San Gregorio",
          "Tenuta Cavalier Pepe",
          "Montesole",
          "A Casa",
          "Manimurci",
          "Feudi di San Gregorio",
          "Cantine Colle di Sandomenico",
          "Cantine Terranera",
          "Crypta Castagnara",
          "Donnachiara",
          "Macchia dei Briganti",
          "Michele Contrada",
          "Montesole",
          "Tenuta Scuotto",
          "Cantine Terranera",
          "Montesole",
          "Cantine Colle di Sandomenico",
          "Crypta Castagnara",
          "Michele Contrada",
          "Montesole",
          "Cantine Terranera",
          "Cantine Crogliano",
          "Montesole",
          "Cantine Colle di Sandomenico",
          "Cantine Terranera",
          "Montesole",
          "Macchia dei Briganti",
          "Cantine Terranera",
          "Cantine Terranera",
          "Cantina CalafÃ©",
          "Di Prisco",
          "Le Masciare",
          "Macchia dei Briganti",
          "Cantina Riccio",
          "Terredora di Paolo",
          "Terredora di Paolo",
          "Colli di Castelfranci",
          "Amarano",
          "Vinanda",
          "Vinanda",
          "Torricino",
          "I Capitani",
          "Cantine Sanpaolo",
          "Antico Borgo",
          "Azienda Agricola Di Meo",
          "Guerriero",
          "Donnachiara",
          "Di Prisco",
          "Rocca dell'Angelo",
          "Terredora di Paolo",
          "Azienda Agricola Di Meo",
          "Cantine Tabernae",
          "Villa Raiano",
          "Terredora di Paolo",
          "A Casa",
          "Vigna Villae in Taurasi",
          "Crypta Castagnara",
          "Feudi di San Gregorio",
          "Cantina dei Monaci",
          "Azienda Agricola Di Meo",
          "Vinanda",
          "Azienda Agricola Di Meo",
          "Cantine di Marzo",
          "Colli di Lapio",
          "Russo Taurasi",
          "Feudi di San Gregorio",
          "Feudi di San Gregorio",
          "Azienda Agricola Benito Ferrara",
          "Amarano",
          "Donnachiara",
          "Terredora di Paolo",
          "Crypta Castagnara",
          "Manimurci",
          "Cantina dei Monaci",
          "Terre Colte",
          "Vinosia",
          "Azienda Agricola Di Meo",
          "Cantina Bambinuto",
          "La Molara",
          "Torricino",
          "Feudi di San Gregorio",
          "Terre Irpine",
          "Cantine Sanpaolo",
          "Donnachiara",
          "Fratelli Urciuolo",
          "Tenuta Ponte",
          "Villa Raiano",
          "Terredora di Paolo",
          "Cantine Terranera",
          "Colline del Sole",
          "Cantine Colle di Sandomenico",
          "Mastroberardino",
          "Montesole",
          "Struzziero",
          "Michele Contrada",
          "Colline del Sole",
          "Vinosia",
          "Fratelli Urciuolo",
          "Fratelli Urciuolo",
          "Terredora di Paolo",
          "Montesole",
          "Cantina dei Monaci",
          "Del Nonno",
          "Antico Borgo",
          "Azienda Agricola Di Meo",
          "Cantina Bambinuto",
          "Cantine Colle di Sandomenico",
          "Cantine Sanpaolo",
          "Cantine Terranera",
          "Colli di Lapio",
          "Colline del Sole",
          "Contea dÃ© Altavilla",
          "Crypta Castagnara",
          "Donnachiara",
          "Feudi di San Gregorio",
          "Feudo Apiano",
          "Guerriero",
          "La Molara",
          "Le Masciare",
          "Macchia dei Briganti",
          "Mastroberardino",
          "Michele Contrada",
          "Montesole",
          "Romano (di Nicola Romano)",
          "Tenuta Ponte",
          "Tenuta Sarno 1860",
          "Tenuta Scuotto",
          "Terre Colte",
          "Terre Irpine",
          "Torricino",
          "Vigna Villae in Taurasi",
          "Villa Raiano",
          "Vigne Guadagno",
          "Cantine Terranera",
          "Salvatore Molettieri",
          "Cantine di Marzo",
          "Cantine di Marzo",
          "Mastroberardino",
          "A Casa",
          "Struzziero",
          "Cantine di Marzo",
          "Michele Contrada",
          "I Capitani",
          "Guerriero",
          "Quintodecimo",
          "Michele Contrada",
          "Colli di Castelfranci",
          "Michele Contrada",
          "Tenuta Cavalier Pepe",
          "Russo Taurasi",
          "Cantina dei Monaci",
          "Colline del Sole",
          "Antico Borgo",
          "Azienda Agricola Di Meo",
          "Cantina Bambinuto",
          "Cantina CalafÃ©",
          "Cantine Colle di Sandomenico",
          "Cantine Sanpaolo",
          "Cantine Terranera",
          "Colline del Sole",
          "Contea dÃ© Altavilla",
          "Crypta Castagnara",
          "Dell'Angelo",
          "Di Prisco",
          "Donnachiara",
          "Feudi di San Gregorio",
          "Guerriero",
          "La Molara",
          "Le Masciare",
          "Mastroberardino",
          "Michele Contrada",
          "Montesole",
          "Rocca dell'Angelo",
          "Salvatore Molettieri",
          "Tenuta Fonzone Caccese",
          "Tenuta Ponte",
          "Tenuta Scuotto",
          "Terre Colte",
          "Terre Irpine",
          "Torricino",
          "Vigna Villae in Taurasi",
          "Villa Raiano",
          "Cantine Terranera",
          "Cantine di Marzo",
          "Cantine di Marzo",
          "Mastroberardino",
          "Colline del Sole",
          "Cantine Lonardo - Contrade di Taurasi",
          "Russo Taurasi",
          "Montesole",
          "Colli di Castelfranci",
          "I Capitani",
          "Mastroberardino",
          "Montesole",
          "Cantina CalafÃ©",
          "Michele Contrada",
          "Cantina Riccio",
          "Terredora di Paolo",
          "Terredora di Paolo",
          "Terredora di Paolo",
          "Montesole",
          "La Molara",
          "Antico Borgo",
          "Cantine Colle di Sandomenico",
          "Cantine Crogliano",
          "Cantine Sanpaolo",
          "Colline del Sole",
          "Donnachiara",
          "Feudo Apiano",
          "Michele Contrada",
          "Rocca dell'Angelo",
          "Tenuta Fonzone Caccese",
          "Villa Raiano",
          "Cantine Terranera",
          "Salvatore Molettieri",
          "Salvatore Molettieri",
          "Cantine di Marzo",
          "Cantine di Marzo",
          "Antico Borgo",
          "Cantine Terranera",
          "Cantine Terranera",
          "Salvatore Molettieri",
          "Contea dÃ© Altavilla",
          "Michele Contrada",
          "Antico Castello",
          "Cantine Crogliano",
          "Antico Castello",
          "Antico Castello",
          "Salvatore Molettieri",
          "Azienda Agricola Di Meo",
          "Cantine Sanpaolo",
          "I Capitani",
          "Montesole",
          "Tenuta Cavalier Pepe",
          "Mastroberardino",
          "Feudi di San Gregorio",
          "Montesole",
          "Mastroberardino",
          "Struzziero",
          "Terredora di Paolo",
          "Struzziero",
          "Mastroberardino",
          "Struzziero",
          "Terredora di Paolo",
          "Feudi di San Gregorio",
          "Montesole",
          "Vinosia",
          "Vinosia",
          "Vinosia",
          "Vinosia",
          "Tenuta Cavalier Pepe",
          "Terredora di Paolo",
          "Amarano",
          "Russo Taurasi",
          "Amarano",
          "Feudi di San Gregorio",
          "Vinosia",
          "Mastroberardino",
          "Mastroberardino",
          "Mastroberardino",
          "Mastroberardino",
          "Cantina Bambinuto",
          "Mastroberardino",
          "Cantine Tabernae",
          "Terre Colte",
          "Cantina dei Monaci",
          "Montesole",
          "Montesole",
          "Montesole",
          "Montesole",
          "Mastroberardino",
          "Mastroberardino",
          "La Molara",
          "Mastroberardino",
          "Manimurci",
          "Mastroberardino",
          "Vinosia",
          "Mastroberardino",
          "Tenuta Scuotto",
          "Tenuta Cavalier Pepe",
          "Villa Raiano",
          "A Casa",
          "Donnachiara",
          "Feudi di San Gregorio",
          "Terredora di Paolo",
          "Vigna Villae in Taurasi",
          "Michele Contrada",
          "Michele Contrada",
          "Michele Contrada",
          "Montesole",
          "Terredora di Paolo",
          "Azienda Agricola Benito Ferrara",
          "Vesevo",
          "Colli di Castelfranci",
          "Vigna Villae in Taurasi",
          "Vigna Villae in Taurasi",
          "Feudi di San Gregorio",
          "Cantina Bambinuto",
          "Vinosia",
          "Feudi di San Gregorio",
          "Vinosia",
          "Di Prisco",
          "Feudi di San Gregorio",
          "I Favati",
          "Manimurci",
          "Michele Contrada",
          "Terre Irpine",
          "Cantine Colle di Sandomenico",
          "Amarano",
          "Feudi di San Gregorio",
          "Cantina Bambinuto",
          "Manimurci",
          "Mastroberardino",
          "Mastroberardino",
          "Mastroberardino",
          "Mastroberardino",
          "Mastroberardino",
          "Vinosia",
          "Torricino",
          "Mastroberardino",
          "Tenuta Cavalier Pepe",
          "Montesole",
          "Manimurci",
          "Vinosia",
          "La Molara",
          "Terredora di Paolo",
          "Vinosia",
          "Tenuta Cavalier Pepe",
          "Feudi di San Gregorio",
          "Feudi di San Gregorio",
          "Colli di Castelfranci",
          "Manimurci",
          "Amarano",
          "Di Prisco",
          "Michele Contrada",
          "Feudi di San Gregorio",
          "Contea dÃ© Altavilla",
          "Montesole",
          "Cantine Tabernae",
          "Tenuta Cavalier Pepe",
          "Montesole",
          "Cantina dei Monaci",
          "La Molara",
          "La Molara",
          "Vinosia",
          "Vinanda",
          "Vinanda",
          "Tenuta Cavalier Pepe",
          "Azienda Agricola Di Meo",
          "Michele Contrada",
          "Michele Contrada",
          "Azienda Agricola Benito Ferrara",
          "Montesole",
          "Feudi di San Gregorio",
          "Torricino",
          "Feudi di San Gregorio",
          "I Capitani",
          "Vinosia",
          "Del Nonno",
          "Montesole",
          "Colli di Castelfranci",
          "Vinosia",
          "Feudi di San Gregorio",
          "Montesole",
          "Cantine di Marzo",
          "Russo Taurasi",
          "Montesole",
          "Cantine Sanpaolo",
          "Michele Contrada",
          "Michele Contrada",
          "Antico Borgo",
          "Cantina Bambinuto",
          "Cantina CalafÃ©",
          "Cantine Lonardo - Contrade di Taurasi",
          "Cantine Tabernae",
          "Cantine Terranera",
          "Colline del Sole",
          "Crypta Castagnara",
          "Di Prisco",
          "Domenico Caputo",
          "Donnachiara",
          "Feudi di San Gregorio",
          "Feudo Apiano",
          "Le Masciare",
          "Michele Contrada",
          "Montesole",
          "Rocca del Principe",
          "Romano (di Nicola Romano)",
          "Tenuta Ponte",
          "Tenuta Scuotto",
          "Terre Irpine",
          "Vigna Villae in Taurasi",
          "Villa Raiano",
          "Cantine Terranera",
          "I Capitani",
          "Terre Colte",
          "Cantine Lonardo - Contrade di Taurasi",
          "Donnachiara",
          "Guastaferro",
          "Salvatore Molettieri",
          "Azienda Agricola Di Meo",
          "Cantina CalafÃ©",
          "Cantine Colle di Sandomenico",
          "Cantine Crogliano",
          "Cantine Lonardo - Contrade di Taurasi",
          "Cantine Sanpaolo",
          "Case d'Alto",
          "Donnachiara",
          "Struzziero",
          "Terre Irpine",
          "Azienda Agricola Di Meo",
          "Salvatore Molettieri",
          "Salvatore Molettieri",
          "Guerriero",
          "Cantine Lonardo - Contrade di Taurasi",
          "Struzziero",
          "Tenuta Cavalier Pepe",
          "Azienda Agricola Benito Ferrara",
          "Terredora di Paolo",
          "I Favati",
          "A Casa",
          "Cantine Tabernae",
          "Colli di Castelfranci",
          "Vinanda",
          "A Casa",
          "Tenuta Cavalier Pepe",
          "Villa Raiano",
          "Vesevo",
          "Vesevo",
          "Vesevo",
          "Vesevo",
          "Vesevo",
          "Montesole",
          "Montesole",
          "Azienda Agricola Benito Ferrara",
          "La Molara",
          "A Casa",
          "A Casa",
          "Azienda Agricola Benito Ferrara",
          "Azienda Agricola Benito Ferrara",
          "A Casa",
          "Montesole",
          "Montesole",
          "Mastroberardino",
          "Struzziero",
          "Vigna Villae in Taurasi",
          "Mastroberardino",
          "Struzziero",
          "Ciro Picariello",
          "Manimurci",
          "Cantina Giardino",
          "Vadiaperti",
          "Mont'Antico",
          "Villa Diamante",
          "Mont'Antico",
          "Colli di Lapio",
          "Cantine Crogliano",
          "Historia Antiqua",
          "Historia Antiqua",
          "Historia Antiqua",
          "Historia Antiqua",
          "Cantine Crogliano",
          "Historia Antiqua",
          "Cantine Crogliano",
          "Historia Antiqua",
          "Villa Diamante",
          "Cantina Giardino",
          "Vadiaperti",
          "Historia Antiqua",
          "Cantina Giardino",
          "Feudi di San Gregorio",
          "Mont'Antico",
          "Vadiaperti",
          "Guastaferro",
          "Mont'Antico",
          "Cantine Crogliano",
          "Guastaferro",
          "Historia Antiqua",
          "Mont'Antico",
          "Rocca dell'Angelo",
          "Vadiaperti",
          "Cantina Giardino",
          "Il Cancelliere",
          "Historia Antiqua",
          "Mont'Antico",
          "Vadiaperti",
          "Historia Antiqua",
          "Historia Antiqua",
          "Mont'Antico",
          "Historia Antiqua",
          "Historia Antiqua",
          "Cantina Giardino",
          "Il Cancelliere",
          "Il Cancelliere",
          "Cantina Giardino",
          "Colli di Castelfranci",
          "Cantine Del Barone",
          "Cantine Del Barone",
          "Cantina Giardino",
          "Villa Diamante",
          "Villa Diamante",
          "Cantina Giardino",
          "Cantina Giardino",
          "Cased'Angelo",
          "Historia Antiqua",
          "Mont'Antico",
          "Struzziero",
          "Guastaferro",
          "Colli di Castelfranci",
          "Villa Diamante",
          "Mont'Antico",
          "Cantina Giardino"
         ],
         "lat": [
          40.89945,
          40.951519,
          40.951519,
          40.951519,
          40.951519,
          41.024416,
          41.024416,
          41.024416,
          41.024416,
          41.024416,
          41.024416,
          41.057527,
          41.057527,
          40.89945,
          40.959055,
          40.959055,
          40.959055,
          41.046157,
          40.874389,
          40.927652,
          41.00897,
          40.858116,
          40.946305,
          41.046157,
          41.009507,
          40.991019,
          40.991019,
          40.991019,
          40.991019,
          40.89945,
          41.027213,
          41.046157,
          41.046157,
          41.046157,
          41.016652,
          41.016652,
          41.016652,
          41.016652,
          41.016652,
          41.016652,
          41.016652,
          41.016652,
          41.016652,
          41.016652,
          41.016652,
          41.016652,
          40.858116,
          40.858116,
          40.858116,
          40.858116,
          40.944334,
          40.944334,
          40.944334,
          40.944334,
          40.963649,
          40.963649,
          40.963649,
          40.963649,
          40.963649,
          40.967063,
          41.04673,
          41.04673,
          41.04673,
          41.04673,
          40.984346,
          40.984346,
          40.96275,
          40.96275,
          41.024416,
          41.037579,
          41.037579,
          40.91028,
          40.931011,
          40.931011,
          40.931011,
          40.931011,
          40.931011,
          40.931011,
          40.931011,
          40.939801,
          40.939801,
          40.93825,
          40.93825,
          40.93825,
          40.93825,
          40.93825,
          40.93825,
          40.93825,
          40.93825,
          40.93825,
          40.93825,
          40.93825,
          40.912723,
          40.912723,
          40.912723,
          40.912723,
          40.912723,
          40.912723,
          40.912723,
          40.912723,
          40.912723,
          40.912723,
          40.912723,
          40.912723,
          40.912723,
          40.912723,
          41.026239,
          41.026239,
          41.026239,
          41.046157,
          40.89945,
          41.022788,
          41.022788,
          41.022788,
          41.022788,
          41.022788,
          41.022788,
          41.022788,
          40.971792,
          40.971792,
          40.971792,
          40.971792,
          40.971792,
          40.971792,
          41.001617,
          41.001617,
          41.001617,
          41.001617,
          41.001617,
          41.001617,
          40.924148,
          40.924148,
          40.924148,
          41.009109,
          41.009109,
          41.009109,
          41.009109,
          41.009109,
          41.009109,
          41.009109,
          41.009109,
          40.952057,
          40.952057,
          40.91897,
          40.91897,
          40.91897,
          40.91897,
          40.89945,
          41.04673,
          41.009507,
          40.959183,
          40.959183,
          40.927652,
          40.927652,
          40.964298,
          41.004168,
          41.010741,
          41.02371,
          41.01056,
          41.007873,
          41.007955,
          40.969372,
          40.926143,
          41.022673,
          40.923361,
          41.047608,
          41.023432,
          40.911369,
          41.023578,
          40.985889,
          40.926143,
          41.01056,
          40.944277,
          40.926143,
          40.874389,
          40.916298,
          40.916298,
          40.971259,
          41.02371,
          40.923361,
          41.006208,
          40.858116,
          40.858116,
          40.988697,
          40.983721,
          40.930863,
          41.001125,
          41.010741,
          41.001125,
          41.000018,
          40.990929,
          41.00897,
          40.911369,
          41.00897,
          41.028918,
          40.930863,
          40.964298,
          40.911369,
          40.901135,
          40.967256,
          40.96733,
          40.955245,
          40.955438,
          40.944277,
          41.028918,
          40.990929,
          40.967256,
          41.028918,
          40.901135,
          40.96733,
          40.944277,
          41.028918,
          40.967256,
          40.959055,
          41.028918,
          40.901135,
          40.967256,
          41.028918,
          40.955438,
          40.967256,
          40.967256,
          40.988697,
          41.000018,
          40.983721,
          40.955438,
          40.951519,
          41.023432,
          41.023432,
          40.916298,
          40.916048,
          41.037362,
          41.037362,
          41.007955,
          41.024717,
          41.022723,
          41.010741,
          40.926143,
          41.006208,
          40.955245,
          41.000018,
          41.057527,
          41.023432,
          40.926143,
          41.004168,
          40.874389,
          41.023432,
          40.930863,
          41.008927,
          40.96733,
          40.911369,
          41.010126,
          40.926143,
          41.037362,
          40.926143,
          41.01056,
          40.971259,
          40.993641,
          40.911369,
          40.911369,
          41.019496,
          40.916048,
          40.955245,
          41.023432,
          40.96733,
          40.964298,
          41.010126,
          40.985889,
          40.969372,
          40.926143,
          41.02371,
          40.985829,
          41.007955,
          40.911369,
          41.023578,
          41.022723,
          40.955245,
          40.858116,
          40.987973,
          40.874389,
          41.023432,
          40.967256,
          41.022673,
          40.901135,
          40.923361,
          41.028918,
          41.047608,
          40.944277,
          41.022673,
          40.969372,
          40.858116,
          40.858116,
          41.023432,
          41.028918,
          41.010126,
          40.890053,
          41.010741,
          40.926143,
          41.02371,
          40.901135,
          41.022723,
          40.967256,
          40.971259,
          41.022673,
          41.001125,
          40.96733,
          40.955245,
          40.911369,
          40.979321,
          41.006208,
          40.985829,
          40.983721,
          40.955438,
          40.923361,
          40.944277,
          41.028918,
          40.968255,
          40.987973,
          40.942429,
          40.990929,
          40.985889,
          41.023578,
          41.007955,
          41.008927,
          40.874389,
          40.91897,
          40.967256,
          40.928338,
          41.01056,
          41.01056,
          40.923361,
          40.930863,
          41.047608,
          41.01056,
          40.944277,
          41.024717,
          41.006208,
          41.04673,
          40.944277,
          40.916298,
          40.944277,
          41.00897,
          40.993641,
          41.010126,
          41.022673,
          41.010741,
          40.926143,
          41.02371,
          40.988697,
          40.901135,
          41.022723,
          40.967256,
          41.022673,
          41.001125,
          40.96733,
          41.010052,
          41.000018,
          40.955245,
          40.911369,
          41.006208,
          40.985829,
          40.983721,
          40.923361,
          40.944277,
          41.028918,
          41.057527,
          40.928338,
          40.963649,
          40.987973,
          40.990929,
          40.985889,
          41.023578,
          41.007955,
          41.008927,
          40.874389,
          40.967256,
          41.01056,
          41.01056,
          40.923361,
          41.022673,
          41.007873,
          40.993641,
          41.028918,
          40.916298,
          41.024717,
          40.923361,
          41.028918,
          40.988697,
          40.944277,
          40.951519,
          41.023432,
          41.023432,
          41.023432,
          41.028918,
          40.985829,
          41.010741,
          40.901135,
          40.959055,
          41.022723,
          41.022673,
          40.955245,
          40.979321,
          40.944277,
          41.057527,
          40.963649,
          40.874389,
          40.967256,
          40.928338,
          40.928338,
          41.01056,
          41.01056,
          41.010741,
          40.967256,
          40.967256,
          40.928338,
          41.001125,
          40.944277,
          40.959183,
          40.959055,
          40.959183,
          40.959183,
          40.928338,
          40.926143,
          41.022723,
          41.024717,
          41.028918,
          41.00897,
          40.923361,
          40.911369,
          41.028918,
          40.923361,
          41.047608,
          41.023432,
          41.047608,
          40.923361,
          41.047608,
          41.023432,
          40.911369,
          41.028918,
          40.969372,
          40.969372,
          40.969372,
          40.969372,
          41.00897,
          41.023432,
          40.916048,
          40.993641,
          40.916048,
          40.911369,
          40.969372,
          40.923361,
          40.923361,
          40.923361,
          40.923361,
          41.02371,
          40.923361,
          41.004168,
          40.985889,
          41.010126,
          41.028918,
          41.028918,
          41.028918,
          41.028918,
          40.923361,
          40.923361,
          40.985829,
          40.923361,
          40.964298,
          40.923361,
          40.969372,
          40.923361,
          40.990929,
          41.00897,
          40.874389,
          40.930863,
          40.955245,
          40.911369,
          41.023432,
          41.008927,
          40.944277,
          40.944277,
          40.944277,
          41.028918,
          41.023432,
          41.019496,
          40.861973,
          40.916298,
          41.008927,
          41.008927,
          40.911369,
          41.02371,
          40.969372,
          40.911369,
          40.969372,
          41.000018,
          40.911369,
          40.89945,
          40.964298,
          40.944277,
          41.023578,
          40.901135,
          40.916048,
          40.911369,
          41.02371,
          40.964298,
          40.923361,
          40.923361,
          40.923361,
          40.923361,
          40.923361,
          40.969372,
          41.007955,
          40.923361,
          41.00897,
          41.028918,
          40.964298,
          40.969372,
          40.985829,
          41.023432,
          40.969372,
          41.00897,
          40.911369,
          40.911369,
          40.916298,
          40.964298,
          40.916048,
          41.000018,
          40.944277,
          40.911369,
          41.001125,
          41.028918,
          41.004168,
          41.00897,
          41.028918,
          41.010126,
          40.985829,
          40.985829,
          40.969372,
          41.037362,
          41.037362,
          41.00897,
          40.926143,
          40.944277,
          40.944277,
          41.019496,
          41.028918,
          40.911369,
          41.007955,
          40.911369,
          41.024717,
          40.969372,
          40.890053,
          41.028918,
          40.916298,
          40.969372,
          40.911369,
          41.028918,
          41.01056,
          40.993641,
          41.028918,
          41.022723,
          40.944277,
          40.944277,
          41.010741,
          41.02371,
          40.988697,
          41.007873,
          41.004168,
          40.967256,
          41.022673,
          40.96733,
          41.000018,
          41.008104,
          40.955245,
          40.911369,
          40.979321,
          40.983721,
          40.944277,
          41.028918,
          40.967063,
          40.968255,
          40.987973,
          40.990929,
          41.023578,
          41.008927,
          40.874389,
          40.967256,
          41.024717,
          40.985889,
          41.007873,
          40.955245,
          41.009507,
          40.928338,
          40.926143,
          40.988697,
          40.901135,
          40.959055,
          41.007873,
          41.022723,
          41.069382,
          40.955245,
          41.047608,
          41.023578,
          40.926143,
          40.928338,
          40.928338,
          41.006208,
          41.007873,
          41.047608,
          41.00897,
          41.019496,
          41.023432,
          40.89945,
          40.930863,
          41.004168,
          40.916298,
          41.037362,
          40.930863,
          41.00897,
          40.874389,
          40.861973,
          40.861973,
          40.861973,
          40.861973,
          40.861973,
          41.028918,
          41.028918,
          41.019496,
          40.985829,
          40.930863,
          40.930863,
          41.019496,
          41.019496,
          40.930863,
          41.028918,
          41.028918,
          40.923361,
          41.047608,
          41.008927,
          40.923361,
          41.047608,
          40.944334,
          40.964298,
          41.158094,
          40.964053,
          40.961435,
          40.968401,
          40.961435,
          40.971259,
          40.959055,
          40.941201,
          40.941201,
          40.941201,
          40.941201,
          40.959055,
          40.941201,
          40.959055,
          40.941201,
          40.968401,
          41.158094,
          40.964053,
          40.941201,
          41.158094,
          40.911369,
          40.961435,
          40.964053,
          41.009507,
          40.961435,
          40.959055,
          41.009507,
          40.941201,
          40.961435,
          41.057527,
          40.964053,
          41.158094,
          40.936891,
          40.941201,
          40.961435,
          40.964053,
          40.941201,
          40.941201,
          40.961435,
          40.941201,
          40.941201,
          41.158094,
          40.936891,
          40.936891,
          41.158094,
          40.916298,
          40.892615,
          40.892615,
          41.158094,
          40.968401,
          40.968401,
          41.158094,
          41.158094,
          41.006356,
          40.941201,
          40.961435,
          41.047608,
          41.009507,
          40.916298,
          40.968401,
          40.961435,
          41.158094
         ],
         "legendgroup": "Avellino",
         "lon": [
          14.825894,
          14.914735,
          14.914735,
          14.914735,
          14.914735,
          14.953541,
          14.953541,
          14.953541,
          14.953541,
          14.953541,
          14.953541,
          14.904608,
          14.904608,
          14.825894,
          14.883131,
          14.883131,
          14.883131,
          14.789589,
          14.832333,
          15.052481,
          14.994246,
          14.752969,
          14.747731,
          14.789589,
          14.961157,
          14.783194,
          14.783194,
          14.783194,
          14.783194,
          14.825894,
          14.804384,
          14.789589,
          14.789589,
          14.789589,
          14.874782,
          14.874782,
          14.874782,
          14.874782,
          14.874782,
          14.874782,
          14.874782,
          14.874782,
          14.874782,
          14.874782,
          14.874782,
          14.874782,
          14.752969,
          14.752969,
          14.752969,
          14.752969,
          14.757079,
          14.757079,
          14.757079,
          14.757079,
          15.063642,
          15.063642,
          15.063642,
          15.063642,
          15.063642,
          14.925986,
          14.990587,
          14.990587,
          14.990587,
          14.990587,
          14.868222,
          14.868222,
          14.810911,
          14.810911,
          14.953541,
          14.933236,
          14.933236,
          14.816807,
          15.043869,
          15.043869,
          15.043869,
          15.043869,
          15.043869,
          15.043869,
          15.043869,
          14.975331,
          14.975331,
          14.832868,
          14.832868,
          14.832868,
          14.832868,
          14.832868,
          14.832868,
          14.832868,
          14.832868,
          14.832868,
          14.832868,
          14.832868,
          14.769109,
          14.769109,
          14.769109,
          14.769109,
          14.769109,
          14.769109,
          14.769109,
          14.769109,
          14.769109,
          14.769109,
          14.769109,
          14.769109,
          14.769109,
          14.769109,
          14.846904,
          14.846904,
          14.846904,
          14.789589,
          14.825894,
          14.82199,
          14.82199,
          14.82199,
          14.82199,
          14.82199,
          14.82199,
          14.82199,
          14.877106,
          14.877106,
          14.877106,
          14.877106,
          14.877106,
          14.877106,
          14.99623,
          14.99623,
          14.99623,
          14.99623,
          14.99623,
          14.99623,
          15.046102,
          15.046102,
          15.046102,
          14.957808,
          14.957808,
          14.957808,
          14.957808,
          14.957808,
          14.957808,
          14.957808,
          14.957808,
          15.039684,
          15.039684,
          14.783272,
          14.783272,
          14.783272,
          14.783272,
          14.825894,
          14.990587,
          14.961157,
          14.973723,
          14.973723,
          15.052481,
          15.052481,
          15.036874,
          15.106919,
          14.956603,
          14.846525,
          14.82055,
          14.957243,
          14.829458,
          15.032455,
          14.886872,
          14.809701,
          14.832046,
          14.918042,
          14.880754,
          14.867475,
          15.124393,
          14.991214,
          14.886872,
          14.82055,
          14.880627,
          14.886872,
          14.832333,
          15.081493,
          15.081493,
          14.927675,
          14.846525,
          14.832046,
          14.961504,
          14.752969,
          14.752969,
          14.830503,
          15.02479,
          14.824782,
          14.775339,
          14.956603,
          14.775339,
          15.024179,
          14.922583,
          14.994246,
          14.867475,
          14.994246,
          14.882418,
          14.824782,
          15.036874,
          14.867475,
          14.950137,
          14.790662,
          14.792886,
          14.878085,
          14.911503,
          14.880627,
          14.882418,
          14.922583,
          14.790662,
          14.882418,
          14.950137,
          14.792886,
          14.880627,
          14.882418,
          14.790662,
          14.883131,
          14.882418,
          14.950137,
          14.790662,
          14.882418,
          14.911503,
          14.790662,
          14.790662,
          14.830503,
          15.024179,
          15.02479,
          14.911503,
          14.914735,
          14.880754,
          14.880754,
          15.081493,
          14.998522,
          15.004707,
          15.004707,
          14.829458,
          14.925377,
          14.830123,
          14.956603,
          14.886872,
          14.961504,
          14.878085,
          15.024179,
          14.904608,
          14.880754,
          14.886872,
          15.106919,
          14.832333,
          14.880754,
          14.824782,
          14.958712,
          14.792886,
          14.867475,
          14.844739,
          14.886872,
          15.004707,
          14.886872,
          14.82055,
          14.927675,
          14.979193,
          14.867475,
          14.867475,
          14.822287,
          14.998522,
          14.878085,
          14.880754,
          14.792886,
          15.036874,
          14.844739,
          14.991214,
          15.032455,
          14.886872,
          14.846525,
          14.994159,
          14.829458,
          14.867475,
          15.124393,
          14.830123,
          14.878085,
          14.752969,
          14.981519,
          14.832333,
          14.880754,
          14.790662,
          14.809701,
          14.950137,
          14.832046,
          14.882418,
          14.918042,
          14.880627,
          14.809701,
          15.032455,
          14.752969,
          14.752969,
          14.880754,
          14.882418,
          14.844739,
          14.835395,
          14.956603,
          14.886872,
          14.846525,
          14.950137,
          14.830123,
          14.790662,
          14.927675,
          14.809701,
          14.775339,
          14.792886,
          14.878085,
          14.867475,
          14.937332,
          14.961504,
          14.994159,
          15.02479,
          14.911503,
          14.832046,
          14.880627,
          14.882418,
          14.926227,
          14.981519,
          14.875199,
          14.922583,
          14.991214,
          15.124393,
          14.829458,
          14.958712,
          14.832333,
          14.783272,
          14.790662,
          15.02581,
          14.82055,
          14.82055,
          14.832046,
          14.824782,
          14.918042,
          14.82055,
          14.880627,
          14.925377,
          14.961504,
          14.990587,
          14.880627,
          15.081493,
          14.880627,
          14.994246,
          14.979193,
          14.844739,
          14.809701,
          14.956603,
          14.886872,
          14.846525,
          14.830503,
          14.950137,
          14.830123,
          14.790662,
          14.809701,
          14.775339,
          14.792886,
          14.827442,
          15.024179,
          14.878085,
          14.867475,
          14.961504,
          14.994159,
          15.02479,
          14.832046,
          14.880627,
          14.882418,
          14.904608,
          15.02581,
          15.063642,
          14.981519,
          14.922583,
          14.991214,
          15.124393,
          14.829458,
          14.958712,
          14.832333,
          14.790662,
          14.82055,
          14.82055,
          14.832046,
          14.809701,
          14.957243,
          14.979193,
          14.882418,
          15.081493,
          14.925377,
          14.832046,
          14.882418,
          14.830503,
          14.880627,
          14.914735,
          14.880754,
          14.880754,
          14.880754,
          14.882418,
          14.994159,
          14.956603,
          14.950137,
          14.883131,
          14.830123,
          14.809701,
          14.878085,
          14.937332,
          14.880627,
          14.904608,
          15.063642,
          14.832333,
          14.790662,
          15.02581,
          15.02581,
          14.82055,
          14.82055,
          14.956603,
          14.790662,
          14.790662,
          15.02581,
          14.775339,
          14.880627,
          14.973723,
          14.883131,
          14.973723,
          14.973723,
          15.02581,
          14.886872,
          14.830123,
          14.925377,
          14.882418,
          14.994246,
          14.832046,
          14.867475,
          14.882418,
          14.832046,
          14.918042,
          14.880754,
          14.918042,
          14.832046,
          14.918042,
          14.880754,
          14.867475,
          14.882418,
          15.032455,
          15.032455,
          15.032455,
          15.032455,
          14.994246,
          14.880754,
          14.998522,
          14.979193,
          14.998522,
          14.867475,
          15.032455,
          14.832046,
          14.832046,
          14.832046,
          14.832046,
          14.846525,
          14.832046,
          15.106919,
          14.991214,
          14.844739,
          14.882418,
          14.882418,
          14.882418,
          14.882418,
          14.832046,
          14.832046,
          14.994159,
          14.832046,
          15.036874,
          14.832046,
          15.032455,
          14.832046,
          14.922583,
          14.994246,
          14.832333,
          14.824782,
          14.878085,
          14.867475,
          14.880754,
          14.958712,
          14.880627,
          14.880627,
          14.880627,
          14.882418,
          14.880754,
          14.822287,
          14.734797,
          15.081493,
          14.958712,
          14.958712,
          14.867475,
          14.846525,
          15.032455,
          14.867475,
          15.032455,
          15.024179,
          14.867475,
          14.825894,
          15.036874,
          14.880627,
          15.124393,
          14.950137,
          14.998522,
          14.867475,
          14.846525,
          15.036874,
          14.832046,
          14.832046,
          14.832046,
          14.832046,
          14.832046,
          15.032455,
          14.829458,
          14.832046,
          14.994246,
          14.882418,
          15.036874,
          15.032455,
          14.994159,
          14.880754,
          15.032455,
          14.994246,
          14.867475,
          14.867475,
          15.081493,
          15.036874,
          14.998522,
          15.024179,
          14.880627,
          14.867475,
          14.775339,
          14.882418,
          15.106919,
          14.994246,
          14.882418,
          14.844739,
          14.994159,
          14.994159,
          15.032455,
          15.004707,
          15.004707,
          14.994246,
          14.886872,
          14.880627,
          14.880627,
          14.822287,
          14.882418,
          14.867475,
          14.829458,
          14.867475,
          14.925377,
          15.032455,
          14.835395,
          14.882418,
          15.081493,
          15.032455,
          14.867475,
          14.882418,
          14.82055,
          14.979193,
          14.882418,
          14.830123,
          14.880627,
          14.880627,
          14.956603,
          14.846525,
          14.830503,
          14.957243,
          15.106919,
          14.790662,
          14.809701,
          14.792886,
          15.024179,
          14.973814,
          14.878085,
          14.867475,
          14.937332,
          15.02479,
          14.880627,
          14.882418,
          14.925986,
          14.926227,
          14.981519,
          14.922583,
          15.124393,
          14.958712,
          14.832333,
          14.790662,
          14.925377,
          14.991214,
          14.957243,
          14.878085,
          14.961157,
          15.02581,
          14.886872,
          14.830503,
          14.950137,
          14.883131,
          14.957243,
          14.830123,
          15.05795,
          14.878085,
          14.918042,
          15.124393,
          14.886872,
          15.02581,
          15.02581,
          14.961504,
          14.957243,
          14.918042,
          14.994246,
          14.822287,
          14.880754,
          14.825894,
          14.824782,
          15.106919,
          15.081493,
          15.004707,
          14.824782,
          14.994246,
          14.832333,
          14.734797,
          14.734797,
          14.734797,
          14.734797,
          14.734797,
          14.882418,
          14.882418,
          14.822287,
          14.994159,
          14.824782,
          14.824782,
          14.822287,
          14.822287,
          14.824782,
          14.882418,
          14.882418,
          14.832046,
          14.918042,
          14.958712,
          14.832046,
          14.918042,
          14.757079,
          15.036874,
          15.099102,
          14.811549,
          14.885117,
          14.825111,
          14.885117,
          14.927675,
          14.883131,
          14.851839,
          14.851839,
          14.851839,
          14.851839,
          14.883131,
          14.851839,
          14.883131,
          14.851839,
          14.825111,
          15.099102,
          14.811549,
          14.851839,
          15.099102,
          14.867475,
          14.885117,
          14.811549,
          14.961157,
          14.885117,
          14.883131,
          14.961157,
          14.851839,
          14.885117,
          14.904608,
          14.811549,
          15.099102,
          15.020842,
          14.851839,
          14.885117,
          14.811549,
          14.851839,
          14.851839,
          14.885117,
          14.851839,
          14.851839,
          15.099102,
          15.020842,
          15.020842,
          15.099102,
          15.081493,
          14.838032,
          14.838032,
          15.099102,
          14.825111,
          14.825111,
          15.099102,
          15.099102,
          14.994339,
          14.851839,
          14.885117,
          14.918042,
          14.961157,
          15.081493,
          14.825111,
          14.885117,
          15.099102
         ],
         "marker": {
          "color": "#EF553B"
         },
         "mode": "markers",
         "name": "Avellino",
         "showlegend": true,
         "subplot": "mapbox",
         "type": "scattermapbox"
        },
        {
         "customdata": [
          [
           "Torrecuso",
           "Benevento"
          ],
          [
           "Torrecuso",
           "Benevento"
          ],
          [
           "Torrecuso",
           "Benevento"
          ],
          [
           "Foglianise",
           "Benevento"
          ],
          [
           "Montesarchio",
           "Benevento"
          ],
          [
           "Torrecuso",
           "Benevento"
          ],
          [
           "Ponte",
           "Benevento"
          ],
          [
           "Ponte",
           "Benevento"
          ],
          [
           "Ponte",
           "Benevento"
          ],
          [
           "Torrecuso",
           "Benevento"
          ],
          [
           "Torrecuso",
           "Benevento"
          ],
          [
           "Torrecuso",
           "Benevento"
          ],
          [
           "Torrecuso",
           "Benevento"
          ],
          [
           "Torrecuso",
           "Benevento"
          ],
          [
           "Torrecuso",
           "Benevento"
          ],
          [
           "Guardia Sanframondi",
           "Benevento"
          ],
          [
           "Guardia Sanframondi",
           "Benevento"
          ],
          [
           "Guardia Sanframondi",
           "Benevento"
          ],
          [
           "Guardia Sanframondi",
           "Benevento"
          ],
          [
           "Guardia Sanframondi",
           "Benevento"
          ],
          [
           "Paduli",
           "Benevento"
          ],
          [
           "Paduli",
           "Benevento"
          ],
          [
           "Paduli",
           "Benevento"
          ],
          [
           "Paduli",
           "Benevento"
          ],
          [
           "Torrecuso",
           "Benevento"
          ],
          [
           "Torrecuso",
           "Benevento"
          ],
          [
           "San Lupo",
           "Benevento"
          ],
          [
           "San Lupo",
           "Benevento"
          ],
          [
           "San Lupo",
           "Benevento"
          ],
          [
           "San Lupo",
           "Benevento"
          ],
          [
           "San Lupo",
           "Benevento"
          ],
          [
           "Benevento",
           "Benevento"
          ],
          [
           "San Lorenzello",
           "Benevento"
          ],
          [
           "San Lorenzello",
           "Benevento"
          ],
          [
           "San Lorenzello",
           "Benevento"
          ],
          [
           "Torrecuso",
           "Benevento"
          ],
          [
           "Torrecuso",
           "Benevento"
          ],
          [
           "Torrecuso",
           "Benevento"
          ],
          [
           "Torrecuso",
           "Benevento"
          ],
          [
           "Torrecuso",
           "Benevento"
          ],
          [
           "Solopaca",
           "Benevento"
          ],
          [
           "Solopaca",
           "Benevento"
          ],
          [
           "Solopaca",
           "Benevento"
          ],
          [
           "Solopaca",
           "Benevento"
          ],
          [
           "Solopaca",
           "Benevento"
          ],
          [
           "Solopaca",
           "Benevento"
          ],
          [
           "Solopaca",
           "Benevento"
          ],
          [
           "Solopaca",
           "Benevento"
          ],
          [
           "Solopaca",
           "Benevento"
          ],
          [
           "Guardia Sanframondi",
           "Benevento"
          ],
          [
           "Torrecuso",
           "Benevento"
          ],
          [
           "Frasso Telesino",
           "Benevento"
          ],
          [
           "Vitulano",
           "Benevento"
          ],
          [
           "Ceppaloni",
           "Benevento"
          ],
          [
           "Torrecuso",
           "Benevento"
          ],
          [
           "Guardia Sanframondi",
           "Benevento"
          ],
          [
           "Guardia Sanframondi",
           "Benevento"
          ],
          [
           "Vitulano",
           "Benevento"
          ],
          [
           "Casalduni",
           "Benevento"
          ],
          [
           "Guardia Sanframondi",
           "Benevento"
          ],
          [
           "Torrecuso",
           "Benevento"
          ],
          [
           "Castelvenere",
           "Benevento"
          ],
          [
           "Solopaca",
           "Benevento"
          ],
          [
           "Frasso Telesino",
           "Benevento"
          ],
          [
           "Torrecuso",
           "Benevento"
          ],
          [
           "Faicchio",
           "Benevento"
          ],
          [
           "Torrecuso",
           "Benevento"
          ],
          [
           "Castelvenere",
           "Benevento"
          ],
          [
           "Solopaca",
           "Benevento"
          ],
          [
           "Solopaca",
           "Benevento"
          ],
          [
           "Castelvenere",
           "Benevento"
          ],
          [
           "Castelvenere",
           "Benevento"
          ],
          [
           "Guardia Sanframondi",
           "Benevento"
          ],
          [
           "Guardia Sanframondi",
           "Benevento"
          ],
          [
           "Castelvenere",
           "Benevento"
          ],
          [
           "Ceppaloni",
           "Benevento"
          ],
          [
           "Castelvenere",
           "Benevento"
          ],
          [
           "Torrecuso",
           "Benevento"
          ],
          [
           "Torrecuso",
           "Benevento"
          ],
          [
           "Torrecuso",
           "Benevento"
          ],
          [
           "Torrecuso",
           "Benevento"
          ],
          [
           "Torrecuso",
           "Benevento"
          ],
          [
           "Torrecuso",
           "Benevento"
          ],
          [
           "Torrecuso",
           "Benevento"
          ],
          [
           "Guardia Sanframondi",
           "Benevento"
          ],
          [
           "Faicchio",
           "Benevento"
          ],
          [
           "Telese Terme",
           "Benevento"
          ],
          [
           "Torrecuso",
           "Benevento"
          ],
          [
           "Torrecuso",
           "Benevento"
          ],
          [
           "Torrecuso",
           "Benevento"
          ],
          [
           "Castelvenere",
           "Benevento"
          ],
          [
           "Castelvenere",
           "Benevento"
          ],
          [
           "Solopaca",
           "Benevento"
          ],
          [
           "Faicchio",
           "Benevento"
          ],
          [
           "Castelvenere",
           "Benevento"
          ],
          [
           "Solopaca",
           "Benevento"
          ],
          [
           "Telese Terme",
           "Benevento"
          ],
          [
           "Castelvenere",
           "Benevento"
          ],
          [
           "Dugenta",
           "Benevento"
          ],
          [
           "Guardia Sanframondi",
           "Benevento"
          ],
          [
           "Guardia Sanframondi",
           "Benevento"
          ],
          [
           "Solopaca",
           "Benevento"
          ],
          [
           "Ponte",
           "Benevento"
          ],
          [
           "Ponte",
           "Benevento"
          ],
          [
           "Guardia Sanframondi",
           "Benevento"
          ],
          [
           "Torrecuso",
           "Benevento"
          ],
          [
           "Ceppaloni",
           "Benevento"
          ],
          [
           "Sant'Agata de' Goti",
           "Benevento"
          ],
          [
           "Torrecuso",
           "Benevento"
          ],
          [
           "Guardia Sanframondi",
           "Benevento"
          ],
          [
           "Castelvenere",
           "Benevento"
          ],
          [
           "Ceppaloni",
           "Benevento"
          ],
          [
           "Castelvenere",
           "Benevento"
          ],
          [
           "Castelvenere",
           "Benevento"
          ],
          [
           "Castelvenere",
           "Benevento"
          ],
          [
           "Faicchio",
           "Benevento"
          ],
          [
           "Castelvenere",
           "Benevento"
          ],
          [
           "Solopaca",
           "Benevento"
          ],
          [
           "Castelvenere",
           "Benevento"
          ],
          [
           "Solopaca",
           "Benevento"
          ],
          [
           "Solopaca",
           "Benevento"
          ],
          [
           "Castelvenere",
           "Benevento"
          ],
          [
           "Torrecuso",
           "Benevento"
          ],
          [
           "Torrecuso",
           "Benevento"
          ],
          [
           "Torrecuso",
           "Benevento"
          ],
          [
           "Solopaca",
           "Benevento"
          ],
          [
           "Solopaca",
           "Benevento"
          ],
          [
           "Torrecuso",
           "Benevento"
          ],
          [
           "Montesarchio",
           "Benevento"
          ],
          [
           "Castelvenere",
           "Benevento"
          ],
          [
           "Castelvenere",
           "Benevento"
          ],
          [
           "Ponte",
           "Benevento"
          ],
          [
           "Guardia Sanframondi",
           "Benevento"
          ],
          [
           "Vitulano",
           "Benevento"
          ],
          [
           "Solopaca",
           "Benevento"
          ],
          [
           "Torrecuso",
           "Benevento"
          ],
          [
           "Cautano",
           "Benevento"
          ],
          [
           "Cautano",
           "Benevento"
          ],
          [
           "Torrecuso",
           "Benevento"
          ],
          [
           "Torrecuso",
           "Benevento"
          ],
          [
           "Guardia Sanframondi",
           "Benevento"
          ],
          [
           "Guardia Sanframondi",
           "Benevento"
          ],
          [
           "Benevento",
           "Benevento"
          ],
          [
           "Solopaca",
           "Benevento"
          ],
          [
           "Benevento",
           "Benevento"
          ],
          [
           "Montesarchio",
           "Benevento"
          ],
          [
           "Frasso Telesino",
           "Benevento"
          ],
          [
           "Ponte",
           "Benevento"
          ],
          [
           "Solopaca",
           "Benevento"
          ],
          [
           "Solopaca",
           "Benevento"
          ],
          [
           "Guardia Sanframondi",
           "Benevento"
          ],
          [
           "Castelvenere",
           "Benevento"
          ],
          [
           "Bonea",
           "Benevento"
          ],
          [
           "Benevento",
           "Benevento"
          ],
          [
           "Casalduni",
           "Benevento"
          ],
          [
           "Vitulano",
           "Benevento"
          ],
          [
           "Torrecuso",
           "Benevento"
          ],
          [
           "Guardia Sanframondi",
           "Benevento"
          ],
          [
           "Castelvenere",
           "Benevento"
          ],
          [
           "Castelvenere",
           "Benevento"
          ],
          [
           "Castelvenere",
           "Benevento"
          ],
          [
           "Ceppaloni",
           "Benevento"
          ],
          [
           "Guardia Sanframondi",
           "Benevento"
          ],
          [
           "Faicchio",
           "Benevento"
          ],
          [
           "Solopaca",
           "Benevento"
          ],
          [
           "Faicchio",
           "Benevento"
          ],
          [
           "Castelvenere",
           "Benevento"
          ],
          [
           "Solopaca",
           "Benevento"
          ],
          [
           "Castelvenere",
           "Benevento"
          ],
          [
           "Castelvenere",
           "Benevento"
          ],
          [
           "Castelvenere",
           "Benevento"
          ],
          [
           "Guardia Sanframondi",
           "Benevento"
          ],
          [
           "Solopaca",
           "Benevento"
          ],
          [
           "Guardia Sanframondi",
           "Benevento"
          ],
          [
           "Ponte",
           "Benevento"
          ],
          [
           "Castelvenere",
           "Benevento"
          ],
          [
           "Ponte",
           "Benevento"
          ],
          [
           "Ponte",
           "Benevento"
          ],
          [
           "Ponte",
           "Benevento"
          ],
          [
           "Torrecuso",
           "Benevento"
          ],
          [
           "Castelvenere",
           "Benevento"
          ],
          [
           "Frasso Telesino",
           "Benevento"
          ],
          [
           "Sant'Agata de' Goti",
           "Benevento"
          ],
          [
           "Montesarchio",
           "Benevento"
          ],
          [
           "Torrecuso",
           "Benevento"
          ],
          [
           "Dugenta",
           "Benevento"
          ],
          [
           "Frasso Telesino",
           "Benevento"
          ],
          [
           "Castelvenere",
           "Benevento"
          ],
          [
           "Guardia Sanframondi",
           "Benevento"
          ],
          [
           "Guardia Sanframondi",
           "Benevento"
          ],
          [
           "Casalduni",
           "Benevento"
          ],
          [
           "Vitulano",
           "Benevento"
          ],
          [
           "Guardia Sanframondi",
           "Benevento"
          ],
          [
           "Solopaca",
           "Benevento"
          ],
          [
           "Torrecuso",
           "Benevento"
          ],
          [
           "Faicchio",
           "Benevento"
          ],
          [
           "Torrecuso",
           "Benevento"
          ],
          [
           "Castelvenere",
           "Benevento"
          ],
          [
           "Solopaca",
           "Benevento"
          ],
          [
           "Solopaca",
           "Benevento"
          ],
          [
           "Castelvenere",
           "Benevento"
          ],
          [
           "Castelvenere",
           "Benevento"
          ],
          [
           "Castelvenere",
           "Benevento"
          ],
          [
           "Guardia Sanframondi",
           "Benevento"
          ],
          [
           "Guardia Sanframondi",
           "Benevento"
          ],
          [
           "Castelvenere",
           "Benevento"
          ],
          [
           "Ceppaloni",
           "Benevento"
          ],
          [
           "Castelvenere",
           "Benevento"
          ],
          [
           "Castelvenere",
           "Benevento"
          ],
          [
           "Solopaca",
           "Benevento"
          ],
          [
           "Frasso Telesino",
           "Benevento"
          ],
          [
           "Torrecuso",
           "Benevento"
          ],
          [
           "Castelvenere",
           "Benevento"
          ],
          [
           "Guardia Sanframondi",
           "Benevento"
          ],
          [
           "Solopaca",
           "Benevento"
          ],
          [
           "Castelvenere",
           "Benevento"
          ],
          [
           "Solopaca",
           "Benevento"
          ],
          [
           "Solopaca",
           "Benevento"
          ],
          [
           "Torrecuso",
           "Benevento"
          ],
          [
           "Castelvenere",
           "Benevento"
          ],
          [
           "Torrecuso",
           "Benevento"
          ],
          [
           "Castelvenere",
           "Benevento"
          ],
          [
           "Guardia Sanframondi",
           "Benevento"
          ],
          [
           "Faicchio",
           "Benevento"
          ],
          [
           "Castelvenere",
           "Benevento"
          ],
          [
           "Faicchio",
           "Benevento"
          ],
          [
           "Torrecuso",
           "Benevento"
          ],
          [
           "Telese Terme",
           "Benevento"
          ],
          [
           "Torrecuso",
           "Benevento"
          ],
          [
           "Guardia Sanframondi",
           "Benevento"
          ],
          [
           "Castelvenere",
           "Benevento"
          ],
          [
           "Guardia Sanframondi",
           "Benevento"
          ],
          [
           "Solopaca",
           "Benevento"
          ],
          [
           "Faicchio",
           "Benevento"
          ],
          [
           "Torrecuso",
           "Benevento"
          ],
          [
           "Montesarchio",
           "Benevento"
          ],
          [
           "Guardia Sanframondi",
           "Benevento"
          ],
          [
           "Casalduni",
           "Benevento"
          ],
          [
           "Guardia Sanframondi",
           "Benevento"
          ],
          [
           "Castelvenere",
           "Benevento"
          ],
          [
           "Castelvenere",
           "Benevento"
          ],
          [
           "Castelvenere",
           "Benevento"
          ],
          [
           "Castelvenere",
           "Benevento"
          ],
          [
           "Guardia Sanframondi",
           "Benevento"
          ],
          [
           "Torrecuso",
           "Benevento"
          ],
          [
           "Torrecuso",
           "Benevento"
          ],
          [
           "Castelvenere",
           "Benevento"
          ],
          [
           "Guardia Sanframondi",
           "Benevento"
          ],
          [
           "Castelvenere",
           "Benevento"
          ],
          [
           "Solopaca",
           "Benevento"
          ],
          [
           "Faicchio",
           "Benevento"
          ],
          [
           "Castelvenere",
           "Benevento"
          ],
          [
           "Solopaca",
           "Benevento"
          ],
          [
           "Solopaca",
           "Benevento"
          ],
          [
           "Frasso Telesino",
           "Benevento"
          ],
          [
           "Guardia Sanframondi",
           "Benevento"
          ],
          [
           "Frasso Telesino",
           "Benevento"
          ],
          [
           "Frasso Telesino",
           "Benevento"
          ],
          [
           "Guardia Sanframondi",
           "Benevento"
          ],
          [
           "Bonea",
           "Benevento"
          ],
          [
           "Torrecuso",
           "Benevento"
          ],
          [
           "Guardia Sanframondi",
           "Benevento"
          ],
          [
           "Torrecuso",
           "Benevento"
          ],
          [
           "Ponte",
           "Benevento"
          ],
          [
           "Torrecuso",
           "Benevento"
          ],
          [
           "Torrecuso",
           "Benevento"
          ],
          [
           "Sant'Agata de' Goti",
           "Benevento"
          ],
          [
           "Dugenta",
           "Benevento"
          ],
          [
           "Castelvenere",
           "Benevento"
          ],
          [
           "Montesarchio",
           "Benevento"
          ],
          [
           "Guardia Sanframondi",
           "Benevento"
          ],
          [
           "Guardia Sanframondi",
           "Benevento"
          ],
          [
           "Faicchio",
           "Benevento"
          ],
          [
           "Castelvenere",
           "Benevento"
          ],
          [
           "Castelvenere",
           "Benevento"
          ],
          [
           "Castelvenere",
           "Benevento"
          ],
          [
           "Castelvenere",
           "Benevento"
          ],
          [
           "Castelvenere",
           "Benevento"
          ],
          [
           "Guardia Sanframondi",
           "Benevento"
          ],
          [
           "Ceppaloni",
           "Benevento"
          ],
          [
           "Castelvenere",
           "Benevento"
          ],
          [
           "Torrecuso",
           "Benevento"
          ],
          [
           "Torrecuso",
           "Benevento"
          ],
          [
           "Castelvenere",
           "Benevento"
          ],
          [
           "Castelvenere",
           "Benevento"
          ],
          [
           "Guardia Sanframondi",
           "Benevento"
          ],
          [
           "Castelvenere",
           "Benevento"
          ],
          [
           "Solopaca",
           "Benevento"
          ],
          [
           "Solopaca",
           "Benevento"
          ],
          [
           "Solopaca",
           "Benevento"
          ],
          [
           "Guardia Sanframondi",
           "Benevento"
          ],
          [
           "Guardia Sanframondi",
           "Benevento"
          ],
          [
           "Guardia Sanframondi",
           "Benevento"
          ],
          [
           "Dugenta",
           "Benevento"
          ],
          [
           "Dugenta",
           "Benevento"
          ],
          [
           "Ponte",
           "Benevento"
          ],
          [
           "Solopaca",
           "Benevento"
          ],
          [
           "Montesarchio",
           "Benevento"
          ],
          [
           "Torrecuso",
           "Benevento"
          ],
          [
           "Torrecuso",
           "Benevento"
          ],
          [
           "Guardia Sanframondi",
           "Benevento"
          ],
          [
           "Montesarchio",
           "Benevento"
          ],
          [
           "Guardia Sanframondi",
           "Benevento"
          ],
          [
           "Guardia Sanframondi",
           "Benevento"
          ],
          [
           "Torrecuso",
           "Benevento"
          ],
          [
           "Dugenta",
           "Benevento"
          ],
          [
           "Solopaca",
           "Benevento"
          ],
          [
           "Castelvenere",
           "Benevento"
          ],
          [
           "Dugenta",
           "Benevento"
          ],
          [
           "Dugenta",
           "Benevento"
          ],
          [
           "Dugenta",
           "Benevento"
          ],
          [
           "Castelvenere",
           "Benevento"
          ],
          [
           "Faicchio",
           "Benevento"
          ],
          [
           "Faicchio",
           "Benevento"
          ],
          [
           "Castelvenere",
           "Benevento"
          ],
          [
           "Guardia Sanframondi",
           "Benevento"
          ],
          [
           "Ceppaloni",
           "Benevento"
          ],
          [
           "Torrecuso",
           "Benevento"
          ],
          [
           "Torrecuso",
           "Benevento"
          ],
          [
           "Torrecuso",
           "Benevento"
          ],
          [
           "Guardia Sanframondi",
           "Benevento"
          ],
          [
           "Torrecuso",
           "Benevento"
          ],
          [
           "Solopaca",
           "Benevento"
          ],
          [
           "Guardia Sanframondi",
           "Benevento"
          ],
          [
           "Frasso Telesino",
           "Benevento"
          ],
          [
           "Castelvenere",
           "Benevento"
          ],
          [
           "Guardia Sanframondi",
           "Benevento"
          ],
          [
           "Guardia Sanframondi",
           "Benevento"
          ],
          [
           "Solopaca",
           "Benevento"
          ],
          [
           "Torrecuso",
           "Benevento"
          ],
          [
           "Guardia Sanframondi",
           "Benevento"
          ],
          [
           "Castelvenere",
           "Benevento"
          ],
          [
           "Casalduni",
           "Benevento"
          ],
          [
           "Castelvenere",
           "Benevento"
          ],
          [
           "Castelvenere",
           "Benevento"
          ],
          [
           "Solopaca",
           "Benevento"
          ],
          [
           "Castelvenere",
           "Benevento"
          ],
          [
           "Cautano",
           "Benevento"
          ],
          [
           "Guardia Sanframondi",
           "Benevento"
          ],
          [
           "Torrecuso",
           "Benevento"
          ],
          [
           "Guardia Sanframondi",
           "Benevento"
          ],
          [
           "Ceppaloni",
           "Benevento"
          ],
          [
           "Montesarchio",
           "Benevento"
          ],
          [
           "Torrecuso",
           "Benevento"
          ],
          [
           "Castelvenere",
           "Benevento"
          ],
          [
           "Torrecuso",
           "Benevento"
          ],
          [
           "Castelvenere",
           "Benevento"
          ],
          [
           "Frasso Telesino",
           "Benevento"
          ],
          [
           "Castelvenere",
           "Benevento"
          ],
          [
           "Ceppaloni",
           "Benevento"
          ],
          [
           "Guardia Sanframondi",
           "Benevento"
          ],
          [
           "Telese Terme",
           "Benevento"
          ],
          [
           "Montesarchio",
           "Benevento"
          ],
          [
           "Ponte",
           "Benevento"
          ],
          [
           "Guardia Sanframondi",
           "Benevento"
          ],
          [
           "Dugenta",
           "Benevento"
          ],
          [
           "Frasso Telesino",
           "Benevento"
          ],
          [
           "Casalduni",
           "Benevento"
          ],
          [
           "Torrecuso",
           "Benevento"
          ],
          [
           "Guardia Sanframondi",
           "Benevento"
          ],
          [
           "Guardia Sanframondi",
           "Benevento"
          ],
          [
           "Benevento",
           "Benevento"
          ],
          [
           "Ceppaloni",
           "Benevento"
          ],
          [
           "Solopaca",
           "Benevento"
          ],
          [
           "Frasso Telesino",
           "Benevento"
          ],
          [
           "Castelvenere",
           "Benevento"
          ],
          [
           "Castelvenere",
           "Benevento"
          ],
          [
           "Guardia Sanframondi",
           "Benevento"
          ],
          [
           "Faicchio",
           "Benevento"
          ],
          [
           "Faicchio",
           "Benevento"
          ],
          [
           "Castelvenere",
           "Benevento"
          ],
          [
           "Castelvenere",
           "Benevento"
          ],
          [
           "Guardia Sanframondi",
           "Benevento"
          ],
          [
           "Solopaca",
           "Benevento"
          ],
          [
           "Solopaca",
           "Benevento"
          ],
          [
           "Ponte",
           "Benevento"
          ],
          [
           "Dugenta",
           "Benevento"
          ],
          [
           "Guardia Sanframondi",
           "Benevento"
          ],
          [
           "Castelvenere",
           "Benevento"
          ],
          [
           "Torrecuso",
           "Benevento"
          ],
          [
           "Castelvenere",
           "Benevento"
          ],
          [
           "Ponte",
           "Benevento"
          ],
          [
           "Dugenta",
           "Benevento"
          ],
          [
           "Torrecuso",
           "Benevento"
          ],
          [
           "Solopaca",
           "Benevento"
          ],
          [
           "Bonea",
           "Benevento"
          ],
          [
           "Solopaca",
           "Benevento"
          ],
          [
           "Frasso Telesino",
           "Benevento"
          ],
          [
           "Solopaca",
           "Benevento"
          ],
          [
           "Guardia Sanframondi",
           "Benevento"
          ],
          [
           "Torrecuso",
           "Benevento"
          ],
          [
           "Telese Terme",
           "Benevento"
          ],
          [
           "Frasso Telesino",
           "Benevento"
          ],
          [
           "Guardia Sanframondi",
           "Benevento"
          ],
          [
           "Castelvenere",
           "Benevento"
          ],
          [
           "Torrecuso",
           "Benevento"
          ],
          [
           "Torrecuso",
           "Benevento"
          ],
          [
           "Torrecuso",
           "Benevento"
          ],
          [
           "Guardia Sanframondi",
           "Benevento"
          ],
          [
           "Ceppaloni",
           "Benevento"
          ],
          [
           "Frasso Telesino",
           "Benevento"
          ],
          [
           "Ceppaloni",
           "Benevento"
          ],
          [
           "Castelvenere",
           "Benevento"
          ],
          [
           "Telese Terme",
           "Benevento"
          ],
          [
           "Guardia Sanframondi",
           "Benevento"
          ],
          [
           "Torrecuso",
           "Benevento"
          ],
          [
           "Castelvenere",
           "Benevento"
          ],
          [
           "Guardia Sanframondi",
           "Benevento"
          ],
          [
           "Torrecuso",
           "Benevento"
          ],
          [
           "Guardia Sanframondi",
           "Benevento"
          ],
          [
           "Torrecuso",
           "Benevento"
          ],
          [
           "Bonea",
           "Benevento"
          ],
          [
           "Castelvenere",
           "Benevento"
          ],
          [
           "Torrecuso",
           "Benevento"
          ],
          [
           "Guardia Sanframondi",
           "Benevento"
          ],
          [
           "Castelvenere",
           "Benevento"
          ],
          [
           "Torrecuso",
           "Benevento"
          ],
          [
           "Castelvenere",
           "Benevento"
          ],
          [
           "Guardia Sanframondi",
           "Benevento"
          ],
          [
           "Castelvenere",
           "Benevento"
          ],
          [
           "Casalduni",
           "Benevento"
          ],
          [
           "Guardia Sanframondi",
           "Benevento"
          ],
          [
           "Guardia Sanframondi",
           "Benevento"
          ],
          [
           "Bonea",
           "Benevento"
          ],
          [
           "Torrecuso",
           "Benevento"
          ],
          [
           "Telese Terme",
           "Benevento"
          ],
          [
           "Telese Terme",
           "Benevento"
          ],
          [
           "Faicchio",
           "Benevento"
          ],
          [
           "Faicchio",
           "Benevento"
          ],
          [
           "Telese Terme",
           "Benevento"
          ],
          [
           "Telese Terme",
           "Benevento"
          ],
          [
           "Solopaca",
           "Benevento"
          ],
          [
           "Solopaca",
           "Benevento"
          ],
          [
           "Castelvenere",
           "Benevento"
          ],
          [
           "Solopaca",
           "Benevento"
          ],
          [
           "Telese Terme",
           "Benevento"
          ],
          [
           "Telese Terme",
           "Benevento"
          ],
          [
           "Telese Terme",
           "Benevento"
          ],
          [
           "Telese Terme",
           "Benevento"
          ],
          [
           "Solopaca",
           "Benevento"
          ],
          [
           "Faicchio",
           "Benevento"
          ],
          [
           "Faicchio",
           "Benevento"
          ],
          [
           "Telese Terme",
           "Benevento"
          ],
          [
           "Telese Terme",
           "Benevento"
          ],
          [
           "Solopaca",
           "Benevento"
          ],
          [
           "Solopaca",
           "Benevento"
          ],
          [
           "Castelvenere",
           "Benevento"
          ],
          [
           "Solopaca",
           "Benevento"
          ],
          [
           "Torrecuso",
           "Benevento"
          ],
          [
           "Telese Terme",
           "Benevento"
          ],
          [
           "Faicchio",
           "Benevento"
          ],
          [
           "Faicchio",
           "Benevento"
          ],
          [
           "Guardia Sanframondi",
           "Benevento"
          ],
          [
           "Guardia Sanframondi",
           "Benevento"
          ],
          [
           "Montesarchio",
           "Benevento"
          ],
          [
           "Paupisi",
           "Benevento"
          ],
          [
           "Cautano",
           "Benevento"
          ],
          [
           "Cautano",
           "Benevento"
          ],
          [
           "Torrecuso",
           "Benevento"
          ],
          [
           "Torrecuso",
           "Benevento"
          ],
          [
           "Torrecuso",
           "Benevento"
          ],
          [
           "Torrecuso",
           "Benevento"
          ],
          [
           "Torrecuso",
           "Benevento"
          ],
          [
           "Castelvenere",
           "Benevento"
          ],
          [
           "Bonea",
           "Benevento"
          ],
          [
           "Torrecuso",
           "Benevento"
          ],
          [
           "Castelvenere",
           "Benevento"
          ],
          [
           "Castelvenere",
           "Benevento"
          ],
          [
           "Guardia Sanframondi",
           "Benevento"
          ],
          [
           "Guardia Sanframondi",
           "Benevento"
          ],
          [
           "Torrecuso",
           "Benevento"
          ],
          [
           "Frasso Telesino",
           "Benevento"
          ],
          [
           "Torrecuso",
           "Benevento"
          ],
          [
           "Castelvenere",
           "Benevento"
          ],
          [
           "Guardia Sanframondi",
           "Benevento"
          ],
          [
           "Vitulano",
           "Benevento"
          ],
          [
           "Torrecuso",
           "Benevento"
          ],
          [
           "Castelvenere",
           "Benevento"
          ],
          [
           "Castelvenere",
           "Benevento"
          ],
          [
           "Sant'Agata de' Goti",
           "Benevento"
          ],
          [
           "Sant'Agata de' Goti",
           "Benevento"
          ],
          [
           "Torrecuso",
           "Benevento"
          ],
          [
           "Torrecuso",
           "Benevento"
          ],
          [
           "Ponte",
           "Benevento"
          ],
          [
           "Ponte",
           "Benevento"
          ],
          [
           "Castelvenere",
           "Benevento"
          ],
          [
           "Ponte",
           "Benevento"
          ],
          [
           "Ponte",
           "Benevento"
          ],
          [
           "Torrecuso",
           "Benevento"
          ],
          [
           "Frasso Telesino",
           "Benevento"
          ],
          [
           "Ceppaloni",
           "Benevento"
          ],
          [
           "Torrecuso",
           "Benevento"
          ],
          [
           "Ponte",
           "Benevento"
          ],
          [
           "Ponte",
           "Benevento"
          ],
          [
           "Torrecuso",
           "Benevento"
          ],
          [
           "Castelvenere",
           "Benevento"
          ],
          [
           "Paupisi",
           "Benevento"
          ],
          [
           "Castelvenere",
           "Benevento"
          ],
          [
           "Guardia Sanframondi",
           "Benevento"
          ],
          [
           "Torrecuso",
           "Benevento"
          ],
          [
           "Guardia Sanframondi",
           "Benevento"
          ],
          [
           "Torrecuso",
           "Benevento"
          ],
          [
           "Torrecuso",
           "Benevento"
          ],
          [
           "Torrecuso",
           "Benevento"
          ],
          [
           "Paupisi",
           "Benevento"
          ],
          [
           "Torrecuso",
           "Benevento"
          ],
          [
           "Guardia Sanframondi",
           "Benevento"
          ],
          [
           "Torrecuso",
           "Benevento"
          ],
          [
           "Paupisi",
           "Benevento"
          ],
          [
           "Torrecuso",
           "Benevento"
          ],
          [
           "Torrecuso",
           "Benevento"
          ],
          [
           "Castelvenere",
           "Benevento"
          ],
          [
           "Torrecuso",
           "Benevento"
          ],
          [
           "Torrecuso",
           "Benevento"
          ],
          [
           "Torrecuso",
           "Benevento"
          ],
          [
           "Guardia Sanframondi",
           "Benevento"
          ],
          [
           "Castelvenere",
           "Benevento"
          ],
          [
           "Paupisi",
           "Benevento"
          ],
          [
           "Paupisi",
           "Benevento"
          ],
          [
           "Torrecuso",
           "Benevento"
          ],
          [
           "Paupisi",
           "Benevento"
          ],
          [
           "Castelvenere",
           "Benevento"
          ],
          [
           "Torrecuso",
           "Benevento"
          ],
          [
           "Torrecuso",
           "Benevento"
          ],
          [
           "Castelvenere",
           "Benevento"
          ],
          [
           "Torrecuso",
           "Benevento"
          ],
          [
           "Torrecuso",
           "Benevento"
          ],
          [
           "Paupisi",
           "Benevento"
          ],
          [
           "Torrecuso",
           "Benevento"
          ],
          [
           "Frasso Telesino",
           "Benevento"
          ],
          [
           "Torrecuso",
           "Benevento"
          ],
          [
           "Castelvenere",
           "Benevento"
          ],
          [
           "Paupisi",
           "Benevento"
          ],
          [
           "Ponte",
           "Benevento"
          ],
          [
           "Ponte",
           "Benevento"
          ],
          [
           "Benevento",
           "Benevento"
          ],
          [
           "Torrecuso",
           "Benevento"
          ],
          [
           "Castelvenere",
           "Benevento"
          ],
          [
           "Paupisi",
           "Benevento"
          ],
          [
           "Castelvenere",
           "Benevento"
          ],
          [
           "Torrecuso",
           "Benevento"
          ],
          [
           "Paupisi",
           "Benevento"
          ]
         ],
         "hovertemplate": "<b>%{hovertext}</b><br><br>prov=%{customdata[1]}<br>lat=%{lat}<br>long=%{lon}<br>lau=%{customdata[0]}<extra></extra>",
         "hovertext": [
          "Cantine Iannella",
          "Fontanavecchia",
          "Cantine Iannella",
          "Cantina del Taburno",
          "Azienda Vitivinicola Masseria Frattasi",
          "Fontanavecchia",
          "Nifo Sarrapochiello Vini",
          "Nifo Sarrapochiello Vini",
          "Nifo Sarrapochiello Vini",
          "Cantine Iannella",
          "Cantine Iannella",
          "Cantine Iannella",
          "Cantine Iannella",
          "Cantine Iannella",
          "Cantine Iannella",
          "Aia dei Colombi",
          "Aia dei Colombi",
          "Aia dei Colombi",
          "Aia dei Colombi",
          "Aia dei Colombi",
          "Rossovermiglio",
          "Rossovermiglio",
          "Rossovermiglio",
          "Rossovermiglio",
          "Cantine Iannella",
          "Fattoria La Rivolta",
          "Vini Orsini",
          "Vini Orsini",
          "Vini Orsini",
          "Vini Orsini",
          "Vini Orsini",
          "Fattoria Monserrato",
          "Taffuri Pouchain",
          "Taffuri Pouchain",
          "Taffuri Pouchain",
          "Terre Longobarde",
          "Terre Longobarde",
          "Terre Longobarde",
          "Terre Longobarde",
          "Terre Longobarde",
          "Masseria Vigne Vecchie",
          "Masseria Vigne Vecchie",
          "Masseria Vigne Vecchie",
          "Masseria Vigne Vecchie",
          "Masseria Vigne Vecchie",
          "Masseria Vigne Vecchie",
          "Masseria Vigne Vecchie",
          "Masseria Vigne Vecchie",
          "Masseria Vigne Vecchie",
          "Aia dei Colombi",
          "Cantine Iannella",
          "De Fortuna",
          "Serra degli Ilici",
          "Rotola",
          "Torre dei Chiusi",
          "Vigne di Malies",
          "Corte Normanna",
          "Serra degli Ilici",
          "Terra di Briganti",
          "Wartalia",
          "Santiquaranta",
          "Ca' Stelle",
          "Cantina di Solopaca",
          "Cantine Fontanarosa",
          "La Dormiente",
          "La Vinicola del Titerno",
          "Torre Varano",
          "Vigne Sannite",
          "Cantina di Solopaca",
          "Cantina di Solopaca",
          "Vinicola del Sannio",
          "Vinicola del Sannio",
          "Corte Normanna",
          "Wartalia",
          "Fontana delle Selve",
          "Vinicola Barone",
          "Vigne Sannite",
          "Cantina La Fortezza",
          "Cantine Tora",
          "Cantine Tora",
          "La Dormiente",
          "Il Poggio",
          "Il Poggio",
          "La Dormiente",
          "La Guardiense",
          "La Vinicola del Titerno",
          "La Vinicola Del Vecchio",
          "Santiquaranta",
          "Cantina La Fortezza",
          "Torre dei Chiusi",
          "Ca' Stelle",
          "Ca' Stelle",
          "Cantina di Solopaca",
          "La Vinicola del Titerno",
          "Vinicola del Sannio",
          "Cantina di Solopaca",
          "La Vinicola Del Vecchio",
          "Vigne Sannite",
          "Torre Gaia",
          "Morone",
          "Morone",
          "Cantina di Solopaca",
          "Ocone",
          "Ocone",
          "Terre Stregate",
          "Torre dei Chiusi",
          "Rotola",
          "Cantine Ciervo",
          "Torre dei Chiusi",
          "Terre Stregate",
          "Antica Masseria Venditti",
          "Vinicola Barone",
          "Vinicola del Sannio",
          "Vinicola del Sannio",
          "Vinicola del Sannio",
          "La Vinicola del Titerno",
          "Ca' Stelle",
          "Cantina di Solopaca",
          "Vigne Sannite",
          "Cantina di Solopaca",
          "Cantina di Solopaca",
          "Antica Masseria Venditti",
          "Il Poggio",
          "Cantine Tora",
          "Il Poggio",
          "Cantina di Solopaca",
          "Cantina di Solopaca",
          "Torre a Oriente",
          "Masseria Frattasi",
          "Antica Masseria Venditti",
          "Vinicola del Sannio",
          "Ocone",
          "Vigne di Malies",
          "Serra degli Ilici",
          "Cantina di Solopaca",
          "Cantine Tora",
          "Terre Caudium",
          "Terre Caudium",
          "Cantine Tora",
          "Cantine Tora",
          "La Guardiense",
          "La Guardiense",
          "Oppida Aminea",
          "Cantina di Solopaca",
          "Oppida Aminea",
          "Masseria Frattasi",
          "De Fortuna",
          "Ocone",
          "Cantina di Solopaca",
          "Santimartini",
          "La Guardiense",
          "Fontana delle Selve",
          "Votino",
          "Oppida Aminea",
          "Terra di Briganti",
          "Serra degli Ilici",
          "Terre D'Aglianico",
          "Wartalia",
          "Vigne Sannite",
          "Vinicola del Sannio",
          "Vinicola del Sannio",
          "Vinicola Barone",
          "La Guardiense",
          "La Vinicola del Titerno",
          "Cantina di Solopaca",
          "La Vinicola del Titerno",
          "Vigne Sannite",
          "Cantina di Solopaca",
          "Vinicola del Sannio",
          "Fontana delle Selve",
          "Fontana delle Selve",
          "La Guardiense",
          "Cantina di Solopaca",
          "Cantine Foschini",
          "Caputalbus",
          "Vinicola del Sannio",
          "Ocone",
          "Caputalbus",
          "Ocone",
          "Torre a Oriente",
          "Fontana delle Selve",
          "Cautiero",
          "Cantine Ciervo",
          "Masseria Frattasi",
          "Terre D'Aglianico",
          "Torre Gaia",
          "Cautiero",
          "Vigne Sannite",
          "Terre Stregate",
          "Corte Normanna",
          "Terra di Briganti",
          "Serra degli Ilici",
          "Wartalia",
          "Cantina di Solopaca",
          "La Dormiente",
          "La Vinicola del Titerno",
          "Torre Varano",
          "Vigne Sannite",
          "Cantina di Solopaca",
          "Cantina di Solopaca",
          "Vinicola del Sannio",
          "Vinicola del Sannio",
          "Ca' Stelle",
          "Corte Normanna",
          "Wartalia",
          "Fontana delle Selve",
          "Vinicola Barone",
          "Torre Venere",
          "Ca' Stelle",
          "Cantina di Solopaca",
          "Cantine Fontanarosa",
          "Santiquaranta",
          "Vigne Sannite",
          "Cantine Foschini",
          "Cantina di Solopaca",
          "Vinicola del Sannio",
          "Cantina di Solopaca",
          "Cantina di Solopaca",
          "Torre Varano",
          "Vinicola del Sannio",
          "La Dormiente",
          "Vinicola del Sannio",
          "La Guardiense",
          "La Vinicola del Titerno",
          "Ca' Stelle",
          "La Vinicola del Titerno",
          "Cantina La Fortezza",
          "La Vinicola Del Vecchio",
          "Santiquaranta",
          "Corte Normanna",
          "Ca' Stelle",
          "Corte Normanna",
          "Cantina di Solopaca",
          "La Vinicola del Titerno",
          "Torre dei Chiusi",
          "Masseria Frattasi",
          "Corte Normanna",
          "Terra di Briganti",
          "Wartalia",
          "Vigne Sannite",
          "Fontana delle Selve",
          "Vinicola del Sannio",
          "Vinicola del Sannio",
          "Wartalia",
          "Cantine Iannella",
          "Cantine Tora",
          "Vinicola del Sannio",
          "La Guardiense",
          "Ca' Stelle",
          "Cantina di Solopaca",
          "La Vinicola del Titerno",
          "Vigne Sannite",
          "Cantina di Solopaca",
          "Cantina di Solopaca",
          "De Fortuna",
          "Morone",
          "Cautiero",
          "Cautiero",
          "Vigne di Malies",
          "Votino",
          "Torre dei Chiusi",
          "Terre Stregate",
          "Terre D'Aglianico",
          "Ocone",
          "Torre a Oriente",
          "Torre dei Chiusi",
          "Cantine Ciervo",
          "Torre Gaia",
          "Vinicola del Sannio",
          "Masseria Frattasi",
          "Corte Normanna",
          "Wartalia",
          "La Vinicola del Titerno",
          "Vigne Sannite",
          "Fontana delle Selve",
          "Vinicola del Sannio",
          "Vinicola del Sannio",
          "Vinicola del Sannio",
          "Wartalia",
          "Vinicola Barone",
          "Vigne Sannite",
          "Cantine Iannella",
          "Cantine Tora",
          "Vinicola del Sannio",
          "Vinicola del Sannio",
          "La Guardiense",
          "Ca' Stelle",
          "Cantina di Solopaca",
          "Cantina di Solopaca",
          "Cantina di Solopaca",
          "Corte Normanna",
          "Terre Stregate",
          "Terre Stregate",
          "Torre Gaia",
          "Torre Gaia",
          "Caputalbus",
          "Cantina di Solopaca",
          "Masseria Frattasi",
          "Cantine Tora",
          "Torre a Oriente",
          "Wartalia",
          "Masseria Frattasi",
          "Wartalia",
          "Wartalia",
          "Cantine Tora",
          "Torre Gaia",
          "Santimartini",
          "Ca' Stelle",
          "Torre Gaia",
          "Torre Gaia",
          "Torre Gaia",
          "Vinicola del Sannio",
          "La Vinicola del Titerno",
          "La Vinicola del Titerno",
          "Vinicola del Sannio",
          "La Guardiense",
          "Rotola",
          "Torre Varano",
          "Torre dei Chiusi",
          "La Dormiente",
          "La Guardiense",
          "Cantine Tora",
          "Cantina di Solopaca",
          "Terre Stregate",
          "De Fortuna",
          "Vinicola del Sannio",
          "Terre Stregate",
          "Terre Stregate",
          "Cantina di Solopaca",
          "La Dormiente",
          "Morone",
          "Antica Masseria Venditti",
          "Terra di Briganti",
          "Antica Masseria Venditti",
          "Antica Masseria Venditti",
          "Santimartini",
          "Vinicola del Sannio",
          "Terre Caudium",
          "Vigne di Malies",
          "Il Poggio",
          "Morone",
          "Rotola",
          "Masseria Frattasi",
          "Santiquaranta",
          "Vigne Sannite",
          "Santiquaranta",
          "Vinicola del Sannio",
          "De Fortuna",
          "Capolino Perlingieri",
          "Rotola",
          "Corte Normanna",
          "La Vinicola Del Vecchio",
          "Masseria Frattasi",
          "Ocone",
          "Vigne di Malies",
          "Torre Gaia",
          "Cantine Fontanarosa",
          "Terra di Briganti",
          "Cantine Tora",
          "Vigne di Malies",
          "Vigne di Malies",
          "Oppida Aminea",
          "Rotola",
          "Cantina di Solopaca",
          "Cautiero",
          "Vigne Sannite",
          "Vinicola del Sannio",
          "La Guardiense",
          "La Vinicola del Titerno",
          "La Vinicola del Titerno",
          "Vinicola del Sannio",
          "Vinicola del Sannio",
          "La Guardiense",
          "Santimartini",
          "Santimartini",
          "Ocone",
          "Torre Gaia",
          "Corte Normanna",
          "Capolino Perlingieri",
          "Il Poggio",
          "Ca' Stelle",
          "Caputalbus",
          "Torre Gaia",
          "Terre D'Aglianico",
          "Cantina di Solopaca",
          "Votino",
          "Cantina di Solopaca",
          "Cantine Fontanarosa",
          "Cantina di Solopaca",
          "La Guardiense",
          "Il Poggio",
          "La Vinicola Del Vecchio",
          "Cantine Fontanarosa",
          "Cantine Sebastianelli",
          "Fontana delle Selve",
          "Il Poggio",
          "Santiquaranta",
          "Terre D'Aglianico",
          "Cantine Sebastianelli",
          "Vinicola Barone",
          "Cantine Fontanarosa",
          "Fratelli Pugliese",
          "Torre Venere",
          "La Vinicola Del Vecchio",
          "Cantine Sebastianelli",
          "Terre D'Aglianico",
          "Fontana delle Selve",
          "Vigne di Malies",
          "Cantina La Fortezza",
          "Cantine Sebastianelli",
          "Il Poggio",
          "Votino",
          "Vinicola del Sannio",
          "Cantina La Fortezza",
          "Cantine Sebastianelli",
          "Vinicola del Sannio",
          "Santiquaranta",
          "Fontana delle Selve",
          "Cantine Foschini",
          "Capolino Perlingieri",
          "Terra di Briganti",
          "Terre Stregate",
          "La Guardiense",
          "Votino",
          "Torre a Oriente",
          "La Vinicola Del Vecchio",
          "La Vinicola Del Vecchio",
          "La Vinicola del Titerno",
          "La Vinicola del Titerno",
          "La Vinicola Del Vecchio",
          "La Vinicola Del Vecchio",
          "Cantina di Solopaca",
          "Cantina di Solopaca",
          "Vinicola del Sannio",
          "Cantina di Solopaca",
          "La Vinicola Del Vecchio",
          "La Vinicola Del Vecchio",
          "La Vinicola Del Vecchio",
          "La Vinicola Del Vecchio",
          "Cantina di Solopaca",
          "La Vinicola del Titerno",
          "La Vinicola del Titerno",
          "La Vinicola Del Vecchio",
          "La Vinicola Del Vecchio",
          "Cantina di Solopaca",
          "Cantina di Solopaca",
          "Vinicola del Sannio",
          "Cantina di Solopaca",
          "Torre a Oriente",
          "La Vinicola Del Vecchio",
          "La Vinicola del Titerno",
          "La Vinicola del Titerno",
          "Terre Stregate",
          "Terre Stregate",
          "Masseria Frattasi",
          "Torre del Pagus",
          "Terre Caudium",
          "Terre Caudium",
          "Il Poggio",
          "Cantine Tora",
          "Fontanavecchia",
          "Il Poggio",
          "Il Poggio",
          "Capolino Perlingieri",
          "Votino",
          "Terre D'Aglianico",
          "Vinicola del Sannio",
          "Fontana delle Selve",
          "Terre Stregate",
          "Corte Normanna",
          "Cantine I Colli del Sannio",
          "Cautiero",
          "Torre a Oriente",
          "Antica Masseria Venditti",
          "Morone",
          "Serra degli Ilici",
          "Terre D'Aglianico",
          "Vigne Sannite",
          "Capolino Perlingieri",
          "Cantine Ciervo",
          "Cantine Ciervo",
          "Torre dei Chiusi",
          "Torre dei Chiusi",
          "Ocone",
          "Ocone",
          "Capolino Perlingieri",
          "Ocone",
          "Ocone",
          "Cantine Tora",
          "Cautiero",
          "Rotola",
          "Fontanavecchia",
          "Nifo Sarrapochiello Vini",
          "Nifo Sarrapochiello Vini",
          "Fontanavecchia",
          "Vinicola del Sannio",
          "Torre del Pagus",
          "Podere Veneri Vecchio",
          "La Guardiense",
          "Fattoria La Rivolta",
          "La Guardiense",
          "Cantine I Colli del Sannio",
          "Fattoria La Rivolta",
          "Fontanavecchia",
          "Torre del Pagus",
          "Fattoria La Rivolta",
          "Wartalia",
          "Cantine Iannella",
          "Torre del Pagus",
          "Fontanavecchia",
          "Fattoria La Rivolta",
          "Podere Veneri Vecchio",
          "Fontanavecchia",
          "Fontanavecchia",
          "Fattoria La Rivolta",
          "La Guardiense",
          "Podere Veneri Vecchio",
          "Torre del Pagus",
          "Torre del Pagus",
          "Fattoria La Rivolta",
          "Torre del Pagus",
          "Podere Veneri Vecchio",
          "Fontanavecchia",
          "Fontanavecchia",
          "Podere Veneri Vecchio",
          "Fontanavecchia",
          "Fattoria La Rivolta",
          "Torre del Pagus",
          "Fontanavecchia",
          "De Fortuna",
          "Torre a Oriente",
          "Podere Veneri Vecchio",
          "Torre del Pagus",
          "Nifo Sarrapochiello Vini",
          "Nifo Sarrapochiello Vini",
          "Oppida Aminea",
          "Fattoria La Rivolta",
          "Vinicola del Sannio",
          "Torre del Pagus",
          "Podere Veneri Vecchio",
          "Fattoria La Rivolta",
          "Torre del Pagus"
         ],
         "lat": [
          41.182332,
          41.184689,
          41.182332,
          41.153793,
          41.071918,
          41.184689,
          41.2177,
          41.2177,
          41.2177,
          41.182332,
          41.182332,
          41.182332,
          41.182332,
          41.182332,
          41.182332,
          41.238151,
          41.238151,
          41.238151,
          41.238151,
          41.238151,
          41.177895,
          41.177895,
          41.177895,
          41.177895,
          41.182332,
          41.173137,
          41.260449,
          41.260449,
          41.260449,
          41.260449,
          41.260449,
          41.181328,
          41.277119,
          41.277119,
          41.277119,
          41.187279,
          41.187279,
          41.187279,
          41.187279,
          41.187279,
          41.203204,
          41.203204,
          41.203204,
          41.203204,
          41.203204,
          41.203204,
          41.203204,
          41.203204,
          41.203204,
          41.238151,
          41.182332,
          41.156137,
          41.208495,
          41.047085,
          41.179102,
          41.253929,
          41.239395,
          41.208495,
          41.242702,
          41.219247,
          41.197159,
          41.234469,
          41.196826,
          41.150853,
          41.191191,
          41.266501,
          41.181797,
          41.228541,
          41.196826,
          41.196826,
          41.245446,
          41.245446,
          41.239395,
          41.219247,
          41.231931,
          41.044692,
          41.228541,
          41.180125,
          41.190955,
          41.190955,
          41.191191,
          41.202773,
          41.202773,
          41.191191,
          41.250695,
          41.266501,
          41.204999,
          41.197159,
          41.180125,
          41.179102,
          41.234469,
          41.234469,
          41.196826,
          41.266501,
          41.245446,
          41.196826,
          41.204999,
          41.228541,
          41.12279,
          41.254973,
          41.254973,
          41.196826,
          41.222759,
          41.222759,
          41.249499,
          41.179102,
          41.047085,
          41.147905,
          41.179102,
          41.249499,
          41.236425,
          41.044692,
          41.245446,
          41.245446,
          41.245446,
          41.266501,
          41.234469,
          41.196826,
          41.228541,
          41.196826,
          41.196826,
          41.236425,
          41.202773,
          41.190955,
          41.202773,
          41.196826,
          41.196826,
          41.197533,
          41.071837,
          41.236425,
          41.245446,
          41.222759,
          41.253929,
          41.208495,
          41.196826,
          41.190955,
          41.149496,
          41.149496,
          41.190955,
          41.190955,
          41.250695,
          41.250695,
          41.137979,
          41.196826,
          41.137979,
          41.071837,
          41.156137,
          41.222759,
          41.196826,
          41.194201,
          41.250695,
          41.231931,
          41.068651,
          41.137979,
          41.242702,
          41.208495,
          41.195125,
          41.219247,
          41.228541,
          41.245446,
          41.245446,
          41.044692,
          41.250695,
          41.266501,
          41.196826,
          41.266501,
          41.228541,
          41.196826,
          41.245446,
          41.231931,
          41.231931,
          41.250695,
          41.196826,
          41.256588,
          41.216742,
          41.245446,
          41.222759,
          41.216742,
          41.222759,
          41.197533,
          41.231931,
          41.156831,
          41.147905,
          41.071837,
          41.195125,
          41.12279,
          41.156831,
          41.228541,
          41.249499,
          41.239395,
          41.242702,
          41.208495,
          41.219247,
          41.196826,
          41.191191,
          41.266501,
          41.181797,
          41.228541,
          41.196826,
          41.196826,
          41.245446,
          41.245446,
          41.234469,
          41.239395,
          41.219247,
          41.231931,
          41.044692,
          41.237824,
          41.234469,
          41.196826,
          41.150853,
          41.197159,
          41.228541,
          41.256588,
          41.196826,
          41.245446,
          41.196826,
          41.196826,
          41.181797,
          41.245446,
          41.191191,
          41.245446,
          41.250695,
          41.266501,
          41.234469,
          41.266501,
          41.180125,
          41.204999,
          41.197159,
          41.239395,
          41.234469,
          41.239395,
          41.196826,
          41.266501,
          41.179102,
          41.071837,
          41.239395,
          41.242702,
          41.219247,
          41.228541,
          41.231931,
          41.245446,
          41.245446,
          41.219247,
          41.182332,
          41.190955,
          41.245446,
          41.250695,
          41.234469,
          41.196826,
          41.266501,
          41.228541,
          41.196826,
          41.196826,
          41.156137,
          41.254973,
          41.156831,
          41.156831,
          41.253929,
          41.068651,
          41.179102,
          41.249499,
          41.195125,
          41.222759,
          41.197533,
          41.179102,
          41.147905,
          41.12279,
          41.245446,
          41.071837,
          41.239395,
          41.219247,
          41.266501,
          41.228541,
          41.231931,
          41.245446,
          41.245446,
          41.245446,
          41.219247,
          41.044692,
          41.228541,
          41.182332,
          41.190955,
          41.245446,
          41.245446,
          41.250695,
          41.234469,
          41.196826,
          41.196826,
          41.196826,
          41.239395,
          41.249499,
          41.249499,
          41.12279,
          41.12279,
          41.216742,
          41.196826,
          41.071837,
          41.190955,
          41.197533,
          41.219247,
          41.071837,
          41.219247,
          41.219247,
          41.190955,
          41.12279,
          41.194201,
          41.234469,
          41.12279,
          41.12279,
          41.12279,
          41.245446,
          41.266501,
          41.266501,
          41.245446,
          41.250695,
          41.047085,
          41.181797,
          41.179102,
          41.191191,
          41.250695,
          41.190955,
          41.196826,
          41.249499,
          41.156137,
          41.245446,
          41.249499,
          41.249499,
          41.196826,
          41.191191,
          41.254973,
          41.236425,
          41.242702,
          41.236425,
          41.236425,
          41.194201,
          41.245446,
          41.149496,
          41.253929,
          41.202773,
          41.254973,
          41.047085,
          41.071837,
          41.197159,
          41.228541,
          41.197159,
          41.245446,
          41.156137,
          41.217727,
          41.047085,
          41.239395,
          41.204999,
          41.071837,
          41.222759,
          41.253929,
          41.12279,
          41.150853,
          41.242702,
          41.190955,
          41.253929,
          41.253929,
          41.137979,
          41.047085,
          41.196826,
          41.156831,
          41.228541,
          41.245446,
          41.250695,
          41.266501,
          41.266501,
          41.245446,
          41.245446,
          41.250695,
          41.194201,
          41.194201,
          41.222759,
          41.12279,
          41.239395,
          41.217727,
          41.202773,
          41.234469,
          41.216742,
          41.12279,
          41.195125,
          41.196826,
          41.068651,
          41.196826,
          41.150853,
          41.196826,
          41.250695,
          41.202773,
          41.204999,
          41.150853,
          41.223586,
          41.231931,
          41.202773,
          41.197159,
          41.195125,
          41.223586,
          41.044692,
          41.150853,
          41.044867,
          41.237824,
          41.204999,
          41.223586,
          41.195125,
          41.231931,
          41.253929,
          41.180125,
          41.223586,
          41.202773,
          41.068651,
          41.245446,
          41.180125,
          41.223586,
          41.245446,
          41.197159,
          41.231931,
          41.256588,
          41.217727,
          41.242702,
          41.249499,
          41.250695,
          41.068651,
          41.197533,
          41.204999,
          41.204999,
          41.266501,
          41.266501,
          41.204999,
          41.204999,
          41.196826,
          41.196826,
          41.245446,
          41.196826,
          41.204999,
          41.204999,
          41.204999,
          41.204999,
          41.196826,
          41.266501,
          41.266501,
          41.204999,
          41.204999,
          41.196826,
          41.196826,
          41.245446,
          41.196826,
          41.197533,
          41.204999,
          41.266501,
          41.266501,
          41.249499,
          41.249499,
          41.071837,
          41.206218,
          41.149496,
          41.149496,
          41.202773,
          41.190955,
          41.184689,
          41.202773,
          41.202773,
          41.217727,
          41.068651,
          41.195125,
          41.245446,
          41.231931,
          41.249499,
          41.239395,
          41.175295,
          41.156831,
          41.197533,
          41.236425,
          41.254973,
          41.208495,
          41.195125,
          41.228541,
          41.217727,
          41.147905,
          41.147905,
          41.179102,
          41.179102,
          41.222759,
          41.222759,
          41.217727,
          41.222759,
          41.222759,
          41.190955,
          41.156831,
          41.047085,
          41.184689,
          41.2177,
          41.2177,
          41.184689,
          41.245446,
          41.206218,
          41.234372,
          41.250695,
          41.173137,
          41.250695,
          41.175295,
          41.173137,
          41.184689,
          41.206218,
          41.173137,
          41.219247,
          41.182332,
          41.206218,
          41.184689,
          41.173137,
          41.234372,
          41.184689,
          41.184689,
          41.173137,
          41.250695,
          41.234372,
          41.206218,
          41.206218,
          41.173137,
          41.206218,
          41.234372,
          41.184689,
          41.184689,
          41.234372,
          41.184689,
          41.173137,
          41.206218,
          41.184689,
          41.156137,
          41.197533,
          41.234372,
          41.206218,
          41.2177,
          41.2177,
          41.137979,
          41.173137,
          41.245446,
          41.206218,
          41.234372,
          41.173137,
          41.206218
         ],
         "legendgroup": "Benevento",
         "lon": [
          14.689972,
          14.710269,
          14.689972,
          14.670587,
          14.628821,
          14.710269,
          14.659123,
          14.659123,
          14.659123,
          14.689972,
          14.689972,
          14.689972,
          14.689972,
          14.689972,
          14.689972,
          14.596746,
          14.596746,
          14.596746,
          14.596746,
          14.596746,
          14.897225,
          14.897225,
          14.897225,
          14.897225,
          14.689972,
          14.710258,
          14.636543,
          14.636543,
          14.636543,
          14.636543,
          14.636543,
          14.785903,
          14.540911,
          14.540911,
          14.540911,
          14.679967,
          14.679967,
          14.679967,
          14.679967,
          14.679967,
          14.57595,
          14.57595,
          14.57595,
          14.57595,
          14.57595,
          14.57595,
          14.57595,
          14.57595,
          14.57595,
          14.596746,
          14.689972,
          14.528646,
          14.612287,
          14.76139,
          14.690886,
          14.606822,
          14.597992,
          14.612287,
          14.678651,
          14.579716,
          14.725885,
          14.546138,
          14.539985,
          14.513551,
          14.677535,
          14.508626,
          14.711356,
          14.531076,
          14.539985,
          14.539985,
          14.567624,
          14.567624,
          14.597992,
          14.579716,
          14.545185,
          14.761044,
          14.531076,
          14.688867,
          14.679135,
          14.679135,
          14.677535,
          14.709891,
          14.709891,
          14.677535,
          14.574452,
          14.508626,
          14.501672,
          14.725885,
          14.688867,
          14.690886,
          14.546138,
          14.546138,
          14.539985,
          14.508626,
          14.567624,
          14.539985,
          14.501672,
          14.531076,
          14.462032,
          14.605883,
          14.605883,
          14.539985,
          14.694749,
          14.694749,
          14.572098,
          14.690886,
          14.76139,
          14.478444,
          14.690886,
          14.572098,
          14.550229,
          14.761044,
          14.567624,
          14.567624,
          14.567624,
          14.508626,
          14.546138,
          14.539985,
          14.531076,
          14.539985,
          14.539985,
          14.550229,
          14.709891,
          14.679135,
          14.709891,
          14.539985,
          14.539985,
          14.705198,
          14.628939,
          14.550229,
          14.567624,
          14.694749,
          14.606822,
          14.612287,
          14.539985,
          14.679135,
          14.638156,
          14.638156,
          14.679135,
          14.679135,
          14.574452,
          14.574452,
          14.832058,
          14.539985,
          14.832058,
          14.628939,
          14.528646,
          14.694749,
          14.539985,
          14.528736,
          14.574452,
          14.545185,
          14.616129,
          14.832058,
          14.678651,
          14.612287,
          14.7055,
          14.579716,
          14.531076,
          14.567624,
          14.567624,
          14.761044,
          14.574452,
          14.508626,
          14.539985,
          14.508626,
          14.531076,
          14.539985,
          14.567624,
          14.545185,
          14.545185,
          14.574452,
          14.539985,
          14.595523,
          14.66555,
          14.567624,
          14.694749,
          14.66555,
          14.694749,
          14.705198,
          14.545185,
          14.517069,
          14.478444,
          14.628939,
          14.7055,
          14.462032,
          14.517069,
          14.531076,
          14.572098,
          14.597992,
          14.678651,
          14.612287,
          14.579716,
          14.539985,
          14.677535,
          14.508626,
          14.711356,
          14.531076,
          14.539985,
          14.539985,
          14.567624,
          14.567624,
          14.546138,
          14.597992,
          14.579716,
          14.545185,
          14.761044,
          14.552267,
          14.546138,
          14.539985,
          14.513551,
          14.725885,
          14.531076,
          14.595523,
          14.539985,
          14.567624,
          14.539985,
          14.539985,
          14.711356,
          14.567624,
          14.677535,
          14.567624,
          14.574452,
          14.508626,
          14.546138,
          14.508626,
          14.688867,
          14.501672,
          14.725885,
          14.597992,
          14.546138,
          14.597992,
          14.539985,
          14.508626,
          14.690886,
          14.628939,
          14.597992,
          14.678651,
          14.579716,
          14.531076,
          14.545185,
          14.567624,
          14.567624,
          14.579716,
          14.689972,
          14.679135,
          14.567624,
          14.574452,
          14.546138,
          14.539985,
          14.508626,
          14.531076,
          14.539985,
          14.539985,
          14.528646,
          14.605883,
          14.517069,
          14.517069,
          14.606822,
          14.616129,
          14.690886,
          14.572098,
          14.7055,
          14.694749,
          14.705198,
          14.690886,
          14.478444,
          14.462032,
          14.567624,
          14.628939,
          14.597992,
          14.579716,
          14.508626,
          14.531076,
          14.545185,
          14.567624,
          14.567624,
          14.567624,
          14.579716,
          14.761044,
          14.531076,
          14.689972,
          14.679135,
          14.567624,
          14.567624,
          14.574452,
          14.546138,
          14.539985,
          14.539985,
          14.539985,
          14.597992,
          14.572098,
          14.572098,
          14.462032,
          14.462032,
          14.66555,
          14.539985,
          14.628939,
          14.679135,
          14.705198,
          14.579716,
          14.628939,
          14.579716,
          14.579716,
          14.679135,
          14.462032,
          14.528736,
          14.546138,
          14.462032,
          14.462032,
          14.462032,
          14.567624,
          14.508626,
          14.508626,
          14.567624,
          14.574452,
          14.76139,
          14.711356,
          14.690886,
          14.677535,
          14.574452,
          14.679135,
          14.539985,
          14.572098,
          14.528646,
          14.567624,
          14.572098,
          14.572098,
          14.539985,
          14.677535,
          14.605883,
          14.550229,
          14.678651,
          14.550229,
          14.550229,
          14.528736,
          14.567624,
          14.638156,
          14.606822,
          14.709891,
          14.605883,
          14.76139,
          14.628939,
          14.725885,
          14.531076,
          14.725885,
          14.567624,
          14.528646,
          14.573793,
          14.76139,
          14.597992,
          14.501672,
          14.628939,
          14.694749,
          14.606822,
          14.462032,
          14.513551,
          14.678651,
          14.679135,
          14.606822,
          14.606822,
          14.832058,
          14.76139,
          14.539985,
          14.517069,
          14.531076,
          14.567624,
          14.574452,
          14.508626,
          14.508626,
          14.567624,
          14.567624,
          14.574452,
          14.528736,
          14.528736,
          14.694749,
          14.462032,
          14.597992,
          14.573793,
          14.709891,
          14.546138,
          14.66555,
          14.462032,
          14.7055,
          14.539985,
          14.616129,
          14.539985,
          14.513551,
          14.539985,
          14.574452,
          14.709891,
          14.501672,
          14.513551,
          14.601328,
          14.545185,
          14.709891,
          14.725885,
          14.7055,
          14.601328,
          14.761044,
          14.513551,
          14.760934,
          14.552267,
          14.501672,
          14.601328,
          14.7055,
          14.545185,
          14.606822,
          14.688867,
          14.601328,
          14.709891,
          14.616129,
          14.567624,
          14.688867,
          14.601328,
          14.567624,
          14.725885,
          14.545185,
          14.595523,
          14.573793,
          14.678651,
          14.572098,
          14.574452,
          14.616129,
          14.705198,
          14.501672,
          14.501672,
          14.508626,
          14.508626,
          14.501672,
          14.501672,
          14.539985,
          14.539985,
          14.567624,
          14.539985,
          14.501672,
          14.501672,
          14.501672,
          14.501672,
          14.539985,
          14.508626,
          14.508626,
          14.501672,
          14.501672,
          14.539985,
          14.539985,
          14.567624,
          14.539985,
          14.705198,
          14.501672,
          14.508626,
          14.508626,
          14.572098,
          14.572098,
          14.628939,
          14.648888,
          14.638156,
          14.638156,
          14.709891,
          14.679135,
          14.710269,
          14.709891,
          14.709891,
          14.573793,
          14.616129,
          14.7055,
          14.567624,
          14.545185,
          14.572098,
          14.597992,
          14.701847,
          14.517069,
          14.705198,
          14.550229,
          14.605883,
          14.612287,
          14.7055,
          14.531076,
          14.573793,
          14.478444,
          14.478444,
          14.690886,
          14.690886,
          14.694749,
          14.694749,
          14.573793,
          14.694749,
          14.694749,
          14.679135,
          14.517069,
          14.76139,
          14.710269,
          14.659123,
          14.659123,
          14.710269,
          14.567624,
          14.648888,
          14.545047,
          14.574452,
          14.710258,
          14.574452,
          14.701847,
          14.710258,
          14.710269,
          14.648888,
          14.710258,
          14.579716,
          14.689972,
          14.648888,
          14.710269,
          14.710258,
          14.545047,
          14.710269,
          14.710269,
          14.710258,
          14.574452,
          14.545047,
          14.648888,
          14.648888,
          14.710258,
          14.648888,
          14.545047,
          14.710269,
          14.710269,
          14.545047,
          14.710269,
          14.710258,
          14.648888,
          14.710269,
          14.528646,
          14.705198,
          14.545047,
          14.648888,
          14.659123,
          14.659123,
          14.832058,
          14.710258,
          14.567624,
          14.648888,
          14.545047,
          14.710258,
          14.648888
         ],
         "marker": {
          "color": "#00cc96"
         },
         "mode": "markers",
         "name": "Benevento",
         "showlegend": true,
         "subplot": "mapbox",
         "type": "scattermapbox"
        },
        {
         "customdata": [
          [
           "Carinola",
           "Caserta"
          ],
          [
           "Pontelatone",
           "Caserta"
          ],
          [
           "Pontelatone",
           "Caserta"
          ],
          [
           "Pontelatone",
           "Caserta"
          ],
          [
           "Caiazzo",
           "Caserta"
          ],
          [
           "Caiazzo",
           "Caserta"
          ],
          [
           "Caiazzo",
           "Caserta"
          ],
          [
           "Caiazzo",
           "Caserta"
          ],
          [
           "Caiazzo",
           "Caserta"
          ],
          [
           "Caiazzo",
           "Caserta"
          ],
          [
           "Falciano del Massico",
           "Caserta"
          ],
          [
           "Carinola",
           "Caserta"
          ],
          [
           "Piana di Monte Verna",
           "Caserta"
          ],
          [
           "Piana di Monte Verna",
           "Caserta"
          ],
          [
           "Piana di Monte Verna",
           "Caserta"
          ],
          [
           "Galluccio",
           "Caserta"
          ],
          [
           "Galluccio",
           "Caserta"
          ],
          [
           "Galluccio",
           "Caserta"
          ],
          [
           "Galluccio",
           "Caserta"
          ],
          [
           "Galluccio",
           "Caserta"
          ],
          [
           "Sessa Aurunca",
           "Caserta"
          ],
          [
           "Mondragone",
           "Caserta"
          ],
          [
           "Sessa Aurunca",
           "Caserta"
          ],
          [
           "Sessa Aurunca",
           "Caserta"
          ],
          [
           "Sessa Aurunca",
           "Caserta"
          ],
          [
           "Sessa Aurunca",
           "Caserta"
          ],
          [
           "Sessa Aurunca",
           "Caserta"
          ],
          [
           "Sessa Aurunca",
           "Caserta"
          ],
          [
           "Mondragone",
           "Caserta"
          ],
          [
           "Galluccio",
           "Caserta"
          ],
          [
           "Rocca d'Evandro",
           "Caserta"
          ],
          [
           "Cellole",
           "Caserta"
          ],
          [
           "Galluccio",
           "Caserta"
          ],
          [
           "Rocca d'Evandro",
           "Caserta"
          ],
          [
           "Castel Campagnano",
           "Caserta"
          ],
          [
           "Carinola",
           "Caserta"
          ],
          [
           "Carinola",
           "Caserta"
          ],
          [
           "Carinola",
           "Caserta"
          ],
          [
           "Galluccio",
           "Caserta"
          ],
          [
           "Caiazzo",
           "Caserta"
          ],
          [
           "Gricignano di Aversa",
           "Caserta"
          ],
          [
           "Falciano del Massico",
           "Caserta"
          ],
          [
           "Caiazzo",
           "Caserta"
          ],
          [
           "Pontelatone",
           "Caserta"
          ],
          [
           "Liberi",
           "Caserta"
          ],
          [
           "Galluccio",
           "Caserta"
          ],
          [
           "Falciano del Massico",
           "Caserta"
          ],
          [
           "Galluccio",
           "Caserta"
          ],
          [
           "Falciano del Massico",
           "Caserta"
          ],
          [
           "Falciano del Massico",
           "Caserta"
          ],
          [
           "Pontelatone",
           "Caserta"
          ],
          [
           "Galluccio",
           "Caserta"
          ],
          [
           "Galluccio",
           "Caserta"
          ],
          [
           "Caiazzo",
           "Caserta"
          ],
          [
           "Castel Campagnano",
           "Caserta"
          ],
          [
           "Pontelatone",
           "Caserta"
          ],
          [
           "Cellole",
           "Caserta"
          ],
          [
           "Castel Campagnano",
           "Caserta"
          ],
          [
           "Galluccio",
           "Caserta"
          ],
          [
           "Galluccio",
           "Caserta"
          ],
          [
           "Galluccio",
           "Caserta"
          ],
          [
           "Caiazzo",
           "Caserta"
          ],
          [
           "Caiazzo",
           "Caserta"
          ],
          [
           "Caiazzo",
           "Caserta"
          ],
          [
           "Galluccio",
           "Caserta"
          ],
          [
           "Galluccio",
           "Caserta"
          ],
          [
           "Pontelatone",
           "Caserta"
          ],
          [
           "Pontelatone",
           "Caserta"
          ],
          [
           "Cellole",
           "Caserta"
          ],
          [
           "Sessa Aurunca",
           "Caserta"
          ],
          [
           "Sessa Aurunca",
           "Caserta"
          ],
          [
           "Lusciano",
           "Caserta"
          ],
          [
           "Cellole",
           "Caserta"
          ],
          [
           "Pontelatone",
           "Caserta"
          ],
          [
           "Rocca d'Evandro",
           "Caserta"
          ],
          [
           "Cellole",
           "Caserta"
          ],
          [
           "Cellole",
           "Caserta"
          ],
          [
           "Galluccio",
           "Caserta"
          ],
          [
           "Galluccio",
           "Caserta"
          ],
          [
           "Rocca d'Evandro",
           "Caserta"
          ],
          [
           "Cellole",
           "Caserta"
          ],
          [
           "Cellole",
           "Caserta"
          ],
          [
           "Falciano del Massico",
           "Caserta"
          ],
          [
           "Cellole",
           "Caserta"
          ],
          [
           "Galluccio",
           "Caserta"
          ],
          [
           "Galluccio",
           "Caserta"
          ],
          [
           "Castel Campagnano",
           "Caserta"
          ],
          [
           "Galluccio",
           "Caserta"
          ],
          [
           "Galluccio",
           "Caserta"
          ],
          [
           "Rocca d'Evandro",
           "Caserta"
          ],
          [
           "Galluccio",
           "Caserta"
          ],
          [
           "Galluccio",
           "Caserta"
          ],
          [
           "Galluccio",
           "Caserta"
          ],
          [
           "Galluccio",
           "Caserta"
          ],
          [
           "Rocca d'Evandro",
           "Caserta"
          ],
          [
           "Galluccio",
           "Caserta"
          ],
          [
           "Carinola",
           "Caserta"
          ],
          [
           "Galluccio",
           "Caserta"
          ],
          [
           "Liberi",
           "Caserta"
          ],
          [
           "Cellole",
           "Caserta"
          ],
          [
           "Galluccio",
           "Caserta"
          ],
          [
           "Castel Campagnano",
           "Caserta"
          ],
          [
           "Carinaro",
           "Caserta"
          ],
          [
           "Caiazzo",
           "Caserta"
          ],
          [
           "Caiazzo",
           "Caserta"
          ],
          [
           "Castel Campagnano",
           "Caserta"
          ],
          [
           "Falciano del Massico",
           "Caserta"
          ],
          [
           "Liberi",
           "Caserta"
          ],
          [
           "Gricignano di Aversa",
           "Caserta"
          ],
          [
           "Cellole",
           "Caserta"
          ],
          [
           "Galluccio",
           "Caserta"
          ],
          [
           "Carinola",
           "Caserta"
          ],
          [
           "Galluccio",
           "Caserta"
          ],
          [
           "Liberi",
           "Caserta"
          ],
          [
           "Galluccio",
           "Caserta"
          ],
          [
           "Pontelatone",
           "Caserta"
          ],
          [
           "Carinaro",
           "Caserta"
          ],
          [
           "Galluccio",
           "Caserta"
          ],
          [
           "Carinola",
           "Caserta"
          ],
          [
           "Caiazzo",
           "Caserta"
          ],
          [
           "Pontelatone",
           "Caserta"
          ],
          [
           "Caiazzo",
           "Caserta"
          ],
          [
           "Galluccio",
           "Caserta"
          ],
          [
           "Galluccio",
           "Caserta"
          ],
          [
           "Galluccio",
           "Caserta"
          ],
          [
           "Falciano del Massico",
           "Caserta"
          ],
          [
           "Galluccio",
           "Caserta"
          ],
          [
           "Castel Campagnano",
           "Caserta"
          ],
          [
           "Gricignano di Aversa",
           "Caserta"
          ],
          [
           "Galluccio",
           "Caserta"
          ],
          [
           "Galluccio",
           "Caserta"
          ],
          [
           "Sessa Aurunca",
           "Caserta"
          ],
          [
           "Sessa Aurunca",
           "Caserta"
          ],
          [
           "Galluccio",
           "Caserta"
          ],
          [
           "Galluccio",
           "Caserta"
          ],
          [
           "Castel Campagnano",
           "Caserta"
          ],
          [
           "Sessa Aurunca",
           "Caserta"
          ],
          [
           "Galluccio",
           "Caserta"
          ],
          [
           "Pontelatone",
           "Caserta"
          ],
          [
           "Pontelatone",
           "Caserta"
          ],
          [
           "Caiazzo",
           "Caserta"
          ],
          [
           "Caiazzo",
           "Caserta"
          ],
          [
           "Caiazzo",
           "Caserta"
          ],
          [
           "Caiazzo",
           "Caserta"
          ],
          [
           "Carinola",
           "Caserta"
          ],
          [
           "Carinaro",
           "Caserta"
          ],
          [
           "Cellole",
           "Caserta"
          ],
          [
           "Galluccio",
           "Caserta"
          ],
          [
           "Sessa Aurunca",
           "Caserta"
          ],
          [
           "Cellole",
           "Caserta"
          ],
          [
           "Pontelatone",
           "Caserta"
          ],
          [
           "Sessa Aurunca",
           "Caserta"
          ],
          [
           "Caiazzo",
           "Caserta"
          ],
          [
           "Cellole",
           "Caserta"
          ],
          [
           "Cellole",
           "Caserta"
          ],
          [
           "Pontelatone",
           "Caserta"
          ],
          [
           "Carinaro",
           "Caserta"
          ],
          [
           "Carinaro",
           "Caserta"
          ],
          [
           "Carinaro",
           "Caserta"
          ],
          [
           "Carinaro",
           "Caserta"
          ],
          [
           "Carinaro",
           "Caserta"
          ],
          [
           "Carinaro",
           "Caserta"
          ],
          [
           "Carinaro",
           "Caserta"
          ],
          [
           "Carinaro",
           "Caserta"
          ],
          [
           "Carinaro",
           "Caserta"
          ],
          [
           "Carinaro",
           "Caserta"
          ],
          [
           "Carinaro",
           "Caserta"
          ],
          [
           "Sessa Aurunca",
           "Caserta"
          ],
          [
           "Falciano del Massico",
           "Caserta"
          ],
          [
           "Carinaro",
           "Caserta"
          ],
          [
           "Castel Campagnano",
           "Caserta"
          ],
          [
           "Teano",
           "Caserta"
          ],
          [
           "Lusciano",
           "Caserta"
          ],
          [
           "Lusciano",
           "Caserta"
          ],
          [
           "Lusciano",
           "Caserta"
          ],
          [
           "Carinola",
           "Caserta"
          ],
          [
           "Carinola",
           "Caserta"
          ],
          [
           "Caserta",
           "Caserta"
          ],
          [
           "Caiazzo",
           "Caserta"
          ],
          [
           "Gricignano di Aversa",
           "Caserta"
          ],
          [
           "Carinola",
           "Caserta"
          ],
          [
           "Carinola",
           "Caserta"
          ],
          [
           "Castel Campagnano",
           "Caserta"
          ],
          [
           "Teano",
           "Caserta"
          ],
          [
           "Teano",
           "Caserta"
          ],
          [
           "Lusciano",
           "Caserta"
          ],
          [
           "Falciano del Massico",
           "Caserta"
          ],
          [
           "Teano",
           "Caserta"
          ],
          [
           "Teano",
           "Caserta"
          ],
          [
           "Castel Campagnano",
           "Caserta"
          ],
          [
           "Lusciano",
           "Caserta"
          ],
          [
           "Carinola",
           "Caserta"
          ],
          [
           "Teano",
           "Caserta"
          ],
          [
           "Sessa Aurunca",
           "Caserta"
          ],
          [
           "Carinola",
           "Caserta"
          ],
          [
           "Lusciano",
           "Caserta"
          ],
          [
           "Castel Campagnano",
           "Caserta"
          ],
          [
           "Castel Campagnano",
           "Caserta"
          ],
          [
           "Castel Campagnano",
           "Caserta"
          ],
          [
           "Teano",
           "Caserta"
          ],
          [
           "Carinola",
           "Caserta"
          ],
          [
           "Castel Campagnano",
           "Caserta"
          ],
          [
           "Carinola",
           "Caserta"
          ],
          [
           "Lusciano",
           "Caserta"
          ],
          [
           "Lusciano",
           "Caserta"
          ],
          [
           "Lusciano",
           "Caserta"
          ],
          [
           "Teano",
           "Caserta"
          ]
         ],
         "hovertemplate": "<b>%{hovertext}</b><br><br>prov=%{customdata[1]}<br>lat=%{lat}<br>long=%{lon}<br>lau=%{customdata[0]}<extra></extra>",
         "hovertext": [
          "Viticoltori Migliozzi",
          "Vigne Chigi",
          "Vigne Chigi",
          "Vigne Chigi",
          "Ale.P.A.",
          "Ale.P.A.",
          "Ale.P.A.",
          "Ale.P.A.",
          "Ale.P.A.",
          "Ale.P.A.",
          "Cantina Gennaro Papa",
          "Nicola Trabucco",
          "Crapareccia",
          "Crapareccia",
          "Crapareccia",
          "Palummo",
          "Palummo",
          "Masseria Starnali",
          "Masseria Starnali",
          "Masseria Starnali",
          "Dionigi Paonessa",
          "Michele Moio",
          "Masseria Felicia",
          "Masseria Felicia",
          "Masseria Felicia",
          "Masseria Felicia",
          "Masseria Felicia",
          "Masseria Felicia",
          "Michele Moio",
          "Porto di Mola",
          "Fattoria Prattico",
          "Villa Matilde",
          "Porto di Mola",
          "Fattoria Prattico",
          "Terre del Principe",
          "Fattoria Pagano",
          "Fattoria Pagano",
          "Fattoria Pagano",
          "Telaro",
          "Vestini Campagnano & Poderi Foglia",
          "Masseria Campito",
          "Regina Viarum",
          "Cantine Rao",
          "Alois",
          "Sclavia",
          "Telaro",
          "Cantina Gennaro Papa",
          "Agricola San Teodoro",
          "Cantina Zannini",
          "Cantina Zannini",
          "Alois",
          "Porto di Mola",
          "Agricola San Teodoro",
          "Vestini Campagnano & Poderi Foglia",
          "Terre del Principe",
          "Alois",
          "Villa Matilde",
          "Terre del Principe",
          "Telaro",
          "Porto di Mola",
          "Agricola San Teodoro",
          "Vestini Campagnano & Poderi Foglia",
          "Vestini Campagnano & Poderi Foglia",
          "Vestini Campagnano & Poderi Foglia",
          "Agricola San Teodoro",
          "Porto di Mola",
          "Viticoltori del Casavecchia",
          "Alois",
          "Villa Matilde",
          "Volpara",
          "Volpara",
          "I Borboni",
          "Villa Matilde",
          "Viticoltori del Casavecchia",
          "Fattoria Prattico",
          "Villa Matilde",
          "Villa Matilde",
          "Porto di Mola",
          "Telaro",
          "Fattoria Prattico",
          "Villa Matilde",
          "Villa Matilde",
          "Cantina Gennaro Papa",
          "Villa Matilde",
          "Telaro",
          "Tenuta Adolfo Spada",
          "Terre del Principe",
          "Telaro",
          "Tenuta Adolfo Spada",
          "Fattoria Prattico",
          "Porto di Mola",
          "Tenuta Adolfo Spada",
          "Tenuta Adolfo Spada",
          "Tenuta Adolfo Spada",
          "Fattoria Prattico",
          "Porto di Mola",
          "Fattoria Pagano",
          "Tenuta Adolfo Spada",
          "Sclavia",
          "Villa Matilde",
          "Telaro",
          "Terre del Principe",
          "Caputo 1890",
          "Vestini Campagnano & Poderi Foglia",
          "Vestini Campagnano & Poderi Foglia",
          "Terre del Principe",
          "Regina Viarum",
          "Sclavia",
          "Masseria Campito",
          "Villa Matilde",
          "Agricola San Teodoro",
          "Fattoria Pagano",
          "Porto di Mola",
          "Sclavia",
          "Telaro",
          "Alois",
          "Caputo 1890",
          "Telaro",
          "Fattoria Pagano",
          "Vestini Campagnano & Poderi Foglia",
          "Viticoltori del Casavecchia",
          "Vestini Campagnano & Poderi Foglia",
          "Telaro",
          "Porto di Mola",
          "Porto di Mola",
          "Regina Viarum",
          "Porto di Mola",
          "Terre del Principe",
          "Masseria Campito",
          "Porto di Mola",
          "Agricola San Teodoro",
          "Volpara",
          "Volpara",
          "Telaro",
          "Agricola San Teodoro",
          "Terre del Principe",
          "Volpara",
          "Agricola San Teodoro",
          "Alois",
          "Viticoltori del Casavecchia",
          "Cantine Rao",
          "Cantine Rao",
          "Cantine Rao",
          "Cantine Rao",
          "Azienda Agricola Nugnes",
          "Caputo 1890",
          "Villa Matilde",
          "Telaro",
          "Galardi",
          "Villa Matilde",
          "Alois",
          "Volpara",
          "Vestini Campagnano & Poderi Foglia",
          "Villa Matilde",
          "Villa Matilde",
          "Viticoltori del Casavecchia",
          "Caputo 1890",
          "Caputo 1890",
          "Caputo 1890",
          "Caputo 1890",
          "Caputo 1890",
          "Caputo 1890",
          "Caputo 1890",
          "Caputo 1890",
          "Caputo 1890",
          "Caputo 1890",
          "Caputo 1890",
          "Volpara",
          "Regina Viarum",
          "Caputo 1890",
          "Selvanova",
          "I cacciagalli",
          "I Borboni",
          "I Borboni",
          "I Borboni",
          "Azienda Agricola Nugnes",
          "Azienda Agricola Nugnes",
          "Della Valle Jappellj",
          "Vestini Campagnano & Poderi Foglia",
          "Masseria Campito",
          "Azienda Agricola Nugnes",
          "Azienda Agricola Nugnes",
          "Selvanova",
          "I cacciagalli",
          "I cacciagalli",
          "I Borboni",
          "Regina Viarum",
          "I cacciagalli",
          "I cacciagalli",
          "Selvanova",
          "I Borboni",
          "Azienda Agricola Nugnes",
          "I cacciagalli",
          "Volpara",
          "Azienda Agricola Nugnes",
          "I Borboni",
          "Selvanova",
          "Selvanova",
          "Selvanova",
          "I cacciagalli",
          "Azienda Agricola Nugnes",
          "Selvanova",
          "Azienda Agricola Nugnes",
          "I Borboni",
          "I Borboni",
          "I Borboni",
          "I cacciagalli"
         ],
         "lat": [
          41.210876,
          41.198925,
          41.198925,
          41.198925,
          41.178094,
          41.178094,
          41.178094,
          41.178094,
          41.178094,
          41.178094,
          41.162051,
          41.186179,
          41.193627,
          41.193627,
          41.193627,
          41.339383,
          41.339383,
          41.327886,
          41.327886,
          41.327886,
          41.241955,
          41.114361,
          41.217532,
          41.217532,
          41.217532,
          41.217532,
          41.217532,
          41.217532,
          41.114361,
          41.334884,
          41.33015,
          41.21264,
          41.334884,
          41.33015,
          41.171604,
          41.185987,
          41.185987,
          41.185987,
          41.345887,
          41.179875,
          40.97825,
          41.173412,
          41.16297,
          41.197169,
          41.230492,
          41.345887,
          41.162051,
          41.337258,
          41.166374,
          41.166374,
          41.197169,
          41.334884,
          41.337258,
          41.179875,
          41.171604,
          41.197169,
          41.21264,
          41.171604,
          41.345887,
          41.334884,
          41.337258,
          41.179875,
          41.179875,
          41.179875,
          41.337258,
          41.334884,
          41.189781,
          41.197169,
          41.21264,
          41.254926,
          41.254926,
          40.968338,
          41.21264,
          41.189781,
          41.33015,
          41.21264,
          41.21264,
          41.334884,
          41.345887,
          41.33015,
          41.21264,
          41.21264,
          41.162051,
          41.21264,
          41.345887,
          41.369503,
          41.171604,
          41.345887,
          41.369503,
          41.33015,
          41.334884,
          41.369503,
          41.369503,
          41.369503,
          41.33015,
          41.334884,
          41.185987,
          41.369503,
          41.230492,
          41.21264,
          41.345887,
          41.171604,
          40.98446,
          41.179875,
          41.179875,
          41.171604,
          41.173412,
          41.230492,
          40.97825,
          41.21264,
          41.337258,
          41.185987,
          41.334884,
          41.230492,
          41.345887,
          41.197169,
          40.98446,
          41.345887,
          41.185987,
          41.179875,
          41.189781,
          41.179875,
          41.345887,
          41.334884,
          41.334884,
          41.173412,
          41.334884,
          41.171604,
          40.97825,
          41.334884,
          41.337258,
          41.254926,
          41.254926,
          41.345887,
          41.337258,
          41.171604,
          41.254926,
          41.337258,
          41.197169,
          41.189781,
          41.16297,
          41.16297,
          41.16297,
          41.16297,
          41.196209,
          40.98446,
          41.21264,
          41.345887,
          41.318216,
          41.21264,
          41.197169,
          41.254926,
          41.179875,
          41.21264,
          41.21264,
          41.189781,
          40.98446,
          40.98446,
          40.98446,
          40.98446,
          40.98446,
          40.98446,
          40.98446,
          40.98446,
          40.98446,
          40.98446,
          40.98446,
          41.254926,
          41.173412,
          40.98446,
          41.170174,
          41.252863,
          40.968338,
          40.968338,
          40.968338,
          41.196209,
          41.196209,
          45.99689,
          41.179875,
          40.97825,
          41.196209,
          41.196209,
          41.170174,
          41.252863,
          41.252863,
          40.968338,
          41.173412,
          41.252863,
          41.252863,
          41.170174,
          40.968338,
          41.196209,
          41.252863,
          41.254926,
          41.196209,
          40.968338,
          41.170174,
          41.170174,
          41.170174,
          41.252863,
          41.196209,
          41.170174,
          41.196209,
          40.968338,
          40.968338,
          40.968338,
          41.252863
         ],
         "legendgroup": "Caserta",
         "lon": [
          13.995166,
          14.257342,
          14.257342,
          14.257342,
          14.40379,
          14.40379,
          14.40379,
          14.40379,
          14.40379,
          14.40379,
          13.947495,
          13.99112,
          14.313805,
          14.313805,
          14.313805,
          13.944247,
          13.944247,
          13.93224,
          13.93224,
          13.93224,
          13.933622,
          13.892111,
          13.913712,
          13.913712,
          13.913712,
          13.913712,
          13.913712,
          13.913712,
          13.892111,
          13.913737,
          13.889725,
          13.814877,
          13.913737,
          13.889725,
          14.426723,
          13.984001,
          13.984001,
          13.984001,
          13.948946,
          14.400946,
          14.24648,
          13.947629,
          14.392845,
          14.235602,
          14.309574,
          13.948946,
          13.947495,
          13.919779,
          13.950565,
          13.950565,
          14.235602,
          13.913737,
          13.919779,
          14.400946,
          14.426723,
          14.235602,
          13.814877,
          14.426723,
          13.948946,
          13.913737,
          13.919779,
          14.400946,
          14.400946,
          14.400946,
          13.919779,
          13.913737,
          14.256186,
          14.235602,
          13.814877,
          13.954488,
          13.954488,
          14.190108,
          13.814877,
          14.256186,
          13.889725,
          13.814877,
          13.814877,
          13.913737,
          13.948946,
          13.889725,
          13.814877,
          13.814877,
          13.947495,
          13.814877,
          13.948946,
          13.972598,
          14.426723,
          13.948946,
          13.972598,
          13.889725,
          13.913737,
          13.972598,
          13.972598,
          13.972598,
          13.889725,
          13.913737,
          13.984001,
          13.972598,
          14.309574,
          13.814877,
          13.948946,
          14.426723,
          14.218948,
          14.400946,
          14.400946,
          14.426723,
          13.947629,
          14.309574,
          14.24648,
          13.814877,
          13.919779,
          13.984001,
          13.913737,
          14.309574,
          13.948946,
          14.235602,
          14.218948,
          13.948946,
          13.984001,
          14.400946,
          14.256186,
          14.400946,
          13.948946,
          13.913737,
          13.913737,
          13.947629,
          13.913737,
          14.426723,
          14.24648,
          13.913737,
          13.919779,
          13.954488,
          13.954488,
          13.948946,
          13.919779,
          14.426723,
          13.954488,
          13.919779,
          14.235602,
          14.256186,
          14.392845,
          14.392845,
          14.392845,
          14.392845,
          13.980821,
          14.218948,
          13.814877,
          13.948946,
          13.924492,
          13.814877,
          14.235602,
          13.954488,
          14.400946,
          13.814877,
          13.814877,
          14.256186,
          14.218948,
          14.218948,
          14.218948,
          14.218948,
          14.218948,
          14.218948,
          14.218948,
          14.218948,
          14.218948,
          14.218948,
          14.218948,
          13.954488,
          13.947629,
          14.218948,
          14.416466,
          14.067569,
          14.190108,
          14.190108,
          14.190108,
          13.980821,
          13.980821,
          11.32106,
          14.400946,
          14.24648,
          13.980821,
          13.980821,
          14.416466,
          14.067569,
          14.067569,
          14.190108,
          13.947629,
          14.067569,
          14.067569,
          14.416466,
          14.190108,
          13.980821,
          14.067569,
          13.954488,
          13.980821,
          14.190108,
          14.416466,
          14.416466,
          14.416466,
          14.067569,
          13.980821,
          14.416466,
          13.980821,
          14.190108,
          14.190108,
          14.190108,
          14.067569
         ],
         "marker": {
          "color": "#ab63fa"
         },
         "mode": "markers",
         "name": "Caserta",
         "showlegend": true,
         "subplot": "mapbox",
         "type": "scattermapbox"
        },
        {
         "customdata": [
          [
           "Napoli",
           "Napoli"
          ],
          [
           "Napoli",
           "Napoli"
          ],
          [
           "Napoli",
           "Napoli"
          ],
          [
           "Napoli",
           "Napoli"
          ],
          [
           "Quarto",
           "Napoli"
          ],
          [
           "Quarto",
           "Napoli"
          ],
          [
           "Quarto",
           "Napoli"
          ],
          [
           "Quarto",
           "Napoli"
          ],
          [
           "Quarto",
           "Napoli"
          ],
          [
           "Quarto",
           "Napoli"
          ],
          [
           "Quarto",
           "Napoli"
          ],
          [
           "Quarto",
           "Napoli"
          ],
          [
           "Quarto",
           "Napoli"
          ],
          [
           "Quarto",
           "Napoli"
          ],
          [
           "Quarto",
           "Napoli"
          ],
          [
           "Quarto",
           "Napoli"
          ],
          [
           "Quarto",
           "Napoli"
          ],
          [
           "Quarto",
           "Napoli"
          ],
          [
           "Bacoli",
           "Napoli"
          ],
          [
           "Bacoli",
           "Napoli"
          ],
          [
           "Bacoli",
           "Napoli"
          ],
          [
           "Bacoli",
           "Napoli"
          ],
          [
           "Pozzuoli",
           "Napoli"
          ],
          [
           "Pozzuoli",
           "Napoli"
          ],
          [
           "Forio",
           "Napoli"
          ],
          [
           "Forio",
           "Napoli"
          ],
          [
           "Monte di Procida",
           "Napoli"
          ],
          [
           "Monte di Procida",
           "Napoli"
          ],
          [
           "Ottaviano",
           "Napoli"
          ],
          [
           "Forio",
           "Napoli"
          ],
          [
           "Boscotrecase",
           "Napoli"
          ],
          [
           "Ottaviano",
           "Napoli"
          ],
          [
           "Nola",
           "Napoli"
          ],
          [
           "Nola",
           "Napoli"
          ],
          [
           "Nola",
           "Napoli"
          ],
          [
           "Sorrento",
           "Napoli"
          ],
          [
           "Ercolano",
           "Napoli"
          ],
          [
           "Ottaviano",
           "Napoli"
          ],
          [
           "San Sebastiano al Vesuvio",
           "Napoli"
          ],
          [
           "Napoli",
           "Napoli"
          ],
          [
           "Ottaviano",
           "Napoli"
          ],
          [
           "Torre Annunziata",
           "Napoli"
          ],
          [
           "Nola",
           "Napoli"
          ],
          [
           "Ottaviano",
           "Napoli"
          ],
          [
           "Pozzuoli",
           "Napoli"
          ],
          [
           "Pollena Trocchia",
           "Napoli"
          ],
          [
           "Napoli",
           "Napoli"
          ],
          [
           "Napoli",
           "Napoli"
          ],
          [
           "Napoli",
           "Napoli"
          ],
          [
           "San Giuseppe Vesuviano",
           "Napoli"
          ],
          [
           "Sorrento",
           "Napoli"
          ],
          [
           "Ottaviano",
           "Napoli"
          ],
          [
           "Ischia",
           "Napoli"
          ],
          [
           "Forio",
           "Napoli"
          ],
          [
           "San Giuseppe Vesuviano",
           "Napoli"
          ],
          [
           "Boscotrecase",
           "Napoli"
          ],
          [
           "Trecase",
           "Napoli"
          ],
          [
           "Pozzuoli",
           "Napoli"
          ],
          [
           "Pozzuoli",
           "Napoli"
          ],
          [
           "Pozzuoli",
           "Napoli"
          ],
          [
           "Pozzuoli",
           "Napoli"
          ],
          [
           "Trecase",
           "Napoli"
          ],
          [
           "San Giuseppe Vesuviano",
           "Napoli"
          ],
          [
           "San Giuseppe Vesuviano",
           "Napoli"
          ],
          [
           "Pollena Trocchia",
           "Napoli"
          ],
          [
           "Ottaviano",
           "Napoli"
          ],
          [
           "San Giuseppe Vesuviano",
           "Napoli"
          ],
          [
           "Ottaviano",
           "Napoli"
          ],
          [
           "Boscotrecase",
           "Napoli"
          ],
          [
           "Ottaviano",
           "Napoli"
          ],
          [
           "Napoli",
           "Napoli"
          ],
          [
           "Nola",
           "Napoli"
          ],
          [
           "Ercolano",
           "Napoli"
          ],
          [
           "Nola",
           "Napoli"
          ],
          [
           "Boscotrecase",
           "Napoli"
          ],
          [
           "Napoli",
           "Napoli"
          ],
          [
           "Napoli",
           "Napoli"
          ],
          [
           "Napoli",
           "Napoli"
          ],
          [
           "Napoli",
           "Napoli"
          ],
          [
           "Lacco Ameno",
           "Napoli"
          ],
          [
           "Bacoli",
           "Napoli"
          ],
          [
           "Bacoli",
           "Napoli"
          ],
          [
           "Boscotrecase",
           "Napoli"
          ],
          [
           "Sant'Antonio Abate",
           "Napoli"
          ],
          [
           "Boscotrecase",
           "Napoli"
          ],
          [
           "Trecase",
           "Napoli"
          ],
          [
           "Boscotrecase",
           "Napoli"
          ],
          [
           "Boscotrecase",
           "Napoli"
          ],
          [
           "Sant'Anastasia",
           "Napoli"
          ],
          [
           "Forio",
           "Napoli"
          ],
          [
           "Pozzuoli",
           "Napoli"
          ],
          [
           "Ottaviano",
           "Napoli"
          ],
          [
           "Ottaviano",
           "Napoli"
          ],
          [
           "Bacoli",
           "Napoli"
          ],
          [
           "Forio",
           "Napoli"
          ],
          [
           "Boscotrecase",
           "Napoli"
          ],
          [
           "Nola",
           "Napoli"
          ],
          [
           "Ottaviano",
           "Napoli"
          ],
          [
           "Piano di Sorrento",
           "Napoli"
          ],
          [
           "Nola",
           "Napoli"
          ],
          [
           "Nola",
           "Napoli"
          ],
          [
           "Sorrento",
           "Napoli"
          ],
          [
           "Ercolano",
           "Napoli"
          ],
          [
           "Ottaviano",
           "Napoli"
          ],
          [
           "San Sebastiano al Vesuvio",
           "Napoli"
          ],
          [
           "Ottaviano",
           "Napoli"
          ],
          [
           "Napoli",
           "Napoli"
          ],
          [
           "Ercolano",
           "Napoli"
          ],
          [
           "Ottaviano",
           "Napoli"
          ],
          [
           "Torre Annunziata",
           "Napoli"
          ],
          [
           "Nola",
           "Napoli"
          ],
          [
           "Ottaviano",
           "Napoli"
          ],
          [
           "Pozzuoli",
           "Napoli"
          ],
          [
           "Boscotrecase",
           "Napoli"
          ],
          [
           "Acerra",
           "Napoli"
          ],
          [
           "San Sebastiano al Vesuvio",
           "Napoli"
          ],
          [
           "Ercolano",
           "Napoli"
          ],
          [
           "Pozzuoli",
           "Napoli"
          ],
          [
           "Ottaviano",
           "Napoli"
          ],
          [
           "Boscotrecase",
           "Napoli"
          ],
          [
           "Ottaviano",
           "Napoli"
          ],
          [
           "Boscotrecase",
           "Napoli"
          ],
          [
           "Ischia",
           "Napoli"
          ],
          [
           "Terzigno",
           "Napoli"
          ],
          [
           "Forio",
           "Napoli"
          ],
          [
           "Boscotrecase",
           "Napoli"
          ],
          [
           "Terzigno",
           "Napoli"
          ],
          [
           "Terzigno",
           "Napoli"
          ],
          [
           "Forio",
           "Napoli"
          ],
          [
           "Boscotrecase",
           "Napoli"
          ],
          [
           "Ottaviano",
           "Napoli"
          ],
          [
           "Ercolano",
           "Napoli"
          ],
          [
           "San Sebastiano al Vesuvio",
           "Napoli"
          ],
          [
           "Napoli",
           "Napoli"
          ],
          [
           "Boscotrecase",
           "Napoli"
          ],
          [
           "San Sebastiano al Vesuvio",
           "Napoli"
          ],
          [
           "Ercolano",
           "Napoli"
          ],
          [
           "Pozzuoli",
           "Napoli"
          ],
          [
           "Ottaviano",
           "Napoli"
          ],
          [
           "Boscotrecase",
           "Napoli"
          ],
          [
           "Ottaviano",
           "Napoli"
          ],
          [
           "Acerra",
           "Napoli"
          ],
          [
           "Acerra",
           "Napoli"
          ],
          [
           "Acerra",
           "Napoli"
          ],
          [
           "Acerra",
           "Napoli"
          ],
          [
           "Acerra",
           "Napoli"
          ],
          [
           "Acerra",
           "Napoli"
          ],
          [
           "Acerra",
           "Napoli"
          ],
          [
           "Acerra",
           "Napoli"
          ],
          [
           "Acerra",
           "Napoli"
          ],
          [
           "Acerra",
           "Napoli"
          ],
          [
           "Acerra",
           "Napoli"
          ],
          [
           "Acerra",
           "Napoli"
          ],
          [
           "Acerra",
           "Napoli"
          ],
          [
           "Acerra",
           "Napoli"
          ],
          [
           "Acerra",
           "Napoli"
          ],
          [
           "Acerra",
           "Napoli"
          ],
          [
           "Piano di Sorrento",
           "Napoli"
          ],
          [
           "Pollena Trocchia",
           "Napoli"
          ],
          [
           "Ischia",
           "Napoli"
          ],
          [
           "Forio",
           "Napoli"
          ],
          [
           "Forio",
           "Napoli"
          ],
          [
           "Forio",
           "Napoli"
          ],
          [
           "Lacco Ameno",
           "Napoli"
          ],
          [
           "Lacco Ameno",
           "Napoli"
          ],
          [
           "Lacco Ameno",
           "Napoli"
          ],
          [
           "Ischia",
           "Napoli"
          ],
          [
           "Lacco Ameno",
           "Napoli"
          ],
          [
           "Sant'Anastasia",
           "Napoli"
          ],
          [
           "Sorrento",
           "Napoli"
          ],
          [
           "Sorrento",
           "Napoli"
          ],
          [
           "Sorrento",
           "Napoli"
          ],
          [
           "Sant'Anastasia",
           "Napoli"
          ],
          [
           "Sant'Anastasia",
           "Napoli"
          ],
          [
           "Torre Annunziata",
           "Napoli"
          ],
          [
           "Napoli",
           "Napoli"
          ],
          [
           "Pozzuoli",
           "Napoli"
          ],
          [
           "Ottaviano",
           "Napoli"
          ],
          [
           "Ottaviano",
           "Napoli"
          ],
          [
           "San Sebastiano al Vesuvio",
           "Napoli"
          ],
          [
           "San Sebastiano al Vesuvio",
           "Napoli"
          ],
          [
           "Trecase",
           "Napoli"
          ],
          [
           "San Sebastiano al Vesuvio",
           "Napoli"
          ],
          [
           "Boscotrecase",
           "Napoli"
          ],
          [
           "Ottaviano",
           "Napoli"
          ],
          [
           "Ercolano",
           "Napoli"
          ],
          [
           "Ottaviano",
           "Napoli"
          ],
          [
           "Trecase",
           "Napoli"
          ],
          [
           "San Sebastiano al Vesuvio",
           "Napoli"
          ],
          [
           "Boscotrecase",
           "Napoli"
          ],
          [
           "Ercolano",
           "Napoli"
          ],
          [
           "Ottaviano",
           "Napoli"
          ],
          [
           "Trecase",
           "Napoli"
          ],
          [
           "San Sebastiano al Vesuvio",
           "Napoli"
          ],
          [
           "Boscotrecase",
           "Napoli"
          ],
          [
           "Ottaviano",
           "Napoli"
          ],
          [
           "Ercolano",
           "Napoli"
          ],
          [
           "Ottaviano",
           "Napoli"
          ],
          [
           "Trecase",
           "Napoli"
          ],
          [
           "Boscotrecase",
           "Napoli"
          ],
          [
           "Boscotrecase",
           "Napoli"
          ],
          [
           "Torre Annunziata",
           "Napoli"
          ],
          [
           "Boscotrecase",
           "Napoli"
          ],
          [
           "Boscotrecase",
           "Napoli"
          ],
          [
           "Torre Annunziata",
           "Napoli"
          ],
          [
           "Napoli",
           "Napoli"
          ],
          [
           "Pozzuoli",
           "Napoli"
          ],
          [
           "Boscotrecase",
           "Napoli"
          ],
          [
           "Boscotrecase",
           "Napoli"
          ],
          [
           "Ottaviano",
           "Napoli"
          ],
          [
           "Boscotrecase",
           "Napoli"
          ],
          [
           "Boscotrecase",
           "Napoli"
          ],
          [
           "Pozzuoli",
           "Napoli"
          ],
          [
           "Forio",
           "Napoli"
          ],
          [
           "Bacoli",
           "Napoli"
          ],
          [
           "Pozzuoli",
           "Napoli"
          ],
          [
           "Trecase",
           "Napoli"
          ],
          [
           "Trecase",
           "Napoli"
          ],
          [
           "Trecase",
           "Napoli"
          ],
          [
           "Boscotrecase",
           "Napoli"
          ],
          [
           "Boscotrecase",
           "Napoli"
          ],
          [
           "Sorrento",
           "Napoli"
          ],
          [
           "Boscotrecase",
           "Napoli"
          ],
          [
           "San Giuseppe Vesuviano",
           "Napoli"
          ],
          [
           "Napoli",
           "Napoli"
          ],
          [
           "Napoli",
           "Napoli"
          ],
          [
           "Forio",
           "Napoli"
          ],
          [
           "Ottaviano",
           "Napoli"
          ],
          [
           "Ischia",
           "Napoli"
          ],
          [
           "Forio",
           "Napoli"
          ],
          [
           "Bacoli",
           "Napoli"
          ],
          [
           "Boscotrecase",
           "Napoli"
          ],
          [
           "Ottaviano",
           "Napoli"
          ],
          [
           "Napoli",
           "Napoli"
          ],
          [
           "Napoli",
           "Napoli"
          ],
          [
           "Torre Annunziata",
           "Napoli"
          ],
          [
           "Nola",
           "Napoli"
          ],
          [
           "Ercolano",
           "Napoli"
          ],
          [
           "Nola",
           "Napoli"
          ],
          [
           "Boscotrecase",
           "Napoli"
          ],
          [
           "Forio",
           "Napoli"
          ],
          [
           "Lacco Ameno",
           "Napoli"
          ],
          [
           "Lacco Ameno",
           "Napoli"
          ],
          [
           "Lacco Ameno",
           "Napoli"
          ],
          [
           "Lacco Ameno",
           "Napoli"
          ],
          [
           "San Giuseppe Vesuviano",
           "Napoli"
          ],
          [
           "Napoli",
           "Napoli"
          ],
          [
           "Pozzuoli",
           "Napoli"
          ],
          [
           "Lacco Ameno",
           "Napoli"
          ],
          [
           "Ottaviano",
           "Napoli"
          ],
          [
           "Pozzuoli",
           "Napoli"
          ],
          [
           "Pozzuoli",
           "Napoli"
          ],
          [
           "Pozzuoli",
           "Napoli"
          ],
          [
           "Nola",
           "Napoli"
          ],
          [
           "Nola",
           "Napoli"
          ],
          [
           "Sorrento",
           "Napoli"
          ],
          [
           "Sorrento",
           "Napoli"
          ],
          [
           "Napoli",
           "Napoli"
          ],
          [
           "Ischia",
           "Napoli"
          ],
          [
           "San Sebastiano al Vesuvio",
           "Napoli"
          ],
          [
           "Ercolano",
           "Napoli"
          ],
          [
           "Napoli",
           "Napoli"
          ],
          [
           "Pozzuoli",
           "Napoli"
          ],
          [
           "Trecase",
           "Napoli"
          ],
          [
           "Pollena Trocchia",
           "Napoli"
          ],
          [
           "Pollena Trocchia",
           "Napoli"
          ],
          [
           "Terzigno",
           "Napoli"
          ],
          [
           "Ottaviano",
           "Napoli"
          ],
          [
           "Boscotrecase",
           "Napoli"
          ],
          [
           "Terzigno",
           "Napoli"
          ],
          [
           "Ottaviano",
           "Napoli"
          ],
          [
           "Boscotrecase",
           "Napoli"
          ],
          [
           "Ottaviano",
           "Napoli"
          ],
          [
           "Ottaviano",
           "Napoli"
          ],
          [
           "Napoli",
           "Napoli"
          ],
          [
           "Lacco Ameno",
           "Napoli"
          ],
          [
           "Ischia",
           "Napoli"
          ],
          [
           "Terzigno",
           "Napoli"
          ],
          [
           "Ischia",
           "Napoli"
          ],
          [
           "Boscotrecase",
           "Napoli"
          ],
          [
           "Boscotrecase",
           "Napoli"
          ],
          [
           "Boscotrecase",
           "Napoli"
          ],
          [
           "Bacoli",
           "Napoli"
          ],
          [
           "Forio",
           "Napoli"
          ],
          [
           "Forio",
           "Napoli"
          ],
          [
           "Forio",
           "Napoli"
          ],
          [
           "Ischia",
           "Napoli"
          ],
          [
           "Ischia",
           "Napoli"
          ],
          [
           "Sant'Anastasia",
           "Napoli"
          ],
          [
           "Boscotrecase",
           "Napoli"
          ],
          [
           "Sant'Anastasia",
           "Napoli"
          ],
          [
           "Boscotrecase",
           "Napoli"
          ],
          [
           "Piano di Sorrento",
           "Napoli"
          ],
          [
           "Ischia",
           "Napoli"
          ],
          [
           "Ottaviano",
           "Napoli"
          ],
          [
           "Ischia",
           "Napoli"
          ],
          [
           "Piano di Sorrento",
           "Napoli"
          ],
          [
           "Acerra",
           "Napoli"
          ],
          [
           "Acerra",
           "Napoli"
          ],
          [
           "Acerra",
           "Napoli"
          ],
          [
           "Acerra",
           "Napoli"
          ],
          [
           "Acerra",
           "Napoli"
          ],
          [
           "Acerra",
           "Napoli"
          ],
          [
           "Piano di Sorrento",
           "Napoli"
          ],
          [
           "Ischia",
           "Napoli"
          ],
          [
           "Ischia",
           "Napoli"
          ],
          [
           "Ischia",
           "Napoli"
          ],
          [
           "Ischia",
           "Napoli"
          ],
          [
           "Ischia",
           "Napoli"
          ],
          [
           "Ischia",
           "Napoli"
          ],
          [
           "Piano di Sorrento",
           "Napoli"
          ],
          [
           "Piano di Sorrento",
           "Napoli"
          ]
         ],
         "hovertemplate": "<b>%{hovertext}</b><br><br>prov=%{customdata[1]}<br>lat=%{lat}<br>long=%{lon}<br>lau=%{customdata[0]}<extra></extra>",
         "hovertext": [
          "Agnanum",
          "Agnanum",
          "Agnanum",
          "Agnanum",
          "Grotta del Sole",
          "Grotta del Sole",
          "Grotta del Sole",
          "Grotta del Sole",
          "Grotta del Sole",
          "Grotta del Sole",
          "Grotta del Sole",
          "Grotta del Sole",
          "Grotta del Sole",
          "Grotta del Sole",
          "Grotta del Sole",
          "Grotta del Sole",
          "Grotta del Sole",
          "Grotta del Sole",
          "Cantine Farro",
          "Cantine Farro",
          "Cantine Farro",
          "Cantine Farro",
          "Contrada Salandra",
          "Contrada Salandra",
          "Agricola San Domenico",
          "Agricola San Domenico",
          "Il Regno dei Vini",
          "Il Regno dei Vini",
          "Fiore Romano",
          "Casa d'Ambra",
          "I Nobili del Vesuvio",
          "Romano (di Michele Romano)",
          "Cantine Sepe",
          "Cantine Sepe",
          "Cantine Sepe",
          "Cantine De Angelis",
          "Sannino",
          "Romano (di Michele Romano)",
          "De Falco Vini",
          "Cantine Astroni",
          "Romano (di Michele Romano)",
          "Azienda Agricola Ametrano",
          "Cantine Sepe",
          "Romano (di Michele Romano)",
          "Cantine Babbo",
          "Montesommavesuvio",
          "Cantine Astroni",
          "Cantine Astroni",
          "Cantine Astroni",
          "Vigna Pironti",
          "Cantine De Angelis",
          "Romano (di Michele Romano)",
          "Antonio Mazzella",
          "Casa d'Ambra",
          "Vigna Pironti",
          "I Nobili del Vesuvio",
          "Casa Setaro",
          "Le Cantine dell'Averno",
          "Tenuta Matilde Zasso",
          "Le Cantine dell'Averno",
          "Tenuta Matilde Zasso",
          "Casa Setaro",
          "Vigna Pironti",
          "Vigna Pironti",
          "Montesommavesuvio",
          "Romano (di Michele Romano)",
          "Vigna Pironti",
          "Fiore Romano",
          "I Nobili del Vesuvio",
          "Romano (di Michele Romano)",
          "Cantine Astroni",
          "Cantine Sepe",
          "Sannino",
          "Cantine Sepe",
          "Sorrentino",
          "Cantine Astroni",
          "Cantine Astroni",
          "Cantine Astroni",
          "Cantine Astroni",
          "Tommasone",
          "La Sibilla",
          "La Sibilla",
          "I Nobili del Vesuvio",
          "Cantine Longobardi",
          "Sorrentino",
          "Casa Setaro",
          "Sorrentino",
          "Sorrentino",
          "Cantine Olivella",
          "Casa d'Ambra",
          "Tenuta Matilde Zasso",
          "Fiore Romano",
          "Fiore Romano",
          "La Sibilla",
          "Casa d'Ambra",
          "I Nobili del Vesuvio",
          "Cantine Sepe",
          "Romano (di Michele Romano)",
          "Cantine Stinca",
          "Cantine Sepe",
          "Cantine Sepe",
          "Cantine De Angelis",
          "Sannino",
          "Romano (di Michele Romano)",
          "De Falco Vini",
          "Romano (di Michele Romano)",
          "Cantine Astroni",
          "Sannino",
          "Romano (di Michele Romano)",
          "Azienda Agricola Ametrano",
          "Cantine Sepe",
          "Romano (di Michele Romano)",
          "Tenuta Matilde Zasso",
          "Sorrentino",
          "Enodelta",
          "De Falco Vini",
          "Sannino",
          "Tenuta Matilde Zasso",
          "Romano (di Michele Romano)",
          "Sorrentino",
          "Romano (di Michele Romano)",
          "Sorrentino",
          "Antonio Mazzella",
          "Cantine Villa Dora",
          "Casa d'Ambra",
          "Sorrentino",
          "Cantine Villa Dora",
          "Cantine Villa Dora",
          "Casa d'Ambra",
          "I Nobili del Vesuvio",
          "Fiore Romano",
          "Sannino",
          "De Falco Vini",
          "Cantine Astroni",
          "Sorrentino",
          "De Falco Vini",
          "Sannino",
          "Tenuta Matilde Zasso",
          "Romano (di Michele Romano)",
          "Sorrentino",
          "Romano (di Michele Romano)",
          "Enodelta",
          "Enodelta",
          "Enodelta",
          "Enodelta",
          "Enodelta",
          "Enodelta",
          "Enodelta",
          "Enodelta",
          "Enodelta",
          "Enodelta",
          "Enodelta",
          "Enodelta",
          "Enodelta",
          "Enodelta",
          "Enodelta",
          "Enodelta",
          "Cantine Stinca",
          "Montesommavesuvio",
          "Antonio Mazzella",
          "Casa d'Ambra",
          "Pietratorcia",
          "Pietratorcia",
          "Tommasone",
          "Tommasone",
          "Tommasone",
          "Antonio Mazzella",
          "Tommasone",
          "Cantine Olivella",
          "Cantine De Angelis",
          "Cantine De Angelis",
          "Cantine De Angelis",
          "Cantine Olivella",
          "Cantine Olivella",
          "Azienda Agricola Ametrano",
          "Cantine Astroni",
          "Tenuta Matilde Zasso",
          "Fiore Romano",
          "Fiore Romano",
          "De Falco Vini",
          "De Falco Vini",
          "Cantina del Vesuvio",
          "De Falco Vini",
          "I Nobili del Vesuvio",
          "Romano (di Michele Romano)",
          "Sannino",
          "Romano (di Michele Romano)",
          "Cantina del Vesuvio",
          "De Falco Vini",
          "I Nobili del Vesuvio",
          "Sannino",
          "Romano (di Michele Romano)",
          "Cantina del Vesuvio",
          "De Falco Vini",
          "I Nobili del Vesuvio",
          "Romano (di Michele Romano)",
          "Sannino",
          "Romano (di Michele Romano)",
          "Cantina del Vesuvio",
          "Sorrentino",
          "Sorrentino",
          "Azienda Agricola Ametrano",
          "Sorrentino",
          "Sorrentino",
          "Azienda Agricola Ametrano",
          "Cantine Astroni",
          "Tenuta Matilde Zasso",
          "Sorrentino",
          "Sorrentino",
          "Romano (di Michele Romano)",
          "Sorrentino",
          "Sorrentino",
          "Cantine Babbo",
          "Casa d'Ambra",
          "La Sibilla",
          "Cantine Babbo",
          "Casa Setaro",
          "Casa Setaro",
          "Casa Setaro",
          "Sorrentino",
          "Sorrentino",
          "Cantine De Angelis",
          "Sorrentino",
          "Vigna Pironti",
          "Cantine Astroni",
          "Cantine Astroni",
          "Casa d'Ambra",
          "Fiore Romano",
          "Antonio Mazzella",
          "Casa d'Ambra",
          "La Sibilla",
          "I Nobili del Vesuvio",
          "Romano (di Michele Romano)",
          "Cantine Astroni",
          "Cantine Astroni",
          "Azienda Agricola Ametrano",
          "Cantine Sepe",
          "Sannino",
          "Cantine Sepe",
          "Sorrentino",
          "Giardini Arimei",
          "Tommasone",
          "Tommasone",
          "Tommasone",
          "Tommasone",
          "Vigna Pironti",
          "Cantine Astroni",
          "Tenuta Matilde Zasso",
          "Tommasone",
          "Romano (di Michele Romano)",
          "Tenuta Matilde Zasso",
          "Tenuta Matilde Zasso",
          "Cantine Babbo",
          "Cantine Sepe",
          "Cantine Sepe",
          "Cantine De Angelis",
          "Cantine De Angelis",
          "Cantine Astroni",
          "Antonio Mazzella",
          "De Falco Vini",
          "Sannino",
          "Cantine Astroni",
          "Cantine Babbo",
          "Casa Setaro",
          "Montesommavesuvio",
          "Montesommavesuvio",
          "Cantine Villa Dora",
          "Romano (di Michele Romano)",
          "Sorrentino",
          "Cantine Villa Dora",
          "Romano (di Michele Romano)",
          "Sorrentino",
          "Fiore Romano",
          "Fiore Romano",
          "Cantine Astroni",
          "Tommasone",
          "Antonio Mazzella",
          "Cantine Villa Dora",
          "Antonio Mazzella",
          "Sorrentino",
          "Sorrentino",
          "Sorrentino",
          "La Sibilla",
          "Pietratorcia",
          "Pietratorcia",
          "Pietratorcia",
          "Antonio Mazzella",
          "Antonio Mazzella",
          "Cantine Olivella",
          "I Nobili del Vesuvio",
          "Cantine Olivella",
          "Sorrentino",
          "Cantine Stinca",
          "Cenatiempo",
          "Fiore Romano",
          "Cenatiempo",
          "Cantine Stinca",
          "Enodelta",
          "Enodelta",
          "Enodelta",
          "Enodelta",
          "Enodelta",
          "Enodelta",
          "Cantine Stinca",
          "Cenatiempo",
          "Cenatiempo",
          "Cenatiempo",
          "Cenatiempo",
          "Cenatiempo",
          "Cenatiempo",
          "Cantine Stinca",
          "Cantine Stinca"
         ],
         "lat": [
          40.839236,
          40.839236,
          40.839236,
          40.839236,
          40.876861,
          40.876861,
          40.876861,
          40.876861,
          40.876861,
          40.876861,
          40.876861,
          40.876861,
          40.876861,
          40.876861,
          40.876861,
          40.876861,
          40.876861,
          40.876861,
          40.819957,
          40.819957,
          40.819957,
          40.819957,
          40.866854,
          40.866854,
          40.731223,
          40.731223,
          40.803087,
          40.803087,
          40.860786,
          40.713938,
          40.771292,
          40.857395,
          40.878684,
          40.878684,
          40.878684,
          40.625537,
          40.817911,
          40.857395,
          40.848699,
          40.84779,
          40.857395,
          40.756583,
          40.878684,
          40.857395,
          40.83089,
          40.867179,
          40.84779,
          40.84779,
          40.84779,
          40.824863,
          40.625537,
          40.857395,
          40.719424,
          40.713938,
          40.824863,
          40.771292,
          40.764953,
          40.84226,
          40.849868,
          40.84226,
          40.849868,
          40.764953,
          40.824863,
          40.824863,
          40.867179,
          40.857395,
          40.824863,
          40.860786,
          40.771292,
          40.857395,
          40.84779,
          40.878684,
          40.817911,
          40.878684,
          40.787731,
          40.84779,
          40.84779,
          40.84779,
          40.84779,
          40.747436,
          40.818102,
          40.818102,
          40.771292,
          40.71042,
          40.787731,
          40.764953,
          40.787731,
          40.787731,
          40.860811,
          40.713938,
          40.849868,
          40.860786,
          40.860786,
          40.818102,
          40.713938,
          40.771292,
          40.878684,
          40.857395,
          40.626859,
          40.878684,
          40.878684,
          40.625537,
          40.817911,
          40.857395,
          40.848699,
          40.857395,
          40.84779,
          40.817911,
          40.857395,
          40.756583,
          40.878684,
          40.857395,
          40.849868,
          40.787731,
          40.965233,
          40.848699,
          40.817911,
          40.849868,
          40.857395,
          40.787731,
          40.857395,
          40.787731,
          40.719424,
          40.811336,
          40.713938,
          40.787731,
          40.811336,
          40.811336,
          40.713938,
          40.771292,
          40.860786,
          40.817911,
          40.848699,
          40.84779,
          40.787731,
          40.848699,
          40.817911,
          40.849868,
          40.857395,
          40.787731,
          40.857395,
          40.965233,
          40.965233,
          40.965233,
          40.965233,
          40.965233,
          40.965233,
          40.965233,
          40.965233,
          40.965233,
          40.965233,
          40.965233,
          40.965233,
          40.965233,
          40.965233,
          40.965233,
          40.965233,
          40.626859,
          40.867179,
          40.719424,
          40.713938,
          40.716616,
          40.716616,
          40.747436,
          40.747436,
          40.747436,
          40.719424,
          40.747436,
          40.860811,
          40.625537,
          40.625537,
          40.625537,
          40.860811,
          40.860811,
          40.756583,
          40.84779,
          40.849868,
          40.860786,
          40.860786,
          40.848699,
          40.848699,
          40.788787,
          40.848699,
          40.771292,
          40.857395,
          40.817911,
          40.857395,
          40.788787,
          40.848699,
          40.771292,
          40.817911,
          40.857395,
          40.788787,
          40.848699,
          40.771292,
          40.857395,
          40.817911,
          40.857395,
          40.788787,
          40.787731,
          40.787731,
          40.756583,
          40.787731,
          40.787731,
          40.756583,
          40.84779,
          40.849868,
          40.787731,
          40.787731,
          40.857395,
          40.787731,
          40.787731,
          40.83089,
          40.713938,
          40.818102,
          40.83089,
          40.764953,
          40.764953,
          40.764953,
          40.787731,
          40.787731,
          40.625537,
          40.787731,
          40.824863,
          40.84779,
          40.84779,
          40.713938,
          40.860786,
          40.719424,
          40.713938,
          40.818102,
          40.771292,
          40.857395,
          40.84779,
          40.84779,
          40.756583,
          40.878684,
          40.817911,
          40.878684,
          40.787731,
          40.720259,
          40.747436,
          40.747436,
          40.747436,
          40.747436,
          40.824863,
          40.84779,
          40.849868,
          40.747436,
          40.857395,
          40.849868,
          40.849868,
          40.83089,
          40.878684,
          40.878684,
          40.625537,
          40.625537,
          40.84779,
          40.719424,
          40.848699,
          40.817911,
          40.84779,
          40.83089,
          40.764953,
          40.867179,
          40.867179,
          40.811336,
          40.857395,
          40.787731,
          40.811336,
          40.857395,
          40.787731,
          40.860786,
          40.860786,
          40.84779,
          40.747436,
          40.719424,
          40.811336,
          40.719424,
          40.787731,
          40.787731,
          40.787731,
          40.818102,
          40.716616,
          40.716616,
          40.716616,
          40.719424,
          40.719424,
          40.860811,
          40.771292,
          40.860811,
          40.787731,
          40.626859,
          40.743098,
          40.860786,
          40.743098,
          40.626859,
          40.965233,
          40.965233,
          40.965233,
          40.965233,
          40.965233,
          40.965233,
          40.626859,
          40.743098,
          40.743098,
          40.743098,
          40.743098,
          40.743098,
          40.743098,
          40.626859,
          40.626859
         ],
         "legendgroup": "Napoli",
         "lon": [
          14.161481,
          14.161481,
          14.161481,
          14.161481,
          14.107359,
          14.107359,
          14.107359,
          14.107359,
          14.107359,
          14.107359,
          14.107359,
          14.107359,
          14.107359,
          14.107359,
          14.107359,
          14.107359,
          14.107359,
          14.107359,
          14.064348,
          14.064348,
          14.064348,
          14.064348,
          14.071268,
          14.071268,
          13.860394,
          13.860394,
          14.059014,
          14.059014,
          14.47661,
          13.876839,
          14.458245,
          14.475987,
          14.509401,
          14.509401,
          14.509401,
          14.379099,
          14.362862,
          14.475987,
          14.360223,
          14.160464,
          14.475987,
          14.452978,
          14.509401,
          14.475987,
          14.072072,
          14.379516,
          14.160464,
          14.160464,
          14.160464,
          14.499359,
          14.379099,
          14.475987,
          13.95307,
          13.876839,
          14.499359,
          14.458245,
          14.446829,
          14.080755,
          14.076898,
          14.080755,
          14.076898,
          14.446829,
          14.499359,
          14.499359,
          14.379516,
          14.475987,
          14.499359,
          14.47661,
          14.458245,
          14.475987,
          14.160464,
          14.509401,
          14.362862,
          14.509401,
          14.45879,
          14.160464,
          14.160464,
          14.160464,
          14.160464,
          13.891749,
          14.065976,
          14.065976,
          14.458245,
          14.525021,
          14.45879,
          14.446829,
          14.45879,
          14.45879,
          14.405658,
          13.876839,
          14.076898,
          14.47661,
          14.47661,
          14.065976,
          13.876839,
          14.458245,
          14.509401,
          14.475987,
          14.415886,
          14.509401,
          14.509401,
          14.379099,
          14.362862,
          14.475987,
          14.360223,
          14.475987,
          14.160464,
          14.362862,
          14.475987,
          14.452978,
          14.509401,
          14.475987,
          14.076898,
          14.45879,
          14.373309,
          14.360223,
          14.362862,
          14.076898,
          14.475987,
          14.45879,
          14.475987,
          14.45879,
          13.95307,
          14.506394,
          13.876839,
          14.45879,
          14.506394,
          14.506394,
          13.876839,
          14.458245,
          14.47661,
          14.362862,
          14.360223,
          14.160464,
          14.45879,
          14.360223,
          14.362862,
          14.076898,
          14.475987,
          14.45879,
          14.475987,
          14.373309,
          14.373309,
          14.373309,
          14.373309,
          14.373309,
          14.373309,
          14.373309,
          14.373309,
          14.373309,
          14.373309,
          14.373309,
          14.373309,
          14.373309,
          14.373309,
          14.373309,
          14.373309,
          14.415886,
          14.379516,
          13.95307,
          13.876839,
          13.866906,
          13.866906,
          13.891749,
          13.891749,
          13.891749,
          13.95307,
          13.891749,
          14.405658,
          14.379099,
          14.379099,
          14.379099,
          14.405658,
          14.405658,
          14.452978,
          14.160464,
          14.076898,
          14.47661,
          14.47661,
          14.360223,
          14.360223,
          14.439212,
          14.360223,
          14.458245,
          14.475987,
          14.362862,
          14.475987,
          14.439212,
          14.360223,
          14.458245,
          14.362862,
          14.475987,
          14.439212,
          14.360223,
          14.458245,
          14.475987,
          14.362862,
          14.475987,
          14.439212,
          14.45879,
          14.45879,
          14.452978,
          14.45879,
          14.45879,
          14.452978,
          14.160464,
          14.076898,
          14.45879,
          14.45879,
          14.475987,
          14.45879,
          14.45879,
          14.072072,
          13.876839,
          14.065976,
          14.072072,
          14.446829,
          14.446829,
          14.446829,
          14.45879,
          14.45879,
          14.379099,
          14.45879,
          14.499359,
          14.160464,
          14.160464,
          13.876839,
          14.47661,
          13.95307,
          13.876839,
          14.065976,
          14.458245,
          14.475987,
          14.160464,
          14.160464,
          14.452978,
          14.509401,
          14.362862,
          14.509401,
          14.45879,
          13.873208,
          13.891749,
          13.891749,
          13.891749,
          13.891749,
          14.499359,
          14.160464,
          14.076898,
          13.891749,
          14.475987,
          14.076898,
          14.076898,
          14.072072,
          14.509401,
          14.509401,
          14.379099,
          14.379099,
          14.160464,
          13.95307,
          14.360223,
          14.362862,
          14.160464,
          14.072072,
          14.446829,
          14.379516,
          14.379516,
          14.506394,
          14.475987,
          14.45879,
          14.506394,
          14.475987,
          14.45879,
          14.47661,
          14.47661,
          14.160464,
          13.891749,
          13.95307,
          14.506394,
          13.95307,
          14.45879,
          14.45879,
          14.45879,
          14.065976,
          13.866906,
          13.866906,
          13.866906,
          13.95307,
          13.95307,
          14.405658,
          14.458245,
          14.405658,
          14.45879,
          14.415886,
          13.933738,
          14.47661,
          13.933738,
          14.415886,
          14.373309,
          14.373309,
          14.373309,
          14.373309,
          14.373309,
          14.373309,
          14.415886,
          13.933738,
          13.933738,
          13.933738,
          13.933738,
          13.933738,
          13.933738,
          14.415886,
          14.415886
         ],
         "marker": {
          "color": "#FFA15A"
         },
         "mode": "markers",
         "name": "Napoli",
         "showlegend": true,
         "subplot": "mapbox",
         "type": "scattermapbox"
        },
        {
         "customdata": [
          [
           "Calascio",
           "L’Aquila"
          ],
          [
           "Calascio",
           "L’Aquila"
          ],
          [
           "Calascio",
           "L’Aquila"
          ]
         ],
         "hovertemplate": "<b>%{hovertext}</b><br><br>prov=%{customdata[1]}<br>lat=%{lat}<br>long=%{lon}<br>lau=%{customdata[0]}<extra></extra>",
         "hovertext": [
          "Cantine Daniele",
          "Cantine Daniele",
          "Cantine Daniele"
         ],
         "lat": [
          40.475694,
          40.475694,
          40.475694
         ],
         "legendgroup": "L’Aquila",
         "lon": [
          15.060072,
          15.060072,
          15.060072
         ],
         "marker": {
          "color": "#19d3f3"
         },
         "mode": "markers",
         "name": "L’Aquila",
         "showlegend": true,
         "subplot": "mapbox",
         "type": "scattermapbox"
        },
        {
         "customdata": [
          [
           "Piedimonte San Germano",
           "Frosinone"
          ],
          [
           "Piedimonte San Germano",
           "Frosinone"
          ]
         ],
         "hovertemplate": "<b>%{hovertext}</b><br><br>prov=%{customdata[1]}<br>lat=%{lat}<br>long=%{lon}<br>lau=%{customdata[0]}<extra></extra>",
         "hovertext": [
          "Cantina Capizzi",
          "Cantina Capizzi"
         ],
         "lat": [
          41.188581,
          41.188581
         ],
         "legendgroup": "Frosinone",
         "lon": [
          13.900087,
          13.900087
         ],
         "marker": {
          "color": "#FF6692"
         },
         "mode": "markers",
         "name": "Frosinone",
         "showlegend": true,
         "subplot": "mapbox",
         "type": "scattermapbox"
        },
        {
         "customdata": [
          [
           "Casale di Scodosia",
           "Padova"
          ],
          [
           "Casale di Scodosia",
           "Padova"
          ],
          [
           "Casale di Scodosia",
           "Padova"
          ],
          [
           "Casale di Scodosia",
           "Padova"
          ]
         ],
         "hovertemplate": "<b>%{hovertext}</b><br><br>prov=%{customdata[1]}<br>lat=%{lat}<br>long=%{lon}<br>lau=%{customdata[0]}<extra></extra>",
         "hovertext": [
          "Bianchini Rossetti",
          "Bianchini Rossetti",
          "Bianchini Rossetti",
          "Bianchini Rossetti"
         ],
         "lat": [
          41.219226,
          41.219226,
          41.219226,
          41.219226
         ],
         "legendgroup": "Padova",
         "lon": [
          14.004146,
          14.004146,
          14.004146,
          14.004146
         ],
         "marker": {
          "color": "#B6E880"
         },
         "mode": "markers",
         "name": "Padova",
         "showlegend": true,
         "subplot": "mapbox",
         "type": "scattermapbox"
        }
       ],
       "layout": {
        "geo": {
         "fitbounds": "locations"
        },
        "legend": {
         "title": {
          "text": "prov"
         },
         "tracegroupgap": 0
        },
        "mapbox": {
         "center": {
          "lat": 41.00664893235469,
          "lon": 14.626767105401129
         },
         "domain": {
          "x": [
           0,
           1
          ],
          "y": [
           0,
           1
          ]
         },
         "style": "open-street-map",
         "zoom": 6.5
        },
        "margin": {
         "b": 0,
         "l": 0,
         "r": 0,
         "t": 30
        },
        "template": {
         "data": {
          "bar": [
           {
            "error_x": {
             "color": "#2a3f5f"
            },
            "error_y": {
             "color": "#2a3f5f"
            },
            "marker": {
             "line": {
              "color": "#E5ECF6",
              "width": 0.5
             },
             "pattern": {
              "fillmode": "overlay",
              "size": 10,
              "solidity": 0.2
             }
            },
            "type": "bar"
           }
          ],
          "barpolar": [
           {
            "marker": {
             "line": {
              "color": "#E5ECF6",
              "width": 0.5
             },
             "pattern": {
              "fillmode": "overlay",
              "size": 10,
              "solidity": 0.2
             }
            },
            "type": "barpolar"
           }
          ],
          "carpet": [
           {
            "aaxis": {
             "endlinecolor": "#2a3f5f",
             "gridcolor": "white",
             "linecolor": "white",
             "minorgridcolor": "white",
             "startlinecolor": "#2a3f5f"
            },
            "baxis": {
             "endlinecolor": "#2a3f5f",
             "gridcolor": "white",
             "linecolor": "white",
             "minorgridcolor": "white",
             "startlinecolor": "#2a3f5f"
            },
            "type": "carpet"
           }
          ],
          "choropleth": [
           {
            "colorbar": {
             "outlinewidth": 0,
             "ticks": ""
            },
            "type": "choropleth"
           }
          ],
          "contour": [
           {
            "colorbar": {
             "outlinewidth": 0,
             "ticks": ""
            },
            "colorscale": [
             [
              0,
              "#0d0887"
             ],
             [
              0.1111111111111111,
              "#46039f"
             ],
             [
              0.2222222222222222,
              "#7201a8"
             ],
             [
              0.3333333333333333,
              "#9c179e"
             ],
             [
              0.4444444444444444,
              "#bd3786"
             ],
             [
              0.5555555555555556,
              "#d8576b"
             ],
             [
              0.6666666666666666,
              "#ed7953"
             ],
             [
              0.7777777777777778,
              "#fb9f3a"
             ],
             [
              0.8888888888888888,
              "#fdca26"
             ],
             [
              1,
              "#f0f921"
             ]
            ],
            "type": "contour"
           }
          ],
          "contourcarpet": [
           {
            "colorbar": {
             "outlinewidth": 0,
             "ticks": ""
            },
            "type": "contourcarpet"
           }
          ],
          "heatmap": [
           {
            "colorbar": {
             "outlinewidth": 0,
             "ticks": ""
            },
            "colorscale": [
             [
              0,
              "#0d0887"
             ],
             [
              0.1111111111111111,
              "#46039f"
             ],
             [
              0.2222222222222222,
              "#7201a8"
             ],
             [
              0.3333333333333333,
              "#9c179e"
             ],
             [
              0.4444444444444444,
              "#bd3786"
             ],
             [
              0.5555555555555556,
              "#d8576b"
             ],
             [
              0.6666666666666666,
              "#ed7953"
             ],
             [
              0.7777777777777778,
              "#fb9f3a"
             ],
             [
              0.8888888888888888,
              "#fdca26"
             ],
             [
              1,
              "#f0f921"
             ]
            ],
            "type": "heatmap"
           }
          ],
          "heatmapgl": [
           {
            "colorbar": {
             "outlinewidth": 0,
             "ticks": ""
            },
            "colorscale": [
             [
              0,
              "#0d0887"
             ],
             [
              0.1111111111111111,
              "#46039f"
             ],
             [
              0.2222222222222222,
              "#7201a8"
             ],
             [
              0.3333333333333333,
              "#9c179e"
             ],
             [
              0.4444444444444444,
              "#bd3786"
             ],
             [
              0.5555555555555556,
              "#d8576b"
             ],
             [
              0.6666666666666666,
              "#ed7953"
             ],
             [
              0.7777777777777778,
              "#fb9f3a"
             ],
             [
              0.8888888888888888,
              "#fdca26"
             ],
             [
              1,
              "#f0f921"
             ]
            ],
            "type": "heatmapgl"
           }
          ],
          "histogram": [
           {
            "marker": {
             "pattern": {
              "fillmode": "overlay",
              "size": 10,
              "solidity": 0.2
             }
            },
            "type": "histogram"
           }
          ],
          "histogram2d": [
           {
            "colorbar": {
             "outlinewidth": 0,
             "ticks": ""
            },
            "colorscale": [
             [
              0,
              "#0d0887"
             ],
             [
              0.1111111111111111,
              "#46039f"
             ],
             [
              0.2222222222222222,
              "#7201a8"
             ],
             [
              0.3333333333333333,
              "#9c179e"
             ],
             [
              0.4444444444444444,
              "#bd3786"
             ],
             [
              0.5555555555555556,
              "#d8576b"
             ],
             [
              0.6666666666666666,
              "#ed7953"
             ],
             [
              0.7777777777777778,
              "#fb9f3a"
             ],
             [
              0.8888888888888888,
              "#fdca26"
             ],
             [
              1,
              "#f0f921"
             ]
            ],
            "type": "histogram2d"
           }
          ],
          "histogram2dcontour": [
           {
            "colorbar": {
             "outlinewidth": 0,
             "ticks": ""
            },
            "colorscale": [
             [
              0,
              "#0d0887"
             ],
             [
              0.1111111111111111,
              "#46039f"
             ],
             [
              0.2222222222222222,
              "#7201a8"
             ],
             [
              0.3333333333333333,
              "#9c179e"
             ],
             [
              0.4444444444444444,
              "#bd3786"
             ],
             [
              0.5555555555555556,
              "#d8576b"
             ],
             [
              0.6666666666666666,
              "#ed7953"
             ],
             [
              0.7777777777777778,
              "#fb9f3a"
             ],
             [
              0.8888888888888888,
              "#fdca26"
             ],
             [
              1,
              "#f0f921"
             ]
            ],
            "type": "histogram2dcontour"
           }
          ],
          "mesh3d": [
           {
            "colorbar": {
             "outlinewidth": 0,
             "ticks": ""
            },
            "type": "mesh3d"
           }
          ],
          "parcoords": [
           {
            "line": {
             "colorbar": {
              "outlinewidth": 0,
              "ticks": ""
             }
            },
            "type": "parcoords"
           }
          ],
          "pie": [
           {
            "automargin": true,
            "type": "pie"
           }
          ],
          "scatter": [
           {
            "marker": {
             "colorbar": {
              "outlinewidth": 0,
              "ticks": ""
             }
            },
            "type": "scatter"
           }
          ],
          "scatter3d": [
           {
            "line": {
             "colorbar": {
              "outlinewidth": 0,
              "ticks": ""
             }
            },
            "marker": {
             "colorbar": {
              "outlinewidth": 0,
              "ticks": ""
             }
            },
            "type": "scatter3d"
           }
          ],
          "scattercarpet": [
           {
            "marker": {
             "colorbar": {
              "outlinewidth": 0,
              "ticks": ""
             }
            },
            "type": "scattercarpet"
           }
          ],
          "scattergeo": [
           {
            "marker": {
             "colorbar": {
              "outlinewidth": 0,
              "ticks": ""
             }
            },
            "type": "scattergeo"
           }
          ],
          "scattergl": [
           {
            "marker": {
             "colorbar": {
              "outlinewidth": 0,
              "ticks": ""
             }
            },
            "type": "scattergl"
           }
          ],
          "scattermapbox": [
           {
            "marker": {
             "colorbar": {
              "outlinewidth": 0,
              "ticks": ""
             }
            },
            "type": "scattermapbox"
           }
          ],
          "scatterpolar": [
           {
            "marker": {
             "colorbar": {
              "outlinewidth": 0,
              "ticks": ""
             }
            },
            "type": "scatterpolar"
           }
          ],
          "scatterpolargl": [
           {
            "marker": {
             "colorbar": {
              "outlinewidth": 0,
              "ticks": ""
             }
            },
            "type": "scatterpolargl"
           }
          ],
          "scatterternary": [
           {
            "marker": {
             "colorbar": {
              "outlinewidth": 0,
              "ticks": ""
             }
            },
            "type": "scatterternary"
           }
          ],
          "surface": [
           {
            "colorbar": {
             "outlinewidth": 0,
             "ticks": ""
            },
            "colorscale": [
             [
              0,
              "#0d0887"
             ],
             [
              0.1111111111111111,
              "#46039f"
             ],
             [
              0.2222222222222222,
              "#7201a8"
             ],
             [
              0.3333333333333333,
              "#9c179e"
             ],
             [
              0.4444444444444444,
              "#bd3786"
             ],
             [
              0.5555555555555556,
              "#d8576b"
             ],
             [
              0.6666666666666666,
              "#ed7953"
             ],
             [
              0.7777777777777778,
              "#fb9f3a"
             ],
             [
              0.8888888888888888,
              "#fdca26"
             ],
             [
              1,
              "#f0f921"
             ]
            ],
            "type": "surface"
           }
          ],
          "table": [
           {
            "cells": {
             "fill": {
              "color": "#EBF0F8"
             },
             "line": {
              "color": "white"
             }
            },
            "header": {
             "fill": {
              "color": "#C8D4E3"
             },
             "line": {
              "color": "white"
             }
            },
            "type": "table"
           }
          ]
         },
         "layout": {
          "annotationdefaults": {
           "arrowcolor": "#2a3f5f",
           "arrowhead": 0,
           "arrowwidth": 1
          },
          "autotypenumbers": "strict",
          "coloraxis": {
           "colorbar": {
            "outlinewidth": 0,
            "ticks": ""
           }
          },
          "colorscale": {
           "diverging": [
            [
             0,
             "#8e0152"
            ],
            [
             0.1,
             "#c51b7d"
            ],
            [
             0.2,
             "#de77ae"
            ],
            [
             0.3,
             "#f1b6da"
            ],
            [
             0.4,
             "#fde0ef"
            ],
            [
             0.5,
             "#f7f7f7"
            ],
            [
             0.6,
             "#e6f5d0"
            ],
            [
             0.7,
             "#b8e186"
            ],
            [
             0.8,
             "#7fbc41"
            ],
            [
             0.9,
             "#4d9221"
            ],
            [
             1,
             "#276419"
            ]
           ],
           "sequential": [
            [
             0,
             "#0d0887"
            ],
            [
             0.1111111111111111,
             "#46039f"
            ],
            [
             0.2222222222222222,
             "#7201a8"
            ],
            [
             0.3333333333333333,
             "#9c179e"
            ],
            [
             0.4444444444444444,
             "#bd3786"
            ],
            [
             0.5555555555555556,
             "#d8576b"
            ],
            [
             0.6666666666666666,
             "#ed7953"
            ],
            [
             0.7777777777777778,
             "#fb9f3a"
            ],
            [
             0.8888888888888888,
             "#fdca26"
            ],
            [
             1,
             "#f0f921"
            ]
           ],
           "sequentialminus": [
            [
             0,
             "#0d0887"
            ],
            [
             0.1111111111111111,
             "#46039f"
            ],
            [
             0.2222222222222222,
             "#7201a8"
            ],
            [
             0.3333333333333333,
             "#9c179e"
            ],
            [
             0.4444444444444444,
             "#bd3786"
            ],
            [
             0.5555555555555556,
             "#d8576b"
            ],
            [
             0.6666666666666666,
             "#ed7953"
            ],
            [
             0.7777777777777778,
             "#fb9f3a"
            ],
            [
             0.8888888888888888,
             "#fdca26"
            ],
            [
             1,
             "#f0f921"
            ]
           ]
          },
          "colorway": [
           "#636efa",
           "#EF553B",
           "#00cc96",
           "#ab63fa",
           "#FFA15A",
           "#19d3f3",
           "#FF6692",
           "#B6E880",
           "#FF97FF",
           "#FECB52"
          ],
          "font": {
           "color": "#2a3f5f"
          },
          "geo": {
           "bgcolor": "white",
           "lakecolor": "white",
           "landcolor": "#E5ECF6",
           "showlakes": true,
           "showland": true,
           "subunitcolor": "white"
          },
          "hoverlabel": {
           "align": "left"
          },
          "hovermode": "closest",
          "mapbox": {
           "style": "light"
          },
          "paper_bgcolor": "white",
          "plot_bgcolor": "#E5ECF6",
          "polar": {
           "angularaxis": {
            "gridcolor": "white",
            "linecolor": "white",
            "ticks": ""
           },
           "bgcolor": "#E5ECF6",
           "radialaxis": {
            "gridcolor": "white",
            "linecolor": "white",
            "ticks": ""
           }
          },
          "scene": {
           "xaxis": {
            "backgroundcolor": "#E5ECF6",
            "gridcolor": "white",
            "gridwidth": 2,
            "linecolor": "white",
            "showbackground": true,
            "ticks": "",
            "zerolinecolor": "white"
           },
           "yaxis": {
            "backgroundcolor": "#E5ECF6",
            "gridcolor": "white",
            "gridwidth": 2,
            "linecolor": "white",
            "showbackground": true,
            "ticks": "",
            "zerolinecolor": "white"
           },
           "zaxis": {
            "backgroundcolor": "#E5ECF6",
            "gridcolor": "white",
            "gridwidth": 2,
            "linecolor": "white",
            "showbackground": true,
            "ticks": "",
            "zerolinecolor": "white"
           }
          },
          "shapedefaults": {
           "line": {
            "color": "#2a3f5f"
           }
          },
          "ternary": {
           "aaxis": {
            "gridcolor": "white",
            "linecolor": "white",
            "ticks": ""
           },
           "baxis": {
            "gridcolor": "white",
            "linecolor": "white",
            "ticks": ""
           },
           "bgcolor": "#E5ECF6",
           "caxis": {
            "gridcolor": "white",
            "linecolor": "white",
            "ticks": ""
           }
          },
          "title": {
           "x": 0.05
          },
          "xaxis": {
           "automargin": true,
           "gridcolor": "white",
           "linecolor": "white",
           "ticks": "",
           "title": {
            "standoff": 15
           },
           "zerolinecolor": "white",
           "zerolinewidth": 2
          },
          "yaxis": {
           "automargin": true,
           "gridcolor": "white",
           "linecolor": "white",
           "ticks": "",
           "title": {
            "standoff": 15
           },
           "zerolinecolor": "white",
           "zerolinewidth": 2
          }
         }
        }
       }
      },
      "text/html": [
       "<div>                            <div id=\"b26ab5fb-8560-423a-9709-11b7ecb6fe4f\" class=\"plotly-graph-div\" style=\"height:525px; width:100%;\"></div>            <script type=\"text/javascript\">                require([\"plotly\"], function(Plotly) {                    window.PLOTLYENV=window.PLOTLYENV || {};                                    if (document.getElementById(\"b26ab5fb-8560-423a-9709-11b7ecb6fe4f\")) {                    Plotly.newPlot(                        \"b26ab5fb-8560-423a-9709-11b7ecb6fe4f\",                        [{\"customdata\":[[\"Tramonti\",\"Salerno\"],[\"Tramonti\",\"Salerno\"],[\"Tramonti\",\"Salerno\"],[\"Tramonti\",\"Salerno\"],[\"Tramonti\",\"Salerno\"],[\"Tramonti\",\"Salerno\"],[\"Prignano Cilento\",\"Salerno\"],[\"Prignano Cilento\",\"Salerno\"],[\"Camerota\",\"Salerno\"],[\"Tramonti\",\"Salerno\"],[\"Tramonti\",\"Salerno\"],[\"Tramonti\",\"Salerno\"],[\"Camerota\",\"Salerno\"],[\"Camerota\",\"Salerno\"],[\"Camerota\",\"Salerno\"],[\"Camerota\",\"Salerno\"],[\"Camerota\",\"Salerno\"],[\"Furore\",\"Salerno\"],[\"San Cipriano Picentino\",\"Salerno\"],[\"Sant'Arsenio\",\"Salerno\"],[\"Furore\",\"Salerno\"],[\"Furore\",\"Salerno\"],[\"Furore\",\"Salerno\"],[\"Agropoli\",\"Salerno\"],[\"Agropoli\",\"Salerno\"],[\"Agropoli\",\"Salerno\"],[\"Agropoli\",\"Salerno\"],[\"Agropoli\",\"Salerno\"],[\"Agropoli\",\"Salerno\"],[\"Agropoli\",\"Salerno\"],[\"Ravello\",\"Salerno\"],[\"Ravello\",\"Salerno\"],[\"Ravello\",\"Salerno\"],[\"Ravello\",\"Salerno\"],[\"Ravello\",\"Salerno\"],[\"Ravello\",\"Salerno\"],[\"Ravello\",\"Salerno\"],[\"Rutino\",\"Salerno\"],[\"Rutino\",\"Salerno\"],[\"Rutino\",\"Salerno\"],[\"Rutino\",\"Salerno\"],[\"Rutino\",\"Salerno\"],[\"Rutino\",\"Salerno\"],[\"Furore\",\"Salerno\"],[\"San Cipriano Picentino\",\"Salerno\"],[\"San Cipriano Picentino\",\"Salerno\"],[\"Furore\",\"Salerno\"],[\"Furore\",\"Salerno\"],[\"Montecorvino Rovella\",\"Salerno\"],[\"Agropoli\",\"Salerno\"],[\"Montecorvino Rovella\",\"Salerno\"],[\"Giffoni Valle Piana\",\"Salerno\"],[\"Campagna\",\"Salerno\"],[\"Giffoni Valle Piana\",\"Salerno\"],[\"Giffoni Valle Piana\",\"Salerno\"],[\"Campagna\",\"Salerno\"],[\"Castellabate\",\"Salerno\"],[\"Campagna\",\"Salerno\"],[\"Aquara\",\"Salerno\"],[\"Furore\",\"Salerno\"],[\"Giffoni Valle Piana\",\"Salerno\"],[\"Giffoni Valle Piana\",\"Salerno\"],[\"Giffoni Valle Piana\",\"Salerno\"],[\"Vallo della Lucania\",\"Salerno\"],[\"Castellabate\",\"Salerno\"],[\"Capaccio Paestum\",\"Salerno\"],[\"Agropoli\",\"Salerno\"],[\"Aquara\",\"Salerno\"],[\"Montecorvino Pugliano\",\"Salerno\"],[\"Montecorvino Rovella\",\"Salerno\"],[\"Furore\",\"Salerno\"],[\"Aquara\",\"Salerno\"],[\"Furore\",\"Salerno\"],[\"Furore\",\"Salerno\"],[\"Furore\",\"Salerno\"],[\"Campagna\",\"Salerno\"],[\"Capaccio Paestum\",\"Salerno\"],[\"Capaccio Paestum\",\"Salerno\"],[\"Agropoli\",\"Salerno\"],[\"Castellabate\",\"Salerno\"],[\"Castellabate\",\"Salerno\"],[\"Capaccio Paestum\",\"Salerno\"],[\"Campagna\",\"Salerno\"],[\"Capaccio Paestum\",\"Salerno\"],[\"Capaccio Paestum\",\"Salerno\"],[\"Montecorvino Rovella\",\"Salerno\"],[\"Capaccio Paestum\",\"Salerno\"],[\"Castellabate\",\"Salerno\"],[\"Montecorvino Pugliano\",\"Salerno\"],[\"Agropoli\",\"Salerno\"],[\"Castellabate\",\"Salerno\"],[\"Vallo della Lucania\",\"Salerno\"],[\"Vallo della Lucania\",\"Salerno\"],[\"Capaccio Paestum\",\"Salerno\"],[\"Campagna\",\"Salerno\"],[\"Agropoli\",\"Salerno\"],[\"Giffoni Valle Piana\",\"Salerno\"],[\"Vietri sul Mare\",\"Salerno\"],[\"Furore\",\"Salerno\"],[\"Agropoli\",\"Salerno\"],[\"Aquara\",\"Salerno\"],[\"Montecorvino Rovella\",\"Salerno\"],[\"Giffoni Valle Piana\",\"Salerno\"],[\"Ravello\",\"Salerno\"],[\"Ravello\",\"Salerno\"],[\"Aquara\",\"Salerno\"],[\"Montecorvino Pugliano\",\"Salerno\"],[\"Ravello\",\"Salerno\"],[\"Tramonti\",\"Salerno\"],[\"Vallo della Lucania\",\"Salerno\"],[\"Agropoli\",\"Salerno\"],[\"Agropoli\",\"Salerno\"],[\"Agropoli\",\"Salerno\"],[\"Ravello\",\"Salerno\"],[\"Ravello\",\"Salerno\"],[\"Sant'Angelo a Fasanella\",\"Salerno\"],[\"Tramonti\",\"Salerno\"],[\"Sant'Angelo a Fasanella\",\"Salerno\"],[\"Prignano Cilento\",\"Salerno\"],[\"Tramonti\",\"Salerno\"],[\"Tramonti\",\"Salerno\"],[\"Castellabate\",\"Salerno\"],[\"Prignano Cilento\",\"Salerno\"],[\"Castellabate\",\"Salerno\"],[\"Tramonti\",\"Salerno\"],[\"Sant'Angelo a Fasanella\",\"Salerno\"],[\"Castellabate\",\"Salerno\"],[\"Prignano Cilento\",\"Salerno\"],[\"Castellabate\",\"Salerno\"],[\"Prignano Cilento\",\"Salerno\"],[\"Sant'Angelo a Fasanella\",\"Salerno\"],[\"Castellabate\",\"Salerno\"],[\"Rutino\",\"Salerno\"]],\"hovertemplate\":\"<b>%{hovertext}</b><br><br>prov=%{customdata[1]}<br>lat=%{lat}<br>long=%{lon}<br>lau=%{customdata[0]}<extra></extra>\",\"hovertext\":[\"Giuseppe Apicella\",\"Giuseppe Apicella\",\"Giuseppe Apicella\",\"Giuseppe Apicella\",\"Giuseppe Apicella\",\"Giuseppe Apicella\",\"De Conciliis\",\"De Conciliis\",\"Donna Clara\",\"Monte di Grazia\",\"Monte di Grazia\",\"Monte di Grazia\",\"Donna Clara\",\"Donna Clara\",\"Donna Clara\",\"Donna Clara\",\"Donna Clara\",\"Gran Furor Divina Costiera - Cantine Marisa Cuomo\",\"Montevetrano\",\"Tempere\",\"Gran Furor Divina Costiera - Cantine Marisa Cuomo\",\"Gran Furor Divina Costiera - Cantine Marisa Cuomo\",\"Gran Furor Divina Costiera - Cantine Marisa Cuomo\",\"Azienda Agricola Raffaele Marino\",\"Azienda Agricola Raffaele Marino\",\"Azienda Agricola Raffaele Marino\",\"Azienda Agricola Raffaele Marino\",\"Azienda Agricola Raffaele Marino\",\"Azienda Agricola Raffaele Marino\",\"Azienda Agricola Raffaele Marino\",\"Ettore Sammarco\",\"Ettore Sammarco\",\"Ettore Sammarco\",\"Ettore Sammarco\",\"Ettore Sammarco\",\"Ettore Sammarco\",\"Ettore Sammarco\",\"Alfonso Rotolo\",\"Alfonso Rotolo\",\"Alfonso Rotolo\",\"Alfonso Rotolo\",\"Alfonso Rotolo\",\"Alfonso Rotolo\",\"Gran Furor Divina Costiera - Cantine Marisa Cuomo\",\"Montevetrano\",\"Montevetrano\",\"Gran Furor Divina Costiera - Cantine Marisa Cuomo\",\"Gran Furor Divina Costiera - Cantine Marisa Cuomo\",\"Casa di Baal\",\"Carmine Botti\",\"Casa di Baal\",\"Lunarossa Vini\",\"Casula Vinaria\",\"Lunarossa Vini\",\"Lunarossa Vini\",\"Casula Vinaria\",\"Luigi Maffini\",\"Casula Vinaria\",\"Tenuta Mainardi\",\"Gran Furor Divina Costiera - Cantine Marisa Cuomo\",\"Lunarossa Vini\",\"Lunarossa Vini\",\"Lunarossa Vini\",\"Cobellis\",\"Luigi Maffini\",\"I Vini del Cavaliere (Casa Vinicola Cuomo)\",\"Carmine Botti\",\"Tenuta Mainardi\",\"Terra di Vento\",\"Casa di Baal\",\"Gran Furor Divina Costiera - Cantine Marisa Cuomo\",\"Tenuta Mainardi\",\"Gran Furor Divina Costiera - Cantine Marisa Cuomo\",\"Gran Furor Divina Costiera - Cantine Marisa Cuomo\",\"Gran Furor Divina Costiera - Cantine Marisa Cuomo\",\"Casula Vinaria\",\"I Vini del Cavaliere (Casa Vinicola Cuomo)\",\"I Vini del Cavaliere (Casa Vinicola Cuomo)\",\"Carmine Botti\",\"Luigi Maffini\",\"Luigi Maffini\",\"I Vini del Cavaliere (Casa Vinicola Cuomo)\",\"Casula Vinaria\",\"I Vini del Cavaliere (Casa Vinicola Cuomo)\",\"I Vini del Cavaliere (Casa Vinicola Cuomo)\",\"Casa di Baal\",\"I Vini del Cavaliere (Casa Vinicola Cuomo)\",\"Luigi Maffini\",\"Terra di Vento\",\"Azienda Agricola Raffaele Marino\",\"Luigi Maffini\",\"Cobellis\",\"Cobellis\",\"I Vini del Cavaliere (Casa Vinicola Cuomo)\",\"Casula Vinaria\",\"Verrone Viticoltori\",\"Lunarossa Vini\",\"Le Vigne di Raito\",\"Gran Furor Divina Costiera - Cantine Marisa Cuomo\",\"Carmine Botti\",\"Tenuta Mainardi\",\"Casa di Baal\",\"Lunarossa Vini\",\"Ettore Sammarco\",\"Ettore Sammarco\",\"Tenuta Mainardi\",\"Terra di Vento\",\"Ettore Sammarco\",\"Giuseppe Apicella\",\"Cobellis\",\"Verrone Viticoltori\",\"Verrone Viticoltori\",\"Verrone Viticoltori\",\"Ettore Sammarco\",\"Ettore Sammarco\",\"Tenute del Fasanella\",\"Reale\",\"Tenute del Fasanella\",\"De Conciliis\",\"Reale\",\"Reale\",\"San Giovanni\",\"De Conciliis\",\"San Giovanni\",\"Reale\",\"Tenute del Fasanella\",\"San Giovanni\",\"De Conciliis\",\"San Giovanni\",\"De Conciliis\",\"Tenute del Fasanella\",\"San Giovanni\",\"Alfonso Rotolo\"],\"lat\":[40.706354,40.706354,40.706354,40.706354,40.706354,40.706354,40.33029,40.33029,40.058018,40.69442,40.69442,40.69442,40.058018,40.058018,40.058018,40.058018,40.058018,40.620562,40.679463,40.472177,40.620562,40.620562,40.620562,40.324933,40.324933,40.324933,40.324933,40.324933,40.324933,40.324933,40.63809,40.63809,40.63809,40.63809,40.63809,40.63809,40.63809,40.30038,40.30038,40.30038,40.30038,40.30038,40.30038,40.620562,40.679463,40.679463,40.620562,40.620562,40.647271,40.345408,40.647271,40.706347,40.617617,40.706347,40.706347,40.617617,40.270355,40.617617,40.458958,40.620562,40.706347,40.706347,40.706347,40.231985,40.270355,40.475429,40.345408,40.458958,40.651136,40.647271,40.620562,40.458958,40.620562,40.620562,40.620562,40.617617,40.475429,40.475429,40.345408,40.270355,40.270355,40.475429,40.617617,40.475429,40.475429,40.647271,40.475429,40.270355,40.651136,40.324933,40.270355,40.231985,40.231985,40.475429,40.617617,40.334588,40.706347,40.671743,40.620562,40.345408,40.458958,40.647271,40.706347,40.63809,40.63809,40.458958,40.651136,40.63809,40.706354,40.231985,40.334588,40.334588,40.334588,40.63809,40.63809,40.45647,40.691577,40.45647,40.33029,40.691577,40.691577,40.322397,40.33029,40.322397,40.691577,40.45647,40.322397,40.33029,40.322397,40.33029,40.45647,40.322397,40.30038],\"legendgroup\":\"Salerno\",\"lon\":[14.622361,14.622361,14.622361,14.622361,14.622361,14.622361,15.064727,15.064727,15.360631,14.639818,14.639818,14.639818,15.360631,15.360631,15.360631,15.360631,15.360631,14.548876,14.864114,15.48298,14.548876,14.548876,14.548876,14.983715,14.983715,14.983715,14.983715,14.983715,14.983715,14.983715,14.610039,14.610039,14.610039,14.610039,14.610039,14.610039,14.610039,15.071797,15.071797,15.071797,15.071797,15.071797,15.071797,14.548876,14.864114,14.864114,14.548876,14.548876,14.966125,14.994008,14.966125,14.921091,15.098111,14.921091,14.921091,15.098111,14.94394,15.098111,15.21934,14.548876,14.921091,14.921091,14.921091,15.269339,14.94394,15.036664,14.994008,15.21934,14.923625,14.966125,14.548876,15.21934,14.548876,14.548876,14.548876,15.098111,15.036664,15.036664,14.994008,14.94394,14.94394,15.036664,15.098111,15.036664,15.036664,14.966125,15.036664,14.94394,14.923625,14.983715,14.94394,15.269339,15.269339,15.036664,15.098111,15.01668,14.921091,14.717926,14.548876,14.994008,15.21934,14.966125,14.921091,14.610039,14.610039,15.21934,14.923625,14.610039,14.622361,15.269339,15.01668,15.01668,15.01668,14.610039,14.610039,15.344385,14.649581,15.344385,15.064727,14.649581,14.649581,14.947323,15.064727,14.947323,14.649581,15.344385,14.947323,15.064727,14.947323,15.064727,15.344385,14.947323,15.071797],\"marker\":{\"color\":\"#636efa\"},\"mode\":\"markers\",\"name\":\"Salerno\",\"showlegend\":true,\"subplot\":\"mapbox\",\"type\":\"scattermapbox\"},{\"customdata\":[[\"Cesinali\",\"Avellino\"],[\"Chiusano di San Domenico\",\"Avellino\"],[\"Chiusano di San Domenico\",\"Avellino\"],[\"Chiusano di San Domenico\",\"Avellino\"],[\"Chiusano di San Domenico\",\"Avellino\"],[\"Taurasi\",\"Avellino\"],[\"Taurasi\",\"Avellino\"],[\"Taurasi\",\"Avellino\"],[\"Taurasi\",\"Avellino\"],[\"Taurasi\",\"Avellino\"],[\"Taurasi\",\"Avellino\"],[\"Venticano\",\"Avellino\"],[\"Venticano\",\"Avellino\"],[\"Cesinali\",\"Avellino\"],[\"Montefalcione\",\"Avellino\"],[\"Montefalcione\",\"Avellino\"],[\"Montefalcione\",\"Avellino\"],[\"Chianche\",\"Avellino\"],[\"San Michele di Serino\",\"Avellino\"],[\"Castelfranci\",\"Avellino\"],[\"Sant'Angelo all'Esca\",\"Avellino\"],[\"Forino\",\"Avellino\"],[\"Summonte\",\"Avellino\"],[\"Chianche\",\"Avellino\"],[\"Taurasi\",\"Avellino\"],[\"Altavilla Irpina\",\"Avellino\"],[\"Altavilla Irpina\",\"Avellino\"],[\"Altavilla Irpina\",\"Avellino\"],[\"Altavilla Irpina\",\"Avellino\"],[\"Cesinali\",\"Avellino\"],[\"Torrioni\",\"Avellino\"],[\"Chianche\",\"Avellino\"],[\"Chianche\",\"Avellino\"],[\"Chianche\",\"Avellino\"],[\"Santa Paolina\",\"Avellino\"],[\"Santa Paolina\",\"Avellino\"],[\"Santa Paolina\",\"Avellino\"],[\"Santa Paolina\",\"Avellino\"],[\"Santa Paolina\",\"Avellino\"],[\"Santa Paolina\",\"Avellino\"],[\"Santa Paolina\",\"Avellino\"],[\"Santa Paolina\",\"Avellino\"],[\"Santa Paolina\",\"Avellino\"],[\"Santa Paolina\",\"Avellino\"],[\"Santa Paolina\",\"Avellino\"],[\"Santa Paolina\",\"Avellino\"],[\"Forino\",\"Avellino\"],[\"Forino\",\"Avellino\"],[\"Forino\",\"Avellino\"],[\"Forino\",\"Avellino\"],[\"Summonte\",\"Avellino\"],[\"Summonte\",\"Avellino\"],[\"Summonte\",\"Avellino\"],[\"Summonte\",\"Avellino\"],[\"Paternopoli\",\"Avellino\"],[\"Paternopoli\",\"Avellino\"],[\"Paternopoli\",\"Avellino\"],[\"Paternopoli\",\"Avellino\"],[\"Paternopoli\",\"Avellino\"],[\"Lapio\",\"Avellino\"],[\"Mirabella Eclano\",\"Avellino\"],[\"Mirabella Eclano\",\"Avellino\"],[\"Mirabella Eclano\",\"Avellino\"],[\"Mirabella Eclano\",\"Avellino\"],[\"Pratola Serra\",\"Avellino\"],[\"Pratola Serra\",\"Avellino\"],[\"Montefredane\",\"Avellino\"],[\"Montefredane\",\"Avellino\"],[\"Taurasi\",\"Avellino\"],[\"Torre Le Nocelle\",\"Avellino\"],[\"Torre Le Nocelle\",\"Avellino\"],[\"Avellino\",\"Avellino\"],[\"Castelfranci\",\"Avellino\"],[\"Castelfranci\",\"Avellino\"],[\"Castelfranci\",\"Avellino\"],[\"Castelfranci\",\"Avellino\"],[\"Castelfranci\",\"Avellino\"],[\"Castelfranci\",\"Avellino\"],[\"Castelfranci\",\"Avellino\"],[\"Castelvetere sul Calore\",\"Avellino\"],[\"Castelvetere sul Calore\",\"Avellino\"],[\"Manocalzati\",\"Avellino\"],[\"Manocalzati\",\"Avellino\"],[\"Manocalzati\",\"Avellino\"],[\"Manocalzati\",\"Avellino\"],[\"Manocalzati\",\"Avellino\"],[\"Manocalzati\",\"Avellino\"],[\"Manocalzati\",\"Avellino\"],[\"Manocalzati\",\"Avellino\"],[\"Manocalzati\",\"Avellino\"],[\"Manocalzati\",\"Avellino\"],[\"Manocalzati\",\"Avellino\"],[\"Pratola Serra\",\"Avellino\"],[\"Pratola Serra\",\"Avellino\"],[\"Pratola Serra\",\"Avellino\"],[\"Pratola Serra\",\"Avellino\"],[\"Pratola Serra\",\"Avellino\"],[\"Pratola Serra\",\"Avellino\"],[\"Pratola Serra\",\"Avellino\"],[\"Pratola Serra\",\"Avellino\"],[\"Pratola Serra\",\"Avellino\"],[\"Pratola Serra\",\"Avellino\"],[\"Pratola Serra\",\"Avellino\"],[\"Pratola Serra\",\"Avellino\"],[\"Pratola Serra\",\"Avellino\"],[\"Pratola Serra\",\"Avellino\"],[\"Santa Paolina\",\"Avellino\"],[\"Santa Paolina\",\"Avellino\"],[\"Santa Paolina\",\"Avellino\"],[\"Chianche\",\"Avellino\"],[\"Cesinali\",\"Avellino\"],[\"Torrioni\",\"Avellino\"],[\"Torrioni\",\"Avellino\"],[\"Torrioni\",\"Avellino\"],[\"Torrioni\",\"Avellino\"],[\"Torrioni\",\"Avellino\"],[\"Torrioni\",\"Avellino\"],[\"Torrioni\",\"Avellino\"],[\"Montefalcione\",\"Avellino\"],[\"Montefalcione\",\"Avellino\"],[\"Montefalcione\",\"Avellino\"],[\"Montefalcione\",\"Avellino\"],[\"Montefalcione\",\"Avellino\"],[\"Montefalcione\",\"Avellino\"],[\"Sant'Angelo all'Esca\",\"Avellino\"],[\"Sant'Angelo all'Esca\",\"Avellino\"],[\"Sant'Angelo all'Esca\",\"Avellino\"],[\"Sant'Angelo all'Esca\",\"Avellino\"],[\"Sant'Angelo all'Esca\",\"Avellino\"],[\"Sant'Angelo all'Esca\",\"Avellino\"],[\"Castelfranci\",\"Avellino\"],[\"Castelfranci\",\"Avellino\"],[\"Castelfranci\",\"Avellino\"],[\"Taurasi\",\"Avellino\"],[\"Taurasi\",\"Avellino\"],[\"Taurasi\",\"Avellino\"],[\"Taurasi\",\"Avellino\"],[\"Taurasi\",\"Avellino\"],[\"Taurasi\",\"Avellino\"],[\"Taurasi\",\"Avellino\"],[\"Taurasi\",\"Avellino\"],[\"Paternopoli\",\"Avellino\"],[\"Paternopoli\",\"Avellino\"],[\"Avellino\",\"Avellino\"],[\"Avellino\",\"Avellino\"],[\"Avellino\",\"Avellino\"],[\"Avellino\",\"Avellino\"],[\"Cesinali\",\"Avellino\"],[\"Mirabella Eclano\",\"Avellino\"],[\"Taurasi\",\"Avellino\"],[\"San Mango sul Calore\",\"Avellino\"],[\"San Mango sul Calore\",\"Avellino\"],[\"Castelfranci\",\"Avellino\"],[\"Castelfranci\",\"Avellino\"],[\"Paternopoli\",\"Avellino\"],[\"Frigento\",\"Avellino\"],[\"Taurasi\",\"Avellino\"],[\"Santa Paolina\",\"Avellino\"],[\"Tufo\",\"Avellino\"],[\"Taurasi\",\"Avellino\"],[\"Tufo\",\"Avellino\"],[\"Paternopoli\",\"Avellino\"],[\"Salza Irpina\",\"Avellino\"],[\"Torrioni\",\"Avellino\"],[\"Atripalda\",\"Avellino\"],[\"Venticano\",\"Avellino\"],[\"Montefusco\",\"Avellino\"],[\"Sorbo Serpico\",\"Avellino\"],[\"Sturno\",\"Avellino\"],[\"Luogosano\",\"Avellino\"],[\"Salza Irpina\",\"Avellino\"],[\"Tufo\",\"Avellino\"],[\"Candida\",\"Avellino\"],[\"Salza Irpina\",\"Avellino\"],[\"San Michele di Serino\",\"Avellino\"],[\"Castelfranci\",\"Avellino\"],[\"Castelfranci\",\"Avellino\"],[\"Lapio\",\"Avellino\"],[\"Santa Paolina\",\"Avellino\"],[\"Atripalda\",\"Avellino\"],[\"Taurasi\",\"Avellino\"],[\"Forino\",\"Avellino\"],[\"Forino\",\"Avellino\"],[\"Prata di Principato Ultra\",\"Avellino\"],[\"Paternopoli\",\"Avellino\"],[\"Avellino\",\"Avellino\"],[\"Altavilla Irpina\",\"Avellino\"],[\"Taurasi\",\"Avellino\"],[\"Altavilla Irpina\",\"Avellino\"],[\"Fontanarosa\",\"Avellino\"],[\"Lapio\",\"Avellino\"],[\"Sant'Angelo all'Esca\",\"Avellino\"],[\"Sorbo Serpico\",\"Avellino\"],[\"Sant'Angelo all'Esca\",\"Avellino\"],[\"Montefusco\",\"Avellino\"],[\"Avellino\",\"Avellino\"],[\"Paternopoli\",\"Avellino\"],[\"Sorbo Serpico\",\"Avellino\"],[\"Chiusano di San Domenico\",\"Avellino\"],[\"Grottolella\",\"Avellino\"],[\"Grottolella\",\"Avellino\"],[\"Montefalcione\",\"Avellino\"],[\"Montefalcione\",\"Avellino\"],[\"Candida\",\"Avellino\"],[\"Montefusco\",\"Avellino\"],[\"Lapio\",\"Avellino\"],[\"Grottolella\",\"Avellino\"],[\"Montefusco\",\"Avellino\"],[\"Chiusano di San Domenico\",\"Avellino\"],[\"Grottolella\",\"Avellino\"],[\"Candida\",\"Avellino\"],[\"Montefusco\",\"Avellino\"],[\"Grottolella\",\"Avellino\"],[\"Montefalcione\",\"Avellino\"],[\"Montefusco\",\"Avellino\"],[\"Chiusano di San Domenico\",\"Avellino\"],[\"Grottolella\",\"Avellino\"],[\"Montefusco\",\"Avellino\"],[\"Montefalcione\",\"Avellino\"],[\"Grottolella\",\"Avellino\"],[\"Grottolella\",\"Avellino\"],[\"Prata di Principato Ultra\",\"Avellino\"],[\"Fontanarosa\",\"Avellino\"],[\"Paternopoli\",\"Avellino\"],[\"Montefalcione\",\"Avellino\"],[\"Chiusano di San Domenico\",\"Avellino\"],[\"Montefusco\",\"Avellino\"],[\"Montefusco\",\"Avellino\"],[\"Castelfranci\",\"Avellino\"],[\"Montemarano\",\"Avellino\"],[\"Mirabella Eclano\",\"Avellino\"],[\"Mirabella Eclano\",\"Avellino\"],[\"Tufo\",\"Avellino\"],[\"Torre Le Nocelle\",\"Avellino\"],[\"Torrioni\",\"Avellino\"],[\"Taurasi\",\"Avellino\"],[\"Salza Irpina\",\"Avellino\"],[\"Taurasi\",\"Avellino\"],[\"Montefalcione\",\"Avellino\"],[\"Fontanarosa\",\"Avellino\"],[\"Venticano\",\"Avellino\"],[\"Montefusco\",\"Avellino\"],[\"Salza Irpina\",\"Avellino\"],[\"Frigento\",\"Avellino\"],[\"San Michele di Serino\",\"Avellino\"],[\"Montefusco\",\"Avellino\"],[\"Avellino\",\"Avellino\"],[\"Taurasi\",\"Avellino\"],[\"Grottolella\",\"Avellino\"],[\"Sorbo Serpico\",\"Avellino\"],[\"Santa Paolina\",\"Avellino\"],[\"Salza Irpina\",\"Avellino\"],[\"Mirabella Eclano\",\"Avellino\"],[\"Salza Irpina\",\"Avellino\"],[\"Tufo\",\"Avellino\"],[\"Lapio\",\"Avellino\"],[\"Taurasi\",\"Avellino\"],[\"Sorbo Serpico\",\"Avellino\"],[\"Sorbo Serpico\",\"Avellino\"],[\"Tufo\",\"Avellino\"],[\"Montemarano\",\"Avellino\"],[\"Montefalcione\",\"Avellino\"],[\"Montefusco\",\"Avellino\"],[\"Grottolella\",\"Avellino\"],[\"Paternopoli\",\"Avellino\"],[\"Santa Paolina\",\"Avellino\"],[\"Luogosano\",\"Avellino\"],[\"Paternopoli\",\"Avellino\"],[\"Salza Irpina\",\"Avellino\"],[\"Santa Paolina\",\"Avellino\"],[\"Luogosano\",\"Avellino\"],[\"Tufo\",\"Avellino\"],[\"Sorbo Serpico\",\"Avellino\"],[\"Sturno\",\"Avellino\"],[\"Torrioni\",\"Avellino\"],[\"Montefalcione\",\"Avellino\"],[\"Forino\",\"Avellino\"],[\"Luogosano\",\"Avellino\"],[\"San Michele di Serino\",\"Avellino\"],[\"Montefusco\",\"Avellino\"],[\"Grottolella\",\"Avellino\"],[\"Torrioni\",\"Avellino\"],[\"Chiusano di San Domenico\",\"Avellino\"],[\"Atripalda\",\"Avellino\"],[\"Montefusco\",\"Avellino\"],[\"Venticano\",\"Avellino\"],[\"Candida\",\"Avellino\"],[\"Torrioni\",\"Avellino\"],[\"Paternopoli\",\"Avellino\"],[\"Forino\",\"Avellino\"],[\"Forino\",\"Avellino\"],[\"Montefusco\",\"Avellino\"],[\"Montefusco\",\"Avellino\"],[\"Santa Paolina\",\"Avellino\"],[\"Cesinali\",\"Avellino\"],[\"Taurasi\",\"Avellino\"],[\"Salza Irpina\",\"Avellino\"],[\"Santa Paolina\",\"Avellino\"],[\"Chiusano di San Domenico\",\"Avellino\"],[\"Torrioni\",\"Avellino\"],[\"Grottolella\",\"Avellino\"],[\"Lapio\",\"Avellino\"],[\"Torrioni\",\"Avellino\"],[\"Altavilla Irpina\",\"Avellino\"],[\"Grottolella\",\"Avellino\"],[\"Montefalcione\",\"Avellino\"],[\"Sorbo Serpico\",\"Avellino\"],[\"Lapio\",\"Avellino\"],[\"Taurasi\",\"Avellino\"],[\"Luogosano\",\"Avellino\"],[\"Paternopoli\",\"Avellino\"],[\"Montefalcione\",\"Avellino\"],[\"Atripalda\",\"Avellino\"],[\"Candida\",\"Avellino\"],[\"Montefusco\",\"Avellino\"],[\"Lapio\",\"Avellino\"],[\"Luogosano\",\"Avellino\"],[\"Candida\",\"Avellino\"],[\"Lapio\",\"Avellino\"],[\"Luogosano\",\"Avellino\"],[\"Sturno\",\"Avellino\"],[\"Tufo\",\"Avellino\"],[\"Taurasi\",\"Avellino\"],[\"San Michele di Serino\",\"Avellino\"],[\"Avellino\",\"Avellino\"],[\"Grottolella\",\"Avellino\"],[\"Montemarano\",\"Avellino\"],[\"Tufo\",\"Avellino\"],[\"Tufo\",\"Avellino\"],[\"Atripalda\",\"Avellino\"],[\"Avellino\",\"Avellino\"],[\"Venticano\",\"Avellino\"],[\"Tufo\",\"Avellino\"],[\"Candida\",\"Avellino\"],[\"Torre Le Nocelle\",\"Avellino\"],[\"Taurasi\",\"Avellino\"],[\"Mirabella Eclano\",\"Avellino\"],[\"Candida\",\"Avellino\"],[\"Castelfranci\",\"Avellino\"],[\"Candida\",\"Avellino\"],[\"Sant'Angelo all'Esca\",\"Avellino\"],[\"Taurasi\",\"Avellino\"],[\"Santa Paolina\",\"Avellino\"],[\"Torrioni\",\"Avellino\"],[\"Taurasi\",\"Avellino\"],[\"Salza Irpina\",\"Avellino\"],[\"Santa Paolina\",\"Avellino\"],[\"Prata di Principato Ultra\",\"Avellino\"],[\"Chiusano di San Domenico\",\"Avellino\"],[\"Torrioni\",\"Avellino\"],[\"Grottolella\",\"Avellino\"],[\"Torrioni\",\"Avellino\"],[\"Altavilla Irpina\",\"Avellino\"],[\"Grottolella\",\"Avellino\"],[\"Tufo\",\"Avellino\"],[\"Fontanarosa\",\"Avellino\"],[\"Montefalcione\",\"Avellino\"],[\"Sorbo Serpico\",\"Avellino\"],[\"Taurasi\",\"Avellino\"],[\"Luogosano\",\"Avellino\"],[\"Paternopoli\",\"Avellino\"],[\"Atripalda\",\"Avellino\"],[\"Candida\",\"Avellino\"],[\"Montefusco\",\"Avellino\"],[\"Venticano\",\"Avellino\"],[\"Montemarano\",\"Avellino\"],[\"Paternopoli\",\"Avellino\"],[\"Luogosano\",\"Avellino\"],[\"Lapio\",\"Avellino\"],[\"Luogosano\",\"Avellino\"],[\"Sturno\",\"Avellino\"],[\"Tufo\",\"Avellino\"],[\"Taurasi\",\"Avellino\"],[\"San Michele di Serino\",\"Avellino\"],[\"Grottolella\",\"Avellino\"],[\"Tufo\",\"Avellino\"],[\"Tufo\",\"Avellino\"],[\"Atripalda\",\"Avellino\"],[\"Torrioni\",\"Avellino\"],[\"Taurasi\",\"Avellino\"],[\"Taurasi\",\"Avellino\"],[\"Montefusco\",\"Avellino\"],[\"Castelfranci\",\"Avellino\"],[\"Torre Le Nocelle\",\"Avellino\"],[\"Atripalda\",\"Avellino\"],[\"Montefusco\",\"Avellino\"],[\"Prata di Principato Ultra\",\"Avellino\"],[\"Candida\",\"Avellino\"],[\"Chiusano di San Domenico\",\"Avellino\"],[\"Montefusco\",\"Avellino\"],[\"Montefusco\",\"Avellino\"],[\"Montefusco\",\"Avellino\"],[\"Montefusco\",\"Avellino\"],[\"Luogosano\",\"Avellino\"],[\"Taurasi\",\"Avellino\"],[\"Chiusano di San Domenico\",\"Avellino\"],[\"Montefalcione\",\"Avellino\"],[\"Torrioni\",\"Avellino\"],[\"Torrioni\",\"Avellino\"],[\"Montefalcione\",\"Avellino\"],[\"Lapio\",\"Avellino\"],[\"Candida\",\"Avellino\"],[\"Venticano\",\"Avellino\"],[\"Paternopoli\",\"Avellino\"],[\"San Michele di Serino\",\"Avellino\"],[\"Grottolella\",\"Avellino\"],[\"Montemarano\",\"Avellino\"],[\"Montemarano\",\"Avellino\"],[\"Tufo\",\"Avellino\"],[\"Tufo\",\"Avellino\"],[\"Taurasi\",\"Avellino\"],[\"Grottolella\",\"Avellino\"],[\"Grottolella\",\"Avellino\"],[\"Montemarano\",\"Avellino\"],[\"Altavilla Irpina\",\"Avellino\"],[\"Candida\",\"Avellino\"],[\"San Mango sul Calore\",\"Avellino\"],[\"Montefalcione\",\"Avellino\"],[\"San Mango sul Calore\",\"Avellino\"],[\"San Mango sul Calore\",\"Avellino\"],[\"Montemarano\",\"Avellino\"],[\"Salza Irpina\",\"Avellino\"],[\"Torrioni\",\"Avellino\"],[\"Torre Le Nocelle\",\"Avellino\"],[\"Montefusco\",\"Avellino\"],[\"Sant'Angelo all'Esca\",\"Avellino\"],[\"Atripalda\",\"Avellino\"],[\"Sorbo Serpico\",\"Avellino\"],[\"Montefusco\",\"Avellino\"],[\"Atripalda\",\"Avellino\"],[\"Venticano\",\"Avellino\"],[\"Montefusco\",\"Avellino\"],[\"Venticano\",\"Avellino\"],[\"Atripalda\",\"Avellino\"],[\"Venticano\",\"Avellino\"],[\"Montefusco\",\"Avellino\"],[\"Sorbo Serpico\",\"Avellino\"],[\"Montefusco\",\"Avellino\"],[\"Paternopoli\",\"Avellino\"],[\"Paternopoli\",\"Avellino\"],[\"Paternopoli\",\"Avellino\"],[\"Paternopoli\",\"Avellino\"],[\"Sant'Angelo all'Esca\",\"Avellino\"],[\"Montefusco\",\"Avellino\"],[\"Montemarano\",\"Avellino\"],[\"Taurasi\",\"Avellino\"],[\"Montemarano\",\"Avellino\"],[\"Sorbo Serpico\",\"Avellino\"],[\"Paternopoli\",\"Avellino\"],[\"Atripalda\",\"Avellino\"],[\"Atripalda\",\"Avellino\"],[\"Atripalda\",\"Avellino\"],[\"Atripalda\",\"Avellino\"],[\"Santa Paolina\",\"Avellino\"],[\"Atripalda\",\"Avellino\"],[\"Frigento\",\"Avellino\"],[\"Luogosano\",\"Avellino\"],[\"Santa Paolina\",\"Avellino\"],[\"Montefusco\",\"Avellino\"],[\"Montefusco\",\"Avellino\"],[\"Montefusco\",\"Avellino\"],[\"Montefusco\",\"Avellino\"],[\"Atripalda\",\"Avellino\"],[\"Atripalda\",\"Avellino\"],[\"Luogosano\",\"Avellino\"],[\"Atripalda\",\"Avellino\"],[\"Paternopoli\",\"Avellino\"],[\"Atripalda\",\"Avellino\"],[\"Paternopoli\",\"Avellino\"],[\"Atripalda\",\"Avellino\"],[\"Lapio\",\"Avellino\"],[\"Sant'Angelo all'Esca\",\"Avellino\"],[\"San Michele di Serino\",\"Avellino\"],[\"Avellino\",\"Avellino\"],[\"Montefalcione\",\"Avellino\"],[\"Sorbo Serpico\",\"Avellino\"],[\"Montefusco\",\"Avellino\"],[\"Taurasi\",\"Avellino\"],[\"Candida\",\"Avellino\"],[\"Candida\",\"Avellino\"],[\"Candida\",\"Avellino\"],[\"Montefusco\",\"Avellino\"],[\"Montefusco\",\"Avellino\"],[\"Tufo\",\"Avellino\"],[\"Forino\",\"Avellino\"],[\"Castelfranci\",\"Avellino\"],[\"Taurasi\",\"Avellino\"],[\"Taurasi\",\"Avellino\"],[\"Sorbo Serpico\",\"Avellino\"],[\"Santa Paolina\",\"Avellino\"],[\"Paternopoli\",\"Avellino\"],[\"Sorbo Serpico\",\"Avellino\"],[\"Paternopoli\",\"Avellino\"],[\"Fontanarosa\",\"Avellino\"],[\"Sorbo Serpico\",\"Avellino\"],[\"Cesinali\",\"Avellino\"],[\"Paternopoli\",\"Avellino\"],[\"Candida\",\"Avellino\"],[\"Sturno\",\"Avellino\"],[\"Chiusano di San Domenico\",\"Avellino\"],[\"Montemarano\",\"Avellino\"],[\"Sorbo Serpico\",\"Avellino\"],[\"Santa Paolina\",\"Avellino\"],[\"Paternopoli\",\"Avellino\"],[\"Atripalda\",\"Avellino\"],[\"Atripalda\",\"Avellino\"],[\"Atripalda\",\"Avellino\"],[\"Atripalda\",\"Avellino\"],[\"Atripalda\",\"Avellino\"],[\"Paternopoli\",\"Avellino\"],[\"Tufo\",\"Avellino\"],[\"Atripalda\",\"Avellino\"],[\"Sant'Angelo all'Esca\",\"Avellino\"],[\"Montefusco\",\"Avellino\"],[\"Paternopoli\",\"Avellino\"],[\"Paternopoli\",\"Avellino\"],[\"Luogosano\",\"Avellino\"],[\"Montefusco\",\"Avellino\"],[\"Paternopoli\",\"Avellino\"],[\"Sant'Angelo all'Esca\",\"Avellino\"],[\"Sorbo Serpico\",\"Avellino\"],[\"Sorbo Serpico\",\"Avellino\"],[\"Castelfranci\",\"Avellino\"],[\"Paternopoli\",\"Avellino\"],[\"Montemarano\",\"Avellino\"],[\"Fontanarosa\",\"Avellino\"],[\"Candida\",\"Avellino\"],[\"Sorbo Serpico\",\"Avellino\"],[\"Altavilla Irpina\",\"Avellino\"],[\"Montefusco\",\"Avellino\"],[\"Frigento\",\"Avellino\"],[\"Sant'Angelo all'Esca\",\"Avellino\"],[\"Montefusco\",\"Avellino\"],[\"Santa Paolina\",\"Avellino\"],[\"Luogosano\",\"Avellino\"],[\"Luogosano\",\"Avellino\"],[\"Paternopoli\",\"Avellino\"],[\"Mirabella Eclano\",\"Avellino\"],[\"Mirabella Eclano\",\"Avellino\"],[\"Sant'Angelo all'Esca\",\"Avellino\"],[\"Salza Irpina\",\"Avellino\"],[\"Candida\",\"Avellino\"],[\"Candida\",\"Avellino\"],[\"Tufo\",\"Avellino\"],[\"Montefusco\",\"Avellino\"],[\"Sorbo Serpico\",\"Avellino\"],[\"Tufo\",\"Avellino\"],[\"Sorbo Serpico\",\"Avellino\"],[\"Torre Le Nocelle\",\"Avellino\"],[\"Paternopoli\",\"Avellino\"],[\"Cesinali\",\"Avellino\"],[\"Montefusco\",\"Avellino\"],[\"Castelfranci\",\"Avellino\"],[\"Paternopoli\",\"Avellino\"],[\"Sorbo Serpico\",\"Avellino\"],[\"Montefusco\",\"Avellino\"],[\"Tufo\",\"Avellino\"],[\"Taurasi\",\"Avellino\"],[\"Montefusco\",\"Avellino\"],[\"Torrioni\",\"Avellino\"],[\"Candida\",\"Avellino\"],[\"Candida\",\"Avellino\"],[\"Taurasi\",\"Avellino\"],[\"Santa Paolina\",\"Avellino\"],[\"Prata di Principato Ultra\",\"Avellino\"],[\"Taurasi\",\"Avellino\"],[\"Frigento\",\"Avellino\"],[\"Grottolella\",\"Avellino\"],[\"Torrioni\",\"Avellino\"],[\"Grottolella\",\"Avellino\"],[\"Fontanarosa\",\"Avellino\"],[\"Taurasi\",\"Avellino\"],[\"Montefalcione\",\"Avellino\"],[\"Sorbo Serpico\",\"Avellino\"],[\"Lapio\",\"Avellino\"],[\"Paternopoli\",\"Avellino\"],[\"Candida\",\"Avellino\"],[\"Montefusco\",\"Avellino\"],[\"Lapio\",\"Avellino\"],[\"Lapio\",\"Avellino\"],[\"Luogosano\",\"Avellino\"],[\"Lapio\",\"Avellino\"],[\"Sturno\",\"Avellino\"],[\"Taurasi\",\"Avellino\"],[\"San Michele di Serino\",\"Avellino\"],[\"Grottolella\",\"Avellino\"],[\"Torre Le Nocelle\",\"Avellino\"],[\"Luogosano\",\"Avellino\"],[\"Taurasi\",\"Avellino\"],[\"Montefalcione\",\"Avellino\"],[\"Taurasi\",\"Avellino\"],[\"Montemarano\",\"Avellino\"],[\"Salza Irpina\",\"Avellino\"],[\"Prata di Principato Ultra\",\"Avellino\"],[\"Chiusano di San Domenico\",\"Avellino\"],[\"Montefalcione\",\"Avellino\"],[\"Taurasi\",\"Avellino\"],[\"Torrioni\",\"Avellino\"],[\"Grottaminarda\",\"Avellino\"],[\"Montefalcione\",\"Avellino\"],[\"Venticano\",\"Avellino\"],[\"Sturno\",\"Avellino\"],[\"Salza Irpina\",\"Avellino\"],[\"Montemarano\",\"Avellino\"],[\"Montemarano\",\"Avellino\"],[\"Taurasi\",\"Avellino\"],[\"Taurasi\",\"Avellino\"],[\"Venticano\",\"Avellino\"],[\"Sant'Angelo all'Esca\",\"Avellino\"],[\"Tufo\",\"Avellino\"],[\"Montefusco\",\"Avellino\"],[\"Cesinali\",\"Avellino\"],[\"Avellino\",\"Avellino\"],[\"Frigento\",\"Avellino\"],[\"Castelfranci\",\"Avellino\"],[\"Mirabella Eclano\",\"Avellino\"],[\"Avellino\",\"Avellino\"],[\"Sant'Angelo all'Esca\",\"Avellino\"],[\"San Michele di Serino\",\"Avellino\"],[\"Forino\",\"Avellino\"],[\"Forino\",\"Avellino\"],[\"Forino\",\"Avellino\"],[\"Forino\",\"Avellino\"],[\"Forino\",\"Avellino\"],[\"Montefusco\",\"Avellino\"],[\"Montefusco\",\"Avellino\"],[\"Tufo\",\"Avellino\"],[\"Luogosano\",\"Avellino\"],[\"Avellino\",\"Avellino\"],[\"Avellino\",\"Avellino\"],[\"Tufo\",\"Avellino\"],[\"Tufo\",\"Avellino\"],[\"Avellino\",\"Avellino\"],[\"Montefusco\",\"Avellino\"],[\"Montefusco\",\"Avellino\"],[\"Atripalda\",\"Avellino\"],[\"Venticano\",\"Avellino\"],[\"Taurasi\",\"Avellino\"],[\"Atripalda\",\"Avellino\"],[\"Venticano\",\"Avellino\"],[\"Summonte\",\"Avellino\"],[\"Paternopoli\",\"Avellino\"],[\"Ariano Irpino\",\"Avellino\"],[\"Montefredane\",\"Avellino\"],[\"Montefalcione\",\"Avellino\"],[\"Montefredane\",\"Avellino\"],[\"Montefalcione\",\"Avellino\"],[\"Lapio\",\"Avellino\"],[\"Montefalcione\",\"Avellino\"],[\"Manocalzati\",\"Avellino\"],[\"Manocalzati\",\"Avellino\"],[\"Manocalzati\",\"Avellino\"],[\"Manocalzati\",\"Avellino\"],[\"Montefalcione\",\"Avellino\"],[\"Manocalzati\",\"Avellino\"],[\"Montefalcione\",\"Avellino\"],[\"Manocalzati\",\"Avellino\"],[\"Montefredane\",\"Avellino\"],[\"Ariano Irpino\",\"Avellino\"],[\"Montefredane\",\"Avellino\"],[\"Manocalzati\",\"Avellino\"],[\"Ariano Irpino\",\"Avellino\"],[\"Sorbo Serpico\",\"Avellino\"],[\"Montefalcione\",\"Avellino\"],[\"Montefredane\",\"Avellino\"],[\"Taurasi\",\"Avellino\"],[\"Montefalcione\",\"Avellino\"],[\"Montefalcione\",\"Avellino\"],[\"Taurasi\",\"Avellino\"],[\"Manocalzati\",\"Avellino\"],[\"Montefalcione\",\"Avellino\"],[\"Venticano\",\"Avellino\"],[\"Montefredane\",\"Avellino\"],[\"Ariano Irpino\",\"Avellino\"],[\"Montemarano\",\"Avellino\"],[\"Manocalzati\",\"Avellino\"],[\"Montefalcione\",\"Avellino\"],[\"Montefredane\",\"Avellino\"],[\"Manocalzati\",\"Avellino\"],[\"Manocalzati\",\"Avellino\"],[\"Montefalcione\",\"Avellino\"],[\"Manocalzati\",\"Avellino\"],[\"Manocalzati\",\"Avellino\"],[\"Ariano Irpino\",\"Avellino\"],[\"Montemarano\",\"Avellino\"],[\"Montemarano\",\"Avellino\"],[\"Ariano Irpino\",\"Avellino\"],[\"Castelfranci\",\"Avellino\"],[\"Cesinali\",\"Avellino\"],[\"Cesinali\",\"Avellino\"],[\"Ariano Irpino\",\"Avellino\"],[\"Montefredane\",\"Avellino\"],[\"Montefredane\",\"Avellino\"],[\"Ariano Irpino\",\"Avellino\"],[\"Ariano Irpino\",\"Avellino\"],[\"Sant'Angelo all'Esca\",\"Avellino\"],[\"Manocalzati\",\"Avellino\"],[\"Montefalcione\",\"Avellino\"],[\"Venticano\",\"Avellino\"],[\"Taurasi\",\"Avellino\"],[\"Castelfranci\",\"Avellino\"],[\"Montefredane\",\"Avellino\"],[\"Montefalcione\",\"Avellino\"],[\"Ariano Irpino\",\"Avellino\"]],\"hovertemplate\":\"<b>%{hovertext}</b><br><br>prov=%{customdata[1]}<br>lat=%{lat}<br>long=%{lon}<br>lau=%{customdata[0]}<extra></extra>\",\"hovertext\":[\"I Favati\",\"Cantina Riccio\",\"Cantina Riccio\",\"Cantina Riccio\",\"Cantina Riccio\",\"Antica Hirpinia\",\"Antica Hirpinia\",\"Antica Hirpinia\",\"Antica Hirpinia\",\"Antica Hirpinia\",\"Antica Hirpinia\",\"Rocca dell'Angelo\",\"Rocca dell'Angelo\",\"I Favati\",\"Cantine Crogliano\",\"Cantine Crogliano\",\"Cantine Crogliano\",\"Macchialupa\",\"Villa Raiano\",\"Agricola Boccella\",\"Tenuta Cavalier Pepe\",\"Fratelli Urciuolo\",\"Guido Marsella\",\"Macchialupa\",\"Guastaferro\",\"Petilia\",\"Petilia\",\"Petilia\",\"Petilia\",\"I Favati\",\"Esterina Centrella Viticoltore\",\"Macchialupa\",\"Macchialupa\",\"Macchialupa\",\"Vigne Irpine\",\"Vigne Irpine\",\"Vigne Irpine\",\"Vigne Irpine\",\"Vigne Irpine\",\"Vigne Irpine\",\"Vigne Irpine\",\"Vigne Irpine\",\"Vigne Irpine\",\"Vigne Irpine\",\"Vigne Irpine\",\"Vigne Irpine\",\"Fratelli Urciuolo\",\"Fratelli Urciuolo\",\"Fratelli Urciuolo\",\"Fratelli Urciuolo\",\"Ciro Picariello\",\"Ciro Picariello\",\"Ciro Picariello\",\"Ciro Picariello\",\"Tenuta Fonzone Caccese\",\"Tenuta Fonzone Caccese\",\"Tenuta Fonzone Caccese\",\"Tenuta Fonzone Caccese\",\"Tenuta Fonzone Caccese\",\"Rocca del Principe\",\"Quintodecimo\",\"Quintodecimo\",\"Quintodecimo\",\"Quintodecimo\",\"Cocciacavallo\",\"Cocciacavallo\",\"Cantine Vistabella\",\"Cantine Vistabella\",\"Antica Hirpinia\",\"Tenuta Nucilla\",\"Tenuta Nucilla\",\"Montevergine\",\"Castel dei Franci\",\"Castel dei Franci\",\"Castel dei Franci\",\"Castel dei Franci\",\"Castel dei Franci\",\"Castel dei Franci\",\"Castel dei Franci\",\"Azienda Vinicola Aminea\",\"Azienda Vinicola Aminea\",\"D'Antiche Terre\",\"D'Antiche Terre\",\"D'Antiche Terre\",\"D'Antiche Terre\",\"D'Antiche Terre\",\"D'Antiche Terre\",\"D'Antiche Terre\",\"D'Antiche Terre\",\"D'Antiche Terre\",\"D'Antiche Terre\",\"D'Antiche Terre\",\"La Casa dell'Orco\",\"La Casa dell'Orco\",\"La Casa dell'Orco\",\"La Casa dell'Orco\",\"La Casa dell'Orco\",\"La Casa dell'Orco\",\"La Casa dell'Orco\",\"La Casa dell'Orco\",\"La Casa dell'Orco\",\"La Casa dell'Orco\",\"La Casa dell'Orco\",\"La Casa dell'Orco\",\"La Casa dell'Orco\",\"La Casa dell'Orco\",\"Fattoria De Lillo\",\"Fattoria De Lillo\",\"Fattoria De Lillo\",\"Macchialupa\",\"I Favati\",\"Cantina San Paolo\",\"Cantina San Paolo\",\"Cantina San Paolo\",\"Cantina San Paolo\",\"Cantina San Paolo\",\"Cantina San Paolo\",\"Cantina San Paolo\",\"Joaquin\",\"Joaquin\",\"Joaquin\",\"Joaquin\",\"Joaquin\",\"Joaquin\",\"Borgodangelo\",\"Borgodangelo\",\"Borgodangelo\",\"Borgodangelo\",\"Borgodangelo\",\"Borgodangelo\",\"Cantina Perillo\",\"Cantina Perillo\",\"Cantina Perillo\",\"Mier Vini\",\"Mier Vini\",\"Mier Vini\",\"Mier Vini\",\"Mier Vini\",\"Mier Vini\",\"Mier Vini\",\"Mier Vini\",\"Luigi Tecce\",\"Luigi Tecce\",\"Vigne Guadagno\",\"Vigne Guadagno\",\"Vigne Guadagno\",\"Vigne Guadagno\",\"I Favati\",\"Quintodecimo\",\"Guastaferro\",\"Antico Castello\",\"Antico Castello\",\"Agricola Boccella\",\"Agricola Boccella\",\"Manimurci\",\"Cantine Tabernae\",\"Antico Borgo\",\"Cantina Bambinuto\",\"Cantine di Marzo\",\"Cantine Lonardo - Contrade di Taurasi\",\"Torricino\",\"Vinosia\",\"Azienda Agricola Di Meo\",\"Colline del Sole\",\"Mastroberardino\",\"Struzziero\",\"Terredora di Paolo\",\"Feudi di San Gregorio\",\"Terre Irpine\",\"Terre Colte\",\"Azienda Agricola Di Meo\",\"Cantine di Marzo\",\"Michele Contrada\",\"Azienda Agricola Di Meo\",\"Villa Raiano\",\"Colli di Castelfranci\",\"Colli di Castelfranci\",\"Colli di Lapio\",\"Cantina Bambinuto\",\"Mastroberardino\",\"Guerriero\",\"Fratelli Urciuolo\",\"Fratelli Urciuolo\",\"Cantina Calaf\\u00c3\\u00a9\",\"Le Masciare\",\"A Casa\",\"Contea d\\u00c3\\u00a9 Altavilla\",\"Antico Borgo\",\"Contea d\\u00c3\\u00a9 Altavilla\",\"Di Prisco\",\"Tenuta Scuotto\",\"Tenuta Cavalier Pepe\",\"Feudi di San Gregorio\",\"Tenuta Cavalier Pepe\",\"Montesole\",\"A Casa\",\"Manimurci\",\"Feudi di San Gregorio\",\"Cantine Colle di Sandomenico\",\"Cantine Terranera\",\"Crypta Castagnara\",\"Donnachiara\",\"Macchia dei Briganti\",\"Michele Contrada\",\"Montesole\",\"Tenuta Scuotto\",\"Cantine Terranera\",\"Montesole\",\"Cantine Colle di Sandomenico\",\"Crypta Castagnara\",\"Michele Contrada\",\"Montesole\",\"Cantine Terranera\",\"Cantine Crogliano\",\"Montesole\",\"Cantine Colle di Sandomenico\",\"Cantine Terranera\",\"Montesole\",\"Macchia dei Briganti\",\"Cantine Terranera\",\"Cantine Terranera\",\"Cantina Calaf\\u00c3\\u00a9\",\"Di Prisco\",\"Le Masciare\",\"Macchia dei Briganti\",\"Cantina Riccio\",\"Terredora di Paolo\",\"Terredora di Paolo\",\"Colli di Castelfranci\",\"Amarano\",\"Vinanda\",\"Vinanda\",\"Torricino\",\"I Capitani\",\"Cantine Sanpaolo\",\"Antico Borgo\",\"Azienda Agricola Di Meo\",\"Guerriero\",\"Donnachiara\",\"Di Prisco\",\"Rocca dell'Angelo\",\"Terredora di Paolo\",\"Azienda Agricola Di Meo\",\"Cantine Tabernae\",\"Villa Raiano\",\"Terredora di Paolo\",\"A Casa\",\"Vigna Villae in Taurasi\",\"Crypta Castagnara\",\"Feudi di San Gregorio\",\"Cantina dei Monaci\",\"Azienda Agricola Di Meo\",\"Vinanda\",\"Azienda Agricola Di Meo\",\"Cantine di Marzo\",\"Colli di Lapio\",\"Russo Taurasi\",\"Feudi di San Gregorio\",\"Feudi di San Gregorio\",\"Azienda Agricola Benito Ferrara\",\"Amarano\",\"Donnachiara\",\"Terredora di Paolo\",\"Crypta Castagnara\",\"Manimurci\",\"Cantina dei Monaci\",\"Terre Colte\",\"Vinosia\",\"Azienda Agricola Di Meo\",\"Cantina Bambinuto\",\"La Molara\",\"Torricino\",\"Feudi di San Gregorio\",\"Terre Irpine\",\"Cantine Sanpaolo\",\"Donnachiara\",\"Fratelli Urciuolo\",\"Tenuta Ponte\",\"Villa Raiano\",\"Terredora di Paolo\",\"Cantine Terranera\",\"Colline del Sole\",\"Cantine Colle di Sandomenico\",\"Mastroberardino\",\"Montesole\",\"Struzziero\",\"Michele Contrada\",\"Colline del Sole\",\"Vinosia\",\"Fratelli Urciuolo\",\"Fratelli Urciuolo\",\"Terredora di Paolo\",\"Montesole\",\"Cantina dei Monaci\",\"Del Nonno\",\"Antico Borgo\",\"Azienda Agricola Di Meo\",\"Cantina Bambinuto\",\"Cantine Colle di Sandomenico\",\"Cantine Sanpaolo\",\"Cantine Terranera\",\"Colli di Lapio\",\"Colline del Sole\",\"Contea d\\u00c3\\u00a9 Altavilla\",\"Crypta Castagnara\",\"Donnachiara\",\"Feudi di San Gregorio\",\"Feudo Apiano\",\"Guerriero\",\"La Molara\",\"Le Masciare\",\"Macchia dei Briganti\",\"Mastroberardino\",\"Michele Contrada\",\"Montesole\",\"Romano (di Nicola Romano)\",\"Tenuta Ponte\",\"Tenuta Sarno 1860\",\"Tenuta Scuotto\",\"Terre Colte\",\"Terre Irpine\",\"Torricino\",\"Vigna Villae in Taurasi\",\"Villa Raiano\",\"Vigne Guadagno\",\"Cantine Terranera\",\"Salvatore Molettieri\",\"Cantine di Marzo\",\"Cantine di Marzo\",\"Mastroberardino\",\"A Casa\",\"Struzziero\",\"Cantine di Marzo\",\"Michele Contrada\",\"I Capitani\",\"Guerriero\",\"Quintodecimo\",\"Michele Contrada\",\"Colli di Castelfranci\",\"Michele Contrada\",\"Tenuta Cavalier Pepe\",\"Russo Taurasi\",\"Cantina dei Monaci\",\"Colline del Sole\",\"Antico Borgo\",\"Azienda Agricola Di Meo\",\"Cantina Bambinuto\",\"Cantina Calaf\\u00c3\\u00a9\",\"Cantine Colle di Sandomenico\",\"Cantine Sanpaolo\",\"Cantine Terranera\",\"Colline del Sole\",\"Contea d\\u00c3\\u00a9 Altavilla\",\"Crypta Castagnara\",\"Dell'Angelo\",\"Di Prisco\",\"Donnachiara\",\"Feudi di San Gregorio\",\"Guerriero\",\"La Molara\",\"Le Masciare\",\"Mastroberardino\",\"Michele Contrada\",\"Montesole\",\"Rocca dell'Angelo\",\"Salvatore Molettieri\",\"Tenuta Fonzone Caccese\",\"Tenuta Ponte\",\"Tenuta Scuotto\",\"Terre Colte\",\"Terre Irpine\",\"Torricino\",\"Vigna Villae in Taurasi\",\"Villa Raiano\",\"Cantine Terranera\",\"Cantine di Marzo\",\"Cantine di Marzo\",\"Mastroberardino\",\"Colline del Sole\",\"Cantine Lonardo - Contrade di Taurasi\",\"Russo Taurasi\",\"Montesole\",\"Colli di Castelfranci\",\"I Capitani\",\"Mastroberardino\",\"Montesole\",\"Cantina Calaf\\u00c3\\u00a9\",\"Michele Contrada\",\"Cantina Riccio\",\"Terredora di Paolo\",\"Terredora di Paolo\",\"Terredora di Paolo\",\"Montesole\",\"La Molara\",\"Antico Borgo\",\"Cantine Colle di Sandomenico\",\"Cantine Crogliano\",\"Cantine Sanpaolo\",\"Colline del Sole\",\"Donnachiara\",\"Feudo Apiano\",\"Michele Contrada\",\"Rocca dell'Angelo\",\"Tenuta Fonzone Caccese\",\"Villa Raiano\",\"Cantine Terranera\",\"Salvatore Molettieri\",\"Salvatore Molettieri\",\"Cantine di Marzo\",\"Cantine di Marzo\",\"Antico Borgo\",\"Cantine Terranera\",\"Cantine Terranera\",\"Salvatore Molettieri\",\"Contea d\\u00c3\\u00a9 Altavilla\",\"Michele Contrada\",\"Antico Castello\",\"Cantine Crogliano\",\"Antico Castello\",\"Antico Castello\",\"Salvatore Molettieri\",\"Azienda Agricola Di Meo\",\"Cantine Sanpaolo\",\"I Capitani\",\"Montesole\",\"Tenuta Cavalier Pepe\",\"Mastroberardino\",\"Feudi di San Gregorio\",\"Montesole\",\"Mastroberardino\",\"Struzziero\",\"Terredora di Paolo\",\"Struzziero\",\"Mastroberardino\",\"Struzziero\",\"Terredora di Paolo\",\"Feudi di San Gregorio\",\"Montesole\",\"Vinosia\",\"Vinosia\",\"Vinosia\",\"Vinosia\",\"Tenuta Cavalier Pepe\",\"Terredora di Paolo\",\"Amarano\",\"Russo Taurasi\",\"Amarano\",\"Feudi di San Gregorio\",\"Vinosia\",\"Mastroberardino\",\"Mastroberardino\",\"Mastroberardino\",\"Mastroberardino\",\"Cantina Bambinuto\",\"Mastroberardino\",\"Cantine Tabernae\",\"Terre Colte\",\"Cantina dei Monaci\",\"Montesole\",\"Montesole\",\"Montesole\",\"Montesole\",\"Mastroberardino\",\"Mastroberardino\",\"La Molara\",\"Mastroberardino\",\"Manimurci\",\"Mastroberardino\",\"Vinosia\",\"Mastroberardino\",\"Tenuta Scuotto\",\"Tenuta Cavalier Pepe\",\"Villa Raiano\",\"A Casa\",\"Donnachiara\",\"Feudi di San Gregorio\",\"Terredora di Paolo\",\"Vigna Villae in Taurasi\",\"Michele Contrada\",\"Michele Contrada\",\"Michele Contrada\",\"Montesole\",\"Terredora di Paolo\",\"Azienda Agricola Benito Ferrara\",\"Vesevo\",\"Colli di Castelfranci\",\"Vigna Villae in Taurasi\",\"Vigna Villae in Taurasi\",\"Feudi di San Gregorio\",\"Cantina Bambinuto\",\"Vinosia\",\"Feudi di San Gregorio\",\"Vinosia\",\"Di Prisco\",\"Feudi di San Gregorio\",\"I Favati\",\"Manimurci\",\"Michele Contrada\",\"Terre Irpine\",\"Cantine Colle di Sandomenico\",\"Amarano\",\"Feudi di San Gregorio\",\"Cantina Bambinuto\",\"Manimurci\",\"Mastroberardino\",\"Mastroberardino\",\"Mastroberardino\",\"Mastroberardino\",\"Mastroberardino\",\"Vinosia\",\"Torricino\",\"Mastroberardino\",\"Tenuta Cavalier Pepe\",\"Montesole\",\"Manimurci\",\"Vinosia\",\"La Molara\",\"Terredora di Paolo\",\"Vinosia\",\"Tenuta Cavalier Pepe\",\"Feudi di San Gregorio\",\"Feudi di San Gregorio\",\"Colli di Castelfranci\",\"Manimurci\",\"Amarano\",\"Di Prisco\",\"Michele Contrada\",\"Feudi di San Gregorio\",\"Contea d\\u00c3\\u00a9 Altavilla\",\"Montesole\",\"Cantine Tabernae\",\"Tenuta Cavalier Pepe\",\"Montesole\",\"Cantina dei Monaci\",\"La Molara\",\"La Molara\",\"Vinosia\",\"Vinanda\",\"Vinanda\",\"Tenuta Cavalier Pepe\",\"Azienda Agricola Di Meo\",\"Michele Contrada\",\"Michele Contrada\",\"Azienda Agricola Benito Ferrara\",\"Montesole\",\"Feudi di San Gregorio\",\"Torricino\",\"Feudi di San Gregorio\",\"I Capitani\",\"Vinosia\",\"Del Nonno\",\"Montesole\",\"Colli di Castelfranci\",\"Vinosia\",\"Feudi di San Gregorio\",\"Montesole\",\"Cantine di Marzo\",\"Russo Taurasi\",\"Montesole\",\"Cantine Sanpaolo\",\"Michele Contrada\",\"Michele Contrada\",\"Antico Borgo\",\"Cantina Bambinuto\",\"Cantina Calaf\\u00c3\\u00a9\",\"Cantine Lonardo - Contrade di Taurasi\",\"Cantine Tabernae\",\"Cantine Terranera\",\"Colline del Sole\",\"Crypta Castagnara\",\"Di Prisco\",\"Domenico Caputo\",\"Donnachiara\",\"Feudi di San Gregorio\",\"Feudo Apiano\",\"Le Masciare\",\"Michele Contrada\",\"Montesole\",\"Rocca del Principe\",\"Romano (di Nicola Romano)\",\"Tenuta Ponte\",\"Tenuta Scuotto\",\"Terre Irpine\",\"Vigna Villae in Taurasi\",\"Villa Raiano\",\"Cantine Terranera\",\"I Capitani\",\"Terre Colte\",\"Cantine Lonardo - Contrade di Taurasi\",\"Donnachiara\",\"Guastaferro\",\"Salvatore Molettieri\",\"Azienda Agricola Di Meo\",\"Cantina Calaf\\u00c3\\u00a9\",\"Cantine Colle di Sandomenico\",\"Cantine Crogliano\",\"Cantine Lonardo - Contrade di Taurasi\",\"Cantine Sanpaolo\",\"Case d'Alto\",\"Donnachiara\",\"Struzziero\",\"Terre Irpine\",\"Azienda Agricola Di Meo\",\"Salvatore Molettieri\",\"Salvatore Molettieri\",\"Guerriero\",\"Cantine Lonardo - Contrade di Taurasi\",\"Struzziero\",\"Tenuta Cavalier Pepe\",\"Azienda Agricola Benito Ferrara\",\"Terredora di Paolo\",\"I Favati\",\"A Casa\",\"Cantine Tabernae\",\"Colli di Castelfranci\",\"Vinanda\",\"A Casa\",\"Tenuta Cavalier Pepe\",\"Villa Raiano\",\"Vesevo\",\"Vesevo\",\"Vesevo\",\"Vesevo\",\"Vesevo\",\"Montesole\",\"Montesole\",\"Azienda Agricola Benito Ferrara\",\"La Molara\",\"A Casa\",\"A Casa\",\"Azienda Agricola Benito Ferrara\",\"Azienda Agricola Benito Ferrara\",\"A Casa\",\"Montesole\",\"Montesole\",\"Mastroberardino\",\"Struzziero\",\"Vigna Villae in Taurasi\",\"Mastroberardino\",\"Struzziero\",\"Ciro Picariello\",\"Manimurci\",\"Cantina Giardino\",\"Vadiaperti\",\"Mont'Antico\",\"Villa Diamante\",\"Mont'Antico\",\"Colli di Lapio\",\"Cantine Crogliano\",\"Historia Antiqua\",\"Historia Antiqua\",\"Historia Antiqua\",\"Historia Antiqua\",\"Cantine Crogliano\",\"Historia Antiqua\",\"Cantine Crogliano\",\"Historia Antiqua\",\"Villa Diamante\",\"Cantina Giardino\",\"Vadiaperti\",\"Historia Antiqua\",\"Cantina Giardino\",\"Feudi di San Gregorio\",\"Mont'Antico\",\"Vadiaperti\",\"Guastaferro\",\"Mont'Antico\",\"Cantine Crogliano\",\"Guastaferro\",\"Historia Antiqua\",\"Mont'Antico\",\"Rocca dell'Angelo\",\"Vadiaperti\",\"Cantina Giardino\",\"Il Cancelliere\",\"Historia Antiqua\",\"Mont'Antico\",\"Vadiaperti\",\"Historia Antiqua\",\"Historia Antiqua\",\"Mont'Antico\",\"Historia Antiqua\",\"Historia Antiqua\",\"Cantina Giardino\",\"Il Cancelliere\",\"Il Cancelliere\",\"Cantina Giardino\",\"Colli di Castelfranci\",\"Cantine Del Barone\",\"Cantine Del Barone\",\"Cantina Giardino\",\"Villa Diamante\",\"Villa Diamante\",\"Cantina Giardino\",\"Cantina Giardino\",\"Cased'Angelo\",\"Historia Antiqua\",\"Mont'Antico\",\"Struzziero\",\"Guastaferro\",\"Colli di Castelfranci\",\"Villa Diamante\",\"Mont'Antico\",\"Cantina Giardino\"],\"lat\":[40.89945,40.951519,40.951519,40.951519,40.951519,41.024416,41.024416,41.024416,41.024416,41.024416,41.024416,41.057527,41.057527,40.89945,40.959055,40.959055,40.959055,41.046157,40.874389,40.927652,41.00897,40.858116,40.946305,41.046157,41.009507,40.991019,40.991019,40.991019,40.991019,40.89945,41.027213,41.046157,41.046157,41.046157,41.016652,41.016652,41.016652,41.016652,41.016652,41.016652,41.016652,41.016652,41.016652,41.016652,41.016652,41.016652,40.858116,40.858116,40.858116,40.858116,40.944334,40.944334,40.944334,40.944334,40.963649,40.963649,40.963649,40.963649,40.963649,40.967063,41.04673,41.04673,41.04673,41.04673,40.984346,40.984346,40.96275,40.96275,41.024416,41.037579,41.037579,40.91028,40.931011,40.931011,40.931011,40.931011,40.931011,40.931011,40.931011,40.939801,40.939801,40.93825,40.93825,40.93825,40.93825,40.93825,40.93825,40.93825,40.93825,40.93825,40.93825,40.93825,40.912723,40.912723,40.912723,40.912723,40.912723,40.912723,40.912723,40.912723,40.912723,40.912723,40.912723,40.912723,40.912723,40.912723,41.026239,41.026239,41.026239,41.046157,40.89945,41.022788,41.022788,41.022788,41.022788,41.022788,41.022788,41.022788,40.971792,40.971792,40.971792,40.971792,40.971792,40.971792,41.001617,41.001617,41.001617,41.001617,41.001617,41.001617,40.924148,40.924148,40.924148,41.009109,41.009109,41.009109,41.009109,41.009109,41.009109,41.009109,41.009109,40.952057,40.952057,40.91897,40.91897,40.91897,40.91897,40.89945,41.04673,41.009507,40.959183,40.959183,40.927652,40.927652,40.964298,41.004168,41.010741,41.02371,41.01056,41.007873,41.007955,40.969372,40.926143,41.022673,40.923361,41.047608,41.023432,40.911369,41.023578,40.985889,40.926143,41.01056,40.944277,40.926143,40.874389,40.916298,40.916298,40.971259,41.02371,40.923361,41.006208,40.858116,40.858116,40.988697,40.983721,40.930863,41.001125,41.010741,41.001125,41.000018,40.990929,41.00897,40.911369,41.00897,41.028918,40.930863,40.964298,40.911369,40.901135,40.967256,40.96733,40.955245,40.955438,40.944277,41.028918,40.990929,40.967256,41.028918,40.901135,40.96733,40.944277,41.028918,40.967256,40.959055,41.028918,40.901135,40.967256,41.028918,40.955438,40.967256,40.967256,40.988697,41.000018,40.983721,40.955438,40.951519,41.023432,41.023432,40.916298,40.916048,41.037362,41.037362,41.007955,41.024717,41.022723,41.010741,40.926143,41.006208,40.955245,41.000018,41.057527,41.023432,40.926143,41.004168,40.874389,41.023432,40.930863,41.008927,40.96733,40.911369,41.010126,40.926143,41.037362,40.926143,41.01056,40.971259,40.993641,40.911369,40.911369,41.019496,40.916048,40.955245,41.023432,40.96733,40.964298,41.010126,40.985889,40.969372,40.926143,41.02371,40.985829,41.007955,40.911369,41.023578,41.022723,40.955245,40.858116,40.987973,40.874389,41.023432,40.967256,41.022673,40.901135,40.923361,41.028918,41.047608,40.944277,41.022673,40.969372,40.858116,40.858116,41.023432,41.028918,41.010126,40.890053,41.010741,40.926143,41.02371,40.901135,41.022723,40.967256,40.971259,41.022673,41.001125,40.96733,40.955245,40.911369,40.979321,41.006208,40.985829,40.983721,40.955438,40.923361,40.944277,41.028918,40.968255,40.987973,40.942429,40.990929,40.985889,41.023578,41.007955,41.008927,40.874389,40.91897,40.967256,40.928338,41.01056,41.01056,40.923361,40.930863,41.047608,41.01056,40.944277,41.024717,41.006208,41.04673,40.944277,40.916298,40.944277,41.00897,40.993641,41.010126,41.022673,41.010741,40.926143,41.02371,40.988697,40.901135,41.022723,40.967256,41.022673,41.001125,40.96733,41.010052,41.000018,40.955245,40.911369,41.006208,40.985829,40.983721,40.923361,40.944277,41.028918,41.057527,40.928338,40.963649,40.987973,40.990929,40.985889,41.023578,41.007955,41.008927,40.874389,40.967256,41.01056,41.01056,40.923361,41.022673,41.007873,40.993641,41.028918,40.916298,41.024717,40.923361,41.028918,40.988697,40.944277,40.951519,41.023432,41.023432,41.023432,41.028918,40.985829,41.010741,40.901135,40.959055,41.022723,41.022673,40.955245,40.979321,40.944277,41.057527,40.963649,40.874389,40.967256,40.928338,40.928338,41.01056,41.01056,41.010741,40.967256,40.967256,40.928338,41.001125,40.944277,40.959183,40.959055,40.959183,40.959183,40.928338,40.926143,41.022723,41.024717,41.028918,41.00897,40.923361,40.911369,41.028918,40.923361,41.047608,41.023432,41.047608,40.923361,41.047608,41.023432,40.911369,41.028918,40.969372,40.969372,40.969372,40.969372,41.00897,41.023432,40.916048,40.993641,40.916048,40.911369,40.969372,40.923361,40.923361,40.923361,40.923361,41.02371,40.923361,41.004168,40.985889,41.010126,41.028918,41.028918,41.028918,41.028918,40.923361,40.923361,40.985829,40.923361,40.964298,40.923361,40.969372,40.923361,40.990929,41.00897,40.874389,40.930863,40.955245,40.911369,41.023432,41.008927,40.944277,40.944277,40.944277,41.028918,41.023432,41.019496,40.861973,40.916298,41.008927,41.008927,40.911369,41.02371,40.969372,40.911369,40.969372,41.000018,40.911369,40.89945,40.964298,40.944277,41.023578,40.901135,40.916048,40.911369,41.02371,40.964298,40.923361,40.923361,40.923361,40.923361,40.923361,40.969372,41.007955,40.923361,41.00897,41.028918,40.964298,40.969372,40.985829,41.023432,40.969372,41.00897,40.911369,40.911369,40.916298,40.964298,40.916048,41.000018,40.944277,40.911369,41.001125,41.028918,41.004168,41.00897,41.028918,41.010126,40.985829,40.985829,40.969372,41.037362,41.037362,41.00897,40.926143,40.944277,40.944277,41.019496,41.028918,40.911369,41.007955,40.911369,41.024717,40.969372,40.890053,41.028918,40.916298,40.969372,40.911369,41.028918,41.01056,40.993641,41.028918,41.022723,40.944277,40.944277,41.010741,41.02371,40.988697,41.007873,41.004168,40.967256,41.022673,40.96733,41.000018,41.008104,40.955245,40.911369,40.979321,40.983721,40.944277,41.028918,40.967063,40.968255,40.987973,40.990929,41.023578,41.008927,40.874389,40.967256,41.024717,40.985889,41.007873,40.955245,41.009507,40.928338,40.926143,40.988697,40.901135,40.959055,41.007873,41.022723,41.069382,40.955245,41.047608,41.023578,40.926143,40.928338,40.928338,41.006208,41.007873,41.047608,41.00897,41.019496,41.023432,40.89945,40.930863,41.004168,40.916298,41.037362,40.930863,41.00897,40.874389,40.861973,40.861973,40.861973,40.861973,40.861973,41.028918,41.028918,41.019496,40.985829,40.930863,40.930863,41.019496,41.019496,40.930863,41.028918,41.028918,40.923361,41.047608,41.008927,40.923361,41.047608,40.944334,40.964298,41.158094,40.964053,40.961435,40.968401,40.961435,40.971259,40.959055,40.941201,40.941201,40.941201,40.941201,40.959055,40.941201,40.959055,40.941201,40.968401,41.158094,40.964053,40.941201,41.158094,40.911369,40.961435,40.964053,41.009507,40.961435,40.959055,41.009507,40.941201,40.961435,41.057527,40.964053,41.158094,40.936891,40.941201,40.961435,40.964053,40.941201,40.941201,40.961435,40.941201,40.941201,41.158094,40.936891,40.936891,41.158094,40.916298,40.892615,40.892615,41.158094,40.968401,40.968401,41.158094,41.158094,41.006356,40.941201,40.961435,41.047608,41.009507,40.916298,40.968401,40.961435,41.158094],\"legendgroup\":\"Avellino\",\"lon\":[14.825894,14.914735,14.914735,14.914735,14.914735,14.953541,14.953541,14.953541,14.953541,14.953541,14.953541,14.904608,14.904608,14.825894,14.883131,14.883131,14.883131,14.789589,14.832333,15.052481,14.994246,14.752969,14.747731,14.789589,14.961157,14.783194,14.783194,14.783194,14.783194,14.825894,14.804384,14.789589,14.789589,14.789589,14.874782,14.874782,14.874782,14.874782,14.874782,14.874782,14.874782,14.874782,14.874782,14.874782,14.874782,14.874782,14.752969,14.752969,14.752969,14.752969,14.757079,14.757079,14.757079,14.757079,15.063642,15.063642,15.063642,15.063642,15.063642,14.925986,14.990587,14.990587,14.990587,14.990587,14.868222,14.868222,14.810911,14.810911,14.953541,14.933236,14.933236,14.816807,15.043869,15.043869,15.043869,15.043869,15.043869,15.043869,15.043869,14.975331,14.975331,14.832868,14.832868,14.832868,14.832868,14.832868,14.832868,14.832868,14.832868,14.832868,14.832868,14.832868,14.769109,14.769109,14.769109,14.769109,14.769109,14.769109,14.769109,14.769109,14.769109,14.769109,14.769109,14.769109,14.769109,14.769109,14.846904,14.846904,14.846904,14.789589,14.825894,14.82199,14.82199,14.82199,14.82199,14.82199,14.82199,14.82199,14.877106,14.877106,14.877106,14.877106,14.877106,14.877106,14.99623,14.99623,14.99623,14.99623,14.99623,14.99623,15.046102,15.046102,15.046102,14.957808,14.957808,14.957808,14.957808,14.957808,14.957808,14.957808,14.957808,15.039684,15.039684,14.783272,14.783272,14.783272,14.783272,14.825894,14.990587,14.961157,14.973723,14.973723,15.052481,15.052481,15.036874,15.106919,14.956603,14.846525,14.82055,14.957243,14.829458,15.032455,14.886872,14.809701,14.832046,14.918042,14.880754,14.867475,15.124393,14.991214,14.886872,14.82055,14.880627,14.886872,14.832333,15.081493,15.081493,14.927675,14.846525,14.832046,14.961504,14.752969,14.752969,14.830503,15.02479,14.824782,14.775339,14.956603,14.775339,15.024179,14.922583,14.994246,14.867475,14.994246,14.882418,14.824782,15.036874,14.867475,14.950137,14.790662,14.792886,14.878085,14.911503,14.880627,14.882418,14.922583,14.790662,14.882418,14.950137,14.792886,14.880627,14.882418,14.790662,14.883131,14.882418,14.950137,14.790662,14.882418,14.911503,14.790662,14.790662,14.830503,15.024179,15.02479,14.911503,14.914735,14.880754,14.880754,15.081493,14.998522,15.004707,15.004707,14.829458,14.925377,14.830123,14.956603,14.886872,14.961504,14.878085,15.024179,14.904608,14.880754,14.886872,15.106919,14.832333,14.880754,14.824782,14.958712,14.792886,14.867475,14.844739,14.886872,15.004707,14.886872,14.82055,14.927675,14.979193,14.867475,14.867475,14.822287,14.998522,14.878085,14.880754,14.792886,15.036874,14.844739,14.991214,15.032455,14.886872,14.846525,14.994159,14.829458,14.867475,15.124393,14.830123,14.878085,14.752969,14.981519,14.832333,14.880754,14.790662,14.809701,14.950137,14.832046,14.882418,14.918042,14.880627,14.809701,15.032455,14.752969,14.752969,14.880754,14.882418,14.844739,14.835395,14.956603,14.886872,14.846525,14.950137,14.830123,14.790662,14.927675,14.809701,14.775339,14.792886,14.878085,14.867475,14.937332,14.961504,14.994159,15.02479,14.911503,14.832046,14.880627,14.882418,14.926227,14.981519,14.875199,14.922583,14.991214,15.124393,14.829458,14.958712,14.832333,14.783272,14.790662,15.02581,14.82055,14.82055,14.832046,14.824782,14.918042,14.82055,14.880627,14.925377,14.961504,14.990587,14.880627,15.081493,14.880627,14.994246,14.979193,14.844739,14.809701,14.956603,14.886872,14.846525,14.830503,14.950137,14.830123,14.790662,14.809701,14.775339,14.792886,14.827442,15.024179,14.878085,14.867475,14.961504,14.994159,15.02479,14.832046,14.880627,14.882418,14.904608,15.02581,15.063642,14.981519,14.922583,14.991214,15.124393,14.829458,14.958712,14.832333,14.790662,14.82055,14.82055,14.832046,14.809701,14.957243,14.979193,14.882418,15.081493,14.925377,14.832046,14.882418,14.830503,14.880627,14.914735,14.880754,14.880754,14.880754,14.882418,14.994159,14.956603,14.950137,14.883131,14.830123,14.809701,14.878085,14.937332,14.880627,14.904608,15.063642,14.832333,14.790662,15.02581,15.02581,14.82055,14.82055,14.956603,14.790662,14.790662,15.02581,14.775339,14.880627,14.973723,14.883131,14.973723,14.973723,15.02581,14.886872,14.830123,14.925377,14.882418,14.994246,14.832046,14.867475,14.882418,14.832046,14.918042,14.880754,14.918042,14.832046,14.918042,14.880754,14.867475,14.882418,15.032455,15.032455,15.032455,15.032455,14.994246,14.880754,14.998522,14.979193,14.998522,14.867475,15.032455,14.832046,14.832046,14.832046,14.832046,14.846525,14.832046,15.106919,14.991214,14.844739,14.882418,14.882418,14.882418,14.882418,14.832046,14.832046,14.994159,14.832046,15.036874,14.832046,15.032455,14.832046,14.922583,14.994246,14.832333,14.824782,14.878085,14.867475,14.880754,14.958712,14.880627,14.880627,14.880627,14.882418,14.880754,14.822287,14.734797,15.081493,14.958712,14.958712,14.867475,14.846525,15.032455,14.867475,15.032455,15.024179,14.867475,14.825894,15.036874,14.880627,15.124393,14.950137,14.998522,14.867475,14.846525,15.036874,14.832046,14.832046,14.832046,14.832046,14.832046,15.032455,14.829458,14.832046,14.994246,14.882418,15.036874,15.032455,14.994159,14.880754,15.032455,14.994246,14.867475,14.867475,15.081493,15.036874,14.998522,15.024179,14.880627,14.867475,14.775339,14.882418,15.106919,14.994246,14.882418,14.844739,14.994159,14.994159,15.032455,15.004707,15.004707,14.994246,14.886872,14.880627,14.880627,14.822287,14.882418,14.867475,14.829458,14.867475,14.925377,15.032455,14.835395,14.882418,15.081493,15.032455,14.867475,14.882418,14.82055,14.979193,14.882418,14.830123,14.880627,14.880627,14.956603,14.846525,14.830503,14.957243,15.106919,14.790662,14.809701,14.792886,15.024179,14.973814,14.878085,14.867475,14.937332,15.02479,14.880627,14.882418,14.925986,14.926227,14.981519,14.922583,15.124393,14.958712,14.832333,14.790662,14.925377,14.991214,14.957243,14.878085,14.961157,15.02581,14.886872,14.830503,14.950137,14.883131,14.957243,14.830123,15.05795,14.878085,14.918042,15.124393,14.886872,15.02581,15.02581,14.961504,14.957243,14.918042,14.994246,14.822287,14.880754,14.825894,14.824782,15.106919,15.081493,15.004707,14.824782,14.994246,14.832333,14.734797,14.734797,14.734797,14.734797,14.734797,14.882418,14.882418,14.822287,14.994159,14.824782,14.824782,14.822287,14.822287,14.824782,14.882418,14.882418,14.832046,14.918042,14.958712,14.832046,14.918042,14.757079,15.036874,15.099102,14.811549,14.885117,14.825111,14.885117,14.927675,14.883131,14.851839,14.851839,14.851839,14.851839,14.883131,14.851839,14.883131,14.851839,14.825111,15.099102,14.811549,14.851839,15.099102,14.867475,14.885117,14.811549,14.961157,14.885117,14.883131,14.961157,14.851839,14.885117,14.904608,14.811549,15.099102,15.020842,14.851839,14.885117,14.811549,14.851839,14.851839,14.885117,14.851839,14.851839,15.099102,15.020842,15.020842,15.099102,15.081493,14.838032,14.838032,15.099102,14.825111,14.825111,15.099102,15.099102,14.994339,14.851839,14.885117,14.918042,14.961157,15.081493,14.825111,14.885117,15.099102],\"marker\":{\"color\":\"#EF553B\"},\"mode\":\"markers\",\"name\":\"Avellino\",\"showlegend\":true,\"subplot\":\"mapbox\",\"type\":\"scattermapbox\"},{\"customdata\":[[\"Torrecuso\",\"Benevento\"],[\"Torrecuso\",\"Benevento\"],[\"Torrecuso\",\"Benevento\"],[\"Foglianise\",\"Benevento\"],[\"Montesarchio\",\"Benevento\"],[\"Torrecuso\",\"Benevento\"],[\"Ponte\",\"Benevento\"],[\"Ponte\",\"Benevento\"],[\"Ponte\",\"Benevento\"],[\"Torrecuso\",\"Benevento\"],[\"Torrecuso\",\"Benevento\"],[\"Torrecuso\",\"Benevento\"],[\"Torrecuso\",\"Benevento\"],[\"Torrecuso\",\"Benevento\"],[\"Torrecuso\",\"Benevento\"],[\"Guardia Sanframondi\",\"Benevento\"],[\"Guardia Sanframondi\",\"Benevento\"],[\"Guardia Sanframondi\",\"Benevento\"],[\"Guardia Sanframondi\",\"Benevento\"],[\"Guardia Sanframondi\",\"Benevento\"],[\"Paduli\",\"Benevento\"],[\"Paduli\",\"Benevento\"],[\"Paduli\",\"Benevento\"],[\"Paduli\",\"Benevento\"],[\"Torrecuso\",\"Benevento\"],[\"Torrecuso\",\"Benevento\"],[\"San Lupo\",\"Benevento\"],[\"San Lupo\",\"Benevento\"],[\"San Lupo\",\"Benevento\"],[\"San Lupo\",\"Benevento\"],[\"San Lupo\",\"Benevento\"],[\"Benevento\",\"Benevento\"],[\"San Lorenzello\",\"Benevento\"],[\"San Lorenzello\",\"Benevento\"],[\"San Lorenzello\",\"Benevento\"],[\"Torrecuso\",\"Benevento\"],[\"Torrecuso\",\"Benevento\"],[\"Torrecuso\",\"Benevento\"],[\"Torrecuso\",\"Benevento\"],[\"Torrecuso\",\"Benevento\"],[\"Solopaca\",\"Benevento\"],[\"Solopaca\",\"Benevento\"],[\"Solopaca\",\"Benevento\"],[\"Solopaca\",\"Benevento\"],[\"Solopaca\",\"Benevento\"],[\"Solopaca\",\"Benevento\"],[\"Solopaca\",\"Benevento\"],[\"Solopaca\",\"Benevento\"],[\"Solopaca\",\"Benevento\"],[\"Guardia Sanframondi\",\"Benevento\"],[\"Torrecuso\",\"Benevento\"],[\"Frasso Telesino\",\"Benevento\"],[\"Vitulano\",\"Benevento\"],[\"Ceppaloni\",\"Benevento\"],[\"Torrecuso\",\"Benevento\"],[\"Guardia Sanframondi\",\"Benevento\"],[\"Guardia Sanframondi\",\"Benevento\"],[\"Vitulano\",\"Benevento\"],[\"Casalduni\",\"Benevento\"],[\"Guardia Sanframondi\",\"Benevento\"],[\"Torrecuso\",\"Benevento\"],[\"Castelvenere\",\"Benevento\"],[\"Solopaca\",\"Benevento\"],[\"Frasso Telesino\",\"Benevento\"],[\"Torrecuso\",\"Benevento\"],[\"Faicchio\",\"Benevento\"],[\"Torrecuso\",\"Benevento\"],[\"Castelvenere\",\"Benevento\"],[\"Solopaca\",\"Benevento\"],[\"Solopaca\",\"Benevento\"],[\"Castelvenere\",\"Benevento\"],[\"Castelvenere\",\"Benevento\"],[\"Guardia Sanframondi\",\"Benevento\"],[\"Guardia Sanframondi\",\"Benevento\"],[\"Castelvenere\",\"Benevento\"],[\"Ceppaloni\",\"Benevento\"],[\"Castelvenere\",\"Benevento\"],[\"Torrecuso\",\"Benevento\"],[\"Torrecuso\",\"Benevento\"],[\"Torrecuso\",\"Benevento\"],[\"Torrecuso\",\"Benevento\"],[\"Torrecuso\",\"Benevento\"],[\"Torrecuso\",\"Benevento\"],[\"Torrecuso\",\"Benevento\"],[\"Guardia Sanframondi\",\"Benevento\"],[\"Faicchio\",\"Benevento\"],[\"Telese Terme\",\"Benevento\"],[\"Torrecuso\",\"Benevento\"],[\"Torrecuso\",\"Benevento\"],[\"Torrecuso\",\"Benevento\"],[\"Castelvenere\",\"Benevento\"],[\"Castelvenere\",\"Benevento\"],[\"Solopaca\",\"Benevento\"],[\"Faicchio\",\"Benevento\"],[\"Castelvenere\",\"Benevento\"],[\"Solopaca\",\"Benevento\"],[\"Telese Terme\",\"Benevento\"],[\"Castelvenere\",\"Benevento\"],[\"Dugenta\",\"Benevento\"],[\"Guardia Sanframondi\",\"Benevento\"],[\"Guardia Sanframondi\",\"Benevento\"],[\"Solopaca\",\"Benevento\"],[\"Ponte\",\"Benevento\"],[\"Ponte\",\"Benevento\"],[\"Guardia Sanframondi\",\"Benevento\"],[\"Torrecuso\",\"Benevento\"],[\"Ceppaloni\",\"Benevento\"],[\"Sant'Agata de' Goti\",\"Benevento\"],[\"Torrecuso\",\"Benevento\"],[\"Guardia Sanframondi\",\"Benevento\"],[\"Castelvenere\",\"Benevento\"],[\"Ceppaloni\",\"Benevento\"],[\"Castelvenere\",\"Benevento\"],[\"Castelvenere\",\"Benevento\"],[\"Castelvenere\",\"Benevento\"],[\"Faicchio\",\"Benevento\"],[\"Castelvenere\",\"Benevento\"],[\"Solopaca\",\"Benevento\"],[\"Castelvenere\",\"Benevento\"],[\"Solopaca\",\"Benevento\"],[\"Solopaca\",\"Benevento\"],[\"Castelvenere\",\"Benevento\"],[\"Torrecuso\",\"Benevento\"],[\"Torrecuso\",\"Benevento\"],[\"Torrecuso\",\"Benevento\"],[\"Solopaca\",\"Benevento\"],[\"Solopaca\",\"Benevento\"],[\"Torrecuso\",\"Benevento\"],[\"Montesarchio\",\"Benevento\"],[\"Castelvenere\",\"Benevento\"],[\"Castelvenere\",\"Benevento\"],[\"Ponte\",\"Benevento\"],[\"Guardia Sanframondi\",\"Benevento\"],[\"Vitulano\",\"Benevento\"],[\"Solopaca\",\"Benevento\"],[\"Torrecuso\",\"Benevento\"],[\"Cautano\",\"Benevento\"],[\"Cautano\",\"Benevento\"],[\"Torrecuso\",\"Benevento\"],[\"Torrecuso\",\"Benevento\"],[\"Guardia Sanframondi\",\"Benevento\"],[\"Guardia Sanframondi\",\"Benevento\"],[\"Benevento\",\"Benevento\"],[\"Solopaca\",\"Benevento\"],[\"Benevento\",\"Benevento\"],[\"Montesarchio\",\"Benevento\"],[\"Frasso Telesino\",\"Benevento\"],[\"Ponte\",\"Benevento\"],[\"Solopaca\",\"Benevento\"],[\"Solopaca\",\"Benevento\"],[\"Guardia Sanframondi\",\"Benevento\"],[\"Castelvenere\",\"Benevento\"],[\"Bonea\",\"Benevento\"],[\"Benevento\",\"Benevento\"],[\"Casalduni\",\"Benevento\"],[\"Vitulano\",\"Benevento\"],[\"Torrecuso\",\"Benevento\"],[\"Guardia Sanframondi\",\"Benevento\"],[\"Castelvenere\",\"Benevento\"],[\"Castelvenere\",\"Benevento\"],[\"Castelvenere\",\"Benevento\"],[\"Ceppaloni\",\"Benevento\"],[\"Guardia Sanframondi\",\"Benevento\"],[\"Faicchio\",\"Benevento\"],[\"Solopaca\",\"Benevento\"],[\"Faicchio\",\"Benevento\"],[\"Castelvenere\",\"Benevento\"],[\"Solopaca\",\"Benevento\"],[\"Castelvenere\",\"Benevento\"],[\"Castelvenere\",\"Benevento\"],[\"Castelvenere\",\"Benevento\"],[\"Guardia Sanframondi\",\"Benevento\"],[\"Solopaca\",\"Benevento\"],[\"Guardia Sanframondi\",\"Benevento\"],[\"Ponte\",\"Benevento\"],[\"Castelvenere\",\"Benevento\"],[\"Ponte\",\"Benevento\"],[\"Ponte\",\"Benevento\"],[\"Ponte\",\"Benevento\"],[\"Torrecuso\",\"Benevento\"],[\"Castelvenere\",\"Benevento\"],[\"Frasso Telesino\",\"Benevento\"],[\"Sant'Agata de' Goti\",\"Benevento\"],[\"Montesarchio\",\"Benevento\"],[\"Torrecuso\",\"Benevento\"],[\"Dugenta\",\"Benevento\"],[\"Frasso Telesino\",\"Benevento\"],[\"Castelvenere\",\"Benevento\"],[\"Guardia Sanframondi\",\"Benevento\"],[\"Guardia Sanframondi\",\"Benevento\"],[\"Casalduni\",\"Benevento\"],[\"Vitulano\",\"Benevento\"],[\"Guardia Sanframondi\",\"Benevento\"],[\"Solopaca\",\"Benevento\"],[\"Torrecuso\",\"Benevento\"],[\"Faicchio\",\"Benevento\"],[\"Torrecuso\",\"Benevento\"],[\"Castelvenere\",\"Benevento\"],[\"Solopaca\",\"Benevento\"],[\"Solopaca\",\"Benevento\"],[\"Castelvenere\",\"Benevento\"],[\"Castelvenere\",\"Benevento\"],[\"Castelvenere\",\"Benevento\"],[\"Guardia Sanframondi\",\"Benevento\"],[\"Guardia Sanframondi\",\"Benevento\"],[\"Castelvenere\",\"Benevento\"],[\"Ceppaloni\",\"Benevento\"],[\"Castelvenere\",\"Benevento\"],[\"Castelvenere\",\"Benevento\"],[\"Solopaca\",\"Benevento\"],[\"Frasso Telesino\",\"Benevento\"],[\"Torrecuso\",\"Benevento\"],[\"Castelvenere\",\"Benevento\"],[\"Guardia Sanframondi\",\"Benevento\"],[\"Solopaca\",\"Benevento\"],[\"Castelvenere\",\"Benevento\"],[\"Solopaca\",\"Benevento\"],[\"Solopaca\",\"Benevento\"],[\"Torrecuso\",\"Benevento\"],[\"Castelvenere\",\"Benevento\"],[\"Torrecuso\",\"Benevento\"],[\"Castelvenere\",\"Benevento\"],[\"Guardia Sanframondi\",\"Benevento\"],[\"Faicchio\",\"Benevento\"],[\"Castelvenere\",\"Benevento\"],[\"Faicchio\",\"Benevento\"],[\"Torrecuso\",\"Benevento\"],[\"Telese Terme\",\"Benevento\"],[\"Torrecuso\",\"Benevento\"],[\"Guardia Sanframondi\",\"Benevento\"],[\"Castelvenere\",\"Benevento\"],[\"Guardia Sanframondi\",\"Benevento\"],[\"Solopaca\",\"Benevento\"],[\"Faicchio\",\"Benevento\"],[\"Torrecuso\",\"Benevento\"],[\"Montesarchio\",\"Benevento\"],[\"Guardia Sanframondi\",\"Benevento\"],[\"Casalduni\",\"Benevento\"],[\"Guardia Sanframondi\",\"Benevento\"],[\"Castelvenere\",\"Benevento\"],[\"Castelvenere\",\"Benevento\"],[\"Castelvenere\",\"Benevento\"],[\"Castelvenere\",\"Benevento\"],[\"Guardia Sanframondi\",\"Benevento\"],[\"Torrecuso\",\"Benevento\"],[\"Torrecuso\",\"Benevento\"],[\"Castelvenere\",\"Benevento\"],[\"Guardia Sanframondi\",\"Benevento\"],[\"Castelvenere\",\"Benevento\"],[\"Solopaca\",\"Benevento\"],[\"Faicchio\",\"Benevento\"],[\"Castelvenere\",\"Benevento\"],[\"Solopaca\",\"Benevento\"],[\"Solopaca\",\"Benevento\"],[\"Frasso Telesino\",\"Benevento\"],[\"Guardia Sanframondi\",\"Benevento\"],[\"Frasso Telesino\",\"Benevento\"],[\"Frasso Telesino\",\"Benevento\"],[\"Guardia Sanframondi\",\"Benevento\"],[\"Bonea\",\"Benevento\"],[\"Torrecuso\",\"Benevento\"],[\"Guardia Sanframondi\",\"Benevento\"],[\"Torrecuso\",\"Benevento\"],[\"Ponte\",\"Benevento\"],[\"Torrecuso\",\"Benevento\"],[\"Torrecuso\",\"Benevento\"],[\"Sant'Agata de' Goti\",\"Benevento\"],[\"Dugenta\",\"Benevento\"],[\"Castelvenere\",\"Benevento\"],[\"Montesarchio\",\"Benevento\"],[\"Guardia Sanframondi\",\"Benevento\"],[\"Guardia Sanframondi\",\"Benevento\"],[\"Faicchio\",\"Benevento\"],[\"Castelvenere\",\"Benevento\"],[\"Castelvenere\",\"Benevento\"],[\"Castelvenere\",\"Benevento\"],[\"Castelvenere\",\"Benevento\"],[\"Castelvenere\",\"Benevento\"],[\"Guardia Sanframondi\",\"Benevento\"],[\"Ceppaloni\",\"Benevento\"],[\"Castelvenere\",\"Benevento\"],[\"Torrecuso\",\"Benevento\"],[\"Torrecuso\",\"Benevento\"],[\"Castelvenere\",\"Benevento\"],[\"Castelvenere\",\"Benevento\"],[\"Guardia Sanframondi\",\"Benevento\"],[\"Castelvenere\",\"Benevento\"],[\"Solopaca\",\"Benevento\"],[\"Solopaca\",\"Benevento\"],[\"Solopaca\",\"Benevento\"],[\"Guardia Sanframondi\",\"Benevento\"],[\"Guardia Sanframondi\",\"Benevento\"],[\"Guardia Sanframondi\",\"Benevento\"],[\"Dugenta\",\"Benevento\"],[\"Dugenta\",\"Benevento\"],[\"Ponte\",\"Benevento\"],[\"Solopaca\",\"Benevento\"],[\"Montesarchio\",\"Benevento\"],[\"Torrecuso\",\"Benevento\"],[\"Torrecuso\",\"Benevento\"],[\"Guardia Sanframondi\",\"Benevento\"],[\"Montesarchio\",\"Benevento\"],[\"Guardia Sanframondi\",\"Benevento\"],[\"Guardia Sanframondi\",\"Benevento\"],[\"Torrecuso\",\"Benevento\"],[\"Dugenta\",\"Benevento\"],[\"Solopaca\",\"Benevento\"],[\"Castelvenere\",\"Benevento\"],[\"Dugenta\",\"Benevento\"],[\"Dugenta\",\"Benevento\"],[\"Dugenta\",\"Benevento\"],[\"Castelvenere\",\"Benevento\"],[\"Faicchio\",\"Benevento\"],[\"Faicchio\",\"Benevento\"],[\"Castelvenere\",\"Benevento\"],[\"Guardia Sanframondi\",\"Benevento\"],[\"Ceppaloni\",\"Benevento\"],[\"Torrecuso\",\"Benevento\"],[\"Torrecuso\",\"Benevento\"],[\"Torrecuso\",\"Benevento\"],[\"Guardia Sanframondi\",\"Benevento\"],[\"Torrecuso\",\"Benevento\"],[\"Solopaca\",\"Benevento\"],[\"Guardia Sanframondi\",\"Benevento\"],[\"Frasso Telesino\",\"Benevento\"],[\"Castelvenere\",\"Benevento\"],[\"Guardia Sanframondi\",\"Benevento\"],[\"Guardia Sanframondi\",\"Benevento\"],[\"Solopaca\",\"Benevento\"],[\"Torrecuso\",\"Benevento\"],[\"Guardia Sanframondi\",\"Benevento\"],[\"Castelvenere\",\"Benevento\"],[\"Casalduni\",\"Benevento\"],[\"Castelvenere\",\"Benevento\"],[\"Castelvenere\",\"Benevento\"],[\"Solopaca\",\"Benevento\"],[\"Castelvenere\",\"Benevento\"],[\"Cautano\",\"Benevento\"],[\"Guardia Sanframondi\",\"Benevento\"],[\"Torrecuso\",\"Benevento\"],[\"Guardia Sanframondi\",\"Benevento\"],[\"Ceppaloni\",\"Benevento\"],[\"Montesarchio\",\"Benevento\"],[\"Torrecuso\",\"Benevento\"],[\"Castelvenere\",\"Benevento\"],[\"Torrecuso\",\"Benevento\"],[\"Castelvenere\",\"Benevento\"],[\"Frasso Telesino\",\"Benevento\"],[\"Castelvenere\",\"Benevento\"],[\"Ceppaloni\",\"Benevento\"],[\"Guardia Sanframondi\",\"Benevento\"],[\"Telese Terme\",\"Benevento\"],[\"Montesarchio\",\"Benevento\"],[\"Ponte\",\"Benevento\"],[\"Guardia Sanframondi\",\"Benevento\"],[\"Dugenta\",\"Benevento\"],[\"Frasso Telesino\",\"Benevento\"],[\"Casalduni\",\"Benevento\"],[\"Torrecuso\",\"Benevento\"],[\"Guardia Sanframondi\",\"Benevento\"],[\"Guardia Sanframondi\",\"Benevento\"],[\"Benevento\",\"Benevento\"],[\"Ceppaloni\",\"Benevento\"],[\"Solopaca\",\"Benevento\"],[\"Frasso Telesino\",\"Benevento\"],[\"Castelvenere\",\"Benevento\"],[\"Castelvenere\",\"Benevento\"],[\"Guardia Sanframondi\",\"Benevento\"],[\"Faicchio\",\"Benevento\"],[\"Faicchio\",\"Benevento\"],[\"Castelvenere\",\"Benevento\"],[\"Castelvenere\",\"Benevento\"],[\"Guardia Sanframondi\",\"Benevento\"],[\"Solopaca\",\"Benevento\"],[\"Solopaca\",\"Benevento\"],[\"Ponte\",\"Benevento\"],[\"Dugenta\",\"Benevento\"],[\"Guardia Sanframondi\",\"Benevento\"],[\"Castelvenere\",\"Benevento\"],[\"Torrecuso\",\"Benevento\"],[\"Castelvenere\",\"Benevento\"],[\"Ponte\",\"Benevento\"],[\"Dugenta\",\"Benevento\"],[\"Torrecuso\",\"Benevento\"],[\"Solopaca\",\"Benevento\"],[\"Bonea\",\"Benevento\"],[\"Solopaca\",\"Benevento\"],[\"Frasso Telesino\",\"Benevento\"],[\"Solopaca\",\"Benevento\"],[\"Guardia Sanframondi\",\"Benevento\"],[\"Torrecuso\",\"Benevento\"],[\"Telese Terme\",\"Benevento\"],[\"Frasso Telesino\",\"Benevento\"],[\"Guardia Sanframondi\",\"Benevento\"],[\"Castelvenere\",\"Benevento\"],[\"Torrecuso\",\"Benevento\"],[\"Torrecuso\",\"Benevento\"],[\"Torrecuso\",\"Benevento\"],[\"Guardia Sanframondi\",\"Benevento\"],[\"Ceppaloni\",\"Benevento\"],[\"Frasso Telesino\",\"Benevento\"],[\"Ceppaloni\",\"Benevento\"],[\"Castelvenere\",\"Benevento\"],[\"Telese Terme\",\"Benevento\"],[\"Guardia Sanframondi\",\"Benevento\"],[\"Torrecuso\",\"Benevento\"],[\"Castelvenere\",\"Benevento\"],[\"Guardia Sanframondi\",\"Benevento\"],[\"Torrecuso\",\"Benevento\"],[\"Guardia Sanframondi\",\"Benevento\"],[\"Torrecuso\",\"Benevento\"],[\"Bonea\",\"Benevento\"],[\"Castelvenere\",\"Benevento\"],[\"Torrecuso\",\"Benevento\"],[\"Guardia Sanframondi\",\"Benevento\"],[\"Castelvenere\",\"Benevento\"],[\"Torrecuso\",\"Benevento\"],[\"Castelvenere\",\"Benevento\"],[\"Guardia Sanframondi\",\"Benevento\"],[\"Castelvenere\",\"Benevento\"],[\"Casalduni\",\"Benevento\"],[\"Guardia Sanframondi\",\"Benevento\"],[\"Guardia Sanframondi\",\"Benevento\"],[\"Bonea\",\"Benevento\"],[\"Torrecuso\",\"Benevento\"],[\"Telese Terme\",\"Benevento\"],[\"Telese Terme\",\"Benevento\"],[\"Faicchio\",\"Benevento\"],[\"Faicchio\",\"Benevento\"],[\"Telese Terme\",\"Benevento\"],[\"Telese Terme\",\"Benevento\"],[\"Solopaca\",\"Benevento\"],[\"Solopaca\",\"Benevento\"],[\"Castelvenere\",\"Benevento\"],[\"Solopaca\",\"Benevento\"],[\"Telese Terme\",\"Benevento\"],[\"Telese Terme\",\"Benevento\"],[\"Telese Terme\",\"Benevento\"],[\"Telese Terme\",\"Benevento\"],[\"Solopaca\",\"Benevento\"],[\"Faicchio\",\"Benevento\"],[\"Faicchio\",\"Benevento\"],[\"Telese Terme\",\"Benevento\"],[\"Telese Terme\",\"Benevento\"],[\"Solopaca\",\"Benevento\"],[\"Solopaca\",\"Benevento\"],[\"Castelvenere\",\"Benevento\"],[\"Solopaca\",\"Benevento\"],[\"Torrecuso\",\"Benevento\"],[\"Telese Terme\",\"Benevento\"],[\"Faicchio\",\"Benevento\"],[\"Faicchio\",\"Benevento\"],[\"Guardia Sanframondi\",\"Benevento\"],[\"Guardia Sanframondi\",\"Benevento\"],[\"Montesarchio\",\"Benevento\"],[\"Paupisi\",\"Benevento\"],[\"Cautano\",\"Benevento\"],[\"Cautano\",\"Benevento\"],[\"Torrecuso\",\"Benevento\"],[\"Torrecuso\",\"Benevento\"],[\"Torrecuso\",\"Benevento\"],[\"Torrecuso\",\"Benevento\"],[\"Torrecuso\",\"Benevento\"],[\"Castelvenere\",\"Benevento\"],[\"Bonea\",\"Benevento\"],[\"Torrecuso\",\"Benevento\"],[\"Castelvenere\",\"Benevento\"],[\"Castelvenere\",\"Benevento\"],[\"Guardia Sanframondi\",\"Benevento\"],[\"Guardia Sanframondi\",\"Benevento\"],[\"Torrecuso\",\"Benevento\"],[\"Frasso Telesino\",\"Benevento\"],[\"Torrecuso\",\"Benevento\"],[\"Castelvenere\",\"Benevento\"],[\"Guardia Sanframondi\",\"Benevento\"],[\"Vitulano\",\"Benevento\"],[\"Torrecuso\",\"Benevento\"],[\"Castelvenere\",\"Benevento\"],[\"Castelvenere\",\"Benevento\"],[\"Sant'Agata de' Goti\",\"Benevento\"],[\"Sant'Agata de' Goti\",\"Benevento\"],[\"Torrecuso\",\"Benevento\"],[\"Torrecuso\",\"Benevento\"],[\"Ponte\",\"Benevento\"],[\"Ponte\",\"Benevento\"],[\"Castelvenere\",\"Benevento\"],[\"Ponte\",\"Benevento\"],[\"Ponte\",\"Benevento\"],[\"Torrecuso\",\"Benevento\"],[\"Frasso Telesino\",\"Benevento\"],[\"Ceppaloni\",\"Benevento\"],[\"Torrecuso\",\"Benevento\"],[\"Ponte\",\"Benevento\"],[\"Ponte\",\"Benevento\"],[\"Torrecuso\",\"Benevento\"],[\"Castelvenere\",\"Benevento\"],[\"Paupisi\",\"Benevento\"],[\"Castelvenere\",\"Benevento\"],[\"Guardia Sanframondi\",\"Benevento\"],[\"Torrecuso\",\"Benevento\"],[\"Guardia Sanframondi\",\"Benevento\"],[\"Torrecuso\",\"Benevento\"],[\"Torrecuso\",\"Benevento\"],[\"Torrecuso\",\"Benevento\"],[\"Paupisi\",\"Benevento\"],[\"Torrecuso\",\"Benevento\"],[\"Guardia Sanframondi\",\"Benevento\"],[\"Torrecuso\",\"Benevento\"],[\"Paupisi\",\"Benevento\"],[\"Torrecuso\",\"Benevento\"],[\"Torrecuso\",\"Benevento\"],[\"Castelvenere\",\"Benevento\"],[\"Torrecuso\",\"Benevento\"],[\"Torrecuso\",\"Benevento\"],[\"Torrecuso\",\"Benevento\"],[\"Guardia Sanframondi\",\"Benevento\"],[\"Castelvenere\",\"Benevento\"],[\"Paupisi\",\"Benevento\"],[\"Paupisi\",\"Benevento\"],[\"Torrecuso\",\"Benevento\"],[\"Paupisi\",\"Benevento\"],[\"Castelvenere\",\"Benevento\"],[\"Torrecuso\",\"Benevento\"],[\"Torrecuso\",\"Benevento\"],[\"Castelvenere\",\"Benevento\"],[\"Torrecuso\",\"Benevento\"],[\"Torrecuso\",\"Benevento\"],[\"Paupisi\",\"Benevento\"],[\"Torrecuso\",\"Benevento\"],[\"Frasso Telesino\",\"Benevento\"],[\"Torrecuso\",\"Benevento\"],[\"Castelvenere\",\"Benevento\"],[\"Paupisi\",\"Benevento\"],[\"Ponte\",\"Benevento\"],[\"Ponte\",\"Benevento\"],[\"Benevento\",\"Benevento\"],[\"Torrecuso\",\"Benevento\"],[\"Castelvenere\",\"Benevento\"],[\"Paupisi\",\"Benevento\"],[\"Castelvenere\",\"Benevento\"],[\"Torrecuso\",\"Benevento\"],[\"Paupisi\",\"Benevento\"]],\"hovertemplate\":\"<b>%{hovertext}</b><br><br>prov=%{customdata[1]}<br>lat=%{lat}<br>long=%{lon}<br>lau=%{customdata[0]}<extra></extra>\",\"hovertext\":[\"Cantine Iannella\",\"Fontanavecchia\",\"Cantine Iannella\",\"Cantina del Taburno\",\"Azienda Vitivinicola Masseria Frattasi\",\"Fontanavecchia\",\"Nifo Sarrapochiello Vini\",\"Nifo Sarrapochiello Vini\",\"Nifo Sarrapochiello Vini\",\"Cantine Iannella\",\"Cantine Iannella\",\"Cantine Iannella\",\"Cantine Iannella\",\"Cantine Iannella\",\"Cantine Iannella\",\"Aia dei Colombi\",\"Aia dei Colombi\",\"Aia dei Colombi\",\"Aia dei Colombi\",\"Aia dei Colombi\",\"Rossovermiglio\",\"Rossovermiglio\",\"Rossovermiglio\",\"Rossovermiglio\",\"Cantine Iannella\",\"Fattoria La Rivolta\",\"Vini Orsini\",\"Vini Orsini\",\"Vini Orsini\",\"Vini Orsini\",\"Vini Orsini\",\"Fattoria Monserrato\",\"Taffuri Pouchain\",\"Taffuri Pouchain\",\"Taffuri Pouchain\",\"Terre Longobarde\",\"Terre Longobarde\",\"Terre Longobarde\",\"Terre Longobarde\",\"Terre Longobarde\",\"Masseria Vigne Vecchie\",\"Masseria Vigne Vecchie\",\"Masseria Vigne Vecchie\",\"Masseria Vigne Vecchie\",\"Masseria Vigne Vecchie\",\"Masseria Vigne Vecchie\",\"Masseria Vigne Vecchie\",\"Masseria Vigne Vecchie\",\"Masseria Vigne Vecchie\",\"Aia dei Colombi\",\"Cantine Iannella\",\"De Fortuna\",\"Serra degli Ilici\",\"Rotola\",\"Torre dei Chiusi\",\"Vigne di Malies\",\"Corte Normanna\",\"Serra degli Ilici\",\"Terra di Briganti\",\"Wartalia\",\"Santiquaranta\",\"Ca' Stelle\",\"Cantina di Solopaca\",\"Cantine Fontanarosa\",\"La Dormiente\",\"La Vinicola del Titerno\",\"Torre Varano\",\"Vigne Sannite\",\"Cantina di Solopaca\",\"Cantina di Solopaca\",\"Vinicola del Sannio\",\"Vinicola del Sannio\",\"Corte Normanna\",\"Wartalia\",\"Fontana delle Selve\",\"Vinicola Barone\",\"Vigne Sannite\",\"Cantina La Fortezza\",\"Cantine Tora\",\"Cantine Tora\",\"La Dormiente\",\"Il Poggio\",\"Il Poggio\",\"La Dormiente\",\"La Guardiense\",\"La Vinicola del Titerno\",\"La Vinicola Del Vecchio\",\"Santiquaranta\",\"Cantina La Fortezza\",\"Torre dei Chiusi\",\"Ca' Stelle\",\"Ca' Stelle\",\"Cantina di Solopaca\",\"La Vinicola del Titerno\",\"Vinicola del Sannio\",\"Cantina di Solopaca\",\"La Vinicola Del Vecchio\",\"Vigne Sannite\",\"Torre Gaia\",\"Morone\",\"Morone\",\"Cantina di Solopaca\",\"Ocone\",\"Ocone\",\"Terre Stregate\",\"Torre dei Chiusi\",\"Rotola\",\"Cantine Ciervo\",\"Torre dei Chiusi\",\"Terre Stregate\",\"Antica Masseria Venditti\",\"Vinicola Barone\",\"Vinicola del Sannio\",\"Vinicola del Sannio\",\"Vinicola del Sannio\",\"La Vinicola del Titerno\",\"Ca' Stelle\",\"Cantina di Solopaca\",\"Vigne Sannite\",\"Cantina di Solopaca\",\"Cantina di Solopaca\",\"Antica Masseria Venditti\",\"Il Poggio\",\"Cantine Tora\",\"Il Poggio\",\"Cantina di Solopaca\",\"Cantina di Solopaca\",\"Torre a Oriente\",\"Masseria Frattasi\",\"Antica Masseria Venditti\",\"Vinicola del Sannio\",\"Ocone\",\"Vigne di Malies\",\"Serra degli Ilici\",\"Cantina di Solopaca\",\"Cantine Tora\",\"Terre Caudium\",\"Terre Caudium\",\"Cantine Tora\",\"Cantine Tora\",\"La Guardiense\",\"La Guardiense\",\"Oppida Aminea\",\"Cantina di Solopaca\",\"Oppida Aminea\",\"Masseria Frattasi\",\"De Fortuna\",\"Ocone\",\"Cantina di Solopaca\",\"Santimartini\",\"La Guardiense\",\"Fontana delle Selve\",\"Votino\",\"Oppida Aminea\",\"Terra di Briganti\",\"Serra degli Ilici\",\"Terre D'Aglianico\",\"Wartalia\",\"Vigne Sannite\",\"Vinicola del Sannio\",\"Vinicola del Sannio\",\"Vinicola Barone\",\"La Guardiense\",\"La Vinicola del Titerno\",\"Cantina di Solopaca\",\"La Vinicola del Titerno\",\"Vigne Sannite\",\"Cantina di Solopaca\",\"Vinicola del Sannio\",\"Fontana delle Selve\",\"Fontana delle Selve\",\"La Guardiense\",\"Cantina di Solopaca\",\"Cantine Foschini\",\"Caputalbus\",\"Vinicola del Sannio\",\"Ocone\",\"Caputalbus\",\"Ocone\",\"Torre a Oriente\",\"Fontana delle Selve\",\"Cautiero\",\"Cantine Ciervo\",\"Masseria Frattasi\",\"Terre D'Aglianico\",\"Torre Gaia\",\"Cautiero\",\"Vigne Sannite\",\"Terre Stregate\",\"Corte Normanna\",\"Terra di Briganti\",\"Serra degli Ilici\",\"Wartalia\",\"Cantina di Solopaca\",\"La Dormiente\",\"La Vinicola del Titerno\",\"Torre Varano\",\"Vigne Sannite\",\"Cantina di Solopaca\",\"Cantina di Solopaca\",\"Vinicola del Sannio\",\"Vinicola del Sannio\",\"Ca' Stelle\",\"Corte Normanna\",\"Wartalia\",\"Fontana delle Selve\",\"Vinicola Barone\",\"Torre Venere\",\"Ca' Stelle\",\"Cantina di Solopaca\",\"Cantine Fontanarosa\",\"Santiquaranta\",\"Vigne Sannite\",\"Cantine Foschini\",\"Cantina di Solopaca\",\"Vinicola del Sannio\",\"Cantina di Solopaca\",\"Cantina di Solopaca\",\"Torre Varano\",\"Vinicola del Sannio\",\"La Dormiente\",\"Vinicola del Sannio\",\"La Guardiense\",\"La Vinicola del Titerno\",\"Ca' Stelle\",\"La Vinicola del Titerno\",\"Cantina La Fortezza\",\"La Vinicola Del Vecchio\",\"Santiquaranta\",\"Corte Normanna\",\"Ca' Stelle\",\"Corte Normanna\",\"Cantina di Solopaca\",\"La Vinicola del Titerno\",\"Torre dei Chiusi\",\"Masseria Frattasi\",\"Corte Normanna\",\"Terra di Briganti\",\"Wartalia\",\"Vigne Sannite\",\"Fontana delle Selve\",\"Vinicola del Sannio\",\"Vinicola del Sannio\",\"Wartalia\",\"Cantine Iannella\",\"Cantine Tora\",\"Vinicola del Sannio\",\"La Guardiense\",\"Ca' Stelle\",\"Cantina di Solopaca\",\"La Vinicola del Titerno\",\"Vigne Sannite\",\"Cantina di Solopaca\",\"Cantina di Solopaca\",\"De Fortuna\",\"Morone\",\"Cautiero\",\"Cautiero\",\"Vigne di Malies\",\"Votino\",\"Torre dei Chiusi\",\"Terre Stregate\",\"Terre D'Aglianico\",\"Ocone\",\"Torre a Oriente\",\"Torre dei Chiusi\",\"Cantine Ciervo\",\"Torre Gaia\",\"Vinicola del Sannio\",\"Masseria Frattasi\",\"Corte Normanna\",\"Wartalia\",\"La Vinicola del Titerno\",\"Vigne Sannite\",\"Fontana delle Selve\",\"Vinicola del Sannio\",\"Vinicola del Sannio\",\"Vinicola del Sannio\",\"Wartalia\",\"Vinicola Barone\",\"Vigne Sannite\",\"Cantine Iannella\",\"Cantine Tora\",\"Vinicola del Sannio\",\"Vinicola del Sannio\",\"La Guardiense\",\"Ca' Stelle\",\"Cantina di Solopaca\",\"Cantina di Solopaca\",\"Cantina di Solopaca\",\"Corte Normanna\",\"Terre Stregate\",\"Terre Stregate\",\"Torre Gaia\",\"Torre Gaia\",\"Caputalbus\",\"Cantina di Solopaca\",\"Masseria Frattasi\",\"Cantine Tora\",\"Torre a Oriente\",\"Wartalia\",\"Masseria Frattasi\",\"Wartalia\",\"Wartalia\",\"Cantine Tora\",\"Torre Gaia\",\"Santimartini\",\"Ca' Stelle\",\"Torre Gaia\",\"Torre Gaia\",\"Torre Gaia\",\"Vinicola del Sannio\",\"La Vinicola del Titerno\",\"La Vinicola del Titerno\",\"Vinicola del Sannio\",\"La Guardiense\",\"Rotola\",\"Torre Varano\",\"Torre dei Chiusi\",\"La Dormiente\",\"La Guardiense\",\"Cantine Tora\",\"Cantina di Solopaca\",\"Terre Stregate\",\"De Fortuna\",\"Vinicola del Sannio\",\"Terre Stregate\",\"Terre Stregate\",\"Cantina di Solopaca\",\"La Dormiente\",\"Morone\",\"Antica Masseria Venditti\",\"Terra di Briganti\",\"Antica Masseria Venditti\",\"Antica Masseria Venditti\",\"Santimartini\",\"Vinicola del Sannio\",\"Terre Caudium\",\"Vigne di Malies\",\"Il Poggio\",\"Morone\",\"Rotola\",\"Masseria Frattasi\",\"Santiquaranta\",\"Vigne Sannite\",\"Santiquaranta\",\"Vinicola del Sannio\",\"De Fortuna\",\"Capolino Perlingieri\",\"Rotola\",\"Corte Normanna\",\"La Vinicola Del Vecchio\",\"Masseria Frattasi\",\"Ocone\",\"Vigne di Malies\",\"Torre Gaia\",\"Cantine Fontanarosa\",\"Terra di Briganti\",\"Cantine Tora\",\"Vigne di Malies\",\"Vigne di Malies\",\"Oppida Aminea\",\"Rotola\",\"Cantina di Solopaca\",\"Cautiero\",\"Vigne Sannite\",\"Vinicola del Sannio\",\"La Guardiense\",\"La Vinicola del Titerno\",\"La Vinicola del Titerno\",\"Vinicola del Sannio\",\"Vinicola del Sannio\",\"La Guardiense\",\"Santimartini\",\"Santimartini\",\"Ocone\",\"Torre Gaia\",\"Corte Normanna\",\"Capolino Perlingieri\",\"Il Poggio\",\"Ca' Stelle\",\"Caputalbus\",\"Torre Gaia\",\"Terre D'Aglianico\",\"Cantina di Solopaca\",\"Votino\",\"Cantina di Solopaca\",\"Cantine Fontanarosa\",\"Cantina di Solopaca\",\"La Guardiense\",\"Il Poggio\",\"La Vinicola Del Vecchio\",\"Cantine Fontanarosa\",\"Cantine Sebastianelli\",\"Fontana delle Selve\",\"Il Poggio\",\"Santiquaranta\",\"Terre D'Aglianico\",\"Cantine Sebastianelli\",\"Vinicola Barone\",\"Cantine Fontanarosa\",\"Fratelli Pugliese\",\"Torre Venere\",\"La Vinicola Del Vecchio\",\"Cantine Sebastianelli\",\"Terre D'Aglianico\",\"Fontana delle Selve\",\"Vigne di Malies\",\"Cantina La Fortezza\",\"Cantine Sebastianelli\",\"Il Poggio\",\"Votino\",\"Vinicola del Sannio\",\"Cantina La Fortezza\",\"Cantine Sebastianelli\",\"Vinicola del Sannio\",\"Santiquaranta\",\"Fontana delle Selve\",\"Cantine Foschini\",\"Capolino Perlingieri\",\"Terra di Briganti\",\"Terre Stregate\",\"La Guardiense\",\"Votino\",\"Torre a Oriente\",\"La Vinicola Del Vecchio\",\"La Vinicola Del Vecchio\",\"La Vinicola del Titerno\",\"La Vinicola del Titerno\",\"La Vinicola Del Vecchio\",\"La Vinicola Del Vecchio\",\"Cantina di Solopaca\",\"Cantina di Solopaca\",\"Vinicola del Sannio\",\"Cantina di Solopaca\",\"La Vinicola Del Vecchio\",\"La Vinicola Del Vecchio\",\"La Vinicola Del Vecchio\",\"La Vinicola Del Vecchio\",\"Cantina di Solopaca\",\"La Vinicola del Titerno\",\"La Vinicola del Titerno\",\"La Vinicola Del Vecchio\",\"La Vinicola Del Vecchio\",\"Cantina di Solopaca\",\"Cantina di Solopaca\",\"Vinicola del Sannio\",\"Cantina di Solopaca\",\"Torre a Oriente\",\"La Vinicola Del Vecchio\",\"La Vinicola del Titerno\",\"La Vinicola del Titerno\",\"Terre Stregate\",\"Terre Stregate\",\"Masseria Frattasi\",\"Torre del Pagus\",\"Terre Caudium\",\"Terre Caudium\",\"Il Poggio\",\"Cantine Tora\",\"Fontanavecchia\",\"Il Poggio\",\"Il Poggio\",\"Capolino Perlingieri\",\"Votino\",\"Terre D'Aglianico\",\"Vinicola del Sannio\",\"Fontana delle Selve\",\"Terre Stregate\",\"Corte Normanna\",\"Cantine I Colli del Sannio\",\"Cautiero\",\"Torre a Oriente\",\"Antica Masseria Venditti\",\"Morone\",\"Serra degli Ilici\",\"Terre D'Aglianico\",\"Vigne Sannite\",\"Capolino Perlingieri\",\"Cantine Ciervo\",\"Cantine Ciervo\",\"Torre dei Chiusi\",\"Torre dei Chiusi\",\"Ocone\",\"Ocone\",\"Capolino Perlingieri\",\"Ocone\",\"Ocone\",\"Cantine Tora\",\"Cautiero\",\"Rotola\",\"Fontanavecchia\",\"Nifo Sarrapochiello Vini\",\"Nifo Sarrapochiello Vini\",\"Fontanavecchia\",\"Vinicola del Sannio\",\"Torre del Pagus\",\"Podere Veneri Vecchio\",\"La Guardiense\",\"Fattoria La Rivolta\",\"La Guardiense\",\"Cantine I Colli del Sannio\",\"Fattoria La Rivolta\",\"Fontanavecchia\",\"Torre del Pagus\",\"Fattoria La Rivolta\",\"Wartalia\",\"Cantine Iannella\",\"Torre del Pagus\",\"Fontanavecchia\",\"Fattoria La Rivolta\",\"Podere Veneri Vecchio\",\"Fontanavecchia\",\"Fontanavecchia\",\"Fattoria La Rivolta\",\"La Guardiense\",\"Podere Veneri Vecchio\",\"Torre del Pagus\",\"Torre del Pagus\",\"Fattoria La Rivolta\",\"Torre del Pagus\",\"Podere Veneri Vecchio\",\"Fontanavecchia\",\"Fontanavecchia\",\"Podere Veneri Vecchio\",\"Fontanavecchia\",\"Fattoria La Rivolta\",\"Torre del Pagus\",\"Fontanavecchia\",\"De Fortuna\",\"Torre a Oriente\",\"Podere Veneri Vecchio\",\"Torre del Pagus\",\"Nifo Sarrapochiello Vini\",\"Nifo Sarrapochiello Vini\",\"Oppida Aminea\",\"Fattoria La Rivolta\",\"Vinicola del Sannio\",\"Torre del Pagus\",\"Podere Veneri Vecchio\",\"Fattoria La Rivolta\",\"Torre del Pagus\"],\"lat\":[41.182332,41.184689,41.182332,41.153793,41.071918,41.184689,41.2177,41.2177,41.2177,41.182332,41.182332,41.182332,41.182332,41.182332,41.182332,41.238151,41.238151,41.238151,41.238151,41.238151,41.177895,41.177895,41.177895,41.177895,41.182332,41.173137,41.260449,41.260449,41.260449,41.260449,41.260449,41.181328,41.277119,41.277119,41.277119,41.187279,41.187279,41.187279,41.187279,41.187279,41.203204,41.203204,41.203204,41.203204,41.203204,41.203204,41.203204,41.203204,41.203204,41.238151,41.182332,41.156137,41.208495,41.047085,41.179102,41.253929,41.239395,41.208495,41.242702,41.219247,41.197159,41.234469,41.196826,41.150853,41.191191,41.266501,41.181797,41.228541,41.196826,41.196826,41.245446,41.245446,41.239395,41.219247,41.231931,41.044692,41.228541,41.180125,41.190955,41.190955,41.191191,41.202773,41.202773,41.191191,41.250695,41.266501,41.204999,41.197159,41.180125,41.179102,41.234469,41.234469,41.196826,41.266501,41.245446,41.196826,41.204999,41.228541,41.12279,41.254973,41.254973,41.196826,41.222759,41.222759,41.249499,41.179102,41.047085,41.147905,41.179102,41.249499,41.236425,41.044692,41.245446,41.245446,41.245446,41.266501,41.234469,41.196826,41.228541,41.196826,41.196826,41.236425,41.202773,41.190955,41.202773,41.196826,41.196826,41.197533,41.071837,41.236425,41.245446,41.222759,41.253929,41.208495,41.196826,41.190955,41.149496,41.149496,41.190955,41.190955,41.250695,41.250695,41.137979,41.196826,41.137979,41.071837,41.156137,41.222759,41.196826,41.194201,41.250695,41.231931,41.068651,41.137979,41.242702,41.208495,41.195125,41.219247,41.228541,41.245446,41.245446,41.044692,41.250695,41.266501,41.196826,41.266501,41.228541,41.196826,41.245446,41.231931,41.231931,41.250695,41.196826,41.256588,41.216742,41.245446,41.222759,41.216742,41.222759,41.197533,41.231931,41.156831,41.147905,41.071837,41.195125,41.12279,41.156831,41.228541,41.249499,41.239395,41.242702,41.208495,41.219247,41.196826,41.191191,41.266501,41.181797,41.228541,41.196826,41.196826,41.245446,41.245446,41.234469,41.239395,41.219247,41.231931,41.044692,41.237824,41.234469,41.196826,41.150853,41.197159,41.228541,41.256588,41.196826,41.245446,41.196826,41.196826,41.181797,41.245446,41.191191,41.245446,41.250695,41.266501,41.234469,41.266501,41.180125,41.204999,41.197159,41.239395,41.234469,41.239395,41.196826,41.266501,41.179102,41.071837,41.239395,41.242702,41.219247,41.228541,41.231931,41.245446,41.245446,41.219247,41.182332,41.190955,41.245446,41.250695,41.234469,41.196826,41.266501,41.228541,41.196826,41.196826,41.156137,41.254973,41.156831,41.156831,41.253929,41.068651,41.179102,41.249499,41.195125,41.222759,41.197533,41.179102,41.147905,41.12279,41.245446,41.071837,41.239395,41.219247,41.266501,41.228541,41.231931,41.245446,41.245446,41.245446,41.219247,41.044692,41.228541,41.182332,41.190955,41.245446,41.245446,41.250695,41.234469,41.196826,41.196826,41.196826,41.239395,41.249499,41.249499,41.12279,41.12279,41.216742,41.196826,41.071837,41.190955,41.197533,41.219247,41.071837,41.219247,41.219247,41.190955,41.12279,41.194201,41.234469,41.12279,41.12279,41.12279,41.245446,41.266501,41.266501,41.245446,41.250695,41.047085,41.181797,41.179102,41.191191,41.250695,41.190955,41.196826,41.249499,41.156137,41.245446,41.249499,41.249499,41.196826,41.191191,41.254973,41.236425,41.242702,41.236425,41.236425,41.194201,41.245446,41.149496,41.253929,41.202773,41.254973,41.047085,41.071837,41.197159,41.228541,41.197159,41.245446,41.156137,41.217727,41.047085,41.239395,41.204999,41.071837,41.222759,41.253929,41.12279,41.150853,41.242702,41.190955,41.253929,41.253929,41.137979,41.047085,41.196826,41.156831,41.228541,41.245446,41.250695,41.266501,41.266501,41.245446,41.245446,41.250695,41.194201,41.194201,41.222759,41.12279,41.239395,41.217727,41.202773,41.234469,41.216742,41.12279,41.195125,41.196826,41.068651,41.196826,41.150853,41.196826,41.250695,41.202773,41.204999,41.150853,41.223586,41.231931,41.202773,41.197159,41.195125,41.223586,41.044692,41.150853,41.044867,41.237824,41.204999,41.223586,41.195125,41.231931,41.253929,41.180125,41.223586,41.202773,41.068651,41.245446,41.180125,41.223586,41.245446,41.197159,41.231931,41.256588,41.217727,41.242702,41.249499,41.250695,41.068651,41.197533,41.204999,41.204999,41.266501,41.266501,41.204999,41.204999,41.196826,41.196826,41.245446,41.196826,41.204999,41.204999,41.204999,41.204999,41.196826,41.266501,41.266501,41.204999,41.204999,41.196826,41.196826,41.245446,41.196826,41.197533,41.204999,41.266501,41.266501,41.249499,41.249499,41.071837,41.206218,41.149496,41.149496,41.202773,41.190955,41.184689,41.202773,41.202773,41.217727,41.068651,41.195125,41.245446,41.231931,41.249499,41.239395,41.175295,41.156831,41.197533,41.236425,41.254973,41.208495,41.195125,41.228541,41.217727,41.147905,41.147905,41.179102,41.179102,41.222759,41.222759,41.217727,41.222759,41.222759,41.190955,41.156831,41.047085,41.184689,41.2177,41.2177,41.184689,41.245446,41.206218,41.234372,41.250695,41.173137,41.250695,41.175295,41.173137,41.184689,41.206218,41.173137,41.219247,41.182332,41.206218,41.184689,41.173137,41.234372,41.184689,41.184689,41.173137,41.250695,41.234372,41.206218,41.206218,41.173137,41.206218,41.234372,41.184689,41.184689,41.234372,41.184689,41.173137,41.206218,41.184689,41.156137,41.197533,41.234372,41.206218,41.2177,41.2177,41.137979,41.173137,41.245446,41.206218,41.234372,41.173137,41.206218],\"legendgroup\":\"Benevento\",\"lon\":[14.689972,14.710269,14.689972,14.670587,14.628821,14.710269,14.659123,14.659123,14.659123,14.689972,14.689972,14.689972,14.689972,14.689972,14.689972,14.596746,14.596746,14.596746,14.596746,14.596746,14.897225,14.897225,14.897225,14.897225,14.689972,14.710258,14.636543,14.636543,14.636543,14.636543,14.636543,14.785903,14.540911,14.540911,14.540911,14.679967,14.679967,14.679967,14.679967,14.679967,14.57595,14.57595,14.57595,14.57595,14.57595,14.57595,14.57595,14.57595,14.57595,14.596746,14.689972,14.528646,14.612287,14.76139,14.690886,14.606822,14.597992,14.612287,14.678651,14.579716,14.725885,14.546138,14.539985,14.513551,14.677535,14.508626,14.711356,14.531076,14.539985,14.539985,14.567624,14.567624,14.597992,14.579716,14.545185,14.761044,14.531076,14.688867,14.679135,14.679135,14.677535,14.709891,14.709891,14.677535,14.574452,14.508626,14.501672,14.725885,14.688867,14.690886,14.546138,14.546138,14.539985,14.508626,14.567624,14.539985,14.501672,14.531076,14.462032,14.605883,14.605883,14.539985,14.694749,14.694749,14.572098,14.690886,14.76139,14.478444,14.690886,14.572098,14.550229,14.761044,14.567624,14.567624,14.567624,14.508626,14.546138,14.539985,14.531076,14.539985,14.539985,14.550229,14.709891,14.679135,14.709891,14.539985,14.539985,14.705198,14.628939,14.550229,14.567624,14.694749,14.606822,14.612287,14.539985,14.679135,14.638156,14.638156,14.679135,14.679135,14.574452,14.574452,14.832058,14.539985,14.832058,14.628939,14.528646,14.694749,14.539985,14.528736,14.574452,14.545185,14.616129,14.832058,14.678651,14.612287,14.7055,14.579716,14.531076,14.567624,14.567624,14.761044,14.574452,14.508626,14.539985,14.508626,14.531076,14.539985,14.567624,14.545185,14.545185,14.574452,14.539985,14.595523,14.66555,14.567624,14.694749,14.66555,14.694749,14.705198,14.545185,14.517069,14.478444,14.628939,14.7055,14.462032,14.517069,14.531076,14.572098,14.597992,14.678651,14.612287,14.579716,14.539985,14.677535,14.508626,14.711356,14.531076,14.539985,14.539985,14.567624,14.567624,14.546138,14.597992,14.579716,14.545185,14.761044,14.552267,14.546138,14.539985,14.513551,14.725885,14.531076,14.595523,14.539985,14.567624,14.539985,14.539985,14.711356,14.567624,14.677535,14.567624,14.574452,14.508626,14.546138,14.508626,14.688867,14.501672,14.725885,14.597992,14.546138,14.597992,14.539985,14.508626,14.690886,14.628939,14.597992,14.678651,14.579716,14.531076,14.545185,14.567624,14.567624,14.579716,14.689972,14.679135,14.567624,14.574452,14.546138,14.539985,14.508626,14.531076,14.539985,14.539985,14.528646,14.605883,14.517069,14.517069,14.606822,14.616129,14.690886,14.572098,14.7055,14.694749,14.705198,14.690886,14.478444,14.462032,14.567624,14.628939,14.597992,14.579716,14.508626,14.531076,14.545185,14.567624,14.567624,14.567624,14.579716,14.761044,14.531076,14.689972,14.679135,14.567624,14.567624,14.574452,14.546138,14.539985,14.539985,14.539985,14.597992,14.572098,14.572098,14.462032,14.462032,14.66555,14.539985,14.628939,14.679135,14.705198,14.579716,14.628939,14.579716,14.579716,14.679135,14.462032,14.528736,14.546138,14.462032,14.462032,14.462032,14.567624,14.508626,14.508626,14.567624,14.574452,14.76139,14.711356,14.690886,14.677535,14.574452,14.679135,14.539985,14.572098,14.528646,14.567624,14.572098,14.572098,14.539985,14.677535,14.605883,14.550229,14.678651,14.550229,14.550229,14.528736,14.567624,14.638156,14.606822,14.709891,14.605883,14.76139,14.628939,14.725885,14.531076,14.725885,14.567624,14.528646,14.573793,14.76139,14.597992,14.501672,14.628939,14.694749,14.606822,14.462032,14.513551,14.678651,14.679135,14.606822,14.606822,14.832058,14.76139,14.539985,14.517069,14.531076,14.567624,14.574452,14.508626,14.508626,14.567624,14.567624,14.574452,14.528736,14.528736,14.694749,14.462032,14.597992,14.573793,14.709891,14.546138,14.66555,14.462032,14.7055,14.539985,14.616129,14.539985,14.513551,14.539985,14.574452,14.709891,14.501672,14.513551,14.601328,14.545185,14.709891,14.725885,14.7055,14.601328,14.761044,14.513551,14.760934,14.552267,14.501672,14.601328,14.7055,14.545185,14.606822,14.688867,14.601328,14.709891,14.616129,14.567624,14.688867,14.601328,14.567624,14.725885,14.545185,14.595523,14.573793,14.678651,14.572098,14.574452,14.616129,14.705198,14.501672,14.501672,14.508626,14.508626,14.501672,14.501672,14.539985,14.539985,14.567624,14.539985,14.501672,14.501672,14.501672,14.501672,14.539985,14.508626,14.508626,14.501672,14.501672,14.539985,14.539985,14.567624,14.539985,14.705198,14.501672,14.508626,14.508626,14.572098,14.572098,14.628939,14.648888,14.638156,14.638156,14.709891,14.679135,14.710269,14.709891,14.709891,14.573793,14.616129,14.7055,14.567624,14.545185,14.572098,14.597992,14.701847,14.517069,14.705198,14.550229,14.605883,14.612287,14.7055,14.531076,14.573793,14.478444,14.478444,14.690886,14.690886,14.694749,14.694749,14.573793,14.694749,14.694749,14.679135,14.517069,14.76139,14.710269,14.659123,14.659123,14.710269,14.567624,14.648888,14.545047,14.574452,14.710258,14.574452,14.701847,14.710258,14.710269,14.648888,14.710258,14.579716,14.689972,14.648888,14.710269,14.710258,14.545047,14.710269,14.710269,14.710258,14.574452,14.545047,14.648888,14.648888,14.710258,14.648888,14.545047,14.710269,14.710269,14.545047,14.710269,14.710258,14.648888,14.710269,14.528646,14.705198,14.545047,14.648888,14.659123,14.659123,14.832058,14.710258,14.567624,14.648888,14.545047,14.710258,14.648888],\"marker\":{\"color\":\"#00cc96\"},\"mode\":\"markers\",\"name\":\"Benevento\",\"showlegend\":true,\"subplot\":\"mapbox\",\"type\":\"scattermapbox\"},{\"customdata\":[[\"Carinola\",\"Caserta\"],[\"Pontelatone\",\"Caserta\"],[\"Pontelatone\",\"Caserta\"],[\"Pontelatone\",\"Caserta\"],[\"Caiazzo\",\"Caserta\"],[\"Caiazzo\",\"Caserta\"],[\"Caiazzo\",\"Caserta\"],[\"Caiazzo\",\"Caserta\"],[\"Caiazzo\",\"Caserta\"],[\"Caiazzo\",\"Caserta\"],[\"Falciano del Massico\",\"Caserta\"],[\"Carinola\",\"Caserta\"],[\"Piana di Monte Verna\",\"Caserta\"],[\"Piana di Monte Verna\",\"Caserta\"],[\"Piana di Monte Verna\",\"Caserta\"],[\"Galluccio\",\"Caserta\"],[\"Galluccio\",\"Caserta\"],[\"Galluccio\",\"Caserta\"],[\"Galluccio\",\"Caserta\"],[\"Galluccio\",\"Caserta\"],[\"Sessa Aurunca\",\"Caserta\"],[\"Mondragone\",\"Caserta\"],[\"Sessa Aurunca\",\"Caserta\"],[\"Sessa Aurunca\",\"Caserta\"],[\"Sessa Aurunca\",\"Caserta\"],[\"Sessa Aurunca\",\"Caserta\"],[\"Sessa Aurunca\",\"Caserta\"],[\"Sessa Aurunca\",\"Caserta\"],[\"Mondragone\",\"Caserta\"],[\"Galluccio\",\"Caserta\"],[\"Rocca d'Evandro\",\"Caserta\"],[\"Cellole\",\"Caserta\"],[\"Galluccio\",\"Caserta\"],[\"Rocca d'Evandro\",\"Caserta\"],[\"Castel Campagnano\",\"Caserta\"],[\"Carinola\",\"Caserta\"],[\"Carinola\",\"Caserta\"],[\"Carinola\",\"Caserta\"],[\"Galluccio\",\"Caserta\"],[\"Caiazzo\",\"Caserta\"],[\"Gricignano di Aversa\",\"Caserta\"],[\"Falciano del Massico\",\"Caserta\"],[\"Caiazzo\",\"Caserta\"],[\"Pontelatone\",\"Caserta\"],[\"Liberi\",\"Caserta\"],[\"Galluccio\",\"Caserta\"],[\"Falciano del Massico\",\"Caserta\"],[\"Galluccio\",\"Caserta\"],[\"Falciano del Massico\",\"Caserta\"],[\"Falciano del Massico\",\"Caserta\"],[\"Pontelatone\",\"Caserta\"],[\"Galluccio\",\"Caserta\"],[\"Galluccio\",\"Caserta\"],[\"Caiazzo\",\"Caserta\"],[\"Castel Campagnano\",\"Caserta\"],[\"Pontelatone\",\"Caserta\"],[\"Cellole\",\"Caserta\"],[\"Castel Campagnano\",\"Caserta\"],[\"Galluccio\",\"Caserta\"],[\"Galluccio\",\"Caserta\"],[\"Galluccio\",\"Caserta\"],[\"Caiazzo\",\"Caserta\"],[\"Caiazzo\",\"Caserta\"],[\"Caiazzo\",\"Caserta\"],[\"Galluccio\",\"Caserta\"],[\"Galluccio\",\"Caserta\"],[\"Pontelatone\",\"Caserta\"],[\"Pontelatone\",\"Caserta\"],[\"Cellole\",\"Caserta\"],[\"Sessa Aurunca\",\"Caserta\"],[\"Sessa Aurunca\",\"Caserta\"],[\"Lusciano\",\"Caserta\"],[\"Cellole\",\"Caserta\"],[\"Pontelatone\",\"Caserta\"],[\"Rocca d'Evandro\",\"Caserta\"],[\"Cellole\",\"Caserta\"],[\"Cellole\",\"Caserta\"],[\"Galluccio\",\"Caserta\"],[\"Galluccio\",\"Caserta\"],[\"Rocca d'Evandro\",\"Caserta\"],[\"Cellole\",\"Caserta\"],[\"Cellole\",\"Caserta\"],[\"Falciano del Massico\",\"Caserta\"],[\"Cellole\",\"Caserta\"],[\"Galluccio\",\"Caserta\"],[\"Galluccio\",\"Caserta\"],[\"Castel Campagnano\",\"Caserta\"],[\"Galluccio\",\"Caserta\"],[\"Galluccio\",\"Caserta\"],[\"Rocca d'Evandro\",\"Caserta\"],[\"Galluccio\",\"Caserta\"],[\"Galluccio\",\"Caserta\"],[\"Galluccio\",\"Caserta\"],[\"Galluccio\",\"Caserta\"],[\"Rocca d'Evandro\",\"Caserta\"],[\"Galluccio\",\"Caserta\"],[\"Carinola\",\"Caserta\"],[\"Galluccio\",\"Caserta\"],[\"Liberi\",\"Caserta\"],[\"Cellole\",\"Caserta\"],[\"Galluccio\",\"Caserta\"],[\"Castel Campagnano\",\"Caserta\"],[\"Carinaro\",\"Caserta\"],[\"Caiazzo\",\"Caserta\"],[\"Caiazzo\",\"Caserta\"],[\"Castel Campagnano\",\"Caserta\"],[\"Falciano del Massico\",\"Caserta\"],[\"Liberi\",\"Caserta\"],[\"Gricignano di Aversa\",\"Caserta\"],[\"Cellole\",\"Caserta\"],[\"Galluccio\",\"Caserta\"],[\"Carinola\",\"Caserta\"],[\"Galluccio\",\"Caserta\"],[\"Liberi\",\"Caserta\"],[\"Galluccio\",\"Caserta\"],[\"Pontelatone\",\"Caserta\"],[\"Carinaro\",\"Caserta\"],[\"Galluccio\",\"Caserta\"],[\"Carinola\",\"Caserta\"],[\"Caiazzo\",\"Caserta\"],[\"Pontelatone\",\"Caserta\"],[\"Caiazzo\",\"Caserta\"],[\"Galluccio\",\"Caserta\"],[\"Galluccio\",\"Caserta\"],[\"Galluccio\",\"Caserta\"],[\"Falciano del Massico\",\"Caserta\"],[\"Galluccio\",\"Caserta\"],[\"Castel Campagnano\",\"Caserta\"],[\"Gricignano di Aversa\",\"Caserta\"],[\"Galluccio\",\"Caserta\"],[\"Galluccio\",\"Caserta\"],[\"Sessa Aurunca\",\"Caserta\"],[\"Sessa Aurunca\",\"Caserta\"],[\"Galluccio\",\"Caserta\"],[\"Galluccio\",\"Caserta\"],[\"Castel Campagnano\",\"Caserta\"],[\"Sessa Aurunca\",\"Caserta\"],[\"Galluccio\",\"Caserta\"],[\"Pontelatone\",\"Caserta\"],[\"Pontelatone\",\"Caserta\"],[\"Caiazzo\",\"Caserta\"],[\"Caiazzo\",\"Caserta\"],[\"Caiazzo\",\"Caserta\"],[\"Caiazzo\",\"Caserta\"],[\"Carinola\",\"Caserta\"],[\"Carinaro\",\"Caserta\"],[\"Cellole\",\"Caserta\"],[\"Galluccio\",\"Caserta\"],[\"Sessa Aurunca\",\"Caserta\"],[\"Cellole\",\"Caserta\"],[\"Pontelatone\",\"Caserta\"],[\"Sessa Aurunca\",\"Caserta\"],[\"Caiazzo\",\"Caserta\"],[\"Cellole\",\"Caserta\"],[\"Cellole\",\"Caserta\"],[\"Pontelatone\",\"Caserta\"],[\"Carinaro\",\"Caserta\"],[\"Carinaro\",\"Caserta\"],[\"Carinaro\",\"Caserta\"],[\"Carinaro\",\"Caserta\"],[\"Carinaro\",\"Caserta\"],[\"Carinaro\",\"Caserta\"],[\"Carinaro\",\"Caserta\"],[\"Carinaro\",\"Caserta\"],[\"Carinaro\",\"Caserta\"],[\"Carinaro\",\"Caserta\"],[\"Carinaro\",\"Caserta\"],[\"Sessa Aurunca\",\"Caserta\"],[\"Falciano del Massico\",\"Caserta\"],[\"Carinaro\",\"Caserta\"],[\"Castel Campagnano\",\"Caserta\"],[\"Teano\",\"Caserta\"],[\"Lusciano\",\"Caserta\"],[\"Lusciano\",\"Caserta\"],[\"Lusciano\",\"Caserta\"],[\"Carinola\",\"Caserta\"],[\"Carinola\",\"Caserta\"],[\"Caserta\",\"Caserta\"],[\"Caiazzo\",\"Caserta\"],[\"Gricignano di Aversa\",\"Caserta\"],[\"Carinola\",\"Caserta\"],[\"Carinola\",\"Caserta\"],[\"Castel Campagnano\",\"Caserta\"],[\"Teano\",\"Caserta\"],[\"Teano\",\"Caserta\"],[\"Lusciano\",\"Caserta\"],[\"Falciano del Massico\",\"Caserta\"],[\"Teano\",\"Caserta\"],[\"Teano\",\"Caserta\"],[\"Castel Campagnano\",\"Caserta\"],[\"Lusciano\",\"Caserta\"],[\"Carinola\",\"Caserta\"],[\"Teano\",\"Caserta\"],[\"Sessa Aurunca\",\"Caserta\"],[\"Carinola\",\"Caserta\"],[\"Lusciano\",\"Caserta\"],[\"Castel Campagnano\",\"Caserta\"],[\"Castel Campagnano\",\"Caserta\"],[\"Castel Campagnano\",\"Caserta\"],[\"Teano\",\"Caserta\"],[\"Carinola\",\"Caserta\"],[\"Castel Campagnano\",\"Caserta\"],[\"Carinola\",\"Caserta\"],[\"Lusciano\",\"Caserta\"],[\"Lusciano\",\"Caserta\"],[\"Lusciano\",\"Caserta\"],[\"Teano\",\"Caserta\"]],\"hovertemplate\":\"<b>%{hovertext}</b><br><br>prov=%{customdata[1]}<br>lat=%{lat}<br>long=%{lon}<br>lau=%{customdata[0]}<extra></extra>\",\"hovertext\":[\"Viticoltori Migliozzi\",\"Vigne Chigi\",\"Vigne Chigi\",\"Vigne Chigi\",\"Ale.P.A.\",\"Ale.P.A.\",\"Ale.P.A.\",\"Ale.P.A.\",\"Ale.P.A.\",\"Ale.P.A.\",\"Cantina Gennaro Papa\",\"Nicola Trabucco\",\"Crapareccia\",\"Crapareccia\",\"Crapareccia\",\"Palummo\",\"Palummo\",\"Masseria Starnali\",\"Masseria Starnali\",\"Masseria Starnali\",\"Dionigi Paonessa\",\"Michele Moio\",\"Masseria Felicia\",\"Masseria Felicia\",\"Masseria Felicia\",\"Masseria Felicia\",\"Masseria Felicia\",\"Masseria Felicia\",\"Michele Moio\",\"Porto di Mola\",\"Fattoria Prattico\",\"Villa Matilde\",\"Porto di Mola\",\"Fattoria Prattico\",\"Terre del Principe\",\"Fattoria Pagano\",\"Fattoria Pagano\",\"Fattoria Pagano\",\"Telaro\",\"Vestini Campagnano & Poderi Foglia\",\"Masseria Campito\",\"Regina Viarum\",\"Cantine Rao\",\"Alois\",\"Sclavia\",\"Telaro\",\"Cantina Gennaro Papa\",\"Agricola San Teodoro\",\"Cantina Zannini\",\"Cantina Zannini\",\"Alois\",\"Porto di Mola\",\"Agricola San Teodoro\",\"Vestini Campagnano & Poderi Foglia\",\"Terre del Principe\",\"Alois\",\"Villa Matilde\",\"Terre del Principe\",\"Telaro\",\"Porto di Mola\",\"Agricola San Teodoro\",\"Vestini Campagnano & Poderi Foglia\",\"Vestini Campagnano & Poderi Foglia\",\"Vestini Campagnano & Poderi Foglia\",\"Agricola San Teodoro\",\"Porto di Mola\",\"Viticoltori del Casavecchia\",\"Alois\",\"Villa Matilde\",\"Volpara\",\"Volpara\",\"I Borboni\",\"Villa Matilde\",\"Viticoltori del Casavecchia\",\"Fattoria Prattico\",\"Villa Matilde\",\"Villa Matilde\",\"Porto di Mola\",\"Telaro\",\"Fattoria Prattico\",\"Villa Matilde\",\"Villa Matilde\",\"Cantina Gennaro Papa\",\"Villa Matilde\",\"Telaro\",\"Tenuta Adolfo Spada\",\"Terre del Principe\",\"Telaro\",\"Tenuta Adolfo Spada\",\"Fattoria Prattico\",\"Porto di Mola\",\"Tenuta Adolfo Spada\",\"Tenuta Adolfo Spada\",\"Tenuta Adolfo Spada\",\"Fattoria Prattico\",\"Porto di Mola\",\"Fattoria Pagano\",\"Tenuta Adolfo Spada\",\"Sclavia\",\"Villa Matilde\",\"Telaro\",\"Terre del Principe\",\"Caputo 1890\",\"Vestini Campagnano & Poderi Foglia\",\"Vestini Campagnano & Poderi Foglia\",\"Terre del Principe\",\"Regina Viarum\",\"Sclavia\",\"Masseria Campito\",\"Villa Matilde\",\"Agricola San Teodoro\",\"Fattoria Pagano\",\"Porto di Mola\",\"Sclavia\",\"Telaro\",\"Alois\",\"Caputo 1890\",\"Telaro\",\"Fattoria Pagano\",\"Vestini Campagnano & Poderi Foglia\",\"Viticoltori del Casavecchia\",\"Vestini Campagnano & Poderi Foglia\",\"Telaro\",\"Porto di Mola\",\"Porto di Mola\",\"Regina Viarum\",\"Porto di Mola\",\"Terre del Principe\",\"Masseria Campito\",\"Porto di Mola\",\"Agricola San Teodoro\",\"Volpara\",\"Volpara\",\"Telaro\",\"Agricola San Teodoro\",\"Terre del Principe\",\"Volpara\",\"Agricola San Teodoro\",\"Alois\",\"Viticoltori del Casavecchia\",\"Cantine Rao\",\"Cantine Rao\",\"Cantine Rao\",\"Cantine Rao\",\"Azienda Agricola Nugnes\",\"Caputo 1890\",\"Villa Matilde\",\"Telaro\",\"Galardi\",\"Villa Matilde\",\"Alois\",\"Volpara\",\"Vestini Campagnano & Poderi Foglia\",\"Villa Matilde\",\"Villa Matilde\",\"Viticoltori del Casavecchia\",\"Caputo 1890\",\"Caputo 1890\",\"Caputo 1890\",\"Caputo 1890\",\"Caputo 1890\",\"Caputo 1890\",\"Caputo 1890\",\"Caputo 1890\",\"Caputo 1890\",\"Caputo 1890\",\"Caputo 1890\",\"Volpara\",\"Regina Viarum\",\"Caputo 1890\",\"Selvanova\",\"I cacciagalli\",\"I Borboni\",\"I Borboni\",\"I Borboni\",\"Azienda Agricola Nugnes\",\"Azienda Agricola Nugnes\",\"Della Valle Jappellj\",\"Vestini Campagnano & Poderi Foglia\",\"Masseria Campito\",\"Azienda Agricola Nugnes\",\"Azienda Agricola Nugnes\",\"Selvanova\",\"I cacciagalli\",\"I cacciagalli\",\"I Borboni\",\"Regina Viarum\",\"I cacciagalli\",\"I cacciagalli\",\"Selvanova\",\"I Borboni\",\"Azienda Agricola Nugnes\",\"I cacciagalli\",\"Volpara\",\"Azienda Agricola Nugnes\",\"I Borboni\",\"Selvanova\",\"Selvanova\",\"Selvanova\",\"I cacciagalli\",\"Azienda Agricola Nugnes\",\"Selvanova\",\"Azienda Agricola Nugnes\",\"I Borboni\",\"I Borboni\",\"I Borboni\",\"I cacciagalli\"],\"lat\":[41.210876,41.198925,41.198925,41.198925,41.178094,41.178094,41.178094,41.178094,41.178094,41.178094,41.162051,41.186179,41.193627,41.193627,41.193627,41.339383,41.339383,41.327886,41.327886,41.327886,41.241955,41.114361,41.217532,41.217532,41.217532,41.217532,41.217532,41.217532,41.114361,41.334884,41.33015,41.21264,41.334884,41.33015,41.171604,41.185987,41.185987,41.185987,41.345887,41.179875,40.97825,41.173412,41.16297,41.197169,41.230492,41.345887,41.162051,41.337258,41.166374,41.166374,41.197169,41.334884,41.337258,41.179875,41.171604,41.197169,41.21264,41.171604,41.345887,41.334884,41.337258,41.179875,41.179875,41.179875,41.337258,41.334884,41.189781,41.197169,41.21264,41.254926,41.254926,40.968338,41.21264,41.189781,41.33015,41.21264,41.21264,41.334884,41.345887,41.33015,41.21264,41.21264,41.162051,41.21264,41.345887,41.369503,41.171604,41.345887,41.369503,41.33015,41.334884,41.369503,41.369503,41.369503,41.33015,41.334884,41.185987,41.369503,41.230492,41.21264,41.345887,41.171604,40.98446,41.179875,41.179875,41.171604,41.173412,41.230492,40.97825,41.21264,41.337258,41.185987,41.334884,41.230492,41.345887,41.197169,40.98446,41.345887,41.185987,41.179875,41.189781,41.179875,41.345887,41.334884,41.334884,41.173412,41.334884,41.171604,40.97825,41.334884,41.337258,41.254926,41.254926,41.345887,41.337258,41.171604,41.254926,41.337258,41.197169,41.189781,41.16297,41.16297,41.16297,41.16297,41.196209,40.98446,41.21264,41.345887,41.318216,41.21264,41.197169,41.254926,41.179875,41.21264,41.21264,41.189781,40.98446,40.98446,40.98446,40.98446,40.98446,40.98446,40.98446,40.98446,40.98446,40.98446,40.98446,41.254926,41.173412,40.98446,41.170174,41.252863,40.968338,40.968338,40.968338,41.196209,41.196209,45.99689,41.179875,40.97825,41.196209,41.196209,41.170174,41.252863,41.252863,40.968338,41.173412,41.252863,41.252863,41.170174,40.968338,41.196209,41.252863,41.254926,41.196209,40.968338,41.170174,41.170174,41.170174,41.252863,41.196209,41.170174,41.196209,40.968338,40.968338,40.968338,41.252863],\"legendgroup\":\"Caserta\",\"lon\":[13.995166,14.257342,14.257342,14.257342,14.40379,14.40379,14.40379,14.40379,14.40379,14.40379,13.947495,13.99112,14.313805,14.313805,14.313805,13.944247,13.944247,13.93224,13.93224,13.93224,13.933622,13.892111,13.913712,13.913712,13.913712,13.913712,13.913712,13.913712,13.892111,13.913737,13.889725,13.814877,13.913737,13.889725,14.426723,13.984001,13.984001,13.984001,13.948946,14.400946,14.24648,13.947629,14.392845,14.235602,14.309574,13.948946,13.947495,13.919779,13.950565,13.950565,14.235602,13.913737,13.919779,14.400946,14.426723,14.235602,13.814877,14.426723,13.948946,13.913737,13.919779,14.400946,14.400946,14.400946,13.919779,13.913737,14.256186,14.235602,13.814877,13.954488,13.954488,14.190108,13.814877,14.256186,13.889725,13.814877,13.814877,13.913737,13.948946,13.889725,13.814877,13.814877,13.947495,13.814877,13.948946,13.972598,14.426723,13.948946,13.972598,13.889725,13.913737,13.972598,13.972598,13.972598,13.889725,13.913737,13.984001,13.972598,14.309574,13.814877,13.948946,14.426723,14.218948,14.400946,14.400946,14.426723,13.947629,14.309574,14.24648,13.814877,13.919779,13.984001,13.913737,14.309574,13.948946,14.235602,14.218948,13.948946,13.984001,14.400946,14.256186,14.400946,13.948946,13.913737,13.913737,13.947629,13.913737,14.426723,14.24648,13.913737,13.919779,13.954488,13.954488,13.948946,13.919779,14.426723,13.954488,13.919779,14.235602,14.256186,14.392845,14.392845,14.392845,14.392845,13.980821,14.218948,13.814877,13.948946,13.924492,13.814877,14.235602,13.954488,14.400946,13.814877,13.814877,14.256186,14.218948,14.218948,14.218948,14.218948,14.218948,14.218948,14.218948,14.218948,14.218948,14.218948,14.218948,13.954488,13.947629,14.218948,14.416466,14.067569,14.190108,14.190108,14.190108,13.980821,13.980821,11.32106,14.400946,14.24648,13.980821,13.980821,14.416466,14.067569,14.067569,14.190108,13.947629,14.067569,14.067569,14.416466,14.190108,13.980821,14.067569,13.954488,13.980821,14.190108,14.416466,14.416466,14.416466,14.067569,13.980821,14.416466,13.980821,14.190108,14.190108,14.190108,14.067569],\"marker\":{\"color\":\"#ab63fa\"},\"mode\":\"markers\",\"name\":\"Caserta\",\"showlegend\":true,\"subplot\":\"mapbox\",\"type\":\"scattermapbox\"},{\"customdata\":[[\"Napoli\",\"Napoli\"],[\"Napoli\",\"Napoli\"],[\"Napoli\",\"Napoli\"],[\"Napoli\",\"Napoli\"],[\"Quarto\",\"Napoli\"],[\"Quarto\",\"Napoli\"],[\"Quarto\",\"Napoli\"],[\"Quarto\",\"Napoli\"],[\"Quarto\",\"Napoli\"],[\"Quarto\",\"Napoli\"],[\"Quarto\",\"Napoli\"],[\"Quarto\",\"Napoli\"],[\"Quarto\",\"Napoli\"],[\"Quarto\",\"Napoli\"],[\"Quarto\",\"Napoli\"],[\"Quarto\",\"Napoli\"],[\"Quarto\",\"Napoli\"],[\"Quarto\",\"Napoli\"],[\"Bacoli\",\"Napoli\"],[\"Bacoli\",\"Napoli\"],[\"Bacoli\",\"Napoli\"],[\"Bacoli\",\"Napoli\"],[\"Pozzuoli\",\"Napoli\"],[\"Pozzuoli\",\"Napoli\"],[\"Forio\",\"Napoli\"],[\"Forio\",\"Napoli\"],[\"Monte di Procida\",\"Napoli\"],[\"Monte di Procida\",\"Napoli\"],[\"Ottaviano\",\"Napoli\"],[\"Forio\",\"Napoli\"],[\"Boscotrecase\",\"Napoli\"],[\"Ottaviano\",\"Napoli\"],[\"Nola\",\"Napoli\"],[\"Nola\",\"Napoli\"],[\"Nola\",\"Napoli\"],[\"Sorrento\",\"Napoli\"],[\"Ercolano\",\"Napoli\"],[\"Ottaviano\",\"Napoli\"],[\"San Sebastiano al Vesuvio\",\"Napoli\"],[\"Napoli\",\"Napoli\"],[\"Ottaviano\",\"Napoli\"],[\"Torre Annunziata\",\"Napoli\"],[\"Nola\",\"Napoli\"],[\"Ottaviano\",\"Napoli\"],[\"Pozzuoli\",\"Napoli\"],[\"Pollena Trocchia\",\"Napoli\"],[\"Napoli\",\"Napoli\"],[\"Napoli\",\"Napoli\"],[\"Napoli\",\"Napoli\"],[\"San Giuseppe Vesuviano\",\"Napoli\"],[\"Sorrento\",\"Napoli\"],[\"Ottaviano\",\"Napoli\"],[\"Ischia\",\"Napoli\"],[\"Forio\",\"Napoli\"],[\"San Giuseppe Vesuviano\",\"Napoli\"],[\"Boscotrecase\",\"Napoli\"],[\"Trecase\",\"Napoli\"],[\"Pozzuoli\",\"Napoli\"],[\"Pozzuoli\",\"Napoli\"],[\"Pozzuoli\",\"Napoli\"],[\"Pozzuoli\",\"Napoli\"],[\"Trecase\",\"Napoli\"],[\"San Giuseppe Vesuviano\",\"Napoli\"],[\"San Giuseppe Vesuviano\",\"Napoli\"],[\"Pollena Trocchia\",\"Napoli\"],[\"Ottaviano\",\"Napoli\"],[\"San Giuseppe Vesuviano\",\"Napoli\"],[\"Ottaviano\",\"Napoli\"],[\"Boscotrecase\",\"Napoli\"],[\"Ottaviano\",\"Napoli\"],[\"Napoli\",\"Napoli\"],[\"Nola\",\"Napoli\"],[\"Ercolano\",\"Napoli\"],[\"Nola\",\"Napoli\"],[\"Boscotrecase\",\"Napoli\"],[\"Napoli\",\"Napoli\"],[\"Napoli\",\"Napoli\"],[\"Napoli\",\"Napoli\"],[\"Napoli\",\"Napoli\"],[\"Lacco Ameno\",\"Napoli\"],[\"Bacoli\",\"Napoli\"],[\"Bacoli\",\"Napoli\"],[\"Boscotrecase\",\"Napoli\"],[\"Sant'Antonio Abate\",\"Napoli\"],[\"Boscotrecase\",\"Napoli\"],[\"Trecase\",\"Napoli\"],[\"Boscotrecase\",\"Napoli\"],[\"Boscotrecase\",\"Napoli\"],[\"Sant'Anastasia\",\"Napoli\"],[\"Forio\",\"Napoli\"],[\"Pozzuoli\",\"Napoli\"],[\"Ottaviano\",\"Napoli\"],[\"Ottaviano\",\"Napoli\"],[\"Bacoli\",\"Napoli\"],[\"Forio\",\"Napoli\"],[\"Boscotrecase\",\"Napoli\"],[\"Nola\",\"Napoli\"],[\"Ottaviano\",\"Napoli\"],[\"Piano di Sorrento\",\"Napoli\"],[\"Nola\",\"Napoli\"],[\"Nola\",\"Napoli\"],[\"Sorrento\",\"Napoli\"],[\"Ercolano\",\"Napoli\"],[\"Ottaviano\",\"Napoli\"],[\"San Sebastiano al Vesuvio\",\"Napoli\"],[\"Ottaviano\",\"Napoli\"],[\"Napoli\",\"Napoli\"],[\"Ercolano\",\"Napoli\"],[\"Ottaviano\",\"Napoli\"],[\"Torre Annunziata\",\"Napoli\"],[\"Nola\",\"Napoli\"],[\"Ottaviano\",\"Napoli\"],[\"Pozzuoli\",\"Napoli\"],[\"Boscotrecase\",\"Napoli\"],[\"Acerra\",\"Napoli\"],[\"San Sebastiano al Vesuvio\",\"Napoli\"],[\"Ercolano\",\"Napoli\"],[\"Pozzuoli\",\"Napoli\"],[\"Ottaviano\",\"Napoli\"],[\"Boscotrecase\",\"Napoli\"],[\"Ottaviano\",\"Napoli\"],[\"Boscotrecase\",\"Napoli\"],[\"Ischia\",\"Napoli\"],[\"Terzigno\",\"Napoli\"],[\"Forio\",\"Napoli\"],[\"Boscotrecase\",\"Napoli\"],[\"Terzigno\",\"Napoli\"],[\"Terzigno\",\"Napoli\"],[\"Forio\",\"Napoli\"],[\"Boscotrecase\",\"Napoli\"],[\"Ottaviano\",\"Napoli\"],[\"Ercolano\",\"Napoli\"],[\"San Sebastiano al Vesuvio\",\"Napoli\"],[\"Napoli\",\"Napoli\"],[\"Boscotrecase\",\"Napoli\"],[\"San Sebastiano al Vesuvio\",\"Napoli\"],[\"Ercolano\",\"Napoli\"],[\"Pozzuoli\",\"Napoli\"],[\"Ottaviano\",\"Napoli\"],[\"Boscotrecase\",\"Napoli\"],[\"Ottaviano\",\"Napoli\"],[\"Acerra\",\"Napoli\"],[\"Acerra\",\"Napoli\"],[\"Acerra\",\"Napoli\"],[\"Acerra\",\"Napoli\"],[\"Acerra\",\"Napoli\"],[\"Acerra\",\"Napoli\"],[\"Acerra\",\"Napoli\"],[\"Acerra\",\"Napoli\"],[\"Acerra\",\"Napoli\"],[\"Acerra\",\"Napoli\"],[\"Acerra\",\"Napoli\"],[\"Acerra\",\"Napoli\"],[\"Acerra\",\"Napoli\"],[\"Acerra\",\"Napoli\"],[\"Acerra\",\"Napoli\"],[\"Acerra\",\"Napoli\"],[\"Piano di Sorrento\",\"Napoli\"],[\"Pollena Trocchia\",\"Napoli\"],[\"Ischia\",\"Napoli\"],[\"Forio\",\"Napoli\"],[\"Forio\",\"Napoli\"],[\"Forio\",\"Napoli\"],[\"Lacco Ameno\",\"Napoli\"],[\"Lacco Ameno\",\"Napoli\"],[\"Lacco Ameno\",\"Napoli\"],[\"Ischia\",\"Napoli\"],[\"Lacco Ameno\",\"Napoli\"],[\"Sant'Anastasia\",\"Napoli\"],[\"Sorrento\",\"Napoli\"],[\"Sorrento\",\"Napoli\"],[\"Sorrento\",\"Napoli\"],[\"Sant'Anastasia\",\"Napoli\"],[\"Sant'Anastasia\",\"Napoli\"],[\"Torre Annunziata\",\"Napoli\"],[\"Napoli\",\"Napoli\"],[\"Pozzuoli\",\"Napoli\"],[\"Ottaviano\",\"Napoli\"],[\"Ottaviano\",\"Napoli\"],[\"San Sebastiano al Vesuvio\",\"Napoli\"],[\"San Sebastiano al Vesuvio\",\"Napoli\"],[\"Trecase\",\"Napoli\"],[\"San Sebastiano al Vesuvio\",\"Napoli\"],[\"Boscotrecase\",\"Napoli\"],[\"Ottaviano\",\"Napoli\"],[\"Ercolano\",\"Napoli\"],[\"Ottaviano\",\"Napoli\"],[\"Trecase\",\"Napoli\"],[\"San Sebastiano al Vesuvio\",\"Napoli\"],[\"Boscotrecase\",\"Napoli\"],[\"Ercolano\",\"Napoli\"],[\"Ottaviano\",\"Napoli\"],[\"Trecase\",\"Napoli\"],[\"San Sebastiano al Vesuvio\",\"Napoli\"],[\"Boscotrecase\",\"Napoli\"],[\"Ottaviano\",\"Napoli\"],[\"Ercolano\",\"Napoli\"],[\"Ottaviano\",\"Napoli\"],[\"Trecase\",\"Napoli\"],[\"Boscotrecase\",\"Napoli\"],[\"Boscotrecase\",\"Napoli\"],[\"Torre Annunziata\",\"Napoli\"],[\"Boscotrecase\",\"Napoli\"],[\"Boscotrecase\",\"Napoli\"],[\"Torre Annunziata\",\"Napoli\"],[\"Napoli\",\"Napoli\"],[\"Pozzuoli\",\"Napoli\"],[\"Boscotrecase\",\"Napoli\"],[\"Boscotrecase\",\"Napoli\"],[\"Ottaviano\",\"Napoli\"],[\"Boscotrecase\",\"Napoli\"],[\"Boscotrecase\",\"Napoli\"],[\"Pozzuoli\",\"Napoli\"],[\"Forio\",\"Napoli\"],[\"Bacoli\",\"Napoli\"],[\"Pozzuoli\",\"Napoli\"],[\"Trecase\",\"Napoli\"],[\"Trecase\",\"Napoli\"],[\"Trecase\",\"Napoli\"],[\"Boscotrecase\",\"Napoli\"],[\"Boscotrecase\",\"Napoli\"],[\"Sorrento\",\"Napoli\"],[\"Boscotrecase\",\"Napoli\"],[\"San Giuseppe Vesuviano\",\"Napoli\"],[\"Napoli\",\"Napoli\"],[\"Napoli\",\"Napoli\"],[\"Forio\",\"Napoli\"],[\"Ottaviano\",\"Napoli\"],[\"Ischia\",\"Napoli\"],[\"Forio\",\"Napoli\"],[\"Bacoli\",\"Napoli\"],[\"Boscotrecase\",\"Napoli\"],[\"Ottaviano\",\"Napoli\"],[\"Napoli\",\"Napoli\"],[\"Napoli\",\"Napoli\"],[\"Torre Annunziata\",\"Napoli\"],[\"Nola\",\"Napoli\"],[\"Ercolano\",\"Napoli\"],[\"Nola\",\"Napoli\"],[\"Boscotrecase\",\"Napoli\"],[\"Forio\",\"Napoli\"],[\"Lacco Ameno\",\"Napoli\"],[\"Lacco Ameno\",\"Napoli\"],[\"Lacco Ameno\",\"Napoli\"],[\"Lacco Ameno\",\"Napoli\"],[\"San Giuseppe Vesuviano\",\"Napoli\"],[\"Napoli\",\"Napoli\"],[\"Pozzuoli\",\"Napoli\"],[\"Lacco Ameno\",\"Napoli\"],[\"Ottaviano\",\"Napoli\"],[\"Pozzuoli\",\"Napoli\"],[\"Pozzuoli\",\"Napoli\"],[\"Pozzuoli\",\"Napoli\"],[\"Nola\",\"Napoli\"],[\"Nola\",\"Napoli\"],[\"Sorrento\",\"Napoli\"],[\"Sorrento\",\"Napoli\"],[\"Napoli\",\"Napoli\"],[\"Ischia\",\"Napoli\"],[\"San Sebastiano al Vesuvio\",\"Napoli\"],[\"Ercolano\",\"Napoli\"],[\"Napoli\",\"Napoli\"],[\"Pozzuoli\",\"Napoli\"],[\"Trecase\",\"Napoli\"],[\"Pollena Trocchia\",\"Napoli\"],[\"Pollena Trocchia\",\"Napoli\"],[\"Terzigno\",\"Napoli\"],[\"Ottaviano\",\"Napoli\"],[\"Boscotrecase\",\"Napoli\"],[\"Terzigno\",\"Napoli\"],[\"Ottaviano\",\"Napoli\"],[\"Boscotrecase\",\"Napoli\"],[\"Ottaviano\",\"Napoli\"],[\"Ottaviano\",\"Napoli\"],[\"Napoli\",\"Napoli\"],[\"Lacco Ameno\",\"Napoli\"],[\"Ischia\",\"Napoli\"],[\"Terzigno\",\"Napoli\"],[\"Ischia\",\"Napoli\"],[\"Boscotrecase\",\"Napoli\"],[\"Boscotrecase\",\"Napoli\"],[\"Boscotrecase\",\"Napoli\"],[\"Bacoli\",\"Napoli\"],[\"Forio\",\"Napoli\"],[\"Forio\",\"Napoli\"],[\"Forio\",\"Napoli\"],[\"Ischia\",\"Napoli\"],[\"Ischia\",\"Napoli\"],[\"Sant'Anastasia\",\"Napoli\"],[\"Boscotrecase\",\"Napoli\"],[\"Sant'Anastasia\",\"Napoli\"],[\"Boscotrecase\",\"Napoli\"],[\"Piano di Sorrento\",\"Napoli\"],[\"Ischia\",\"Napoli\"],[\"Ottaviano\",\"Napoli\"],[\"Ischia\",\"Napoli\"],[\"Piano di Sorrento\",\"Napoli\"],[\"Acerra\",\"Napoli\"],[\"Acerra\",\"Napoli\"],[\"Acerra\",\"Napoli\"],[\"Acerra\",\"Napoli\"],[\"Acerra\",\"Napoli\"],[\"Acerra\",\"Napoli\"],[\"Piano di Sorrento\",\"Napoli\"],[\"Ischia\",\"Napoli\"],[\"Ischia\",\"Napoli\"],[\"Ischia\",\"Napoli\"],[\"Ischia\",\"Napoli\"],[\"Ischia\",\"Napoli\"],[\"Ischia\",\"Napoli\"],[\"Piano di Sorrento\",\"Napoli\"],[\"Piano di Sorrento\",\"Napoli\"]],\"hovertemplate\":\"<b>%{hovertext}</b><br><br>prov=%{customdata[1]}<br>lat=%{lat}<br>long=%{lon}<br>lau=%{customdata[0]}<extra></extra>\",\"hovertext\":[\"Agnanum\",\"Agnanum\",\"Agnanum\",\"Agnanum\",\"Grotta del Sole\",\"Grotta del Sole\",\"Grotta del Sole\",\"Grotta del Sole\",\"Grotta del Sole\",\"Grotta del Sole\",\"Grotta del Sole\",\"Grotta del Sole\",\"Grotta del Sole\",\"Grotta del Sole\",\"Grotta del Sole\",\"Grotta del Sole\",\"Grotta del Sole\",\"Grotta del Sole\",\"Cantine Farro\",\"Cantine Farro\",\"Cantine Farro\",\"Cantine Farro\",\"Contrada Salandra\",\"Contrada Salandra\",\"Agricola San Domenico\",\"Agricola San Domenico\",\"Il Regno dei Vini\",\"Il Regno dei Vini\",\"Fiore Romano\",\"Casa d'Ambra\",\"I Nobili del Vesuvio\",\"Romano (di Michele Romano)\",\"Cantine Sepe\",\"Cantine Sepe\",\"Cantine Sepe\",\"Cantine De Angelis\",\"Sannino\",\"Romano (di Michele Romano)\",\"De Falco Vini\",\"Cantine Astroni\",\"Romano (di Michele Romano)\",\"Azienda Agricola Ametrano\",\"Cantine Sepe\",\"Romano (di Michele Romano)\",\"Cantine Babbo\",\"Montesommavesuvio\",\"Cantine Astroni\",\"Cantine Astroni\",\"Cantine Astroni\",\"Vigna Pironti\",\"Cantine De Angelis\",\"Romano (di Michele Romano)\",\"Antonio Mazzella\",\"Casa d'Ambra\",\"Vigna Pironti\",\"I Nobili del Vesuvio\",\"Casa Setaro\",\"Le Cantine dell'Averno\",\"Tenuta Matilde Zasso\",\"Le Cantine dell'Averno\",\"Tenuta Matilde Zasso\",\"Casa Setaro\",\"Vigna Pironti\",\"Vigna Pironti\",\"Montesommavesuvio\",\"Romano (di Michele Romano)\",\"Vigna Pironti\",\"Fiore Romano\",\"I Nobili del Vesuvio\",\"Romano (di Michele Romano)\",\"Cantine Astroni\",\"Cantine Sepe\",\"Sannino\",\"Cantine Sepe\",\"Sorrentino\",\"Cantine Astroni\",\"Cantine Astroni\",\"Cantine Astroni\",\"Cantine Astroni\",\"Tommasone\",\"La Sibilla\",\"La Sibilla\",\"I Nobili del Vesuvio\",\"Cantine Longobardi\",\"Sorrentino\",\"Casa Setaro\",\"Sorrentino\",\"Sorrentino\",\"Cantine Olivella\",\"Casa d'Ambra\",\"Tenuta Matilde Zasso\",\"Fiore Romano\",\"Fiore Romano\",\"La Sibilla\",\"Casa d'Ambra\",\"I Nobili del Vesuvio\",\"Cantine Sepe\",\"Romano (di Michele Romano)\",\"Cantine Stinca\",\"Cantine Sepe\",\"Cantine Sepe\",\"Cantine De Angelis\",\"Sannino\",\"Romano (di Michele Romano)\",\"De Falco Vini\",\"Romano (di Michele Romano)\",\"Cantine Astroni\",\"Sannino\",\"Romano (di Michele Romano)\",\"Azienda Agricola Ametrano\",\"Cantine Sepe\",\"Romano (di Michele Romano)\",\"Tenuta Matilde Zasso\",\"Sorrentino\",\"Enodelta\",\"De Falco Vini\",\"Sannino\",\"Tenuta Matilde Zasso\",\"Romano (di Michele Romano)\",\"Sorrentino\",\"Romano (di Michele Romano)\",\"Sorrentino\",\"Antonio Mazzella\",\"Cantine Villa Dora\",\"Casa d'Ambra\",\"Sorrentino\",\"Cantine Villa Dora\",\"Cantine Villa Dora\",\"Casa d'Ambra\",\"I Nobili del Vesuvio\",\"Fiore Romano\",\"Sannino\",\"De Falco Vini\",\"Cantine Astroni\",\"Sorrentino\",\"De Falco Vini\",\"Sannino\",\"Tenuta Matilde Zasso\",\"Romano (di Michele Romano)\",\"Sorrentino\",\"Romano (di Michele Romano)\",\"Enodelta\",\"Enodelta\",\"Enodelta\",\"Enodelta\",\"Enodelta\",\"Enodelta\",\"Enodelta\",\"Enodelta\",\"Enodelta\",\"Enodelta\",\"Enodelta\",\"Enodelta\",\"Enodelta\",\"Enodelta\",\"Enodelta\",\"Enodelta\",\"Cantine Stinca\",\"Montesommavesuvio\",\"Antonio Mazzella\",\"Casa d'Ambra\",\"Pietratorcia\",\"Pietratorcia\",\"Tommasone\",\"Tommasone\",\"Tommasone\",\"Antonio Mazzella\",\"Tommasone\",\"Cantine Olivella\",\"Cantine De Angelis\",\"Cantine De Angelis\",\"Cantine De Angelis\",\"Cantine Olivella\",\"Cantine Olivella\",\"Azienda Agricola Ametrano\",\"Cantine Astroni\",\"Tenuta Matilde Zasso\",\"Fiore Romano\",\"Fiore Romano\",\"De Falco Vini\",\"De Falco Vini\",\"Cantina del Vesuvio\",\"De Falco Vini\",\"I Nobili del Vesuvio\",\"Romano (di Michele Romano)\",\"Sannino\",\"Romano (di Michele Romano)\",\"Cantina del Vesuvio\",\"De Falco Vini\",\"I Nobili del Vesuvio\",\"Sannino\",\"Romano (di Michele Romano)\",\"Cantina del Vesuvio\",\"De Falco Vini\",\"I Nobili del Vesuvio\",\"Romano (di Michele Romano)\",\"Sannino\",\"Romano (di Michele Romano)\",\"Cantina del Vesuvio\",\"Sorrentino\",\"Sorrentino\",\"Azienda Agricola Ametrano\",\"Sorrentino\",\"Sorrentino\",\"Azienda Agricola Ametrano\",\"Cantine Astroni\",\"Tenuta Matilde Zasso\",\"Sorrentino\",\"Sorrentino\",\"Romano (di Michele Romano)\",\"Sorrentino\",\"Sorrentino\",\"Cantine Babbo\",\"Casa d'Ambra\",\"La Sibilla\",\"Cantine Babbo\",\"Casa Setaro\",\"Casa Setaro\",\"Casa Setaro\",\"Sorrentino\",\"Sorrentino\",\"Cantine De Angelis\",\"Sorrentino\",\"Vigna Pironti\",\"Cantine Astroni\",\"Cantine Astroni\",\"Casa d'Ambra\",\"Fiore Romano\",\"Antonio Mazzella\",\"Casa d'Ambra\",\"La Sibilla\",\"I Nobili del Vesuvio\",\"Romano (di Michele Romano)\",\"Cantine Astroni\",\"Cantine Astroni\",\"Azienda Agricola Ametrano\",\"Cantine Sepe\",\"Sannino\",\"Cantine Sepe\",\"Sorrentino\",\"Giardini Arimei\",\"Tommasone\",\"Tommasone\",\"Tommasone\",\"Tommasone\",\"Vigna Pironti\",\"Cantine Astroni\",\"Tenuta Matilde Zasso\",\"Tommasone\",\"Romano (di Michele Romano)\",\"Tenuta Matilde Zasso\",\"Tenuta Matilde Zasso\",\"Cantine Babbo\",\"Cantine Sepe\",\"Cantine Sepe\",\"Cantine De Angelis\",\"Cantine De Angelis\",\"Cantine Astroni\",\"Antonio Mazzella\",\"De Falco Vini\",\"Sannino\",\"Cantine Astroni\",\"Cantine Babbo\",\"Casa Setaro\",\"Montesommavesuvio\",\"Montesommavesuvio\",\"Cantine Villa Dora\",\"Romano (di Michele Romano)\",\"Sorrentino\",\"Cantine Villa Dora\",\"Romano (di Michele Romano)\",\"Sorrentino\",\"Fiore Romano\",\"Fiore Romano\",\"Cantine Astroni\",\"Tommasone\",\"Antonio Mazzella\",\"Cantine Villa Dora\",\"Antonio Mazzella\",\"Sorrentino\",\"Sorrentino\",\"Sorrentino\",\"La Sibilla\",\"Pietratorcia\",\"Pietratorcia\",\"Pietratorcia\",\"Antonio Mazzella\",\"Antonio Mazzella\",\"Cantine Olivella\",\"I Nobili del Vesuvio\",\"Cantine Olivella\",\"Sorrentino\",\"Cantine Stinca\",\"Cenatiempo\",\"Fiore Romano\",\"Cenatiempo\",\"Cantine Stinca\",\"Enodelta\",\"Enodelta\",\"Enodelta\",\"Enodelta\",\"Enodelta\",\"Enodelta\",\"Cantine Stinca\",\"Cenatiempo\",\"Cenatiempo\",\"Cenatiempo\",\"Cenatiempo\",\"Cenatiempo\",\"Cenatiempo\",\"Cantine Stinca\",\"Cantine Stinca\"],\"lat\":[40.839236,40.839236,40.839236,40.839236,40.876861,40.876861,40.876861,40.876861,40.876861,40.876861,40.876861,40.876861,40.876861,40.876861,40.876861,40.876861,40.876861,40.876861,40.819957,40.819957,40.819957,40.819957,40.866854,40.866854,40.731223,40.731223,40.803087,40.803087,40.860786,40.713938,40.771292,40.857395,40.878684,40.878684,40.878684,40.625537,40.817911,40.857395,40.848699,40.84779,40.857395,40.756583,40.878684,40.857395,40.83089,40.867179,40.84779,40.84779,40.84779,40.824863,40.625537,40.857395,40.719424,40.713938,40.824863,40.771292,40.764953,40.84226,40.849868,40.84226,40.849868,40.764953,40.824863,40.824863,40.867179,40.857395,40.824863,40.860786,40.771292,40.857395,40.84779,40.878684,40.817911,40.878684,40.787731,40.84779,40.84779,40.84779,40.84779,40.747436,40.818102,40.818102,40.771292,40.71042,40.787731,40.764953,40.787731,40.787731,40.860811,40.713938,40.849868,40.860786,40.860786,40.818102,40.713938,40.771292,40.878684,40.857395,40.626859,40.878684,40.878684,40.625537,40.817911,40.857395,40.848699,40.857395,40.84779,40.817911,40.857395,40.756583,40.878684,40.857395,40.849868,40.787731,40.965233,40.848699,40.817911,40.849868,40.857395,40.787731,40.857395,40.787731,40.719424,40.811336,40.713938,40.787731,40.811336,40.811336,40.713938,40.771292,40.860786,40.817911,40.848699,40.84779,40.787731,40.848699,40.817911,40.849868,40.857395,40.787731,40.857395,40.965233,40.965233,40.965233,40.965233,40.965233,40.965233,40.965233,40.965233,40.965233,40.965233,40.965233,40.965233,40.965233,40.965233,40.965233,40.965233,40.626859,40.867179,40.719424,40.713938,40.716616,40.716616,40.747436,40.747436,40.747436,40.719424,40.747436,40.860811,40.625537,40.625537,40.625537,40.860811,40.860811,40.756583,40.84779,40.849868,40.860786,40.860786,40.848699,40.848699,40.788787,40.848699,40.771292,40.857395,40.817911,40.857395,40.788787,40.848699,40.771292,40.817911,40.857395,40.788787,40.848699,40.771292,40.857395,40.817911,40.857395,40.788787,40.787731,40.787731,40.756583,40.787731,40.787731,40.756583,40.84779,40.849868,40.787731,40.787731,40.857395,40.787731,40.787731,40.83089,40.713938,40.818102,40.83089,40.764953,40.764953,40.764953,40.787731,40.787731,40.625537,40.787731,40.824863,40.84779,40.84779,40.713938,40.860786,40.719424,40.713938,40.818102,40.771292,40.857395,40.84779,40.84779,40.756583,40.878684,40.817911,40.878684,40.787731,40.720259,40.747436,40.747436,40.747436,40.747436,40.824863,40.84779,40.849868,40.747436,40.857395,40.849868,40.849868,40.83089,40.878684,40.878684,40.625537,40.625537,40.84779,40.719424,40.848699,40.817911,40.84779,40.83089,40.764953,40.867179,40.867179,40.811336,40.857395,40.787731,40.811336,40.857395,40.787731,40.860786,40.860786,40.84779,40.747436,40.719424,40.811336,40.719424,40.787731,40.787731,40.787731,40.818102,40.716616,40.716616,40.716616,40.719424,40.719424,40.860811,40.771292,40.860811,40.787731,40.626859,40.743098,40.860786,40.743098,40.626859,40.965233,40.965233,40.965233,40.965233,40.965233,40.965233,40.626859,40.743098,40.743098,40.743098,40.743098,40.743098,40.743098,40.626859,40.626859],\"legendgroup\":\"Napoli\",\"lon\":[14.161481,14.161481,14.161481,14.161481,14.107359,14.107359,14.107359,14.107359,14.107359,14.107359,14.107359,14.107359,14.107359,14.107359,14.107359,14.107359,14.107359,14.107359,14.064348,14.064348,14.064348,14.064348,14.071268,14.071268,13.860394,13.860394,14.059014,14.059014,14.47661,13.876839,14.458245,14.475987,14.509401,14.509401,14.509401,14.379099,14.362862,14.475987,14.360223,14.160464,14.475987,14.452978,14.509401,14.475987,14.072072,14.379516,14.160464,14.160464,14.160464,14.499359,14.379099,14.475987,13.95307,13.876839,14.499359,14.458245,14.446829,14.080755,14.076898,14.080755,14.076898,14.446829,14.499359,14.499359,14.379516,14.475987,14.499359,14.47661,14.458245,14.475987,14.160464,14.509401,14.362862,14.509401,14.45879,14.160464,14.160464,14.160464,14.160464,13.891749,14.065976,14.065976,14.458245,14.525021,14.45879,14.446829,14.45879,14.45879,14.405658,13.876839,14.076898,14.47661,14.47661,14.065976,13.876839,14.458245,14.509401,14.475987,14.415886,14.509401,14.509401,14.379099,14.362862,14.475987,14.360223,14.475987,14.160464,14.362862,14.475987,14.452978,14.509401,14.475987,14.076898,14.45879,14.373309,14.360223,14.362862,14.076898,14.475987,14.45879,14.475987,14.45879,13.95307,14.506394,13.876839,14.45879,14.506394,14.506394,13.876839,14.458245,14.47661,14.362862,14.360223,14.160464,14.45879,14.360223,14.362862,14.076898,14.475987,14.45879,14.475987,14.373309,14.373309,14.373309,14.373309,14.373309,14.373309,14.373309,14.373309,14.373309,14.373309,14.373309,14.373309,14.373309,14.373309,14.373309,14.373309,14.415886,14.379516,13.95307,13.876839,13.866906,13.866906,13.891749,13.891749,13.891749,13.95307,13.891749,14.405658,14.379099,14.379099,14.379099,14.405658,14.405658,14.452978,14.160464,14.076898,14.47661,14.47661,14.360223,14.360223,14.439212,14.360223,14.458245,14.475987,14.362862,14.475987,14.439212,14.360223,14.458245,14.362862,14.475987,14.439212,14.360223,14.458245,14.475987,14.362862,14.475987,14.439212,14.45879,14.45879,14.452978,14.45879,14.45879,14.452978,14.160464,14.076898,14.45879,14.45879,14.475987,14.45879,14.45879,14.072072,13.876839,14.065976,14.072072,14.446829,14.446829,14.446829,14.45879,14.45879,14.379099,14.45879,14.499359,14.160464,14.160464,13.876839,14.47661,13.95307,13.876839,14.065976,14.458245,14.475987,14.160464,14.160464,14.452978,14.509401,14.362862,14.509401,14.45879,13.873208,13.891749,13.891749,13.891749,13.891749,14.499359,14.160464,14.076898,13.891749,14.475987,14.076898,14.076898,14.072072,14.509401,14.509401,14.379099,14.379099,14.160464,13.95307,14.360223,14.362862,14.160464,14.072072,14.446829,14.379516,14.379516,14.506394,14.475987,14.45879,14.506394,14.475987,14.45879,14.47661,14.47661,14.160464,13.891749,13.95307,14.506394,13.95307,14.45879,14.45879,14.45879,14.065976,13.866906,13.866906,13.866906,13.95307,13.95307,14.405658,14.458245,14.405658,14.45879,14.415886,13.933738,14.47661,13.933738,14.415886,14.373309,14.373309,14.373309,14.373309,14.373309,14.373309,14.415886,13.933738,13.933738,13.933738,13.933738,13.933738,13.933738,14.415886,14.415886],\"marker\":{\"color\":\"#FFA15A\"},\"mode\":\"markers\",\"name\":\"Napoli\",\"showlegend\":true,\"subplot\":\"mapbox\",\"type\":\"scattermapbox\"},{\"customdata\":[[\"Calascio\",\"L\\u2019Aquila\"],[\"Calascio\",\"L\\u2019Aquila\"],[\"Calascio\",\"L\\u2019Aquila\"]],\"hovertemplate\":\"<b>%{hovertext}</b><br><br>prov=%{customdata[1]}<br>lat=%{lat}<br>long=%{lon}<br>lau=%{customdata[0]}<extra></extra>\",\"hovertext\":[\"Cantine Daniele\",\"Cantine Daniele\",\"Cantine Daniele\"],\"lat\":[40.475694,40.475694,40.475694],\"legendgroup\":\"L\\u2019Aquila\",\"lon\":[15.060072,15.060072,15.060072],\"marker\":{\"color\":\"#19d3f3\"},\"mode\":\"markers\",\"name\":\"L\\u2019Aquila\",\"showlegend\":true,\"subplot\":\"mapbox\",\"type\":\"scattermapbox\"},{\"customdata\":[[\"Piedimonte San Germano\",\"Frosinone\"],[\"Piedimonte San Germano\",\"Frosinone\"]],\"hovertemplate\":\"<b>%{hovertext}</b><br><br>prov=%{customdata[1]}<br>lat=%{lat}<br>long=%{lon}<br>lau=%{customdata[0]}<extra></extra>\",\"hovertext\":[\"Cantina Capizzi\",\"Cantina Capizzi\"],\"lat\":[41.188581,41.188581],\"legendgroup\":\"Frosinone\",\"lon\":[13.900087,13.900087],\"marker\":{\"color\":\"#FF6692\"},\"mode\":\"markers\",\"name\":\"Frosinone\",\"showlegend\":true,\"subplot\":\"mapbox\",\"type\":\"scattermapbox\"},{\"customdata\":[[\"Casale di Scodosia\",\"Padova\"],[\"Casale di Scodosia\",\"Padova\"],[\"Casale di Scodosia\",\"Padova\"],[\"Casale di Scodosia\",\"Padova\"]],\"hovertemplate\":\"<b>%{hovertext}</b><br><br>prov=%{customdata[1]}<br>lat=%{lat}<br>long=%{lon}<br>lau=%{customdata[0]}<extra></extra>\",\"hovertext\":[\"Bianchini Rossetti\",\"Bianchini Rossetti\",\"Bianchini Rossetti\",\"Bianchini Rossetti\"],\"lat\":[41.219226,41.219226,41.219226,41.219226],\"legendgroup\":\"Padova\",\"lon\":[14.004146,14.004146,14.004146,14.004146],\"marker\":{\"color\":\"#B6E880\"},\"mode\":\"markers\",\"name\":\"Padova\",\"showlegend\":true,\"subplot\":\"mapbox\",\"type\":\"scattermapbox\"}],                        {\"template\":{\"data\":{\"bar\":[{\"error_x\":{\"color\":\"#2a3f5f\"},\"error_y\":{\"color\":\"#2a3f5f\"},\"marker\":{\"line\":{\"color\":\"#E5ECF6\",\"width\":0.5},\"pattern\":{\"fillmode\":\"overlay\",\"size\":10,\"solidity\":0.2}},\"type\":\"bar\"}],\"barpolar\":[{\"marker\":{\"line\":{\"color\":\"#E5ECF6\",\"width\":0.5},\"pattern\":{\"fillmode\":\"overlay\",\"size\":10,\"solidity\":0.2}},\"type\":\"barpolar\"}],\"carpet\":[{\"aaxis\":{\"endlinecolor\":\"#2a3f5f\",\"gridcolor\":\"white\",\"linecolor\":\"white\",\"minorgridcolor\":\"white\",\"startlinecolor\":\"#2a3f5f\"},\"baxis\":{\"endlinecolor\":\"#2a3f5f\",\"gridcolor\":\"white\",\"linecolor\":\"white\",\"minorgridcolor\":\"white\",\"startlinecolor\":\"#2a3f5f\"},\"type\":\"carpet\"}],\"choropleth\":[{\"colorbar\":{\"outlinewidth\":0,\"ticks\":\"\"},\"type\":\"choropleth\"}],\"contour\":[{\"colorbar\":{\"outlinewidth\":0,\"ticks\":\"\"},\"colorscale\":[[0.0,\"#0d0887\"],[0.1111111111111111,\"#46039f\"],[0.2222222222222222,\"#7201a8\"],[0.3333333333333333,\"#9c179e\"],[0.4444444444444444,\"#bd3786\"],[0.5555555555555556,\"#d8576b\"],[0.6666666666666666,\"#ed7953\"],[0.7777777777777778,\"#fb9f3a\"],[0.8888888888888888,\"#fdca26\"],[1.0,\"#f0f921\"]],\"type\":\"contour\"}],\"contourcarpet\":[{\"colorbar\":{\"outlinewidth\":0,\"ticks\":\"\"},\"type\":\"contourcarpet\"}],\"heatmap\":[{\"colorbar\":{\"outlinewidth\":0,\"ticks\":\"\"},\"colorscale\":[[0.0,\"#0d0887\"],[0.1111111111111111,\"#46039f\"],[0.2222222222222222,\"#7201a8\"],[0.3333333333333333,\"#9c179e\"],[0.4444444444444444,\"#bd3786\"],[0.5555555555555556,\"#d8576b\"],[0.6666666666666666,\"#ed7953\"],[0.7777777777777778,\"#fb9f3a\"],[0.8888888888888888,\"#fdca26\"],[1.0,\"#f0f921\"]],\"type\":\"heatmap\"}],\"heatmapgl\":[{\"colorbar\":{\"outlinewidth\":0,\"ticks\":\"\"},\"colorscale\":[[0.0,\"#0d0887\"],[0.1111111111111111,\"#46039f\"],[0.2222222222222222,\"#7201a8\"],[0.3333333333333333,\"#9c179e\"],[0.4444444444444444,\"#bd3786\"],[0.5555555555555556,\"#d8576b\"],[0.6666666666666666,\"#ed7953\"],[0.7777777777777778,\"#fb9f3a\"],[0.8888888888888888,\"#fdca26\"],[1.0,\"#f0f921\"]],\"type\":\"heatmapgl\"}],\"histogram\":[{\"marker\":{\"pattern\":{\"fillmode\":\"overlay\",\"size\":10,\"solidity\":0.2}},\"type\":\"histogram\"}],\"histogram2d\":[{\"colorbar\":{\"outlinewidth\":0,\"ticks\":\"\"},\"colorscale\":[[0.0,\"#0d0887\"],[0.1111111111111111,\"#46039f\"],[0.2222222222222222,\"#7201a8\"],[0.3333333333333333,\"#9c179e\"],[0.4444444444444444,\"#bd3786\"],[0.5555555555555556,\"#d8576b\"],[0.6666666666666666,\"#ed7953\"],[0.7777777777777778,\"#fb9f3a\"],[0.8888888888888888,\"#fdca26\"],[1.0,\"#f0f921\"]],\"type\":\"histogram2d\"}],\"histogram2dcontour\":[{\"colorbar\":{\"outlinewidth\":0,\"ticks\":\"\"},\"colorscale\":[[0.0,\"#0d0887\"],[0.1111111111111111,\"#46039f\"],[0.2222222222222222,\"#7201a8\"],[0.3333333333333333,\"#9c179e\"],[0.4444444444444444,\"#bd3786\"],[0.5555555555555556,\"#d8576b\"],[0.6666666666666666,\"#ed7953\"],[0.7777777777777778,\"#fb9f3a\"],[0.8888888888888888,\"#fdca26\"],[1.0,\"#f0f921\"]],\"type\":\"histogram2dcontour\"}],\"mesh3d\":[{\"colorbar\":{\"outlinewidth\":0,\"ticks\":\"\"},\"type\":\"mesh3d\"}],\"parcoords\":[{\"line\":{\"colorbar\":{\"outlinewidth\":0,\"ticks\":\"\"}},\"type\":\"parcoords\"}],\"pie\":[{\"automargin\":true,\"type\":\"pie\"}],\"scatter\":[{\"marker\":{\"colorbar\":{\"outlinewidth\":0,\"ticks\":\"\"}},\"type\":\"scatter\"}],\"scatter3d\":[{\"line\":{\"colorbar\":{\"outlinewidth\":0,\"ticks\":\"\"}},\"marker\":{\"colorbar\":{\"outlinewidth\":0,\"ticks\":\"\"}},\"type\":\"scatter3d\"}],\"scattercarpet\":[{\"marker\":{\"colorbar\":{\"outlinewidth\":0,\"ticks\":\"\"}},\"type\":\"scattercarpet\"}],\"scattergeo\":[{\"marker\":{\"colorbar\":{\"outlinewidth\":0,\"ticks\":\"\"}},\"type\":\"scattergeo\"}],\"scattergl\":[{\"marker\":{\"colorbar\":{\"outlinewidth\":0,\"ticks\":\"\"}},\"type\":\"scattergl\"}],\"scattermapbox\":[{\"marker\":{\"colorbar\":{\"outlinewidth\":0,\"ticks\":\"\"}},\"type\":\"scattermapbox\"}],\"scatterpolar\":[{\"marker\":{\"colorbar\":{\"outlinewidth\":0,\"ticks\":\"\"}},\"type\":\"scatterpolar\"}],\"scatterpolargl\":[{\"marker\":{\"colorbar\":{\"outlinewidth\":0,\"ticks\":\"\"}},\"type\":\"scatterpolargl\"}],\"scatterternary\":[{\"marker\":{\"colorbar\":{\"outlinewidth\":0,\"ticks\":\"\"}},\"type\":\"scatterternary\"}],\"surface\":[{\"colorbar\":{\"outlinewidth\":0,\"ticks\":\"\"},\"colorscale\":[[0.0,\"#0d0887\"],[0.1111111111111111,\"#46039f\"],[0.2222222222222222,\"#7201a8\"],[0.3333333333333333,\"#9c179e\"],[0.4444444444444444,\"#bd3786\"],[0.5555555555555556,\"#d8576b\"],[0.6666666666666666,\"#ed7953\"],[0.7777777777777778,\"#fb9f3a\"],[0.8888888888888888,\"#fdca26\"],[1.0,\"#f0f921\"]],\"type\":\"surface\"}],\"table\":[{\"cells\":{\"fill\":{\"color\":\"#EBF0F8\"},\"line\":{\"color\":\"white\"}},\"header\":{\"fill\":{\"color\":\"#C8D4E3\"},\"line\":{\"color\":\"white\"}},\"type\":\"table\"}]},\"layout\":{\"annotationdefaults\":{\"arrowcolor\":\"#2a3f5f\",\"arrowhead\":0,\"arrowwidth\":1},\"autotypenumbers\":\"strict\",\"coloraxis\":{\"colorbar\":{\"outlinewidth\":0,\"ticks\":\"\"}},\"colorscale\":{\"diverging\":[[0,\"#8e0152\"],[0.1,\"#c51b7d\"],[0.2,\"#de77ae\"],[0.3,\"#f1b6da\"],[0.4,\"#fde0ef\"],[0.5,\"#f7f7f7\"],[0.6,\"#e6f5d0\"],[0.7,\"#b8e186\"],[0.8,\"#7fbc41\"],[0.9,\"#4d9221\"],[1,\"#276419\"]],\"sequential\":[[0.0,\"#0d0887\"],[0.1111111111111111,\"#46039f\"],[0.2222222222222222,\"#7201a8\"],[0.3333333333333333,\"#9c179e\"],[0.4444444444444444,\"#bd3786\"],[0.5555555555555556,\"#d8576b\"],[0.6666666666666666,\"#ed7953\"],[0.7777777777777778,\"#fb9f3a\"],[0.8888888888888888,\"#fdca26\"],[1.0,\"#f0f921\"]],\"sequentialminus\":[[0.0,\"#0d0887\"],[0.1111111111111111,\"#46039f\"],[0.2222222222222222,\"#7201a8\"],[0.3333333333333333,\"#9c179e\"],[0.4444444444444444,\"#bd3786\"],[0.5555555555555556,\"#d8576b\"],[0.6666666666666666,\"#ed7953\"],[0.7777777777777778,\"#fb9f3a\"],[0.8888888888888888,\"#fdca26\"],[1.0,\"#f0f921\"]]},\"colorway\":[\"#636efa\",\"#EF553B\",\"#00cc96\",\"#ab63fa\",\"#FFA15A\",\"#19d3f3\",\"#FF6692\",\"#B6E880\",\"#FF97FF\",\"#FECB52\"],\"font\":{\"color\":\"#2a3f5f\"},\"geo\":{\"bgcolor\":\"white\",\"lakecolor\":\"white\",\"landcolor\":\"#E5ECF6\",\"showlakes\":true,\"showland\":true,\"subunitcolor\":\"white\"},\"hoverlabel\":{\"align\":\"left\"},\"hovermode\":\"closest\",\"mapbox\":{\"style\":\"light\"},\"paper_bgcolor\":\"white\",\"plot_bgcolor\":\"#E5ECF6\",\"polar\":{\"angularaxis\":{\"gridcolor\":\"white\",\"linecolor\":\"white\",\"ticks\":\"\"},\"bgcolor\":\"#E5ECF6\",\"radialaxis\":{\"gridcolor\":\"white\",\"linecolor\":\"white\",\"ticks\":\"\"}},\"scene\":{\"xaxis\":{\"backgroundcolor\":\"#E5ECF6\",\"gridcolor\":\"white\",\"gridwidth\":2,\"linecolor\":\"white\",\"showbackground\":true,\"ticks\":\"\",\"zerolinecolor\":\"white\"},\"yaxis\":{\"backgroundcolor\":\"#E5ECF6\",\"gridcolor\":\"white\",\"gridwidth\":2,\"linecolor\":\"white\",\"showbackground\":true,\"ticks\":\"\",\"zerolinecolor\":\"white\"},\"zaxis\":{\"backgroundcolor\":\"#E5ECF6\",\"gridcolor\":\"white\",\"gridwidth\":2,\"linecolor\":\"white\",\"showbackground\":true,\"ticks\":\"\",\"zerolinecolor\":\"white\"}},\"shapedefaults\":{\"line\":{\"color\":\"#2a3f5f\"}},\"ternary\":{\"aaxis\":{\"gridcolor\":\"white\",\"linecolor\":\"white\",\"ticks\":\"\"},\"baxis\":{\"gridcolor\":\"white\",\"linecolor\":\"white\",\"ticks\":\"\"},\"bgcolor\":\"#E5ECF6\",\"caxis\":{\"gridcolor\":\"white\",\"linecolor\":\"white\",\"ticks\":\"\"}},\"title\":{\"x\":0.05},\"xaxis\":{\"automargin\":true,\"gridcolor\":\"white\",\"linecolor\":\"white\",\"ticks\":\"\",\"title\":{\"standoff\":15},\"zerolinecolor\":\"white\",\"zerolinewidth\":2},\"yaxis\":{\"automargin\":true,\"gridcolor\":\"white\",\"linecolor\":\"white\",\"ticks\":\"\",\"title\":{\"standoff\":15},\"zerolinecolor\":\"white\",\"zerolinewidth\":2}}},\"mapbox\":{\"domain\":{\"x\":[0.0,1.0],\"y\":[0.0,1.0]},\"center\":{\"lat\":41.00664893235469,\"lon\":14.626767105401129},\"zoom\":6.5,\"style\":\"open-street-map\"},\"legend\":{\"title\":{\"text\":\"prov\"},\"tracegroupgap\":0},\"margin\":{\"t\":30,\"r\":0,\"l\":0,\"b\":0},\"geo\":{\"fitbounds\":\"locations\"}},                        {\"responsive\": true}                    ).then(function(){\n",
       "                            \n",
       "var gd = document.getElementById('b26ab5fb-8560-423a-9709-11b7ecb6fe4f');\n",
       "var x = new MutationObserver(function (mutations, observer) {{\n",
       "        var display = window.getComputedStyle(gd).display;\n",
       "        if (!display || display === 'none') {{\n",
       "            console.log([gd, 'removed!']);\n",
       "            Plotly.purge(gd);\n",
       "            observer.disconnect();\n",
       "        }}\n",
       "}});\n",
       "\n",
       "// Listen for the removal of the full notebook cells\n",
       "var notebookContainer = gd.closest('#notebook-container');\n",
       "if (notebookContainer) {{\n",
       "    x.observe(notebookContainer, {childList: true});\n",
       "}}\n",
       "\n",
       "// Listen for the clearing of the current output cell\n",
       "var outputEl = gd.closest('.output');\n",
       "if (outputEl) {{\n",
       "    x.observe(outputEl, {childList: true});\n",
       "}}\n",
       "\n",
       "                        })                };                });            </script>        </div>"
      ]
     },
     "metadata": {},
     "output_type": "display_data"
    }
   ],
   "source": [
    "fig = px.scatter_mapbox(df_w, lat=\"lat\", lon=\"long\", color = \"prov\", hover_name=\"p\", hover_data=[\"lau\", \"prov\"], zoom=6.5) \n",
    "fig.update_layout(mapbox_style=\"open-street-map\") #carto-positron, open-street-map\n",
    "fig.update_layout(margin={\"r\":0,\"t\":30,\"l\":0,\"b\":0})\n",
    "fig.update_geos(fitbounds = 'locations')\n",
    "fig.show()"
   ]
  },
  {
   "cell_type": "markdown",
   "metadata": {},
   "source": [
    "### 3.2 Producers by grape variety - location map <a class=\"anchor\" id=\"producers_by_grape_map\"></a>"
   ]
  },
  {
   "cell_type": "code",
   "execution_count": 56,
   "metadata": {},
   "outputs": [
    {
     "data": {
      "text/html": [
       "\n",
       "        <iframe\n",
       "            width=\"100%\"\n",
       "            height=\"650\"\n",
       "            src=\"http://127.0.0.1:8050/\"\n",
       "            frameborder=\"0\"\n",
       "            allowfullscreen\n",
       "            \n",
       "        ></iframe>\n",
       "        "
      ],
      "text/plain": [
       "<IPython.lib.display.IFrame at 0x1d885d38d60>"
      ]
     },
     "metadata": {},
     "output_type": "display_data"
    }
   ],
   "source": [
    "grapes = sorted(df_g['grap'].unique())\n",
    "\n",
    "app = JupyterDash(__name__)\n",
    "\n",
    "server = app.server\n",
    "\n",
    "app.layout = html.Div([\n",
    "    dcc.Dropdown(\n",
    "        id=\"dropdown_grape\",\n",
    "        options=[{\"label\": x, \"value\": x} for x in grapes],\n",
    "        value=grapes[0],\n",
    "        clearable=False,\n",
    "    ),\n",
    "    dcc.Graph(id=\"map_producers\"),\n",
    "    dcc.Textarea(\n",
    "        #placeholder=\"Enter a value\",\n",
    "        value=\"The map shows only producers who have provided information about grape variety.\",\n",
    "        style={'width': '86.5%'}\n",
    "    )\n",
    "])\n",
    "\n",
    "@app.callback(\n",
    "    Output(\"map_producers\", \"figure\"), \n",
    "    [Input(\"dropdown_grape\", \"value\")])\n",
    "\n",
    "def display_map_producers(dropdown_grape):\n",
    "    df1 = df_g[df_g['grap'] == dropdown_grape]\n",
    "    fig = px.scatter_mapbox(df1, lat=\"lat\", lon=\"long\", color = \"prov\", hover_name=\"p\", hover_data=[\"lau\", \"prov\"], zoom=6.5)\n",
    "    fig.update_layout(mapbox_style=\"open-street-map\")\n",
    "    fig.update_layout(margin={\"r\":0,\"t\":30,\"l\":0,\"b\":0})\n",
    "    fig.update_geos(fitbounds = 'locations')\n",
    "    return fig\n",
    "    \n",
    "#app.run_server(port=8051)\n",
    "app.run_server('inline')"
   ]
  },
  {
   "cell_type": "markdown",
   "metadata": {},
   "source": [
    "### 3.3 Number of producers by Location <a class=\"anchor\" id=\"producers_by_loc\"></a>"
   ]
  },
  {
   "cell_type": "code",
   "execution_count": 57,
   "metadata": {},
   "outputs": [
    {
     "data": {
      "text/html": [
       "\n",
       "        <iframe\n",
       "            width=\"100%\"\n",
       "            height=\"650\"\n",
       "            src=\"http://127.0.0.1:8050/\"\n",
       "            frameborder=\"0\"\n",
       "            allowfullscreen\n",
       "            \n",
       "        ></iframe>\n",
       "        "
      ],
      "text/plain": [
       "<IPython.lib.display.IFrame at 0x1d885d2beb0>"
      ]
     },
     "metadata": {},
     "output_type": "display_data"
    }
   ],
   "source": [
    "list_local = ['lau', 'prov', 'reg']\n",
    "\n",
    "app = JupyterDash(__name__)\n",
    "\n",
    "server = app.server\n",
    "\n",
    "app.layout = html.Div([\n",
    "    dcc.Dropdown(\n",
    "        id=\"dropdown_locality\",\n",
    "        options=[{\"label\": x, \"value\": x} for x in list_local],\n",
    "        value=list_local[0],\n",
    "        clearable=False,\n",
    "    ),\n",
    "    dcc.Graph(id=\"bar-chart\"),\n",
    "])\n",
    "\n",
    "@app.callback(\n",
    "    Output(\"bar-chart\", \"figure\"), \n",
    "    [Input(\"dropdown_locality\", \"value\")])\n",
    "def update_bar_chart(local):\n",
    "    fig = px.histogram(df_p, x=local).update_xaxes(categoryorder=\"total descending\")\n",
    "    return fig\n",
    "\n",
    "\n",
    "app.run_server('inline')"
   ]
  },
  {
   "cell_type": "markdown",
   "metadata": {},
   "source": [
    "### 3.4 Percentage of wines by colour <a class=\"anchor\" id=\"wines_by_colour\"></a>"
   ]
  },
  {
   "cell_type": "code",
   "execution_count": 58,
   "metadata": {},
   "outputs": [],
   "source": [
    "df_col = df_w['col'].value_counts()\n",
    "df_col = df_col.to_frame()"
   ]
  },
  {
   "cell_type": "code",
   "execution_count": 59,
   "metadata": {},
   "outputs": [
    {
     "data": {
      "application/vnd.plotly.v1+json": {
       "config": {
        "plotlyServerURL": "https://plot.ly"
       },
       "data": [
        {
         "domain": {
          "x": [
           0,
           1
          ],
          "y": [
           0,
           1
          ]
         },
         "hovertemplate": "index=%{label}<br>col=%{value}<extra></extra>",
         "labels": [
          "Bianco",
          "Rosso",
          "Rosato"
         ],
         "legendgroup": "",
         "name": "",
         "showlegend": true,
         "textinfo": "percent+value+label",
         "textposition": "inside",
         "type": "pie",
         "values": [
          971,
          830,
          106
         ]
        }
       ],
       "layout": {
        "legend": {
         "tracegroupgap": 0
        },
        "template": {
         "data": {
          "bar": [
           {
            "error_x": {
             "color": "#2a3f5f"
            },
            "error_y": {
             "color": "#2a3f5f"
            },
            "marker": {
             "line": {
              "color": "#E5ECF6",
              "width": 0.5
             },
             "pattern": {
              "fillmode": "overlay",
              "size": 10,
              "solidity": 0.2
             }
            },
            "type": "bar"
           }
          ],
          "barpolar": [
           {
            "marker": {
             "line": {
              "color": "#E5ECF6",
              "width": 0.5
             },
             "pattern": {
              "fillmode": "overlay",
              "size": 10,
              "solidity": 0.2
             }
            },
            "type": "barpolar"
           }
          ],
          "carpet": [
           {
            "aaxis": {
             "endlinecolor": "#2a3f5f",
             "gridcolor": "white",
             "linecolor": "white",
             "minorgridcolor": "white",
             "startlinecolor": "#2a3f5f"
            },
            "baxis": {
             "endlinecolor": "#2a3f5f",
             "gridcolor": "white",
             "linecolor": "white",
             "minorgridcolor": "white",
             "startlinecolor": "#2a3f5f"
            },
            "type": "carpet"
           }
          ],
          "choropleth": [
           {
            "colorbar": {
             "outlinewidth": 0,
             "ticks": ""
            },
            "type": "choropleth"
           }
          ],
          "contour": [
           {
            "colorbar": {
             "outlinewidth": 0,
             "ticks": ""
            },
            "colorscale": [
             [
              0,
              "#0d0887"
             ],
             [
              0.1111111111111111,
              "#46039f"
             ],
             [
              0.2222222222222222,
              "#7201a8"
             ],
             [
              0.3333333333333333,
              "#9c179e"
             ],
             [
              0.4444444444444444,
              "#bd3786"
             ],
             [
              0.5555555555555556,
              "#d8576b"
             ],
             [
              0.6666666666666666,
              "#ed7953"
             ],
             [
              0.7777777777777778,
              "#fb9f3a"
             ],
             [
              0.8888888888888888,
              "#fdca26"
             ],
             [
              1,
              "#f0f921"
             ]
            ],
            "type": "contour"
           }
          ],
          "contourcarpet": [
           {
            "colorbar": {
             "outlinewidth": 0,
             "ticks": ""
            },
            "type": "contourcarpet"
           }
          ],
          "heatmap": [
           {
            "colorbar": {
             "outlinewidth": 0,
             "ticks": ""
            },
            "colorscale": [
             [
              0,
              "#0d0887"
             ],
             [
              0.1111111111111111,
              "#46039f"
             ],
             [
              0.2222222222222222,
              "#7201a8"
             ],
             [
              0.3333333333333333,
              "#9c179e"
             ],
             [
              0.4444444444444444,
              "#bd3786"
             ],
             [
              0.5555555555555556,
              "#d8576b"
             ],
             [
              0.6666666666666666,
              "#ed7953"
             ],
             [
              0.7777777777777778,
              "#fb9f3a"
             ],
             [
              0.8888888888888888,
              "#fdca26"
             ],
             [
              1,
              "#f0f921"
             ]
            ],
            "type": "heatmap"
           }
          ],
          "heatmapgl": [
           {
            "colorbar": {
             "outlinewidth": 0,
             "ticks": ""
            },
            "colorscale": [
             [
              0,
              "#0d0887"
             ],
             [
              0.1111111111111111,
              "#46039f"
             ],
             [
              0.2222222222222222,
              "#7201a8"
             ],
             [
              0.3333333333333333,
              "#9c179e"
             ],
             [
              0.4444444444444444,
              "#bd3786"
             ],
             [
              0.5555555555555556,
              "#d8576b"
             ],
             [
              0.6666666666666666,
              "#ed7953"
             ],
             [
              0.7777777777777778,
              "#fb9f3a"
             ],
             [
              0.8888888888888888,
              "#fdca26"
             ],
             [
              1,
              "#f0f921"
             ]
            ],
            "type": "heatmapgl"
           }
          ],
          "histogram": [
           {
            "marker": {
             "pattern": {
              "fillmode": "overlay",
              "size": 10,
              "solidity": 0.2
             }
            },
            "type": "histogram"
           }
          ],
          "histogram2d": [
           {
            "colorbar": {
             "outlinewidth": 0,
             "ticks": ""
            },
            "colorscale": [
             [
              0,
              "#0d0887"
             ],
             [
              0.1111111111111111,
              "#46039f"
             ],
             [
              0.2222222222222222,
              "#7201a8"
             ],
             [
              0.3333333333333333,
              "#9c179e"
             ],
             [
              0.4444444444444444,
              "#bd3786"
             ],
             [
              0.5555555555555556,
              "#d8576b"
             ],
             [
              0.6666666666666666,
              "#ed7953"
             ],
             [
              0.7777777777777778,
              "#fb9f3a"
             ],
             [
              0.8888888888888888,
              "#fdca26"
             ],
             [
              1,
              "#f0f921"
             ]
            ],
            "type": "histogram2d"
           }
          ],
          "histogram2dcontour": [
           {
            "colorbar": {
             "outlinewidth": 0,
             "ticks": ""
            },
            "colorscale": [
             [
              0,
              "#0d0887"
             ],
             [
              0.1111111111111111,
              "#46039f"
             ],
             [
              0.2222222222222222,
              "#7201a8"
             ],
             [
              0.3333333333333333,
              "#9c179e"
             ],
             [
              0.4444444444444444,
              "#bd3786"
             ],
             [
              0.5555555555555556,
              "#d8576b"
             ],
             [
              0.6666666666666666,
              "#ed7953"
             ],
             [
              0.7777777777777778,
              "#fb9f3a"
             ],
             [
              0.8888888888888888,
              "#fdca26"
             ],
             [
              1,
              "#f0f921"
             ]
            ],
            "type": "histogram2dcontour"
           }
          ],
          "mesh3d": [
           {
            "colorbar": {
             "outlinewidth": 0,
             "ticks": ""
            },
            "type": "mesh3d"
           }
          ],
          "parcoords": [
           {
            "line": {
             "colorbar": {
              "outlinewidth": 0,
              "ticks": ""
             }
            },
            "type": "parcoords"
           }
          ],
          "pie": [
           {
            "automargin": true,
            "type": "pie"
           }
          ],
          "scatter": [
           {
            "marker": {
             "colorbar": {
              "outlinewidth": 0,
              "ticks": ""
             }
            },
            "type": "scatter"
           }
          ],
          "scatter3d": [
           {
            "line": {
             "colorbar": {
              "outlinewidth": 0,
              "ticks": ""
             }
            },
            "marker": {
             "colorbar": {
              "outlinewidth": 0,
              "ticks": ""
             }
            },
            "type": "scatter3d"
           }
          ],
          "scattercarpet": [
           {
            "marker": {
             "colorbar": {
              "outlinewidth": 0,
              "ticks": ""
             }
            },
            "type": "scattercarpet"
           }
          ],
          "scattergeo": [
           {
            "marker": {
             "colorbar": {
              "outlinewidth": 0,
              "ticks": ""
             }
            },
            "type": "scattergeo"
           }
          ],
          "scattergl": [
           {
            "marker": {
             "colorbar": {
              "outlinewidth": 0,
              "ticks": ""
             }
            },
            "type": "scattergl"
           }
          ],
          "scattermapbox": [
           {
            "marker": {
             "colorbar": {
              "outlinewidth": 0,
              "ticks": ""
             }
            },
            "type": "scattermapbox"
           }
          ],
          "scatterpolar": [
           {
            "marker": {
             "colorbar": {
              "outlinewidth": 0,
              "ticks": ""
             }
            },
            "type": "scatterpolar"
           }
          ],
          "scatterpolargl": [
           {
            "marker": {
             "colorbar": {
              "outlinewidth": 0,
              "ticks": ""
             }
            },
            "type": "scatterpolargl"
           }
          ],
          "scatterternary": [
           {
            "marker": {
             "colorbar": {
              "outlinewidth": 0,
              "ticks": ""
             }
            },
            "type": "scatterternary"
           }
          ],
          "surface": [
           {
            "colorbar": {
             "outlinewidth": 0,
             "ticks": ""
            },
            "colorscale": [
             [
              0,
              "#0d0887"
             ],
             [
              0.1111111111111111,
              "#46039f"
             ],
             [
              0.2222222222222222,
              "#7201a8"
             ],
             [
              0.3333333333333333,
              "#9c179e"
             ],
             [
              0.4444444444444444,
              "#bd3786"
             ],
             [
              0.5555555555555556,
              "#d8576b"
             ],
             [
              0.6666666666666666,
              "#ed7953"
             ],
             [
              0.7777777777777778,
              "#fb9f3a"
             ],
             [
              0.8888888888888888,
              "#fdca26"
             ],
             [
              1,
              "#f0f921"
             ]
            ],
            "type": "surface"
           }
          ],
          "table": [
           {
            "cells": {
             "fill": {
              "color": "#EBF0F8"
             },
             "line": {
              "color": "white"
             }
            },
            "header": {
             "fill": {
              "color": "#C8D4E3"
             },
             "line": {
              "color": "white"
             }
            },
            "type": "table"
           }
          ]
         },
         "layout": {
          "annotationdefaults": {
           "arrowcolor": "#2a3f5f",
           "arrowhead": 0,
           "arrowwidth": 1
          },
          "autotypenumbers": "strict",
          "coloraxis": {
           "colorbar": {
            "outlinewidth": 0,
            "ticks": ""
           }
          },
          "colorscale": {
           "diverging": [
            [
             0,
             "#8e0152"
            ],
            [
             0.1,
             "#c51b7d"
            ],
            [
             0.2,
             "#de77ae"
            ],
            [
             0.3,
             "#f1b6da"
            ],
            [
             0.4,
             "#fde0ef"
            ],
            [
             0.5,
             "#f7f7f7"
            ],
            [
             0.6,
             "#e6f5d0"
            ],
            [
             0.7,
             "#b8e186"
            ],
            [
             0.8,
             "#7fbc41"
            ],
            [
             0.9,
             "#4d9221"
            ],
            [
             1,
             "#276419"
            ]
           ],
           "sequential": [
            [
             0,
             "#0d0887"
            ],
            [
             0.1111111111111111,
             "#46039f"
            ],
            [
             0.2222222222222222,
             "#7201a8"
            ],
            [
             0.3333333333333333,
             "#9c179e"
            ],
            [
             0.4444444444444444,
             "#bd3786"
            ],
            [
             0.5555555555555556,
             "#d8576b"
            ],
            [
             0.6666666666666666,
             "#ed7953"
            ],
            [
             0.7777777777777778,
             "#fb9f3a"
            ],
            [
             0.8888888888888888,
             "#fdca26"
            ],
            [
             1,
             "#f0f921"
            ]
           ],
           "sequentialminus": [
            [
             0,
             "#0d0887"
            ],
            [
             0.1111111111111111,
             "#46039f"
            ],
            [
             0.2222222222222222,
             "#7201a8"
            ],
            [
             0.3333333333333333,
             "#9c179e"
            ],
            [
             0.4444444444444444,
             "#bd3786"
            ],
            [
             0.5555555555555556,
             "#d8576b"
            ],
            [
             0.6666666666666666,
             "#ed7953"
            ],
            [
             0.7777777777777778,
             "#fb9f3a"
            ],
            [
             0.8888888888888888,
             "#fdca26"
            ],
            [
             1,
             "#f0f921"
            ]
           ]
          },
          "colorway": [
           "#636efa",
           "#EF553B",
           "#00cc96",
           "#ab63fa",
           "#FFA15A",
           "#19d3f3",
           "#FF6692",
           "#B6E880",
           "#FF97FF",
           "#FECB52"
          ],
          "font": {
           "color": "#2a3f5f"
          },
          "geo": {
           "bgcolor": "white",
           "lakecolor": "white",
           "landcolor": "#E5ECF6",
           "showlakes": true,
           "showland": true,
           "subunitcolor": "white"
          },
          "hoverlabel": {
           "align": "left"
          },
          "hovermode": "closest",
          "mapbox": {
           "style": "light"
          },
          "paper_bgcolor": "white",
          "plot_bgcolor": "#E5ECF6",
          "polar": {
           "angularaxis": {
            "gridcolor": "white",
            "linecolor": "white",
            "ticks": ""
           },
           "bgcolor": "#E5ECF6",
           "radialaxis": {
            "gridcolor": "white",
            "linecolor": "white",
            "ticks": ""
           }
          },
          "scene": {
           "xaxis": {
            "backgroundcolor": "#E5ECF6",
            "gridcolor": "white",
            "gridwidth": 2,
            "linecolor": "white",
            "showbackground": true,
            "ticks": "",
            "zerolinecolor": "white"
           },
           "yaxis": {
            "backgroundcolor": "#E5ECF6",
            "gridcolor": "white",
            "gridwidth": 2,
            "linecolor": "white",
            "showbackground": true,
            "ticks": "",
            "zerolinecolor": "white"
           },
           "zaxis": {
            "backgroundcolor": "#E5ECF6",
            "gridcolor": "white",
            "gridwidth": 2,
            "linecolor": "white",
            "showbackground": true,
            "ticks": "",
            "zerolinecolor": "white"
           }
          },
          "shapedefaults": {
           "line": {
            "color": "#2a3f5f"
           }
          },
          "ternary": {
           "aaxis": {
            "gridcolor": "white",
            "linecolor": "white",
            "ticks": ""
           },
           "baxis": {
            "gridcolor": "white",
            "linecolor": "white",
            "ticks": ""
           },
           "bgcolor": "#E5ECF6",
           "caxis": {
            "gridcolor": "white",
            "linecolor": "white",
            "ticks": ""
           }
          },
          "title": {
           "x": 0.05
          },
          "xaxis": {
           "automargin": true,
           "gridcolor": "white",
           "linecolor": "white",
           "ticks": "",
           "title": {
            "standoff": 15
           },
           "zerolinecolor": "white",
           "zerolinewidth": 2
          },
          "yaxis": {
           "automargin": true,
           "gridcolor": "white",
           "linecolor": "white",
           "ticks": "",
           "title": {
            "standoff": 15
           },
           "zerolinecolor": "white",
           "zerolinewidth": 2
          }
         }
        },
        "title": {
         "text": "Percentage of wines by colour"
        }
       }
      },
      "text/html": [
       "<div>                            <div id=\"2846b631-6df6-4e38-b621-aba0346b8929\" class=\"plotly-graph-div\" style=\"height:525px; width:100%;\"></div>            <script type=\"text/javascript\">                require([\"plotly\"], function(Plotly) {                    window.PLOTLYENV=window.PLOTLYENV || {};                                    if (document.getElementById(\"2846b631-6df6-4e38-b621-aba0346b8929\")) {                    Plotly.newPlot(                        \"2846b631-6df6-4e38-b621-aba0346b8929\",                        [{\"domain\":{\"x\":[0.0,1.0],\"y\":[0.0,1.0]},\"hovertemplate\":\"index=%{label}<br>col=%{value}<extra></extra>\",\"labels\":[\"Bianco\",\"Rosso\",\"Rosato\"],\"legendgroup\":\"\",\"name\":\"\",\"showlegend\":true,\"values\":[971,830,106],\"type\":\"pie\",\"textinfo\":\"percent+value+label\",\"textposition\":\"inside\"}],                        {\"template\":{\"data\":{\"bar\":[{\"error_x\":{\"color\":\"#2a3f5f\"},\"error_y\":{\"color\":\"#2a3f5f\"},\"marker\":{\"line\":{\"color\":\"#E5ECF6\",\"width\":0.5},\"pattern\":{\"fillmode\":\"overlay\",\"size\":10,\"solidity\":0.2}},\"type\":\"bar\"}],\"barpolar\":[{\"marker\":{\"line\":{\"color\":\"#E5ECF6\",\"width\":0.5},\"pattern\":{\"fillmode\":\"overlay\",\"size\":10,\"solidity\":0.2}},\"type\":\"barpolar\"}],\"carpet\":[{\"aaxis\":{\"endlinecolor\":\"#2a3f5f\",\"gridcolor\":\"white\",\"linecolor\":\"white\",\"minorgridcolor\":\"white\",\"startlinecolor\":\"#2a3f5f\"},\"baxis\":{\"endlinecolor\":\"#2a3f5f\",\"gridcolor\":\"white\",\"linecolor\":\"white\",\"minorgridcolor\":\"white\",\"startlinecolor\":\"#2a3f5f\"},\"type\":\"carpet\"}],\"choropleth\":[{\"colorbar\":{\"outlinewidth\":0,\"ticks\":\"\"},\"type\":\"choropleth\"}],\"contour\":[{\"colorbar\":{\"outlinewidth\":0,\"ticks\":\"\"},\"colorscale\":[[0.0,\"#0d0887\"],[0.1111111111111111,\"#46039f\"],[0.2222222222222222,\"#7201a8\"],[0.3333333333333333,\"#9c179e\"],[0.4444444444444444,\"#bd3786\"],[0.5555555555555556,\"#d8576b\"],[0.6666666666666666,\"#ed7953\"],[0.7777777777777778,\"#fb9f3a\"],[0.8888888888888888,\"#fdca26\"],[1.0,\"#f0f921\"]],\"type\":\"contour\"}],\"contourcarpet\":[{\"colorbar\":{\"outlinewidth\":0,\"ticks\":\"\"},\"type\":\"contourcarpet\"}],\"heatmap\":[{\"colorbar\":{\"outlinewidth\":0,\"ticks\":\"\"},\"colorscale\":[[0.0,\"#0d0887\"],[0.1111111111111111,\"#46039f\"],[0.2222222222222222,\"#7201a8\"],[0.3333333333333333,\"#9c179e\"],[0.4444444444444444,\"#bd3786\"],[0.5555555555555556,\"#d8576b\"],[0.6666666666666666,\"#ed7953\"],[0.7777777777777778,\"#fb9f3a\"],[0.8888888888888888,\"#fdca26\"],[1.0,\"#f0f921\"]],\"type\":\"heatmap\"}],\"heatmapgl\":[{\"colorbar\":{\"outlinewidth\":0,\"ticks\":\"\"},\"colorscale\":[[0.0,\"#0d0887\"],[0.1111111111111111,\"#46039f\"],[0.2222222222222222,\"#7201a8\"],[0.3333333333333333,\"#9c179e\"],[0.4444444444444444,\"#bd3786\"],[0.5555555555555556,\"#d8576b\"],[0.6666666666666666,\"#ed7953\"],[0.7777777777777778,\"#fb9f3a\"],[0.8888888888888888,\"#fdca26\"],[1.0,\"#f0f921\"]],\"type\":\"heatmapgl\"}],\"histogram\":[{\"marker\":{\"pattern\":{\"fillmode\":\"overlay\",\"size\":10,\"solidity\":0.2}},\"type\":\"histogram\"}],\"histogram2d\":[{\"colorbar\":{\"outlinewidth\":0,\"ticks\":\"\"},\"colorscale\":[[0.0,\"#0d0887\"],[0.1111111111111111,\"#46039f\"],[0.2222222222222222,\"#7201a8\"],[0.3333333333333333,\"#9c179e\"],[0.4444444444444444,\"#bd3786\"],[0.5555555555555556,\"#d8576b\"],[0.6666666666666666,\"#ed7953\"],[0.7777777777777778,\"#fb9f3a\"],[0.8888888888888888,\"#fdca26\"],[1.0,\"#f0f921\"]],\"type\":\"histogram2d\"}],\"histogram2dcontour\":[{\"colorbar\":{\"outlinewidth\":0,\"ticks\":\"\"},\"colorscale\":[[0.0,\"#0d0887\"],[0.1111111111111111,\"#46039f\"],[0.2222222222222222,\"#7201a8\"],[0.3333333333333333,\"#9c179e\"],[0.4444444444444444,\"#bd3786\"],[0.5555555555555556,\"#d8576b\"],[0.6666666666666666,\"#ed7953\"],[0.7777777777777778,\"#fb9f3a\"],[0.8888888888888888,\"#fdca26\"],[1.0,\"#f0f921\"]],\"type\":\"histogram2dcontour\"}],\"mesh3d\":[{\"colorbar\":{\"outlinewidth\":0,\"ticks\":\"\"},\"type\":\"mesh3d\"}],\"parcoords\":[{\"line\":{\"colorbar\":{\"outlinewidth\":0,\"ticks\":\"\"}},\"type\":\"parcoords\"}],\"pie\":[{\"automargin\":true,\"type\":\"pie\"}],\"scatter\":[{\"marker\":{\"colorbar\":{\"outlinewidth\":0,\"ticks\":\"\"}},\"type\":\"scatter\"}],\"scatter3d\":[{\"line\":{\"colorbar\":{\"outlinewidth\":0,\"ticks\":\"\"}},\"marker\":{\"colorbar\":{\"outlinewidth\":0,\"ticks\":\"\"}},\"type\":\"scatter3d\"}],\"scattercarpet\":[{\"marker\":{\"colorbar\":{\"outlinewidth\":0,\"ticks\":\"\"}},\"type\":\"scattercarpet\"}],\"scattergeo\":[{\"marker\":{\"colorbar\":{\"outlinewidth\":0,\"ticks\":\"\"}},\"type\":\"scattergeo\"}],\"scattergl\":[{\"marker\":{\"colorbar\":{\"outlinewidth\":0,\"ticks\":\"\"}},\"type\":\"scattergl\"}],\"scattermapbox\":[{\"marker\":{\"colorbar\":{\"outlinewidth\":0,\"ticks\":\"\"}},\"type\":\"scattermapbox\"}],\"scatterpolar\":[{\"marker\":{\"colorbar\":{\"outlinewidth\":0,\"ticks\":\"\"}},\"type\":\"scatterpolar\"}],\"scatterpolargl\":[{\"marker\":{\"colorbar\":{\"outlinewidth\":0,\"ticks\":\"\"}},\"type\":\"scatterpolargl\"}],\"scatterternary\":[{\"marker\":{\"colorbar\":{\"outlinewidth\":0,\"ticks\":\"\"}},\"type\":\"scatterternary\"}],\"surface\":[{\"colorbar\":{\"outlinewidth\":0,\"ticks\":\"\"},\"colorscale\":[[0.0,\"#0d0887\"],[0.1111111111111111,\"#46039f\"],[0.2222222222222222,\"#7201a8\"],[0.3333333333333333,\"#9c179e\"],[0.4444444444444444,\"#bd3786\"],[0.5555555555555556,\"#d8576b\"],[0.6666666666666666,\"#ed7953\"],[0.7777777777777778,\"#fb9f3a\"],[0.8888888888888888,\"#fdca26\"],[1.0,\"#f0f921\"]],\"type\":\"surface\"}],\"table\":[{\"cells\":{\"fill\":{\"color\":\"#EBF0F8\"},\"line\":{\"color\":\"white\"}},\"header\":{\"fill\":{\"color\":\"#C8D4E3\"},\"line\":{\"color\":\"white\"}},\"type\":\"table\"}]},\"layout\":{\"annotationdefaults\":{\"arrowcolor\":\"#2a3f5f\",\"arrowhead\":0,\"arrowwidth\":1},\"autotypenumbers\":\"strict\",\"coloraxis\":{\"colorbar\":{\"outlinewidth\":0,\"ticks\":\"\"}},\"colorscale\":{\"diverging\":[[0,\"#8e0152\"],[0.1,\"#c51b7d\"],[0.2,\"#de77ae\"],[0.3,\"#f1b6da\"],[0.4,\"#fde0ef\"],[0.5,\"#f7f7f7\"],[0.6,\"#e6f5d0\"],[0.7,\"#b8e186\"],[0.8,\"#7fbc41\"],[0.9,\"#4d9221\"],[1,\"#276419\"]],\"sequential\":[[0.0,\"#0d0887\"],[0.1111111111111111,\"#46039f\"],[0.2222222222222222,\"#7201a8\"],[0.3333333333333333,\"#9c179e\"],[0.4444444444444444,\"#bd3786\"],[0.5555555555555556,\"#d8576b\"],[0.6666666666666666,\"#ed7953\"],[0.7777777777777778,\"#fb9f3a\"],[0.8888888888888888,\"#fdca26\"],[1.0,\"#f0f921\"]],\"sequentialminus\":[[0.0,\"#0d0887\"],[0.1111111111111111,\"#46039f\"],[0.2222222222222222,\"#7201a8\"],[0.3333333333333333,\"#9c179e\"],[0.4444444444444444,\"#bd3786\"],[0.5555555555555556,\"#d8576b\"],[0.6666666666666666,\"#ed7953\"],[0.7777777777777778,\"#fb9f3a\"],[0.8888888888888888,\"#fdca26\"],[1.0,\"#f0f921\"]]},\"colorway\":[\"#636efa\",\"#EF553B\",\"#00cc96\",\"#ab63fa\",\"#FFA15A\",\"#19d3f3\",\"#FF6692\",\"#B6E880\",\"#FF97FF\",\"#FECB52\"],\"font\":{\"color\":\"#2a3f5f\"},\"geo\":{\"bgcolor\":\"white\",\"lakecolor\":\"white\",\"landcolor\":\"#E5ECF6\",\"showlakes\":true,\"showland\":true,\"subunitcolor\":\"white\"},\"hoverlabel\":{\"align\":\"left\"},\"hovermode\":\"closest\",\"mapbox\":{\"style\":\"light\"},\"paper_bgcolor\":\"white\",\"plot_bgcolor\":\"#E5ECF6\",\"polar\":{\"angularaxis\":{\"gridcolor\":\"white\",\"linecolor\":\"white\",\"ticks\":\"\"},\"bgcolor\":\"#E5ECF6\",\"radialaxis\":{\"gridcolor\":\"white\",\"linecolor\":\"white\",\"ticks\":\"\"}},\"scene\":{\"xaxis\":{\"backgroundcolor\":\"#E5ECF6\",\"gridcolor\":\"white\",\"gridwidth\":2,\"linecolor\":\"white\",\"showbackground\":true,\"ticks\":\"\",\"zerolinecolor\":\"white\"},\"yaxis\":{\"backgroundcolor\":\"#E5ECF6\",\"gridcolor\":\"white\",\"gridwidth\":2,\"linecolor\":\"white\",\"showbackground\":true,\"ticks\":\"\",\"zerolinecolor\":\"white\"},\"zaxis\":{\"backgroundcolor\":\"#E5ECF6\",\"gridcolor\":\"white\",\"gridwidth\":2,\"linecolor\":\"white\",\"showbackground\":true,\"ticks\":\"\",\"zerolinecolor\":\"white\"}},\"shapedefaults\":{\"line\":{\"color\":\"#2a3f5f\"}},\"ternary\":{\"aaxis\":{\"gridcolor\":\"white\",\"linecolor\":\"white\",\"ticks\":\"\"},\"baxis\":{\"gridcolor\":\"white\",\"linecolor\":\"white\",\"ticks\":\"\"},\"bgcolor\":\"#E5ECF6\",\"caxis\":{\"gridcolor\":\"white\",\"linecolor\":\"white\",\"ticks\":\"\"}},\"title\":{\"x\":0.05},\"xaxis\":{\"automargin\":true,\"gridcolor\":\"white\",\"linecolor\":\"white\",\"ticks\":\"\",\"title\":{\"standoff\":15},\"zerolinecolor\":\"white\",\"zerolinewidth\":2},\"yaxis\":{\"automargin\":true,\"gridcolor\":\"white\",\"linecolor\":\"white\",\"ticks\":\"\",\"title\":{\"standoff\":15},\"zerolinecolor\":\"white\",\"zerolinewidth\":2}}},\"legend\":{\"tracegroupgap\":0},\"title\":{\"text\":\"Percentage of wines by colour\"}},                        {\"responsive\": true}                    ).then(function(){\n",
       "                            \n",
       "var gd = document.getElementById('2846b631-6df6-4e38-b621-aba0346b8929');\n",
       "var x = new MutationObserver(function (mutations, observer) {{\n",
       "        var display = window.getComputedStyle(gd).display;\n",
       "        if (!display || display === 'none') {{\n",
       "            console.log([gd, 'removed!']);\n",
       "            Plotly.purge(gd);\n",
       "            observer.disconnect();\n",
       "        }}\n",
       "}});\n",
       "\n",
       "// Listen for the removal of the full notebook cells\n",
       "var notebookContainer = gd.closest('#notebook-container');\n",
       "if (notebookContainer) {{\n",
       "    x.observe(notebookContainer, {childList: true});\n",
       "}}\n",
       "\n",
       "// Listen for the clearing of the current output cell\n",
       "var outputEl = gd.closest('.output');\n",
       "if (outputEl) {{\n",
       "    x.observe(outputEl, {childList: true});\n",
       "}}\n",
       "\n",
       "                        })                };                });            </script>        </div>"
      ]
     },
     "metadata": {},
     "output_type": "display_data"
    }
   ],
   "source": [
    "fig = px.pie(df_col, values='col', names=df_col.index, title='Percentage of wines by colour')\n",
    "fig.update_traces(textposition='inside', textinfo='percent+value+label')\n",
    "fig.show()\n"
   ]
  },
  {
   "cell_type": "markdown",
   "metadata": {},
   "source": [
    "### 3.5 Number of wines by certification <a class=\"anchor\" id=\"wines_by_certificate\"></a>"
   ]
  },
  {
   "cell_type": "code",
   "execution_count": 60,
   "metadata": {},
   "outputs": [
    {
     "data": {
      "application/vnd.plotly.v1+json": {
       "config": {
        "plotlyServerURL": "https://plot.ly"
       },
       "data": [
        {
         "alignmentgroup": "True",
         "bingroup": "x",
         "hovertemplate": "cert=%{x}<br>count=%{y}<extra></extra>",
         "legendgroup": "",
         "marker": {
          "color": "#636efa",
          "pattern": {
           "shape": ""
          }
         },
         "name": "",
         "offsetgroup": "",
         "orientation": "v",
         "showlegend": false,
         "type": "histogram",
         "x": [
          "D.O.C.G.",
          "I.G.T.",
          "D.O.C.G.",
          "D.O.C.",
          "D.O.C.G.",
          "D.O.C.",
          "D.O.C.G.",
          "I.G.T.",
          "I.G.T.",
          "D.O.C.G.",
          "D.O.P.",
          "D.O.P.",
          "I.G.T.",
          "D.O.P.",
          "D.O.C.G.",
          "I.G.T.",
          "D.O.C.G.",
          "I.G.P.",
          "D.O.C.G.",
          "I.G.P.",
          "I.G.T.",
          "D.O.C.",
          "D.O.C.",
          "I.G.T.",
          "D.O.C.",
          "D.O.P.",
          "D.O.C.G.",
          "D.O.C.",
          "D.O.C.",
          "I.G.T.",
          "D.O.C.",
          "V.S.",
          "V.S.",
          "D.O.C.G.",
          "D.O.C.G.",
          "D.O.C.",
          "D.O.C.G.",
          "D.O.P.",
          "I.G.T.",
          "D.O.C.",
          "D.O.C.",
          "I.G.T.",
          "D.O.P.",
          "D.O.C.",
          "D.O.C.G.",
          "D.O.C.",
          "D.O.C.",
          "D.O.C.G.",
          "D.O.C.G.",
          "D.O.C.G.",
          "D.O.C.G.",
          "D.O.C.",
          "I.G.T.",
          "D.O.C.G.",
          "D.O.C.G.",
          "D.O.C.",
          "D.O.C.G.",
          "D.O.C.",
          "D.O.C.",
          "I.G.T.",
          "D.O.C.",
          "I.G.T.",
          "I.G.T.",
          "D.O.C.",
          "D.O.C.G.",
          "D.O.C.",
          "D.O.P.",
          "D.O.C.G.",
          "D.O.C.",
          "D.O.C.",
          "D.O.C.G.",
          "D.O.P.",
          "V.S.Q.",
          "D.O.P.",
          "D.O.P.",
          "I.G.T.",
          "D.O.C.",
          "D.O.C.G.",
          "D.O.C.",
          "D.O.P.",
          "I.G.T.",
          "D.O.C.G.",
          "V.S.",
          "I.G.T.",
          "D.O.C.",
          "D.O.C.G.",
          "I.G.T.",
          "I.G.T.",
          "I.G.T.",
          "D.O.C.",
          "D.O.C.",
          "I.G.P.",
          "D.O.C.G.",
          "I.G.T.",
          "I.G.P.",
          "I.G.T.",
          "D.O.C.G.",
          "I.G.T.",
          "I.G.T.",
          "D.O.C.G.",
          "D.O.C.",
          "I.G.P.",
          "D.O.C.",
          "D.O.C.",
          "D.O.C.",
          "I.G.P.",
          "I.G.P.",
          "D.O.C.",
          "D.O.C.",
          "D.O.C.",
          "I.G.P.",
          "D.O.P.",
          "D.O.C.",
          "D.O.C.",
          "I.G.T.",
          "D.O.C.G.",
          "D.O.C.",
          "I.G.T.",
          "V.S.",
          "I.G.T.",
          "V.S.",
          "D.O.C.",
          "D.O.C.G.",
          "D.O.P.",
          "D.O.C.",
          "I.G.T.",
          "D.O.P.",
          "D.O.C.G.",
          "D.O.C.G.",
          "D.O.C.",
          "I.G.P.",
          "D.O.C.",
          "D.O.C.G.",
          "D.O.C.",
          "D.O.C.G.",
          "D.O.C.",
          "D.O.C.",
          "D.O.C.",
          "V.S.",
          "D.O.C.G.",
          "I.G.P.",
          "D.O.C.",
          "D.O.C.G.",
          "D.O.C.",
          "D.O.P.",
          "D.O.C.",
          "D.O.C.G.",
          "D.O.C.",
          "V.S.Q.",
          "I.G.T.",
          "D.O.C.",
          "D.O.C.G.",
          "I.G.P.",
          "I.G.T.",
          "D.O.C.",
          "D.O.C.",
          "I.G.T.",
          "D.O.P.",
          "D.O.C.",
          "D.O.C.",
          "I.G.T.",
          "D.O.C.",
          "D.O.P.",
          "D.O.P.",
          "I.G.T.",
          "I.G.T.",
          "D.O.C.",
          "V.S.",
          "I.G.T.",
          "D.O.C.G.",
          "V.S.Q.",
          "I.G.T.",
          "D.O.C.G.",
          "D.O.C.",
          "V.S.",
          "D.O.P.",
          "D.O.C.",
          "I.G.P.",
          "D.O.C.G.",
          "D.O.C.",
          "V.S.",
          "D.O.C.G.",
          "D.O.C.G.",
          "D.O.C.",
          "D.O.C.G.",
          "I.G.T.",
          "D.O.P.",
          "D.O.C.",
          "I.G.T.",
          "D.O.C.G.",
          "I.G.T.",
          "I.G.P.",
          "D.O.C.",
          "D.O.C.",
          "D.O.C.G.",
          "D.O.C.",
          "D.O.C.",
          "D.O.C.",
          "D.O.C.",
          "D.O.C.",
          "D.O.C.",
          "I.G.T.",
          "D.O.P.",
          "I.G.P.",
          "D.O.C.G.",
          "D.O.C.",
          "D.O.C.",
          "I.G.P.",
          "I.G.P.",
          "I.G.T.",
          "I.G.T.",
          "I.G.P.",
          "D.O.C.",
          "D.O.C.",
          "I.G.T.",
          "D.O.C.",
          "I.G.T.",
          "I.G.T.",
          "D.O.C.G.",
          "I.G.P.",
          "I.G.P.",
          "I.G.T.",
          "D.O.P.",
          "V.S.",
          "D.O.C.G.",
          "V.S.",
          "I.G.P.",
          "D.O.C.",
          "D.O.C.G.",
          "D.O.P.",
          "V.S.",
          "D.O.C.G.",
          "D.O.C.",
          "I.G.T.",
          "D.O.C.G.",
          "D.O.P.",
          "I.G.P.",
          "D.O.C.",
          "D.O.C.G.",
          "D.O.C.",
          "D.O.C.G.",
          "D.O.C.G.",
          "D.O.C.",
          "D.O.C.",
          "D.O.C.G.",
          "D.O.C.",
          "V.S.",
          "D.O.C.",
          "I.G.T.",
          "I.G.T.",
          "D.O.C.",
          "D.O.C.",
          "D.O.C.G.",
          "D.O.C.G.",
          "I.G.P.",
          "D.O.C.G.",
          "I.G.T.",
          "I.G.T.",
          "I.G.P.",
          "D.O.C.G.",
          "I.G.T.",
          "I.G.P.",
          "I.G.P.",
          "D.O.C.G.",
          "V.S.",
          "I.G.T.",
          "D.O.C.G.",
          "I.G.T.",
          "V.S.Q.",
          "D.O.C.",
          "I.G.T.",
          "D.O.C.",
          "D.O.C.",
          "I.G.T.",
          "V.S.",
          "I.G.T.",
          "D.O.P.",
          "D.O.C.",
          "D.O.P.",
          "D.O.C.G.",
          "I.G.T.",
          "I.G.T.",
          "D.O.P.",
          "D.O.C.",
          "D.O.C.G.",
          "D.O.C.G.",
          "D.O.P.",
          "D.O.P.",
          "D.O.C.",
          "D.O.P.",
          "D.O.C.",
          "D.O.C.",
          "I.G.P.",
          "D.O.P.",
          "D.O.C.",
          "D.O.C.",
          "D.O.C.",
          "D.O.C.",
          "V.S.",
          "I.G.T.",
          "D.O.P.",
          "D.O.C.G.",
          "D.O.C.",
          "I.G.T.",
          "I.G.T.",
          "D.O.P.",
          "D.O.P.",
          "D.O.P.",
          "I.G.T.",
          "I.G.T.",
          "I.G.T.",
          "D.O.C.",
          "I.G.P.",
          "D.O.P.",
          "I.G.T.",
          "D.O.C.",
          "D.O.C.",
          "I.G.T.",
          "D.O.C.",
          "D.O.C.",
          "D.O.C.",
          "D.O.C.",
          "D.O.C.",
          "I.G.P.",
          "I.G.T.",
          "D.O.C.",
          "D.O.C.",
          "D.O.C.G.",
          "I.G.T.",
          "I.G.T.",
          "D.O.P.",
          "D.O.C.",
          "D.O.C.G.",
          "I.G.P.",
          "I.G.P.",
          "D.O.C.G.",
          "I.G.T.",
          "D.O.C.",
          "D.O.C.",
          "D.O.P.",
          "D.O.C.G.",
          "D.O.P.",
          "D.O.C.G.",
          "D.O.C.",
          "D.O.C.G.",
          "D.O.C.G.",
          "D.O.C.G.",
          "I.G.T.",
          "I.G.T.",
          "I.G.P.",
          "I.G.P.",
          "D.O.C.",
          "I.G.T.",
          "D.O.C.",
          "D.O.P.",
          "D.O.C.",
          "D.O.P.",
          "D.O.C.G.",
          "D.O.P.",
          "I.G.T.",
          "D.O.P.",
          "D.O.C.G.",
          "D.O.C.G.",
          "D.O.P.",
          "I.G.P.",
          "I.G.T.",
          "D.O.C.",
          "D.O.P.",
          "D.O.C.",
          "I.G.T.",
          "I.G.T.",
          "I.G.T.",
          "D.O.C.",
          "D.O.C.G.",
          "D.O.C.",
          "D.O.C.",
          "D.O.P.",
          "I.G.T.",
          "D.O.C.",
          "D.O.C.",
          "V.S.Q.",
          "D.O.C.",
          "D.O.C.G.",
          "V.S.Q.",
          "D.O.C.",
          "D.O.C.G.",
          "D.O.C.",
          "D.O.C.G.",
          "D.O.C.G.",
          "I.G.T.",
          "D.O.C.",
          "D.O.C.G.",
          "I.G.P.",
          "D.O.C.G.",
          "D.O.C.G.",
          "D.O.C.G.",
          "I.G.P.",
          "D.O.C.G.",
          "D.O.C.",
          "D.O.C.",
          "D.O.P.",
          "D.O.P.",
          "D.O.C.",
          "D.O.C.G.",
          "D.O.C.",
          "V.S.Q.",
          "D.O.C.G.",
          "D.O.C.",
          "D.O.C.",
          "D.O.C.",
          "I.G.T.",
          "D.O.C.G.",
          "D.O.P.",
          "D.O.C.G.",
          "D.O.C.",
          "I.G.T.",
          "D.O.C.G.",
          "D.O.P.",
          "I.G.T.",
          "D.O.C.",
          "I.G.P.",
          "I.G.P.",
          "D.O.C.",
          "I.G.P.",
          "D.O.C.G.",
          "D.O.C.",
          "D.O.C.G.",
          "D.O.P.",
          "D.O.C.",
          "D.O.C.",
          "V.S.",
          "D.O.C.",
          "D.O.C.",
          "D.O.C.",
          "V.S.",
          "D.O.P.",
          "I.G.T.",
          "V.S.Q.",
          "D.O.C.G.",
          "D.O.P.",
          "I.G.T.",
          "I.G.P.",
          "I.G.P.",
          "I.G.T.",
          "D.O.C.G.",
          "D.O.C.",
          "D.O.P.",
          "D.O.C.G.",
          "D.O.C.",
          "I.G.T.",
          "I.G.T.",
          "D.O.C.G.",
          "D.O.C.",
          "D.O.C.G.",
          "V.S.",
          "V.S.Q.",
          "D.O.C.",
          "V.S.",
          "D.O.C.G.",
          "I.G.P.",
          "D.O.C.",
          "D.O.C.G.",
          "I.G.T.",
          "D.O.P.",
          "I.G.P.",
          "D.O.C.G.",
          "I.G.P.",
          "D.O.C.",
          "D.O.C.G.",
          "D.O.C.",
          "I.G.T.",
          "D.O.C.G.",
          "D.O.C.G.",
          "D.O.C.",
          "D.O.C.",
          "D.O.C.",
          "D.O.C.",
          "D.O.P.",
          "D.O.P.",
          "D.O.C.G.",
          "D.O.C.",
          "D.O.C.",
          "I.G.P.",
          "I.G.T.",
          "D.O.P.",
          "D.O.P.",
          "D.O.P.",
          "I.G.T.",
          "I.G.T.",
          "D.O.C.G.",
          "I.G.T.",
          "D.O.C.",
          "D.O.C.",
          "D.O.C.",
          "D.O.C.G.",
          "I.G.P.",
          "D.O.C.G.",
          "D.O.C.",
          "D.O.C.",
          "I.G.P.",
          "D.O.C.",
          "D.O.C.",
          "I.G.T.",
          "D.O.C.",
          "D.O.C.",
          "D.O.C.",
          "I.G.T.",
          "D.O.C.G.",
          "I.G.T.",
          "D.O.C.G.",
          "D.O.C.",
          "D.O.C.G.",
          "D.O.C.",
          "D.O.C.G.",
          "I.G.P.",
          "D.O.C.",
          "I.G.P.",
          "D.O.P.",
          "I.G.T.",
          "I.G.T.",
          "I.G.T.",
          "I.G.P.",
          "D.O.P.",
          "I.G.T.",
          "D.O.C.",
          "D.O.P.",
          "D.O.P.",
          "D.O.C.",
          "D.O.P.",
          "I.G.T.",
          "D.O.C.G.",
          "I.G.T.",
          "I.G.T.",
          "D.O.P.",
          "I.G.T.",
          "I.G.T.",
          "V.S.",
          "I.G.P.",
          "D.O.P.",
          "D.O.C.",
          "D.O.C.G.",
          "I.G.T.",
          "I.G.T.",
          "D.O.C.G.",
          "I.G.T.",
          "D.O.C.G.",
          "D.O.P.",
          "D.O.C.",
          "D.O.C.G.",
          "D.O.C.",
          "D.O.P.",
          "D.O.C.G.",
          "D.O.P.",
          "I.G.T.",
          "D.O.C.",
          "I.G.T.",
          "D.O.C.",
          "D.O.P.",
          "D.O.P.",
          "D.O.C.G.",
          "D.O.C.",
          "D.O.C.",
          "D.O.C.",
          "D.O.C.",
          "D.O.C.G.",
          "D.O.C.G.",
          "D.O.C.",
          "D.O.C.G.",
          "I.G.T.",
          "D.O.C.",
          "V.S.Q.",
          "D.O.P.",
          "D.O.C.G.",
          "I.G.P.",
          "D.O.C.",
          "D.O.P.",
          "D.O.C.",
          "D.O.C.",
          "I.G.T.",
          "D.O.C.",
          "D.O.C.",
          "I.G.P.",
          "D.O.C.",
          "D.O.C.",
          "D.O.C.",
          "D.O.C.",
          "D.O.C.",
          "D.O.P.",
          "D.O.C.",
          "I.G.T.",
          "D.O.P.",
          "I.G.T.",
          "I.G.T.",
          "D.O.C.G.",
          "D.O.C.",
          "D.O.C.",
          "I.G.P.",
          "I.G.T.",
          "D.O.P.",
          "D.O.C.G.",
          "D.O.C.",
          "I.G.T.",
          "D.O.C.G.",
          "D.O.P.",
          "D.O.C.",
          "D.O.P.",
          "I.G.P.",
          "D.O.C.",
          "D.O.C.G.",
          "D.O.C.",
          "I.G.T.",
          "D.O.P.",
          "D.O.C.G.",
          "I.G.P.",
          "D.O.C.",
          "I.G.P.",
          "I.G.P.",
          "I.G.P.",
          "I.G.T.",
          "D.O.C.G.",
          "I.G.T.",
          "I.G.T.",
          "D.O.C.G.",
          "I.G.T.",
          "I.G.T.",
          "I.G.T.",
          "D.O.C.",
          "D.O.C.",
          "D.O.C.G.",
          "D.O.C.",
          "D.O.C.G.",
          "V.S.Q.",
          "I.G.T.",
          "D.O.P.",
          "D.O.C.",
          "D.O.C.",
          "D.O.C.",
          "D.O.C.",
          "I.G.T.",
          "D.O.P.",
          "D.O.C.G.",
          "D.O.C.G.",
          "D.O.C.",
          "D.O.C.",
          "D.O.C.G.",
          "I.G.T.",
          "D.O.C.",
          "D.O.P.",
          "D.O.C.",
          "D.O.C.G.",
          "I.G.P.",
          "D.O.C.G.",
          "I.G.T.",
          "D.O.C.",
          "D.O.C.",
          "I.G.T.",
          "D.O.C.",
          "D.O.C.G.",
          "D.O.C.",
          "I.G.T.",
          "V.S.",
          "D.O.C.",
          "D.O.C.",
          "D.O.C.G.",
          "D.O.P.",
          "D.O.C.",
          "D.O.C.",
          "D.O.C.",
          "D.O.C.G.",
          "D.O.P.",
          "D.O.C.G.",
          "I.G.T.",
          "V.S.",
          "D.O.C.",
          "D.O.C.G.",
          "I.G.P.",
          "V.S.",
          "I.G.T.",
          "D.O.P.",
          "V.S.",
          "D.O.C.",
          "D.O.P.",
          "I.G.P.",
          "D.O.C.G.",
          "I.G.T.",
          "I.G.T.",
          "D.O.C.G.",
          "I.G.T.",
          "I.G.T.",
          "I.G.T.",
          "D.O.C.",
          "D.O.C.G.",
          "D.O.C.",
          "D.O.C.G.",
          "D.O.C.G.",
          "D.O.C.",
          "I.G.T.",
          "D.O.C.G.",
          "D.O.C.G.",
          "D.O.P.",
          "D.O.C.",
          "I.G.T.",
          "I.G.T.",
          "D.O.C.G.",
          "D.O.C.",
          "I.G.T.",
          "I.G.P.",
          "I.G.T.",
          "I.G.T.",
          "D.O.C.",
          "I.G.P.",
          "D.O.C.G.",
          "D.O.C.G.",
          "D.O.C.",
          "D.O.C.",
          "D.O.C.",
          "D.O.C.",
          "D.O.C.",
          "I.G.T.",
          "I.G.T.",
          "I.G.T.",
          "V.S.",
          "D.O.C.",
          "D.O.C.G.",
          "I.G.P.",
          "D.O.C.",
          "I.G.T.",
          "I.G.P.",
          "D.O.C.",
          "D.O.C.G.",
          "D.O.C.G.",
          "D.O.C.G.",
          "D.O.C.G.",
          "I.G.T.",
          "I.G.T.",
          "I.G.T.",
          "D.O.P.",
          "I.G.P.",
          "I.G.T.",
          "I.G.T.",
          "I.G.T.",
          "D.O.C.G.",
          "I.G.T.",
          "D.O.C.",
          "D.O.C.G.",
          "D.O.C.",
          "D.O.C.G.",
          "D.O.C.G.",
          "D.O.C.",
          "D.O.C.",
          "I.G.T.",
          "D.O.C.",
          "D.O.C.",
          "I.G.T.",
          "I.G.T.",
          "I.G.P.",
          "D.O.P.",
          "I.G.T.",
          "I.G.T.",
          "I.G.P.",
          "D.O.C.",
          "I.G.T.",
          "D.O.C.",
          "D.O.C.G.",
          "D.O.C.",
          "V.S.",
          "I.G.P.",
          "I.G.T.",
          "I.G.T.",
          "D.O.C.G.",
          "I.G.T.",
          "D.O.C.G.",
          "D.O.C.",
          "D.O.C.",
          "V.S.",
          "I.G.T.",
          "D.O.C.",
          "V.S.Q.",
          "D.O.C.G.",
          "D.O.C.",
          "I.G.P.",
          "D.O.C.",
          "D.O.C.G.",
          "I.G.P.",
          "D.O.C.",
          "D.O.C.G.",
          "D.O.C.G.",
          "I.G.T.",
          "D.O.C.G.",
          "D.O.C.",
          "D.O.C.",
          "D.O.C.",
          "D.O.C.G.",
          "D.O.P.",
          "I.G.P.",
          "D.O.C.G.",
          "D.O.C.",
          "D.O.C.",
          "I.G.T.",
          "D.O.C.G.",
          "I.G.P.",
          "I.G.P.",
          "D.O.C.",
          "I.G.P.",
          "D.O.C.",
          "V.S.Q.",
          "D.O.P.",
          "I.G.T.",
          "D.O.C.",
          "D.O.C.",
          "D.O.C.G.",
          "I.G.T.",
          "D.O.C.",
          "D.O.C.G.",
          "D.O.C.G.",
          "I.G.T.",
          "D.O.C.",
          "D.O.P.",
          "D.O.C.G.",
          "V.S.Q.",
          "D.O.C.G.",
          "D.O.C.G.",
          "D.O.C.",
          "D.O.C.G.",
          "I.G.T.",
          "D.O.C.G.",
          "D.O.C.G.",
          "D.O.C.",
          "D.O.C.G.",
          "I.G.T.",
          "D.O.C.",
          "D.O.C.G.",
          "D.O.C.G.",
          "D.O.C.G.",
          "I.G.T.",
          "D.O.C.",
          "I.G.T.",
          "D.O.C.G.",
          "I.G.T.",
          "V.S.",
          "I.G.T.",
          "I.G.T.",
          "I.G.T.",
          "I.G.P.",
          "D.O.C.",
          "D.O.C.",
          "D.O.P.",
          "I.G.T.",
          "D.O.C.",
          "I.G.P.",
          "D.O.C.",
          "D.O.C.G.",
          "D.O.C.",
          "D.O.C.G.",
          "I.G.T.",
          "D.O.C.",
          "D.O.P.",
          "I.G.P.",
          "D.O.P.",
          "I.G.P.",
          "I.G.T.",
          "I.G.T.",
          "D.O.C.G.",
          "I.G.T.",
          "D.O.C.",
          "I.G.P.",
          "I.G.T.",
          "I.G.T.",
          "I.G.T.",
          "D.O.C.G.",
          "D.O.C.",
          "I.G.T.",
          "D.O.C.",
          "D.O.C.",
          "I.G.P.",
          "D.O.C.",
          "D.O.P.",
          "D.O.C.G.",
          "D.O.C.G.",
          "D.O.C.",
          "D.O.P.",
          "D.O.C.G.",
          "D.O.C.",
          "D.O.C.",
          "D.O.C.G.",
          "D.O.C.",
          "I.G.T.",
          "D.O.C.G.",
          "I.G.T.",
          "I.G.P.",
          "D.O.P.",
          "I.G.P.",
          "D.O.C.",
          "I.G.T.",
          "I.G.T.",
          "I.G.P.",
          "D.O.C.",
          "I.G.T.",
          "I.G.T.",
          "D.O.C.G.",
          "I.G.T.",
          "D.O.C.",
          "D.O.C.",
          "I.G.T.",
          "I.G.T.",
          "V.S.Q.",
          "D.O.P.",
          "V.S.Q.",
          "D.O.C.",
          "D.O.C.G.",
          "I.G.T.",
          "I.G.T.",
          "I.G.T.",
          "D.O.P.",
          "I.G.T.",
          "D.O.C.",
          "D.O.C.",
          "D.O.C.G.",
          "I.G.T.",
          "D.O.C.G.",
          "D.O.C.",
          "D.O.P.",
          "D.O.C.",
          "D.O.C.",
          "D.O.C.",
          "D.O.C.",
          "D.O.C.G.",
          "D.O.P.",
          "D.O.P.",
          "D.O.C.",
          "I.G.T.",
          "D.O.C.",
          "I.G.P.",
          "I.G.P.",
          "D.O.P.",
          "I.G.P.",
          "V.S.Q.",
          "D.O.C.G.",
          "I.G.T.",
          "D.O.C.",
          "D.O.C.G.",
          "D.O.C.",
          "D.O.C.",
          "D.O.C.",
          "I.G.T.",
          "I.G.P.",
          "D.O.C.G.",
          "D.O.C.",
          "D.O.C.G.",
          "I.G.T.",
          "D.O.P.",
          "D.O.C.",
          "D.O.C.G.",
          "D.O.C.G.",
          "D.O.P.",
          "I.G.T.",
          "I.G.T.",
          "I.G.T.",
          "I.G.T.",
          "D.O.C.",
          "I.G.P.",
          "I.G.T.",
          "D.O.C.",
          "V.S.",
          "I.G.T.",
          "I.G.T.",
          "I.G.T.",
          "I.G.P.",
          "I.G.T.",
          "I.G.P.",
          "I.G.T.",
          "D.O.C.G.",
          "D.O.C.",
          "D.O.C.",
          "I.G.P.",
          "D.O.P.",
          "I.G.T.",
          "D.O.C.G.",
          "V.S.",
          "D.O.C.",
          "I.G.T.",
          "D.O.P.",
          "D.O.C.",
          "I.G.P.",
          "I.G.T.",
          "D.O.P.",
          "D.O.C.G.",
          "D.O.C.",
          "D.O.P.",
          "D.O.C.",
          "D.O.C.G.",
          "I.G.T.",
          "D.O.P.",
          "V.S.",
          "I.G.P.",
          "D.O.C.",
          "D.O.C.G.",
          "D.O.C.",
          "D.O.C.",
          "I.G.T.",
          "I.G.T.",
          "D.O.C.",
          "I.G.T.",
          "D.O.C.",
          "I.G.T.",
          "I.G.T.",
          "D.O.C.G.",
          "D.O.C.",
          "D.O.C.",
          "D.O.P.",
          "D.O.P.",
          "D.O.C.G.",
          "I.G.T.",
          "I.G.P.",
          "I.G.P.",
          "V.S.Q.A.",
          "D.O.C.G.",
          "D.O.C.",
          "I.G.T.",
          "D.O.P.",
          "D.O.C.G.",
          "I.G.P.",
          "D.O.C.G.",
          "I.G.T.",
          "I.G.T.",
          "D.O.C.G.",
          "D.O.C.",
          "I.G.P.",
          "D.O.P.",
          "D.O.C.",
          "D.O.C.",
          "D.O.C.G.",
          "D.O.C.",
          "D.O.C.",
          "D.O.P.",
          "I.G.T.",
          "D.O.P.",
          "I.G.T.",
          "I.G.P.",
          "D.O.C.",
          "D.O.P.",
          "D.O.C.",
          "I.G.T.",
          "D.O.C.",
          "D.O.P.",
          "I.G.P.",
          "D.O.C.",
          "I.G.T.",
          "D.O.C.",
          "I.G.T.",
          "I.G.P.",
          "D.O.C.",
          "I.G.T.",
          "D.O.P.",
          "I.G.P.",
          "I.G.P.",
          "D.O.C.",
          "D.O.P.",
          "V.S.",
          "I.G.P.",
          "I.G.T.",
          "D.O.C.G.",
          "D.O.P.",
          "D.O.C.",
          "D.O.P.",
          "D.O.C.",
          "I.G.T.",
          "D.O.C.",
          "D.O.C.G.",
          "I.G.T.",
          "D.O.P.",
          "D.O.P.",
          "D.O.P.",
          "D.O.C.",
          "I.G.T.",
          "I.G.P.",
          "D.O.C."
         ],
         "xaxis": "x",
         "yaxis": "y"
        }
       ],
       "layout": {
        "barmode": "relative",
        "legend": {
         "tracegroupgap": 0
        },
        "margin": {
         "t": 60
        },
        "template": {
         "data": {
          "bar": [
           {
            "error_x": {
             "color": "#2a3f5f"
            },
            "error_y": {
             "color": "#2a3f5f"
            },
            "marker": {
             "line": {
              "color": "#E5ECF6",
              "width": 0.5
             },
             "pattern": {
              "fillmode": "overlay",
              "size": 10,
              "solidity": 0.2
             }
            },
            "type": "bar"
           }
          ],
          "barpolar": [
           {
            "marker": {
             "line": {
              "color": "#E5ECF6",
              "width": 0.5
             },
             "pattern": {
              "fillmode": "overlay",
              "size": 10,
              "solidity": 0.2
             }
            },
            "type": "barpolar"
           }
          ],
          "carpet": [
           {
            "aaxis": {
             "endlinecolor": "#2a3f5f",
             "gridcolor": "white",
             "linecolor": "white",
             "minorgridcolor": "white",
             "startlinecolor": "#2a3f5f"
            },
            "baxis": {
             "endlinecolor": "#2a3f5f",
             "gridcolor": "white",
             "linecolor": "white",
             "minorgridcolor": "white",
             "startlinecolor": "#2a3f5f"
            },
            "type": "carpet"
           }
          ],
          "choropleth": [
           {
            "colorbar": {
             "outlinewidth": 0,
             "ticks": ""
            },
            "type": "choropleth"
           }
          ],
          "contour": [
           {
            "colorbar": {
             "outlinewidth": 0,
             "ticks": ""
            },
            "colorscale": [
             [
              0,
              "#0d0887"
             ],
             [
              0.1111111111111111,
              "#46039f"
             ],
             [
              0.2222222222222222,
              "#7201a8"
             ],
             [
              0.3333333333333333,
              "#9c179e"
             ],
             [
              0.4444444444444444,
              "#bd3786"
             ],
             [
              0.5555555555555556,
              "#d8576b"
             ],
             [
              0.6666666666666666,
              "#ed7953"
             ],
             [
              0.7777777777777778,
              "#fb9f3a"
             ],
             [
              0.8888888888888888,
              "#fdca26"
             ],
             [
              1,
              "#f0f921"
             ]
            ],
            "type": "contour"
           }
          ],
          "contourcarpet": [
           {
            "colorbar": {
             "outlinewidth": 0,
             "ticks": ""
            },
            "type": "contourcarpet"
           }
          ],
          "heatmap": [
           {
            "colorbar": {
             "outlinewidth": 0,
             "ticks": ""
            },
            "colorscale": [
             [
              0,
              "#0d0887"
             ],
             [
              0.1111111111111111,
              "#46039f"
             ],
             [
              0.2222222222222222,
              "#7201a8"
             ],
             [
              0.3333333333333333,
              "#9c179e"
             ],
             [
              0.4444444444444444,
              "#bd3786"
             ],
             [
              0.5555555555555556,
              "#d8576b"
             ],
             [
              0.6666666666666666,
              "#ed7953"
             ],
             [
              0.7777777777777778,
              "#fb9f3a"
             ],
             [
              0.8888888888888888,
              "#fdca26"
             ],
             [
              1,
              "#f0f921"
             ]
            ],
            "type": "heatmap"
           }
          ],
          "heatmapgl": [
           {
            "colorbar": {
             "outlinewidth": 0,
             "ticks": ""
            },
            "colorscale": [
             [
              0,
              "#0d0887"
             ],
             [
              0.1111111111111111,
              "#46039f"
             ],
             [
              0.2222222222222222,
              "#7201a8"
             ],
             [
              0.3333333333333333,
              "#9c179e"
             ],
             [
              0.4444444444444444,
              "#bd3786"
             ],
             [
              0.5555555555555556,
              "#d8576b"
             ],
             [
              0.6666666666666666,
              "#ed7953"
             ],
             [
              0.7777777777777778,
              "#fb9f3a"
             ],
             [
              0.8888888888888888,
              "#fdca26"
             ],
             [
              1,
              "#f0f921"
             ]
            ],
            "type": "heatmapgl"
           }
          ],
          "histogram": [
           {
            "marker": {
             "pattern": {
              "fillmode": "overlay",
              "size": 10,
              "solidity": 0.2
             }
            },
            "type": "histogram"
           }
          ],
          "histogram2d": [
           {
            "colorbar": {
             "outlinewidth": 0,
             "ticks": ""
            },
            "colorscale": [
             [
              0,
              "#0d0887"
             ],
             [
              0.1111111111111111,
              "#46039f"
             ],
             [
              0.2222222222222222,
              "#7201a8"
             ],
             [
              0.3333333333333333,
              "#9c179e"
             ],
             [
              0.4444444444444444,
              "#bd3786"
             ],
             [
              0.5555555555555556,
              "#d8576b"
             ],
             [
              0.6666666666666666,
              "#ed7953"
             ],
             [
              0.7777777777777778,
              "#fb9f3a"
             ],
             [
              0.8888888888888888,
              "#fdca26"
             ],
             [
              1,
              "#f0f921"
             ]
            ],
            "type": "histogram2d"
           }
          ],
          "histogram2dcontour": [
           {
            "colorbar": {
             "outlinewidth": 0,
             "ticks": ""
            },
            "colorscale": [
             [
              0,
              "#0d0887"
             ],
             [
              0.1111111111111111,
              "#46039f"
             ],
             [
              0.2222222222222222,
              "#7201a8"
             ],
             [
              0.3333333333333333,
              "#9c179e"
             ],
             [
              0.4444444444444444,
              "#bd3786"
             ],
             [
              0.5555555555555556,
              "#d8576b"
             ],
             [
              0.6666666666666666,
              "#ed7953"
             ],
             [
              0.7777777777777778,
              "#fb9f3a"
             ],
             [
              0.8888888888888888,
              "#fdca26"
             ],
             [
              1,
              "#f0f921"
             ]
            ],
            "type": "histogram2dcontour"
           }
          ],
          "mesh3d": [
           {
            "colorbar": {
             "outlinewidth": 0,
             "ticks": ""
            },
            "type": "mesh3d"
           }
          ],
          "parcoords": [
           {
            "line": {
             "colorbar": {
              "outlinewidth": 0,
              "ticks": ""
             }
            },
            "type": "parcoords"
           }
          ],
          "pie": [
           {
            "automargin": true,
            "type": "pie"
           }
          ],
          "scatter": [
           {
            "marker": {
             "colorbar": {
              "outlinewidth": 0,
              "ticks": ""
             }
            },
            "type": "scatter"
           }
          ],
          "scatter3d": [
           {
            "line": {
             "colorbar": {
              "outlinewidth": 0,
              "ticks": ""
             }
            },
            "marker": {
             "colorbar": {
              "outlinewidth": 0,
              "ticks": ""
             }
            },
            "type": "scatter3d"
           }
          ],
          "scattercarpet": [
           {
            "marker": {
             "colorbar": {
              "outlinewidth": 0,
              "ticks": ""
             }
            },
            "type": "scattercarpet"
           }
          ],
          "scattergeo": [
           {
            "marker": {
             "colorbar": {
              "outlinewidth": 0,
              "ticks": ""
             }
            },
            "type": "scattergeo"
           }
          ],
          "scattergl": [
           {
            "marker": {
             "colorbar": {
              "outlinewidth": 0,
              "ticks": ""
             }
            },
            "type": "scattergl"
           }
          ],
          "scattermapbox": [
           {
            "marker": {
             "colorbar": {
              "outlinewidth": 0,
              "ticks": ""
             }
            },
            "type": "scattermapbox"
           }
          ],
          "scatterpolar": [
           {
            "marker": {
             "colorbar": {
              "outlinewidth": 0,
              "ticks": ""
             }
            },
            "type": "scatterpolar"
           }
          ],
          "scatterpolargl": [
           {
            "marker": {
             "colorbar": {
              "outlinewidth": 0,
              "ticks": ""
             }
            },
            "type": "scatterpolargl"
           }
          ],
          "scatterternary": [
           {
            "marker": {
             "colorbar": {
              "outlinewidth": 0,
              "ticks": ""
             }
            },
            "type": "scatterternary"
           }
          ],
          "surface": [
           {
            "colorbar": {
             "outlinewidth": 0,
             "ticks": ""
            },
            "colorscale": [
             [
              0,
              "#0d0887"
             ],
             [
              0.1111111111111111,
              "#46039f"
             ],
             [
              0.2222222222222222,
              "#7201a8"
             ],
             [
              0.3333333333333333,
              "#9c179e"
             ],
             [
              0.4444444444444444,
              "#bd3786"
             ],
             [
              0.5555555555555556,
              "#d8576b"
             ],
             [
              0.6666666666666666,
              "#ed7953"
             ],
             [
              0.7777777777777778,
              "#fb9f3a"
             ],
             [
              0.8888888888888888,
              "#fdca26"
             ],
             [
              1,
              "#f0f921"
             ]
            ],
            "type": "surface"
           }
          ],
          "table": [
           {
            "cells": {
             "fill": {
              "color": "#EBF0F8"
             },
             "line": {
              "color": "white"
             }
            },
            "header": {
             "fill": {
              "color": "#C8D4E3"
             },
             "line": {
              "color": "white"
             }
            },
            "type": "table"
           }
          ]
         },
         "layout": {
          "annotationdefaults": {
           "arrowcolor": "#2a3f5f",
           "arrowhead": 0,
           "arrowwidth": 1
          },
          "autotypenumbers": "strict",
          "coloraxis": {
           "colorbar": {
            "outlinewidth": 0,
            "ticks": ""
           }
          },
          "colorscale": {
           "diverging": [
            [
             0,
             "#8e0152"
            ],
            [
             0.1,
             "#c51b7d"
            ],
            [
             0.2,
             "#de77ae"
            ],
            [
             0.3,
             "#f1b6da"
            ],
            [
             0.4,
             "#fde0ef"
            ],
            [
             0.5,
             "#f7f7f7"
            ],
            [
             0.6,
             "#e6f5d0"
            ],
            [
             0.7,
             "#b8e186"
            ],
            [
             0.8,
             "#7fbc41"
            ],
            [
             0.9,
             "#4d9221"
            ],
            [
             1,
             "#276419"
            ]
           ],
           "sequential": [
            [
             0,
             "#0d0887"
            ],
            [
             0.1111111111111111,
             "#46039f"
            ],
            [
             0.2222222222222222,
             "#7201a8"
            ],
            [
             0.3333333333333333,
             "#9c179e"
            ],
            [
             0.4444444444444444,
             "#bd3786"
            ],
            [
             0.5555555555555556,
             "#d8576b"
            ],
            [
             0.6666666666666666,
             "#ed7953"
            ],
            [
             0.7777777777777778,
             "#fb9f3a"
            ],
            [
             0.8888888888888888,
             "#fdca26"
            ],
            [
             1,
             "#f0f921"
            ]
           ],
           "sequentialminus": [
            [
             0,
             "#0d0887"
            ],
            [
             0.1111111111111111,
             "#46039f"
            ],
            [
             0.2222222222222222,
             "#7201a8"
            ],
            [
             0.3333333333333333,
             "#9c179e"
            ],
            [
             0.4444444444444444,
             "#bd3786"
            ],
            [
             0.5555555555555556,
             "#d8576b"
            ],
            [
             0.6666666666666666,
             "#ed7953"
            ],
            [
             0.7777777777777778,
             "#fb9f3a"
            ],
            [
             0.8888888888888888,
             "#fdca26"
            ],
            [
             1,
             "#f0f921"
            ]
           ]
          },
          "colorway": [
           "#636efa",
           "#EF553B",
           "#00cc96",
           "#ab63fa",
           "#FFA15A",
           "#19d3f3",
           "#FF6692",
           "#B6E880",
           "#FF97FF",
           "#FECB52"
          ],
          "font": {
           "color": "#2a3f5f"
          },
          "geo": {
           "bgcolor": "white",
           "lakecolor": "white",
           "landcolor": "#E5ECF6",
           "showlakes": true,
           "showland": true,
           "subunitcolor": "white"
          },
          "hoverlabel": {
           "align": "left"
          },
          "hovermode": "closest",
          "mapbox": {
           "style": "light"
          },
          "paper_bgcolor": "white",
          "plot_bgcolor": "#E5ECF6",
          "polar": {
           "angularaxis": {
            "gridcolor": "white",
            "linecolor": "white",
            "ticks": ""
           },
           "bgcolor": "#E5ECF6",
           "radialaxis": {
            "gridcolor": "white",
            "linecolor": "white",
            "ticks": ""
           }
          },
          "scene": {
           "xaxis": {
            "backgroundcolor": "#E5ECF6",
            "gridcolor": "white",
            "gridwidth": 2,
            "linecolor": "white",
            "showbackground": true,
            "ticks": "",
            "zerolinecolor": "white"
           },
           "yaxis": {
            "backgroundcolor": "#E5ECF6",
            "gridcolor": "white",
            "gridwidth": 2,
            "linecolor": "white",
            "showbackground": true,
            "ticks": "",
            "zerolinecolor": "white"
           },
           "zaxis": {
            "backgroundcolor": "#E5ECF6",
            "gridcolor": "white",
            "gridwidth": 2,
            "linecolor": "white",
            "showbackground": true,
            "ticks": "",
            "zerolinecolor": "white"
           }
          },
          "shapedefaults": {
           "line": {
            "color": "#2a3f5f"
           }
          },
          "ternary": {
           "aaxis": {
            "gridcolor": "white",
            "linecolor": "white",
            "ticks": ""
           },
           "baxis": {
            "gridcolor": "white",
            "linecolor": "white",
            "ticks": ""
           },
           "bgcolor": "#E5ECF6",
           "caxis": {
            "gridcolor": "white",
            "linecolor": "white",
            "ticks": ""
           }
          },
          "title": {
           "x": 0.05
          },
          "xaxis": {
           "automargin": true,
           "gridcolor": "white",
           "linecolor": "white",
           "ticks": "",
           "title": {
            "standoff": 15
           },
           "zerolinecolor": "white",
           "zerolinewidth": 2
          },
          "yaxis": {
           "automargin": true,
           "gridcolor": "white",
           "linecolor": "white",
           "ticks": "",
           "title": {
            "standoff": 15
           },
           "zerolinecolor": "white",
           "zerolinewidth": 2
          }
         }
        },
        "xaxis": {
         "anchor": "y",
         "categoryorder": "total descending",
         "domain": [
          0,
          1
         ],
         "title": {
          "text": "Number of wines by certification"
         }
        },
        "yaxis": {
         "anchor": "x",
         "domain": [
          0,
          1
         ],
         "title": {
          "text": "count"
         }
        }
       }
      },
      "text/html": [
       "<div>                            <div id=\"6a4bd001-5713-4e93-b013-674fa9d1eccf\" class=\"plotly-graph-div\" style=\"height:525px; width:100%;\"></div>            <script type=\"text/javascript\">                require([\"plotly\"], function(Plotly) {                    window.PLOTLYENV=window.PLOTLYENV || {};                                    if (document.getElementById(\"6a4bd001-5713-4e93-b013-674fa9d1eccf\")) {                    Plotly.newPlot(                        \"6a4bd001-5713-4e93-b013-674fa9d1eccf\",                        [{\"alignmentgroup\":\"True\",\"bingroup\":\"x\",\"hovertemplate\":\"cert=%{x}<br>count=%{y}<extra></extra>\",\"legendgroup\":\"\",\"marker\":{\"color\":\"#636efa\",\"pattern\":{\"shape\":\"\"}},\"name\":\"\",\"offsetgroup\":\"\",\"orientation\":\"v\",\"showlegend\":false,\"x\":[\"D.O.C.G.\",\"I.G.T.\",\"D.O.C.G.\",\"D.O.C.\",\"D.O.C.G.\",\"D.O.C.\",\"D.O.C.G.\",\"I.G.T.\",\"I.G.T.\",\"D.O.C.G.\",\"D.O.P.\",\"D.O.P.\",\"I.G.T.\",\"D.O.P.\",\"D.O.C.G.\",\"I.G.T.\",\"D.O.C.G.\",\"I.G.P.\",\"D.O.C.G.\",\"I.G.P.\",\"I.G.T.\",\"D.O.C.\",\"D.O.C.\",\"I.G.T.\",\"D.O.C.\",\"D.O.P.\",\"D.O.C.G.\",\"D.O.C.\",\"D.O.C.\",\"I.G.T.\",\"D.O.C.\",\"V.S.\",\"V.S.\",\"D.O.C.G.\",\"D.O.C.G.\",\"D.O.C.\",\"D.O.C.G.\",\"D.O.P.\",\"I.G.T.\",\"D.O.C.\",\"D.O.C.\",\"I.G.T.\",\"D.O.P.\",\"D.O.C.\",\"D.O.C.G.\",\"D.O.C.\",\"D.O.C.\",\"D.O.C.G.\",\"D.O.C.G.\",\"D.O.C.G.\",\"D.O.C.G.\",\"D.O.C.\",\"I.G.T.\",\"D.O.C.G.\",\"D.O.C.G.\",\"D.O.C.\",\"D.O.C.G.\",\"D.O.C.\",\"D.O.C.\",\"I.G.T.\",\"D.O.C.\",\"I.G.T.\",\"I.G.T.\",\"D.O.C.\",\"D.O.C.G.\",\"D.O.C.\",\"D.O.P.\",\"D.O.C.G.\",\"D.O.C.\",\"D.O.C.\",\"D.O.C.G.\",\"D.O.P.\",\"V.S.Q.\",\"D.O.P.\",\"D.O.P.\",\"I.G.T.\",\"D.O.C.\",\"D.O.C.G.\",\"D.O.C.\",\"D.O.P.\",\"I.G.T.\",\"D.O.C.G.\",\"V.S.\",\"I.G.T.\",\"D.O.C.\",\"D.O.C.G.\",\"I.G.T.\",\"I.G.T.\",\"I.G.T.\",\"D.O.C.\",\"D.O.C.\",\"I.G.P.\",\"D.O.C.G.\",\"I.G.T.\",\"I.G.P.\",\"I.G.T.\",\"D.O.C.G.\",\"I.G.T.\",\"I.G.T.\",\"D.O.C.G.\",\"D.O.C.\",\"I.G.P.\",\"D.O.C.\",\"D.O.C.\",\"D.O.C.\",\"I.G.P.\",\"I.G.P.\",\"D.O.C.\",\"D.O.C.\",\"D.O.C.\",\"I.G.P.\",\"D.O.P.\",\"D.O.C.\",\"D.O.C.\",\"I.G.T.\",\"D.O.C.G.\",\"D.O.C.\",\"I.G.T.\",\"V.S.\",\"I.G.T.\",\"V.S.\",\"D.O.C.\",\"D.O.C.G.\",\"D.O.P.\",\"D.O.C.\",\"I.G.T.\",\"D.O.P.\",\"D.O.C.G.\",\"D.O.C.G.\",\"D.O.C.\",\"I.G.P.\",\"D.O.C.\",\"D.O.C.G.\",\"D.O.C.\",\"D.O.C.G.\",\"D.O.C.\",\"D.O.C.\",\"D.O.C.\",\"V.S.\",\"D.O.C.G.\",\"I.G.P.\",\"D.O.C.\",\"D.O.C.G.\",\"D.O.C.\",\"D.O.P.\",\"D.O.C.\",\"D.O.C.G.\",\"D.O.C.\",\"V.S.Q.\",\"I.G.T.\",\"D.O.C.\",\"D.O.C.G.\",\"I.G.P.\",\"I.G.T.\",\"D.O.C.\",\"D.O.C.\",\"I.G.T.\",\"D.O.P.\",\"D.O.C.\",\"D.O.C.\",\"I.G.T.\",\"D.O.C.\",\"D.O.P.\",\"D.O.P.\",\"I.G.T.\",\"I.G.T.\",\"D.O.C.\",\"V.S.\",\"I.G.T.\",\"D.O.C.G.\",\"V.S.Q.\",\"I.G.T.\",\"D.O.C.G.\",\"D.O.C.\",\"V.S.\",\"D.O.P.\",\"D.O.C.\",\"I.G.P.\",\"D.O.C.G.\",\"D.O.C.\",\"V.S.\",\"D.O.C.G.\",\"D.O.C.G.\",\"D.O.C.\",\"D.O.C.G.\",\"I.G.T.\",\"D.O.P.\",\"D.O.C.\",\"I.G.T.\",\"D.O.C.G.\",\"I.G.T.\",\"I.G.P.\",\"D.O.C.\",\"D.O.C.\",\"D.O.C.G.\",\"D.O.C.\",\"D.O.C.\",\"D.O.C.\",\"D.O.C.\",\"D.O.C.\",\"D.O.C.\",\"I.G.T.\",\"D.O.P.\",\"I.G.P.\",\"D.O.C.G.\",\"D.O.C.\",\"D.O.C.\",\"I.G.P.\",\"I.G.P.\",\"I.G.T.\",\"I.G.T.\",\"I.G.P.\",\"D.O.C.\",\"D.O.C.\",\"I.G.T.\",\"D.O.C.\",\"I.G.T.\",\"I.G.T.\",\"D.O.C.G.\",\"I.G.P.\",\"I.G.P.\",\"I.G.T.\",\"D.O.P.\",\"V.S.\",\"D.O.C.G.\",\"V.S.\",\"I.G.P.\",\"D.O.C.\",\"D.O.C.G.\",\"D.O.P.\",\"V.S.\",\"D.O.C.G.\",\"D.O.C.\",\"I.G.T.\",\"D.O.C.G.\",\"D.O.P.\",\"I.G.P.\",\"D.O.C.\",\"D.O.C.G.\",\"D.O.C.\",\"D.O.C.G.\",\"D.O.C.G.\",\"D.O.C.\",\"D.O.C.\",\"D.O.C.G.\",\"D.O.C.\",\"V.S.\",\"D.O.C.\",\"I.G.T.\",\"I.G.T.\",\"D.O.C.\",\"D.O.C.\",\"D.O.C.G.\",\"D.O.C.G.\",\"I.G.P.\",\"D.O.C.G.\",\"I.G.T.\",\"I.G.T.\",\"I.G.P.\",\"D.O.C.G.\",\"I.G.T.\",\"I.G.P.\",\"I.G.P.\",\"D.O.C.G.\",\"V.S.\",\"I.G.T.\",\"D.O.C.G.\",\"I.G.T.\",\"V.S.Q.\",\"D.O.C.\",\"I.G.T.\",\"D.O.C.\",\"D.O.C.\",\"I.G.T.\",\"V.S.\",\"I.G.T.\",\"D.O.P.\",\"D.O.C.\",\"D.O.P.\",\"D.O.C.G.\",\"I.G.T.\",\"I.G.T.\",\"D.O.P.\",\"D.O.C.\",\"D.O.C.G.\",\"D.O.C.G.\",\"D.O.P.\",\"D.O.P.\",\"D.O.C.\",\"D.O.P.\",\"D.O.C.\",\"D.O.C.\",\"I.G.P.\",\"D.O.P.\",\"D.O.C.\",\"D.O.C.\",\"D.O.C.\",\"D.O.C.\",\"V.S.\",\"I.G.T.\",\"D.O.P.\",\"D.O.C.G.\",\"D.O.C.\",\"I.G.T.\",\"I.G.T.\",\"D.O.P.\",\"D.O.P.\",\"D.O.P.\",\"I.G.T.\",\"I.G.T.\",\"I.G.T.\",\"D.O.C.\",\"I.G.P.\",\"D.O.P.\",\"I.G.T.\",\"D.O.C.\",\"D.O.C.\",\"I.G.T.\",\"D.O.C.\",\"D.O.C.\",\"D.O.C.\",\"D.O.C.\",\"D.O.C.\",\"I.G.P.\",\"I.G.T.\",\"D.O.C.\",\"D.O.C.\",\"D.O.C.G.\",\"I.G.T.\",\"I.G.T.\",\"D.O.P.\",\"D.O.C.\",\"D.O.C.G.\",\"I.G.P.\",\"I.G.P.\",\"D.O.C.G.\",\"I.G.T.\",\"D.O.C.\",\"D.O.C.\",\"D.O.P.\",\"D.O.C.G.\",\"D.O.P.\",\"D.O.C.G.\",\"D.O.C.\",\"D.O.C.G.\",\"D.O.C.G.\",\"D.O.C.G.\",\"I.G.T.\",\"I.G.T.\",\"I.G.P.\",\"I.G.P.\",\"D.O.C.\",\"I.G.T.\",\"D.O.C.\",\"D.O.P.\",\"D.O.C.\",\"D.O.P.\",\"D.O.C.G.\",\"D.O.P.\",\"I.G.T.\",\"D.O.P.\",\"D.O.C.G.\",\"D.O.C.G.\",\"D.O.P.\",\"I.G.P.\",\"I.G.T.\",\"D.O.C.\",\"D.O.P.\",\"D.O.C.\",\"I.G.T.\",\"I.G.T.\",\"I.G.T.\",\"D.O.C.\",\"D.O.C.G.\",\"D.O.C.\",\"D.O.C.\",\"D.O.P.\",\"I.G.T.\",\"D.O.C.\",\"D.O.C.\",\"V.S.Q.\",\"D.O.C.\",\"D.O.C.G.\",\"V.S.Q.\",\"D.O.C.\",\"D.O.C.G.\",\"D.O.C.\",\"D.O.C.G.\",\"D.O.C.G.\",\"I.G.T.\",\"D.O.C.\",\"D.O.C.G.\",\"I.G.P.\",\"D.O.C.G.\",\"D.O.C.G.\",\"D.O.C.G.\",\"I.G.P.\",\"D.O.C.G.\",\"D.O.C.\",\"D.O.C.\",\"D.O.P.\",\"D.O.P.\",\"D.O.C.\",\"D.O.C.G.\",\"D.O.C.\",\"V.S.Q.\",\"D.O.C.G.\",\"D.O.C.\",\"D.O.C.\",\"D.O.C.\",\"I.G.T.\",\"D.O.C.G.\",\"D.O.P.\",\"D.O.C.G.\",\"D.O.C.\",\"I.G.T.\",\"D.O.C.G.\",\"D.O.P.\",\"I.G.T.\",\"D.O.C.\",\"I.G.P.\",\"I.G.P.\",\"D.O.C.\",\"I.G.P.\",\"D.O.C.G.\",\"D.O.C.\",\"D.O.C.G.\",\"D.O.P.\",\"D.O.C.\",\"D.O.C.\",\"V.S.\",\"D.O.C.\",\"D.O.C.\",\"D.O.C.\",\"V.S.\",\"D.O.P.\",\"I.G.T.\",\"V.S.Q.\",\"D.O.C.G.\",\"D.O.P.\",\"I.G.T.\",\"I.G.P.\",\"I.G.P.\",\"I.G.T.\",\"D.O.C.G.\",\"D.O.C.\",\"D.O.P.\",\"D.O.C.G.\",\"D.O.C.\",\"I.G.T.\",\"I.G.T.\",\"D.O.C.G.\",\"D.O.C.\",\"D.O.C.G.\",\"V.S.\",\"V.S.Q.\",\"D.O.C.\",\"V.S.\",\"D.O.C.G.\",\"I.G.P.\",\"D.O.C.\",\"D.O.C.G.\",\"I.G.T.\",\"D.O.P.\",\"I.G.P.\",\"D.O.C.G.\",\"I.G.P.\",\"D.O.C.\",\"D.O.C.G.\",\"D.O.C.\",\"I.G.T.\",\"D.O.C.G.\",\"D.O.C.G.\",\"D.O.C.\",\"D.O.C.\",\"D.O.C.\",\"D.O.C.\",\"D.O.P.\",\"D.O.P.\",\"D.O.C.G.\",\"D.O.C.\",\"D.O.C.\",\"I.G.P.\",\"I.G.T.\",\"D.O.P.\",\"D.O.P.\",\"D.O.P.\",\"I.G.T.\",\"I.G.T.\",\"D.O.C.G.\",\"I.G.T.\",\"D.O.C.\",\"D.O.C.\",\"D.O.C.\",\"D.O.C.G.\",\"I.G.P.\",\"D.O.C.G.\",\"D.O.C.\",\"D.O.C.\",\"I.G.P.\",\"D.O.C.\",\"D.O.C.\",\"I.G.T.\",\"D.O.C.\",\"D.O.C.\",\"D.O.C.\",\"I.G.T.\",\"D.O.C.G.\",\"I.G.T.\",\"D.O.C.G.\",\"D.O.C.\",\"D.O.C.G.\",\"D.O.C.\",\"D.O.C.G.\",\"I.G.P.\",\"D.O.C.\",\"I.G.P.\",\"D.O.P.\",\"I.G.T.\",\"I.G.T.\",\"I.G.T.\",\"I.G.P.\",\"D.O.P.\",\"I.G.T.\",\"D.O.C.\",\"D.O.P.\",\"D.O.P.\",\"D.O.C.\",\"D.O.P.\",\"I.G.T.\",\"D.O.C.G.\",\"I.G.T.\",\"I.G.T.\",\"D.O.P.\",\"I.G.T.\",\"I.G.T.\",\"V.S.\",\"I.G.P.\",\"D.O.P.\",\"D.O.C.\",\"D.O.C.G.\",\"I.G.T.\",\"I.G.T.\",\"D.O.C.G.\",\"I.G.T.\",\"D.O.C.G.\",\"D.O.P.\",\"D.O.C.\",\"D.O.C.G.\",\"D.O.C.\",\"D.O.P.\",\"D.O.C.G.\",\"D.O.P.\",\"I.G.T.\",\"D.O.C.\",\"I.G.T.\",\"D.O.C.\",\"D.O.P.\",\"D.O.P.\",\"D.O.C.G.\",\"D.O.C.\",\"D.O.C.\",\"D.O.C.\",\"D.O.C.\",\"D.O.C.G.\",\"D.O.C.G.\",\"D.O.C.\",\"D.O.C.G.\",\"I.G.T.\",\"D.O.C.\",\"V.S.Q.\",\"D.O.P.\",\"D.O.C.G.\",\"I.G.P.\",\"D.O.C.\",\"D.O.P.\",\"D.O.C.\",\"D.O.C.\",\"I.G.T.\",\"D.O.C.\",\"D.O.C.\",\"I.G.P.\",\"D.O.C.\",\"D.O.C.\",\"D.O.C.\",\"D.O.C.\",\"D.O.C.\",\"D.O.P.\",\"D.O.C.\",\"I.G.T.\",\"D.O.P.\",\"I.G.T.\",\"I.G.T.\",\"D.O.C.G.\",\"D.O.C.\",\"D.O.C.\",\"I.G.P.\",\"I.G.T.\",\"D.O.P.\",\"D.O.C.G.\",\"D.O.C.\",\"I.G.T.\",\"D.O.C.G.\",\"D.O.P.\",\"D.O.C.\",\"D.O.P.\",\"I.G.P.\",\"D.O.C.\",\"D.O.C.G.\",\"D.O.C.\",\"I.G.T.\",\"D.O.P.\",\"D.O.C.G.\",\"I.G.P.\",\"D.O.C.\",\"I.G.P.\",\"I.G.P.\",\"I.G.P.\",\"I.G.T.\",\"D.O.C.G.\",\"I.G.T.\",\"I.G.T.\",\"D.O.C.G.\",\"I.G.T.\",\"I.G.T.\",\"I.G.T.\",\"D.O.C.\",\"D.O.C.\",\"D.O.C.G.\",\"D.O.C.\",\"D.O.C.G.\",\"V.S.Q.\",\"I.G.T.\",\"D.O.P.\",\"D.O.C.\",\"D.O.C.\",\"D.O.C.\",\"D.O.C.\",\"I.G.T.\",\"D.O.P.\",\"D.O.C.G.\",\"D.O.C.G.\",\"D.O.C.\",\"D.O.C.\",\"D.O.C.G.\",\"I.G.T.\",\"D.O.C.\",\"D.O.P.\",\"D.O.C.\",\"D.O.C.G.\",\"I.G.P.\",\"D.O.C.G.\",\"I.G.T.\",\"D.O.C.\",\"D.O.C.\",\"I.G.T.\",\"D.O.C.\",\"D.O.C.G.\",\"D.O.C.\",\"I.G.T.\",\"V.S.\",\"D.O.C.\",\"D.O.C.\",\"D.O.C.G.\",\"D.O.P.\",\"D.O.C.\",\"D.O.C.\",\"D.O.C.\",\"D.O.C.G.\",\"D.O.P.\",\"D.O.C.G.\",\"I.G.T.\",\"V.S.\",\"D.O.C.\",\"D.O.C.G.\",\"I.G.P.\",\"V.S.\",\"I.G.T.\",\"D.O.P.\",\"V.S.\",\"D.O.C.\",\"D.O.P.\",\"I.G.P.\",\"D.O.C.G.\",\"I.G.T.\",\"I.G.T.\",\"D.O.C.G.\",\"I.G.T.\",\"I.G.T.\",\"I.G.T.\",\"D.O.C.\",\"D.O.C.G.\",\"D.O.C.\",\"D.O.C.G.\",\"D.O.C.G.\",\"D.O.C.\",\"I.G.T.\",\"D.O.C.G.\",\"D.O.C.G.\",\"D.O.P.\",\"D.O.C.\",\"I.G.T.\",\"I.G.T.\",\"D.O.C.G.\",\"D.O.C.\",\"I.G.T.\",\"I.G.P.\",\"I.G.T.\",\"I.G.T.\",\"D.O.C.\",\"I.G.P.\",\"D.O.C.G.\",\"D.O.C.G.\",\"D.O.C.\",\"D.O.C.\",\"D.O.C.\",\"D.O.C.\",\"D.O.C.\",\"I.G.T.\",\"I.G.T.\",\"I.G.T.\",\"V.S.\",\"D.O.C.\",\"D.O.C.G.\",\"I.G.P.\",\"D.O.C.\",\"I.G.T.\",\"I.G.P.\",\"D.O.C.\",\"D.O.C.G.\",\"D.O.C.G.\",\"D.O.C.G.\",\"D.O.C.G.\",\"I.G.T.\",\"I.G.T.\",\"I.G.T.\",\"D.O.P.\",\"I.G.P.\",\"I.G.T.\",\"I.G.T.\",\"I.G.T.\",\"D.O.C.G.\",\"I.G.T.\",\"D.O.C.\",\"D.O.C.G.\",\"D.O.C.\",\"D.O.C.G.\",\"D.O.C.G.\",\"D.O.C.\",\"D.O.C.\",\"I.G.T.\",\"D.O.C.\",\"D.O.C.\",\"I.G.T.\",\"I.G.T.\",\"I.G.P.\",\"D.O.P.\",\"I.G.T.\",\"I.G.T.\",\"I.G.P.\",\"D.O.C.\",\"I.G.T.\",\"D.O.C.\",\"D.O.C.G.\",\"D.O.C.\",\"V.S.\",\"I.G.P.\",\"I.G.T.\",\"I.G.T.\",\"D.O.C.G.\",\"I.G.T.\",\"D.O.C.G.\",\"D.O.C.\",\"D.O.C.\",\"V.S.\",\"I.G.T.\",\"D.O.C.\",\"V.S.Q.\",\"D.O.C.G.\",\"D.O.C.\",\"I.G.P.\",\"D.O.C.\",\"D.O.C.G.\",\"I.G.P.\",\"D.O.C.\",\"D.O.C.G.\",\"D.O.C.G.\",\"I.G.T.\",\"D.O.C.G.\",\"D.O.C.\",\"D.O.C.\",\"D.O.C.\",\"D.O.C.G.\",\"D.O.P.\",\"I.G.P.\",\"D.O.C.G.\",\"D.O.C.\",\"D.O.C.\",\"I.G.T.\",\"D.O.C.G.\",\"I.G.P.\",\"I.G.P.\",\"D.O.C.\",\"I.G.P.\",\"D.O.C.\",\"V.S.Q.\",\"D.O.P.\",\"I.G.T.\",\"D.O.C.\",\"D.O.C.\",\"D.O.C.G.\",\"I.G.T.\",\"D.O.C.\",\"D.O.C.G.\",\"D.O.C.G.\",\"I.G.T.\",\"D.O.C.\",\"D.O.P.\",\"D.O.C.G.\",\"V.S.Q.\",\"D.O.C.G.\",\"D.O.C.G.\",\"D.O.C.\",\"D.O.C.G.\",\"I.G.T.\",\"D.O.C.G.\",\"D.O.C.G.\",\"D.O.C.\",\"D.O.C.G.\",\"I.G.T.\",\"D.O.C.\",\"D.O.C.G.\",\"D.O.C.G.\",\"D.O.C.G.\",\"I.G.T.\",\"D.O.C.\",\"I.G.T.\",\"D.O.C.G.\",\"I.G.T.\",\"V.S.\",\"I.G.T.\",\"I.G.T.\",\"I.G.T.\",\"I.G.P.\",\"D.O.C.\",\"D.O.C.\",\"D.O.P.\",\"I.G.T.\",\"D.O.C.\",\"I.G.P.\",\"D.O.C.\",\"D.O.C.G.\",\"D.O.C.\",\"D.O.C.G.\",\"I.G.T.\",\"D.O.C.\",\"D.O.P.\",\"I.G.P.\",\"D.O.P.\",\"I.G.P.\",\"I.G.T.\",\"I.G.T.\",\"D.O.C.G.\",\"I.G.T.\",\"D.O.C.\",\"I.G.P.\",\"I.G.T.\",\"I.G.T.\",\"I.G.T.\",\"D.O.C.G.\",\"D.O.C.\",\"I.G.T.\",\"D.O.C.\",\"D.O.C.\",\"I.G.P.\",\"D.O.C.\",\"D.O.P.\",\"D.O.C.G.\",\"D.O.C.G.\",\"D.O.C.\",\"D.O.P.\",\"D.O.C.G.\",\"D.O.C.\",\"D.O.C.\",\"D.O.C.G.\",\"D.O.C.\",\"I.G.T.\",\"D.O.C.G.\",\"I.G.T.\",\"I.G.P.\",\"D.O.P.\",\"I.G.P.\",\"D.O.C.\",\"I.G.T.\",\"I.G.T.\",\"I.G.P.\",\"D.O.C.\",\"I.G.T.\",\"I.G.T.\",\"D.O.C.G.\",\"I.G.T.\",\"D.O.C.\",\"D.O.C.\",\"I.G.T.\",\"I.G.T.\",\"V.S.Q.\",\"D.O.P.\",\"V.S.Q.\",\"D.O.C.\",\"D.O.C.G.\",\"I.G.T.\",\"I.G.T.\",\"I.G.T.\",\"D.O.P.\",\"I.G.T.\",\"D.O.C.\",\"D.O.C.\",\"D.O.C.G.\",\"I.G.T.\",\"D.O.C.G.\",\"D.O.C.\",\"D.O.P.\",\"D.O.C.\",\"D.O.C.\",\"D.O.C.\",\"D.O.C.\",\"D.O.C.G.\",\"D.O.P.\",\"D.O.P.\",\"D.O.C.\",\"I.G.T.\",\"D.O.C.\",\"I.G.P.\",\"I.G.P.\",\"D.O.P.\",\"I.G.P.\",\"V.S.Q.\",\"D.O.C.G.\",\"I.G.T.\",\"D.O.C.\",\"D.O.C.G.\",\"D.O.C.\",\"D.O.C.\",\"D.O.C.\",\"I.G.T.\",\"I.G.P.\",\"D.O.C.G.\",\"D.O.C.\",\"D.O.C.G.\",\"I.G.T.\",\"D.O.P.\",\"D.O.C.\",\"D.O.C.G.\",\"D.O.C.G.\",\"D.O.P.\",\"I.G.T.\",\"I.G.T.\",\"I.G.T.\",\"I.G.T.\",\"D.O.C.\",\"I.G.P.\",\"I.G.T.\",\"D.O.C.\",\"V.S.\",\"I.G.T.\",\"I.G.T.\",\"I.G.T.\",\"I.G.P.\",\"I.G.T.\",\"I.G.P.\",\"I.G.T.\",\"D.O.C.G.\",\"D.O.C.\",\"D.O.C.\",\"I.G.P.\",\"D.O.P.\",\"I.G.T.\",\"D.O.C.G.\",\"V.S.\",\"D.O.C.\",\"I.G.T.\",\"D.O.P.\",\"D.O.C.\",\"I.G.P.\",\"I.G.T.\",\"D.O.P.\",\"D.O.C.G.\",\"D.O.C.\",\"D.O.P.\",\"D.O.C.\",\"D.O.C.G.\",\"I.G.T.\",\"D.O.P.\",\"V.S.\",\"I.G.P.\",\"D.O.C.\",\"D.O.C.G.\",\"D.O.C.\",\"D.O.C.\",\"I.G.T.\",\"I.G.T.\",\"D.O.C.\",\"I.G.T.\",\"D.O.C.\",\"I.G.T.\",\"I.G.T.\",\"D.O.C.G.\",\"D.O.C.\",\"D.O.C.\",\"D.O.P.\",\"D.O.P.\",\"D.O.C.G.\",\"I.G.T.\",\"I.G.P.\",\"I.G.P.\",\"V.S.Q.A.\",\"D.O.C.G.\",\"D.O.C.\",\"I.G.T.\",\"D.O.P.\",\"D.O.C.G.\",\"I.G.P.\",\"D.O.C.G.\",\"I.G.T.\",\"I.G.T.\",\"D.O.C.G.\",\"D.O.C.\",\"I.G.P.\",\"D.O.P.\",\"D.O.C.\",\"D.O.C.\",\"D.O.C.G.\",\"D.O.C.\",\"D.O.C.\",\"D.O.P.\",\"I.G.T.\",\"D.O.P.\",\"I.G.T.\",\"I.G.P.\",\"D.O.C.\",\"D.O.P.\",\"D.O.C.\",\"I.G.T.\",\"D.O.C.\",\"D.O.P.\",\"I.G.P.\",\"D.O.C.\",\"I.G.T.\",\"D.O.C.\",\"I.G.T.\",\"I.G.P.\",\"D.O.C.\",\"I.G.T.\",\"D.O.P.\",\"I.G.P.\",\"I.G.P.\",\"D.O.C.\",\"D.O.P.\",\"V.S.\",\"I.G.P.\",\"I.G.T.\",\"D.O.C.G.\",\"D.O.P.\",\"D.O.C.\",\"D.O.P.\",\"D.O.C.\",\"I.G.T.\",\"D.O.C.\",\"D.O.C.G.\",\"I.G.T.\",\"D.O.P.\",\"D.O.P.\",\"D.O.P.\",\"D.O.C.\",\"I.G.T.\",\"I.G.P.\",\"D.O.C.\"],\"xaxis\":\"x\",\"yaxis\":\"y\",\"type\":\"histogram\"}],                        {\"template\":{\"data\":{\"bar\":[{\"error_x\":{\"color\":\"#2a3f5f\"},\"error_y\":{\"color\":\"#2a3f5f\"},\"marker\":{\"line\":{\"color\":\"#E5ECF6\",\"width\":0.5},\"pattern\":{\"fillmode\":\"overlay\",\"size\":10,\"solidity\":0.2}},\"type\":\"bar\"}],\"barpolar\":[{\"marker\":{\"line\":{\"color\":\"#E5ECF6\",\"width\":0.5},\"pattern\":{\"fillmode\":\"overlay\",\"size\":10,\"solidity\":0.2}},\"type\":\"barpolar\"}],\"carpet\":[{\"aaxis\":{\"endlinecolor\":\"#2a3f5f\",\"gridcolor\":\"white\",\"linecolor\":\"white\",\"minorgridcolor\":\"white\",\"startlinecolor\":\"#2a3f5f\"},\"baxis\":{\"endlinecolor\":\"#2a3f5f\",\"gridcolor\":\"white\",\"linecolor\":\"white\",\"minorgridcolor\":\"white\",\"startlinecolor\":\"#2a3f5f\"},\"type\":\"carpet\"}],\"choropleth\":[{\"colorbar\":{\"outlinewidth\":0,\"ticks\":\"\"},\"type\":\"choropleth\"}],\"contour\":[{\"colorbar\":{\"outlinewidth\":0,\"ticks\":\"\"},\"colorscale\":[[0.0,\"#0d0887\"],[0.1111111111111111,\"#46039f\"],[0.2222222222222222,\"#7201a8\"],[0.3333333333333333,\"#9c179e\"],[0.4444444444444444,\"#bd3786\"],[0.5555555555555556,\"#d8576b\"],[0.6666666666666666,\"#ed7953\"],[0.7777777777777778,\"#fb9f3a\"],[0.8888888888888888,\"#fdca26\"],[1.0,\"#f0f921\"]],\"type\":\"contour\"}],\"contourcarpet\":[{\"colorbar\":{\"outlinewidth\":0,\"ticks\":\"\"},\"type\":\"contourcarpet\"}],\"heatmap\":[{\"colorbar\":{\"outlinewidth\":0,\"ticks\":\"\"},\"colorscale\":[[0.0,\"#0d0887\"],[0.1111111111111111,\"#46039f\"],[0.2222222222222222,\"#7201a8\"],[0.3333333333333333,\"#9c179e\"],[0.4444444444444444,\"#bd3786\"],[0.5555555555555556,\"#d8576b\"],[0.6666666666666666,\"#ed7953\"],[0.7777777777777778,\"#fb9f3a\"],[0.8888888888888888,\"#fdca26\"],[1.0,\"#f0f921\"]],\"type\":\"heatmap\"}],\"heatmapgl\":[{\"colorbar\":{\"outlinewidth\":0,\"ticks\":\"\"},\"colorscale\":[[0.0,\"#0d0887\"],[0.1111111111111111,\"#46039f\"],[0.2222222222222222,\"#7201a8\"],[0.3333333333333333,\"#9c179e\"],[0.4444444444444444,\"#bd3786\"],[0.5555555555555556,\"#d8576b\"],[0.6666666666666666,\"#ed7953\"],[0.7777777777777778,\"#fb9f3a\"],[0.8888888888888888,\"#fdca26\"],[1.0,\"#f0f921\"]],\"type\":\"heatmapgl\"}],\"histogram\":[{\"marker\":{\"pattern\":{\"fillmode\":\"overlay\",\"size\":10,\"solidity\":0.2}},\"type\":\"histogram\"}],\"histogram2d\":[{\"colorbar\":{\"outlinewidth\":0,\"ticks\":\"\"},\"colorscale\":[[0.0,\"#0d0887\"],[0.1111111111111111,\"#46039f\"],[0.2222222222222222,\"#7201a8\"],[0.3333333333333333,\"#9c179e\"],[0.4444444444444444,\"#bd3786\"],[0.5555555555555556,\"#d8576b\"],[0.6666666666666666,\"#ed7953\"],[0.7777777777777778,\"#fb9f3a\"],[0.8888888888888888,\"#fdca26\"],[1.0,\"#f0f921\"]],\"type\":\"histogram2d\"}],\"histogram2dcontour\":[{\"colorbar\":{\"outlinewidth\":0,\"ticks\":\"\"},\"colorscale\":[[0.0,\"#0d0887\"],[0.1111111111111111,\"#46039f\"],[0.2222222222222222,\"#7201a8\"],[0.3333333333333333,\"#9c179e\"],[0.4444444444444444,\"#bd3786\"],[0.5555555555555556,\"#d8576b\"],[0.6666666666666666,\"#ed7953\"],[0.7777777777777778,\"#fb9f3a\"],[0.8888888888888888,\"#fdca26\"],[1.0,\"#f0f921\"]],\"type\":\"histogram2dcontour\"}],\"mesh3d\":[{\"colorbar\":{\"outlinewidth\":0,\"ticks\":\"\"},\"type\":\"mesh3d\"}],\"parcoords\":[{\"line\":{\"colorbar\":{\"outlinewidth\":0,\"ticks\":\"\"}},\"type\":\"parcoords\"}],\"pie\":[{\"automargin\":true,\"type\":\"pie\"}],\"scatter\":[{\"marker\":{\"colorbar\":{\"outlinewidth\":0,\"ticks\":\"\"}},\"type\":\"scatter\"}],\"scatter3d\":[{\"line\":{\"colorbar\":{\"outlinewidth\":0,\"ticks\":\"\"}},\"marker\":{\"colorbar\":{\"outlinewidth\":0,\"ticks\":\"\"}},\"type\":\"scatter3d\"}],\"scattercarpet\":[{\"marker\":{\"colorbar\":{\"outlinewidth\":0,\"ticks\":\"\"}},\"type\":\"scattercarpet\"}],\"scattergeo\":[{\"marker\":{\"colorbar\":{\"outlinewidth\":0,\"ticks\":\"\"}},\"type\":\"scattergeo\"}],\"scattergl\":[{\"marker\":{\"colorbar\":{\"outlinewidth\":0,\"ticks\":\"\"}},\"type\":\"scattergl\"}],\"scattermapbox\":[{\"marker\":{\"colorbar\":{\"outlinewidth\":0,\"ticks\":\"\"}},\"type\":\"scattermapbox\"}],\"scatterpolar\":[{\"marker\":{\"colorbar\":{\"outlinewidth\":0,\"ticks\":\"\"}},\"type\":\"scatterpolar\"}],\"scatterpolargl\":[{\"marker\":{\"colorbar\":{\"outlinewidth\":0,\"ticks\":\"\"}},\"type\":\"scatterpolargl\"}],\"scatterternary\":[{\"marker\":{\"colorbar\":{\"outlinewidth\":0,\"ticks\":\"\"}},\"type\":\"scatterternary\"}],\"surface\":[{\"colorbar\":{\"outlinewidth\":0,\"ticks\":\"\"},\"colorscale\":[[0.0,\"#0d0887\"],[0.1111111111111111,\"#46039f\"],[0.2222222222222222,\"#7201a8\"],[0.3333333333333333,\"#9c179e\"],[0.4444444444444444,\"#bd3786\"],[0.5555555555555556,\"#d8576b\"],[0.6666666666666666,\"#ed7953\"],[0.7777777777777778,\"#fb9f3a\"],[0.8888888888888888,\"#fdca26\"],[1.0,\"#f0f921\"]],\"type\":\"surface\"}],\"table\":[{\"cells\":{\"fill\":{\"color\":\"#EBF0F8\"},\"line\":{\"color\":\"white\"}},\"header\":{\"fill\":{\"color\":\"#C8D4E3\"},\"line\":{\"color\":\"white\"}},\"type\":\"table\"}]},\"layout\":{\"annotationdefaults\":{\"arrowcolor\":\"#2a3f5f\",\"arrowhead\":0,\"arrowwidth\":1},\"autotypenumbers\":\"strict\",\"coloraxis\":{\"colorbar\":{\"outlinewidth\":0,\"ticks\":\"\"}},\"colorscale\":{\"diverging\":[[0,\"#8e0152\"],[0.1,\"#c51b7d\"],[0.2,\"#de77ae\"],[0.3,\"#f1b6da\"],[0.4,\"#fde0ef\"],[0.5,\"#f7f7f7\"],[0.6,\"#e6f5d0\"],[0.7,\"#b8e186\"],[0.8,\"#7fbc41\"],[0.9,\"#4d9221\"],[1,\"#276419\"]],\"sequential\":[[0.0,\"#0d0887\"],[0.1111111111111111,\"#46039f\"],[0.2222222222222222,\"#7201a8\"],[0.3333333333333333,\"#9c179e\"],[0.4444444444444444,\"#bd3786\"],[0.5555555555555556,\"#d8576b\"],[0.6666666666666666,\"#ed7953\"],[0.7777777777777778,\"#fb9f3a\"],[0.8888888888888888,\"#fdca26\"],[1.0,\"#f0f921\"]],\"sequentialminus\":[[0.0,\"#0d0887\"],[0.1111111111111111,\"#46039f\"],[0.2222222222222222,\"#7201a8\"],[0.3333333333333333,\"#9c179e\"],[0.4444444444444444,\"#bd3786\"],[0.5555555555555556,\"#d8576b\"],[0.6666666666666666,\"#ed7953\"],[0.7777777777777778,\"#fb9f3a\"],[0.8888888888888888,\"#fdca26\"],[1.0,\"#f0f921\"]]},\"colorway\":[\"#636efa\",\"#EF553B\",\"#00cc96\",\"#ab63fa\",\"#FFA15A\",\"#19d3f3\",\"#FF6692\",\"#B6E880\",\"#FF97FF\",\"#FECB52\"],\"font\":{\"color\":\"#2a3f5f\"},\"geo\":{\"bgcolor\":\"white\",\"lakecolor\":\"white\",\"landcolor\":\"#E5ECF6\",\"showlakes\":true,\"showland\":true,\"subunitcolor\":\"white\"},\"hoverlabel\":{\"align\":\"left\"},\"hovermode\":\"closest\",\"mapbox\":{\"style\":\"light\"},\"paper_bgcolor\":\"white\",\"plot_bgcolor\":\"#E5ECF6\",\"polar\":{\"angularaxis\":{\"gridcolor\":\"white\",\"linecolor\":\"white\",\"ticks\":\"\"},\"bgcolor\":\"#E5ECF6\",\"radialaxis\":{\"gridcolor\":\"white\",\"linecolor\":\"white\",\"ticks\":\"\"}},\"scene\":{\"xaxis\":{\"backgroundcolor\":\"#E5ECF6\",\"gridcolor\":\"white\",\"gridwidth\":2,\"linecolor\":\"white\",\"showbackground\":true,\"ticks\":\"\",\"zerolinecolor\":\"white\"},\"yaxis\":{\"backgroundcolor\":\"#E5ECF6\",\"gridcolor\":\"white\",\"gridwidth\":2,\"linecolor\":\"white\",\"showbackground\":true,\"ticks\":\"\",\"zerolinecolor\":\"white\"},\"zaxis\":{\"backgroundcolor\":\"#E5ECF6\",\"gridcolor\":\"white\",\"gridwidth\":2,\"linecolor\":\"white\",\"showbackground\":true,\"ticks\":\"\",\"zerolinecolor\":\"white\"}},\"shapedefaults\":{\"line\":{\"color\":\"#2a3f5f\"}},\"ternary\":{\"aaxis\":{\"gridcolor\":\"white\",\"linecolor\":\"white\",\"ticks\":\"\"},\"baxis\":{\"gridcolor\":\"white\",\"linecolor\":\"white\",\"ticks\":\"\"},\"bgcolor\":\"#E5ECF6\",\"caxis\":{\"gridcolor\":\"white\",\"linecolor\":\"white\",\"ticks\":\"\"}},\"title\":{\"x\":0.05},\"xaxis\":{\"automargin\":true,\"gridcolor\":\"white\",\"linecolor\":\"white\",\"ticks\":\"\",\"title\":{\"standoff\":15},\"zerolinecolor\":\"white\",\"zerolinewidth\":2},\"yaxis\":{\"automargin\":true,\"gridcolor\":\"white\",\"linecolor\":\"white\",\"ticks\":\"\",\"title\":{\"standoff\":15},\"zerolinecolor\":\"white\",\"zerolinewidth\":2}}},\"xaxis\":{\"anchor\":\"y\",\"domain\":[0.0,1.0],\"title\":{\"text\":\"Number of wines by certification\"},\"categoryorder\":\"total descending\"},\"yaxis\":{\"anchor\":\"x\",\"domain\":[0.0,1.0],\"title\":{\"text\":\"count\"}},\"legend\":{\"tracegroupgap\":0},\"margin\":{\"t\":60},\"barmode\":\"relative\"},                        {\"responsive\": true}                    ).then(function(){\n",
       "                            \n",
       "var gd = document.getElementById('6a4bd001-5713-4e93-b013-674fa9d1eccf');\n",
       "var x = new MutationObserver(function (mutations, observer) {{\n",
       "        var display = window.getComputedStyle(gd).display;\n",
       "        if (!display || display === 'none') {{\n",
       "            console.log([gd, 'removed!']);\n",
       "            Plotly.purge(gd);\n",
       "            observer.disconnect();\n",
       "        }}\n",
       "}});\n",
       "\n",
       "// Listen for the removal of the full notebook cells\n",
       "var notebookContainer = gd.closest('#notebook-container');\n",
       "if (notebookContainer) {{\n",
       "    x.observe(notebookContainer, {childList: true});\n",
       "}}\n",
       "\n",
       "// Listen for the clearing of the current output cell\n",
       "var outputEl = gd.closest('.output');\n",
       "if (outputEl) {{\n",
       "    x.observe(outputEl, {childList: true});\n",
       "}}\n",
       "\n",
       "                        })                };                });            </script>        </div>"
      ]
     },
     "metadata": {},
     "output_type": "display_data"
    }
   ],
   "source": [
    "fig = px.histogram(df_c, x=\"cert\").update_xaxes(categoryorder=\"total descending\", title='Number of wines by certification')\n",
    "fig.show()"
   ]
  },
  {
   "cell_type": "markdown",
   "metadata": {},
   "source": [
    "### 3.6 Number of wines by producer and locality <a class=\"anchor\" id=\"wines_by_producer_locality\"></a>"
   ]
  },
  {
   "cell_type": "code",
   "execution_count": 61,
   "metadata": {
    "scrolled": true
   },
   "outputs": [
    {
     "data": {
      "text/html": [
       "\n",
       "        <iframe\n",
       "            width=\"100%\"\n",
       "            height=\"650\"\n",
       "            src=\"http://127.0.0.1:8050/\"\n",
       "            frameborder=\"0\"\n",
       "            allowfullscreen\n",
       "            \n",
       "        ></iframe>\n",
       "        "
      ],
      "text/plain": [
       "<IPython.lib.display.IFrame at 0x1d885eda040>"
      ]
     },
     "metadata": {},
     "output_type": "display_data"
    }
   ],
   "source": [
    "list_local = ['lau', 'prov', 'reg']\n",
    "list_values = sorted(df_g['prov'].unique())\n",
    "\n",
    "app = JupyterDash(__name__)\n",
    "\n",
    "server = app.server\n",
    "\n",
    "app.layout = html.Div([\n",
    "    dcc.Dropdown(\n",
    "        id=\"dropdown_locality\",\n",
    "        options=[{\"label\": x, \"value\": x} for x in list_local],\n",
    "        value=list_local[1],\n",
    "        clearable=False,\n",
    "    ),\n",
    "    dcc.Dropdown(\n",
    "        id=\"dropdown_chosen_locality\",\n",
    "        value=list_values[0],\n",
    "        clearable=False,\n",
    "    ),\n",
    "    dcc.Graph(id=\"bar-chart\"),\n",
    "])\n",
    "\n",
    "@app.callback(\n",
    "    Output(\"dropdown_chosen_locality\", 'options'), \n",
    "    Input(\"dropdown_locality\", \"value\"))\n",
    "\n",
    "def update_dropdown (locality):\n",
    "    if locality=='lau':\n",
    "        list_values = sorted(df_g['lau'].unique())\n",
    "    elif locality=='prov':\n",
    "        list_values = sorted(df_g['prov'].unique())\n",
    "    else:\n",
    "        list_values = sorted(df_g['reg'].unique())\n",
    "    return  [{'label': i, 'value': i} for i in list_values]\n",
    "\n",
    "@app.callback(\n",
    "    Output(\"bar-chart\", \"figure\"), \n",
    "    [Input(\"dropdown_locality\", \"value\"),\n",
    "    Input(\"dropdown_chosen_locality\", \"value\")])\n",
    "\n",
    "def update_bar_chart(locality, chosen_locality):\n",
    "    df2 = df_w[df_w[locality]==chosen_locality]\n",
    "    fig = px.histogram(df2, x='p').update_xaxes(categoryorder=\"total descending\")\n",
    "    return fig\n",
    "\n",
    "app.run_server('inline')\n",
    "#app.run_server(port=8050)"
   ]
  }
 ],
 "metadata": {
  "jupytext": {
   "formats": "ipynb,py:percent"
  },
  "kernelspec": {
   "display_name": "Python 3 (ipykernel)",
   "language": "python",
   "name": "python3"
  },
  "language_info": {
   "codemirror_mode": {
    "name": "ipython",
    "version": 3
   },
   "file_extension": ".py",
   "mimetype": "text/x-python",
   "name": "python",
   "nbconvert_exporter": "python",
   "pygments_lexer": "ipython3",
   "version": "3.8.12"
  }
 },
 "nbformat": 4,
 "nbformat_minor": 4
}
