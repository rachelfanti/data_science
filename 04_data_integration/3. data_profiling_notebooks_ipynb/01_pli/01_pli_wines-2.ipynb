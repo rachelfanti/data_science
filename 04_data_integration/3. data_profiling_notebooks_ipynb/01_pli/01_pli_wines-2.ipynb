{
 "cells": [
  {
   "cell_type": "markdown",
   "id": "8501d9d9",
   "metadata": {},
   "source": [
    "\n",
    "Name: Rachel Fanti Coelho Lima    \n",
    "Date: 02/2022     \n",
    "Subject: LM-18 73005B - Data Profiling - AY 2021-22    \n",
    "Task: PLI - duplicated.\n"
   ]
  },
  {
   "cell_type": "code",
   "execution_count": 8,
   "id": "5d8ffa1b",
   "metadata": {},
   "outputs": [],
   "source": [
    "%matplotlib inline"
   ]
  },
  {
   "cell_type": "code",
   "execution_count": 9,
   "id": "434e85d2",
   "metadata": {},
   "outputs": [],
   "source": [
    "# pip install PyQt5==5.9.2"
   ]
  },
  {
   "cell_type": "code",
   "execution_count": 10,
   "id": "d8eea18c",
   "metadata": {},
   "outputs": [],
   "source": [
    "import time\n",
    "import pandas as pd\n",
    "import networkx as nx\n",
    "import matplotlib.pyplot as plt\n",
    "import seaborn\n",
    "import sys\n",
    "\n",
    "#pip install pandas_profiling --user\n",
    "#pip install PyQt5==5.9.2\n",
    "from pandas_profiling import ProfileReport\n",
    "from pandas_profiling.utils.cache import cache_file"
   ]
  },
  {
   "cell_type": "markdown",
   "id": "5fc0fc49",
   "metadata": {},
   "source": [
    "### Input Data "
   ]
  },
  {
   "cell_type": "code",
   "execution_count": 11,
   "id": "fb0051d8",
   "metadata": {},
   "outputs": [],
   "source": [
    "#df = pd.DataFrame([ [ 'C', '3', 'X', 722, 112 ],\n",
    "#                    [ 'A', '1', 'X', 289, 553 ],\n",
    "#                    [ 'A', '1', 'Y', 189, 583 ],\n",
    "#                    [ 'B', '1', 'X', 289, 513 ],\n",
    "#                    [ 'C', '1', 'X', 289, 553 ] ], columns = [a for a in 'abcde'])"
   ]
  },
  {
   "cell_type": "code",
   "execution_count": 12,
   "id": "29f9fc3b",
   "metadata": {},
   "outputs": [],
   "source": [
    "df = pd.read_csv('./../00_data/Wines-2.csv', sep = \",\", index_col=False)\n",
    "df.columns=['a', 'b', 'c', 'd', 'e', 'f', 'g', 'h', 'i', 'j', 'k', 'l', 'm', 'n', 'o']"
   ]
  },
  {
   "cell_type": "code",
   "execution_count": 13,
   "id": "7f244e10",
   "metadata": {},
   "outputs": [
    {
     "data": {
      "text/html": [
       "<div>\n",
       "<style scoped>\n",
       "    .dataframe tbody tr th:only-of-type {\n",
       "        vertical-align: middle;\n",
       "    }\n",
       "\n",
       "    .dataframe tbody tr th {\n",
       "        vertical-align: top;\n",
       "    }\n",
       "\n",
       "    .dataframe thead th {\n",
       "        text-align: right;\n",
       "    }\n",
       "</style>\n",
       "<table border=\"1\" class=\"dataframe\">\n",
       "  <thead>\n",
       "    <tr style=\"text-align: right;\">\n",
       "      <th></th>\n",
       "      <th>a</th>\n",
       "      <th>b</th>\n",
       "      <th>c</th>\n",
       "      <th>d</th>\n",
       "      <th>e</th>\n",
       "      <th>f</th>\n",
       "      <th>g</th>\n",
       "      <th>h</th>\n",
       "      <th>i</th>\n",
       "      <th>j</th>\n",
       "      <th>k</th>\n",
       "      <th>l</th>\n",
       "      <th>m</th>\n",
       "      <th>n</th>\n",
       "      <th>o</th>\n",
       "    </tr>\n",
       "  </thead>\n",
       "  <tbody>\n",
       "    <tr>\n",
       "      <th>0</th>\n",
       "      <td>Taurasi</td>\n",
       "      <td>Taurasi</td>\n",
       "      <td>Taurasi</td>\n",
       "      <td>Agricola Boccella</td>\n",
       "      <td>Color rubino limpido; l’olfatto è subito inten...</td>\n",
       "      <td>100% Aglianico</td>\n",
       "      <td>14,5%</td>\n",
       "      <td>D.O.C.G.</td>\n",
       "      <td>Villaggio S. Eustachio, 16</td>\n",
       "      <td>Castelfranci</td>\n",
       "      <td>Avellino</td>\n",
       "      <td>40.927652, 15.052481</td>\n",
       "      <td>http://www.boccellavini.it/</td>\n",
       "      <td>0827 72574</td>\n",
       "      <td>www.vinix.com</td>\n",
       "    </tr>\n",
       "    <tr>\n",
       "      <th>1</th>\n",
       "      <td>Casefatte</td>\n",
       "      <td>Campania</td>\n",
       "      <td>Bianco</td>\n",
       "      <td>Agricola Boccella</td>\n",
       "      <td>Di colore giallo paglierino, profumi agrumati,...</td>\n",
       "      <td>100% Fiano</td>\n",
       "      <td>13%</td>\n",
       "      <td>I.G.T.</td>\n",
       "      <td>Villaggio S. Eustachio, 16</td>\n",
       "      <td>Castelfranci</td>\n",
       "      <td>Avellino</td>\n",
       "      <td>40.927652, 15.052481</td>\n",
       "      <td>http://www.boccellavini.it/</td>\n",
       "      <td>0827 72574</td>\n",
       "      <td>http://www.doctorwine.it/</td>\n",
       "    </tr>\n",
       "    <tr>\n",
       "      <th>2</th>\n",
       "      <td>Rasott</td>\n",
       "      <td>Irpinia Campi Taurasini</td>\n",
       "      <td>Rosso</td>\n",
       "      <td>Agricola Boccella</td>\n",
       "      <td>Color rubino limpido; l’olfatto è subito inten...</td>\n",
       "      <td>100% Aglianico</td>\n",
       "      <td>14%</td>\n",
       "      <td>D.O.C.</td>\n",
       "      <td>Villaggio S. Eustachio, 16</td>\n",
       "      <td>Castelfranci</td>\n",
       "      <td>Avellino</td>\n",
       "      <td>40.927652, 15.052481</td>\n",
       "      <td>http://www.boccellavini.it/</td>\n",
       "      <td>0827 72574</td>\n",
       "      <td>www.vinix.com</td>\n",
       "    </tr>\n",
       "    <tr>\n",
       "      <th>3</th>\n",
       "      <td>Sannio Falanghina</td>\n",
       "      <td>Falanghina del Sannio</td>\n",
       "      <td>Bianco</td>\n",
       "      <td>Agricola Irpina</td>\n",
       "      <td>Colore giallo paglierino con riflessi verdogno...</td>\n",
       "      <td>100% Falanghina</td>\n",
       "      <td>NaN</td>\n",
       "      <td>D.O.C.</td>\n",
       "      <td>Via Limaturo, 48</td>\n",
       "      <td>San Michele di Pratola Serra</td>\n",
       "      <td>Avellino</td>\n",
       "      <td>40.987214, 14.865230</td>\n",
       "      <td>http://www.agricolairpina.com/it/chi_siamo.php</td>\n",
       "      <td>0825 967038</td>\n",
       "      <td>NaN</td>\n",
       "    </tr>\n",
       "    <tr>\n",
       "      <th>4</th>\n",
       "      <td>Irpinia Aglianico</td>\n",
       "      <td>Irpinia</td>\n",
       "      <td>Rosso</td>\n",
       "      <td>Agricola Irpina</td>\n",
       "      <td>Di colore rosso rubino, ha profumo intenso, sa...</td>\n",
       "      <td>85-90% Aglianico; 15-10% Merlot o Sangiovese</td>\n",
       "      <td>NaN</td>\n",
       "      <td>D.O.C.</td>\n",
       "      <td>Via Limaturo, 48</td>\n",
       "      <td>San Michele di Pratola Serra</td>\n",
       "      <td>Avellino</td>\n",
       "      <td>40.987214, 14.865230</td>\n",
       "      <td>http://www.agricolairpina.com/it/chi_siamo.php</td>\n",
       "      <td>0825 967038</td>\n",
       "      <td>NaN</td>\n",
       "    </tr>\n",
       "  </tbody>\n",
       "</table>\n",
       "</div>"
      ],
      "text/plain": [
       "                   a                        b        c                  d  \\\n",
       "0            Taurasi                  Taurasi  Taurasi  Agricola Boccella   \n",
       "1          Casefatte                 Campania   Bianco  Agricola Boccella   \n",
       "2             Rasott  Irpinia Campi Taurasini    Rosso  Agricola Boccella   \n",
       "3  Sannio Falanghina    Falanghina del Sannio   Bianco    Agricola Irpina   \n",
       "4  Irpinia Aglianico                  Irpinia    Rosso    Agricola Irpina   \n",
       "\n",
       "                                                   e  \\\n",
       "0  Color rubino limpido; l’olfatto è subito inten...   \n",
       "1  Di colore giallo paglierino, profumi agrumati,...   \n",
       "2  Color rubino limpido; l’olfatto è subito inten...   \n",
       "3  Colore giallo paglierino con riflessi verdogno...   \n",
       "4  Di colore rosso rubino, ha profumo intenso, sa...   \n",
       "\n",
       "                                              f      g         h  \\\n",
       "0                                100% Aglianico  14,5%  D.O.C.G.   \n",
       "1                                    100% Fiano    13%    I.G.T.   \n",
       "2                                100% Aglianico    14%    D.O.C.   \n",
       "3                               100% Falanghina    NaN    D.O.C.   \n",
       "4  85-90% Aglianico; 15-10% Merlot o Sangiovese    NaN    D.O.C.   \n",
       "\n",
       "                            i                             j         k  \\\n",
       "0  Villaggio S. Eustachio, 16                  Castelfranci  Avellino   \n",
       "1  Villaggio S. Eustachio, 16                  Castelfranci  Avellino   \n",
       "2  Villaggio S. Eustachio, 16                  Castelfranci  Avellino   \n",
       "3            Via Limaturo, 48  San Michele di Pratola Serra  Avellino   \n",
       "4            Via Limaturo, 48  San Michele di Pratola Serra  Avellino   \n",
       "\n",
       "                      l                                               m  \\\n",
       "0  40.927652, 15.052481                     http://www.boccellavini.it/   \n",
       "1  40.927652, 15.052481                     http://www.boccellavini.it/   \n",
       "2  40.927652, 15.052481                     http://www.boccellavini.it/   \n",
       "3  40.987214, 14.865230  http://www.agricolairpina.com/it/chi_siamo.php   \n",
       "4  40.987214, 14.865230  http://www.agricolairpina.com/it/chi_siamo.php   \n",
       "\n",
       "             n                          o  \n",
       "0   0827 72574              www.vinix.com  \n",
       "1   0827 72574  http://www.doctorwine.it/  \n",
       "2   0827 72574              www.vinix.com  \n",
       "3  0825 967038                        NaN  \n",
       "4  0825 967038                        NaN  "
      ]
     },
     "execution_count": 13,
     "metadata": {},
     "output_type": "execute_result"
    }
   ],
   "source": [
    "df.head()"
   ]
  },
  {
   "cell_type": "code",
   "execution_count": 14,
   "id": "a609fe42",
   "metadata": {},
   "outputs": [],
   "source": [
    "schema = set(a for a in df.columns)\n",
    "#schema"
   ]
  },
  {
   "cell_type": "markdown",
   "id": "7050a993",
   "metadata": {},
   "source": [
    "### Helper functions"
   ]
  },
  {
   "cell_type": "code",
   "execution_count": 15,
   "id": "f9b109f9",
   "metadata": {},
   "outputs": [],
   "source": [
    "def sort_single(s):\n",
    "    return ''.join(sorted(list(s)))\n",
    "\n",
    "def sort(F):\n",
    "    return sorted(sort_single(s) for s in F)"
   ]
  },
  {
   "cell_type": "code",
   "execution_count": 16,
   "id": "f27ae42f",
   "metadata": {},
   "outputs": [],
   "source": [
    "def pli_single(a, D):\n",
    "    pli = {}\n",
    "    for row in range(D.shape[0]):\n",
    "        key = D.at[row, a]\n",
    "        if key in pli:\n",
    "            pli[key].add(row)\n",
    "        else:\n",
    "            pli[key] = { row }\n",
    "    return list(v for v in pli.values() if len(v) > 1)"
   ]
  },
  {
   "cell_type": "code",
   "execution_count": 17,
   "id": "ae674e09",
   "metadata": {},
   "outputs": [],
   "source": [
    "def pli_intersect(p1, p2):\n",
    "    pli, prob = {}, {}\n",
    "    for c, s in enumerate(p1):\n",
    "        for row in s:\n",
    "            prob[row] = c\n",
    "    for c, s in enumerate(p2):\n",
    "        for row in s:\n",
    "            if row in prob:\n",
    "                key = (c, prob[row])\n",
    "                if key in pli:\n",
    "                    pli[key].add(row)\n",
    "                else:\n",
    "                    pli[key] = { row }\n",
    "            \n",
    "    return list(v for v in pli.values() if len(v) > 1)"
   ]
  },
  {
   "cell_type": "markdown",
   "id": "ec79c831",
   "metadata": {},
   "source": [
    "### Duplicated records (PLI)"
   ]
  },
  {
   "cell_type": "code",
   "execution_count": 18,
   "id": "27c837e3",
   "metadata": {},
   "outputs": [],
   "source": [
    "table = df"
   ]
  },
  {
   "cell_type": "code",
   "execution_count": 19,
   "id": "9d001009",
   "metadata": {},
   "outputs": [],
   "source": [
    "pli = {a: pli_single(a, table) for a in schema}\n",
    "#pli"
   ]
  },
  {
   "cell_type": "code",
   "execution_count": 20,
   "id": "41a5a2d0",
   "metadata": {},
   "outputs": [
    {
     "name": "stdout",
     "output_type": "stream",
     "text": [
      "pli abcdefghijklmno\n",
      "[{810, 814}]\n"
     ]
    }
   ],
   "source": [
    "k=2\n",
    "while k<= len (df.columns):\n",
    "    columns_pli = [i for i in df.columns[0:k]]\n",
    "    pli [sort_single(columns_pli)] = pli_intersect(pli[sort_single(columns_pli[:-1])], pli[columns_pli[-1]])\n",
    "    #= pli_intersect(pli['ab'], pli['d'])\n",
    "    k = k+1\n",
    "print ('pli', sort_single(df.columns))\n",
    "print (pli[sort_single(df.columns)])"
   ]
  },
  {
   "cell_type": "code",
   "execution_count": 21,
   "id": "10978aeb",
   "metadata": {},
   "outputs": [
    {
     "name": "stdout",
     "output_type": "stream",
     "text": [
      "1\n"
     ]
    }
   ],
   "source": [
    "count_duplicates = 0\n",
    "for i in pli[sort_single(df.columns)]:\n",
    "    count_duplicates += (len (i) -1)\n",
    "print (count_duplicates)"
   ]
  }
 ],
 "metadata": {
  "kernelspec": {
   "display_name": "Python 3 (ipykernel)",
   "language": "python",
   "name": "python3"
  },
  "language_info": {
   "codemirror_mode": {
    "name": "ipython",
    "version": 3
   },
   "file_extension": ".py",
   "mimetype": "text/x-python",
   "name": "python",
   "nbconvert_exporter": "python",
   "pygments_lexer": "ipython3",
   "version": "3.8.12"
  }
 },
 "nbformat": 4,
 "nbformat_minor": 5
}
