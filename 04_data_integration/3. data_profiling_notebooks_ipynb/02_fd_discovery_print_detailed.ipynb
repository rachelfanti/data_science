{
 "cells": [
  {
   "cell_type": "markdown",
   "id": "8501d9d9",
   "metadata": {},
   "source": [
    "\n",
    "Name: Rachel Fanti Coelho Lima    \n",
    "Date: 12/2021     \n",
    "Subject: LM-18 73005B - Data Profiling - AY 2021-22    \n",
    "Task: Implementation of FD.\n"
   ]
  },
  {
   "cell_type": "code",
   "execution_count": 37,
   "id": "5d8ffa1b",
   "metadata": {},
   "outputs": [],
   "source": [
    "%matplotlib inline"
   ]
  },
  {
   "cell_type": "code",
   "execution_count": 38,
   "id": "434e85d2",
   "metadata": {},
   "outputs": [],
   "source": [
    "# pip install PyQt5==5.9.2"
   ]
  },
  {
   "cell_type": "code",
   "execution_count": 39,
   "id": "d8eea18c",
   "metadata": {},
   "outputs": [],
   "source": [
    "import time\n",
    "import pandas as pd\n",
    "import networkx as nx\n",
    "import matplotlib.pyplot as plt\n",
    "import seaborn\n",
    "import sys\n",
    "\n",
    "#pip install pandas_profiling --user\n",
    "#pip install PyQt5==5.9.2\n",
    "from pandas_profiling import ProfileReport\n",
    "from pandas_profiling.utils.cache import cache_file"
   ]
  },
  {
   "cell_type": "markdown",
   "id": "5fc0fc49",
   "metadata": {},
   "source": [
    "### Input Data "
   ]
  },
  {
   "cell_type": "code",
   "execution_count": 40,
   "id": "ece07e1f",
   "metadata": {},
   "outputs": [],
   "source": [
    "df = pd.DataFrame([ [ 'C', '3', 'X', 722, 112 ],\n",
    "                    [ 'A', '1', 'X', 289, 553 ],\n",
    "                    [ 'A', '1', 'Y', 189, 583 ],\n",
    "                    [ 'B', '1', 'X', 289, 513 ],\n",
    "                    [ 'C', '1', 'X', 289, 553 ] ], columns = [a for a in 'abcde'])"
   ]
  },
  {
   "cell_type": "code",
   "execution_count": 41,
   "id": "29f9fc3b",
   "metadata": {},
   "outputs": [
    {
     "data": {
      "text/plain": [
       "'df = pd.read_csv(\\'./data/wines-2.csv\\', sep = \",\", index_col=False)\\ndf.columns=[\\'a\\', \\'b\\', \\'c\\', \\'d\\', \\'e\\', \\'f\\', \\'g\\', \\'h\\', \\'i\\', \\'j\\', \\'k\\', \\'l\\', \\'m\\', \\'n\\', \\'o\\']\\n#df.columns = [x for x in range (0, len(df.columns))]'"
      ]
     },
     "execution_count": 41,
     "metadata": {},
     "output_type": "execute_result"
    }
   ],
   "source": [
    "'''df = pd.read_csv('./data/wines-2.csv', sep = \",\", index_col=False)\n",
    "df.columns=['a', 'b', 'c', 'd', 'e', 'f', 'g', 'h', 'i', 'j', 'k', 'l', 'm', 'n', 'o']\n",
    "#df.columns = [x for x in range (0, len(df.columns))]'''"
   ]
  },
  {
   "cell_type": "code",
   "execution_count": 42,
   "id": "bb6921d6",
   "metadata": {},
   "outputs": [],
   "source": [
    "plot_lattice = True\n",
    "\n",
    "schema = set(a for a in df.columns)"
   ]
  },
  {
   "cell_type": "code",
   "execution_count": 43,
   "id": "7f244e10",
   "metadata": {},
   "outputs": [
    {
     "data": {
      "text/html": [
       "<div>\n",
       "<style scoped>\n",
       "    .dataframe tbody tr th:only-of-type {\n",
       "        vertical-align: middle;\n",
       "    }\n",
       "\n",
       "    .dataframe tbody tr th {\n",
       "        vertical-align: top;\n",
       "    }\n",
       "\n",
       "    .dataframe thead th {\n",
       "        text-align: right;\n",
       "    }\n",
       "</style>\n",
       "<table border=\"1\" class=\"dataframe\">\n",
       "  <thead>\n",
       "    <tr style=\"text-align: right;\">\n",
       "      <th></th>\n",
       "      <th>a</th>\n",
       "      <th>b</th>\n",
       "      <th>c</th>\n",
       "      <th>d</th>\n",
       "      <th>e</th>\n",
       "    </tr>\n",
       "  </thead>\n",
       "  <tbody>\n",
       "    <tr>\n",
       "      <th>0</th>\n",
       "      <td>C</td>\n",
       "      <td>3</td>\n",
       "      <td>X</td>\n",
       "      <td>722</td>\n",
       "      <td>112</td>\n",
       "    </tr>\n",
       "    <tr>\n",
       "      <th>1</th>\n",
       "      <td>A</td>\n",
       "      <td>1</td>\n",
       "      <td>X</td>\n",
       "      <td>289</td>\n",
       "      <td>553</td>\n",
       "    </tr>\n",
       "    <tr>\n",
       "      <th>2</th>\n",
       "      <td>A</td>\n",
       "      <td>1</td>\n",
       "      <td>Y</td>\n",
       "      <td>189</td>\n",
       "      <td>583</td>\n",
       "    </tr>\n",
       "    <tr>\n",
       "      <th>3</th>\n",
       "      <td>B</td>\n",
       "      <td>1</td>\n",
       "      <td>X</td>\n",
       "      <td>289</td>\n",
       "      <td>513</td>\n",
       "    </tr>\n",
       "    <tr>\n",
       "      <th>4</th>\n",
       "      <td>C</td>\n",
       "      <td>1</td>\n",
       "      <td>X</td>\n",
       "      <td>289</td>\n",
       "      <td>553</td>\n",
       "    </tr>\n",
       "  </tbody>\n",
       "</table>\n",
       "</div>"
      ],
      "text/plain": [
       "   a  b  c    d    e\n",
       "0  C  3  X  722  112\n",
       "1  A  1  X  289  553\n",
       "2  A  1  Y  189  583\n",
       "3  B  1  X  289  513\n",
       "4  C  1  X  289  553"
      ]
     },
     "execution_count": 43,
     "metadata": {},
     "output_type": "execute_result"
    }
   ],
   "source": [
    "df.head()"
   ]
  },
  {
   "cell_type": "code",
   "execution_count": 44,
   "id": "a609fe42",
   "metadata": {},
   "outputs": [
    {
     "data": {
      "text/plain": [
       "{'a', 'b', 'c', 'd', 'e'}"
      ]
     },
     "execution_count": 44,
     "metadata": {},
     "output_type": "execute_result"
    }
   ],
   "source": [
    "schema"
   ]
  },
  {
   "cell_type": "markdown",
   "id": "aaa63ee2",
   "metadata": {},
   "source": [
    "### Layout functions"
   ]
  },
  {
   "cell_type": "code",
   "execution_count": 45,
   "id": "d1f43e3e",
   "metadata": {},
   "outputs": [],
   "source": [
    "def layout_lattice(basket):\n",
    "    from itertools import combinations\n",
    "    from scipy.special import binom\n",
    "    G = nx.DiGraph()\n",
    "    len_max, pos = binom(len(basket), len(basket)/2), {}\n",
    "    for k in range(1, len(basket)+1):\n",
    "        sorted_nodes_at_level = sort([set(e) for e in combinations(basket, k)])\n",
    "        G.add_nodes_from(sorted_nodes_at_level)\n",
    "        for p, n in enumerate(sorted_nodes_at_level):\n",
    "            pos[n] = (p + 0.5 * (len_max - len(sorted_nodes_at_level)), k-len(basket))\n",
    "        nx.draw_networkx_nodes(G, pos, nodelist=sorted_nodes_at_level, node_color='tab:grey')\n",
    "        \n",
    "    return G, pos"
   ]
  },
  {
   "cell_type": "code",
   "execution_count": 46,
   "id": "0ecdbd0e",
   "metadata": {},
   "outputs": [],
   "source": [
    "def mark_as_visited_sup(E, F):\n",
    "    if not plot_lattice: return\n",
    "    nx.draw_networkx_nodes(viz[0], viz[1], nodelist=sort(E), node_color='tab:red')\n",
    "    nx.draw_networkx_nodes(viz[0], viz[1], nodelist=sort(F), node_color='tab:green')\n",
    "    nx.draw_networkx_labels(viz[0], viz[1], font_size=8, font_color=\"whitesmoke\")\n",
    "    plt.show()\n",
    "    plt.pause(1)\n",
    "\n",
    "def mark_as_visited_gen(f, s):\n",
    "    if not plot_lattice: return\n",
    "    edges = [(sort_single(f), sort_single(s))]\n",
    "    viz[0].add_edges_from(edges)\n",
    "    nx.draw_networkx_edges(viz[0], viz[1], edgelist=edges, arrows=False)"
   ]
  },
  {
   "cell_type": "markdown",
   "id": "7050a993",
   "metadata": {},
   "source": [
    "### Helper functions"
   ]
  },
  {
   "cell_type": "code",
   "execution_count": 47,
   "id": "f9b109f9",
   "metadata": {},
   "outputs": [],
   "source": [
    "def sort_single(s):\n",
    "    return ''.join(sorted(list(s)))\n",
    "\n",
    "def sort(F):\n",
    "    return sorted(sort_single(s) for s in F)"
   ]
  },
  {
   "cell_type": "code",
   "execution_count": 48,
   "id": "f27ae42f",
   "metadata": {},
   "outputs": [],
   "source": [
    "# original to keep\n",
    "def pli_single(a, D):\n",
    "    pli = {}\n",
    "    for row in range(D.shape[0]):\n",
    "        key = D.at[row, a]\n",
    "        if key in pli:\n",
    "            pli[key].add(row)\n",
    "        else:\n",
    "            pli[key] = { row }\n",
    "    return list(v for v in pli.values() if len(v) > 1)"
   ]
  },
  {
   "cell_type": "code",
   "execution_count": 49,
   "id": "ae674e09",
   "metadata": {},
   "outputs": [],
   "source": [
    "# original to keep\n",
    "def pli_intersect(p1, p2):\n",
    "    pli, prob = {}, {}\n",
    "    for c, s in enumerate(p1):\n",
    "        for row in s:\n",
    "            prob[row] = c\n",
    "    for c, s in enumerate(p2):\n",
    "        for row in s:\n",
    "            if row in prob:\n",
    "                key = (c, prob[row])\n",
    "                if key in pli:\n",
    "                    pli[key].add(row)\n",
    "                else:\n",
    "                    pli[key] = { row }\n",
    "            \n",
    "    return list(v for v in pli.values() if len(v) > 1)"
   ]
  },
  {
   "cell_type": "code",
   "execution_count": 50,
   "id": "ba8823de",
   "metadata": {},
   "outputs": [],
   "source": [
    "def intersection_sets (set_1, set_2):\n",
    "    \n",
    "    '''Finding the common chars for both strings\n",
    "        \n",
    "    '''\n",
    "    result = set() \n",
    "    for e in set_1:\n",
    "        if e in set_2:\n",
    "            result.add(e)\n",
    "    return result"
   ]
  },
  {
   "cell_type": "code",
   "execution_count": 51,
   "id": "71888a4a",
   "metadata": {},
   "outputs": [],
   "source": [
    "#rachel\n",
    "def set_intersect(X, C):\n",
    "    \n",
    "    '''\n",
    "    e.g.\n",
    "    Input:\n",
    "    X = {'b', 'a'}\n",
    "    C = {'d': {'a', 'b', 'c', 'd', 'e'}, 'e': {'a', 'b', 'c', 'd', 'e'}, 'b': {'a', 'b', 'c'}, 'c': {'a', 'b', 'c', 'd', 'e'}, 'a': {'a', 'c', 'e'}}\n",
    "    set_intersect(X, C)\n",
    "    \n",
    "    Output:\n",
    "    {'ab': {'a', c'}}\n",
    "    \n",
    "    '''\n",
    "    intersection = {} \n",
    "    X = sort_single(X)\n",
    "    for key, value in C.items():\n",
    "        if all (k in X for k in key):\n",
    "            if X in intersection:\n",
    "                intersection[X]= intersection_sets (intersection[X], value)\n",
    "            else:\n",
    "                intersection[X] = value\n",
    "    return intersection"
   ]
  },
  {
   "cell_type": "code",
   "execution_count": 52,
   "id": "e7f821e9",
   "metadata": {},
   "outputs": [],
   "source": [
    "#rachel \n",
    "def get_cardinality (list_of_sets):\n",
    "    '''calculates the cardinality of a list of sets\n",
    "    \n",
    "    e.g. \n",
    "    \n",
    "    Input   \n",
    "    list_of_sets = [{0, 4}, {1, 2}]\n",
    "    get_cardinality (list_of_sets)\n",
    "    \n",
    "    Output\n",
    "    4\n",
    "    '''\n",
    "    count = 0\n",
    "    for s in list_of_sets: #for each set in list of sets\n",
    "        for e in s: # for each element in set\n",
    "            count += 1\n",
    "    return count"
   ]
  },
  {
   "cell_type": "code",
   "execution_count": 53,
   "id": "4c0251da",
   "metadata": {},
   "outputs": [],
   "source": [
    "#rachel\n",
    "def is_valid(X, A, pli):\n",
    "    ''' X\\A->A - Check if is a functional dependency\n",
    "    Use key-error and pli to infer FDs (key error can be used with pli and stripped-pli): \n",
    "    X->y\n",
    "    pli(X)=pli(XY)\n",
    "    cr(X)=Cr(XY) \n",
    "               \n",
    "    Therefore:\n",
    "    X\\A->A \n",
    "    Cr(X\\A) = Cr(X)    \n",
    "    \n",
    "    e.g.\n",
    "    \n",
    "    Input:\n",
    "    X = {'b', 'd'}\n",
    "    A = 'b'\n",
    "    pli = {'d': [{1, 3, 4}], 'e': [{1, 4}], 'b': [{1, 2, 3, 4}], 'c': [{0, 1, 3, 4}], 'a': [{0, 4}, {1, 2}], 'ab': [{1, 2}], 'ac': [{0, 4}], 'ad': [], 'ae': [], 'bc': [{1, 3, 4}], 'bd': [{1, 3, 4}], 'be': [{1, 4}], 'cd': [{1, 3, 4}], 'ce': [{1, 4}], 'de': [{1, 4}]}\n",
    "    is_valid(X, A, pli)\n",
    "    \n",
    "    Output:\n",
    "    True\n",
    "    '''\n",
    "\n",
    "    pli_X_wth_A = pli[sort_single(X).replace(A, '')]\n",
    "    key_error_X_wth_A = get_cardinality(pli_X_wth_A) - len(pli_X_wth_A) \n",
    "    \n",
    "    pli_X = pli[sort_single(X)]\n",
    "    key_error_X = get_cardinality(pli_X) - len(pli_X)\n",
    "    \n",
    "    if  key_error_X_wth_A == key_error_X:\n",
    "        return True\n",
    "    else:\n",
    "        return False"
   ]
  },
  {
   "cell_type": "code",
   "execution_count": 54,
   "id": "f22ea263",
   "metadata": {},
   "outputs": [],
   "source": [
    "#rachel\n",
    "def is_key(X, pli):\n",
    "    ''' Check if X is a (super)key \n",
    "        verify if key_error_X = 0\n",
    "    \n",
    "    '''   \n",
    "    pli_X = pli[sort_single(X)]\n",
    "    key_error_X = get_cardinality(pli_X) - len(pli_X)\n",
    "    \n",
    "    if  key_error_X == 0:\n",
    "        return True\n",
    "    else:\n",
    "        return False"
   ]
  },
  {
   "cell_type": "markdown",
   "id": "ec79c831",
   "metadata": {},
   "source": [
    "### Funtional dependency discovery algorithm"
   ]
  },
  {
   "cell_type": "code",
   "execution_count": 55,
   "id": "edb481a9",
   "metadata": {},
   "outputs": [],
   "source": [
    "#rachel\n",
    "def apriori_fd_discovery(schema, table):\n",
    "    '''\n",
    "    Ej: Candidates LHSs\n",
    "    Fj: validated LHSs\n",
    "    Cj: candidates RHSs for LHSs\n",
    "    \n",
    "    Format: \n",
    "    E: [{'c', 'b', 'a'}, {'d', 'c', 'b'}, {'e', 'c', 'b'}, {'d', 'b', 'e'}, {'d', 'c', 'e'}]\n",
    "    pli: {'ad': [], 'ae': [], 'abc': [], 'bcd': [{1, 3, 4}], 'bce': [{1, 4}], 'bde': [{1, 4}], 'cde': [{1, 4}]}\n",
    "    C = {'d': {'a', 'b', 'c', 'd', 'e'}, 'e': {'a', 'b', 'c', 'd', 'e'}, 'b': {'a', 'b', 'c', 'd', 'e'}, 'c': {'a', 'b', 'c', 'd', 'e'}, 'a': {'a', 'b', 'c', 'd', 'e'}} \n",
    "       \n",
    "    '''\n",
    "    k=1\n",
    "    U = []\n",
    "    E, pli = [set(a) for a in schema], {a: pli_single(a, table) for a in schema} # single attribute sets and PLIs\n",
    "    C = {sort_single(a): schema for a in schema} # canidates sets for single attributes\n",
    "    F, U = prune(E, pli, C) # determine the non-unique ones \n",
    "    print('\\n','E:', E, '\\n', 'pli:', pli, '\\n', 'C:', C, '\\n', 'F:', F)\n",
    "    while len(F)!=0: # while there are non-dependent LHSs \n",
    "        E, pli_next = candidates(F, pli) # create candidate LHSs with one attribute more and PLIs\n",
    "        pli.update(pli_next)\n",
    "        C, U_next_1 = dependencies (E, pli, C) # create candidate RHSs for new candidate LHSs\n",
    "        print('\\n','E:', E, '\\n', 'pli:', pli, '\\n', 'C:', C)\n",
    "        F, U_next_2 = prune(E, pli, C) # and determine the non-dependent LHSs\n",
    "                              # increment again the LHSs size \n",
    "        U = U + U_next_1 + U_next_2\n",
    "        U = sorted(U, key = lambda i: (len(i[0]), i[0]))\n",
    "        print('\\n', 'U:', U)\n",
    "        print('\\n', 'F:', F)\n",
    "        print('--> done with level', k, ' - FDs: ', end =\"\")\n",
    "        print(['%s -> %s' % (sort_single(set(u[0])),u[1]) for u in U if len(u[0]) == k]),\n",
    "        k=k+1\n",
    "    return U # return the functional dependencies"
   ]
  },
  {
   "cell_type": "code",
   "execution_count": 56,
   "id": "66f715e2",
   "metadata": {},
   "outputs": [],
   "source": [
    "# original to keep\n",
    "def candidates(F, pli):\n",
    "    '''   \n",
    "    Format:\n",
    "    E: [{'b', 'a'}, {'c', 'a'}, {'d', 'a'}, {'e', 'a'}, {'c', 'b'}]\n",
    "    pli: {'c': [{0, 1, 3, 4}], 'e': [{1, 4}], 'b': [{1, 2, 3, 4}], 'd': [{1, 3, 4}], 'ab': [{1, 2}], 'ac': [{0, 4}], 'ad': [], 'ae': [], 'bc': [{1, 3, 4}]}\n",
    "    \n",
    "    '''    \n",
    "    pli_next = pli.copy()\n",
    "    Fs, E_next = sort(F), []\n",
    "    for i1 in range(len(Fs)):\n",
    "        for i2 in range(i1+1, len(Fs)):\n",
    "            if Fs[i1][:-1] == Fs[i2][:-1] and Fs[i1][-1] < Fs[i2][-1]:\n",
    "                f = set(fs for fs in Fs[i1]).union({Fs[i2][-1]})\n",
    "                superset = len(f)\n",
    "                for i in f:\n",
    "                    if f.difference({i}) in F:\n",
    "                        superset -= 1\n",
    "                if not superset:\n",
    "                    E_next.append(f)\n",
    "                    pli_next[sort_single(f)] = pli_intersect(pli_next[sort_single(Fs[i1])],\n",
    "                                                        pli_next[sort_single(Fs[i2])])\n",
    "                    mark_as_visited_gen(f, set(s for s in Fs[i1]))\n",
    "        del pli[sort_single(Fs[i1])]\n",
    "    return E_next, pli_next"
   ]
  },
  {
   "cell_type": "code",
   "execution_count": 57,
   "id": "ac69a8d1",
   "metadata": {},
   "outputs": [],
   "source": [
    "#rachel\n",
    "def dependencies(E, pli, C): \n",
    "    '''\n",
    "    INPUTs:\n",
    "    E = [{'b', 'a'}, {'c', 'a'}, {'d', 'a'}, {'e', 'a'}, {'c', 'b'}, {'d', 'b'}, {'e', 'b'}, {'d', 'c'}, {'c', 'e'}, {'d', 'e'}] \n",
    "    pli = {'d': [{1, 3, 4}], 'e': [{1, 4}], 'b': [{1, 2, 3, 4}], 'c': [{0, 1, 3, 4}], 'a': [{0, 4}, {1, 2}], 'ab': [{1, 2}], 'ac': [{0, 4}], 'ad': [], 'ae': [], 'bc': [{1, 3, 4}], 'bd': [{1, 3, 4}], 'be': [{1, 4}], 'cd': [{1, 3, 4}], 'ce': [{1, 4}], 'de': [{1, 4}]} \n",
    "    C = {'d': {'a', 'b', 'c', 'd', 'e'}, 'e': {'a', 'b', 'c', 'd', 'e'}, 'b': {'a', 'b', 'c', 'd', 'e'}, 'c': {'a', 'b', 'c', 'd', 'e'}, 'a': {'a', 'b', 'c', 'd', 'e'}} \n",
    "    dependencies(E, pli, C)\n",
    " \n",
    "    E.g.\n",
    "    LHS = left hand size = X = {'b', 'c', 'e'}\n",
    "    RHS = right hand size = X-A = {'c', 'e'}\n",
    "    A = {'b'}\n",
    "    '''\n",
    "\n",
    "    Cd  = {} # initialize the set of rhs candidates\n",
    "    U = []\n",
    "    for X in E: # traverse the lhs candidates\n",
    "        rhs = set_intersect(X, C) # Add rhs candidates from previous level\n",
    "        Cd.update(rhs)\n",
    "    for X in E: # traverse the lhs candidates (change for x, pli!!)\n",
    "        for A in sort_single(X):\n",
    "            if A in Cd[sort_single(X)]: # traverse the rhs candidates\n",
    "                if is_valid (X, A, pli): # check if valid using key error and pli\n",
    "                    print ('***FD***', X,'/',A, '-->', A) # then is a minimal funtional dependency                                [C1]\n",
    "                    U_A = [x for x in X if x != A] # U-A\n",
    "                    U.append((sort(U_A), A))\n",
    "                    Cd[sort_single(X)] = Cd[sort_single(X)]-{A} # remove from RHS candidates [C1]\n",
    "                    print ('C1 - C[', X, ']:', Cd[sort_single(X)])\n",
    "                    for B in (schema-X): # traverse the candidates\n",
    "                        Cd[sort_single(X)] = Cd[sort_single(X)]-{B} # remove from RHS candidates [C2]\n",
    "                    print ('C2 - C[', X, ']:', Cd[sort_single(X)])\n",
    "    return Cd, U #return the pruned RHS candidates sets and the funtional dependencies"
   ]
  },
  {
   "cell_type": "code",
   "execution_count": 58,
   "id": "fa486a4e",
   "metadata": {},
   "outputs": [],
   "source": [
    "#rachel\n",
    "def prune(E, pli, C):  \n",
    "    '''\n",
    "    Formats:\n",
    "    E = [{'b', 'a'}, {'c', 'a'}, {'d', 'a'}, {'e', 'a'}, {'c', 'b'}, {'d', 'b'}, {'e', 'b'}, {'d', 'c'}, {'c', 'e'}, {'d', 'e'}] \n",
    "    pli = {'a': [{0, 4}, {1, 2}], 'c': [{0, 1, 3, 4}], 'd': [{1, 3, 4}], 'b': [{1, 2, 3, 4}], 'e': [{1, 4}], 'ad': [], 'ae': [], 'ab': [{1, 2}], 'ac': [{0, 4}], 'bc': [{1, 3, 4}], 'bd': [{1, 3, 4}], 'be': [{1, 4}], 'cd': [{1, 3, 4}], 'ce': [{1, 4}], 'de': [{1, 4}], 'abc': [], 'bcd': [{1, 3, 4}], 'bce': [{1, 4}], 'bde': [{1, 4}], 'cde': [{1, 4}]}\n",
    "\n",
    "    C = {'ab': {'a', 'b', 'c', 'd', 'e'}, 'ac': {'a', 'b', 'c', 'd', 'e'}, 'ad': {'a', 'b', 'c', 'd', 'e'}, 'ae': {'a', 'b', 'c', 'd', 'e'}, 'bc': '{'a', 'b', 'c', 'd', 'e'}, 'bd': {'d'}, 'be': {'e'}, 'cd': {'d'}, 'ce': {'e'}, 'de': {'e'}}\n",
    "    X = {'d', 'a'}\n",
    "    U = []\n",
    "    '''\n",
    "    U=[]\n",
    "    F = E.copy() # initialize the set of LHSs candidates\n",
    "    for X in E: # traverse the candidates\n",
    "        if len(C[sort_single(X)])==0: # if a LHS there is no RHS candidate\n",
    "            F.remove(X) # remove the LHS form the prefix tree\n",
    "        if is_key(X, pli): # check if is a (super)key using key-error and pli\n",
    "            print (sort_single(X) ,'is key')\n",
    "            for A in ([x for x in C[sort_single(X)] if x not in sort_single(X)]): # traverse the RHSs candidates of X [and iterate in each candidate C[X] - X\n",
    "                keys_XA_B = [sort_single(X.union(A)).replace(B,\"\") for B in sort_single(X)] #C[X+A-B] if RHS in all C of augmented LHS subsets [C3]\n",
    "                print ('keys_XA_B', keys_XA_B)  \n",
    "                if all (key in C for key in keys_XA_B): # [Check if exist all augmented LHS subsets]\n",
    "                    #print ('all keys present')\n",
    "                    #print ('C', C)\n",
    "                    if all(A in C[k] for k in keys_XA_B): #if RHS in all C of augmented LHS subsets [C3]\n",
    "                        print ('***FD***', sort_single(X), \"-->\", A, 'Minimal') # then it is a minimal FD\n",
    "                        U.append((sort(list(X)), A))\n",
    "            F.remove(X) # remove the LHS from the prefix tree (everything after this will not be minimal) [key-pruning]  \n",
    "    mark_as_visited_sup(E, F)\n",
    "    return F, U # return the pruned set of candidates and the funtional dependencies"
   ]
  },
  {
   "cell_type": "code",
   "execution_count": 59,
   "id": "bf3f4ea7",
   "metadata": {},
   "outputs": [
    {
     "data": {
      "text/plain": [
       "\" e.g. C3\\n\\nE = [{'b', 'a'}, {'c', 'a'}, {'d', 'a'}, {'e', 'a'}, {'c', 'b'}, {'d', 'b'}, {'e', 'b'}, {'d', 'c'}, {'c', 'e'}, {'d', 'e'}] \\npli = {'a': [{0, 4}, {1, 2}], 'c': [{0, 1, 3, 4}], 'd': [{1, 3, 4}], 'b': [{1, 2, 3, 4}], 'e': [{1, 4}], 'ad': [], 'ae': [], 'ab': [{1, 2}], 'ac': [{0, 4}], 'bc': [{1, 3, 4}], 'bd': [{1, 3, 4}], 'be': [{1, 4}], 'cd': [{1, 3, 4}], 'ce': [{1, 4}], 'de': [{1, 4}], 'abc': [], 'bcd': [{1, 3, 4}], 'bce': [{1, 4}], 'bde': [{1, 4}], 'cde': [{1, 4}]}\\nU = []\\n\\nC = {'ab': {'a', 'b', 'c', 'd', 'e'}, 'ac': {'a', 'b', 'c', 'd', 'e'}, 'ad': {'a', 'b', 'c', 'd', 'e'}, 'ae': {'a', 'b', 'c', 'd', 'e'}, 'bc': '{'a', 'b', 'c', 'd', 'e'}, 'bd': {'d'}, 'be': {'e'}, 'cd': {'d'}, 'ce': {'e'}, 'de': {'e'}}  \\nX = {'d', 'e'}\\n\\n# if X is (super)key... in this case X='da'\\n# you loop through every candidate in C+(X) - X... in this case 'bce' \\n# Look the values for C[X+A-B]... in this case, when A=b and iterate B... [ad +b -a], [ad +b -d]\\n#                                                            for A=b>>    [bd], [ab]\\n# And then... do the same for A=c and iterate b...           for A=c>>    [cd], [ac]\\n#                         for A=e...                         for A=e>>    [de], [ae]\\n# X-->A if A belongs to every candidate sets - false for A=b and A=c\\nX-->A if A belongs to every candidate sets - true for A=e!\\n\\n'ad-->e'\\n\""
      ]
     },
     "execution_count": 59,
     "metadata": {},
     "output_type": "execute_result"
    }
   ],
   "source": [
    "''' e.g. C3\n",
    "\n",
    "E = [{'b', 'a'}, {'c', 'a'}, {'d', 'a'}, {'e', 'a'}, {'c', 'b'}, {'d', 'b'}, {'e', 'b'}, {'d', 'c'}, {'c', 'e'}, {'d', 'e'}] \n",
    "pli = {'a': [{0, 4}, {1, 2}], 'c': [{0, 1, 3, 4}], 'd': [{1, 3, 4}], 'b': [{1, 2, 3, 4}], 'e': [{1, 4}], 'ad': [], 'ae': [], 'ab': [{1, 2}], 'ac': [{0, 4}], 'bc': [{1, 3, 4}], 'bd': [{1, 3, 4}], 'be': [{1, 4}], 'cd': [{1, 3, 4}], 'ce': [{1, 4}], 'de': [{1, 4}], 'abc': [], 'bcd': [{1, 3, 4}], 'bce': [{1, 4}], 'bde': [{1, 4}], 'cde': [{1, 4}]}\n",
    "U = []\n",
    "\n",
    "C = {'ab': {'a', 'b', 'c', 'd', 'e'}, 'ac': {'a', 'b', 'c', 'd', 'e'}, 'ad': {'a', 'b', 'c', 'd', 'e'}, 'ae': {'a', 'b', 'c', 'd', 'e'}, 'bc': '{'a', 'b', 'c', 'd', 'e'}, 'bd': {'d'}, 'be': {'e'}, 'cd': {'d'}, 'ce': {'e'}, 'de': {'e'}}  \n",
    "X = {'d', 'e'}\n",
    "\n",
    "# if X is (super)key... in this case X='da'\n",
    "# you loop through every candidate in C+(X) - X... in this case 'bce' \n",
    "# Look the values for C[X+A-B]... in this case, when A=b and iterate B... [ad +b -a], [ad +b -d]\n",
    "#                                                            for A=b>>    [bd], [ab]\n",
    "# And then... do the same for A=c and iterate b...           for A=c>>    [cd], [ac]\n",
    "#                         for A=e...                         for A=e>>    [de], [ae]\n",
    "# X-->A if A belongs to every candidate sets - false for A=b and A=c\n",
    "X-->A if A belongs to every candidate sets - true for A=e!\n",
    "\n",
    "'ad-->e'\n",
    "'''"
   ]
  },
  {
   "cell_type": "code",
   "execution_count": 60,
   "id": "52c5bc5a",
   "metadata": {},
   "outputs": [
    {
     "data": {
      "text/plain": [
       "\" e.g. C3 (ilustrative, not real)\\n\\nE = [{'c', 'b', 'a'}, {'d', 'c', 'b'}, {'e', 'c', 'b'}, {'d', 'b', 'e'}, {'d', 'c', 'e'}]\\npli = {'a': [{0, 4}, {1, 2}], 'c': [{0, 1, 3, 4}], 'd': [{1, 3, 4}], 'b': [{1, 2, 3, 4}], 'e': [{1, 4}], 'ad': [], 'ae': [], 'ab': [{1, 2}], 'ac': [{0, 4}], 'bc': [{1, 3, 4}], 'bd': [{1, 3, 4}], 'be': [{1, 4}], 'cd': [{1, 3, 4}], 'ce': [{1, 4}], 'de': [{1, 4}], 'abc': [], 'bcd': [{1, 3, 4}], 'bce': [{1, 4}], 'bde': [{1, 4}], 'cde': [{1, 4}]}\\nU = {}\\n\\nC = {'abc': 'abcde', 'abe': 'e', 'ace': 'e', 'bcd': 'd', 'bce': 'e', 'bde': '', 'cde': ''}\\nX = {'a', 'b', 'c'}\\n\\n# if X is (super)key, \\n# you loop through every candidate in C+(X) - X... in this case 'de' \\n# Look the values for C[X+A-B]... in this case A=d and iterate b... [abc +d -a], [abc +d -b], [abc +d -c]\\n#                                                      for d= [bcd], [acd], [abd]\\n# And then... do the same A=e and iterate b...         for e = [bce], [ace], [abe]\\n# X-->A if A belongs to every candidate sets - false # in this case 'acd' and 'abd' do not exist!\\n# X-->A if A belongs to every candidate sets - true\\n\\n'abc-->e'\\n\""
      ]
     },
     "execution_count": 60,
     "metadata": {},
     "output_type": "execute_result"
    }
   ],
   "source": [
    "''' e.g. C3 (ilustrative, not real)\n",
    "\n",
    "E = [{'c', 'b', 'a'}, {'d', 'c', 'b'}, {'e', 'c', 'b'}, {'d', 'b', 'e'}, {'d', 'c', 'e'}]\n",
    "pli = {'a': [{0, 4}, {1, 2}], 'c': [{0, 1, 3, 4}], 'd': [{1, 3, 4}], 'b': [{1, 2, 3, 4}], 'e': [{1, 4}], 'ad': [], 'ae': [], 'ab': [{1, 2}], 'ac': [{0, 4}], 'bc': [{1, 3, 4}], 'bd': [{1, 3, 4}], 'be': [{1, 4}], 'cd': [{1, 3, 4}], 'ce': [{1, 4}], 'de': [{1, 4}], 'abc': [], 'bcd': [{1, 3, 4}], 'bce': [{1, 4}], 'bde': [{1, 4}], 'cde': [{1, 4}]}\n",
    "U = {}\n",
    "\n",
    "C = {'abc': 'abcde', 'abe': 'e', 'ace': 'e', 'bcd': 'd', 'bce': 'e', 'bde': '', 'cde': ''}\n",
    "X = {'a', 'b', 'c'}\n",
    "\n",
    "# if X is (super)key, \n",
    "# you loop through every candidate in C+(X) - X... in this case 'de' \n",
    "# Look the values for C[X+A-B]... in this case A=d and iterate b... [abc +d -a], [abc +d -b], [abc +d -c]\n",
    "#                                                      for d= [bcd], [acd], [abd]\n",
    "# And then... do the same A=e and iterate b...         for e = [bce], [ace], [abe]\n",
    "# X-->A if A belongs to every candidate sets - false # in this case 'acd' and 'abd' do not exist!\n",
    "# X-->A if A belongs to every candidate sets - true\n",
    "\n",
    "'abc-->e'\n",
    "'''"
   ]
  },
  {
   "cell_type": "markdown",
   "id": "b3a98e48",
   "metadata": {},
   "source": [
    "### Run"
   ]
  },
  {
   "cell_type": "code",
   "execution_count": 61,
   "id": "4345ffb1",
   "metadata": {},
   "outputs": [
    {
     "data": {
      "image/png": "[encoded data removed]",
      "text/plain": [
       "<Figure size 432x288 with 1 Axes>"
      ]
     },
     "metadata": {},
     "output_type": "display_data"
    }
   ],
   "source": [
    "if plot_lattice:\n",
    "    viz = layout_lattice(schema)\n",
    "    plt.ion()"
   ]
  },
  {
   "cell_type": "code",
   "execution_count": 62,
   "id": "9852bf98",
   "metadata": {},
   "outputs": [
    {
     "name": "stdout",
     "output_type": "stream",
     "text": [
      "   a  b  c    d    e\n",
      "0  C  3  X  722  112\n",
      "1  A  1  X  289  553\n",
      "2  A  1  Y  189  583\n",
      "3  B  1  X  289  513\n",
      "4  C  1  X  289  553\n",
      "\n",
      "Funtional dependency discovery on abcde\n"
     ]
    },
    {
     "data": {
      "image/png": "[encoded data removed]",
      "text/plain": [
       "<Figure size 432x288 with 1 Axes>"
      ]
     },
     "metadata": {},
     "output_type": "display_data"
    },
    {
     "name": "stdout",
     "output_type": "stream",
     "text": [
      "\n",
      " E: [{'d'}, {'c'}, {'a'}, {'e'}, {'b'}] \n",
      " pli: {'d': [{1, 3, 4}], 'c': [{0, 1, 3, 4}], 'a': [{0, 4}, {1, 2}], 'e': [{1, 4}], 'b': [{1, 2, 3, 4}]} \n",
      " C: {'d': {'d', 'c', 'a', 'e', 'b'}, 'c': {'d', 'c', 'a', 'e', 'b'}, 'a': {'d', 'c', 'a', 'e', 'b'}, 'e': {'d', 'c', 'a', 'e', 'b'}, 'b': {'d', 'c', 'a', 'e', 'b'}} \n",
      " F: [{'d'}, {'c'}, {'a'}, {'e'}, {'b'}]\n",
      "***FD*** {'d', 'b'} / b --> b\n",
      "C1 - C[ {'d', 'b'} ]: {'d', 'c', 'e', 'a'}\n",
      "C2 - C[ {'d', 'b'} ]: {'d'}\n",
      "***FD*** {'e', 'b'} / b --> b\n",
      "C1 - C[ {'e', 'b'} ]: {'d', 'c', 'e', 'a'}\n",
      "C2 - C[ {'e', 'b'} ]: {'e'}\n",
      "***FD*** {'d', 'c'} / c --> c\n",
      "C1 - C[ {'d', 'c'} ]: {'d', 'b', 'e', 'a'}\n",
      "C2 - C[ {'d', 'c'} ]: {'d'}\n",
      "***FD*** {'e', 'c'} / c --> c\n",
      "C1 - C[ {'e', 'c'} ]: {'d', 'b', 'e', 'a'}\n",
      "C2 - C[ {'e', 'c'} ]: {'e'}\n",
      "***FD*** {'d', 'e'} / d --> d\n",
      "C1 - C[ {'d', 'e'} ]: {'c', 'b', 'e', 'a'}\n",
      "C2 - C[ {'d', 'e'} ]: {'e'}\n",
      "\n",
      " E: [{'b', 'a'}, {'c', 'a'}, {'d', 'a'}, {'e', 'a'}, {'c', 'b'}, {'d', 'b'}, {'e', 'b'}, {'d', 'c'}, {'e', 'c'}, {'d', 'e'}] \n",
      " pli: {'d': [{1, 3, 4}], 'c': [{0, 1, 3, 4}], 'a': [{0, 4}, {1, 2}], 'e': [{1, 4}], 'b': [{1, 2, 3, 4}], 'ab': [{1, 2}], 'ac': [{0, 4}], 'ad': [], 'ae': [], 'bc': [{1, 3, 4}], 'bd': [{1, 3, 4}], 'be': [{1, 4}], 'cd': [{1, 3, 4}], 'ce': [{1, 4}], 'de': [{1, 4}]} \n",
      " C: {'ab': {'d', 'a', 'c', 'e', 'b'}, 'ac': {'d', 'a', 'c', 'e', 'b'}, 'ad': {'d', 'a', 'c', 'e', 'b'}, 'ae': {'d', 'a', 'c', 'e', 'b'}, 'bc': {'d', 'a', 'c', 'e', 'b'}, 'bd': {'d'}, 'be': {'e'}, 'cd': {'d'}, 'ce': {'e'}, 'de': {'e'}}\n",
      "ad is key\n",
      "keys_XA_B ['cd', 'ac']\n",
      "keys_XA_B ['de', 'ae']\n",
      "***FD*** ad --> e C3\n",
      "keys_XA_B ['bd', 'ab']\n",
      "ae is key\n",
      "keys_XA_B ['de', 'ad']\n",
      "keys_XA_B ['ce', 'ac']\n",
      "keys_XA_B ['be', 'ab']\n"
     ]
    },
    {
     "data": {
      "image/png": "[encoded data removed]",
      "text/plain": [
       "<Figure size 432x288 with 1 Axes>"
      ]
     },
     "metadata": {},
     "output_type": "display_data"
    },
    {
     "name": "stdout",
     "output_type": "stream",
     "text": [
      "\n",
      " U: [(['d'], 'b'), (['d'], 'c'), (['e'], 'b'), (['e'], 'c'), (['e'], 'd'), (['a', 'd'], 'e')]\n",
      "\n",
      " F: [{'b', 'a'}, {'c', 'a'}, {'c', 'b'}, {'d', 'b'}, {'e', 'b'}, {'d', 'c'}, {'e', 'c'}, {'d', 'e'}]\n",
      "--> done with level 1  - FDs: ['d -> b', 'd -> c', 'e -> b', 'e -> c', 'e -> d']\n",
      "***FD*** {'d', 'c', 'b'} / d --> d\n",
      "C1 - C[ {'d', 'c', 'b'} ]: set()\n",
      "C2 - C[ {'d', 'c', 'b'} ]: set()\n",
      "\n",
      " E: [{'c', 'b', 'a'}, {'d', 'c', 'b'}, {'c', 'e', 'b'}, {'d', 'e', 'b'}, {'d', 'e', 'c'}] \n",
      " pli: {'d': [{1, 3, 4}], 'c': [{0, 1, 3, 4}], 'a': [{0, 4}, {1, 2}], 'e': [{1, 4}], 'b': [{1, 2, 3, 4}], 'ad': [], 'ae': [], 'ab': [{1, 2}], 'ac': [{0, 4}], 'bc': [{1, 3, 4}], 'bd': [{1, 3, 4}], 'be': [{1, 4}], 'cd': [{1, 3, 4}], 'ce': [{1, 4}], 'de': [{1, 4}], 'abc': [], 'bcd': [{1, 3, 4}], 'bce': [{1, 4}], 'bde': [{1, 4}], 'cde': [{1, 4}]} \n",
      " C: {'abc': {'d', 'a', 'c', 'e', 'b'}, 'bcd': set(), 'bce': {'e'}, 'bde': set(), 'cde': set()}\n",
      "abc is key\n",
      "keys_XA_B ['bcd', 'acd', 'abd']\n",
      "keys_XA_B ['bce', 'ace', 'abe']\n"
     ]
    },
    {
     "data": {
      "image/png": "[encoded data removed]",
      "text/plain": [
       "<Figure size 432x288 with 1 Axes>"
      ]
     },
     "metadata": {},
     "output_type": "display_data"
    },
    {
     "name": "stdout",
     "output_type": "stream",
     "text": [
      "\n",
      " U: [(['d'], 'b'), (['d'], 'c'), (['e'], 'b'), (['e'], 'c'), (['e'], 'd'), (['a', 'd'], 'e'), (['b', 'c'], 'd')]\n",
      "\n",
      " F: [{'c', 'e', 'b'}]\n",
      "--> done with level 2  - FDs: ['ad -> e', 'bc -> d']\n",
      "\n",
      " E: [] \n",
      " pli: {'d': [{1, 3, 4}], 'c': [{0, 1, 3, 4}], 'a': [{0, 4}, {1, 2}], 'e': [{1, 4}], 'b': [{1, 2, 3, 4}], 'ad': [], 'ae': [], 'ab': [{1, 2}], 'ac': [{0, 4}], 'bc': [{1, 3, 4}], 'bd': [{1, 3, 4}], 'be': [{1, 4}], 'cd': [{1, 3, 4}], 'ce': [{1, 4}], 'de': [{1, 4}], 'abc': [], 'bcd': [{1, 3, 4}], 'bde': [{1, 4}], 'cde': [{1, 4}], 'bce': [{1, 4}]} \n",
      " C: {}\n"
     ]
    },
    {
     "data": {
      "image/png": "[encoded data removed]",
      "text/plain": [
       "<Figure size 432x288 with 1 Axes>"
      ]
     },
     "metadata": {},
     "output_type": "display_data"
    },
    {
     "name": "stdout",
     "output_type": "stream",
     "text": [
      "\n",
      " U: [(['d'], 'b'), (['d'], 'c'), (['e'], 'b'), (['e'], 'c'), (['e'], 'd'), (['a', 'd'], 'e'), (['b', 'c'], 'd')]\n",
      "\n",
      " F: []\n",
      "--> done with level 3  - FDs: []\n",
      "\n",
      "\n",
      "discovered 7 minimal FDs in 4.798936605453491  seconds\n",
      "\n",
      "***All FDs:\n",
      "['d -> b', 'd -> c', 'e -> b', 'e -> c', 'e -> d', 'ad -> e', 'bc -> d']\n"
     ]
    }
   ],
   "source": [
    "# run it\n",
    "print(df.head())\n",
    "print('')\n",
    "print('Funtional dependency discovery on', sort_single(schema))\n",
    "\n",
    "'''\n",
    "profile = ProfileReport(table, title=\"dataset\", explorative=True)\n",
    "profile.to_file(\"./report.html\")\n",
    "'''\n",
    "\n",
    "fd_start = time.time()\n",
    "fd = apriori_fd_discovery(schema, df)\n",
    "\n",
    "# print it\n",
    "print('\\n\\ndiscovered', len(fd), 'minimal FDs in', time.time() - fd_start, ' seconds')\n",
    "print('\\n***All FDs:')\n",
    "print(['%s -> %s' % (sort_single(set(u[0])),u[1]) for u in fd]),\n",
    "\n",
    "if plot_lattice:    \n",
    "    plt.ioff()\n",
    "    plt.show()"
   ]
  }
 ],
 "metadata": {
  "kernelspec": {
   "display_name": "Python 3 (ipykernel)",
   "language": "python",
   "name": "python3"
  },
  "language_info": {
   "codemirror_mode": {
    "name": "ipython",
    "version": 3
   },
   "file_extension": ".py",
   "mimetype": "text/x-python",
   "name": "python",
   "nbconvert_exporter": "python",
   "pygments_lexer": "ipython3",
   "version": "3.8.12"
  }
 },
 "nbformat": 4,
 "nbformat_minor": 5
}
